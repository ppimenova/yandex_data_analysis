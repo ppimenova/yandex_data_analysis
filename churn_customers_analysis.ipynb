{
 "cells": [
  {
   "cell_type": "markdown",
   "metadata": {},
   "source": [
    "#  Анализ оттока клиентов банка"
   ]
  },
  {
   "cell_type": "markdown",
   "metadata": {},
   "source": [
    "## Материалы\n",
    "[Презентация](https://disk.yandex.ru/d/XTXeZSb102Df7Q)\n",
    "\n",
    "[Дашборд](https://public.tableau.com/app/profile/ekaterina.pimenova/viz/_16820648273800/sheet12#2)"
   ]
  },
  {
   "cell_type": "markdown",
   "metadata": {},
   "source": [
    "В банке \"Метанпром\" по непонятным причинам наблюдается критический отток клиентов. Отдел маркентинга хочет придумать программу лояльности для их удержания, поэтому главная **цель проекта - выделить сегменты пользователей, которые перестают пользоваться услугами банка**\n",
    "\n",
    "**Описание данных**\n",
    "- `USERID` — идентификатор пользователя\n",
    "- `score` — баллы кредитного скоринга (показатель кредитоспосбности клиента)\n",
    "- `сity` — город\n",
    "- `gender` — пол\n",
    "- `age` — возраст\n",
    "- `equity`  — количество баллов собственности (некоторая оценка собственности клиента)\n",
    "- `balance` — баланс на счёте\n",
    "- `products` — количество продуктов, которыми пользуется клиент\n",
    "- `сredit_сard` — есть ли кредитная карта:\n",
    "    - 1 - есть кредитная карта\n",
    "    - 0 - кредитной карты нет\n",
    "- `last_activity` — активный клиент: \n",
    "    - 1 - клиент совершал какие-либо действия в последние 30 дней\n",
    "    - 0 - клиент не совершал никаких действий в последние 30 дней \n",
    "- `EST_SALARY` — заработная плата клиента,\n",
    "- `churn` — собирается ли клиент уйти:\n",
    "  - 1 - клиент собирается уйти\n",
    "  - 0 - клиент не собирается уходить"
   ]
  },
  {
   "cell_type": "markdown",
   "metadata": {},
   "source": [
    "**План проекта**\n",
    "1. [Загрузка данных и изучение общей информации](#start)\n",
    "2. [Предобработка данных](#preprocessing)\n",
    "    * [Изменение названий столбцов](#names)\n",
    "    * [Обработка пропущенных значений](#null)\n",
    "    * [Обработка дубликатов](#duplicates)\n",
    "    * [Обработка типов данных](#types)\n",
    "    * [Унитарное кодирование столбцов столбцов сity и gender](#unitary)\n",
    "3. [Исследовательский анализ данных](#analysis)\n",
    "    * [Изучение распределений и анализ выбросов](#distributions)\n",
    "    * [Корреляции со стобцом churn](#churn)\n",
    "    * [Категоризация данных](#categories)\n",
    "    * [Портрет отточного клиента](#portret)\n",
    "    * [Выводы](first_conclusions)\n",
    "4. [Проверка гипотез](#hypotheses)\n",
    "    * [Проверка первой гипотезы: различие дохода между теми клиентами, которые ушли и теми, которые остались](#first_hyp)\n",
    "    * [Проверка второй гипотезы: различие в баллах скоринга между теми клиентами, которые ушли, и теми, которые остались](#second_hyp)\n",
    "5. [Выводы о влиянии определенных признаков на отток клиентов](#mid_conclusions)\n",
    "6. [Сегментация отточных клиентов](#segments)\n",
    "    * [Выделение сегментов](#seg)\n",
    "    * [Рекомендации](#recs)\n",
    "7. [Общие выводы](#conclusions)"
   ]
  },
  {
   "cell_type": "markdown",
   "metadata": {},
   "source": [
    "## Загрузка данных и изучение общей информации \n",
    "<a id=\"start\"></a> "
   ]
  },
  {
   "cell_type": "code",
   "execution_count": 1,
   "metadata": {},
   "outputs": [],
   "source": [
    "import pandas as pd\n",
    "import numpy as np\n",
    "import seaborn as sns\n",
    "from matplotlib import pyplot as plt\n",
    "from scipy import stats \n",
    "pd.options.mode.chained_assignment = None \n",
    "from plotly import graph_objects as go\n",
    "import plotly.express as px\n"
   ]
  },
  {
   "cell_type": "code",
   "execution_count": 2,
   "metadata": {},
   "outputs": [],
   "source": [
    "path = \"https://drive.google.com/uc?export=download&id=1-U61mhTz_N1ARjy2XSAZ7IlQqGjeqP0F\" \n",
    "data = pd.read_csv(path)"
   ]
  },
  {
   "cell_type": "code",
   "execution_count": 3,
   "metadata": {},
   "outputs": [
    {
     "data": {
      "text/html": [
       "<div>\n",
       "<style scoped>\n",
       "    .dataframe tbody tr th:only-of-type {\n",
       "        vertical-align: middle;\n",
       "    }\n",
       "\n",
       "    .dataframe tbody tr th {\n",
       "        vertical-align: top;\n",
       "    }\n",
       "\n",
       "    .dataframe thead th {\n",
       "        text-align: right;\n",
       "    }\n",
       "</style>\n",
       "<table border=\"1\" class=\"dataframe\">\n",
       "  <thead>\n",
       "    <tr style=\"text-align: right;\">\n",
       "      <th></th>\n",
       "      <th>USERID</th>\n",
       "      <th>score</th>\n",
       "      <th>city</th>\n",
       "      <th>gender</th>\n",
       "      <th>age</th>\n",
       "      <th>equity</th>\n",
       "      <th>balance</th>\n",
       "      <th>products</th>\n",
       "      <th>credit_card</th>\n",
       "      <th>last_activity</th>\n",
       "      <th>EST_SALARY</th>\n",
       "      <th>churn</th>\n",
       "    </tr>\n",
       "  </thead>\n",
       "  <tbody>\n",
       "    <tr>\n",
       "      <th>0</th>\n",
       "      <td>183012</td>\n",
       "      <td>850.0</td>\n",
       "      <td>Рыбинск</td>\n",
       "      <td>Ж</td>\n",
       "      <td>25.0</td>\n",
       "      <td>1</td>\n",
       "      <td>59214.82</td>\n",
       "      <td>2</td>\n",
       "      <td>0</td>\n",
       "      <td>1</td>\n",
       "      <td>75719.14</td>\n",
       "      <td>1</td>\n",
       "    </tr>\n",
       "    <tr>\n",
       "      <th>1</th>\n",
       "      <td>146556</td>\n",
       "      <td>861.0</td>\n",
       "      <td>Рыбинск</td>\n",
       "      <td>Ж</td>\n",
       "      <td>37.0</td>\n",
       "      <td>5</td>\n",
       "      <td>850594.33</td>\n",
       "      <td>3</td>\n",
       "      <td>1</td>\n",
       "      <td>0</td>\n",
       "      <td>86621.77</td>\n",
       "      <td>0</td>\n",
       "    </tr>\n",
       "    <tr>\n",
       "      <th>2</th>\n",
       "      <td>120722</td>\n",
       "      <td>892.0</td>\n",
       "      <td>Рыбинск</td>\n",
       "      <td>Ж</td>\n",
       "      <td>30.0</td>\n",
       "      <td>0</td>\n",
       "      <td>NaN</td>\n",
       "      <td>1</td>\n",
       "      <td>1</td>\n",
       "      <td>1</td>\n",
       "      <td>107683.34</td>\n",
       "      <td>0</td>\n",
       "    </tr>\n",
       "    <tr>\n",
       "      <th>3</th>\n",
       "      <td>225363</td>\n",
       "      <td>866.0</td>\n",
       "      <td>Ярославль</td>\n",
       "      <td>Ж</td>\n",
       "      <td>51.0</td>\n",
       "      <td>5</td>\n",
       "      <td>1524746.26</td>\n",
       "      <td>2</td>\n",
       "      <td>0</td>\n",
       "      <td>1</td>\n",
       "      <td>174423.53</td>\n",
       "      <td>1</td>\n",
       "    </tr>\n",
       "    <tr>\n",
       "      <th>4</th>\n",
       "      <td>157978</td>\n",
       "      <td>730.0</td>\n",
       "      <td>Ярославль</td>\n",
       "      <td>М</td>\n",
       "      <td>34.0</td>\n",
       "      <td>5</td>\n",
       "      <td>174.00</td>\n",
       "      <td>1</td>\n",
       "      <td>1</td>\n",
       "      <td>0</td>\n",
       "      <td>67353.16</td>\n",
       "      <td>1</td>\n",
       "    </tr>\n",
       "  </tbody>\n",
       "</table>\n",
       "</div>"
      ],
      "text/plain": [
       "   USERID  score       city gender   age  equity     balance  products  \\\n",
       "0  183012  850.0    Рыбинск      Ж  25.0       1    59214.82         2   \n",
       "1  146556  861.0    Рыбинск      Ж  37.0       5   850594.33         3   \n",
       "2  120722  892.0    Рыбинск      Ж  30.0       0         NaN         1   \n",
       "3  225363  866.0  Ярославль      Ж  51.0       5  1524746.26         2   \n",
       "4  157978  730.0  Ярославль      М  34.0       5      174.00         1   \n",
       "\n",
       "   credit_card  last_activity  EST_SALARY  churn  \n",
       "0            0              1    75719.14      1  \n",
       "1            1              0    86621.77      0  \n",
       "2            1              1   107683.34      0  \n",
       "3            0              1   174423.53      1  \n",
       "4            1              0    67353.16      1  "
      ]
     },
     "execution_count": 3,
     "metadata": {},
     "output_type": "execute_result"
    }
   ],
   "source": [
    "data.head()"
   ]
  },
  {
   "cell_type": "code",
   "execution_count": 4,
   "metadata": {},
   "outputs": [
    {
     "name": "stdout",
     "output_type": "stream",
     "text": [
      "<class 'pandas.core.frame.DataFrame'>\n",
      "RangeIndex: 10000 entries, 0 to 9999\n",
      "Data columns (total 12 columns):\n",
      " #   Column         Non-Null Count  Dtype  \n",
      "---  ------         --------------  -----  \n",
      " 0   USERID         10000 non-null  int64  \n",
      " 1   score          10000 non-null  float64\n",
      " 2   city           10000 non-null  object \n",
      " 3   gender         10000 non-null  object \n",
      " 4   age            9974 non-null   float64\n",
      " 5   equity         10000 non-null  int64  \n",
      " 6   balance        7705 non-null   float64\n",
      " 7   products       10000 non-null  int64  \n",
      " 8   credit_card    10000 non-null  int64  \n",
      " 9   last_activity  10000 non-null  int64  \n",
      " 10  EST_SALARY     10000 non-null  float64\n",
      " 11  churn          10000 non-null  int64  \n",
      "dtypes: float64(4), int64(6), object(2)\n",
      "memory usage: 937.6+ KB\n"
     ]
    }
   ],
   "source": [
    "data.info()"
   ]
  },
  {
   "cell_type": "code",
   "execution_count": 5,
   "metadata": {},
   "outputs": [
    {
     "data": {
      "text/plain": [
       "(10000, 12)"
      ]
     },
     "execution_count": 5,
     "metadata": {},
     "output_type": "execute_result"
    }
   ],
   "source": [
    "initial_shape = data.shape\n",
    "initial_shape"
   ]
  },
  {
   "cell_type": "markdown",
   "metadata": {},
   "source": [
    "### Общая информация:\n",
    "В данных 10000 строк, 12 столбцов. Заметим, что в некоторых столбцах данные неполные, есть пропуски. Сразу можно отметить, что в столбцах score и age данные не соответствуют типу int, хотя, кажется, числа в столбцах целые. Подробнее изучим этот факт на этапе предобработки."
   ]
  },
  {
   "cell_type": "markdown",
   "metadata": {},
   "source": [
    "## Предобрадотка данных\n",
    "<a id=\"preprocessing\"></a> "
   ]
  },
  {
   "cell_type": "markdown",
   "metadata": {},
   "source": [
    "### Изменение названий столбцов\n",
    "<a id=\"names\"></a> "
   ]
  },
  {
   "cell_type": "code",
   "execution_count": 6,
   "metadata": {},
   "outputs": [],
   "source": [
    "data = data.rename(columns = {'USERID':'user_id', 'EST_SALARY':'est_salary'})"
   ]
  },
  {
   "cell_type": "code",
   "execution_count": 7,
   "metadata": {},
   "outputs": [
    {
     "data": {
      "text/html": [
       "<div>\n",
       "<style scoped>\n",
       "    .dataframe tbody tr th:only-of-type {\n",
       "        vertical-align: middle;\n",
       "    }\n",
       "\n",
       "    .dataframe tbody tr th {\n",
       "        vertical-align: top;\n",
       "    }\n",
       "\n",
       "    .dataframe thead th {\n",
       "        text-align: right;\n",
       "    }\n",
       "</style>\n",
       "<table border=\"1\" class=\"dataframe\">\n",
       "  <thead>\n",
       "    <tr style=\"text-align: right;\">\n",
       "      <th></th>\n",
       "      <th>user_id</th>\n",
       "      <th>score</th>\n",
       "      <th>city</th>\n",
       "      <th>gender</th>\n",
       "      <th>age</th>\n",
       "      <th>equity</th>\n",
       "      <th>balance</th>\n",
       "      <th>products</th>\n",
       "      <th>credit_card</th>\n",
       "      <th>last_activity</th>\n",
       "      <th>est_salary</th>\n",
       "      <th>churn</th>\n",
       "    </tr>\n",
       "  </thead>\n",
       "  <tbody>\n",
       "    <tr>\n",
       "      <th>0</th>\n",
       "      <td>183012</td>\n",
       "      <td>850.0</td>\n",
       "      <td>Рыбинск</td>\n",
       "      <td>Ж</td>\n",
       "      <td>25.0</td>\n",
       "      <td>1</td>\n",
       "      <td>59214.82</td>\n",
       "      <td>2</td>\n",
       "      <td>0</td>\n",
       "      <td>1</td>\n",
       "      <td>75719.14</td>\n",
       "      <td>1</td>\n",
       "    </tr>\n",
       "    <tr>\n",
       "      <th>1</th>\n",
       "      <td>146556</td>\n",
       "      <td>861.0</td>\n",
       "      <td>Рыбинск</td>\n",
       "      <td>Ж</td>\n",
       "      <td>37.0</td>\n",
       "      <td>5</td>\n",
       "      <td>850594.33</td>\n",
       "      <td>3</td>\n",
       "      <td>1</td>\n",
       "      <td>0</td>\n",
       "      <td>86621.77</td>\n",
       "      <td>0</td>\n",
       "    </tr>\n",
       "    <tr>\n",
       "      <th>2</th>\n",
       "      <td>120722</td>\n",
       "      <td>892.0</td>\n",
       "      <td>Рыбинск</td>\n",
       "      <td>Ж</td>\n",
       "      <td>30.0</td>\n",
       "      <td>0</td>\n",
       "      <td>NaN</td>\n",
       "      <td>1</td>\n",
       "      <td>1</td>\n",
       "      <td>1</td>\n",
       "      <td>107683.34</td>\n",
       "      <td>0</td>\n",
       "    </tr>\n",
       "    <tr>\n",
       "      <th>3</th>\n",
       "      <td>225363</td>\n",
       "      <td>866.0</td>\n",
       "      <td>Ярославль</td>\n",
       "      <td>Ж</td>\n",
       "      <td>51.0</td>\n",
       "      <td>5</td>\n",
       "      <td>1524746.26</td>\n",
       "      <td>2</td>\n",
       "      <td>0</td>\n",
       "      <td>1</td>\n",
       "      <td>174423.53</td>\n",
       "      <td>1</td>\n",
       "    </tr>\n",
       "    <tr>\n",
       "      <th>4</th>\n",
       "      <td>157978</td>\n",
       "      <td>730.0</td>\n",
       "      <td>Ярославль</td>\n",
       "      <td>М</td>\n",
       "      <td>34.0</td>\n",
       "      <td>5</td>\n",
       "      <td>174.00</td>\n",
       "      <td>1</td>\n",
       "      <td>1</td>\n",
       "      <td>0</td>\n",
       "      <td>67353.16</td>\n",
       "      <td>1</td>\n",
       "    </tr>\n",
       "  </tbody>\n",
       "</table>\n",
       "</div>"
      ],
      "text/plain": [
       "   user_id  score       city gender   age  equity     balance  products  \\\n",
       "0   183012  850.0    Рыбинск      Ж  25.0       1    59214.82         2   \n",
       "1   146556  861.0    Рыбинск      Ж  37.0       5   850594.33         3   \n",
       "2   120722  892.0    Рыбинск      Ж  30.0       0         NaN         1   \n",
       "3   225363  866.0  Ярославль      Ж  51.0       5  1524746.26         2   \n",
       "4   157978  730.0  Ярославль      М  34.0       5      174.00         1   \n",
       "\n",
       "   credit_card  last_activity  est_salary  churn  \n",
       "0            0              1    75719.14      1  \n",
       "1            1              0    86621.77      0  \n",
       "2            1              1   107683.34      0  \n",
       "3            0              1   174423.53      1  \n",
       "4            1              0    67353.16      1  "
      ]
     },
     "execution_count": 7,
     "metadata": {},
     "output_type": "execute_result"
    }
   ],
   "source": [
    "data.head()"
   ]
  },
  {
   "cell_type": "markdown",
   "metadata": {},
   "source": [
    "### Обработка пропущенных значений\n",
    "<a id=\"null\"></a> "
   ]
  },
  {
   "cell_type": "code",
   "execution_count": 8,
   "metadata": {},
   "outputs": [
    {
     "data": {
      "text/plain": [
       "user_id             0\n",
       "score               0\n",
       "city                0\n",
       "gender              0\n",
       "age                26\n",
       "equity              0\n",
       "balance          2295\n",
       "products            0\n",
       "credit_card         0\n",
       "last_activity       0\n",
       "est_salary          0\n",
       "churn               0\n",
       "dtype: int64"
      ]
     },
     "execution_count": 8,
     "metadata": {},
     "output_type": "execute_result"
    }
   ],
   "source": [
    "data.isna().sum()"
   ]
  },
  {
   "cell_type": "code",
   "execution_count": 15,
   "metadata": {},
   "outputs": [
    {
     "name": "stdout",
     "output_type": "stream",
     "text": [
      "Процент пропусков в столбце balance от всех данных 22.95%\n",
      "Процент пропусков в столбце age от всех данных 0.26% \n"
     ]
    }
   ],
   "source": [
    "print(f'Процент пропусков в столбце balance от всех данных {data[\"balance\"].isna().sum()/data.shape[0]:.2%}')\n",
    "print(f'Процент пропусков в столбце age от всех данных {data[\"age\"].isna().sum()/data.shape[0]:.2%} ')"
   ]
  },
  {
   "cell_type": "markdown",
   "metadata": {},
   "source": [
    "**Пропуски в столбце age занимают меньше процента, так что можем их удалить. Пропуски в столбце balance занимают около 23%, поэтому их удалять не будем. Заполнять медианой/средним тоже плохая идея, мы \"размажем\" какие-то отличительные особенности пользователей. В целом, в контексте нашей задачи, можно предположить, что пропуски появились из-за того, что пользователь перестал пользоваться услугами банка/проявляет маленькую активность/не пользуется продуктами и т.д, поэтому у нас нет информации о его балансе. Попробуем изучить этот вопрос**"
   ]
  },
  {
   "cell_type": "code",
   "execution_count": 116,
   "metadata": {
    "scrolled": true
   },
   "outputs": [
    {
     "data": {
      "text/plain": [
       "user_id             0\n",
       "score               0\n",
       "city                0\n",
       "gender              0\n",
       "age                 0\n",
       "equity              0\n",
       "balance          2279\n",
       "products            0\n",
       "credit_card         0\n",
       "last_activity       0\n",
       "est_salary          0\n",
       "churn               0\n",
       "dtype: int64"
      ]
     },
     "execution_count": 116,
     "metadata": {},
     "output_type": "execute_result"
    }
   ],
   "source": [
    "# удаляю пропуски в столбце age\n",
    "data = data.dropna(subset=['age']).reset_index(drop=True)\n",
    "data.isna().sum()"
   ]
  },
  {
   "cell_type": "code",
   "execution_count": 117,
   "metadata": {},
   "outputs": [
    {
     "data": {
      "text/plain": [
       "0    2266\n",
       "1      13\n",
       "Name: churn, dtype: int64"
      ]
     },
     "execution_count": 117,
     "metadata": {},
     "output_type": "execute_result"
    }
   ],
   "source": [
    "#посмотрим, связаны ли пропуски с оттоком клиентов\n",
    "data.query('balance.isna()')['churn'].value_counts()"
   ]
  },
  {
   "cell_type": "markdown",
   "metadata": {},
   "source": [
    "**Большинство клиентов с пропусками продолжают пользоваться услугами банка, поэтому предположение о том, что пропуск появился из-за того, что клиент ушел, не подтвердилось**"
   ]
  },
  {
   "cell_type": "code",
   "execution_count": 118,
   "metadata": {},
   "outputs": [
    {
     "data": {
      "text/plain": [
       "1    1934\n",
       "2     315\n",
       "3      29\n",
       "0       1\n",
       "Name: products, dtype: int64"
      ]
     },
     "execution_count": 118,
     "metadata": {},
     "output_type": "execute_result"
    }
   ],
   "source": [
    "#посмотрим, связаны ли пропуски с количеством используемых продуктов\n",
    "data.query('balance.isna()')['products'].value_counts()"
   ]
  },
  {
   "cell_type": "code",
   "execution_count": 119,
   "metadata": {},
   "outputs": [
    {
     "data": {
      "text/plain": [
       "count   9974.00\n",
       "mean       1.87\n",
       "std        0.79\n",
       "min        0.00\n",
       "25%        1.00\n",
       "50%        2.00\n",
       "75%        2.00\n",
       "max        5.00\n",
       "Name: products, dtype: float64"
      ]
     },
     "execution_count": 119,
     "metadata": {},
     "output_type": "execute_result"
    }
   ],
   "source": [
    "data['products'].describe()"
   ]
  },
  {
   "cell_type": "markdown",
   "metadata": {},
   "source": [
    "**Большинство клиентов (при рассмотрении всех пользователей) используют 1-2 продукта, пользователи с пропущенным балансом по большей части пользуются одним продуктом, явных закономерностей нет, хотя возможно эти пользователи пользуются какими-то услугами банка, но не заводят там карту**"
   ]
  },
  {
   "cell_type": "code",
   "execution_count": 120,
   "metadata": {},
   "outputs": [
    {
     "data": {
      "text/plain": [
       "1    1251\n",
       "0    1028\n",
       "Name: last_activity, dtype: int64"
      ]
     },
     "execution_count": 120,
     "metadata": {},
     "output_type": "execute_result"
    }
   ],
   "source": [
    "# посмотрим, связаны ли пропуски с активностью пользователей  \n",
    "data.query('balance.isna()')['last_activity'].value_counts()"
   ]
  },
  {
   "cell_type": "markdown",
   "metadata": {},
   "source": [
    "**Опять же, видим, что пропуски не свзяаны с малой активностью пользователей**"
   ]
  },
  {
   "cell_type": "code",
   "execution_count": 121,
   "metadata": {},
   "outputs": [
    {
     "data": {
      "text/plain": [
       "1    1858\n",
       "0     421\n",
       "Name: credit_card, dtype: int64"
      ]
     },
     "execution_count": 121,
     "metadata": {},
     "output_type": "execute_result"
    }
   ],
   "source": [
    "# связь пропусков с наличием кредитки\n",
    "data.query('balance.isna()')['credit_card'].value_counts()"
   ]
  },
  {
   "cell_type": "markdown",
   "metadata": {},
   "source": [
    "**Большая часть пропусков у тех людей, которые пользуются кредитными картами.Если значения в столбце - баланс дебетовой карты, то пропуск может означать, что дебетовый карты у клиента нет. Однако мы не можем быть в этом уверены, пропуски у клиентов с кредитными картами тоже есть.**"
   ]
  },
  {
   "cell_type": "code",
   "execution_count": 122,
   "metadata": {},
   "outputs": [
    {
     "data": {
      "text/plain": [
       "count        7695.00\n",
       "mean       827245.59\n",
       "std       1980327.41\n",
       "min             0.00\n",
       "25%        295698.71\n",
       "50%        524295.33\n",
       "75%        980051.21\n",
       "max     119113552.01\n",
       "Name: balance, dtype: float64"
      ]
     },
     "execution_count": 122,
     "metadata": {},
     "output_type": "execute_result"
    }
   ],
   "source": [
    "pd.set_option(\"display.float_format\", \"{:.2f}\".format)\n",
    "data['balance'].describe()"
   ]
  },
  {
   "cell_type": "markdown",
   "metadata": {},
   "source": [
    "**Явной взаимосвязи пропусков в балансе с другими данными не выявлено.Принимаем решение оставить пропуски как есть.**"
   ]
  },
  {
   "cell_type": "markdown",
   "metadata": {},
   "source": [
    "### Обработка дубликатов\n",
    "<a id=\"duplicates\"></a> "
   ]
  },
  {
   "cell_type": "code",
   "execution_count": 123,
   "metadata": {},
   "outputs": [
    {
     "data": {
      "text/plain": [
       "0"
      ]
     },
     "execution_count": 123,
     "metadata": {},
     "output_type": "execute_result"
    }
   ],
   "source": [
    "data.duplicated().sum()\n",
    "#явных дубликатов нет"
   ]
  },
  {
   "cell_type": "code",
   "execution_count": 124,
   "metadata": {},
   "outputs": [
    {
     "data": {
      "text/plain": [
       "50"
      ]
     },
     "execution_count": 124,
     "metadata": {},
     "output_type": "execute_result"
    }
   ],
   "source": [
    "data['user_id'].duplicated().sum()\n",
    "# есть дубликаты в столбце user_id"
   ]
  },
  {
   "cell_type": "code",
   "execution_count": 125,
   "metadata": {},
   "outputs": [
    {
     "data": {
      "text/plain": [
       "0"
      ]
     },
     "execution_count": 125,
     "metadata": {},
     "output_type": "execute_result"
    }
   ],
   "source": [
    "data[['user_id','city', 'gender', 'age']].duplicated().sum()"
   ]
  },
  {
   "cell_type": "markdown",
   "metadata": {},
   "source": [
    "**Несмотря на то, что есть дубликаты в user_id, нет пользователей с одним айди, городом и полом, значит, дубликаты - разные люди. Скорее всего дубликаты появились в результате технической ошибки.**"
   ]
  },
  {
   "cell_type": "code",
   "execution_count": 126,
   "metadata": {},
   "outputs": [
    {
     "data": {
      "text/html": [
       "<div>\n",
       "<style scoped>\n",
       "    .dataframe tbody tr th:only-of-type {\n",
       "        vertical-align: middle;\n",
       "    }\n",
       "\n",
       "    .dataframe tbody tr th {\n",
       "        vertical-align: top;\n",
       "    }\n",
       "\n",
       "    .dataframe thead th {\n",
       "        text-align: right;\n",
       "    }\n",
       "</style>\n",
       "<table border=\"1\" class=\"dataframe\">\n",
       "  <thead>\n",
       "    <tr style=\"text-align: right;\">\n",
       "      <th></th>\n",
       "      <th>user_id</th>\n",
       "      <th>score</th>\n",
       "      <th>city</th>\n",
       "      <th>gender</th>\n",
       "      <th>age</th>\n",
       "      <th>equity</th>\n",
       "      <th>balance</th>\n",
       "      <th>products</th>\n",
       "      <th>credit_card</th>\n",
       "      <th>last_activity</th>\n",
       "      <th>est_salary</th>\n",
       "      <th>churn</th>\n",
       "    </tr>\n",
       "  </thead>\n",
       "  <tbody>\n",
       "    <tr>\n",
       "      <th>1582</th>\n",
       "      <td>190253</td>\n",
       "      <td>726.00</td>\n",
       "      <td>Ярославль</td>\n",
       "      <td>М</td>\n",
       "      <td>49.00</td>\n",
       "      <td>0</td>\n",
       "      <td>NaN</td>\n",
       "      <td>1</td>\n",
       "      <td>1</td>\n",
       "      <td>1</td>\n",
       "      <td>177700.78</td>\n",
       "      <td>0</td>\n",
       "    </tr>\n",
       "    <tr>\n",
       "      <th>1836</th>\n",
       "      <td>210662</td>\n",
       "      <td>896.00</td>\n",
       "      <td>Рыбинск</td>\n",
       "      <td>Ж</td>\n",
       "      <td>37.00</td>\n",
       "      <td>0</td>\n",
       "      <td>NaN</td>\n",
       "      <td>2</td>\n",
       "      <td>0</td>\n",
       "      <td>0</td>\n",
       "      <td>90916.04</td>\n",
       "      <td>0</td>\n",
       "    </tr>\n",
       "    <tr>\n",
       "      <th>2137</th>\n",
       "      <td>131419</td>\n",
       "      <td>739.00</td>\n",
       "      <td>Рыбинск</td>\n",
       "      <td>Ж</td>\n",
       "      <td>37.00</td>\n",
       "      <td>3</td>\n",
       "      <td>1307941.65</td>\n",
       "      <td>3</td>\n",
       "      <td>0</td>\n",
       "      <td>0</td>\n",
       "      <td>103867.47</td>\n",
       "      <td>0</td>\n",
       "    </tr>\n",
       "    <tr>\n",
       "      <th>2300</th>\n",
       "      <td>220816</td>\n",
       "      <td>934.00</td>\n",
       "      <td>Рыбинск</td>\n",
       "      <td>Ж</td>\n",
       "      <td>74.00</td>\n",
       "      <td>5</td>\n",
       "      <td>1294285.39</td>\n",
       "      <td>3</td>\n",
       "      <td>1</td>\n",
       "      <td>0</td>\n",
       "      <td>95606.80</td>\n",
       "      <td>0</td>\n",
       "    </tr>\n",
       "    <tr>\n",
       "      <th>2995</th>\n",
       "      <td>208081</td>\n",
       "      <td>821.00</td>\n",
       "      <td>Рыбинск</td>\n",
       "      <td>Ж</td>\n",
       "      <td>62.00</td>\n",
       "      <td>3</td>\n",
       "      <td>493608.26</td>\n",
       "      <td>2</td>\n",
       "      <td>1</td>\n",
       "      <td>1</td>\n",
       "      <td>33491.45</td>\n",
       "      <td>0</td>\n",
       "    </tr>\n",
       "  </tbody>\n",
       "</table>\n",
       "</div>"
      ],
      "text/plain": [
       "      user_id  score       city gender   age  equity    balance  products  \\\n",
       "1582   190253 726.00  Ярославль      М 49.00       0        NaN         1   \n",
       "1836   210662 896.00    Рыбинск      Ж 37.00       0        NaN         2   \n",
       "2137   131419 739.00    Рыбинск      Ж 37.00       3 1307941.65         3   \n",
       "2300   220816 934.00    Рыбинск      Ж 74.00       5 1294285.39         3   \n",
       "2995   208081 821.00    Рыбинск      Ж 62.00       3  493608.26         2   \n",
       "\n",
       "      credit_card  last_activity  est_salary  churn  \n",
       "1582            1              1   177700.78      0  \n",
       "1836            0              0    90916.04      0  \n",
       "2137            0              0   103867.47      0  \n",
       "2300            1              0    95606.80      0  \n",
       "2995            1              1    33491.45      0  "
      ]
     },
     "execution_count": 126,
     "metadata": {},
     "output_type": "execute_result"
    }
   ],
   "source": [
    "data.query('user_id.duplicated()').head()"
   ]
  },
  {
   "cell_type": "code",
   "execution_count": 127,
   "metadata": {},
   "outputs": [
    {
     "name": "stdout",
     "output_type": "stream",
     "text": [
      "Процент дубликатов в столбце user_id от всех данных 0.5 %\n"
     ]
    }
   ],
   "source": [
    "print(f'Процент дубликатов в столбце user_id от всех данных {round(100*data[\"user_id\"].duplicated().sum()/data.shape[0],2)} %')"
   ]
  },
  {
   "cell_type": "markdown",
   "metadata": {},
   "source": [
    "**Дубликаты в user_id занимают меньше процента, поэтому можем их удалить**"
   ]
  },
  {
   "cell_type": "code",
   "execution_count": 128,
   "metadata": {},
   "outputs": [],
   "source": [
    "data = data.drop_duplicates(subset=['user_id'])"
   ]
  },
  {
   "cell_type": "markdown",
   "metadata": {},
   "source": [
    "**Проверим столбцы типа object на неявные дубликаты**"
   ]
  },
  {
   "cell_type": "code",
   "execution_count": 129,
   "metadata": {},
   "outputs": [
    {
     "data": {
      "text/plain": [
       "array(['Рыбинск', 'Ярославль', 'Ростов'], dtype=object)"
      ]
     },
     "execution_count": 129,
     "metadata": {},
     "output_type": "execute_result"
    }
   ],
   "source": [
    "data['city'].unique()"
   ]
  },
  {
   "cell_type": "code",
   "execution_count": 130,
   "metadata": {},
   "outputs": [
    {
     "data": {
      "text/plain": [
       "array(['Ж', 'М'], dtype=object)"
      ]
     },
     "execution_count": 130,
     "metadata": {},
     "output_type": "execute_result"
    }
   ],
   "source": [
    "data['gender'].unique()"
   ]
  },
  {
   "cell_type": "markdown",
   "metadata": {},
   "source": [
    "**Все нормально: три города (Рыбинск, Ярославль и Ростов) и два пола (М и Ж)**"
   ]
  },
  {
   "cell_type": "markdown",
   "metadata": {},
   "source": [
    "### Обработка типов данных\n",
    "<a id=\"types\"></a> "
   ]
  },
  {
   "cell_type": "markdown",
   "metadata": {},
   "source": [
    "**Преобразуем данные в стобцах score и age к целочисленному типу**"
   ]
  },
  {
   "cell_type": "code",
   "execution_count": 131,
   "metadata": {},
   "outputs": [],
   "source": [
    "data['score'] = data['score'].astype('int64')\n",
    "data['age'] = data['age'].astype('int64')"
   ]
  },
  {
   "cell_type": "markdown",
   "metadata": {},
   "source": [
    "### Унитарное кодирование столбцов столбцов сity и gender\n",
    "<a id=\"unitary\"></a> "
   ]
  },
  {
   "cell_type": "code",
   "execution_count": 132,
   "metadata": {},
   "outputs": [
    {
     "data": {
      "text/html": [
       "<div>\n",
       "<style scoped>\n",
       "    .dataframe tbody tr th:only-of-type {\n",
       "        vertical-align: middle;\n",
       "    }\n",
       "\n",
       "    .dataframe tbody tr th {\n",
       "        vertical-align: top;\n",
       "    }\n",
       "\n",
       "    .dataframe thead th {\n",
       "        text-align: right;\n",
       "    }\n",
       "</style>\n",
       "<table border=\"1\" class=\"dataframe\">\n",
       "  <thead>\n",
       "    <tr style=\"text-align: right;\">\n",
       "      <th></th>\n",
       "      <th>user_id</th>\n",
       "      <th>score</th>\n",
       "      <th>city</th>\n",
       "      <th>gender</th>\n",
       "      <th>age</th>\n",
       "      <th>equity</th>\n",
       "      <th>balance</th>\n",
       "      <th>products</th>\n",
       "      <th>credit_card</th>\n",
       "      <th>last_activity</th>\n",
       "      <th>est_salary</th>\n",
       "      <th>churn</th>\n",
       "      <th>rostov</th>\n",
       "      <th>rybinsk</th>\n",
       "      <th>yaroslavl</th>\n",
       "      <th>female</th>\n",
       "      <th>male</th>\n",
       "    </tr>\n",
       "  </thead>\n",
       "  <tbody>\n",
       "    <tr>\n",
       "      <th>0</th>\n",
       "      <td>183012</td>\n",
       "      <td>850</td>\n",
       "      <td>Рыбинск</td>\n",
       "      <td>Ж</td>\n",
       "      <td>25</td>\n",
       "      <td>1</td>\n",
       "      <td>59214.82</td>\n",
       "      <td>2</td>\n",
       "      <td>0</td>\n",
       "      <td>1</td>\n",
       "      <td>75719.14</td>\n",
       "      <td>1</td>\n",
       "      <td>0</td>\n",
       "      <td>1</td>\n",
       "      <td>0</td>\n",
       "      <td>1</td>\n",
       "      <td>0</td>\n",
       "    </tr>\n",
       "    <tr>\n",
       "      <th>1</th>\n",
       "      <td>146556</td>\n",
       "      <td>861</td>\n",
       "      <td>Рыбинск</td>\n",
       "      <td>Ж</td>\n",
       "      <td>37</td>\n",
       "      <td>5</td>\n",
       "      <td>850594.33</td>\n",
       "      <td>3</td>\n",
       "      <td>1</td>\n",
       "      <td>0</td>\n",
       "      <td>86621.77</td>\n",
       "      <td>0</td>\n",
       "      <td>0</td>\n",
       "      <td>1</td>\n",
       "      <td>0</td>\n",
       "      <td>1</td>\n",
       "      <td>0</td>\n",
       "    </tr>\n",
       "    <tr>\n",
       "      <th>2</th>\n",
       "      <td>120722</td>\n",
       "      <td>892</td>\n",
       "      <td>Рыбинск</td>\n",
       "      <td>Ж</td>\n",
       "      <td>30</td>\n",
       "      <td>0</td>\n",
       "      <td>NaN</td>\n",
       "      <td>1</td>\n",
       "      <td>1</td>\n",
       "      <td>1</td>\n",
       "      <td>107683.34</td>\n",
       "      <td>0</td>\n",
       "      <td>0</td>\n",
       "      <td>1</td>\n",
       "      <td>0</td>\n",
       "      <td>1</td>\n",
       "      <td>0</td>\n",
       "    </tr>\n",
       "    <tr>\n",
       "      <th>3</th>\n",
       "      <td>225363</td>\n",
       "      <td>866</td>\n",
       "      <td>Ярославль</td>\n",
       "      <td>Ж</td>\n",
       "      <td>51</td>\n",
       "      <td>5</td>\n",
       "      <td>1524746.26</td>\n",
       "      <td>2</td>\n",
       "      <td>0</td>\n",
       "      <td>1</td>\n",
       "      <td>174423.53</td>\n",
       "      <td>1</td>\n",
       "      <td>0</td>\n",
       "      <td>0</td>\n",
       "      <td>1</td>\n",
       "      <td>1</td>\n",
       "      <td>0</td>\n",
       "    </tr>\n",
       "    <tr>\n",
       "      <th>4</th>\n",
       "      <td>157978</td>\n",
       "      <td>730</td>\n",
       "      <td>Ярославль</td>\n",
       "      <td>М</td>\n",
       "      <td>34</td>\n",
       "      <td>5</td>\n",
       "      <td>174.00</td>\n",
       "      <td>1</td>\n",
       "      <td>1</td>\n",
       "      <td>0</td>\n",
       "      <td>67353.16</td>\n",
       "      <td>1</td>\n",
       "      <td>0</td>\n",
       "      <td>0</td>\n",
       "      <td>1</td>\n",
       "      <td>0</td>\n",
       "      <td>1</td>\n",
       "    </tr>\n",
       "    <tr>\n",
       "      <th>...</th>\n",
       "      <td>...</td>\n",
       "      <td>...</td>\n",
       "      <td>...</td>\n",
       "      <td>...</td>\n",
       "      <td>...</td>\n",
       "      <td>...</td>\n",
       "      <td>...</td>\n",
       "      <td>...</td>\n",
       "      <td>...</td>\n",
       "      <td>...</td>\n",
       "      <td>...</td>\n",
       "      <td>...</td>\n",
       "      <td>...</td>\n",
       "      <td>...</td>\n",
       "      <td>...</td>\n",
       "      <td>...</td>\n",
       "      <td>...</td>\n",
       "    </tr>\n",
       "    <tr>\n",
       "      <th>9969</th>\n",
       "      <td>120553</td>\n",
       "      <td>814</td>\n",
       "      <td>Рыбинск</td>\n",
       "      <td>М</td>\n",
       "      <td>27</td>\n",
       "      <td>1</td>\n",
       "      <td>78144.65</td>\n",
       "      <td>1</td>\n",
       "      <td>0</td>\n",
       "      <td>1</td>\n",
       "      <td>18943.64</td>\n",
       "      <td>0</td>\n",
       "      <td>0</td>\n",
       "      <td>1</td>\n",
       "      <td>0</td>\n",
       "      <td>0</td>\n",
       "      <td>1</td>\n",
       "    </tr>\n",
       "    <tr>\n",
       "      <th>9970</th>\n",
       "      <td>139170</td>\n",
       "      <td>894</td>\n",
       "      <td>Ярославль</td>\n",
       "      <td>М</td>\n",
       "      <td>46</td>\n",
       "      <td>0</td>\n",
       "      <td>NaN</td>\n",
       "      <td>1</td>\n",
       "      <td>1</td>\n",
       "      <td>0</td>\n",
       "      <td>196898.29</td>\n",
       "      <td>0</td>\n",
       "      <td>0</td>\n",
       "      <td>0</td>\n",
       "      <td>1</td>\n",
       "      <td>0</td>\n",
       "      <td>1</td>\n",
       "    </tr>\n",
       "    <tr>\n",
       "      <th>9971</th>\n",
       "      <td>115639</td>\n",
       "      <td>903</td>\n",
       "      <td>Ярославль</td>\n",
       "      <td>М</td>\n",
       "      <td>24</td>\n",
       "      <td>0</td>\n",
       "      <td>NaN</td>\n",
       "      <td>2</td>\n",
       "      <td>1</td>\n",
       "      <td>1</td>\n",
       "      <td>108905.09</td>\n",
       "      <td>0</td>\n",
       "      <td>0</td>\n",
       "      <td>0</td>\n",
       "      <td>1</td>\n",
       "      <td>0</td>\n",
       "      <td>1</td>\n",
       "    </tr>\n",
       "    <tr>\n",
       "      <th>9972</th>\n",
       "      <td>148700</td>\n",
       "      <td>777</td>\n",
       "      <td>Ярославль</td>\n",
       "      <td>Ж</td>\n",
       "      <td>68</td>\n",
       "      <td>3</td>\n",
       "      <td>865457.97</td>\n",
       "      <td>3</td>\n",
       "      <td>0</td>\n",
       "      <td>1</td>\n",
       "      <td>86874.90</td>\n",
       "      <td>0</td>\n",
       "      <td>0</td>\n",
       "      <td>0</td>\n",
       "      <td>1</td>\n",
       "      <td>1</td>\n",
       "      <td>0</td>\n",
       "    </tr>\n",
       "    <tr>\n",
       "      <th>9973</th>\n",
       "      <td>96267</td>\n",
       "      <td>828</td>\n",
       "      <td>Рыбинск</td>\n",
       "      <td>Ж</td>\n",
       "      <td>58</td>\n",
       "      <td>3</td>\n",
       "      <td>1180886.70</td>\n",
       "      <td>4</td>\n",
       "      <td>0</td>\n",
       "      <td>1</td>\n",
       "      <td>21422.37</td>\n",
       "      <td>0</td>\n",
       "      <td>0</td>\n",
       "      <td>1</td>\n",
       "      <td>0</td>\n",
       "      <td>1</td>\n",
       "      <td>0</td>\n",
       "    </tr>\n",
       "  </tbody>\n",
       "</table>\n",
       "<p>9924 rows × 17 columns</p>\n",
       "</div>"
      ],
      "text/plain": [
       "      user_id  score       city gender  age  equity    balance  products  \\\n",
       "0      183012    850    Рыбинск      Ж   25       1   59214.82         2   \n",
       "1      146556    861    Рыбинск      Ж   37       5  850594.33         3   \n",
       "2      120722    892    Рыбинск      Ж   30       0        NaN         1   \n",
       "3      225363    866  Ярославль      Ж   51       5 1524746.26         2   \n",
       "4      157978    730  Ярославль      М   34       5     174.00         1   \n",
       "...       ...    ...        ...    ...  ...     ...        ...       ...   \n",
       "9969   120553    814    Рыбинск      М   27       1   78144.65         1   \n",
       "9970   139170    894  Ярославль      М   46       0        NaN         1   \n",
       "9971   115639    903  Ярославль      М   24       0        NaN         2   \n",
       "9972   148700    777  Ярославль      Ж   68       3  865457.97         3   \n",
       "9973    96267    828    Рыбинск      Ж   58       3 1180886.70         4   \n",
       "\n",
       "      credit_card  last_activity  est_salary  churn  rostov  rybinsk  \\\n",
       "0               0              1    75719.14      1       0        1   \n",
       "1               1              0    86621.77      0       0        1   \n",
       "2               1              1   107683.34      0       0        1   \n",
       "3               0              1   174423.53      1       0        0   \n",
       "4               1              0    67353.16      1       0        0   \n",
       "...           ...            ...         ...    ...     ...      ...   \n",
       "9969            0              1    18943.64      0       0        1   \n",
       "9970            1              0   196898.29      0       0        0   \n",
       "9971            1              1   108905.09      0       0        0   \n",
       "9972            0              1    86874.90      0       0        0   \n",
       "9973            0              1    21422.37      0       0        1   \n",
       "\n",
       "      yaroslavl  female  male  \n",
       "0             0       1     0  \n",
       "1             0       1     0  \n",
       "2             0       1     0  \n",
       "3             1       1     0  \n",
       "4             1       0     1  \n",
       "...         ...     ...   ...  \n",
       "9969          0       0     1  \n",
       "9970          1       0     1  \n",
       "9971          1       0     1  \n",
       "9972          1       1     0  \n",
       "9973          0       1     0  \n",
       "\n",
       "[9924 rows x 17 columns]"
      ]
     },
     "execution_count": 132,
     "metadata": {},
     "output_type": "execute_result"
    }
   ],
   "source": [
    "data['city_copy'] = data['city']\n",
    "data['gender_copy'] = data['gender']\n",
    "data = pd.get_dummies(data, columns=['city_copy', 'gender_copy'], drop_first=False)\n",
    "data = data.rename(columns=({'city_copy_Ростов':'rostov', 'city_copy_Ярославль':'yaroslavl', 'city_copy_Рыбинск':\\\n",
    "                   'rybinsk', 'gender_copy_Ж':'female', 'gender_copy_М':'male'}))\n",
    "data"
   ]
  },
  {
   "cell_type": "markdown",
   "metadata": {},
   "source": [
    "## Исследовательский анализ данных\n",
    "<a id=\"analysis\"></a> \n"
   ]
  },
  {
   "cell_type": "markdown",
   "metadata": {},
   "source": [
    "### Изучение распределений и анализ выбросов\n",
    "<a id=\"distributions\"></a> "
   ]
  },
  {
   "cell_type": "markdown",
   "metadata": {},
   "source": [
    "**Уточню, что выбросами я буду считать значения, которые лежат вне +- 1,5 * доверительный интервал**"
   ]
  },
  {
   "cell_type": "markdown",
   "metadata": {},
   "source": [
    "#### Столбец score - баллы кредитного скоринга "
   ]
  },
  {
   "cell_type": "code",
   "execution_count": 133,
   "metadata": {},
   "outputs": [
    {
     "data": {
      "image/png": "[encoded data removed]",
      "text/plain": [
       "<Figure size 864x360 with 1 Axes>"
      ]
     },
     "metadata": {
      "needs_background": "light"
     },
     "output_type": "display_data"
    }
   ],
   "source": [
    "plt.figure(figsize=(12,5))\n",
    "plt.ylim(600,1050)\n",
    "sns.set_palette('pastel') \n",
    "sns.boxplot(y='score', data=data)\n",
    "plt.title('Ящик с усами по баллам кредитного скоринга', fontsize = 16, color = '#609966')\n",
    "plt.ylabel('Баллы', fontsize = 16, color = '#609966');"
   ]
  },
  {
   "cell_type": "code",
   "execution_count": 134,
   "metadata": {},
   "outputs": [
    {
     "data": {
      "image/png": "[encoded data removed]",
      "text/plain": [
       "<Figure size 864x360 with 1 Axes>"
      ]
     },
     "metadata": {
      "needs_background": "light"
     },
     "output_type": "display_data"
    }
   ],
   "source": [
    "plt.figure(figsize=(12,5))\n",
    "sns.set_palette('pastel') \n",
    "sns.histplot(x='score', data=data)\n",
    "plt.title(' Гистограмма по баллам кредитного скоринга', fontsize = 16, color = '#609966')\n",
    "plt.xlabel('Баллы', fontsize = 16, color = '#609966')\n",
    "plt.ylabel('Количество пользователей', fontsize = 16, color = '#609966');"
   ]
  },
  {
   "cell_type": "code",
   "execution_count": 135,
   "metadata": {},
   "outputs": [
    {
     "data": {
      "text/plain": [
       "count   9924.00\n",
       "mean     848.73\n",
       "std       65.40\n",
       "min      642.00\n",
       "25%      802.00\n",
       "50%      853.00\n",
       "75%      900.00\n",
       "max     1000.00\n",
       "Name: score, dtype: float64"
      ]
     },
     "execution_count": 135,
     "metadata": {},
     "output_type": "execute_result"
    }
   ],
   "source": [
    "data['score'].describe()"
   ]
  },
  {
   "cell_type": "code",
   "execution_count": 136,
   "metadata": {},
   "outputs": [
    {
     "data": {
      "text/plain": [
       "33"
      ]
     },
     "execution_count": 136,
     "metadata": {},
     "output_type": "execute_result"
    }
   ],
   "source": [
    "len(data.query('score < 802-(900-802)*1.5'))\n",
    "#считаю, что выбросы лежат вне +-1.5 доверительных интервала"
   ]
  },
  {
   "cell_type": "markdown",
   "metadata": {},
   "source": [
    "**Если говорить про всех пользователей, то мы видим, что у большинства клиентов балл кредитного скоринга более 802 и менее 900. Медианное значение составляет 853, среднее - 849.Есть выбросы - 33 пользователя (не так много) с количеством баллов менее 655.**"
   ]
  },
  {
   "cell_type": "code",
   "execution_count": 137,
   "metadata": {},
   "outputs": [
    {
     "data": {
      "text/plain": [
       "0    8105\n",
       "1    1819\n",
       "Name: churn, dtype: int64"
      ]
     },
     "execution_count": 137,
     "metadata": {},
     "output_type": "execute_result"
    }
   ],
   "source": [
    "data['churn'].value_counts()"
   ]
  },
  {
   "cell_type": "code",
   "execution_count": 138,
   "metadata": {},
   "outputs": [
    {
     "data": {
      "image/png": "[encoded data removed]",
      "text/plain": [
       "<Figure size 864x360 with 1 Axes>"
      ]
     },
     "metadata": {
      "needs_background": "light"
     },
     "output_type": "display_data"
    }
   ],
   "source": [
    "plt.figure(figsize=(12,5))\n",
    "sns.histplot(x='score',hue='churn', stat='density', common_norm=False, data=data)\n",
    "plt.title(' Гистограмма по баллам кредитного скоринга в разрезе отточности', fontsize = 16, color = '#609966')\n",
    "plt.xlabel('Баллы', fontsize = 16, color = '#609966')\n",
    "plt.ylabel('Плотность', fontsize = 16, color = '#609966');"
   ]
  },
  {
   "cell_type": "code",
   "execution_count": 139,
   "metadata": {},
   "outputs": [
    {
     "data": {
      "image/png": "[encoded data removed]",
      "text/plain": [
       "<Figure size 864x360 with 1 Axes>"
      ]
     },
     "metadata": {
      "needs_background": "light"
     },
     "output_type": "display_data"
    }
   ],
   "source": [
    "plt.figure(figsize=(12,5))\n",
    "plt.ylim(600,1050) \n",
    "sns.boxplot(y='score', x = 'churn', data=data)\n",
    "plt.title('Ящики с усами по баллам кредитного скоринга в разрезе отточности', fontsize = 16, color = '#609966')\n",
    "plt.ylabel('Баллы', fontsize = 16, color = '#609966')\n",
    "plt.xlabel('Статус по оттоку', fontsize = 16, color = '#609966');"
   ]
  },
  {
   "cell_type": "code",
   "execution_count": 140,
   "metadata": {},
   "outputs": [
    {
     "data": {
      "text/plain": [
       "count   1819.00\n",
       "mean     863.42\n",
       "std       49.62\n",
       "min      706.00\n",
       "25%      828.00\n",
       "50%      866.00\n",
       "75%      898.00\n",
       "max     1000.00\n",
       "Name: score, dtype: float64"
      ]
     },
     "execution_count": 140,
     "metadata": {},
     "output_type": "execute_result"
    }
   ],
   "source": [
    "data.query('churn == 1')['score'].describe()"
   ]
  },
  {
   "cell_type": "code",
   "execution_count": 141,
   "metadata": {},
   "outputs": [
    {
     "data": {
      "text/plain": [
       "count   8105.00\n",
       "mean     845.44\n",
       "std       68.01\n",
       "min      642.00\n",
       "25%      796.00\n",
       "50%      848.00\n",
       "75%      900.00\n",
       "max     1000.00\n",
       "Name: score, dtype: float64"
      ]
     },
     "execution_count": 141,
     "metadata": {},
     "output_type": "execute_result"
    }
   ],
   "source": [
    "data.query('churn == 0')['score'].describe()"
   ]
  },
  {
   "cell_type": "code",
   "execution_count": 142,
   "metadata": {},
   "outputs": [
    {
     "data": {
      "text/plain": [
       "count   1819.00\n",
       "mean     863.42\n",
       "std       49.62\n",
       "min      706.00\n",
       "25%      828.00\n",
       "50%      866.00\n",
       "75%      898.00\n",
       "max     1000.00\n",
       "Name: score, dtype: float64"
      ]
     },
     "execution_count": 142,
     "metadata": {},
     "output_type": "execute_result"
    }
   ],
   "source": [
    "data.query('churn == 1')['score'].describe()"
   ]
  },
  {
   "cell_type": "code",
   "execution_count": 143,
   "metadata": {},
   "outputs": [
    {
     "data": {
      "text/plain": [
       "2"
      ]
     },
     "execution_count": 143,
     "metadata": {},
     "output_type": "execute_result"
    }
   ],
   "source": [
    "len(data.query('churn == 1 and score < 723'))"
   ]
  },
  {
   "cell_type": "markdown",
   "metadata": {},
   "source": [
    "**Отток пользователей с баллами скоринга 825-910 выше, чем в среднем по банку.**"
   ]
  },
  {
   "cell_type": "markdown",
   "metadata": {},
   "source": [
    "#### Столбец balance - баланс карты"
   ]
  },
  {
   "cell_type": "code",
   "execution_count": 144,
   "metadata": {},
   "outputs": [
    {
     "data": {
      "image/png": "[encoded data removed]",
      "text/plain": [
       "<Figure size 864x360 with 1 Axes>"
      ]
     },
     "metadata": {
      "needs_background": "light"
     },
     "output_type": "display_data"
    }
   ],
   "source": [
    "plt.figure(figsize=(12,5))\n",
    "plt.ylim(0, 5000000)\n",
    "sns.boxplot(y='balance', data=data)\n",
    "plt.title('Ящик с усами по балансу карты', fontsize = 16, color = '#609966')\n",
    "plt.ylabel('Баланс', fontsize = 16, color = '#609966');"
   ]
  },
  {
   "cell_type": "code",
   "execution_count": 145,
   "metadata": {},
   "outputs": [
    {
     "data": {
      "image/png": "[encoded data removed]",
      "text/plain": [
       "<Figure size 864x360 with 1 Axes>"
      ]
     },
     "metadata": {
      "needs_background": "light"
     },
     "output_type": "display_data"
    }
   ],
   "source": [
    "plt.figure(figsize=(12,5))\n",
    "plt.ylim(0, 2030000)\n",
    "sns.boxplot(y='balance', data=data)\n",
    "plt.title('Ящик с усами по балансу карты (без выбросов)', fontsize = 16, color = '#609966')\n",
    "plt.ylabel('Баланс', fontsize = 16, color = '#609966');"
   ]
  },
  {
   "cell_type": "code",
   "execution_count": 146,
   "metadata": {},
   "outputs": [
    {
     "data": {
      "image/png": "[encoded data removed]",
      "text/plain": [
       "<Figure size 864x360 with 1 Axes>"
      ]
     },
     "metadata": {
      "needs_background": "light"
     },
     "output_type": "display_data"
    }
   ],
   "source": [
    "plt.figure(figsize=(12,5))\n",
    "plt.xlim(0,3000000) \n",
    "sns.histplot(x='balance', data=data)\n",
    "plt.title('Гистограмма по балансу', fontsize = 16, color = '#609966')\n",
    "plt.xlabel('Баланс', fontsize = 16, color = '#609966')\n",
    "plt.ylabel('Количество пользователей', fontsize = 16, color = '#609966');"
   ]
  },
  {
   "cell_type": "code",
   "execution_count": 147,
   "metadata": {},
   "outputs": [
    {
     "data": {
      "text/plain": [
       "count        7664.00\n",
       "mean       828206.27\n",
       "std       1984121.61\n",
       "min             0.00\n",
       "25%        295526.57\n",
       "50%        524927.74\n",
       "75%        980753.67\n",
       "max     119113552.01\n",
       "Name: balance, dtype: float64"
      ]
     },
     "execution_count": 147,
     "metadata": {},
     "output_type": "execute_result"
    }
   ],
   "source": [
    "data['balance'].describe()"
   ]
  },
  {
   "cell_type": "code",
   "execution_count": 148,
   "metadata": {},
   "outputs": [
    {
     "data": {
      "text/plain": [
       "0.043027005239822655"
      ]
     },
     "execution_count": 148,
     "metadata": {},
     "output_type": "execute_result"
    }
   ],
   "source": [
    "len(data.query('balance > 2000000'))/len(data)"
   ]
  },
  {
   "cell_type": "code",
   "execution_count": 149,
   "metadata": {},
   "outputs": [
    {
     "data": {
      "text/plain": [
       "count      7237.00\n",
       "mean     613818.36\n",
       "std      431033.16\n",
       "min           0.00\n",
       "25%      286326.13\n",
       "50%      488932.30\n",
       "75%      872187.80\n",
       "max     1999799.18\n",
       "Name: balance, dtype: float64"
      ]
     },
     "execution_count": 149,
     "metadata": {},
     "output_type": "execute_result"
    }
   ],
   "source": [
    "data.query('balance < 2000000')['balance'].describe()"
   ]
  },
  {
   "cell_type": "markdown",
   "metadata": {},
   "source": [
    "**В глаза сразу бросаются аномальные суммы баланса на карте - свыше 2 млн.ед.Такие данные занимают 4% от всех, что достаточно много.В целом баланс большинства пользователей варьируется от 295526 до 980753 единиц**"
   ]
  },
  {
   "cell_type": "code",
   "execution_count": 150,
   "metadata": {},
   "outputs": [
    {
     "data": {
      "image/png": "[encoded data removed]",
      "text/plain": [
       "<Figure size 864x360 with 1 Axes>"
      ]
     },
     "metadata": {
      "needs_background": "light"
     },
     "output_type": "display_data"
    }
   ],
   "source": [
    "plt.figure(figsize=(12,5))\n",
    "plt.xlim(0,3000000)\n",
    "sns.histplot(x='balance',hue='churn', stat='density', common_norm=False, data=data)\n",
    "plt.title(' Гистограмма по балансу в разрезе отточности', fontsize = 16, color = '#609966')\n",
    "plt.xlabel('Баланс', fontsize = 16, color = '#609966')\n",
    "plt.ylabel('Плотность', fontsize = 16, color = '#609966');"
   ]
  },
  {
   "cell_type": "code",
   "execution_count": 151,
   "metadata": {},
   "outputs": [
    {
     "data": {
      "image/png": "[encoded data removed]",
      "text/plain": [
       "<Figure size 864x360 with 1 Axes>"
      ]
     },
     "metadata": {
      "needs_background": "light"
     },
     "output_type": "display_data"
    }
   ],
   "source": [
    "plt.figure(figsize=(12,5))\n",
    "plt.ylim(0,5000000) \n",
    "sns.boxplot(y='balance', x = 'churn', data=data)\n",
    "plt.title('Ящики с усами по балансу в разрезе отточности', fontsize = 16, color = '#609966')\n",
    "plt.ylabel('Баланс', fontsize = 16, color = '#609966')\n",
    "plt.xlabel('Статус по оттоку', fontsize = 16, color = '#609966');"
   ]
  },
  {
   "cell_type": "code",
   "execution_count": 152,
   "metadata": {},
   "outputs": [
    {
     "data": {
      "text/plain": [
       "count        5858.00\n",
       "mean       733789.92\n",
       "std       1958890.42\n",
       "min             0.00\n",
       "25%        279013.32\n",
       "50%        475382.45\n",
       "75%        853815.30\n",
       "max     119113552.01\n",
       "Name: balance, dtype: float64"
      ]
     },
     "execution_count": 152,
     "metadata": {},
     "output_type": "execute_result"
    }
   ],
   "source": [
    "data.query('churn == 0')['balance'].describe()"
   ]
  },
  {
   "cell_type": "code",
   "execution_count": 153,
   "metadata": {},
   "outputs": [
    {
     "data": {
      "text/plain": [
       "count       1806.00\n",
       "mean     1134458.21\n",
       "std      2034445.55\n",
       "min            6.00\n",
       "25%       387482.16\n",
       "50%       783908.90\n",
       "75%      1348127.55\n",
       "max     64866210.15\n",
       "Name: balance, dtype: float64"
      ]
     },
     "execution_count": 153,
     "metadata": {},
     "output_type": "execute_result"
    }
   ],
   "source": [
    "data.query('churn == 1')['balance'].describe()"
   ]
  },
  {
   "cell_type": "markdown",
   "metadata": {},
   "source": [
    "**Отток пользователей с балансом выше 1250000 выше, чем в среднем по банку**"
   ]
  },
  {
   "cell_type": "markdown",
   "metadata": {},
   "source": [
    "#### Столбец est_salary - заработная плата клиентов"
   ]
  },
  {
   "cell_type": "code",
   "execution_count": 154,
   "metadata": {},
   "outputs": [
    {
     "data": {
      "image/png": "[encoded data removed]",
      "text/plain": [
       "<Figure size 864x360 with 1 Axes>"
      ]
     },
     "metadata": {
      "needs_background": "light"
     },
     "output_type": "display_data"
    }
   ],
   "source": [
    "plt.figure(figsize=(12,5))\n",
    "plt.ylim(0, 1000000)\n",
    "sns.boxplot(y='est_salary', data=data)\n",
    "plt.title('Ящик с усами по зарплате', fontsize = 16, color = '#609966')\n",
    "plt.ylabel('Зарплата', fontsize = 16, color = '#609966');"
   ]
  },
  {
   "cell_type": "code",
   "execution_count": 155,
   "metadata": {},
   "outputs": [
    {
     "data": {
      "image/png": "[encoded data removed]",
      "text/plain": [
       "<Figure size 864x360 with 1 Axes>"
      ]
     },
     "metadata": {
      "needs_background": "light"
     },
     "output_type": "display_data"
    }
   ],
   "source": [
    "plt.figure(figsize=(12,5))\n",
    "plt.ylim(0, 327000)\n",
    "sns.boxplot(y='est_salary', data=data)\n",
    "plt.title('Ящик с усами по зарплате (без выбросов)', fontsize = 16, color = '#609966')\n",
    "plt.ylabel('Зарплата', fontsize = 16, color = '#609966');"
   ]
  },
  {
   "cell_type": "code",
   "execution_count": 156,
   "metadata": {},
   "outputs": [
    {
     "data": {
      "text/plain": [
       "count      9924.00\n",
       "mean     147880.18\n",
       "std      139358.30\n",
       "min        2546.30\n",
       "25%       75252.18\n",
       "50%      119715.39\n",
       "75%      174666.93\n",
       "max     1395064.45\n",
       "Name: est_salary, dtype: float64"
      ]
     },
     "execution_count": 156,
     "metadata": {},
     "output_type": "execute_result"
    }
   ],
   "source": [
    "data['est_salary'].describe()"
   ]
  },
  {
   "cell_type": "code",
   "execution_count": 157,
   "metadata": {},
   "outputs": [
    {
     "data": {
      "image/png": "[encoded data removed]",
      "text/plain": [
       "<Figure size 864x360 with 1 Axes>"
      ]
     },
     "metadata": {
      "needs_background": "light"
     },
     "output_type": "display_data"
    }
   ],
   "source": [
    "plt.figure(figsize=(12,5))\n",
    "plt.xlim(0,400000) \n",
    "sns.histplot(x='est_salary', data=data)\n",
    "plt.title('Гистограмма по зарплате', fontsize = 16, color = '#609966')\n",
    "plt.xlabel('Зарплата', fontsize = 16, color = '#609966')\n",
    "plt.ylabel('Количество пользователей', fontsize = 16, color = '#609966');"
   ]
  },
  {
   "cell_type": "code",
   "execution_count": 158,
   "metadata": {},
   "outputs": [
    {
     "data": {
      "text/plain": [
       "0.04746070133010883"
      ]
     },
     "execution_count": 158,
     "metadata": {},
     "output_type": "execute_result"
    }
   ],
   "source": [
    "len(data.query('est_salary > 325000'))/len(data)"
   ]
  },
  {
   "cell_type": "markdown",
   "metadata": {},
   "source": [
    "**Большинство пользователей с зарплатой 75 - 175 тыс. единиц.Есть выбросы (составляют около 5% данных) - зарплаты свыше 325 тыс. ед.**"
   ]
  },
  {
   "cell_type": "code",
   "execution_count": 159,
   "metadata": {},
   "outputs": [
    {
     "data": {
      "image/png": "[encoded data removed]",
      "text/plain": [
       "<Figure size 864x360 with 1 Axes>"
      ]
     },
     "metadata": {
      "needs_background": "light"
     },
     "output_type": "display_data"
    }
   ],
   "source": [
    "plt.figure(figsize=(12,5))\n",
    "plt.xlim(0,500000)\n",
    "sns.histplot(x='est_salary',hue='churn', stat='density', common_norm=False, data=data)\n",
    "plt.title(' Гистограмма по зарплате в разрезе отточности', fontsize = 16, color = '#609966')\n",
    "plt.xlabel('Зарплата', fontsize = 16, color = '#609966')\n",
    "plt.ylabel('Плотность', fontsize = 16, color = '#609966');"
   ]
  },
  {
   "cell_type": "code",
   "execution_count": 160,
   "metadata": {},
   "outputs": [
    {
     "data": {
      "text/plain": [
       "count      8105.00\n",
       "mean     147788.27\n",
       "std      142792.18\n",
       "min        2546.30\n",
       "25%       73489.66\n",
       "50%      118247.25\n",
       "75%      174087.83\n",
       "max     1395064.45\n",
       "Name: est_salary, dtype: float64"
      ]
     },
     "execution_count": 160,
     "metadata": {},
     "output_type": "execute_result"
    }
   ],
   "source": [
    "data.query('churn == 0')['est_salary'].describe()"
   ]
  },
  {
   "cell_type": "code",
   "execution_count": 161,
   "metadata": {},
   "outputs": [
    {
     "data": {
      "text/plain": [
       "count      1819.00\n",
       "mean     148289.70\n",
       "std      122932.16\n",
       "min       10880.27\n",
       "25%       83196.61\n",
       "50%      125395.22\n",
       "75%      175985.39\n",
       "max     1263028.49\n",
       "Name: est_salary, dtype: float64"
      ]
     },
     "execution_count": 161,
     "metadata": {},
     "output_type": "execute_result"
    }
   ],
   "source": [
    "data.query('churn == 1')['est_salary'].describe()"
   ]
  },
  {
   "cell_type": "markdown",
   "metadata": {},
   "source": [
    "**Отток пользователей с зарплатой 90000-210000 выше, чем в среднем по банку.**"
   ]
  },
  {
   "cell_type": "markdown",
   "metadata": {},
   "source": [
    "#### Столбец age - возраст клиента"
   ]
  },
  {
   "cell_type": "code",
   "execution_count": 162,
   "metadata": {},
   "outputs": [
    {
     "data": {
      "image/png": "[encoded data removed]",
      "text/plain": [
       "<Figure size 864x360 with 1 Axes>"
      ]
     },
     "metadata": {
      "needs_background": "light"
     },
     "output_type": "display_data"
    }
   ],
   "source": [
    "plt.figure(figsize=(12,5))\n",
    "plt.xlim(18,90)\n",
    "sns.histplot(x='age',hue='churn', stat='density', common_norm=False, data=data)\n",
    "plt.title(' Гистограмма по возрасту в разрезе отточности', fontsize = 16, color = '#609966')\n",
    "plt.xlabel('Возраст', fontsize = 16, color = '#609966')\n",
    "plt.ylabel('Плотность', fontsize = 16, color = '#609966');"
   ]
  },
  {
   "cell_type": "code",
   "execution_count": 163,
   "metadata": {},
   "outputs": [
    {
     "data": {
      "text/plain": [
       "count   9924.00\n",
       "mean      42.73\n",
       "std       12.18\n",
       "min       18.00\n",
       "25%       33.00\n",
       "50%       40.00\n",
       "75%       51.00\n",
       "max       86.00\n",
       "Name: age, dtype: float64"
      ]
     },
     "execution_count": 163,
     "metadata": {},
     "output_type": "execute_result"
    }
   ],
   "source": [
    "data['age'].describe()"
   ]
  },
  {
   "cell_type": "markdown",
   "metadata": {},
   "source": [
    "**Видим, что у клиентов в возрасте 23-35 и 50-59 лет уровень оттока выше, чем в среднем по банку.**"
   ]
  },
  {
   "cell_type": "markdown",
   "metadata": {},
   "source": [
    "**Промежуточный вывод по гистограммам:**\n",
    "- Отток пользователей с балансом выше 1250000 выше, чем в среднем по банку.\n",
    "- Отток пользователей с зарплатой 900000-2100000 выше, чем в среднем по банку.\n",
    "- Отток пользователей с баллами скоринга 825-910 выше, чем в с реднем по банку.\n",
    "- Отток пользователей в возрасте 23-35 и 50-59 выше, чем в среднем по банку."
   ]
  },
  {
   "cell_type": "markdown",
   "metadata": {},
   "source": [
    "#### Столбец city - город пользователя"
   ]
  },
  {
   "cell_type": "code",
   "execution_count": 164,
   "metadata": {},
   "outputs": [
    {
     "data": {
      "text/plain": [
       "0.18"
      ]
     },
     "execution_count": 164,
     "metadata": {},
     "output_type": "execute_result"
    }
   ],
   "source": [
    "# расчитаем средний уровень оттока по банку \n",
    "bank_middle_churn = round(data['churn'].mean(), 2)\n",
    "bank_middle_churn"
   ]
  },
  {
   "cell_type": "code",
   "execution_count": 165,
   "metadata": {},
   "outputs": [
    {
     "data": {
      "text/plain": [
       "Ярославль    5854\n",
       "Рыбинск      2654\n",
       "Ростов       1416\n",
       "Name: city, dtype: int64"
      ]
     },
     "execution_count": 165,
     "metadata": {},
     "output_type": "execute_result"
    }
   ],
   "source": [
    "data['city'].value_counts()"
   ]
  },
  {
   "cell_type": "code",
   "execution_count": 166,
   "metadata": {},
   "outputs": [
    {
     "data": {
      "text/html": [
       "<div>\n",
       "<style scoped>\n",
       "    .dataframe tbody tr th:only-of-type {\n",
       "        vertical-align: middle;\n",
       "    }\n",
       "\n",
       "    .dataframe tbody tr th {\n",
       "        vertical-align: top;\n",
       "    }\n",
       "\n",
       "    .dataframe thead th {\n",
       "        text-align: right;\n",
       "    }\n",
       "</style>\n",
       "<table border=\"1\" class=\"dataframe\">\n",
       "  <thead>\n",
       "    <tr style=\"text-align: right;\">\n",
       "      <th></th>\n",
       "      <th>city</th>\n",
       "      <th>mean_churn</th>\n",
       "    </tr>\n",
       "  </thead>\n",
       "  <tbody>\n",
       "    <tr>\n",
       "      <th>1</th>\n",
       "      <td>Рыбинск</td>\n",
       "      <td>0.16</td>\n",
       "    </tr>\n",
       "    <tr>\n",
       "      <th>0</th>\n",
       "      <td>Ростов</td>\n",
       "      <td>0.19</td>\n",
       "    </tr>\n",
       "    <tr>\n",
       "      <th>2</th>\n",
       "      <td>Ярославль</td>\n",
       "      <td>0.19</td>\n",
       "    </tr>\n",
       "  </tbody>\n",
       "</table>\n",
       "</div>"
      ],
      "text/plain": [
       "        city  mean_churn\n",
       "1    Рыбинск        0.16\n",
       "0     Ростов        0.19\n",
       "2  Ярославль        0.19"
      ]
     },
     "execution_count": 166,
     "metadata": {},
     "output_type": "execute_result"
    }
   ],
   "source": [
    "city_churn = data.groupby('city', as_index = False).agg({'churn':'mean'}).sort_values(by='churn')\n",
    "city_churn.columns= ['city', 'mean_churn']\n",
    "city_churn"
   ]
  },
  {
   "cell_type": "code",
   "execution_count": 167,
   "metadata": {},
   "outputs": [
    {
     "data": {
      "image/png": "[encoded data removed]",
      "text/plain": [
       "<Figure size 864x360 with 1 Axes>"
      ]
     },
     "metadata": {
      "needs_background": "light"
     },
     "output_type": "display_data"
    }
   ],
   "source": [
    "plt.figure(figsize = (12,5))\n",
    "sns.barplot(data=city_churn, x='mean_churn', y='city')\n",
    "plt.title('Уровень оттока по городам', fontsize = 16, color = '#609966')\n",
    "plt.xlabel('Средний отток', fontsize = 16, color = '#609966')\n",
    "plt.ylabel('Город', fontsize = 16, color = '#609966')\n",
    "plt.axvline (x=bank_middle_churn, color='red', linestyle='--', label='Средний отток по банку')\n",
    "plt.legend();\n"
   ]
  },
  {
   "cell_type": "markdown",
   "metadata": {},
   "source": [
    "**Видим, что в Ростове и Ярославле отток пользователей выше, чем в среднем по банку.**"
   ]
  },
  {
   "cell_type": "markdown",
   "metadata": {},
   "source": [
    "#### Столбец gender - пол пользователя"
   ]
  },
  {
   "cell_type": "code",
   "execution_count": 168,
   "metadata": {},
   "outputs": [
    {
     "data": {
      "text/plain": [
       "М    4971\n",
       "Ж    4953\n",
       "Name: gender, dtype: int64"
      ]
     },
     "execution_count": 168,
     "metadata": {},
     "output_type": "execute_result"
    }
   ],
   "source": [
    "data['gender'].value_counts()"
   ]
  },
  {
   "cell_type": "code",
   "execution_count": 169,
   "metadata": {},
   "outputs": [
    {
     "data": {
      "text/html": [
       "<div>\n",
       "<style scoped>\n",
       "    .dataframe tbody tr th:only-of-type {\n",
       "        vertical-align: middle;\n",
       "    }\n",
       "\n",
       "    .dataframe tbody tr th {\n",
       "        vertical-align: top;\n",
       "    }\n",
       "\n",
       "    .dataframe thead th {\n",
       "        text-align: right;\n",
       "    }\n",
       "</style>\n",
       "<table border=\"1\" class=\"dataframe\">\n",
       "  <thead>\n",
       "    <tr style=\"text-align: right;\">\n",
       "      <th></th>\n",
       "      <th>gender</th>\n",
       "      <th>mean_churn</th>\n",
       "    </tr>\n",
       "  </thead>\n",
       "  <tbody>\n",
       "    <tr>\n",
       "      <th>0</th>\n",
       "      <td>Ж</td>\n",
       "      <td>0.13</td>\n",
       "    </tr>\n",
       "    <tr>\n",
       "      <th>1</th>\n",
       "      <td>М</td>\n",
       "      <td>0.24</td>\n",
       "    </tr>\n",
       "  </tbody>\n",
       "</table>\n",
       "</div>"
      ],
      "text/plain": [
       "  gender  mean_churn\n",
       "0      Ж        0.13\n",
       "1      М        0.24"
      ]
     },
     "execution_count": 169,
     "metadata": {},
     "output_type": "execute_result"
    }
   ],
   "source": [
    "gender_churn = data.groupby('gender', as_index = False).agg({'churn':'mean'}).sort_values(by='churn')\n",
    "gender_churn.columns= ['gender', 'mean_churn']\n",
    "gender_churn"
   ]
  },
  {
   "cell_type": "code",
   "execution_count": 170,
   "metadata": {},
   "outputs": [
    {
     "data": {
      "image/png": "[encoded data removed]",
      "text/plain": [
       "<Figure size 864x360 with 1 Axes>"
      ]
     },
     "metadata": {
      "needs_background": "light"
     },
     "output_type": "display_data"
    }
   ],
   "source": [
    "plt.figure(figsize = (12,5))\n",
    "sns.barplot(data=gender_churn, x='mean_churn', y='gender')\n",
    "plt.title('Уровень оттока по гендеру', fontsize = 16, color = '#609966')\n",
    "plt.xlabel('Средний отток', fontsize = 16, color = '#609966')\n",
    "plt.ylabel('Пол', fontsize = 16, color = '#609966')\n",
    "plt.axvline (x=bank_middle_churn, color='red', linestyle='--', label ='Средний отток по банку')\n",
    "plt.legend();"
   ]
  },
  {
   "cell_type": "markdown",
   "metadata": {},
   "source": [
    "**Уровень оттока мужчин больше, чем в среднем по банку.**"
   ]
  },
  {
   "cell_type": "code",
   "execution_count": 171,
   "metadata": {},
   "outputs": [
    {
     "data": {
      "text/html": [
       "<div>\n",
       "<style scoped>\n",
       "    .dataframe tbody tr th:only-of-type {\n",
       "        vertical-align: middle;\n",
       "    }\n",
       "\n",
       "    .dataframe tbody tr th {\n",
       "        vertical-align: top;\n",
       "    }\n",
       "\n",
       "    .dataframe thead th {\n",
       "        text-align: right;\n",
       "    }\n",
       "</style>\n",
       "<table border=\"1\" class=\"dataframe\">\n",
       "  <thead>\n",
       "    <tr style=\"text-align: right;\">\n",
       "      <th></th>\n",
       "      <th>user_id</th>\n",
       "      <th>score</th>\n",
       "      <th>city</th>\n",
       "      <th>gender</th>\n",
       "      <th>age</th>\n",
       "      <th>equity</th>\n",
       "      <th>balance</th>\n",
       "      <th>products</th>\n",
       "      <th>credit_card</th>\n",
       "      <th>last_activity</th>\n",
       "      <th>est_salary</th>\n",
       "      <th>churn</th>\n",
       "      <th>rostov</th>\n",
       "      <th>rybinsk</th>\n",
       "      <th>yaroslavl</th>\n",
       "      <th>female</th>\n",
       "      <th>male</th>\n",
       "    </tr>\n",
       "  </thead>\n",
       "  <tbody>\n",
       "    <tr>\n",
       "      <th>0</th>\n",
       "      <td>183012</td>\n",
       "      <td>850</td>\n",
       "      <td>Рыбинск</td>\n",
       "      <td>Ж</td>\n",
       "      <td>25</td>\n",
       "      <td>1</td>\n",
       "      <td>59214.82</td>\n",
       "      <td>2</td>\n",
       "      <td>0</td>\n",
       "      <td>1</td>\n",
       "      <td>75719.14</td>\n",
       "      <td>1</td>\n",
       "      <td>0</td>\n",
       "      <td>1</td>\n",
       "      <td>0</td>\n",
       "      <td>1</td>\n",
       "      <td>0</td>\n",
       "    </tr>\n",
       "    <tr>\n",
       "      <th>1</th>\n",
       "      <td>146556</td>\n",
       "      <td>861</td>\n",
       "      <td>Рыбинск</td>\n",
       "      <td>Ж</td>\n",
       "      <td>37</td>\n",
       "      <td>5</td>\n",
       "      <td>850594.33</td>\n",
       "      <td>3</td>\n",
       "      <td>1</td>\n",
       "      <td>0</td>\n",
       "      <td>86621.77</td>\n",
       "      <td>0</td>\n",
       "      <td>0</td>\n",
       "      <td>1</td>\n",
       "      <td>0</td>\n",
       "      <td>1</td>\n",
       "      <td>0</td>\n",
       "    </tr>\n",
       "    <tr>\n",
       "      <th>2</th>\n",
       "      <td>120722</td>\n",
       "      <td>892</td>\n",
       "      <td>Рыбинск</td>\n",
       "      <td>Ж</td>\n",
       "      <td>30</td>\n",
       "      <td>0</td>\n",
       "      <td>NaN</td>\n",
       "      <td>1</td>\n",
       "      <td>1</td>\n",
       "      <td>1</td>\n",
       "      <td>107683.34</td>\n",
       "      <td>0</td>\n",
       "      <td>0</td>\n",
       "      <td>1</td>\n",
       "      <td>0</td>\n",
       "      <td>1</td>\n",
       "      <td>0</td>\n",
       "    </tr>\n",
       "    <tr>\n",
       "      <th>3</th>\n",
       "      <td>225363</td>\n",
       "      <td>866</td>\n",
       "      <td>Ярославль</td>\n",
       "      <td>Ж</td>\n",
       "      <td>51</td>\n",
       "      <td>5</td>\n",
       "      <td>1524746.26</td>\n",
       "      <td>2</td>\n",
       "      <td>0</td>\n",
       "      <td>1</td>\n",
       "      <td>174423.53</td>\n",
       "      <td>1</td>\n",
       "      <td>0</td>\n",
       "      <td>0</td>\n",
       "      <td>1</td>\n",
       "      <td>1</td>\n",
       "      <td>0</td>\n",
       "    </tr>\n",
       "    <tr>\n",
       "      <th>4</th>\n",
       "      <td>157978</td>\n",
       "      <td>730</td>\n",
       "      <td>Ярославль</td>\n",
       "      <td>М</td>\n",
       "      <td>34</td>\n",
       "      <td>5</td>\n",
       "      <td>174.00</td>\n",
       "      <td>1</td>\n",
       "      <td>1</td>\n",
       "      <td>0</td>\n",
       "      <td>67353.16</td>\n",
       "      <td>1</td>\n",
       "      <td>0</td>\n",
       "      <td>0</td>\n",
       "      <td>1</td>\n",
       "      <td>0</td>\n",
       "      <td>1</td>\n",
       "    </tr>\n",
       "  </tbody>\n",
       "</table>\n",
       "</div>"
      ],
      "text/plain": [
       "   user_id  score       city gender  age  equity    balance  products  \\\n",
       "0   183012    850    Рыбинск      Ж   25       1   59214.82         2   \n",
       "1   146556    861    Рыбинск      Ж   37       5  850594.33         3   \n",
       "2   120722    892    Рыбинск      Ж   30       0        NaN         1   \n",
       "3   225363    866  Ярославль      Ж   51       5 1524746.26         2   \n",
       "4   157978    730  Ярославль      М   34       5     174.00         1   \n",
       "\n",
       "   credit_card  last_activity  est_salary  churn  rostov  rybinsk  yaroslavl  \\\n",
       "0            0              1    75719.14      1       0        1          0   \n",
       "1            1              0    86621.77      0       0        1          0   \n",
       "2            1              1   107683.34      0       0        1          0   \n",
       "3            0              1   174423.53      1       0        0          1   \n",
       "4            1              0    67353.16      1       0        0          1   \n",
       "\n",
       "   female  male  \n",
       "0       1     0  \n",
       "1       1     0  \n",
       "2       1     0  \n",
       "3       1     0  \n",
       "4       0     1  "
      ]
     },
     "execution_count": 171,
     "metadata": {},
     "output_type": "execute_result"
    }
   ],
   "source": [
    "data.head()"
   ]
  },
  {
   "cell_type": "markdown",
   "metadata": {},
   "source": [
    "#### Столбец equity - оценка недвижимости"
   ]
  },
  {
   "cell_type": "code",
   "execution_count": 172,
   "metadata": {},
   "outputs": [
    {
     "data": {
      "text/plain": [
       "0    2554\n",
       "5    1910\n",
       "4    1841\n",
       "3    1532\n",
       "2    1046\n",
       "1     771\n",
       "6     161\n",
       "7      79\n",
       "8      17\n",
       "9      13\n",
       "Name: equity, dtype: int64"
      ]
     },
     "execution_count": 172,
     "metadata": {},
     "output_type": "execute_result"
    }
   ],
   "source": [
    "data['equity'].value_counts()"
   ]
  },
  {
   "cell_type": "markdown",
   "metadata": {},
   "source": [
    "**Клиентов с оценками выше 5 очень мало, поэтому мы не можем судить об их уровне оттока.**"
   ]
  },
  {
   "cell_type": "code",
   "execution_count": 173,
   "metadata": {},
   "outputs": [
    {
     "data": {
      "text/html": [
       "<div>\n",
       "<style scoped>\n",
       "    .dataframe tbody tr th:only-of-type {\n",
       "        vertical-align: middle;\n",
       "    }\n",
       "\n",
       "    .dataframe tbody tr th {\n",
       "        vertical-align: top;\n",
       "    }\n",
       "\n",
       "    .dataframe thead th {\n",
       "        text-align: right;\n",
       "    }\n",
       "</style>\n",
       "<table border=\"1\" class=\"dataframe\">\n",
       "  <thead>\n",
       "    <tr style=\"text-align: right;\">\n",
       "      <th></th>\n",
       "      <th>equity</th>\n",
       "      <th>mean_churn</th>\n",
       "    </tr>\n",
       "  </thead>\n",
       "  <tbody>\n",
       "    <tr>\n",
       "      <th>0</th>\n",
       "      <td>0</td>\n",
       "      <td>0.04</td>\n",
       "    </tr>\n",
       "    <tr>\n",
       "      <th>1</th>\n",
       "      <td>1</td>\n",
       "      <td>0.12</td>\n",
       "    </tr>\n",
       "    <tr>\n",
       "      <th>2</th>\n",
       "      <td>2</td>\n",
       "      <td>0.16</td>\n",
       "    </tr>\n",
       "    <tr>\n",
       "      <th>3</th>\n",
       "      <td>3</td>\n",
       "      <td>0.21</td>\n",
       "    </tr>\n",
       "    <tr>\n",
       "      <th>4</th>\n",
       "      <td>4</td>\n",
       "      <td>0.25</td>\n",
       "    </tr>\n",
       "    <tr>\n",
       "      <th>5</th>\n",
       "      <td>5</td>\n",
       "      <td>0.30</td>\n",
       "    </tr>\n",
       "    <tr>\n",
       "      <th>8</th>\n",
       "      <td>8</td>\n",
       "      <td>0.35</td>\n",
       "    </tr>\n",
       "    <tr>\n",
       "      <th>6</th>\n",
       "      <td>6</td>\n",
       "      <td>0.36</td>\n",
       "    </tr>\n",
       "    <tr>\n",
       "      <th>7</th>\n",
       "      <td>7</td>\n",
       "      <td>0.47</td>\n",
       "    </tr>\n",
       "    <tr>\n",
       "      <th>9</th>\n",
       "      <td>9</td>\n",
       "      <td>0.54</td>\n",
       "    </tr>\n",
       "  </tbody>\n",
       "</table>\n",
       "</div>"
      ],
      "text/plain": [
       "   equity  mean_churn\n",
       "0       0        0.04\n",
       "1       1        0.12\n",
       "2       2        0.16\n",
       "3       3        0.21\n",
       "4       4        0.25\n",
       "5       5        0.30\n",
       "8       8        0.35\n",
       "6       6        0.36\n",
       "7       7        0.47\n",
       "9       9        0.54"
      ]
     },
     "execution_count": 173,
     "metadata": {},
     "output_type": "execute_result"
    }
   ],
   "source": [
    "equity_churn = data.groupby('equity', as_index = False).agg({'churn':'mean'}).sort_values(by='churn')\n",
    "equity_churn.columns= ['equity', 'mean_churn']\n",
    "equity_churn"
   ]
  },
  {
   "cell_type": "markdown",
   "metadata": {},
   "source": [
    "**Несмотря на то, что клиенты с оценками выше 5 имеют уровень отточности выше среднего по банку, не будем делать о них выводы**"
   ]
  },
  {
   "cell_type": "code",
   "execution_count": 174,
   "metadata": {},
   "outputs": [
    {
     "data": {
      "image/png": "[encoded data removed]",
      "text/plain": [
       "<Figure size 864x360 with 1 Axes>"
      ]
     },
     "metadata": {
      "needs_background": "light"
     },
     "output_type": "display_data"
    }
   ],
   "source": [
    "plt.figure(figsize = (12,5))\n",
    "sns.barplot(data=equity_churn.query('equity < 6'), x='equity', y='mean_churn', order = list(equity_churn.query('equity < 6').sort_values(by='mean_churn')['equity']))\n",
    "plt.title('Уровень оттока по оценке недвижимости', fontsize = 16, color = '#609966')\n",
    "plt.xlabel('Оценка недвижимости', fontsize = 16, color = '#609966')\n",
    "plt.ylabel('Средний отток', fontsize = 16, color = '#609966')\n",
    "plt.axhline (y=bank_middle_churn, color='red', linestyle='--', label ='Средний отток по банку')\n",
    "plt.legend();"
   ]
  },
  {
   "cell_type": "markdown",
   "metadata": {},
   "source": [
    "**Видим, что уровень оттока у клиентов с оценкой недвижимости 3 и более выше среднего оттока по банку. Уточним, что оценок выше 5 совсем мало, поэтому мы не можем утверждать, что эти клиенты являются отточными.**"
   ]
  },
  {
   "cell_type": "markdown",
   "metadata": {},
   "source": [
    "\n",
    "<div class=\"alert alert-success\">\n",
    "<b>Комментарий ревьюера:</b>☀️Хорошая идея - добавлять отметку о среднем уровне оттока на графики, есть с чем сравнивать</div>"
   ]
  },
  {
   "cell_type": "markdown",
   "metadata": {},
   "source": [
    "#### Столбец products - количество используемых продуктов"
   ]
  },
  {
   "cell_type": "code",
   "execution_count": 175,
   "metadata": {},
   "outputs": [
    {
     "data": {
      "text/plain": [
       "2    5095\n",
       "1    3306\n",
       "3    1029\n",
       "4     474\n",
       "5      19\n",
       "0       1\n",
       "Name: products, dtype: int64"
      ]
     },
     "execution_count": 175,
     "metadata": {},
     "output_type": "execute_result"
    }
   ],
   "source": [
    "data['products'].value_counts()"
   ]
  },
  {
   "cell_type": "markdown",
   "metadata": {},
   "source": [
    "**Не можем судить об уровне отточности клиентов, использующих 0 и 5 продуктов**"
   ]
  },
  {
   "cell_type": "code",
   "execution_count": 176,
   "metadata": {},
   "outputs": [
    {
     "data": {
      "text/html": [
       "<div>\n",
       "<style scoped>\n",
       "    .dataframe tbody tr th:only-of-type {\n",
       "        vertical-align: middle;\n",
       "    }\n",
       "\n",
       "    .dataframe tbody tr th {\n",
       "        vertical-align: top;\n",
       "    }\n",
       "\n",
       "    .dataframe thead th {\n",
       "        text-align: right;\n",
       "    }\n",
       "</style>\n",
       "<table border=\"1\" class=\"dataframe\">\n",
       "  <thead>\n",
       "    <tr style=\"text-align: right;\">\n",
       "      <th></th>\n",
       "      <th>products</th>\n",
       "      <th>mean_churn</th>\n",
       "    </tr>\n",
       "  </thead>\n",
       "  <tbody>\n",
       "    <tr>\n",
       "      <th>1</th>\n",
       "      <td>1</td>\n",
       "      <td>0.07</td>\n",
       "    </tr>\n",
       "    <tr>\n",
       "      <th>2</th>\n",
       "      <td>2</td>\n",
       "      <td>0.19</td>\n",
       "    </tr>\n",
       "    <tr>\n",
       "      <th>3</th>\n",
       "      <td>3</td>\n",
       "      <td>0.29</td>\n",
       "    </tr>\n",
       "    <tr>\n",
       "      <th>5</th>\n",
       "      <td>5</td>\n",
       "      <td>0.42</td>\n",
       "    </tr>\n",
       "    <tr>\n",
       "      <th>4</th>\n",
       "      <td>4</td>\n",
       "      <td>0.63</td>\n",
       "    </tr>\n",
       "    <tr>\n",
       "      <th>0</th>\n",
       "      <td>0</td>\n",
       "      <td>1.00</td>\n",
       "    </tr>\n",
       "  </tbody>\n",
       "</table>\n",
       "</div>"
      ],
      "text/plain": [
       "   products  mean_churn\n",
       "1         1        0.07\n",
       "2         2        0.19\n",
       "3         3        0.29\n",
       "5         5        0.42\n",
       "4         4        0.63\n",
       "0         0        1.00"
      ]
     },
     "execution_count": 176,
     "metadata": {},
     "output_type": "execute_result"
    }
   ],
   "source": [
    "products_churn = data.groupby('products', as_index = False).agg({'churn':'mean'}).sort_values(by='churn')\n",
    "products_churn.columns= ['products', 'mean_churn']\n",
    "products_churn"
   ]
  },
  {
   "cell_type": "markdown",
   "metadata": {},
   "source": [
    "**Несмотря на то, что клиенты, использующие 0 и 5 продуктов, имеют уровень отточности выше среднего по банку, не будем делать о них выводы**"
   ]
  },
  {
   "cell_type": "code",
   "execution_count": 177,
   "metadata": {},
   "outputs": [
    {
     "data": {
      "image/png": "[encoded data removed]",
      "text/plain": [
       "<Figure size 864x360 with 1 Axes>"
      ]
     },
     "metadata": {
      "needs_background": "light"
     },
     "output_type": "display_data"
    }
   ],
   "source": [
    "plt.figure(figsize = (12,5))\n",
    "sns.barplot(data=products_churn.query('products != 0 and products!=5'), x='products', y='mean_churn')\n",
    "plt.title('Уровень оттока по количеству продуктов', fontsize = 16, color = '#609966')\n",
    "plt.xlabel('Количество продуктов', fontsize = 16, color = '#609966')\n",
    "plt.ylabel('Средний отток', fontsize = 16, color = '#609966')\n",
    "plt.axhline (y=bank_middle_churn, color='red', linestyle='--', label ='Средний отток по банку')\n",
    "plt.legend();"
   ]
  },
  {
   "cell_type": "markdown",
   "metadata": {},
   "source": [
    "**Уровень оттока клиентов, пользующихся двумя, тремя и четырьмя продуктами, выше среднего оттока по банку.Уточним, что уровень оттока пользователей 0 и 5 продуктов также выше банковского, но из-за маленького количества людей, делать выводы о них мы не можем.**"
   ]
  },
  {
   "cell_type": "markdown",
   "metadata": {},
   "source": [
    "#### Столбец last_activity - активность клиента"
   ]
  },
  {
   "cell_type": "code",
   "execution_count": 178,
   "metadata": {},
   "outputs": [
    {
     "data": {
      "text/plain": [
       "1    5194\n",
       "0    4730\n",
       "Name: last_activity, dtype: int64"
      ]
     },
     "execution_count": 178,
     "metadata": {},
     "output_type": "execute_result"
    }
   ],
   "source": [
    "data['last_activity'].value_counts()"
   ]
  },
  {
   "cell_type": "code",
   "execution_count": 179,
   "metadata": {},
   "outputs": [
    {
     "data": {
      "text/html": [
       "<div>\n",
       "<style scoped>\n",
       "    .dataframe tbody tr th:only-of-type {\n",
       "        vertical-align: middle;\n",
       "    }\n",
       "\n",
       "    .dataframe tbody tr th {\n",
       "        vertical-align: top;\n",
       "    }\n",
       "\n",
       "    .dataframe thead th {\n",
       "        text-align: right;\n",
       "    }\n",
       "</style>\n",
       "<table border=\"1\" class=\"dataframe\">\n",
       "  <thead>\n",
       "    <tr style=\"text-align: right;\">\n",
       "      <th></th>\n",
       "      <th>last_activity</th>\n",
       "      <th>mean_churn</th>\n",
       "    </tr>\n",
       "  </thead>\n",
       "  <tbody>\n",
       "    <tr>\n",
       "      <th>0</th>\n",
       "      <td>0</td>\n",
       "      <td>0.11</td>\n",
       "    </tr>\n",
       "    <tr>\n",
       "      <th>1</th>\n",
       "      <td>1</td>\n",
       "      <td>0.25</td>\n",
       "    </tr>\n",
       "  </tbody>\n",
       "</table>\n",
       "</div>"
      ],
      "text/plain": [
       "   last_activity  mean_churn\n",
       "0              0        0.11\n",
       "1              1        0.25"
      ]
     },
     "execution_count": 179,
     "metadata": {},
     "output_type": "execute_result"
    }
   ],
   "source": [
    "last_activity_churn = data.groupby('last_activity', as_index=False)[['churn']].mean().sort_values(by='churn')\n",
    "last_activity_churn.columns = ['last_activity', 'mean_churn']\n",
    "last_activity_churn"
   ]
  },
  {
   "cell_type": "code",
   "execution_count": 180,
   "metadata": {},
   "outputs": [
    {
     "data": {
      "image/png": "[encoded data removed]",
      "text/plain": [
       "<Figure size 864x360 with 1 Axes>"
      ]
     },
     "metadata": {
      "needs_background": "light"
     },
     "output_type": "display_data"
    }
   ],
   "source": [
    "plt.figure(figsize = (12,5))\n",
    "sns.barplot(data=last_activity_churn, x='last_activity', y='mean_churn')\n",
    "plt.title('Уровень оттока по активности', fontsize = 16, color = '#609966')\n",
    "plt.xlabel('Активность', fontsize = 16, color = '#609966')\n",
    "plt.ylabel('Средний отток', fontsize = 16, color = '#609966')\n",
    "plt.axhline (y=bank_middle_churn, color='red', linestyle='--', label ='Средний отток по банку')\n",
    "plt.legend();"
   ]
  },
  {
   "cell_type": "markdown",
   "metadata": {},
   "source": [
    "**Уровень оттока у пользователей, проявляющих активность, выше среднего по банку**"
   ]
  },
  {
   "cell_type": "markdown",
   "metadata": {},
   "source": [
    "#### Столбец credit_card - наличие кредитной карты"
   ]
  },
  {
   "cell_type": "code",
   "execution_count": 181,
   "metadata": {},
   "outputs": [
    {
     "data": {
      "text/plain": [
       "1    6748\n",
       "0    3176\n",
       "Name: credit_card, dtype: int64"
      ]
     },
     "execution_count": 181,
     "metadata": {},
     "output_type": "execute_result"
    }
   ],
   "source": [
    "data['credit_card'].value_counts()"
   ]
  },
  {
   "cell_type": "code",
   "execution_count": 182,
   "metadata": {},
   "outputs": [
    {
     "data": {
      "text/html": [
       "<div>\n",
       "<style scoped>\n",
       "    .dataframe tbody tr th:only-of-type {\n",
       "        vertical-align: middle;\n",
       "    }\n",
       "\n",
       "    .dataframe tbody tr th {\n",
       "        vertical-align: top;\n",
       "    }\n",
       "\n",
       "    .dataframe thead th {\n",
       "        text-align: right;\n",
       "    }\n",
       "</style>\n",
       "<table border=\"1\" class=\"dataframe\">\n",
       "  <thead>\n",
       "    <tr style=\"text-align: right;\">\n",
       "      <th></th>\n",
       "      <th>credit_card</th>\n",
       "      <th>mean_churn</th>\n",
       "    </tr>\n",
       "  </thead>\n",
       "  <tbody>\n",
       "    <tr>\n",
       "      <th>1</th>\n",
       "      <td>1</td>\n",
       "      <td>0.15</td>\n",
       "    </tr>\n",
       "    <tr>\n",
       "      <th>0</th>\n",
       "      <td>0</td>\n",
       "      <td>0.26</td>\n",
       "    </tr>\n",
       "  </tbody>\n",
       "</table>\n",
       "</div>"
      ],
      "text/plain": [
       "   credit_card  mean_churn\n",
       "1            1        0.15\n",
       "0            0        0.26"
      ]
     },
     "execution_count": 182,
     "metadata": {},
     "output_type": "execute_result"
    }
   ],
   "source": [
    "credit_card_churn = data.groupby('credit_card', as_index=False)[['churn']].mean().sort_values(by='churn')\n",
    "credit_card_churn.columns = ['credit_card', 'mean_churn']\n",
    "credit_card_churn"
   ]
  },
  {
   "cell_type": "code",
   "execution_count": 183,
   "metadata": {},
   "outputs": [
    {
     "data": {
      "image/png": "[encoded data removed]",
      "text/plain": [
       "<Figure size 864x360 with 1 Axes>"
      ]
     },
     "metadata": {
      "needs_background": "light"
     },
     "output_type": "display_data"
    }
   ],
   "source": [
    "plt.figure(figsize = (12,5))\n",
    "sns.barplot(data=credit_card_churn, x='credit_card', y='mean_churn')\n",
    "plt.title('Уровень оттока по наличию кредитной карты', fontsize = 16, color = '#609966')\n",
    "plt.xlabel('Наличие кредитной карты', fontsize = 16, color = '#609966')\n",
    "plt.ylabel('Средний отток', fontsize = 16, color = '#609966')\n",
    "plt.axhline (y=bank_middle_churn, color='red', linestyle='--', label ='Средний отток по банку')\n",
    "plt.legend();"
   ]
  },
  {
   "cell_type": "markdown",
   "metadata": {},
   "source": [
    "**У пользователей без кредитной карты отток выше, чем средний отток по банку**"
   ]
  },
  {
   "cell_type": "markdown",
   "metadata": {},
   "source": [
    "#### Вывод:\n",
    "В данных много выбросов : в столбцах зарплатой и балансом есть аномально большие значения, в столбце с оценкой уровня недвижимости малое количество людей получают оценки выше 6, в колонке products всего 20 пользователей, которые пользуются всеми продуктами и не пользуются ими вообще.\n",
    "При рассмотрении распределений в разрезе оттока выяснилось:\n",
    "- Отток пользователей с балансом выше 1250000 выше, чем в среднем по банку.\n",
    "- Отток пользователей с зарплатой 90000-210000 выше, чем в среднем по банку.\n",
    "- Отток пользователей с баллами скоринга 825-910 выше, чем в с реднем по банку.\n",
    "- Отток пользователей в возрасте 23-35 и 50-59 выше, чем в среднем по банку.\n",
    "- В Ростове и Ярославле отток пользователей выше, чем в среднем по банку\n",
    "- Уровень оттока мужчин больше, чем в среднем по банку.\n",
    "- Уровень оттока у клиентов с оценкой недвижимости, превышающей 3, выше среднего оттока по банку. Уточним, что оценок выше 5 совсем мало, поэтому мы не можем утверждать, что эти клиенты являются отточными\n",
    "- Уровень оттока клиентов, пользующихся двумя, тремя и четырьмя продуктами, выше среднего оттока по банку.Уточним, что уровень оттока пользователей 0 и 5 продуктов также выше банковского, но из-за маленького количества людей, делать выводы о них мы не можем\n",
    "- Уровень оттока у пользователей, проявляющих активность, выше среднего по банку\n",
    "- Уровень оттока пользователей без кредитной карты выше среднего по банку"
   ]
  },
  {
   "cell_type": "markdown",
   "metadata": {},
   "source": [
    "\n",
    "<div class=\"alert alert-success\">\n",
    "<b>Комментарий ревьюера:</b>☀️Полностью согласна с выводами, очень хороший анализ.</div>"
   ]
  },
  {
   "cell_type": "markdown",
   "metadata": {},
   "source": [
    "### Корреляция со столбцом churn\n",
    "<a id=\"churn\"></a> "
   ]
  },
  {
   "cell_type": "code",
   "execution_count": 184,
   "metadata": {},
   "outputs": [
    {
     "data": {
      "text/html": [
       "<div>\n",
       "<style scoped>\n",
       "    .dataframe tbody tr th:only-of-type {\n",
       "        vertical-align: middle;\n",
       "    }\n",
       "\n",
       "    .dataframe tbody tr th {\n",
       "        vertical-align: top;\n",
       "    }\n",
       "\n",
       "    .dataframe thead th {\n",
       "        text-align: right;\n",
       "    }\n",
       "</style>\n",
       "<table border=\"1\" class=\"dataframe\">\n",
       "  <thead>\n",
       "    <tr style=\"text-align: right;\">\n",
       "      <th></th>\n",
       "      <th>user_id</th>\n",
       "      <th>score</th>\n",
       "      <th>city</th>\n",
       "      <th>gender</th>\n",
       "      <th>age</th>\n",
       "      <th>equity</th>\n",
       "      <th>balance</th>\n",
       "      <th>products</th>\n",
       "      <th>credit_card</th>\n",
       "      <th>last_activity</th>\n",
       "      <th>est_salary</th>\n",
       "      <th>churn</th>\n",
       "      <th>rostov</th>\n",
       "      <th>rybinsk</th>\n",
       "      <th>yaroslavl</th>\n",
       "      <th>female</th>\n",
       "      <th>male</th>\n",
       "    </tr>\n",
       "  </thead>\n",
       "  <tbody>\n",
       "    <tr>\n",
       "      <th>0</th>\n",
       "      <td>183012</td>\n",
       "      <td>850</td>\n",
       "      <td>Рыбинск</td>\n",
       "      <td>Ж</td>\n",
       "      <td>25</td>\n",
       "      <td>1</td>\n",
       "      <td>59214.82</td>\n",
       "      <td>2</td>\n",
       "      <td>0</td>\n",
       "      <td>1</td>\n",
       "      <td>75719.14</td>\n",
       "      <td>1</td>\n",
       "      <td>0</td>\n",
       "      <td>1</td>\n",
       "      <td>0</td>\n",
       "      <td>1</td>\n",
       "      <td>0</td>\n",
       "    </tr>\n",
       "    <tr>\n",
       "      <th>1</th>\n",
       "      <td>146556</td>\n",
       "      <td>861</td>\n",
       "      <td>Рыбинск</td>\n",
       "      <td>Ж</td>\n",
       "      <td>37</td>\n",
       "      <td>5</td>\n",
       "      <td>850594.33</td>\n",
       "      <td>3</td>\n",
       "      <td>1</td>\n",
       "      <td>0</td>\n",
       "      <td>86621.77</td>\n",
       "      <td>0</td>\n",
       "      <td>0</td>\n",
       "      <td>1</td>\n",
       "      <td>0</td>\n",
       "      <td>1</td>\n",
       "      <td>0</td>\n",
       "    </tr>\n",
       "    <tr>\n",
       "      <th>2</th>\n",
       "      <td>120722</td>\n",
       "      <td>892</td>\n",
       "      <td>Рыбинск</td>\n",
       "      <td>Ж</td>\n",
       "      <td>30</td>\n",
       "      <td>0</td>\n",
       "      <td>NaN</td>\n",
       "      <td>1</td>\n",
       "      <td>1</td>\n",
       "      <td>1</td>\n",
       "      <td>107683.34</td>\n",
       "      <td>0</td>\n",
       "      <td>0</td>\n",
       "      <td>1</td>\n",
       "      <td>0</td>\n",
       "      <td>1</td>\n",
       "      <td>0</td>\n",
       "    </tr>\n",
       "    <tr>\n",
       "      <th>3</th>\n",
       "      <td>225363</td>\n",
       "      <td>866</td>\n",
       "      <td>Ярославль</td>\n",
       "      <td>Ж</td>\n",
       "      <td>51</td>\n",
       "      <td>5</td>\n",
       "      <td>1524746.26</td>\n",
       "      <td>2</td>\n",
       "      <td>0</td>\n",
       "      <td>1</td>\n",
       "      <td>174423.53</td>\n",
       "      <td>1</td>\n",
       "      <td>0</td>\n",
       "      <td>0</td>\n",
       "      <td>1</td>\n",
       "      <td>1</td>\n",
       "      <td>0</td>\n",
       "    </tr>\n",
       "    <tr>\n",
       "      <th>4</th>\n",
       "      <td>157978</td>\n",
       "      <td>730</td>\n",
       "      <td>Ярославль</td>\n",
       "      <td>М</td>\n",
       "      <td>34</td>\n",
       "      <td>5</td>\n",
       "      <td>174.00</td>\n",
       "      <td>1</td>\n",
       "      <td>1</td>\n",
       "      <td>0</td>\n",
       "      <td>67353.16</td>\n",
       "      <td>1</td>\n",
       "      <td>0</td>\n",
       "      <td>0</td>\n",
       "      <td>1</td>\n",
       "      <td>0</td>\n",
       "      <td>1</td>\n",
       "    </tr>\n",
       "    <tr>\n",
       "      <th>...</th>\n",
       "      <td>...</td>\n",
       "      <td>...</td>\n",
       "      <td>...</td>\n",
       "      <td>...</td>\n",
       "      <td>...</td>\n",
       "      <td>...</td>\n",
       "      <td>...</td>\n",
       "      <td>...</td>\n",
       "      <td>...</td>\n",
       "      <td>...</td>\n",
       "      <td>...</td>\n",
       "      <td>...</td>\n",
       "      <td>...</td>\n",
       "      <td>...</td>\n",
       "      <td>...</td>\n",
       "      <td>...</td>\n",
       "      <td>...</td>\n",
       "    </tr>\n",
       "    <tr>\n",
       "      <th>9969</th>\n",
       "      <td>120553</td>\n",
       "      <td>814</td>\n",
       "      <td>Рыбинск</td>\n",
       "      <td>М</td>\n",
       "      <td>27</td>\n",
       "      <td>1</td>\n",
       "      <td>78144.65</td>\n",
       "      <td>1</td>\n",
       "      <td>0</td>\n",
       "      <td>1</td>\n",
       "      <td>18943.64</td>\n",
       "      <td>0</td>\n",
       "      <td>0</td>\n",
       "      <td>1</td>\n",
       "      <td>0</td>\n",
       "      <td>0</td>\n",
       "      <td>1</td>\n",
       "    </tr>\n",
       "    <tr>\n",
       "      <th>9970</th>\n",
       "      <td>139170</td>\n",
       "      <td>894</td>\n",
       "      <td>Ярославль</td>\n",
       "      <td>М</td>\n",
       "      <td>46</td>\n",
       "      <td>0</td>\n",
       "      <td>NaN</td>\n",
       "      <td>1</td>\n",
       "      <td>1</td>\n",
       "      <td>0</td>\n",
       "      <td>196898.29</td>\n",
       "      <td>0</td>\n",
       "      <td>0</td>\n",
       "      <td>0</td>\n",
       "      <td>1</td>\n",
       "      <td>0</td>\n",
       "      <td>1</td>\n",
       "    </tr>\n",
       "    <tr>\n",
       "      <th>9971</th>\n",
       "      <td>115639</td>\n",
       "      <td>903</td>\n",
       "      <td>Ярославль</td>\n",
       "      <td>М</td>\n",
       "      <td>24</td>\n",
       "      <td>0</td>\n",
       "      <td>NaN</td>\n",
       "      <td>2</td>\n",
       "      <td>1</td>\n",
       "      <td>1</td>\n",
       "      <td>108905.09</td>\n",
       "      <td>0</td>\n",
       "      <td>0</td>\n",
       "      <td>0</td>\n",
       "      <td>1</td>\n",
       "      <td>0</td>\n",
       "      <td>1</td>\n",
       "    </tr>\n",
       "    <tr>\n",
       "      <th>9972</th>\n",
       "      <td>148700</td>\n",
       "      <td>777</td>\n",
       "      <td>Ярославль</td>\n",
       "      <td>Ж</td>\n",
       "      <td>68</td>\n",
       "      <td>3</td>\n",
       "      <td>865457.97</td>\n",
       "      <td>3</td>\n",
       "      <td>0</td>\n",
       "      <td>1</td>\n",
       "      <td>86874.90</td>\n",
       "      <td>0</td>\n",
       "      <td>0</td>\n",
       "      <td>0</td>\n",
       "      <td>1</td>\n",
       "      <td>1</td>\n",
       "      <td>0</td>\n",
       "    </tr>\n",
       "    <tr>\n",
       "      <th>9973</th>\n",
       "      <td>96267</td>\n",
       "      <td>828</td>\n",
       "      <td>Рыбинск</td>\n",
       "      <td>Ж</td>\n",
       "      <td>58</td>\n",
       "      <td>3</td>\n",
       "      <td>1180886.70</td>\n",
       "      <td>4</td>\n",
       "      <td>0</td>\n",
       "      <td>1</td>\n",
       "      <td>21422.37</td>\n",
       "      <td>0</td>\n",
       "      <td>0</td>\n",
       "      <td>1</td>\n",
       "      <td>0</td>\n",
       "      <td>1</td>\n",
       "      <td>0</td>\n",
       "    </tr>\n",
       "  </tbody>\n",
       "</table>\n",
       "<p>9924 rows × 17 columns</p>\n",
       "</div>"
      ],
      "text/plain": [
       "      user_id  score       city gender  age  equity    balance  products  \\\n",
       "0      183012    850    Рыбинск      Ж   25       1   59214.82         2   \n",
       "1      146556    861    Рыбинск      Ж   37       5  850594.33         3   \n",
       "2      120722    892    Рыбинск      Ж   30       0        NaN         1   \n",
       "3      225363    866  Ярославль      Ж   51       5 1524746.26         2   \n",
       "4      157978    730  Ярославль      М   34       5     174.00         1   \n",
       "...       ...    ...        ...    ...  ...     ...        ...       ...   \n",
       "9969   120553    814    Рыбинск      М   27       1   78144.65         1   \n",
       "9970   139170    894  Ярославль      М   46       0        NaN         1   \n",
       "9971   115639    903  Ярославль      М   24       0        NaN         2   \n",
       "9972   148700    777  Ярославль      Ж   68       3  865457.97         3   \n",
       "9973    96267    828    Рыбинск      Ж   58       3 1180886.70         4   \n",
       "\n",
       "      credit_card  last_activity  est_salary  churn  rostov  rybinsk  \\\n",
       "0               0              1    75719.14      1       0        1   \n",
       "1               1              0    86621.77      0       0        1   \n",
       "2               1              1   107683.34      0       0        1   \n",
       "3               0              1   174423.53      1       0        0   \n",
       "4               1              0    67353.16      1       0        0   \n",
       "...           ...            ...         ...    ...     ...      ...   \n",
       "9969            0              1    18943.64      0       0        1   \n",
       "9970            1              0   196898.29      0       0        0   \n",
       "9971            1              1   108905.09      0       0        0   \n",
       "9972            0              1    86874.90      0       0        0   \n",
       "9973            0              1    21422.37      0       0        1   \n",
       "\n",
       "      yaroslavl  female  male  \n",
       "0             0       1     0  \n",
       "1             0       1     0  \n",
       "2             0       1     0  \n",
       "3             1       1     0  \n",
       "4             1       0     1  \n",
       "...         ...     ...   ...  \n",
       "9969          0       0     1  \n",
       "9970          1       0     1  \n",
       "9971          1       0     1  \n",
       "9972          1       1     0  \n",
       "9973          0       1     0  \n",
       "\n",
       "[9924 rows x 17 columns]"
      ]
     },
     "execution_count": 184,
     "metadata": {},
     "output_type": "execute_result"
    }
   ],
   "source": [
    "data"
   ]
  },
  {
   "cell_type": "code",
   "execution_count": 185,
   "metadata": {},
   "outputs": [],
   "source": [
    "data_corr =data[['score','equity','balance', 'age','products','credit_card', 'last_activity','est_salary','churn','rostov','rybinsk', 'yaroslavl','female', 'male']]"
   ]
  },
  {
   "cell_type": "code",
   "execution_count": 186,
   "metadata": {},
   "outputs": [
    {
     "data": {
      "image/png": "[encoded data removed]",
      "text/plain": [
       "<Figure size 864x504 with 2 Axes>"
      ]
     },
     "metadata": {
      "needs_background": "light"
     },
     "output_type": "display_data"
    }
   ],
   "source": [
    "plt.figure(figsize=(12,7))\n",
    "sns.heatmap(data_corr.corr(), annot=True, cmap='Pastel1', fmt='.0%', center=0)\n",
    "plt.title('Матрица корреляций', fontsize = 16, color = '#609966');"
   ]
  },
  {
   "cell_type": "code",
   "execution_count": 187,
   "metadata": {},
   "outputs": [
    {
     "data": {
      "image/png": "[encoded data removed]",
      "text/plain": [
       "<Figure size 864x504 with 2 Axes>"
      ]
     },
     "metadata": {
      "needs_background": "light"
     },
     "output_type": "display_data"
    }
   ],
   "source": [
    "plt.figure(figsize=(12,7))\n",
    "sns.heatmap(data_corr.corr().loc[:,['churn']].drop('churn').sort_values(by='churn'), annot=True, cmap='Pastel1', fmt='.0%', center=0)\n",
    "plt.title('Корреляция со столбцом churn', fontsize = 16, color = '#609966');"
   ]
  },
  {
   "cell_type": "markdown",
   "metadata": {},
   "source": [
    "**Видим, что самая большая взаимосвязь оттока выявлена с количеством продуктов и уровнем зарплаты (зависимость положительная). Также относительно высокие показатели коэффициента корреляции между оттоком и активностью, полом (с мужским свзяь положительная, с женским - отрицательная), скорингом и наличием кредитной карты (отрицательная взаимосвязь). Отметим, что коэффициенты корреляции небольшие в привычном понимании, однако выбивающиеся значения могут помочь нам уловить взаимосвязи. Так, например, подтвердились наши выводы о том, что:**\n",
    "- Пользователи с высокой зарплатой уходят с большей вероятностью;\n",
    "- Пользователи с большим количеством продуктов уходят чаще;\n",
    "- Активные пользователи и пользователи без кредитной карты больше подвержены оттоку;\n",
    "- Мужчины уходят из банка чаще женщин;"
   ]
  },
  {
   "cell_type": "markdown",
   "metadata": {},
   "source": [
    "### Категоризация данных\n",
    "<a id=\"categroies\"></a> \n"
   ]
  },
  {
   "cell_type": "markdown",
   "metadata": {},
   "source": [
    "**У нас уже есть определенное представление об отточных клиентах, попробуем разбить пользователей на категории в соответсвии с распределениями**"
   ]
  },
  {
   "cell_type": "markdown",
   "metadata": {},
   "source": [
    "#### Категоризация по кредитному скорингу"
   ]
  },
  {
   "cell_type": "markdown",
   "metadata": {},
   "source": [
    "Мы вяснили, что отток пользователей с баллами скоринга 825-900 выше, чем в среднем по банку.\n",
    "Разобьем пользователей на категории по скорингу следующим образом:\n",
    "- ниже 825\n",
    "- 825-900\n",
    "- выше 900"
   ]
  },
  {
   "cell_type": "code",
   "execution_count": 188,
   "metadata": {},
   "outputs": [],
   "source": [
    "def score_category(score):\n",
    "    if score <= 825:\n",
    "        return 'ниже 825'\n",
    "    elif score >= 900:\n",
    "        return 'выше 900'\n",
    "    else:\n",
    "        return '825-900'\n",
    "    "
   ]
  },
  {
   "cell_type": "code",
   "execution_count": 189,
   "metadata": {},
   "outputs": [],
   "source": [
    "data['score_category'] = data['score'].apply(score_category)"
   ]
  },
  {
   "cell_type": "markdown",
   "metadata": {},
   "source": [
    "#### Категоризация по балансу"
   ]
  },
  {
   "cell_type": "markdown",
   "metadata": {},
   "source": [
    "Среди уходящих пользователей больше клиентов с высоким балансом.Также в этом столбце есть выбросы - балансы больше 2 млн.ед. Аномальные значения и пропуски внесем в отдельную категорию. Разобьем пользователей на категории по балансу следующим образом.:\n",
    "- меньше миллиона \n",
    "- 1 - 2 миллиона\n",
    "- аномально большой баланс/пропуск"
   ]
  },
  {
   "cell_type": "code",
   "execution_count": 190,
   "metadata": {},
   "outputs": [],
   "source": [
    "def balance_category(balance):\n",
    "    if balance > 1000000 and balance < 2000000:\n",
    "        return '1 - 2 миллиона'\n",
    "    elif balance < 1000000:\n",
    "        return 'меньше миллиона'\n",
    "    else:\n",
    "        return 'аномально большой баланс/пропуск'"
   ]
  },
  {
   "cell_type": "code",
   "execution_count": 191,
   "metadata": {},
   "outputs": [
    {
     "data": {
      "text/html": [
       "<div>\n",
       "<style scoped>\n",
       "    .dataframe tbody tr th:only-of-type {\n",
       "        vertical-align: middle;\n",
       "    }\n",
       "\n",
       "    .dataframe tbody tr th {\n",
       "        vertical-align: top;\n",
       "    }\n",
       "\n",
       "    .dataframe thead th {\n",
       "        text-align: right;\n",
       "    }\n",
       "</style>\n",
       "<table border=\"1\" class=\"dataframe\">\n",
       "  <thead>\n",
       "    <tr style=\"text-align: right;\">\n",
       "      <th></th>\n",
       "      <th>user_id</th>\n",
       "      <th>score</th>\n",
       "      <th>city</th>\n",
       "      <th>gender</th>\n",
       "      <th>age</th>\n",
       "      <th>equity</th>\n",
       "      <th>balance</th>\n",
       "      <th>products</th>\n",
       "      <th>credit_card</th>\n",
       "      <th>last_activity</th>\n",
       "      <th>est_salary</th>\n",
       "      <th>churn</th>\n",
       "      <th>rostov</th>\n",
       "      <th>rybinsk</th>\n",
       "      <th>yaroslavl</th>\n",
       "      <th>female</th>\n",
       "      <th>male</th>\n",
       "      <th>score_category</th>\n",
       "      <th>balance_category</th>\n",
       "    </tr>\n",
       "  </thead>\n",
       "  <tbody>\n",
       "    <tr>\n",
       "      <th>0</th>\n",
       "      <td>183012</td>\n",
       "      <td>850</td>\n",
       "      <td>Рыбинск</td>\n",
       "      <td>Ж</td>\n",
       "      <td>25</td>\n",
       "      <td>1</td>\n",
       "      <td>59214.82</td>\n",
       "      <td>2</td>\n",
       "      <td>0</td>\n",
       "      <td>1</td>\n",
       "      <td>75719.14</td>\n",
       "      <td>1</td>\n",
       "      <td>0</td>\n",
       "      <td>1</td>\n",
       "      <td>0</td>\n",
       "      <td>1</td>\n",
       "      <td>0</td>\n",
       "      <td>825-900</td>\n",
       "      <td>меньше миллиона</td>\n",
       "    </tr>\n",
       "    <tr>\n",
       "      <th>1</th>\n",
       "      <td>146556</td>\n",
       "      <td>861</td>\n",
       "      <td>Рыбинск</td>\n",
       "      <td>Ж</td>\n",
       "      <td>37</td>\n",
       "      <td>5</td>\n",
       "      <td>850594.33</td>\n",
       "      <td>3</td>\n",
       "      <td>1</td>\n",
       "      <td>0</td>\n",
       "      <td>86621.77</td>\n",
       "      <td>0</td>\n",
       "      <td>0</td>\n",
       "      <td>1</td>\n",
       "      <td>0</td>\n",
       "      <td>1</td>\n",
       "      <td>0</td>\n",
       "      <td>825-900</td>\n",
       "      <td>меньше миллиона</td>\n",
       "    </tr>\n",
       "    <tr>\n",
       "      <th>2</th>\n",
       "      <td>120722</td>\n",
       "      <td>892</td>\n",
       "      <td>Рыбинск</td>\n",
       "      <td>Ж</td>\n",
       "      <td>30</td>\n",
       "      <td>0</td>\n",
       "      <td>NaN</td>\n",
       "      <td>1</td>\n",
       "      <td>1</td>\n",
       "      <td>1</td>\n",
       "      <td>107683.34</td>\n",
       "      <td>0</td>\n",
       "      <td>0</td>\n",
       "      <td>1</td>\n",
       "      <td>0</td>\n",
       "      <td>1</td>\n",
       "      <td>0</td>\n",
       "      <td>825-900</td>\n",
       "      <td>аномально большой баланс/пропуск</td>\n",
       "    </tr>\n",
       "    <tr>\n",
       "      <th>3</th>\n",
       "      <td>225363</td>\n",
       "      <td>866</td>\n",
       "      <td>Ярославль</td>\n",
       "      <td>Ж</td>\n",
       "      <td>51</td>\n",
       "      <td>5</td>\n",
       "      <td>1524746.26</td>\n",
       "      <td>2</td>\n",
       "      <td>0</td>\n",
       "      <td>1</td>\n",
       "      <td>174423.53</td>\n",
       "      <td>1</td>\n",
       "      <td>0</td>\n",
       "      <td>0</td>\n",
       "      <td>1</td>\n",
       "      <td>1</td>\n",
       "      <td>0</td>\n",
       "      <td>825-900</td>\n",
       "      <td>1 - 2 миллиона</td>\n",
       "    </tr>\n",
       "    <tr>\n",
       "      <th>4</th>\n",
       "      <td>157978</td>\n",
       "      <td>730</td>\n",
       "      <td>Ярославль</td>\n",
       "      <td>М</td>\n",
       "      <td>34</td>\n",
       "      <td>5</td>\n",
       "      <td>174.00</td>\n",
       "      <td>1</td>\n",
       "      <td>1</td>\n",
       "      <td>0</td>\n",
       "      <td>67353.16</td>\n",
       "      <td>1</td>\n",
       "      <td>0</td>\n",
       "      <td>0</td>\n",
       "      <td>1</td>\n",
       "      <td>0</td>\n",
       "      <td>1</td>\n",
       "      <td>ниже 825</td>\n",
       "      <td>меньше миллиона</td>\n",
       "    </tr>\n",
       "    <tr>\n",
       "      <th>...</th>\n",
       "      <td>...</td>\n",
       "      <td>...</td>\n",
       "      <td>...</td>\n",
       "      <td>...</td>\n",
       "      <td>...</td>\n",
       "      <td>...</td>\n",
       "      <td>...</td>\n",
       "      <td>...</td>\n",
       "      <td>...</td>\n",
       "      <td>...</td>\n",
       "      <td>...</td>\n",
       "      <td>...</td>\n",
       "      <td>...</td>\n",
       "      <td>...</td>\n",
       "      <td>...</td>\n",
       "      <td>...</td>\n",
       "      <td>...</td>\n",
       "      <td>...</td>\n",
       "      <td>...</td>\n",
       "    </tr>\n",
       "    <tr>\n",
       "      <th>9969</th>\n",
       "      <td>120553</td>\n",
       "      <td>814</td>\n",
       "      <td>Рыбинск</td>\n",
       "      <td>М</td>\n",
       "      <td>27</td>\n",
       "      <td>1</td>\n",
       "      <td>78144.65</td>\n",
       "      <td>1</td>\n",
       "      <td>0</td>\n",
       "      <td>1</td>\n",
       "      <td>18943.64</td>\n",
       "      <td>0</td>\n",
       "      <td>0</td>\n",
       "      <td>1</td>\n",
       "      <td>0</td>\n",
       "      <td>0</td>\n",
       "      <td>1</td>\n",
       "      <td>ниже 825</td>\n",
       "      <td>меньше миллиона</td>\n",
       "    </tr>\n",
       "    <tr>\n",
       "      <th>9970</th>\n",
       "      <td>139170</td>\n",
       "      <td>894</td>\n",
       "      <td>Ярославль</td>\n",
       "      <td>М</td>\n",
       "      <td>46</td>\n",
       "      <td>0</td>\n",
       "      <td>NaN</td>\n",
       "      <td>1</td>\n",
       "      <td>1</td>\n",
       "      <td>0</td>\n",
       "      <td>196898.29</td>\n",
       "      <td>0</td>\n",
       "      <td>0</td>\n",
       "      <td>0</td>\n",
       "      <td>1</td>\n",
       "      <td>0</td>\n",
       "      <td>1</td>\n",
       "      <td>825-900</td>\n",
       "      <td>аномально большой баланс/пропуск</td>\n",
       "    </tr>\n",
       "    <tr>\n",
       "      <th>9971</th>\n",
       "      <td>115639</td>\n",
       "      <td>903</td>\n",
       "      <td>Ярославль</td>\n",
       "      <td>М</td>\n",
       "      <td>24</td>\n",
       "      <td>0</td>\n",
       "      <td>NaN</td>\n",
       "      <td>2</td>\n",
       "      <td>1</td>\n",
       "      <td>1</td>\n",
       "      <td>108905.09</td>\n",
       "      <td>0</td>\n",
       "      <td>0</td>\n",
       "      <td>0</td>\n",
       "      <td>1</td>\n",
       "      <td>0</td>\n",
       "      <td>1</td>\n",
       "      <td>выше 900</td>\n",
       "      <td>аномально большой баланс/пропуск</td>\n",
       "    </tr>\n",
       "    <tr>\n",
       "      <th>9972</th>\n",
       "      <td>148700</td>\n",
       "      <td>777</td>\n",
       "      <td>Ярославль</td>\n",
       "      <td>Ж</td>\n",
       "      <td>68</td>\n",
       "      <td>3</td>\n",
       "      <td>865457.97</td>\n",
       "      <td>3</td>\n",
       "      <td>0</td>\n",
       "      <td>1</td>\n",
       "      <td>86874.90</td>\n",
       "      <td>0</td>\n",
       "      <td>0</td>\n",
       "      <td>0</td>\n",
       "      <td>1</td>\n",
       "      <td>1</td>\n",
       "      <td>0</td>\n",
       "      <td>ниже 825</td>\n",
       "      <td>меньше миллиона</td>\n",
       "    </tr>\n",
       "    <tr>\n",
       "      <th>9973</th>\n",
       "      <td>96267</td>\n",
       "      <td>828</td>\n",
       "      <td>Рыбинск</td>\n",
       "      <td>Ж</td>\n",
       "      <td>58</td>\n",
       "      <td>3</td>\n",
       "      <td>1180886.70</td>\n",
       "      <td>4</td>\n",
       "      <td>0</td>\n",
       "      <td>1</td>\n",
       "      <td>21422.37</td>\n",
       "      <td>0</td>\n",
       "      <td>0</td>\n",
       "      <td>1</td>\n",
       "      <td>0</td>\n",
       "      <td>1</td>\n",
       "      <td>0</td>\n",
       "      <td>825-900</td>\n",
       "      <td>1 - 2 миллиона</td>\n",
       "    </tr>\n",
       "  </tbody>\n",
       "</table>\n",
       "<p>9924 rows × 19 columns</p>\n",
       "</div>"
      ],
      "text/plain": [
       "      user_id  score       city gender  age  equity    balance  products  \\\n",
       "0      183012    850    Рыбинск      Ж   25       1   59214.82         2   \n",
       "1      146556    861    Рыбинск      Ж   37       5  850594.33         3   \n",
       "2      120722    892    Рыбинск      Ж   30       0        NaN         1   \n",
       "3      225363    866  Ярославль      Ж   51       5 1524746.26         2   \n",
       "4      157978    730  Ярославль      М   34       5     174.00         1   \n",
       "...       ...    ...        ...    ...  ...     ...        ...       ...   \n",
       "9969   120553    814    Рыбинск      М   27       1   78144.65         1   \n",
       "9970   139170    894  Ярославль      М   46       0        NaN         1   \n",
       "9971   115639    903  Ярославль      М   24       0        NaN         2   \n",
       "9972   148700    777  Ярославль      Ж   68       3  865457.97         3   \n",
       "9973    96267    828    Рыбинск      Ж   58       3 1180886.70         4   \n",
       "\n",
       "      credit_card  last_activity  est_salary  churn  rostov  rybinsk  \\\n",
       "0               0              1    75719.14      1       0        1   \n",
       "1               1              0    86621.77      0       0        1   \n",
       "2               1              1   107683.34      0       0        1   \n",
       "3               0              1   174423.53      1       0        0   \n",
       "4               1              0    67353.16      1       0        0   \n",
       "...           ...            ...         ...    ...     ...      ...   \n",
       "9969            0              1    18943.64      0       0        1   \n",
       "9970            1              0   196898.29      0       0        0   \n",
       "9971            1              1   108905.09      0       0        0   \n",
       "9972            0              1    86874.90      0       0        0   \n",
       "9973            0              1    21422.37      0       0        1   \n",
       "\n",
       "      yaroslavl  female  male score_category                  balance_category  \n",
       "0             0       1     0        825-900                   меньше миллиона  \n",
       "1             0       1     0        825-900                   меньше миллиона  \n",
       "2             0       1     0        825-900  аномально большой баланс/пропуск  \n",
       "3             1       1     0        825-900                    1 - 2 миллиона  \n",
       "4             1       0     1       ниже 825                   меньше миллиона  \n",
       "...         ...     ...   ...            ...                               ...  \n",
       "9969          0       0     1       ниже 825                   меньше миллиона  \n",
       "9970          1       0     1        825-900  аномально большой баланс/пропуск  \n",
       "9971          1       0     1       выше 900  аномально большой баланс/пропуск  \n",
       "9972          1       1     0       ниже 825                   меньше миллиона  \n",
       "9973          0       1     0        825-900                    1 - 2 миллиона  \n",
       "\n",
       "[9924 rows x 19 columns]"
      ]
     },
     "execution_count": 191,
     "metadata": {},
     "output_type": "execute_result"
    }
   ],
   "source": [
    "data['balance_category'] = data['balance'].apply(balance_category)\n",
    "data"
   ]
  },
  {
   "cell_type": "markdown",
   "metadata": {},
   "source": [
    "#### Категоризация по зарплате"
   ]
  },
  {
   "cell_type": "markdown",
   "metadata": {},
   "source": [
    "Отток пользователей с зарплатой 90000-210000 выше, чем в среднем по банку. В данных есть выбросы - зарплаты выше 325 тыс., их внесем в отдельную категорию. Разобьем пользователей на категории следующим образом:\n",
    "- меньше 90 тыс.\n",
    "- 90 тыс. - 210 тыс.\n",
    "- 210 тыс. - 325 тыс.\n",
    "- аномально большая зарплата"
   ]
  },
  {
   "cell_type": "code",
   "execution_count": 192,
   "metadata": {},
   "outputs": [],
   "source": [
    "def salary_category(est_salary):\n",
    "    if est_salary > 90000 and est_salary <= 210000:\n",
    "        return '90 тыс. - 210 тыс.'\n",
    "    elif est_salary > 210000 and est_salary <= 325000:\n",
    "        return '210 тыс. - 325 тыс.'\n",
    "    elif est_salary <= 90000 :\n",
    "        return 'меньше 90 тыс.'\n",
    "    else:\n",
    "        return 'аномально большая зарплата'"
   ]
  },
  {
   "cell_type": "code",
   "execution_count": 193,
   "metadata": {},
   "outputs": [],
   "source": [
    "data['salary_category'] = data['est_salary'].apply(salary_category)"
   ]
  },
  {
   "cell_type": "markdown",
   "metadata": {},
   "source": [
    "#### Категоризация по возрасту"
   ]
  },
  {
   "cell_type": "markdown",
   "metadata": {},
   "source": [
    "У клиентов в возрасте 23-35 и 50-59 лет уровень оттока выше, чем в среднем по банку. Людей старше 75 в нашем банке мало, их вынесем в отдельную категорию. Разобьем пользователей на категории по возрасту следующим образом:\n",
    "-  18-22\n",
    "-  23-35 \n",
    "-  36-49\n",
    "-  50-59\n",
    "-  60-75\n",
    "-  больше 75"
   ]
  },
  {
   "cell_type": "code",
   "execution_count": 194,
   "metadata": {},
   "outputs": [],
   "source": [
    "def age_category(age):\n",
    "    if age <= 22:\n",
    "        return '18-22'\n",
    "    elif age >= 23 and age <= 35:\n",
    "        return '23-35'\n",
    "    elif age >= 36 and age <= 49:\n",
    "        return '36-49'\n",
    "    elif age >= 50 and age <= 59:\n",
    "        return '50-59'\n",
    "    elif age >= 60 and age <= 75:\n",
    "        return '60-75'\n",
    "    else:\n",
    "        return 'больше 75'"
   ]
  },
  {
   "cell_type": "code",
   "execution_count": 195,
   "metadata": {},
   "outputs": [],
   "source": [
    "data['age_category'] = data['age'].apply(age_category)"
   ]
  },
  {
   "cell_type": "markdown",
   "metadata": {},
   "source": [
    "### Портрет отточного клиента\n",
    "<a id=\"portret\"></a> "
   ]
  },
  {
   "cell_type": "markdown",
   "metadata": {},
   "source": [
    "Итак, мы сформировали некоторые признаки клиентов, подверженных оттоку:\n",
    "- **Пол: мужской**\n",
    "- **Зарплата: 90 тыс. - 210 тыс.**\n",
    "- **Без кредитной карты**\n",
    "- **Количество продуктов: 2 и больше**\n",
    "- **Есть активность**\n",
    "- **с баллами кредитного скоринга 825-900**\n",
    "Эти характеристики подтвердились при сравнении средней отточности со средней по банку и при корреляционном анализе.\n",
    "Высоким средним оттоком, но небольшим коэффициентом корреляции с churn обладают пользователи:\n",
    "\n",
    "- **С балансом 1 - 2 млн.**\n",
    "- **23-35 и 50-59 лет**\n",
    "- **из Ярославля и Ростова**\n",
    "- **с оценкой недвижимости 3 и более**"
   ]
  },
  {
   "cell_type": "code",
   "execution_count": 196,
   "metadata": {},
   "outputs": [],
   "source": [
    "#объединим пользователей по первым 5 признакам и посмотрим на средний отток\n",
    "#portret = data.query('male == 1 and salary_category == \"90 тыс. - 210 тыс.\" and credit_card == 0 and\\\n",
    "           # products >= 2 and last_activity ==1')\n",
    "#if portret['churn'].sum()/len(portret) > bank_middle_churn:\n",
    "    #print('Отток по портрету выше среднебанковского и равен', round(portret['churn'].sum()/len(portret), 2) )\n",
    "    #else:\n",
    "        #print('Отток по портрету ниже среднебанковского')"
   ]
  },
  {
   "cell_type": "markdown",
   "metadata": {},
   "source": [
    "## Проверка гипотез \n",
    "<a id=\"hypotheses\"></a>"
   ]
  },
  {
   "cell_type": "markdown",
   "metadata": {},
   "source": [
    "### Проверка первой гипотезы: различие дохода между теми клиентами, которые ушли и теми, которые остались\n",
    "<a id=\"first_hyp\"></a>\n"
   ]
  },
  {
   "cell_type": "markdown",
   "metadata": {},
   "source": [
    "Рассмотрим подробнее распределение зарплат клиентов"
   ]
  },
  {
   "cell_type": "code",
   "execution_count": 197,
   "metadata": {},
   "outputs": [
    {
     "data": {
      "text/plain": [
       "array([242286.407 , 316818.7965, 887381.7149])"
      ]
     },
     "execution_count": 197,
     "metadata": {},
     "output_type": "execute_result"
    }
   ],
   "source": [
    "np.percentile(data['est_salary'], [90, 95, 99])"
   ]
  },
  {
   "cell_type": "markdown",
   "metadata": {},
   "source": [
    "Не более 5 процентов клиентов имеют зарплату более 316818 ед., не более 1 процента - 887381"
   ]
  },
  {
   "cell_type": "markdown",
   "metadata": {},
   "source": [
    "Для того, чтобы определить критерий проверки гипотезы, нам необходимо глубже проанализировать распределение. Мы уже знаем, что в данных есть выбросы, это может повлиять на количественные переменные. Проверим, является ли распределение зарплат нормальным при помощи теста Шапиро-Уилка. Для данного теста при больших выборках (больше 5000) рекомендуется брать уровень статистической значимости 0.05:\n",
    "\n",
    "- H_0: зарплата распределена по нормальному закону\n",
    "- H_1: распределение зарплаты не подчиняется нормальному закону\n",
    "\n"
   ]
  },
  {
   "cell_type": "code",
   "execution_count": 198,
   "metadata": {},
   "outputs": [
    {
     "name": "stdout",
     "output_type": "stream",
     "text": [
      "Отвергаем нулевую гипотезу: распределение не нормально\n"
     ]
    },
    {
     "name": "stderr",
     "output_type": "stream",
     "text": [
      "/opt/conda/lib/python3.9/site-packages/scipy/stats/_morestats.py:1800: UserWarning: p-value may not be accurate for N > 5000.\n",
      "  warnings.warn(\"p-value may not be accurate for N > 5000.\")\n"
     ]
    }
   ],
   "source": [
    "alpha = 0.05  \n",
    "results = stats.shapiro(data['est_salary'])\n",
    "p_value = results[1] \n",
    "if p_value < alpha:\n",
    "    print('Отвергаем нулевую гипотезу: распределение не нормально')\n",
    "else:\n",
    "    print('Не получилось отвергнуть нулевую гипотезу, всё нормально') \n",
    "    "
   ]
  },
  {
   "cell_type": "markdown",
   "metadata": {},
   "source": [
    "**Так как мы анализируем количественные переменные, на результат могут повлиять выбросы. Распределение не подчиняется нормальному закону, выбросы сдвигают параметрические результаты, поэтому параметрические критерии нам не подходят. В связи с этим, будем использовать непараметрический тест Манна - Уитни, который оценивает не сами значения, а их ранги. Для избежания ошибки первого рода (ложнопозитивного результата) возьмем статистический уровень значимости 0.01**\n",
    "- **H_0: Различий между доходами отточных и неотточных пользователей нет**\n",
    "- **H_1: Есть различия между доходами отточных и неотточных пользователей**"
   ]
  },
  {
   "cell_type": "markdown",
   "metadata": {},
   "source": [
    "#### Проверка гипотезы по сырым данным:"
   ]
  },
  {
   "cell_type": "code",
   "execution_count": 199,
   "metadata": {},
   "outputs": [
    {
     "name": "stdout",
     "output_type": "stream",
     "text": [
      "Отвергаем нулевую гипотезу, есть статистически значимое различие в  доходе отточных и неотточных клиентов\n"
     ]
    }
   ],
   "source": [
    "alpha = 0.01\n",
    "results = stats.mannwhitneyu(data.query('churn ==1')['est_salary'], data.query('churn == 0')['est_salary'])\n",
    "if results.pvalue < alpha:\n",
    "    print('Отвергаем нулевую гипотезу, есть статистически значимое различие в  доходе отточных и неотточных клиентов')\n",
    "else:\n",
    "    print('Нет статистически значимого различия в доходе отточных и неотточных клиентов')"
   ]
  },
  {
   "cell_type": "markdown",
   "metadata": {},
   "source": [
    "#### Проверка гипотезы по очищенным данным"
   ]
  },
  {
   "cell_type": "markdown",
   "metadata": {},
   "source": [
    "Уберем выбросы и посмотрим на результат проверки гипотезы без них"
   ]
  },
  {
   "cell_type": "code",
   "execution_count": 200,
   "metadata": {},
   "outputs": [
    {
     "name": "stdout",
     "output_type": "stream",
     "text": [
      "Отвергаем нулевую гипотезу, есть статистически значимое различие в доходе отточных и неотточных клиентов\n"
     ]
    }
   ],
   "source": [
    "alpha = 0.01\n",
    "results = stats.mannwhitneyu(data.query('churn ==1 and est_salary < 316818.7965 ')['est_salary'], data.query('churn == 0 and est_salary < 316818.7965')['est_salary'])\n",
    "if results.pvalue < alpha:\n",
    "    print('Отвергаем нулевую гипотезу, есть статистически значимое различие в доходе отточных и неотточных клиентов')\n",
    "else:\n",
    "    print('Нет статистически значимого различия в доходе отточных и неотточных клиентов')"
   ]
  },
  {
   "cell_type": "code",
   "execution_count": 201,
   "metadata": {},
   "outputs": [
    {
     "name": "stdout",
     "output_type": "stream",
     "text": [
      "Абсолютные потери: 497\n",
      "Относительные потери: 0.05\n"
     ]
    }
   ],
   "source": [
    "print('Абсолютные потери:', len(data.query('est_salary > 316818.7965')))\n",
    "print('Относительные потери:', round(len(data.query('est_salary > 316818.7965'))/len(data), 2))"
   ]
  },
  {
   "cell_type": "markdown",
   "metadata": {},
   "source": [
    "**Итак, по сырым и очищенным от выбросов данным получили один результат: есть статистически значимое различие между доходами отточных и остающихся клиентов**"
   ]
  },
  {
   "cell_type": "markdown",
   "metadata": {},
   "source": [
    "### Проверка второй гипотезы: различие в баллах скоринга между теми клиентами, которые ушли, и теми, которые остались\n",
    "<a id=\"second_hyp\"></a>"
   ]
  },
  {
   "cell_type": "markdown",
   "metadata": {},
   "source": [
    "Рассмотрим подробнее распределение в баллах скоринга пользователей"
   ]
  },
  {
   "cell_type": "code",
   "execution_count": 202,
   "metadata": {},
   "outputs": [
    {
     "data": {
      "text/plain": [
       "array([928., 946., 978.])"
      ]
     },
     "execution_count": 202,
     "metadata": {},
     "output_type": "execute_result"
    }
   ],
   "source": [
    "np.percentile(data['score'], [90, 95, 99])"
   ]
  },
  {
   "cell_type": "markdown",
   "metadata": {},
   "source": [
    "Не более 5% пользователей имеют балл выше 946, не более 1% - выше 978"
   ]
  },
  {
   "cell_type": "markdown",
   "metadata": {},
   "source": [
    "Для того, чтобы определить критерий проверки гипотезы, нам необходимо глубже проанализировать распределение. Мы уже знаем, что в данных есть выбросы, это может повлиять на количественные переменные. Проверим, является ли распределение баллов скоринга нормальным при помощи теста Шапиро-Уилка. Для данного теста при больших выборках (больше 5000) рекомендуется брать уровень статистической значимости 0.05:\n",
    "\n",
    "- H_0: баллы скоринга распределены по нормальному закону\n",
    "- H_1: распределение баллов скоринга не подчиняется нормальному закону"
   ]
  },
  {
   "cell_type": "code",
   "execution_count": 203,
   "metadata": {},
   "outputs": [
    {
     "name": "stdout",
     "output_type": "stream",
     "text": [
      "Отвергаем нулевую гипотезу: распределение не нормально\n"
     ]
    },
    {
     "name": "stderr",
     "output_type": "stream",
     "text": [
      "/opt/conda/lib/python3.9/site-packages/scipy/stats/_morestats.py:1800: UserWarning: p-value may not be accurate for N > 5000.\n",
      "  warnings.warn(\"p-value may not be accurate for N > 5000.\")\n"
     ]
    }
   ],
   "source": [
    "alpha = 0.05 \n",
    "results = stats.shapiro(data['score'])\n",
    "p_value = results[1] \n",
    "if p_value < alpha:\n",
    "    print('Отвергаем нулевую гипотезу: распределение не нормально')\n",
    "else:\n",
    "    print('Не получилось отвергнуть нулевую гипотезу, всё нормально') "
   ]
  },
  {
   "cell_type": "markdown",
   "metadata": {},
   "source": [
    "**Так как мы анализируем количественные переменные, на результат могут повлиять выбросы. Распределение не подчиняется нормальному закону, выбросы сдвигают параметрические результаты, поэтому параметрические критерии нам не подходят. В связи с этим, будем использовать непараметрический тест Манна - Уитни, который оценивает не сами значения, а их ранги. Для избежания ошибки первого рода (ложнопозитивного результата) возьмем статистический уровень значимости 0.01**\n",
    "- **H_0: Различий между баллами сокринга отточных и неотточных пользователей нет**\n",
    "- **H_1: Есть различия между баллами скоринга отточных и неотточных пользователей**"
   ]
  },
  {
   "cell_type": "markdown",
   "metadata": {},
   "source": [
    "#### Проверка гипотезы по сырым данным"
   ]
  },
  {
   "cell_type": "code",
   "execution_count": 204,
   "metadata": {},
   "outputs": [
    {
     "name": "stdout",
     "output_type": "stream",
     "text": [
      "Отвергаем нулевую гипотезу, есть статистически значимое различие в баллах скоринга отточных и неотточных клиентов\n"
     ]
    }
   ],
   "source": [
    "alpha = 0.01\n",
    "results = stats.mannwhitneyu(data.query('churn ==1')['score'], data.query('churn == 0')['score'])\n",
    "if results.pvalue < alpha:\n",
    "    print('Отвергаем нулевую гипотезу, есть статистически значимое различие в баллах скоринга отточных и неотточных клиентов')\n",
    "else:\n",
    "    print('Нет статистически значимого различия в баллах скоринга отточных и неотточных клиентов')"
   ]
  },
  {
   "cell_type": "markdown",
   "metadata": {},
   "source": [
    "#### Проверка гипотезы по очищенным данным"
   ]
  },
  {
   "cell_type": "code",
   "execution_count": 205,
   "metadata": {},
   "outputs": [
    {
     "name": "stdout",
     "output_type": "stream",
     "text": [
      "Отвергаем нулевую гипотезу, есть статистически значимое различие в баллах скоринга отточных и неотточных клиентов\n"
     ]
    }
   ],
   "source": [
    "alpha = 0.01\n",
    "results = stats.mannwhitneyu(data.query('churn ==1 and score < 946.0')['score'], data.query('churn == 0 and score < 946.0')['score'])\n",
    "if results.pvalue < alpha:\n",
    "    print('Отвергаем нулевую гипотезу, есть статистически значимое различие в баллах скоринга отточных и неотточных клиентов')\n",
    "else:\n",
    "    print('Нет статистически значимого различия в баллах скоринга отточных и неотточных клиентов')"
   ]
  },
  {
   "cell_type": "code",
   "execution_count": 206,
   "metadata": {},
   "outputs": [
    {
     "name": "stdout",
     "output_type": "stream",
     "text": [
      "Абсолютные потери: 482\n",
      "Относительные потери: 0.05\n"
     ]
    }
   ],
   "source": [
    "print('Абсолютные потери:', len(data.query(' score > 946.0')))\n",
    "print('Относительные потери:', round(len(data.query('score > 946.0'))/len(data), 2))"
   ]
  },
  {
   "cell_type": "markdown",
   "metadata": {},
   "source": [
    "**При проверке гипотезы по сырым и очищенным данным получили один и тот же результат: есть статистически значимое различие в баллах скоринга отточных и неотточных клиентов**"
   ]
  },
  {
   "cell_type": "markdown",
   "metadata": {},
   "source": [
    "### Выводы о влиянии определенных признаков на отток клиентов\n",
    "<a id=\"mid_conclusions\"></a>\n"
   ]
  },
  {
   "cell_type": "markdown",
   "metadata": {},
   "source": [
    "При исследовательском анализе нами были замечены некоторые взаимосвязи данных о клиентах и их отточном статусе. При сравнении среднего оттока в разбивке по различным признакам и среднего оттока по банку выяснилось, что:\n",
    "- Отток пользователей с балансом выше 1250000 выше, чем в среднем по банку.\n",
    "- Отток пользователей с зарплатой 90000-210000 выше, чем в среднем по банку.\n",
    "- Отток пользователей с баллами скоринга 825-900 выше, чем в с реднем по банку.\n",
    "- Отток пользователей в возрасте 23-35 и 50-59 выше, чем в среднем по банку.\n",
    "- В Ростове и Ярославле отток пользователей выше, чем в среднем по банку\n",
    "- Уровень оттока мужчин больше, чем в среднем по банку.\n",
    "- Уровень оттока у клиентов с оценкой недвижимости, превышающей 3, выше среднего оттока по банку. Уточним, что оценок выше 5 совсем мало, поэтому мы не можем утверждать, что эти клиенты являются отточными\n",
    "- Уровень оттока клиентов, пользующихся двумя, тремя и четырьмя продуктами, выше среднего оттока по банку.Уточним, что уровень оттока пользователей 0 и 5 продуктов также выше банковского, но из-за маленького количества людей, делать выводы о них мы не можем\n",
    "- Уровень оттока у пользователей, проявляющих активность, выше среднего по банку\n",
    "- Уровень оттока пользователей без кредитной карты выше среднего по банку\n",
    "Далее мы провели корреляционный анализ, в ходе которого выявились взаимосвязи неоторых признаков с отточностью пользователей: самая большая взаимосвязь оттока выявлена с количеством продуктов и уровнем зарплаты (зависимость положительная). Также относительно высокие показатели коэффициента корреляции между оттоком и активностью, полом (с мужским свзяь положительная, с женским - отрицательная) и наличием кредитной карты (отрицательная взаимосвязь)\n",
    "Благодаря вышеперечисленным заключениям нам удалось сделать следующие выводы по характеристикам уходящего клиента:\n",
    "- **Пол: мужской**\n",
    "- **Зарплата: 90 тыс. - 210 тыс.**\n",
    "- **Без кредитной карты**\n",
    "- **C баллами кредитного скоринга 825-900**\n",
    "- **Количество продуктов: 2 и больше**\n",
    "- **Есть активность**\n",
    "\n",
    "Эти характеристики подтвердились при сравнении средней отточности со средней по банку и при корреляционном анализе.\n",
    "Высоким средним оттоком, но небольшим коэффициентом корреляции с churn обладают пользователи:\n",
    "\n",
    "- **С балансом 1 - 2 млн.**\n",
    "- **23-35 и 50-59 лет**\n",
    "- **из Ярославля и Ростова**\n",
    "- **с оценкой недвижимости 3 и более**\n",
    "\n",
    "После проверки гипотез о доходах и кредитном скоринге клиентов, выяснилось, что между уходящими и остающимися пользователями есть статистически значимые различия по этим признакам."
   ]
  },
  {
   "cell_type": "markdown",
   "metadata": {},
   "source": [
    "## Сегментация отточных клиентов\n",
    "<a id=\"segments\"></a>"
   ]
  },
  {
   "cell_type": "markdown",
   "metadata": {},
   "source": [
    "### Выделение сегментов\n",
    "<a id=\"seg\"></a>"
   ]
  },
  {
   "cell_type": "markdown",
   "metadata": {},
   "source": [
    "#### Первый сегмент\n"
   ]
  },
  {
   "cell_type": "markdown",
   "metadata": {},
   "source": [
    "- **Пол: мужской**\n",
    "- **Зарплата: 90 тыс. - 210 тыс.**\n",
    "- **Без кредитной карты**\n"
   ]
  },
  {
   "cell_type": "code",
   "execution_count": 207,
   "metadata": {},
   "outputs": [
    {
     "name": "stdout",
     "output_type": "stream",
     "text": [
      "Отток по сегменту выше среднебанковского и равен 0.39\n",
      "Размер сегмента: 673\n",
      "Количество отточных клиентов: 263\n"
     ]
    }
   ],
   "source": [
    "first_segment = data.query('male == 1 and salary_category == \"90 тыс. - 210 тыс.\" and credit_card == 0')\n",
    "if first_segment['churn'].sum()/len(first_segment) > bank_middle_churn:\n",
    "    print('Отток по сегменту выше среднебанковского и равен', round(first_segment['churn'].sum()/len(first_segment), 2) )\n",
    "    print('Размер сегмента:', len(first_segment))\n",
    "    print('Количество отточных клиентов:', first_segment['churn'].sum())\n",
    "else:\n",
    "    print('Отток по сегменту ниже среднебанковского')"
   ]
  },
  {
   "cell_type": "markdown",
   "metadata": {},
   "source": [
    "#### Второй сегмент\n",
    "- **Баллы кредитного скоринга 825-900**\n",
    "- **Возраст: 23-35** \n",
    "- **Активность: есть**"
   ]
  },
  {
   "cell_type": "code",
   "execution_count": 208,
   "metadata": {},
   "outputs": [
    {
     "name": "stdout",
     "output_type": "stream",
     "text": [
      "Отток по  выше среднебанковского и равен 0.46\n",
      "Размер сегмента 689\n",
      "Количество отточных клиентов: 318\n"
     ]
    }
   ],
   "source": [
    "second_segment = data.query('score_category == \"825-900\" and age_category == \"23-35\" and last_activity == 1')\n",
    "if second_segment['churn'].sum()/len(second_segment) > bank_middle_churn:\n",
    "    print('Отток по  выше среднебанковского и равен', round(second_segment['churn'].sum()/len(second_segment), 2) )\n",
    "    print('Размер сегмента', len(second_segment))\n",
    "    print('Количество отточных клиентов:', second_segment['churn'].sum())\n",
    "else:\n",
    "    print('Отток по сегменту ниже среднебанковского')"
   ]
  },
  {
   "cell_type": "markdown",
   "metadata": {},
   "source": [
    "#### Третий сегмент"
   ]
  },
  {
   "cell_type": "markdown",
   "metadata": {},
   "source": [
    "- **Количество продуктов: 2 и более**\n",
    "- **Кредитная карта: нет**\n",
    "- **Баллы кредитного скоринга: 825-900**\n",
    "- **Активность: есть**\n",
    "\n"
   ]
  },
  {
   "cell_type": "code",
   "execution_count": 209,
   "metadata": {},
   "outputs": [
    {
     "name": "stdout",
     "output_type": "stream",
     "text": [
      "Отток по сегменту выше среднебанковского и равен 0.54\n",
      "Размер сегмента 693\n",
      "Количество отточных клиентов: 372\n"
     ]
    }
   ],
   "source": [
    "third_segment = data.query('products >= 2 and credit_card == 0 and last_activity == 1 and score_category == \"825-900\"')\n",
    "if third_segment['churn'].sum()/len(third_segment) > bank_middle_churn:\n",
    "    print('Отток по сегменту выше среднебанковского и равен', round(third_segment['churn'].sum()/len(third_segment), 2) )\n",
    "    print('Размер сегмента', len(third_segment))\n",
    "    print('Количество отточных клиентов:', third_segment['churn'].sum())\n",
    "else:\n",
    "    print('Отток по сегменту ниже среднебанковского')"
   ]
  },
  {
   "cell_type": "code",
   "execution_count": 210,
   "metadata": {},
   "outputs": [
    {
     "data": {
      "text/html": [
       "<div>\n",
       "<style scoped>\n",
       "    .dataframe tbody tr th:only-of-type {\n",
       "        vertical-align: middle;\n",
       "    }\n",
       "\n",
       "    .dataframe tbody tr th {\n",
       "        vertical-align: top;\n",
       "    }\n",
       "\n",
       "    .dataframe thead th {\n",
       "        text-align: right;\n",
       "    }\n",
       "</style>\n",
       "<table border=\"1\" class=\"dataframe\">\n",
       "  <thead>\n",
       "    <tr style=\"text-align: right;\">\n",
       "      <th></th>\n",
       "      <th>churn</th>\n",
       "      <th>user_id</th>\n",
       "    </tr>\n",
       "  </thead>\n",
       "  <tbody>\n",
       "    <tr>\n",
       "      <th>0</th>\n",
       "      <td>0</td>\n",
       "      <td>321</td>\n",
       "    </tr>\n",
       "    <tr>\n",
       "      <th>1</th>\n",
       "      <td>1</td>\n",
       "      <td>372</td>\n",
       "    </tr>\n",
       "  </tbody>\n",
       "</table>\n",
       "</div>"
      ],
      "text/plain": [
       "   churn  user_id\n",
       "0      0      321\n",
       "1      1      372"
      ]
     },
     "execution_count": 210,
     "metadata": {},
     "output_type": "execute_result"
    }
   ],
   "source": [
    "third_segment.groupby('churn', as_index=False).agg({'user_id':'count'})"
   ]
  },
  {
   "cell_type": "markdown",
   "metadata": {},
   "source": [
    "#### Четвертый сегмент"
   ]
  },
  {
   "cell_type": "markdown",
   "metadata": {},
   "source": [
    "- **Оценка недвижимости: 3 и более**\n",
    "- **Город: Ярославль**\n",
    "- **Количество продуктов: 2 и более**\n",
    "- **Активность: есть**"
   ]
  },
  {
   "cell_type": "code",
   "execution_count": 211,
   "metadata": {},
   "outputs": [
    {
     "name": "stdout",
     "output_type": "stream",
     "text": [
      "Отток по сегменту выше среднебанковского и равен 0.43\n",
      "Размер сегмента 1394\n",
      "Количество отточных клиентов: 596\n"
     ]
    }
   ],
   "source": [
    "fourth_segment = data.query('equity >= 3 and yaroslavl==1 and products >= 2 and last_activity == 1')\n",
    "if fourth_segment['churn'].sum()/len(fourth_segment) > bank_middle_churn:\n",
    "    print('Отток по сегменту выше среднебанковского и равен', round(fourth_segment['churn'].sum()/len(fourth_segment), 2) )\n",
    "    print('Размер сегмента', len(fourth_segment))\n",
    "    print('Количество отточных клиентов:', fourth_segment['churn'].sum())\n",
    "else:\n",
    "    print('Отток по сегменту ниже среднебанковского')"
   ]
  },
  {
   "cell_type": "markdown",
   "metadata": {},
   "source": [
    "#### Пятый сегмент"
   ]
  },
  {
   "cell_type": "markdown",
   "metadata": {},
   "source": [
    "- **Баланс: 1 - 2 миллиона**\n",
    "- **Количество продуктов: 2 и более**"
   ]
  },
  {
   "cell_type": "code",
   "execution_count": 212,
   "metadata": {},
   "outputs": [
    {
     "name": "stdout",
     "output_type": "stream",
     "text": [
      "Отток по сегменту выше среднебанковского и равен 0.38\n",
      "Размер сегмента 1279\n",
      "Количество отточных клиентов: 484\n"
     ]
    }
   ],
   "source": [
    "fifth_segment = data.query('balance_category == \"1 - 2 миллиона\" and products >= 2 ')\n",
    "if fifth_segment['churn'].sum()/len(fifth_segment) > bank_middle_churn:\n",
    "    print('Отток по сегменту выше среднебанковского и равен', round(fifth_segment['churn'].sum()/len(fifth_segment), 2) )\n",
    "    print('Размер сегмента', len(fifth_segment))\n",
    "    print('Количество отточных клиентов:', fifth_segment['churn'].sum())\n",
    "else:\n",
    "    print('Отток по сегменту ниже среднебанковского')"
   ]
  },
  {
   "cell_type": "markdown",
   "metadata": {},
   "source": [
    "### Приоритезация сегментов"
   ]
  },
  {
   "cell_type": "markdown",
   "metadata": {},
   "source": [
    "Предпочтильнее начинать с рассмотрения небольших сегментов, так как отделу маркетинга будет проще придумать для них программу лояльности. Сегменты 4 и 5 сильно увеличат количество работы маркетологов, поэтому их скорее стоит рассматривать как дополнительные.\n",
    "1. Третий сегмент -  уровень отточности 0.54 , небольшой размер \n",
    "2. Второй сегмент - уровень отточности 0.46, небольшой размер\n",
    "3. Первый сегмент - уровень отточности 0.39, небольшой размер\n",
    "4. Четвертый сегмент - уровень отточности 0.43, средний размер\n",
    "5. Пятый сегмент - уровень отточности 0.38, средний размер"
   ]
  },
  {
   "cell_type": "markdown",
   "metadata": {},
   "source": [
    "### Рекомендации по сегментам\n",
    "<a id=\"recs\"></a>"
   ]
  },
  {
   "cell_type": "markdown",
   "metadata": {},
   "source": [
    "\n",
    "- **Третий сегмент** - *приоритет 1*\n",
    "    - **Количество продуктов: 2 и более**\n",
    "    - **Кредитная карта: нет**\n",
    "    - **Баллы кредитного скоринга: 825-900**\n",
    "    - **Активность: есть**\n",
    "        - Отток по сегменту выше среднебанковского и равен 0.54\n",
    "        - Размер сегмента 693\n",
    "        - Количество отточных клиентов: 372\n",
    "        \n",
    "**Рекомендации**: в данном сегменте находятся пользователи с высоким баллом кредитного скоринга и без кредитной карты, при этом они являются активными и пользуются нашими продуктами.Возможно есть какая-то причина, по которым пользователи не хотят открывать кредитку в нашем банке. Можно предложить им завести карту с бесплатным обслуживанием / большим лимитом / бонусами.\n",
    "- **Второй сегмент** - *приоритет 2*\n",
    "    - **Баллы кредитного скоринга 825-900**\n",
    "    - **Возраст: 23-35** \n",
    "    - **Активность: есть**\n",
    "        - Отток по  выше среднебанковского и равен 0.46\n",
    "        - Размер сегмента 689\n",
    "        - Количество отточных клиентов: 318\n",
    "        \n",
    "**Рекомендации**: здесь мы видим активных пользователей возраста 23-35 с высоким баллом кредитного скоринга. Можно проанализировать потребности клиентов этого возраста и построить программу лояльности, исходя из них. К примеру, так как эти пользователи имеют высокий скоринг, можно предложить выгодные условия по ипотеке/автокредиту для молодых семей,  накопление милей, кэшбек от заправок и т.д.\n",
    "-  **Первый сегмент** - *приоритет 3*\n",
    "    - **Пол: мужской**\n",
    "    - **Зарплата: 90 тыс. - 210 тыс.**\n",
    "    - **Без кредитной карты**\n",
    "        - Отток по сегменту выше среднебанковского и равен 0.39\n",
    "        - Размер сегмента: 673\n",
    "        - Количество отточных клиентов: 263\n",
    "        \n",
    "**Рекомендации**: стоит изучить, какими продуктами нашего банка пользуются мужчины, и построить программу лояльности, исходя из их потребностей. Для клиентов, зарплата которых выше медианной по банку (она составляет около 120 тысяч единиц), можно предложить открыть накопительный счет под выгодные условия. Помимо этого можно предложить пользователям открыть кредитную карту.\n",
    "\n",
    "- **Четвертый сегмент** - *приоритет 4* (дополнительный)\n",
    "    - **Оценка недвижимости: 3 и более**\n",
    "    - **Город: Ярославль**\n",
    "    - **Количество продуктов: 2 и более**\n",
    "    - **Активность: есть**\n",
    " \n",
    "        - Отток по сегменту выше среднебанковского и равен 0.43\n",
    "        - Размер сегмента 1394\n",
    "        - Количество отточных клиентов: 596\n",
    "        \n",
    "**Рекомендации**: опять же необходимо изучить потребности пользователей из Ярославля. Можно придумать какую-то программу лояльности, связанную с посещением популярных достопримечательностей города (некоторые банки выплачивают большой кешбек при покупке билетов в театры/музеи). Пользователи сегмента имеют оценки недвижимости больше 3, поэтому если наш банк предлагает страховку, можно придумать бонусы, связанные с этим.\n",
    "\n",
    "- **Пятый сегмент** - *приоритет 5* (дополнительный)\n",
    "    - **Баланс: 1 - 2 миллиона**\n",
    "    - **Количество продуктов: 2 и более**\n",
    "        - Отток по сегменту выше среднебанковского и равен 0.38\n",
    "        - Размер сегмента 1279\n",
    "        - Количество отточных клиентов: 484\n",
    "        \n",
    "**Рекомендации**: Пользователи сегмента имеют большой баланс на карте, поэтому можно придумать что-то связанное с накопительными счетами и вкладами, лимотом перевода и комиссиями.\n",
    "\n"
   ]
  },
  {
   "cell_type": "markdown",
   "metadata": {},
   "source": [
    "## Общий вывод\n",
    "<a id=\"conclusions\"></a>"
   ]
  },
  {
   "cell_type": "markdown",
   "metadata": {},
   "source": [
    "При исследовательском анализе нами были замечены некоторые взаимосвязи данных о клиентах и их отточном статусе. При сравнении среднего оттока в разбивке по различным признакам и среднего оттока по банку выяснилось, что:\n",
    "- Отток пользователей с балансом выше 1250000 выше, чем в среднем по банку.\n",
    "- Отток пользователей с зарплатой 90000-210000 выше, чем в среднем по банку.\n",
    "- Отток пользователей с баллами скоринга 825-910 выше, чем в с реднем по банку.\n",
    "- Отток пользователей в возрасте 23-35 и 50-59 выше, чем в среднем по банку.\n",
    "- В Ростове и Ярославле отток пользователей выше, чем в среднем по банку\n",
    "- Уровень оттока мужчин больше, чем в среднем по банку.\n",
    "- Уровень оттока у клиентов с оценкой недвижимости, превышающей 3, выше среднего оттока по банку. Уточним, что оценок выше 5 совсем мало, поэтому мы не можем утверждать, что эти клиенты являются отточными\n",
    "- Уровень оттока клиентов, пользующихся двумя, тремя и четырьмя продуктами, выше среднего оттока по банку.Уточним, что уровень оттока пользователей 0 и 5 продуктов также выше банковского, но из-за маленького количества людей, делать выводы о них мы не можем\n",
    "- Уровень оттока у пользователей, проявляющих активность, выше среднего по банку\n",
    "- Уровень оттока пользователей без кредитной карты выше среднего по банку\n",
    "Далее мы провели корреляционный анализ, в ходе которого выявились взаимосвязи неоторых признаков с отточностью пользователей: самая большая взаимосвязь оттока выявлена с количеством продуктов и уровнем зарплаты (зависимость положительная). Также относительно высокие показатели коэффициента корреляции между оттоком и активностью, полом (с мужским свзяь положительная, с женским - отрицательная) и наличием кредитной карты (отрицательная взаимосвязь)\n",
    "Благодаря вышеперечисленным заключениям нам удалось сделать следующие выводы по характеристикам клиента:\n",
    "- **Пол: мужской**\n",
    "- **Зарплата: 90 тыс. - 210 тыс.**\n",
    "- **Без кредитной карты**\n",
    "- **Количество продуктов: 2 и больше**\n",
    "- **Есть активность**\n",
    "\n",
    "Эти характеристики подтвердились при сравнении средней отточности со средней по банку и при корреляционном анализе.\n",
    "Высоким средним оттоком, но небольшим коэффициентом корреляции с churn обладают пользователи:\n",
    "\n",
    "- **С балансом 1 - 2 млн.**\n",
    "- **23-35 и 50-59 лет**\n",
    "- **из Ярославля и Ростова**\n",
    "- **с баллами кредитного скоринга 825-900**\n",
    "- **с оценкой недвижимости 3 и более**\n",
    "\n",
    "После проверки гипотез о доходах и кредитном скоринге клиентов, выяснилось, что между уходящими и остающимися пользователями есть статистически значимые различия по этим признакам.\n",
    "\n",
    "После подробного анализа характеристик уходящего клиента нам удалось составить сегменты отточных пользователей:\n",
    "\n",
    "- **Третий сегмент** - *приоритет 1*\n",
    "    - **Количество продуктов: 2 и более**\n",
    "    - **Кредитная карта: нет**\n",
    "    - **Баллы кредитного скоринга: 825-900**\n",
    "    - **Активность: есть**\n",
    "        - Отток по сегменту выше среднебанковского и равен 0.54\n",
    "        - Размер сегмента 693\n",
    "        - Количество отточных клиентов: 372\n",
    "        \n",
    "**Рекомендации**: в данном сегменте находятся пользователи с высоким баллом кредитного скоринга и без кредитной карты, при этом они являются активными и пользуются нашими продуктами.Возможно есть какая-то причина, по которым пользователи не хотят открывать кредитку в нашем банке. Можно предложить им завести карту с бесплатным обслуживанием / большим лимитом / бонусами.\n",
    "- **Второй сегмент** - *приоритет 2*\n",
    "    - **Баллы кредитного скоринга 825-900**\n",
    "    - **Возраст: 23-35** \n",
    "    - **Активность: есть**\n",
    "        - Отток по  выше среднебанковского и равен 0.46\n",
    "        - Размер сегмента 689\n",
    "        - Количество отточных клиентов: 318\n",
    "        \n",
    "**Рекомендации**: здесь мы видим активных пользователей возраста 23-35 с высоким баллом кредитного скоринга. Можно проанализировать потребности клиентов этого возраста и построить программу лояльности, исходя из них. К примеру, так как эти пользователи имеют высокий скоринг, можно предложить выгодные условия по ипотеке/автокредиту для молодых семей,  накопление милей, кэшбек от заправок и т.д.\n",
    "-  **Первый сегмент** - *приоритет 3*\n",
    "    - **Пол: мужской**\n",
    "    - **Зарплата: 90 тыс. - 210 тыс.**\n",
    "    - **Без кредитной карты**\n",
    "        - Отток по сегменту выше среднебанковского и равен 0.39\n",
    "        - Размер сегмента: 673\n",
    "        - Количество отточных клиентов: 263\n",
    "        \n",
    "**Рекомендации**: стоит изучить, какими продуктами нашего банка пользуются мужчины, и построить программу лояльности, исходя из их потребностей. Для клиентов, зарплата которых выше медианной по банку (она составляет около 120 тысяч единиц), можно предложить открыть накопительный счет под выгодные условия. Помимо этого можно предложить пользователям открыть кредитную карту.\n",
    "\n",
    "- **Четвертый сегмент** - *приоритет 4* (дополнительный)\n",
    "    - **Оценка недвижимости: 3 и более**\n",
    "    - **Город: Ярославль**\n",
    "    - **Количество продуктов: 2 и более**\n",
    "    - **Активность: есть**\n",
    " \n",
    "        - Отток по сегменту выше среднебанковского и равен 0.43\n",
    "        - Размер сегмента 1394\n",
    "        - Количество отточных клиентов: 596\n",
    "        \n",
    "**Рекомендации**: опять же необходимо изучить потребности пользователей из Ярославля. Можно придумать какую-то программу лояльности, связанную с посещением популярных достопримечательностей города (некоторые банки выплачивают большой кешбек при покупке билетов в театры/музеи). Пользователи сегмента имеют оценки недвижимости больше 3, поэтому если наш банк предлагает страховку, можно придумать бонусы, связанные с этим.\n",
    "\n",
    "- **Пятый сегмент** - *приоритет 5* (дополнительный)\n",
    "    - **Баланс: 1 - 2 миллиона**\n",
    "    - **Количество продуктов: 2 и более**\n",
    "        - Отток по сегменту выше среднебанковского и равен 0.38\n",
    "        - Размер сегмента 1279\n",
    "        - Количество отточных клиентов: 484\n",
    "        \n",
    "**Рекомендации**: Пользователи сегмента имеют большой баланс на карте, поэтому можно придумать что-то связанное с накопительными счетами и вкладами, лимотом перевода и комиссиями.\n",
    "\n",
    "\n",
    "\n"
   ]
  }
 ],
 "metadata": {
  "ExecuteTimeLog": [
   {
    "duration": 1513,
    "start_time": "2023-04-18T09:22:02.009Z"
   },
   {
    "duration": 1044,
    "start_time": "2023-04-18T09:22:13.240Z"
   },
   {
    "duration": 29,
    "start_time": "2023-04-18T09:22:25.548Z"
   },
   {
    "duration": 17,
    "start_time": "2023-04-18T09:22:52.348Z"
   },
   {
    "duration": 4,
    "start_time": "2023-04-18T09:23:14.164Z"
   },
   {
    "duration": 7,
    "start_time": "2023-04-18T09:25:46.818Z"
   },
   {
    "duration": 3,
    "start_time": "2023-04-18T09:40:31.109Z"
   },
   {
    "duration": 12,
    "start_time": "2023-04-18T09:40:36.913Z"
   },
   {
    "duration": 9,
    "start_time": "2023-04-18T09:41:30.809Z"
   },
   {
    "duration": 94,
    "start_time": "2023-04-18T09:44:00.670Z"
   },
   {
    "duration": 621,
    "start_time": "2023-04-18T09:44:55.417Z"
   },
   {
    "duration": 105,
    "start_time": "2023-04-18T09:45:11.029Z"
   },
   {
    "duration": 5,
    "start_time": "2023-04-18T09:45:36.624Z"
   },
   {
    "duration": 4,
    "start_time": "2023-04-18T09:46:53.013Z"
   },
   {
    "duration": 5,
    "start_time": "2023-04-18T09:47:18.213Z"
   },
   {
    "duration": 6,
    "start_time": "2023-04-18T09:54:23.472Z"
   },
   {
    "duration": 3,
    "start_time": "2023-04-18T09:54:31.362Z"
   },
   {
    "duration": 2164,
    "start_time": "2023-04-18T09:54:39.274Z"
   },
   {
    "duration": 1368,
    "start_time": "2023-04-18T09:54:56.428Z"
   },
   {
    "duration": 1356,
    "start_time": "2023-04-18T09:55:02.826Z"
   },
   {
    "duration": 1029,
    "start_time": "2023-04-18T09:55:04.184Z"
   },
   {
    "duration": 16,
    "start_time": "2023-04-18T09:55:05.214Z"
   },
   {
    "duration": 12,
    "start_time": "2023-04-18T09:55:05.232Z"
   },
   {
    "duration": 3,
    "start_time": "2023-04-18T09:55:05.246Z"
   },
   {
    "duration": 6,
    "start_time": "2023-04-18T09:55:05.251Z"
   },
   {
    "duration": 14,
    "start_time": "2023-04-18T09:55:05.258Z"
   },
   {
    "duration": 7,
    "start_time": "2023-04-18T09:55:05.274Z"
   },
   {
    "duration": 4,
    "start_time": "2023-04-18T09:55:05.282Z"
   },
   {
    "duration": 4,
    "start_time": "2023-04-18T09:55:05.288Z"
   },
   {
    "duration": 21,
    "start_time": "2023-04-18T09:55:18.165Z"
   },
   {
    "duration": 9,
    "start_time": "2023-04-18T10:02:57.825Z"
   },
   {
    "duration": 8,
    "start_time": "2023-04-18T10:04:46.924Z"
   },
   {
    "duration": 9,
    "start_time": "2023-04-18T10:05:18.884Z"
   },
   {
    "duration": 9,
    "start_time": "2023-04-18T10:12:04.336Z"
   },
   {
    "duration": 248,
    "start_time": "2023-04-18T10:17:01.621Z"
   },
   {
    "duration": 222,
    "start_time": "2023-04-18T10:17:19.624Z"
   },
   {
    "duration": 693,
    "start_time": "2023-04-18T10:17:31.026Z"
   },
   {
    "duration": 342,
    "start_time": "2023-04-18T10:17:36.624Z"
   },
   {
    "duration": 241,
    "start_time": "2023-04-18T10:19:49.336Z"
   },
   {
    "duration": 140,
    "start_time": "2023-04-18T10:20:15.013Z"
   },
   {
    "duration": 254,
    "start_time": "2023-04-18T10:21:19.982Z"
   },
   {
    "duration": 246,
    "start_time": "2023-04-18T10:21:36.525Z"
   },
   {
    "duration": 197,
    "start_time": "2023-04-18T10:21:46.525Z"
   },
   {
    "duration": 220,
    "start_time": "2023-04-18T10:22:02.868Z"
   },
   {
    "duration": 185,
    "start_time": "2023-04-18T10:22:10.427Z"
   },
   {
    "duration": 258,
    "start_time": "2023-04-18T10:22:17.325Z"
   },
   {
    "duration": 257,
    "start_time": "2023-04-18T10:22:22.561Z"
   },
   {
    "duration": 8,
    "start_time": "2023-04-18T10:23:06.363Z"
   },
   {
    "duration": 309,
    "start_time": "2023-04-18T10:23:25.313Z"
   },
   {
    "duration": 10,
    "start_time": "2023-04-18T10:23:53.453Z"
   },
   {
    "duration": 7,
    "start_time": "2023-04-18T10:24:49.452Z"
   },
   {
    "duration": 276,
    "start_time": "2023-04-18T10:25:09.112Z"
   },
   {
    "duration": 1378,
    "start_time": "2023-04-18T10:25:44.221Z"
   },
   {
    "duration": 415,
    "start_time": "2023-04-18T10:26:00.836Z"
   },
   {
    "duration": 6,
    "start_time": "2023-04-18T10:27:19.379Z"
   },
   {
    "duration": 6,
    "start_time": "2023-04-18T10:27:23.683Z"
   },
   {
    "duration": 6,
    "start_time": "2023-04-18T10:27:29.045Z"
   },
   {
    "duration": 135,
    "start_time": "2023-04-18T10:27:55.263Z"
   },
   {
    "duration": 9,
    "start_time": "2023-04-18T10:28:21.280Z"
   },
   {
    "duration": 7,
    "start_time": "2023-04-18T10:30:05.908Z"
   },
   {
    "duration": 26,
    "start_time": "2023-04-18T10:32:31.809Z"
   },
   {
    "duration": 7,
    "start_time": "2023-04-18T10:32:39.521Z"
   },
   {
    "duration": 7,
    "start_time": "2023-04-18T10:33:15.159Z"
   },
   {
    "duration": 7,
    "start_time": "2023-04-18T10:33:38.676Z"
   },
   {
    "duration": 9,
    "start_time": "2023-04-18T10:37:13.925Z"
   },
   {
    "duration": 9,
    "start_time": "2023-04-18T10:46:28.813Z"
   },
   {
    "duration": 9,
    "start_time": "2023-04-18T10:46:46.825Z"
   },
   {
    "duration": 6,
    "start_time": "2023-04-18T10:47:11.180Z"
   },
   {
    "duration": 4,
    "start_time": "2023-04-18T10:47:17.340Z"
   },
   {
    "duration": 4,
    "start_time": "2023-04-18T10:47:55.727Z"
   },
   {
    "duration": 18,
    "start_time": "2023-04-18T10:49:26.976Z"
   },
   {
    "duration": 9,
    "start_time": "2023-04-18T10:50:38.051Z"
   },
   {
    "duration": 20,
    "start_time": "2023-04-18T10:50:49.752Z"
   },
   {
    "duration": 12,
    "start_time": "2023-04-18T10:51:02.822Z"
   },
   {
    "duration": 24,
    "start_time": "2023-04-18T10:51:07.066Z"
   },
   {
    "duration": 4,
    "start_time": "2023-04-18T10:52:31.813Z"
   },
   {
    "duration": 14,
    "start_time": "2023-04-18T10:55:07.145Z"
   },
   {
    "duration": 4,
    "start_time": "2023-04-18T10:59:12.646Z"
   },
   {
    "duration": 1758,
    "start_time": "2023-04-19T12:24:45.801Z"
   },
   {
    "duration": 1127,
    "start_time": "2023-04-19T12:24:47.562Z"
   },
   {
    "duration": 24,
    "start_time": "2023-04-19T12:24:48.692Z"
   },
   {
    "duration": 20,
    "start_time": "2023-04-19T12:24:48.717Z"
   },
   {
    "duration": 7,
    "start_time": "2023-04-19T12:24:48.740Z"
   },
   {
    "duration": 16,
    "start_time": "2023-04-19T12:24:48.748Z"
   },
   {
    "duration": 48,
    "start_time": "2023-04-19T12:24:48.766Z"
   },
   {
    "duration": 20,
    "start_time": "2023-04-19T12:24:48.816Z"
   },
   {
    "duration": 26,
    "start_time": "2023-04-19T12:24:48.838Z"
   },
   {
    "duration": 12,
    "start_time": "2023-04-19T12:24:48.866Z"
   },
   {
    "duration": 30,
    "start_time": "2023-04-19T12:24:48.881Z"
   },
   {
    "duration": 11,
    "start_time": "2023-04-19T12:24:48.913Z"
   },
   {
    "duration": 10,
    "start_time": "2023-04-19T12:24:48.925Z"
   },
   {
    "duration": 54,
    "start_time": "2023-04-19T12:24:48.937Z"
   },
   {
    "duration": 19,
    "start_time": "2023-04-19T12:24:48.993Z"
   },
   {
    "duration": 8,
    "start_time": "2023-04-19T12:24:49.014Z"
   },
   {
    "duration": 18,
    "start_time": "2023-04-19T12:24:49.024Z"
   },
   {
    "duration": 39,
    "start_time": "2023-04-19T12:24:49.044Z"
   },
   {
    "duration": 23,
    "start_time": "2023-04-19T12:24:49.086Z"
   },
   {
    "duration": 29,
    "start_time": "2023-04-19T12:24:49.110Z"
   },
   {
    "duration": 33,
    "start_time": "2023-04-19T12:24:49.141Z"
   },
   {
    "duration": 14,
    "start_time": "2023-04-19T12:24:49.176Z"
   },
   {
    "duration": 35,
    "start_time": "2023-04-19T12:24:49.193Z"
   },
   {
    "duration": 6,
    "start_time": "2023-04-19T12:26:52.921Z"
   },
   {
    "duration": 7,
    "start_time": "2023-04-19T12:27:14.371Z"
   },
   {
    "duration": 11,
    "start_time": "2023-04-19T12:30:46.986Z"
   },
   {
    "duration": 35,
    "start_time": "2023-04-19T12:30:51.754Z"
   },
   {
    "duration": 580,
    "start_time": "2023-04-19T12:36:58.808Z"
   },
   {
    "duration": 42,
    "start_time": "2023-04-19T12:43:31.190Z"
   },
   {
    "duration": 1411,
    "start_time": "2023-04-19T12:43:54.189Z"
   },
   {
    "duration": 1055,
    "start_time": "2023-04-19T12:43:55.602Z"
   },
   {
    "duration": 21,
    "start_time": "2023-04-19T12:43:56.659Z"
   },
   {
    "duration": 19,
    "start_time": "2023-04-19T12:43:56.682Z"
   },
   {
    "duration": 9,
    "start_time": "2023-04-19T12:43:56.703Z"
   },
   {
    "duration": 12,
    "start_time": "2023-04-19T12:43:56.714Z"
   },
   {
    "duration": 20,
    "start_time": "2023-04-19T12:43:56.728Z"
   },
   {
    "duration": 11,
    "start_time": "2023-04-19T12:43:56.750Z"
   },
   {
    "duration": 34,
    "start_time": "2023-04-19T12:43:56.763Z"
   },
   {
    "duration": 6,
    "start_time": "2023-04-19T12:43:56.802Z"
   },
   {
    "duration": 25,
    "start_time": "2023-04-19T12:43:56.810Z"
   },
   {
    "duration": 13,
    "start_time": "2023-04-19T12:43:56.837Z"
   },
   {
    "duration": 38,
    "start_time": "2023-04-19T12:43:56.852Z"
   },
   {
    "duration": 13,
    "start_time": "2023-04-19T12:43:56.892Z"
   },
   {
    "duration": 18,
    "start_time": "2023-04-19T12:43:56.906Z"
   },
   {
    "duration": 9,
    "start_time": "2023-04-19T12:43:56.926Z"
   },
   {
    "duration": 10,
    "start_time": "2023-04-19T12:43:56.937Z"
   },
   {
    "duration": 47,
    "start_time": "2023-04-19T12:43:56.949Z"
   },
   {
    "duration": 6,
    "start_time": "2023-04-19T12:43:56.998Z"
   },
   {
    "duration": 21,
    "start_time": "2023-04-19T12:43:57.006Z"
   },
   {
    "duration": 24,
    "start_time": "2023-04-19T12:43:57.029Z"
   },
   {
    "duration": 36,
    "start_time": "2023-04-19T12:43:57.055Z"
   },
   {
    "duration": 6,
    "start_time": "2023-04-19T12:43:57.094Z"
   },
   {
    "duration": 5,
    "start_time": "2023-04-19T12:43:57.103Z"
   },
   {
    "duration": 10,
    "start_time": "2023-04-19T12:43:57.110Z"
   },
   {
    "duration": 7,
    "start_time": "2023-04-19T12:43:57.122Z"
   },
   {
    "duration": 70,
    "start_time": "2023-04-19T12:43:57.131Z"
   },
   {
    "duration": 271,
    "start_time": "2023-04-19T12:55:45.614Z"
   },
   {
    "duration": 160,
    "start_time": "2023-04-19T12:55:57.546Z"
   },
   {
    "duration": 170,
    "start_time": "2023-04-19T12:56:10.448Z"
   },
   {
    "duration": 150,
    "start_time": "2023-04-19T12:56:27.982Z"
   },
   {
    "duration": 155,
    "start_time": "2023-04-19T12:56:36.250Z"
   },
   {
    "duration": 147,
    "start_time": "2023-04-19T12:57:01.323Z"
   },
   {
    "duration": 159,
    "start_time": "2023-04-19T12:57:13.376Z"
   },
   {
    "duration": 157,
    "start_time": "2023-04-19T12:57:19.910Z"
   },
   {
    "duration": 263,
    "start_time": "2023-04-19T12:57:27.063Z"
   },
   {
    "duration": 151,
    "start_time": "2023-04-19T12:57:57.554Z"
   },
   {
    "duration": 165,
    "start_time": "2023-04-19T12:58:37.598Z"
   },
   {
    "duration": 246,
    "start_time": "2023-04-19T12:59:16.477Z"
   },
   {
    "duration": 304,
    "start_time": "2023-04-19T13:00:06.415Z"
   },
   {
    "duration": 358,
    "start_time": "2023-04-19T13:07:24.489Z"
   },
   {
    "duration": 14,
    "start_time": "2023-04-19T13:07:49.459Z"
   },
   {
    "duration": 71,
    "start_time": "2023-04-19T13:14:09.076Z"
   },
   {
    "duration": 416,
    "start_time": "2023-04-19T13:14:12.807Z"
   },
   {
    "duration": 361,
    "start_time": "2023-04-19T13:15:08.508Z"
   },
   {
    "duration": 454,
    "start_time": "2023-04-19T13:15:29.108Z"
   },
   {
    "duration": 369,
    "start_time": "2023-04-19T13:15:46.976Z"
   },
   {
    "duration": 389,
    "start_time": "2023-04-19T13:16:19.927Z"
   },
   {
    "duration": 6,
    "start_time": "2023-04-19T13:17:30.211Z"
   },
   {
    "duration": 411,
    "start_time": "2023-04-19T13:18:39.847Z"
   },
   {
    "duration": 484,
    "start_time": "2023-04-19T13:19:20.577Z"
   },
   {
    "duration": 400,
    "start_time": "2023-04-19T13:22:59.357Z"
   },
   {
    "duration": 420,
    "start_time": "2023-04-19T13:23:21.519Z"
   },
   {
    "duration": 393,
    "start_time": "2023-04-19T13:23:52.562Z"
   },
   {
    "duration": 499,
    "start_time": "2023-04-19T13:29:01.635Z"
   },
   {
    "duration": 418,
    "start_time": "2023-04-19T13:30:03.085Z"
   },
   {
    "duration": 57,
    "start_time": "2023-04-19T13:30:56.692Z"
   },
   {
    "duration": 273,
    "start_time": "2023-04-19T13:31:01.284Z"
   },
   {
    "duration": 47,
    "start_time": "2023-04-19T13:31:38.481Z"
   },
   {
    "duration": 12,
    "start_time": "2023-04-19T13:31:50.633Z"
   },
   {
    "duration": 15,
    "start_time": "2023-04-19T13:31:58.835Z"
   },
   {
    "duration": 186,
    "start_time": "2023-04-19T13:32:40.973Z"
   },
   {
    "duration": 191,
    "start_time": "2023-04-19T13:34:53.910Z"
   },
   {
    "duration": 11,
    "start_time": "2023-04-19T13:36:20.106Z"
   },
   {
    "duration": 19,
    "start_time": "2023-04-19T13:36:34.183Z"
   },
   {
    "duration": 190,
    "start_time": "2023-04-19T13:37:41.423Z"
   },
   {
    "duration": 10,
    "start_time": "2023-04-19T13:39:53.184Z"
   },
   {
    "duration": 71,
    "start_time": "2023-04-19T13:43:31.863Z"
   },
   {
    "duration": 65,
    "start_time": "2023-04-19T13:43:56.148Z"
   },
   {
    "duration": 54,
    "start_time": "2023-04-19T13:44:08.921Z"
   },
   {
    "duration": 59,
    "start_time": "2023-04-19T13:44:19.629Z"
   },
   {
    "duration": 48,
    "start_time": "2023-04-19T13:44:32.132Z"
   },
   {
    "duration": 61,
    "start_time": "2023-04-19T13:44:46.254Z"
   },
   {
    "duration": 159,
    "start_time": "2023-04-19T13:45:18.584Z"
   },
   {
    "duration": 8,
    "start_time": "2023-04-19T13:45:27.262Z"
   },
   {
    "duration": 22,
    "start_time": "2023-04-19T13:48:56.480Z"
   },
   {
    "duration": 15,
    "start_time": "2023-04-19T13:49:26.620Z"
   },
   {
    "duration": 205,
    "start_time": "2023-04-19T13:57:07.002Z"
   },
   {
    "duration": 197,
    "start_time": "2023-04-19T13:57:16.010Z"
   },
   {
    "duration": 175,
    "start_time": "2023-04-19T14:04:37.250Z"
   },
   {
    "duration": 137,
    "start_time": "2023-04-19T14:05:14.518Z"
   },
   {
    "duration": 170,
    "start_time": "2023-04-19T14:05:29.925Z"
   },
   {
    "duration": 137,
    "start_time": "2023-04-19T14:05:36.652Z"
   },
   {
    "duration": 122,
    "start_time": "2023-04-19T14:05:56.369Z"
   },
   {
    "duration": 146,
    "start_time": "2023-04-19T14:06:04.875Z"
   },
   {
    "duration": 136,
    "start_time": "2023-04-19T14:06:15.967Z"
   },
   {
    "duration": 145,
    "start_time": "2023-04-19T14:06:21.632Z"
   },
   {
    "duration": 119,
    "start_time": "2023-04-19T14:06:28.937Z"
   },
   {
    "duration": 232,
    "start_time": "2023-04-19T14:06:45.677Z"
   },
   {
    "duration": 129,
    "start_time": "2023-04-19T14:06:53.022Z"
   },
   {
    "duration": 8,
    "start_time": "2023-04-19T14:10:09.473Z"
   },
   {
    "duration": 3113,
    "start_time": "2023-04-19T14:12:08.653Z"
   },
   {
    "duration": 3108,
    "start_time": "2023-04-19T14:12:47.632Z"
   },
   {
    "duration": 3321,
    "start_time": "2023-04-19T14:13:11.374Z"
   },
   {
    "duration": 3280,
    "start_time": "2023-04-19T14:13:38.248Z"
   },
   {
    "duration": 770,
    "start_time": "2023-04-19T14:14:00.775Z"
   },
   {
    "duration": 279,
    "start_time": "2023-04-19T14:14:08.894Z"
   },
   {
    "duration": 1688,
    "start_time": "2023-04-19T14:14:14.057Z"
   },
   {
    "duration": 2742,
    "start_time": "2023-04-19T14:14:27.572Z"
   },
   {
    "duration": 12,
    "start_time": "2023-04-19T14:14:48.333Z"
   },
   {
    "duration": 11,
    "start_time": "2023-04-19T14:17:18.709Z"
   },
   {
    "duration": 8,
    "start_time": "2023-04-19T14:17:32.062Z"
   },
   {
    "duration": 8,
    "start_time": "2023-04-19T14:17:47.554Z"
   },
   {
    "duration": 6857,
    "start_time": "2023-04-19T14:22:50.780Z"
   },
   {
    "duration": 6631,
    "start_time": "2023-04-19T14:23:20.512Z"
   },
   {
    "duration": 31,
    "start_time": "2023-04-19T14:25:01.149Z"
   },
   {
    "duration": 12,
    "start_time": "2023-04-19T14:25:19.203Z"
   },
   {
    "duration": 12,
    "start_time": "2023-04-19T14:25:27.905Z"
   },
   {
    "duration": 14,
    "start_time": "2023-04-19T14:29:11.473Z"
   },
   {
    "duration": 14,
    "start_time": "2023-04-19T14:29:16.315Z"
   },
   {
    "duration": 800,
    "start_time": "2023-04-19T14:29:30.811Z"
   },
   {
    "duration": 13,
    "start_time": "2023-04-19T14:29:50.140Z"
   },
   {
    "duration": 346,
    "start_time": "2023-04-19T14:32:06.748Z"
   },
   {
    "duration": 170,
    "start_time": "2023-04-19T14:34:25.882Z"
   },
   {
    "duration": 148,
    "start_time": "2023-04-19T14:34:35.057Z"
   },
   {
    "duration": 141,
    "start_time": "2023-04-19T14:34:40.418Z"
   },
   {
    "duration": 1285,
    "start_time": "2023-04-19T14:35:39.640Z"
   },
   {
    "duration": 1209,
    "start_time": "2023-04-19T14:35:40.927Z"
   },
   {
    "duration": 18,
    "start_time": "2023-04-19T14:35:42.138Z"
   },
   {
    "duration": 14,
    "start_time": "2023-04-19T14:35:42.158Z"
   },
   {
    "duration": 8,
    "start_time": "2023-04-19T14:35:42.174Z"
   },
   {
    "duration": 4,
    "start_time": "2023-04-19T14:35:42.184Z"
   },
   {
    "duration": 14,
    "start_time": "2023-04-19T14:35:42.190Z"
   },
   {
    "duration": 13,
    "start_time": "2023-04-19T14:35:42.206Z"
   },
   {
    "duration": 5,
    "start_time": "2023-04-19T14:35:42.221Z"
   },
   {
    "duration": 5,
    "start_time": "2023-04-19T14:35:42.228Z"
   },
   {
    "duration": 17,
    "start_time": "2023-04-19T14:35:42.235Z"
   },
   {
    "duration": 10,
    "start_time": "2023-04-19T14:35:42.253Z"
   },
   {
    "duration": 8,
    "start_time": "2023-04-19T14:35:42.290Z"
   },
   {
    "duration": 12,
    "start_time": "2023-04-19T14:35:42.301Z"
   },
   {
    "duration": 12,
    "start_time": "2023-04-19T14:35:42.315Z"
   },
   {
    "duration": 7,
    "start_time": "2023-04-19T14:35:42.329Z"
   },
   {
    "duration": 6,
    "start_time": "2023-04-19T14:35:42.338Z"
   },
   {
    "duration": 44,
    "start_time": "2023-04-19T14:35:42.346Z"
   },
   {
    "duration": 5,
    "start_time": "2023-04-19T14:35:42.392Z"
   },
   {
    "duration": 11,
    "start_time": "2023-04-19T14:35:42.398Z"
   },
   {
    "duration": 22,
    "start_time": "2023-04-19T14:35:42.411Z"
   },
   {
    "duration": 4,
    "start_time": "2023-04-19T14:35:42.435Z"
   },
   {
    "duration": 23,
    "start_time": "2023-04-19T14:35:42.440Z"
   },
   {
    "duration": 25,
    "start_time": "2023-04-19T14:35:42.466Z"
   },
   {
    "duration": 5,
    "start_time": "2023-04-19T14:35:42.493Z"
   },
   {
    "duration": 35,
    "start_time": "2023-04-19T14:35:42.499Z"
   },
   {
    "duration": 53,
    "start_time": "2023-04-19T14:35:42.536Z"
   },
   {
    "duration": 156,
    "start_time": "2023-04-19T14:35:42.590Z"
   },
   {
    "duration": 248,
    "start_time": "2023-04-19T14:35:42.749Z"
   },
   {
    "duration": 13,
    "start_time": "2023-04-19T14:35:42.999Z"
   },
   {
    "duration": 8,
    "start_time": "2023-04-19T14:35:43.013Z"
   },
   {
    "duration": 7,
    "start_time": "2023-04-19T14:35:43.023Z"
   },
   {
    "duration": 374,
    "start_time": "2023-04-19T14:35:43.032Z"
   },
   {
    "duration": 171,
    "start_time": "2023-04-19T14:35:43.408Z"
   },
   {
    "duration": 18,
    "start_time": "2023-04-19T14:35:43.581Z"
   },
   {
    "duration": 40,
    "start_time": "2023-04-19T14:35:43.601Z"
   },
   {
    "duration": 30,
    "start_time": "2023-04-19T14:35:43.643Z"
   },
   {
    "duration": 7,
    "start_time": "2023-04-19T14:35:43.675Z"
   },
   {
    "duration": 121,
    "start_time": "2023-04-19T14:35:43.684Z"
   },
   {
    "duration": 2570,
    "start_time": "2023-04-19T14:35:43.807Z"
   },
   {
    "duration": 18,
    "start_time": "2023-04-19T14:35:46.380Z"
   },
   {
    "duration": 9,
    "start_time": "2023-04-19T14:35:46.400Z"
   },
   {
    "duration": 6421,
    "start_time": "2023-04-19T14:35:46.410Z"
   },
   {
    "duration": 152,
    "start_time": "2023-04-19T14:35:52.833Z"
   },
   {
    "duration": 12,
    "start_time": "2023-04-19T14:35:52.989Z"
   },
   {
    "duration": 15,
    "start_time": "2023-04-19T14:35:53.003Z"
   },
   {
    "duration": 13,
    "start_time": "2023-04-19T14:37:49.286Z"
   },
   {
    "duration": 45,
    "start_time": "2023-04-19T17:08:05.842Z"
   },
   {
    "duration": 1506,
    "start_time": "2023-04-19T17:08:12.237Z"
   },
   {
    "duration": 999,
    "start_time": "2023-04-19T17:08:13.745Z"
   },
   {
    "duration": 16,
    "start_time": "2023-04-19T17:08:14.746Z"
   },
   {
    "duration": 14,
    "start_time": "2023-04-19T17:08:14.763Z"
   },
   {
    "duration": 4,
    "start_time": "2023-04-19T17:08:14.779Z"
   },
   {
    "duration": 7,
    "start_time": "2023-04-19T17:08:14.785Z"
   },
   {
    "duration": 14,
    "start_time": "2023-04-19T17:08:14.793Z"
   },
   {
    "duration": 30,
    "start_time": "2023-04-19T17:08:14.809Z"
   },
   {
    "duration": 9,
    "start_time": "2023-04-19T17:08:14.841Z"
   },
   {
    "duration": 16,
    "start_time": "2023-04-19T17:08:14.851Z"
   },
   {
    "duration": 10,
    "start_time": "2023-04-19T17:08:14.869Z"
   },
   {
    "duration": 11,
    "start_time": "2023-04-19T17:08:14.881Z"
   },
   {
    "duration": 17,
    "start_time": "2023-04-19T17:08:14.893Z"
   },
   {
    "duration": 22,
    "start_time": "2023-04-19T17:08:14.913Z"
   },
   {
    "duration": 10,
    "start_time": "2023-04-19T17:08:14.936Z"
   },
   {
    "duration": 17,
    "start_time": "2023-04-19T17:08:14.949Z"
   },
   {
    "duration": 6,
    "start_time": "2023-04-19T17:08:14.968Z"
   },
   {
    "duration": 19,
    "start_time": "2023-04-19T17:08:14.975Z"
   },
   {
    "duration": 51,
    "start_time": "2023-04-19T17:08:14.996Z"
   },
   {
    "duration": 29,
    "start_time": "2023-04-19T17:08:15.049Z"
   },
   {
    "duration": 34,
    "start_time": "2023-04-19T17:08:15.080Z"
   },
   {
    "duration": 3,
    "start_time": "2023-04-19T17:08:15.116Z"
   },
   {
    "duration": 17,
    "start_time": "2023-04-19T17:08:15.121Z"
   },
   {
    "duration": 20,
    "start_time": "2023-04-19T17:08:15.139Z"
   },
   {
    "duration": 12,
    "start_time": "2023-04-19T17:08:15.160Z"
   },
   {
    "duration": 26,
    "start_time": "2023-04-19T17:08:15.174Z"
   },
   {
    "duration": 39,
    "start_time": "2023-04-19T17:08:15.201Z"
   },
   {
    "duration": 144,
    "start_time": "2023-04-19T17:08:15.242Z"
   },
   {
    "duration": 220,
    "start_time": "2023-04-19T17:08:15.388Z"
   },
   {
    "duration": 11,
    "start_time": "2023-04-19T17:08:15.610Z"
   },
   {
    "duration": 15,
    "start_time": "2023-04-19T17:08:15.622Z"
   },
   {
    "duration": 9,
    "start_time": "2023-04-19T17:08:15.638Z"
   },
   {
    "duration": 295,
    "start_time": "2023-04-19T17:08:15.648Z"
   },
   {
    "duration": 144,
    "start_time": "2023-04-19T17:08:15.945Z"
   },
   {
    "duration": 11,
    "start_time": "2023-04-19T17:08:16.091Z"
   },
   {
    "duration": 31,
    "start_time": "2023-04-19T17:08:16.103Z"
   },
   {
    "duration": 9,
    "start_time": "2023-04-19T17:08:16.136Z"
   },
   {
    "duration": 5,
    "start_time": "2023-04-19T17:08:16.147Z"
   },
   {
    "duration": 110,
    "start_time": "2023-04-19T17:08:16.154Z"
   },
   {
    "duration": 117,
    "start_time": "2023-04-19T17:08:16.265Z"
   },
   {
    "duration": 2133,
    "start_time": "2023-04-19T17:08:16.385Z"
   },
   {
    "duration": 16,
    "start_time": "2023-04-19T17:08:18.519Z"
   },
   {
    "duration": 6,
    "start_time": "2023-04-19T17:08:18.536Z"
   },
   {
    "duration": 5372,
    "start_time": "2023-04-19T17:08:18.543Z"
   },
   {
    "duration": 130,
    "start_time": "2023-04-19T17:08:23.917Z"
   },
   {
    "duration": 10,
    "start_time": "2023-04-19T17:08:24.049Z"
   },
   {
    "duration": 14,
    "start_time": "2023-04-19T17:08:24.060Z"
   },
   {
    "duration": 107,
    "start_time": "2023-04-19T17:08:24.075Z"
   },
   {
    "duration": 122,
    "start_time": "2023-04-19T17:08:30.080Z"
   },
   {
    "duration": 113,
    "start_time": "2023-04-19T17:08:35.599Z"
   },
   {
    "duration": 413,
    "start_time": "2023-04-19T17:08:42.678Z"
   },
   {
    "duration": 109,
    "start_time": "2023-04-19T17:08:48.277Z"
   },
   {
    "duration": 111,
    "start_time": "2023-04-19T17:08:58.285Z"
   },
   {
    "duration": 121,
    "start_time": "2023-04-19T17:09:03.184Z"
   },
   {
    "duration": 103,
    "start_time": "2023-04-19T17:09:39.931Z"
   },
   {
    "duration": 115,
    "start_time": "2023-04-19T17:09:49.290Z"
   },
   {
    "duration": 102,
    "start_time": "2023-04-19T17:09:58.095Z"
   },
   {
    "duration": 95,
    "start_time": "2023-04-19T17:10:04.919Z"
   },
   {
    "duration": 108,
    "start_time": "2023-04-19T17:10:33.152Z"
   },
   {
    "duration": 107,
    "start_time": "2023-04-19T17:10:46.624Z"
   },
   {
    "duration": 9,
    "start_time": "2023-04-19T17:11:33.093Z"
   },
   {
    "duration": 4,
    "start_time": "2023-04-19T17:12:22.186Z"
   },
   {
    "duration": 4,
    "start_time": "2023-04-19T17:12:40.584Z"
   },
   {
    "duration": 118,
    "start_time": "2023-04-19T17:12:49.263Z"
   },
   {
    "duration": 114,
    "start_time": "2023-04-19T17:13:00.804Z"
   },
   {
    "duration": 108,
    "start_time": "2023-04-19T17:13:05.620Z"
   },
   {
    "duration": 205,
    "start_time": "2023-04-19T17:13:13.353Z"
   },
   {
    "duration": 102,
    "start_time": "2023-04-19T17:13:17.554Z"
   },
   {
    "duration": 119,
    "start_time": "2023-04-19T17:13:22.982Z"
   },
   {
    "duration": 114,
    "start_time": "2023-04-19T17:13:29.987Z"
   },
   {
    "duration": 110,
    "start_time": "2023-04-19T17:13:43.263Z"
   },
   {
    "duration": 326,
    "start_time": "2023-04-19T17:15:03.081Z"
   },
   {
    "duration": 9,
    "start_time": "2023-04-19T17:23:50.333Z"
   },
   {
    "duration": 768,
    "start_time": "2023-04-19T17:29:19.803Z"
   },
   {
    "duration": 738,
    "start_time": "2023-04-19T17:29:33.869Z"
   },
   {
    "duration": 14,
    "start_time": "2023-04-19T17:34:21.218Z"
   },
   {
    "duration": 13,
    "start_time": "2023-04-19T17:35:11.552Z"
   },
   {
    "duration": 17,
    "start_time": "2023-04-19T18:07:14.269Z"
   },
   {
    "duration": 8,
    "start_time": "2023-04-19T18:13:49.359Z"
   },
   {
    "duration": 5,
    "start_time": "2023-04-19T18:14:51.262Z"
   },
   {
    "duration": 11,
    "start_time": "2023-04-19T18:15:29.958Z"
   },
   {
    "duration": 10,
    "start_time": "2023-04-19T18:15:38.918Z"
   },
   {
    "duration": 112,
    "start_time": "2023-04-19T18:18:05.351Z"
   },
   {
    "duration": 15,
    "start_time": "2023-04-19T18:18:21.765Z"
   },
   {
    "duration": 5,
    "start_time": "2023-04-19T18:19:10.717Z"
   },
   {
    "duration": 12,
    "start_time": "2023-04-19T18:19:46.592Z"
   },
   {
    "duration": 224,
    "start_time": "2023-04-19T18:21:04.778Z"
   },
   {
    "duration": 12,
    "start_time": "2023-04-19T18:21:37.365Z"
   },
   {
    "duration": 148,
    "start_time": "2023-04-19T18:21:42.580Z"
   },
   {
    "duration": 144,
    "start_time": "2023-04-19T18:23:24.986Z"
   },
   {
    "duration": 182,
    "start_time": "2023-04-19T18:24:01.974Z"
   },
   {
    "duration": 260,
    "start_time": "2023-04-19T18:24:10.171Z"
   },
   {
    "duration": 165,
    "start_time": "2023-04-19T18:26:46.271Z"
   },
   {
    "duration": 201,
    "start_time": "2023-04-19T18:26:59.802Z"
   },
   {
    "duration": 187,
    "start_time": "2023-04-19T18:27:22.519Z"
   },
   {
    "duration": 171,
    "start_time": "2023-04-19T18:27:29.591Z"
   },
   {
    "duration": 178,
    "start_time": "2023-04-19T18:27:46.617Z"
   },
   {
    "duration": 216,
    "start_time": "2023-04-19T18:27:57.677Z"
   },
   {
    "duration": 120,
    "start_time": "2023-04-19T18:28:08.070Z"
   },
   {
    "duration": 186,
    "start_time": "2023-04-19T18:28:12.778Z"
   },
   {
    "duration": 159,
    "start_time": "2023-04-19T18:28:23.355Z"
   },
   {
    "duration": 210,
    "start_time": "2023-04-19T18:28:38.470Z"
   },
   {
    "duration": 210,
    "start_time": "2023-04-19T18:28:47.896Z"
   },
   {
    "duration": 172,
    "start_time": "2023-04-19T18:29:33.154Z"
   },
   {
    "duration": 205,
    "start_time": "2023-04-19T18:30:22.674Z"
   },
   {
    "duration": 270,
    "start_time": "2023-04-19T18:30:47.588Z"
   },
   {
    "duration": 312,
    "start_time": "2023-04-19T18:31:34.716Z"
   },
   {
    "duration": 156,
    "start_time": "2023-04-19T18:31:40.371Z"
   },
   {
    "duration": 299,
    "start_time": "2023-04-19T18:31:49.127Z"
   },
   {
    "duration": 284,
    "start_time": "2023-04-19T18:32:01.592Z"
   },
   {
    "duration": 6,
    "start_time": "2023-04-19T18:32:22.095Z"
   },
   {
    "duration": 6,
    "start_time": "2023-04-19T18:33:55.593Z"
   },
   {
    "duration": 17,
    "start_time": "2023-04-19T18:36:09.593Z"
   },
   {
    "duration": 17,
    "start_time": "2023-04-19T18:44:38.563Z"
   },
   {
    "duration": 5,
    "start_time": "2023-04-19T18:45:11.460Z"
   },
   {
    "duration": 6,
    "start_time": "2023-04-19T18:45:22.082Z"
   },
   {
    "duration": 5,
    "start_time": "2023-04-19T18:55:06.300Z"
   },
   {
    "duration": 286,
    "start_time": "2023-04-19T18:56:25.114Z"
   },
   {
    "duration": 197,
    "start_time": "2023-04-19T18:56:58.276Z"
   },
   {
    "duration": 345,
    "start_time": "2023-04-19T19:05:59.335Z"
   },
   {
    "duration": 364,
    "start_time": "2023-04-19T19:06:10.418Z"
   },
   {
    "duration": 12,
    "start_time": "2023-04-19T19:08:08.687Z"
   },
   {
    "duration": 413,
    "start_time": "2023-04-19T19:09:51.056Z"
   },
   {
    "duration": 10,
    "start_time": "2023-04-19T19:14:22.699Z"
   },
   {
    "duration": 18,
    "start_time": "2023-04-19T19:18:58.329Z"
   },
   {
    "duration": 285,
    "start_time": "2023-04-19T19:20:01.783Z"
   },
   {
    "duration": 298,
    "start_time": "2023-04-19T19:20:25.901Z"
   },
   {
    "duration": 277,
    "start_time": "2023-04-19T19:21:27.459Z"
   },
   {
    "duration": 9,
    "start_time": "2023-04-19T19:23:22.207Z"
   },
   {
    "duration": 324,
    "start_time": "2023-04-19T19:23:25.000Z"
   },
   {
    "duration": 1333,
    "start_time": "2023-04-19T19:23:50.794Z"
   },
   {
    "duration": 1248,
    "start_time": "2023-04-19T19:23:52.131Z"
   },
   {
    "duration": 16,
    "start_time": "2023-04-19T19:23:53.380Z"
   },
   {
    "duration": 12,
    "start_time": "2023-04-19T19:23:53.398Z"
   },
   {
    "duration": 5,
    "start_time": "2023-04-19T19:23:53.411Z"
   },
   {
    "duration": 7,
    "start_time": "2023-04-19T19:23:53.417Z"
   },
   {
    "duration": 27,
    "start_time": "2023-04-19T19:23:53.426Z"
   },
   {
    "duration": 21,
    "start_time": "2023-04-19T19:23:53.455Z"
   },
   {
    "duration": 6,
    "start_time": "2023-04-19T19:23:53.478Z"
   },
   {
    "duration": 5,
    "start_time": "2023-04-19T19:23:53.487Z"
   },
   {
    "duration": 21,
    "start_time": "2023-04-19T19:23:53.494Z"
   },
   {
    "duration": 9,
    "start_time": "2023-04-19T19:23:53.517Z"
   },
   {
    "duration": 15,
    "start_time": "2023-04-19T19:23:53.527Z"
   },
   {
    "duration": 36,
    "start_time": "2023-04-19T19:23:53.544Z"
   },
   {
    "duration": 10,
    "start_time": "2023-04-19T19:23:53.581Z"
   },
   {
    "duration": 6,
    "start_time": "2023-04-19T19:23:53.593Z"
   },
   {
    "duration": 7,
    "start_time": "2023-04-19T19:23:53.600Z"
   },
   {
    "duration": 13,
    "start_time": "2023-04-19T19:23:53.608Z"
   },
   {
    "duration": 9,
    "start_time": "2023-04-19T19:23:53.622Z"
   },
   {
    "duration": 42,
    "start_time": "2023-04-19T19:23:53.632Z"
   },
   {
    "duration": 18,
    "start_time": "2023-04-19T19:23:53.676Z"
   },
   {
    "duration": 5,
    "start_time": "2023-04-19T19:23:53.696Z"
   },
   {
    "duration": 11,
    "start_time": "2023-04-19T19:23:53.702Z"
   },
   {
    "duration": 6,
    "start_time": "2023-04-19T19:23:53.714Z"
   },
   {
    "duration": 5,
    "start_time": "2023-04-19T19:23:53.721Z"
   },
   {
    "duration": 12,
    "start_time": "2023-04-19T19:23:53.728Z"
   },
   {
    "duration": 47,
    "start_time": "2023-04-19T19:23:53.742Z"
   },
   {
    "duration": 140,
    "start_time": "2023-04-19T19:23:53.793Z"
   },
   {
    "duration": 246,
    "start_time": "2023-04-19T19:23:53.935Z"
   },
   {
    "duration": 13,
    "start_time": "2023-04-19T19:23:54.183Z"
   },
   {
    "duration": 22,
    "start_time": "2023-04-19T19:23:54.197Z"
   },
   {
    "duration": 26,
    "start_time": "2023-04-19T19:23:54.220Z"
   },
   {
    "duration": 372,
    "start_time": "2023-04-19T19:23:54.248Z"
   },
   {
    "duration": 187,
    "start_time": "2023-04-19T19:23:54.622Z"
   },
   {
    "duration": 10,
    "start_time": "2023-04-19T19:23:54.812Z"
   },
   {
    "duration": 55,
    "start_time": "2023-04-19T19:23:54.824Z"
   },
   {
    "duration": 9,
    "start_time": "2023-04-19T19:23:54.881Z"
   },
   {
    "duration": 7,
    "start_time": "2023-04-19T19:23:54.892Z"
   },
   {
    "duration": 123,
    "start_time": "2023-04-19T19:23:54.901Z"
   },
   {
    "duration": 146,
    "start_time": "2023-04-19T19:23:55.026Z"
   },
   {
    "duration": 2693,
    "start_time": "2023-04-19T19:23:55.174Z"
   },
   {
    "duration": 13,
    "start_time": "2023-04-19T19:23:57.869Z"
   },
   {
    "duration": 7,
    "start_time": "2023-04-19T19:23:57.884Z"
   },
   {
    "duration": 6505,
    "start_time": "2023-04-19T19:23:57.892Z"
   },
   {
    "duration": 176,
    "start_time": "2023-04-19T19:24:04.399Z"
   },
   {
    "duration": 11,
    "start_time": "2023-04-19T19:24:04.577Z"
   },
   {
    "duration": 28,
    "start_time": "2023-04-19T19:24:04.590Z"
   },
   {
    "duration": 165,
    "start_time": "2023-04-19T19:24:04.620Z"
   },
   {
    "duration": 161,
    "start_time": "2023-04-19T19:24:04.787Z"
   },
   {
    "duration": 11,
    "start_time": "2023-04-19T19:24:04.950Z"
   },
   {
    "duration": 860,
    "start_time": "2023-04-19T19:24:04.962Z"
   },
   {
    "duration": 26,
    "start_time": "2023-04-19T19:24:05.824Z"
   },
   {
    "duration": 790,
    "start_time": "2023-04-19T19:24:05.860Z"
   },
   {
    "duration": 19,
    "start_time": "2023-04-19T19:24:06.653Z"
   },
   {
    "duration": 12,
    "start_time": "2023-04-19T19:24:06.674Z"
   },
   {
    "duration": 406,
    "start_time": "2023-04-19T19:24:06.687Z"
   },
   {
    "duration": 12,
    "start_time": "2023-04-19T19:24:07.095Z"
   },
   {
    "duration": 4,
    "start_time": "2023-04-19T19:24:07.109Z"
   },
   {
    "duration": 36,
    "start_time": "2023-04-19T19:24:07.115Z"
   },
   {
    "duration": 27,
    "start_time": "2023-04-19T19:24:07.153Z"
   },
   {
    "duration": 286,
    "start_time": "2023-04-19T19:24:07.182Z"
   },
   {
    "duration": 13,
    "start_time": "2023-04-19T19:24:07.470Z"
   },
   {
    "duration": 12,
    "start_time": "2023-04-19T19:24:07.485Z"
   },
   {
    "duration": 291,
    "start_time": "2023-04-19T19:24:07.499Z"
   },
   {
    "duration": 12,
    "start_time": "2023-04-19T19:24:07.791Z"
   },
   {
    "duration": 17,
    "start_time": "2023-04-19T19:24:07.805Z"
   },
   {
    "duration": 331,
    "start_time": "2023-04-19T19:24:07.823Z"
   },
   {
    "duration": 20,
    "start_time": "2023-04-19T19:24:33.261Z"
   },
   {
    "duration": 12,
    "start_time": "2023-04-19T19:24:44.100Z"
   },
   {
    "duration": 449,
    "start_time": "2023-04-19T19:24:54.004Z"
   },
   {
    "duration": 193,
    "start_time": "2023-04-19T19:25:42.123Z"
   },
   {
    "duration": 148,
    "start_time": "2023-04-19T19:25:58.804Z"
   },
   {
    "duration": 169,
    "start_time": "2023-04-19T19:26:29.782Z"
   },
   {
    "duration": 156,
    "start_time": "2023-04-19T19:29:06.498Z"
   },
   {
    "duration": 167,
    "start_time": "2023-04-19T19:29:32.394Z"
   },
   {
    "duration": 155,
    "start_time": "2023-04-19T19:29:51.991Z"
   },
   {
    "duration": 328,
    "start_time": "2023-04-19T19:30:13.431Z"
   },
   {
    "duration": 290,
    "start_time": "2023-04-19T19:30:26.727Z"
   },
   {
    "duration": 292,
    "start_time": "2023-04-19T19:30:49.079Z"
   },
   {
    "duration": 204,
    "start_time": "2023-04-19T19:31:10.927Z"
   },
   {
    "duration": 441,
    "start_time": "2023-04-19T19:31:46.701Z"
   },
   {
    "duration": 294,
    "start_time": "2023-04-19T19:31:59.287Z"
   },
   {
    "duration": 349,
    "start_time": "2023-04-19T19:32:16.898Z"
   },
   {
    "duration": 212,
    "start_time": "2023-04-19T19:32:51.981Z"
   },
   {
    "duration": 235,
    "start_time": "2023-04-19T19:32:56.755Z"
   },
   {
    "duration": 313,
    "start_time": "2023-04-19T19:33:22.142Z"
   },
   {
    "duration": 16,
    "start_time": "2023-04-19T19:33:49.625Z"
   },
   {
    "duration": 316,
    "start_time": "2023-04-19T19:33:53.609Z"
   },
   {
    "duration": 8,
    "start_time": "2023-04-19T19:34:45.307Z"
   },
   {
    "duration": 17,
    "start_time": "2023-04-19T19:52:30.307Z"
   },
   {
    "duration": 16,
    "start_time": "2023-04-19T19:55:07.925Z"
   },
   {
    "duration": 10,
    "start_time": "2023-04-19T19:55:37.580Z"
   },
   {
    "duration": 5,
    "start_time": "2023-04-19T19:55:51.374Z"
   },
   {
    "duration": 1295,
    "start_time": "2023-04-19T20:27:49.581Z"
   },
   {
    "duration": 1350,
    "start_time": "2023-04-19T20:27:50.879Z"
   },
   {
    "duration": 24,
    "start_time": "2023-04-19T20:27:52.231Z"
   },
   {
    "duration": 36,
    "start_time": "2023-04-19T20:27:52.257Z"
   },
   {
    "duration": 5,
    "start_time": "2023-04-19T20:27:52.295Z"
   },
   {
    "duration": 5,
    "start_time": "2023-04-19T20:27:52.301Z"
   },
   {
    "duration": 20,
    "start_time": "2023-04-19T20:27:52.308Z"
   },
   {
    "duration": 77,
    "start_time": "2023-04-19T20:27:52.329Z"
   },
   {
    "duration": 7,
    "start_time": "2023-04-19T20:27:52.408Z"
   },
   {
    "duration": 8,
    "start_time": "2023-04-19T20:27:52.416Z"
   },
   {
    "duration": 15,
    "start_time": "2023-04-19T20:27:52.425Z"
   },
   {
    "duration": 32,
    "start_time": "2023-04-19T20:27:52.448Z"
   },
   {
    "duration": 9,
    "start_time": "2023-04-19T20:27:52.482Z"
   },
   {
    "duration": 9,
    "start_time": "2023-04-19T20:27:52.494Z"
   },
   {
    "duration": 10,
    "start_time": "2023-04-19T20:27:52.504Z"
   },
   {
    "duration": 7,
    "start_time": "2023-04-19T20:27:52.516Z"
   },
   {
    "duration": 25,
    "start_time": "2023-04-19T20:27:52.525Z"
   },
   {
    "duration": 31,
    "start_time": "2023-04-19T20:27:52.551Z"
   },
   {
    "duration": 4,
    "start_time": "2023-04-19T20:27:52.583Z"
   },
   {
    "duration": 11,
    "start_time": "2023-04-19T20:27:52.588Z"
   },
   {
    "duration": 21,
    "start_time": "2023-04-19T20:27:52.601Z"
   },
   {
    "duration": 5,
    "start_time": "2023-04-19T20:27:52.623Z"
   },
   {
    "duration": 47,
    "start_time": "2023-04-19T20:27:52.629Z"
   },
   {
    "duration": 6,
    "start_time": "2023-04-19T20:27:52.679Z"
   },
   {
    "duration": 5,
    "start_time": "2023-04-19T20:27:52.687Z"
   },
   {
    "duration": 8,
    "start_time": "2023-04-19T20:27:52.693Z"
   },
   {
    "duration": 26,
    "start_time": "2023-04-19T20:27:52.703Z"
   },
   {
    "duration": 166,
    "start_time": "2023-04-19T20:27:52.730Z"
   },
   {
    "duration": 245,
    "start_time": "2023-04-19T20:27:52.898Z"
   },
   {
    "duration": 16,
    "start_time": "2023-04-19T20:27:53.147Z"
   },
   {
    "duration": 26,
    "start_time": "2023-04-19T20:27:53.165Z"
   },
   {
    "duration": 13,
    "start_time": "2023-04-19T20:27:53.193Z"
   },
   {
    "duration": 353,
    "start_time": "2023-04-19T20:27:53.207Z"
   },
   {
    "duration": 157,
    "start_time": "2023-04-19T20:27:53.563Z"
   },
   {
    "duration": 27,
    "start_time": "2023-04-19T20:27:53.722Z"
   },
   {
    "duration": 37,
    "start_time": "2023-04-19T20:27:53.751Z"
   },
   {
    "duration": 9,
    "start_time": "2023-04-19T20:27:53.790Z"
   },
   {
    "duration": 8,
    "start_time": "2023-04-19T20:27:53.801Z"
   },
   {
    "duration": 106,
    "start_time": "2023-04-19T20:27:53.811Z"
   },
   {
    "duration": 132,
    "start_time": "2023-04-19T20:27:53.919Z"
   },
   {
    "duration": 2668,
    "start_time": "2023-04-19T20:27:54.055Z"
   },
   {
    "duration": 24,
    "start_time": "2023-04-19T20:27:56.725Z"
   },
   {
    "duration": 21,
    "start_time": "2023-04-19T20:27:56.752Z"
   },
   {
    "duration": 6359,
    "start_time": "2023-04-19T20:27:56.775Z"
   },
   {
    "duration": 148,
    "start_time": "2023-04-19T20:28:03.136Z"
   },
   {
    "duration": 12,
    "start_time": "2023-04-19T20:28:03.286Z"
   },
   {
    "duration": 19,
    "start_time": "2023-04-19T20:28:03.299Z"
   },
   {
    "duration": 125,
    "start_time": "2023-04-19T20:28:03.319Z"
   },
   {
    "duration": 125,
    "start_time": "2023-04-19T20:28:03.450Z"
   },
   {
    "duration": 8,
    "start_time": "2023-04-19T20:28:03.577Z"
   },
   {
    "duration": 719,
    "start_time": "2023-04-19T20:28:03.586Z"
   },
   {
    "duration": 7,
    "start_time": "2023-04-19T20:28:04.306Z"
   },
   {
    "duration": 811,
    "start_time": "2023-04-19T20:28:04.314Z"
   },
   {
    "duration": 29,
    "start_time": "2023-04-19T20:28:05.127Z"
   },
   {
    "duration": 37,
    "start_time": "2023-04-19T20:28:05.157Z"
   },
   {
    "duration": 378,
    "start_time": "2023-04-19T20:28:05.195Z"
   },
   {
    "duration": 11,
    "start_time": "2023-04-19T20:28:05.575Z"
   },
   {
    "duration": 7,
    "start_time": "2023-04-19T20:28:05.588Z"
   },
   {
    "duration": 25,
    "start_time": "2023-04-19T20:28:05.596Z"
   },
   {
    "duration": 19,
    "start_time": "2023-04-19T20:28:05.622Z"
   },
   {
    "duration": 289,
    "start_time": "2023-04-19T20:28:05.642Z"
   },
   {
    "duration": 24,
    "start_time": "2023-04-19T20:28:05.936Z"
   },
   {
    "duration": 31,
    "start_time": "2023-04-19T20:28:05.961Z"
   },
   {
    "duration": 225,
    "start_time": "2023-04-19T20:28:05.994Z"
   },
   {
    "duration": 48,
    "start_time": "2023-04-19T20:28:06.220Z"
   },
   {
    "duration": 21,
    "start_time": "2023-04-19T20:28:06.271Z"
   },
   {
    "duration": 20,
    "start_time": "2023-04-19T20:28:06.293Z"
   },
   {
    "duration": 381,
    "start_time": "2023-04-19T20:28:06.314Z"
   },
   {
    "duration": 5,
    "start_time": "2023-04-19T20:28:06.697Z"
   },
   {
    "duration": 41,
    "start_time": "2023-04-19T20:28:06.704Z"
   },
   {
    "duration": 41,
    "start_time": "2023-04-19T20:28:06.747Z"
   },
   {
    "duration": 17,
    "start_time": "2023-04-19T20:28:06.790Z"
   },
   {
    "duration": 11,
    "start_time": "2023-04-19T20:28:39.462Z"
   },
   {
    "duration": 6,
    "start_time": "2023-04-19T20:28:59.386Z"
   },
   {
    "duration": 12,
    "start_time": "2023-04-19T20:43:52.287Z"
   },
   {
    "duration": 359,
    "start_time": "2023-04-19T20:43:55.449Z"
   },
   {
    "duration": 12,
    "start_time": "2023-04-19T20:44:29.311Z"
   },
   {
    "duration": 6,
    "start_time": "2023-04-19T20:50:01.768Z"
   },
   {
    "duration": 398,
    "start_time": "2023-04-19T20:55:21.097Z"
   },
   {
    "duration": 291,
    "start_time": "2023-04-19T20:55:39.519Z"
   },
   {
    "duration": 2292,
    "start_time": "2023-04-19T21:34:05.557Z"
   },
   {
    "duration": 7,
    "start_time": "2023-04-19T21:34:24.442Z"
   },
   {
    "duration": 20,
    "start_time": "2023-04-19T21:41:11.601Z"
   },
   {
    "duration": 39,
    "start_time": "2023-04-19T21:41:23.135Z"
   },
   {
    "duration": 12,
    "start_time": "2023-04-19T21:41:33.273Z"
   },
   {
    "duration": 7,
    "start_time": "2023-04-19T21:41:52.395Z"
   },
   {
    "duration": 10,
    "start_time": "2023-04-19T21:41:57.997Z"
   },
   {
    "duration": 13,
    "start_time": "2023-04-19T21:42:14.514Z"
   },
   {
    "duration": 8,
    "start_time": "2023-04-19T21:43:12.222Z"
   },
   {
    "duration": 12,
    "start_time": "2023-04-19T21:43:13.050Z"
   },
   {
    "duration": 488,
    "start_time": "2023-04-19T21:44:55.031Z"
   },
   {
    "duration": 307,
    "start_time": "2023-04-19T21:45:20.173Z"
   },
   {
    "duration": 288,
    "start_time": "2023-04-19T21:45:47.646Z"
   },
   {
    "duration": 12,
    "start_time": "2023-04-19T22:08:12.825Z"
   },
   {
    "duration": 8,
    "start_time": "2023-04-19T22:08:37.297Z"
   },
   {
    "duration": 8,
    "start_time": "2023-04-19T22:08:44.173Z"
   },
   {
    "duration": 77,
    "start_time": "2023-04-20T06:51:15.412Z"
   },
   {
    "duration": 1668,
    "start_time": "2023-04-20T06:51:21.271Z"
   },
   {
    "duration": 1003,
    "start_time": "2023-04-20T06:51:22.941Z"
   },
   {
    "duration": 24,
    "start_time": "2023-04-20T06:51:23.954Z"
   },
   {
    "duration": 16,
    "start_time": "2023-04-20T06:51:23.980Z"
   },
   {
    "duration": 5,
    "start_time": "2023-04-20T06:51:23.999Z"
   },
   {
    "duration": 30,
    "start_time": "2023-04-20T06:51:24.005Z"
   },
   {
    "duration": 23,
    "start_time": "2023-04-20T06:51:24.045Z"
   },
   {
    "duration": 52,
    "start_time": "2023-04-20T06:51:24.071Z"
   },
   {
    "duration": 22,
    "start_time": "2023-04-20T06:51:24.124Z"
   },
   {
    "duration": 26,
    "start_time": "2023-04-20T06:51:24.148Z"
   },
   {
    "duration": 26,
    "start_time": "2023-04-20T06:51:24.176Z"
   },
   {
    "duration": 14,
    "start_time": "2023-04-20T06:51:24.204Z"
   },
   {
    "duration": 27,
    "start_time": "2023-04-20T06:51:24.220Z"
   },
   {
    "duration": 12,
    "start_time": "2023-04-20T06:51:24.251Z"
   },
   {
    "duration": 9,
    "start_time": "2023-04-20T06:51:24.264Z"
   },
   {
    "duration": 10,
    "start_time": "2023-04-20T06:51:24.313Z"
   },
   {
    "duration": 14,
    "start_time": "2023-04-20T06:51:24.324Z"
   },
   {
    "duration": 19,
    "start_time": "2023-04-20T06:51:24.340Z"
   },
   {
    "duration": 6,
    "start_time": "2023-04-20T06:51:24.361Z"
   },
   {
    "duration": 13,
    "start_time": "2023-04-20T06:51:24.370Z"
   },
   {
    "duration": 63,
    "start_time": "2023-04-20T06:51:24.385Z"
   },
   {
    "duration": 5,
    "start_time": "2023-04-20T06:51:24.450Z"
   },
   {
    "duration": 7,
    "start_time": "2023-04-20T06:51:24.457Z"
   },
   {
    "duration": 5,
    "start_time": "2023-04-20T06:51:24.467Z"
   },
   {
    "duration": 53,
    "start_time": "2023-04-20T06:51:24.474Z"
   },
   {
    "duration": 15,
    "start_time": "2023-04-20T06:51:24.547Z"
   },
   {
    "duration": 78,
    "start_time": "2023-04-20T06:51:24.565Z"
   },
   {
    "duration": 178,
    "start_time": "2023-04-20T06:51:24.649Z"
   },
   {
    "duration": 272,
    "start_time": "2023-04-20T06:51:24.828Z"
   },
   {
    "duration": 33,
    "start_time": "2023-04-20T06:51:25.102Z"
   },
   {
    "duration": 9,
    "start_time": "2023-04-20T06:51:25.146Z"
   },
   {
    "duration": 7,
    "start_time": "2023-04-20T06:51:25.157Z"
   },
   {
    "duration": 482,
    "start_time": "2023-04-20T06:51:25.166Z"
   },
   {
    "duration": 216,
    "start_time": "2023-04-20T06:51:25.651Z"
   },
   {
    "duration": 12,
    "start_time": "2023-04-20T06:51:25.870Z"
   },
   {
    "duration": 23,
    "start_time": "2023-04-20T06:51:25.884Z"
   },
   {
    "duration": 33,
    "start_time": "2023-04-20T06:51:25.911Z"
   },
   {
    "duration": 13,
    "start_time": "2023-04-20T06:51:25.955Z"
   },
   {
    "duration": 126,
    "start_time": "2023-04-20T06:51:25.970Z"
   },
   {
    "duration": 173,
    "start_time": "2023-04-20T06:51:26.099Z"
   },
   {
    "duration": 2729,
    "start_time": "2023-04-20T06:51:26.276Z"
   },
   {
    "duration": 26,
    "start_time": "2023-04-20T06:51:29.011Z"
   },
   {
    "duration": 9,
    "start_time": "2023-04-20T06:51:29.044Z"
   },
   {
    "duration": 12,
    "start_time": "2023-04-20T06:51:29.055Z"
   },
   {
    "duration": 6715,
    "start_time": "2023-04-20T06:51:29.069Z"
   },
   {
    "duration": 182,
    "start_time": "2023-04-20T06:51:35.786Z"
   },
   {
    "duration": 15,
    "start_time": "2023-04-20T06:51:35.970Z"
   },
   {
    "duration": 37,
    "start_time": "2023-04-20T06:51:35.987Z"
   },
   {
    "duration": 132,
    "start_time": "2023-04-20T06:51:36.026Z"
   },
   {
    "duration": 138,
    "start_time": "2023-04-20T06:51:36.161Z"
   },
   {
    "duration": 24,
    "start_time": "2023-04-20T06:51:36.300Z"
   },
   {
    "duration": 731,
    "start_time": "2023-04-20T06:51:36.326Z"
   },
   {
    "duration": 8,
    "start_time": "2023-04-20T06:51:37.059Z"
   },
   {
    "duration": 752,
    "start_time": "2023-04-20T06:51:37.069Z"
   },
   {
    "duration": 19,
    "start_time": "2023-04-20T06:51:37.829Z"
   },
   {
    "duration": 10,
    "start_time": "2023-04-20T06:51:37.850Z"
   },
   {
    "duration": 376,
    "start_time": "2023-04-20T06:51:37.862Z"
   },
   {
    "duration": 13,
    "start_time": "2023-04-20T06:51:38.241Z"
   },
   {
    "duration": 5,
    "start_time": "2023-04-20T06:51:38.256Z"
   },
   {
    "duration": 10,
    "start_time": "2023-04-20T06:51:38.263Z"
   },
   {
    "duration": 27,
    "start_time": "2023-04-20T06:51:38.275Z"
   },
   {
    "duration": 341,
    "start_time": "2023-04-20T06:51:38.304Z"
   },
   {
    "duration": 6,
    "start_time": "2023-04-20T06:51:38.647Z"
   },
   {
    "duration": 14,
    "start_time": "2023-04-20T06:51:38.654Z"
   },
   {
    "duration": 294,
    "start_time": "2023-04-20T06:51:38.669Z"
   },
   {
    "duration": 14,
    "start_time": "2023-04-20T06:51:38.965Z"
   },
   {
    "duration": 11,
    "start_time": "2023-04-20T06:51:38.981Z"
   },
   {
    "duration": 36,
    "start_time": "2023-04-20T06:51:38.994Z"
   },
   {
    "duration": 321,
    "start_time": "2023-04-20T06:51:39.033Z"
   },
   {
    "duration": 6,
    "start_time": "2023-04-20T06:51:39.356Z"
   },
   {
    "duration": 19,
    "start_time": "2023-04-20T06:51:39.364Z"
   },
   {
    "duration": 409,
    "start_time": "2023-04-20T06:51:39.384Z"
   },
   {
    "duration": 6,
    "start_time": "2023-04-20T06:51:39.794Z"
   },
   {
    "duration": 124,
    "start_time": "2023-04-20T06:53:51.167Z"
   },
   {
    "duration": 22,
    "start_time": "2023-04-20T06:54:03.853Z"
   },
   {
    "duration": 13,
    "start_time": "2023-04-20T06:54:18.375Z"
   },
   {
    "duration": 19,
    "start_time": "2023-04-20T06:54:27.303Z"
   },
   {
    "duration": 257,
    "start_time": "2023-04-20T06:55:42.335Z"
   },
   {
    "duration": 12,
    "start_time": "2023-04-20T06:56:41.229Z"
   },
   {
    "duration": 224,
    "start_time": "2023-04-20T06:56:51.048Z"
   },
   {
    "duration": 258,
    "start_time": "2023-04-20T06:57:18.545Z"
   },
   {
    "duration": 1571,
    "start_time": "2023-04-20T07:33:43.965Z"
   },
   {
    "duration": 1431,
    "start_time": "2023-04-20T07:33:45.541Z"
   },
   {
    "duration": 20,
    "start_time": "2023-04-20T07:33:46.976Z"
   },
   {
    "duration": 18,
    "start_time": "2023-04-20T07:33:46.998Z"
   },
   {
    "duration": 15,
    "start_time": "2023-04-20T07:33:47.021Z"
   },
   {
    "duration": 9,
    "start_time": "2023-04-20T07:33:47.038Z"
   },
   {
    "duration": 29,
    "start_time": "2023-04-20T07:33:47.049Z"
   },
   {
    "duration": 22,
    "start_time": "2023-04-20T07:33:47.080Z"
   },
   {
    "duration": 9,
    "start_time": "2023-04-20T07:33:47.104Z"
   },
   {
    "duration": 36,
    "start_time": "2023-04-20T07:33:47.119Z"
   },
   {
    "duration": 14,
    "start_time": "2023-04-20T07:33:47.165Z"
   },
   {
    "duration": 10,
    "start_time": "2023-04-20T07:33:47.181Z"
   },
   {
    "duration": 10,
    "start_time": "2023-04-20T07:33:47.192Z"
   },
   {
    "duration": 12,
    "start_time": "2023-04-20T07:33:47.205Z"
   },
   {
    "duration": 27,
    "start_time": "2023-04-20T07:33:47.219Z"
   },
   {
    "duration": 33,
    "start_time": "2023-04-20T07:33:47.249Z"
   },
   {
    "duration": 8,
    "start_time": "2023-04-20T07:33:47.284Z"
   },
   {
    "duration": 12,
    "start_time": "2023-04-20T07:33:47.294Z"
   },
   {
    "duration": 7,
    "start_time": "2023-04-20T07:33:47.308Z"
   },
   {
    "duration": 18,
    "start_time": "2023-04-20T07:33:47.321Z"
   },
   {
    "duration": 43,
    "start_time": "2023-04-20T07:33:47.348Z"
   },
   {
    "duration": 5,
    "start_time": "2023-04-20T07:33:47.393Z"
   },
   {
    "duration": 19,
    "start_time": "2023-04-20T07:33:47.400Z"
   },
   {
    "duration": 14,
    "start_time": "2023-04-20T07:33:47.422Z"
   },
   {
    "duration": 9,
    "start_time": "2023-04-20T07:33:47.438Z"
   },
   {
    "duration": 11,
    "start_time": "2023-04-20T07:33:47.451Z"
   },
   {
    "duration": 34,
    "start_time": "2023-04-20T07:33:47.464Z"
   },
   {
    "duration": 204,
    "start_time": "2023-04-20T07:33:47.500Z"
   },
   {
    "duration": 302,
    "start_time": "2023-04-20T07:33:47.707Z"
   },
   {
    "duration": 18,
    "start_time": "2023-04-20T07:33:48.011Z"
   },
   {
    "duration": 11,
    "start_time": "2023-04-20T07:33:48.031Z"
   },
   {
    "duration": 7,
    "start_time": "2023-04-20T07:33:48.044Z"
   },
   {
    "duration": 459,
    "start_time": "2023-04-20T07:33:48.053Z"
   },
   {
    "duration": 219,
    "start_time": "2023-04-20T07:33:48.514Z"
   },
   {
    "duration": 17,
    "start_time": "2023-04-20T07:33:48.735Z"
   },
   {
    "duration": 20,
    "start_time": "2023-04-20T07:33:48.760Z"
   },
   {
    "duration": 12,
    "start_time": "2023-04-20T07:33:48.783Z"
   },
   {
    "duration": 10,
    "start_time": "2023-04-20T07:33:48.812Z"
   },
   {
    "duration": 176,
    "start_time": "2023-04-20T07:33:48.824Z"
   },
   {
    "duration": 197,
    "start_time": "2023-04-20T07:33:49.002Z"
   },
   {
    "duration": 3210,
    "start_time": "2023-04-20T07:33:49.208Z"
   },
   {
    "duration": 27,
    "start_time": "2023-04-20T07:33:52.422Z"
   },
   {
    "duration": 22,
    "start_time": "2023-04-20T07:33:52.451Z"
   },
   {
    "duration": 18,
    "start_time": "2023-04-20T07:33:52.475Z"
   },
   {
    "duration": 8071,
    "start_time": "2023-04-20T07:33:52.495Z"
   },
   {
    "duration": 202,
    "start_time": "2023-04-20T07:34:00.569Z"
   },
   {
    "duration": 16,
    "start_time": "2023-04-20T07:34:00.774Z"
   },
   {
    "duration": 62,
    "start_time": "2023-04-20T07:34:00.792Z"
   },
   {
    "duration": 193,
    "start_time": "2023-04-20T07:34:00.861Z"
   },
   {
    "duration": 186,
    "start_time": "2023-04-20T07:34:01.061Z"
   },
   {
    "duration": 10,
    "start_time": "2023-04-20T07:34:01.249Z"
   },
   {
    "duration": 918,
    "start_time": "2023-04-20T07:34:01.261Z"
   },
   {
    "duration": 9,
    "start_time": "2023-04-20T07:34:02.181Z"
   },
   {
    "duration": 909,
    "start_time": "2023-04-20T07:34:02.192Z"
   },
   {
    "duration": 35,
    "start_time": "2023-04-20T07:34:03.112Z"
   },
   {
    "duration": 13,
    "start_time": "2023-04-20T07:34:03.152Z"
   },
   {
    "duration": 504,
    "start_time": "2023-04-20T07:34:03.167Z"
   },
   {
    "duration": 20,
    "start_time": "2023-04-20T07:34:03.677Z"
   },
   {
    "duration": 44,
    "start_time": "2023-04-20T07:34:03.699Z"
   },
   {
    "duration": 26,
    "start_time": "2023-04-20T07:34:03.752Z"
   },
   {
    "duration": 19,
    "start_time": "2023-04-20T07:34:03.780Z"
   },
   {
    "duration": 378,
    "start_time": "2023-04-20T07:34:03.802Z"
   },
   {
    "duration": 7,
    "start_time": "2023-04-20T07:34:04.182Z"
   },
   {
    "duration": 29,
    "start_time": "2023-04-20T07:34:04.190Z"
   },
   {
    "duration": 287,
    "start_time": "2023-04-20T07:34:04.222Z"
   },
   {
    "duration": 18,
    "start_time": "2023-04-20T07:34:04.511Z"
   },
   {
    "duration": 11,
    "start_time": "2023-04-20T07:34:04.534Z"
   },
   {
    "duration": 27,
    "start_time": "2023-04-20T07:34:04.547Z"
   },
   {
    "duration": 395,
    "start_time": "2023-04-20T07:34:04.578Z"
   },
   {
    "duration": 8,
    "start_time": "2023-04-20T07:34:04.976Z"
   },
   {
    "duration": 39,
    "start_time": "2023-04-20T07:34:04.986Z"
   },
   {
    "duration": 394,
    "start_time": "2023-04-20T07:34:05.028Z"
   },
   {
    "duration": 24,
    "start_time": "2023-04-20T07:34:05.424Z"
   },
   {
    "duration": 18,
    "start_time": "2023-04-20T07:34:05.451Z"
   },
   {
    "duration": 24,
    "start_time": "2023-04-20T07:34:05.473Z"
   },
   {
    "duration": 336,
    "start_time": "2023-04-20T07:34:05.499Z"
   },
   {
    "duration": 431,
    "start_time": "2023-04-20T07:34:05.838Z"
   },
   {
    "duration": 147,
    "start_time": "2023-04-20T07:35:21.492Z"
   },
   {
    "duration": 547,
    "start_time": "2023-04-20T07:35:39.106Z"
   },
   {
    "duration": 529,
    "start_time": "2023-04-20T07:35:52.499Z"
   },
   {
    "duration": 1296,
    "start_time": "2023-04-20T07:36:31.820Z"
   },
   {
    "duration": 1001,
    "start_time": "2023-04-20T07:39:12.749Z"
   },
   {
    "duration": 29,
    "start_time": "2023-04-20T07:40:57.002Z"
   },
   {
    "duration": 17,
    "start_time": "2023-04-20T07:41:29.246Z"
   },
   {
    "duration": 22,
    "start_time": "2023-04-20T07:41:34.082Z"
   },
   {
    "duration": 16,
    "start_time": "2023-04-20T07:42:19.853Z"
   },
   {
    "duration": 1328,
    "start_time": "2023-04-20T07:42:44.369Z"
   },
   {
    "duration": 934,
    "start_time": "2023-04-20T07:42:45.700Z"
   },
   {
    "duration": 23,
    "start_time": "2023-04-20T07:42:46.637Z"
   },
   {
    "duration": 16,
    "start_time": "2023-04-20T07:42:46.662Z"
   },
   {
    "duration": 15,
    "start_time": "2023-04-20T07:42:46.680Z"
   },
   {
    "duration": 20,
    "start_time": "2023-04-20T07:42:46.697Z"
   },
   {
    "duration": 43,
    "start_time": "2023-04-20T07:42:46.721Z"
   },
   {
    "duration": 20,
    "start_time": "2023-04-20T07:42:46.766Z"
   },
   {
    "duration": 13,
    "start_time": "2023-04-20T07:42:46.787Z"
   },
   {
    "duration": 40,
    "start_time": "2023-04-20T07:42:46.802Z"
   },
   {
    "duration": 13,
    "start_time": "2023-04-20T07:42:46.844Z"
   },
   {
    "duration": 11,
    "start_time": "2023-04-20T07:42:46.858Z"
   },
   {
    "duration": 15,
    "start_time": "2023-04-20T07:42:46.870Z"
   },
   {
    "duration": 10,
    "start_time": "2023-04-20T07:42:46.888Z"
   },
   {
    "duration": 9,
    "start_time": "2023-04-20T07:42:46.900Z"
   },
   {
    "duration": 30,
    "start_time": "2023-04-20T07:42:46.911Z"
   },
   {
    "duration": 15,
    "start_time": "2023-04-20T07:42:46.942Z"
   },
   {
    "duration": 17,
    "start_time": "2023-04-20T07:42:46.959Z"
   },
   {
    "duration": 15,
    "start_time": "2023-04-20T07:42:46.978Z"
   },
   {
    "duration": 10,
    "start_time": "2023-04-20T07:42:46.995Z"
   },
   {
    "duration": 40,
    "start_time": "2023-04-20T07:42:47.007Z"
   },
   {
    "duration": 10,
    "start_time": "2023-04-20T07:42:47.048Z"
   },
   {
    "duration": 9,
    "start_time": "2023-04-20T07:42:47.060Z"
   },
   {
    "duration": 10,
    "start_time": "2023-04-20T07:42:47.071Z"
   },
   {
    "duration": 6,
    "start_time": "2023-04-20T07:42:47.083Z"
   },
   {
    "duration": 16,
    "start_time": "2023-04-20T07:42:47.091Z"
   },
   {
    "duration": 15,
    "start_time": "2023-04-20T07:42:52.932Z"
   },
   {
    "duration": 139,
    "start_time": "2023-04-20T07:42:57.192Z"
   },
   {
    "duration": 989,
    "start_time": "2023-04-20T07:44:05.580Z"
   },
   {
    "duration": 1380,
    "start_time": "2023-04-20T07:44:31.188Z"
   },
   {
    "duration": 979,
    "start_time": "2023-04-20T07:44:32.570Z"
   },
   {
    "duration": 18,
    "start_time": "2023-04-20T07:44:33.552Z"
   },
   {
    "duration": 15,
    "start_time": "2023-04-20T07:44:33.572Z"
   },
   {
    "duration": 4,
    "start_time": "2023-04-20T07:44:33.590Z"
   },
   {
    "duration": 27,
    "start_time": "2023-04-20T07:44:33.596Z"
   },
   {
    "duration": 19,
    "start_time": "2023-04-20T07:44:33.632Z"
   },
   {
    "duration": 8,
    "start_time": "2023-04-20T07:44:33.653Z"
   },
   {
    "duration": 6,
    "start_time": "2023-04-20T07:44:33.663Z"
   },
   {
    "duration": 8,
    "start_time": "2023-04-20T07:44:33.670Z"
   },
   {
    "duration": 51,
    "start_time": "2023-04-20T07:44:33.680Z"
   },
   {
    "duration": 17,
    "start_time": "2023-04-20T07:44:33.732Z"
   },
   {
    "duration": 9,
    "start_time": "2023-04-20T07:44:33.751Z"
   },
   {
    "duration": 10,
    "start_time": "2023-04-20T07:44:33.764Z"
   },
   {
    "duration": 10,
    "start_time": "2023-04-20T07:44:33.776Z"
   },
   {
    "duration": 47,
    "start_time": "2023-04-20T07:44:33.788Z"
   },
   {
    "duration": 13,
    "start_time": "2023-04-20T07:44:33.836Z"
   },
   {
    "duration": 16,
    "start_time": "2023-04-20T07:44:33.851Z"
   },
   {
    "duration": 5,
    "start_time": "2023-04-20T07:44:33.869Z"
   },
   {
    "duration": 16,
    "start_time": "2023-04-20T07:44:33.876Z"
   },
   {
    "duration": 40,
    "start_time": "2023-04-20T07:44:33.894Z"
   },
   {
    "duration": 7,
    "start_time": "2023-04-20T07:44:33.943Z"
   },
   {
    "duration": 15,
    "start_time": "2023-04-20T07:44:33.952Z"
   },
   {
    "duration": 14,
    "start_time": "2023-04-20T07:44:33.969Z"
   },
   {
    "duration": 22,
    "start_time": "2023-04-20T07:44:33.985Z"
   },
   {
    "duration": 11,
    "start_time": "2023-04-20T07:44:34.009Z"
   },
   {
    "duration": 31,
    "start_time": "2023-04-20T07:44:37.548Z"
   },
   {
    "duration": 19,
    "start_time": "2023-04-20T07:47:53.487Z"
   },
   {
    "duration": 79,
    "start_time": "2023-04-20T07:47:58.909Z"
   },
   {
    "duration": 1392,
    "start_time": "2023-04-20T07:48:27.184Z"
   },
   {
    "duration": 1091,
    "start_time": "2023-04-20T07:48:28.579Z"
   },
   {
    "duration": 26,
    "start_time": "2023-04-20T07:48:29.673Z"
   },
   {
    "duration": 22,
    "start_time": "2023-04-20T07:48:29.702Z"
   },
   {
    "duration": 5,
    "start_time": "2023-04-20T07:48:29.728Z"
   },
   {
    "duration": 19,
    "start_time": "2023-04-20T07:48:29.736Z"
   },
   {
    "duration": 24,
    "start_time": "2023-04-20T07:48:29.758Z"
   },
   {
    "duration": 11,
    "start_time": "2023-04-20T07:48:29.784Z"
   },
   {
    "duration": 36,
    "start_time": "2023-04-20T07:48:29.797Z"
   },
   {
    "duration": 16,
    "start_time": "2023-04-20T07:48:29.838Z"
   },
   {
    "duration": 14,
    "start_time": "2023-04-20T07:48:29.857Z"
   },
   {
    "duration": 13,
    "start_time": "2023-04-20T07:48:29.874Z"
   },
   {
    "duration": 17,
    "start_time": "2023-04-20T07:48:29.890Z"
   },
   {
    "duration": 24,
    "start_time": "2023-04-20T07:48:29.915Z"
   },
   {
    "duration": 13,
    "start_time": "2023-04-20T07:48:29.944Z"
   },
   {
    "duration": 9,
    "start_time": "2023-04-20T07:48:29.959Z"
   },
   {
    "duration": 10,
    "start_time": "2023-04-20T07:48:29.971Z"
   },
   {
    "duration": 37,
    "start_time": "2023-04-20T07:48:29.984Z"
   },
   {
    "duration": 6,
    "start_time": "2023-04-20T07:48:30.023Z"
   },
   {
    "duration": 24,
    "start_time": "2023-04-20T07:48:30.030Z"
   },
   {
    "duration": 26,
    "start_time": "2023-04-20T07:48:30.057Z"
   },
   {
    "duration": 4,
    "start_time": "2023-04-20T07:48:30.086Z"
   },
   {
    "duration": 47,
    "start_time": "2023-04-20T07:48:30.092Z"
   },
   {
    "duration": 19,
    "start_time": "2023-04-20T07:48:30.146Z"
   },
   {
    "duration": 37,
    "start_time": "2023-04-20T07:48:30.167Z"
   },
   {
    "duration": 33,
    "start_time": "2023-04-20T07:48:30.206Z"
   },
   {
    "duration": 46,
    "start_time": "2023-04-20T07:48:34.381Z"
   },
   {
    "duration": 1358,
    "start_time": "2023-04-20T07:49:26.665Z"
   },
   {
    "duration": 1233,
    "start_time": "2023-04-20T07:49:28.030Z"
   },
   {
    "duration": 20,
    "start_time": "2023-04-20T07:49:29.265Z"
   },
   {
    "duration": 14,
    "start_time": "2023-04-20T07:49:29.287Z"
   },
   {
    "duration": 5,
    "start_time": "2023-04-20T07:49:29.303Z"
   },
   {
    "duration": 27,
    "start_time": "2023-04-20T07:49:29.310Z"
   },
   {
    "duration": 21,
    "start_time": "2023-04-20T07:49:29.347Z"
   },
   {
    "duration": 19,
    "start_time": "2023-04-20T07:49:29.370Z"
   },
   {
    "duration": 6,
    "start_time": "2023-04-20T07:49:29.391Z"
   },
   {
    "duration": 6,
    "start_time": "2023-04-20T07:49:29.399Z"
   },
   {
    "duration": 24,
    "start_time": "2023-04-20T07:49:29.406Z"
   },
   {
    "duration": 19,
    "start_time": "2023-04-20T07:49:29.432Z"
   },
   {
    "duration": 8,
    "start_time": "2023-04-20T07:49:29.453Z"
   },
   {
    "duration": 10,
    "start_time": "2023-04-20T07:49:29.464Z"
   },
   {
    "duration": 9,
    "start_time": "2023-04-20T07:49:29.475Z"
   },
   {
    "duration": 28,
    "start_time": "2023-04-20T07:49:29.486Z"
   },
   {
    "duration": 23,
    "start_time": "2023-04-20T07:49:29.519Z"
   },
   {
    "duration": 13,
    "start_time": "2023-04-20T07:49:29.544Z"
   },
   {
    "duration": 5,
    "start_time": "2023-04-20T07:49:29.558Z"
   },
   {
    "duration": 12,
    "start_time": "2023-04-20T07:49:29.565Z"
   },
   {
    "duration": 53,
    "start_time": "2023-04-20T07:49:29.579Z"
   },
   {
    "duration": 7,
    "start_time": "2023-04-20T07:49:29.634Z"
   },
   {
    "duration": 7,
    "start_time": "2023-04-20T07:49:29.644Z"
   },
   {
    "duration": 7,
    "start_time": "2023-04-20T07:49:29.654Z"
   },
   {
    "duration": 6,
    "start_time": "2023-04-20T07:49:29.664Z"
   },
   {
    "duration": 7,
    "start_time": "2023-04-20T07:49:29.673Z"
   },
   {
    "duration": 80,
    "start_time": "2023-04-20T07:49:29.682Z"
   },
   {
    "duration": 189,
    "start_time": "2023-04-20T07:49:29.764Z"
   },
   {
    "duration": 272,
    "start_time": "2023-04-20T07:49:29.954Z"
   },
   {
    "duration": 16,
    "start_time": "2023-04-20T07:49:30.232Z"
   },
   {
    "duration": 45,
    "start_time": "2023-04-20T07:49:30.250Z"
   },
   {
    "duration": 38,
    "start_time": "2023-04-20T07:49:30.297Z"
   },
   {
    "duration": 391,
    "start_time": "2023-04-20T07:49:30.338Z"
   },
   {
    "duration": 203,
    "start_time": "2023-04-20T07:49:30.731Z"
   },
   {
    "duration": 15,
    "start_time": "2023-04-20T07:49:30.940Z"
   },
   {
    "duration": 32,
    "start_time": "2023-04-20T07:49:30.957Z"
   },
   {
    "duration": 52,
    "start_time": "2023-04-20T07:49:30.991Z"
   },
   {
    "duration": 15,
    "start_time": "2023-04-20T07:49:31.045Z"
   },
   {
    "duration": 143,
    "start_time": "2023-04-20T07:49:31.062Z"
   },
   {
    "duration": 158,
    "start_time": "2023-04-20T07:49:31.207Z"
   },
   {
    "duration": 2695,
    "start_time": "2023-04-20T07:49:31.370Z"
   },
   {
    "duration": 9,
    "start_time": "2023-04-20T07:49:34.066Z"
   },
   {
    "duration": 6,
    "start_time": "2023-04-20T07:49:34.077Z"
   },
   {
    "duration": 38,
    "start_time": "2023-04-20T07:49:34.085Z"
   },
   {
    "duration": 7049,
    "start_time": "2023-04-20T07:49:34.124Z"
   },
   {
    "duration": 179,
    "start_time": "2023-04-20T07:49:41.175Z"
   },
   {
    "duration": 12,
    "start_time": "2023-04-20T07:49:41.356Z"
   },
   {
    "duration": 11,
    "start_time": "2023-04-20T07:49:41.370Z"
   },
   {
    "duration": 152,
    "start_time": "2023-04-20T07:49:41.383Z"
   },
   {
    "duration": 138,
    "start_time": "2023-04-20T07:49:41.538Z"
   },
   {
    "duration": 10,
    "start_time": "2023-04-20T07:49:41.678Z"
   },
   {
    "duration": 792,
    "start_time": "2023-04-20T07:49:41.690Z"
   },
   {
    "duration": 9,
    "start_time": "2023-04-20T07:49:42.484Z"
   },
   {
    "duration": 801,
    "start_time": "2023-04-20T07:49:42.494Z"
   },
   {
    "duration": 22,
    "start_time": "2023-04-20T07:49:43.297Z"
   },
   {
    "duration": 16,
    "start_time": "2023-04-20T07:49:43.323Z"
   },
   {
    "duration": 389,
    "start_time": "2023-04-20T07:49:43.340Z"
   },
   {
    "duration": 20,
    "start_time": "2023-04-20T07:49:43.731Z"
   },
   {
    "duration": 5,
    "start_time": "2023-04-20T07:49:43.753Z"
   },
   {
    "duration": 8,
    "start_time": "2023-04-20T07:49:43.760Z"
   },
   {
    "duration": 13,
    "start_time": "2023-04-20T07:49:43.769Z"
   },
   {
    "duration": 363,
    "start_time": "2023-04-20T07:49:43.784Z"
   },
   {
    "duration": 7,
    "start_time": "2023-04-20T07:49:44.149Z"
   },
   {
    "duration": 12,
    "start_time": "2023-04-20T07:49:44.158Z"
   },
   {
    "duration": 299,
    "start_time": "2023-04-20T07:49:44.172Z"
   },
   {
    "duration": 23,
    "start_time": "2023-04-20T07:49:44.474Z"
   },
   {
    "duration": 20,
    "start_time": "2023-04-20T07:49:44.514Z"
   },
   {
    "duration": 19,
    "start_time": "2023-04-20T07:49:44.537Z"
   },
   {
    "duration": 381,
    "start_time": "2023-04-20T07:49:44.558Z"
   },
   {
    "duration": 8,
    "start_time": "2023-04-20T07:49:44.941Z"
   },
   {
    "duration": 18,
    "start_time": "2023-04-20T07:49:44.951Z"
   },
   {
    "duration": 457,
    "start_time": "2023-04-20T07:49:44.971Z"
   },
   {
    "duration": 33,
    "start_time": "2023-04-20T07:49:45.431Z"
   },
   {
    "duration": 5,
    "start_time": "2023-04-20T07:49:45.466Z"
   },
   {
    "duration": 55,
    "start_time": "2023-04-20T07:49:45.472Z"
   },
   {
    "duration": 255,
    "start_time": "2023-04-20T07:49:45.529Z"
   },
   {
    "duration": 36,
    "start_time": "2023-04-20T07:49:45.786Z"
   },
   {
    "duration": 1845,
    "start_time": "2023-04-20T07:49:45.835Z"
   },
   {
    "duration": 1385,
    "start_time": "2023-04-20T07:50:47.462Z"
   },
   {
    "duration": 1037,
    "start_time": "2023-04-20T07:50:48.850Z"
   },
   {
    "duration": 21,
    "start_time": "2023-04-20T07:50:49.889Z"
   },
   {
    "duration": 22,
    "start_time": "2023-04-20T07:50:49.917Z"
   },
   {
    "duration": 9,
    "start_time": "2023-04-20T07:50:49.949Z"
   },
   {
    "duration": 4,
    "start_time": "2023-04-20T07:50:49.959Z"
   },
   {
    "duration": 14,
    "start_time": "2023-04-20T07:50:49.965Z"
   },
   {
    "duration": 9,
    "start_time": "2023-04-20T07:50:49.980Z"
   },
   {
    "duration": 24,
    "start_time": "2023-04-20T07:50:49.991Z"
   },
   {
    "duration": 22,
    "start_time": "2023-04-20T07:50:50.019Z"
   },
   {
    "duration": 18,
    "start_time": "2023-04-20T07:50:50.045Z"
   },
   {
    "duration": 19,
    "start_time": "2023-04-20T07:50:50.065Z"
   },
   {
    "duration": 40,
    "start_time": "2023-04-20T07:50:50.085Z"
   },
   {
    "duration": 20,
    "start_time": "2023-04-20T07:50:50.127Z"
   },
   {
    "duration": 9,
    "start_time": "2023-04-20T07:50:50.149Z"
   },
   {
    "duration": 8,
    "start_time": "2023-04-20T07:50:50.160Z"
   },
   {
    "duration": 35,
    "start_time": "2023-04-20T07:50:50.171Z"
   },
   {
    "duration": 43,
    "start_time": "2023-04-20T07:50:50.208Z"
   },
   {
    "duration": 5,
    "start_time": "2023-04-20T07:50:50.252Z"
   },
   {
    "duration": 12,
    "start_time": "2023-04-20T07:50:50.259Z"
   },
   {
    "duration": 23,
    "start_time": "2023-04-20T07:50:50.272Z"
   },
   {
    "duration": 4,
    "start_time": "2023-04-20T07:50:50.297Z"
   },
   {
    "duration": 16,
    "start_time": "2023-04-20T07:50:50.303Z"
   },
   {
    "duration": 20,
    "start_time": "2023-04-20T07:50:50.321Z"
   },
   {
    "duration": 17,
    "start_time": "2023-04-20T07:50:50.343Z"
   },
   {
    "duration": 6,
    "start_time": "2023-04-20T07:50:50.362Z"
   },
   {
    "duration": 41,
    "start_time": "2023-04-20T07:50:50.369Z"
   },
   {
    "duration": 161,
    "start_time": "2023-04-20T07:50:50.424Z"
   },
   {
    "duration": 277,
    "start_time": "2023-04-20T07:50:50.587Z"
   },
   {
    "duration": 13,
    "start_time": "2023-04-20T07:50:50.866Z"
   },
   {
    "duration": 12,
    "start_time": "2023-04-20T07:50:50.881Z"
   },
   {
    "duration": 11,
    "start_time": "2023-04-20T07:50:50.911Z"
   },
   {
    "duration": 375,
    "start_time": "2023-04-20T07:50:50.924Z"
   },
   {
    "duration": 195,
    "start_time": "2023-04-20T07:50:51.300Z"
   },
   {
    "duration": 30,
    "start_time": "2023-04-20T07:50:51.497Z"
   },
   {
    "duration": 28,
    "start_time": "2023-04-20T07:50:51.528Z"
   },
   {
    "duration": 41,
    "start_time": "2023-04-20T07:50:51.557Z"
   },
   {
    "duration": 31,
    "start_time": "2023-04-20T07:50:51.600Z"
   },
   {
    "duration": 182,
    "start_time": "2023-04-20T07:50:51.633Z"
   },
   {
    "duration": 143,
    "start_time": "2023-04-20T07:50:51.820Z"
   },
   {
    "duration": 2706,
    "start_time": "2023-04-20T07:50:51.964Z"
   },
   {
    "duration": 17,
    "start_time": "2023-04-20T07:50:54.671Z"
   },
   {
    "duration": 27,
    "start_time": "2023-04-20T07:50:54.690Z"
   },
   {
    "duration": 22,
    "start_time": "2023-04-20T07:50:54.724Z"
   },
   {
    "duration": 7411,
    "start_time": "2023-04-20T07:50:54.748Z"
   },
   {
    "duration": 174,
    "start_time": "2023-04-20T07:51:02.161Z"
   },
   {
    "duration": 18,
    "start_time": "2023-04-20T07:51:02.338Z"
   },
   {
    "duration": 39,
    "start_time": "2023-04-20T07:51:02.358Z"
   },
   {
    "duration": 162,
    "start_time": "2023-04-20T07:51:02.400Z"
   },
   {
    "duration": 164,
    "start_time": "2023-04-20T07:51:02.564Z"
   },
   {
    "duration": 19,
    "start_time": "2023-04-20T07:51:02.732Z"
   },
   {
    "duration": 844,
    "start_time": "2023-04-20T07:51:02.752Z"
   },
   {
    "duration": 38,
    "start_time": "2023-04-20T07:51:03.597Z"
   },
   {
    "duration": 786,
    "start_time": "2023-04-20T07:51:03.640Z"
   },
   {
    "duration": 18,
    "start_time": "2023-04-20T07:51:04.432Z"
   },
   {
    "duration": 15,
    "start_time": "2023-04-20T07:51:04.453Z"
   },
   {
    "duration": 416,
    "start_time": "2023-04-20T07:51:04.470Z"
   },
   {
    "duration": 32,
    "start_time": "2023-04-20T07:51:04.887Z"
   },
   {
    "duration": 9,
    "start_time": "2023-04-20T07:51:04.921Z"
   },
   {
    "duration": 15,
    "start_time": "2023-04-20T07:51:04.937Z"
   },
   {
    "duration": 19,
    "start_time": "2023-04-20T07:51:04.954Z"
   },
   {
    "duration": 375,
    "start_time": "2023-04-20T07:51:04.976Z"
   },
   {
    "duration": 6,
    "start_time": "2023-04-20T07:51:05.353Z"
   },
   {
    "duration": 17,
    "start_time": "2023-04-20T07:51:05.361Z"
   },
   {
    "duration": 300,
    "start_time": "2023-04-20T07:51:05.380Z"
   },
   {
    "duration": 14,
    "start_time": "2023-04-20T07:51:05.681Z"
   },
   {
    "duration": 33,
    "start_time": "2023-04-20T07:51:05.697Z"
   },
   {
    "duration": 24,
    "start_time": "2023-04-20T07:51:05.732Z"
   },
   {
    "duration": 314,
    "start_time": "2023-04-20T07:51:05.758Z"
   },
   {
    "duration": 6,
    "start_time": "2023-04-20T07:51:06.074Z"
   },
   {
    "duration": 44,
    "start_time": "2023-04-20T07:51:06.082Z"
   },
   {
    "duration": 409,
    "start_time": "2023-04-20T07:51:06.128Z"
   },
   {
    "duration": 21,
    "start_time": "2023-04-20T07:51:06.540Z"
   },
   {
    "duration": 19,
    "start_time": "2023-04-20T07:51:06.563Z"
   },
   {
    "duration": 23,
    "start_time": "2023-04-20T07:51:06.584Z"
   },
   {
    "duration": 277,
    "start_time": "2023-04-20T07:51:06.609Z"
   },
   {
    "duration": 54,
    "start_time": "2023-04-20T07:51:06.887Z"
   },
   {
    "duration": 1782,
    "start_time": "2023-04-20T07:51:06.943Z"
   },
   {
    "duration": 1458,
    "start_time": "2023-04-20T07:57:02.314Z"
   },
   {
    "duration": 1592,
    "start_time": "2023-04-20T07:57:33.340Z"
   },
   {
    "duration": 17,
    "start_time": "2023-04-20T08:00:34.421Z"
   },
   {
    "duration": 1722,
    "start_time": "2023-04-20T08:00:54.539Z"
   },
   {
    "duration": 146,
    "start_time": "2023-04-20T08:03:04.101Z"
   },
   {
    "duration": 18,
    "start_time": "2023-04-20T08:03:34.390Z"
   },
   {
    "duration": 18,
    "start_time": "2023-04-20T08:03:56.553Z"
   },
   {
    "duration": 1394,
    "start_time": "2023-04-20T08:04:10.701Z"
   },
   {
    "duration": 1224,
    "start_time": "2023-04-20T08:04:12.098Z"
   },
   {
    "duration": 28,
    "start_time": "2023-04-20T08:04:13.329Z"
   },
   {
    "duration": 108,
    "start_time": "2023-04-20T08:04:13.359Z"
   },
   {
    "duration": 5,
    "start_time": "2023-04-20T08:04:13.470Z"
   },
   {
    "duration": 5,
    "start_time": "2023-04-20T08:04:13.476Z"
   },
   {
    "duration": 21,
    "start_time": "2023-04-20T08:04:13.483Z"
   },
   {
    "duration": 20,
    "start_time": "2023-04-20T08:04:13.506Z"
   },
   {
    "duration": 18,
    "start_time": "2023-04-20T08:04:13.530Z"
   },
   {
    "duration": 5,
    "start_time": "2023-04-20T08:04:13.549Z"
   },
   {
    "duration": 12,
    "start_time": "2023-04-20T08:04:13.556Z"
   },
   {
    "duration": 10,
    "start_time": "2023-04-20T08:04:13.570Z"
   },
   {
    "duration": 9,
    "start_time": "2023-04-20T08:04:13.582Z"
   },
   {
    "duration": 16,
    "start_time": "2023-04-20T08:04:13.612Z"
   },
   {
    "duration": 13,
    "start_time": "2023-04-20T08:04:13.633Z"
   },
   {
    "duration": 18,
    "start_time": "2023-04-20T08:04:13.649Z"
   },
   {
    "duration": 30,
    "start_time": "2023-04-20T08:04:13.669Z"
   },
   {
    "duration": 34,
    "start_time": "2023-04-20T08:04:13.702Z"
   },
   {
    "duration": 8,
    "start_time": "2023-04-20T08:04:13.741Z"
   },
   {
    "duration": 13,
    "start_time": "2023-04-20T08:04:13.752Z"
   },
   {
    "duration": 25,
    "start_time": "2023-04-20T08:04:13.768Z"
   },
   {
    "duration": 28,
    "start_time": "2023-04-20T08:04:13.795Z"
   },
   {
    "duration": 18,
    "start_time": "2023-04-20T08:04:13.825Z"
   },
   {
    "duration": 14,
    "start_time": "2023-04-20T08:04:13.846Z"
   },
   {
    "duration": 11,
    "start_time": "2023-04-20T08:04:13.862Z"
   },
   {
    "duration": 7,
    "start_time": "2023-04-20T08:04:13.875Z"
   },
   {
    "duration": 46,
    "start_time": "2023-04-20T08:04:13.884Z"
   },
   {
    "duration": 218,
    "start_time": "2023-04-20T08:04:13.939Z"
   },
   {
    "duration": 293,
    "start_time": "2023-04-20T08:04:14.164Z"
   },
   {
    "duration": 15,
    "start_time": "2023-04-20T08:04:14.459Z"
   },
   {
    "duration": 12,
    "start_time": "2023-04-20T08:04:14.476Z"
   },
   {
    "duration": 28,
    "start_time": "2023-04-20T08:04:14.490Z"
   },
   {
    "duration": 396,
    "start_time": "2023-04-20T08:04:14.520Z"
   },
   {
    "duration": 179,
    "start_time": "2023-04-20T08:04:14.920Z"
   },
   {
    "duration": 19,
    "start_time": "2023-04-20T08:04:15.101Z"
   },
   {
    "duration": 20,
    "start_time": "2023-04-20T08:04:15.127Z"
   },
   {
    "duration": 11,
    "start_time": "2023-04-20T08:04:15.148Z"
   },
   {
    "duration": 8,
    "start_time": "2023-04-20T08:04:15.161Z"
   },
   {
    "duration": 189,
    "start_time": "2023-04-20T08:04:15.171Z"
   },
   {
    "duration": 144,
    "start_time": "2023-04-20T08:04:15.362Z"
   },
   {
    "duration": 2687,
    "start_time": "2023-04-20T08:04:15.519Z"
   },
   {
    "duration": 28,
    "start_time": "2023-04-20T08:04:18.207Z"
   },
   {
    "duration": 8,
    "start_time": "2023-04-20T08:04:18.241Z"
   },
   {
    "duration": 15,
    "start_time": "2023-04-20T08:04:18.250Z"
   },
   {
    "duration": 7200,
    "start_time": "2023-04-20T08:04:18.267Z"
   },
   {
    "duration": 184,
    "start_time": "2023-04-20T08:04:25.469Z"
   },
   {
    "duration": 13,
    "start_time": "2023-04-20T08:04:25.655Z"
   },
   {
    "duration": 16,
    "start_time": "2023-04-20T08:04:25.670Z"
   },
   {
    "duration": 151,
    "start_time": "2023-04-20T08:04:25.687Z"
   },
   {
    "duration": 141,
    "start_time": "2023-04-20T08:04:25.840Z"
   },
   {
    "duration": 9,
    "start_time": "2023-04-20T08:04:25.983Z"
   },
   {
    "duration": 812,
    "start_time": "2023-04-20T08:04:25.993Z"
   },
   {
    "duration": 22,
    "start_time": "2023-04-20T08:04:26.819Z"
   },
   {
    "duration": 782,
    "start_time": "2023-04-20T08:04:26.844Z"
   },
   {
    "duration": 16,
    "start_time": "2023-04-20T08:04:27.627Z"
   },
   {
    "duration": 11,
    "start_time": "2023-04-20T08:04:27.648Z"
   },
   {
    "duration": 390,
    "start_time": "2023-04-20T08:04:27.661Z"
   },
   {
    "duration": 14,
    "start_time": "2023-04-20T08:04:28.053Z"
   },
   {
    "duration": 6,
    "start_time": "2023-04-20T08:04:28.069Z"
   },
   {
    "duration": 9,
    "start_time": "2023-04-20T08:04:28.077Z"
   },
   {
    "duration": 19,
    "start_time": "2023-04-20T08:04:28.126Z"
   },
   {
    "duration": 292,
    "start_time": "2023-04-20T08:04:28.148Z"
   },
   {
    "duration": 7,
    "start_time": "2023-04-20T08:04:28.443Z"
   },
   {
    "duration": 33,
    "start_time": "2023-04-20T08:04:28.452Z"
   },
   {
    "duration": 299,
    "start_time": "2023-04-20T08:04:28.487Z"
   },
   {
    "duration": 14,
    "start_time": "2023-04-20T08:04:28.787Z"
   },
   {
    "duration": 24,
    "start_time": "2023-04-20T08:04:28.803Z"
   },
   {
    "duration": 18,
    "start_time": "2023-04-20T08:04:28.829Z"
   },
   {
    "duration": 402,
    "start_time": "2023-04-20T08:04:28.850Z"
   },
   {
    "duration": 9,
    "start_time": "2023-04-20T08:04:29.254Z"
   },
   {
    "duration": 14,
    "start_time": "2023-04-20T08:04:29.265Z"
   },
   {
    "duration": 459,
    "start_time": "2023-04-20T08:04:29.281Z"
   },
   {
    "duration": 25,
    "start_time": "2023-04-20T08:04:29.744Z"
   },
   {
    "duration": 8,
    "start_time": "2023-04-20T08:04:29.770Z"
   },
   {
    "duration": 15,
    "start_time": "2023-04-20T08:04:29.779Z"
   },
   {
    "duration": 294,
    "start_time": "2023-04-20T08:04:29.796Z"
   },
   {
    "duration": 45,
    "start_time": "2023-04-20T08:04:30.092Z"
   },
   {
    "duration": 5,
    "start_time": "2023-04-20T08:04:30.143Z"
   },
   {
    "duration": 1774,
    "start_time": "2023-04-20T08:04:30.150Z"
   },
   {
    "duration": 134,
    "start_time": "2023-04-20T08:04:31.931Z"
   },
   {
    "duration": 20,
    "start_time": "2023-04-20T08:04:47.232Z"
   },
   {
    "duration": 1684,
    "start_time": "2023-04-20T08:05:23.675Z"
   },
   {
    "duration": 1638,
    "start_time": "2023-04-20T08:06:04.567Z"
   },
   {
    "duration": 25,
    "start_time": "2023-04-20T08:31:06.565Z"
   },
   {
    "duration": 442,
    "start_time": "2023-04-20T08:31:39.966Z"
   },
   {
    "duration": 498,
    "start_time": "2023-04-20T08:31:49.493Z"
   },
   {
    "duration": 21,
    "start_time": "2023-04-20T08:32:12.761Z"
   },
   {
    "duration": 495,
    "start_time": "2023-04-20T08:32:20.374Z"
   },
   {
    "duration": 449,
    "start_time": "2023-04-20T08:32:51.172Z"
   },
   {
    "duration": 1601,
    "start_time": "2023-04-20T08:33:46.471Z"
   },
   {
    "duration": 1834,
    "start_time": "2023-04-20T08:33:54.353Z"
   },
   {
    "duration": 319,
    "start_time": "2023-04-20T08:34:40.848Z"
   },
   {
    "duration": 328,
    "start_time": "2023-04-20T08:35:05.456Z"
   },
   {
    "duration": 415,
    "start_time": "2023-04-20T08:35:54.046Z"
   },
   {
    "duration": 467,
    "start_time": "2023-04-20T08:36:13.568Z"
   },
   {
    "duration": 404,
    "start_time": "2023-04-20T08:39:35.541Z"
   },
   {
    "duration": 8,
    "start_time": "2023-04-20T08:48:54.537Z"
   },
   {
    "duration": 7,
    "start_time": "2023-04-20T08:49:09.474Z"
   },
   {
    "duration": 19,
    "start_time": "2023-04-20T08:49:59.563Z"
   },
   {
    "duration": 339,
    "start_time": "2023-04-20T08:50:56.604Z"
   },
   {
    "duration": 4,
    "start_time": "2023-04-20T09:52:58.586Z"
   },
   {
    "duration": 8,
    "start_time": "2023-04-20T09:54:05.861Z"
   },
   {
    "duration": 36,
    "start_time": "2023-04-20T09:54:09.534Z"
   },
   {
    "duration": 5,
    "start_time": "2023-04-20T09:59:04.035Z"
   },
   {
    "duration": 7,
    "start_time": "2023-04-20T09:59:37.940Z"
   },
   {
    "duration": 26,
    "start_time": "2023-04-20T09:59:43.636Z"
   },
   {
    "duration": 19,
    "start_time": "2023-04-20T10:12:36.106Z"
   },
   {
    "duration": 6,
    "start_time": "2023-04-20T10:15:19.836Z"
   },
   {
    "duration": 7,
    "start_time": "2023-04-20T10:15:20.972Z"
   },
   {
    "duration": 35,
    "start_time": "2023-04-20T10:15:27.032Z"
   },
   {
    "duration": 13,
    "start_time": "2023-04-20T10:15:44.731Z"
   },
   {
    "duration": 4,
    "start_time": "2023-04-20T10:30:08.879Z"
   },
   {
    "duration": 4,
    "start_time": "2023-04-20T10:30:43.972Z"
   },
   {
    "duration": 14,
    "start_time": "2023-04-20T10:30:56.307Z"
   },
   {
    "duration": 28,
    "start_time": "2023-04-20T10:30:59.827Z"
   },
   {
    "duration": 3,
    "start_time": "2023-04-20T10:36:04.298Z"
   },
   {
    "duration": 9,
    "start_time": "2023-04-20T10:36:04.936Z"
   },
   {
    "duration": 4,
    "start_time": "2023-04-20T10:38:34.483Z"
   },
   {
    "duration": 7,
    "start_time": "2023-04-20T10:38:37.638Z"
   },
   {
    "duration": 33,
    "start_time": "2023-04-20T10:38:38.387Z"
   },
   {
    "duration": 8,
    "start_time": "2023-04-20T10:48:40.611Z"
   },
   {
    "duration": 7,
    "start_time": "2023-04-20T10:48:42.790Z"
   },
   {
    "duration": 6,
    "start_time": "2023-04-20T10:49:06.053Z"
   },
   {
    "duration": 7,
    "start_time": "2023-04-20T10:49:33.765Z"
   },
   {
    "duration": 22,
    "start_time": "2023-04-20T10:49:58.341Z"
   },
   {
    "duration": 11,
    "start_time": "2023-04-20T10:50:08.487Z"
   },
   {
    "duration": 40,
    "start_time": "2023-04-20T10:50:36.754Z"
   },
   {
    "duration": 4,
    "start_time": "2023-04-20T10:51:21.464Z"
   },
   {
    "duration": 240,
    "start_time": "2023-04-20T10:51:23.049Z"
   },
   {
    "duration": 7,
    "start_time": "2023-04-20T10:51:39.249Z"
   },
   {
    "duration": 262,
    "start_time": "2023-04-20T10:51:39.942Z"
   },
   {
    "duration": 5,
    "start_time": "2023-04-20T10:51:52.530Z"
   },
   {
    "duration": 4,
    "start_time": "2023-04-20T10:52:49.263Z"
   },
   {
    "duration": 318,
    "start_time": "2023-04-20T10:52:50.148Z"
   },
   {
    "duration": 6,
    "start_time": "2023-04-20T10:53:10.838Z"
   },
   {
    "duration": 7,
    "start_time": "2023-04-20T10:53:11.800Z"
   },
   {
    "duration": 56,
    "start_time": "2023-04-20T10:53:17.500Z"
   },
   {
    "duration": 4,
    "start_time": "2023-04-20T10:53:41.359Z"
   },
   {
    "duration": 33,
    "start_time": "2023-04-20T10:54:09.027Z"
   },
   {
    "duration": 4,
    "start_time": "2023-04-20T10:54:41.775Z"
   },
   {
    "duration": 8,
    "start_time": "2023-04-20T10:54:43.855Z"
   },
   {
    "duration": 10,
    "start_time": "2023-04-20T10:54:51.946Z"
   },
   {
    "duration": 5,
    "start_time": "2023-04-20T10:56:26.573Z"
   },
   {
    "duration": 6,
    "start_time": "2023-04-20T10:56:27.486Z"
   },
   {
    "duration": 13,
    "start_time": "2023-04-20T10:56:28.332Z"
   },
   {
    "duration": 9,
    "start_time": "2023-04-20T10:57:11.754Z"
   },
   {
    "duration": 7,
    "start_time": "2023-04-20T10:57:17.546Z"
   },
   {
    "duration": 13,
    "start_time": "2023-04-20T10:58:41.152Z"
   },
   {
    "duration": 49,
    "start_time": "2023-04-20T10:58:49.388Z"
   },
   {
    "duration": 19,
    "start_time": "2023-04-20T10:58:55.848Z"
   },
   {
    "duration": 1411,
    "start_time": "2023-04-20T10:59:05.836Z"
   },
   {
    "duration": 1385,
    "start_time": "2023-04-20T10:59:07.250Z"
   },
   {
    "duration": 20,
    "start_time": "2023-04-20T10:59:08.636Z"
   },
   {
    "duration": 14,
    "start_time": "2023-04-20T10:59:08.658Z"
   },
   {
    "duration": 3,
    "start_time": "2023-04-20T10:59:08.675Z"
   },
   {
    "duration": 10,
    "start_time": "2023-04-20T10:59:08.680Z"
   },
   {
    "duration": 26,
    "start_time": "2023-04-20T10:59:08.713Z"
   },
   {
    "duration": 10,
    "start_time": "2023-04-20T10:59:08.741Z"
   },
   {
    "duration": 13,
    "start_time": "2023-04-20T10:59:08.753Z"
   },
   {
    "duration": 28,
    "start_time": "2023-04-20T10:59:13.509Z"
   },
   {
    "duration": 127,
    "start_time": "2023-04-20T11:00:16.166Z"
   },
   {
    "duration": 6,
    "start_time": "2023-04-20T11:00:28.392Z"
   },
   {
    "duration": 23,
    "start_time": "2023-04-20T11:00:39.357Z"
   },
   {
    "duration": 11,
    "start_time": "2023-04-20T11:00:45.597Z"
   },
   {
    "duration": 1433,
    "start_time": "2023-04-20T11:00:59.761Z"
   },
   {
    "duration": 1143,
    "start_time": "2023-04-20T11:01:01.197Z"
   },
   {
    "duration": 18,
    "start_time": "2023-04-20T11:01:02.344Z"
   },
   {
    "duration": 20,
    "start_time": "2023-04-20T11:01:02.364Z"
   },
   {
    "duration": 46,
    "start_time": "2023-04-20T11:01:02.386Z"
   },
   {
    "duration": 17,
    "start_time": "2023-04-20T11:01:02.436Z"
   },
   {
    "duration": 25,
    "start_time": "2023-04-20T11:01:02.455Z"
   },
   {
    "duration": 39,
    "start_time": "2023-04-20T11:01:02.482Z"
   },
   {
    "duration": 7,
    "start_time": "2023-04-20T11:01:02.529Z"
   },
   {
    "duration": 21,
    "start_time": "2023-04-20T11:01:02.540Z"
   },
   {
    "duration": 12,
    "start_time": "2023-04-20T11:01:02.563Z"
   },
   {
    "duration": 23,
    "start_time": "2023-04-20T11:01:02.577Z"
   },
   {
    "duration": 37,
    "start_time": "2023-04-20T11:01:02.602Z"
   },
   {
    "duration": 18,
    "start_time": "2023-04-20T11:01:02.642Z"
   },
   {
    "duration": 19,
    "start_time": "2023-04-20T11:01:02.662Z"
   },
   {
    "duration": 32,
    "start_time": "2023-04-20T11:01:02.683Z"
   },
   {
    "duration": 26,
    "start_time": "2023-04-20T11:01:02.719Z"
   },
   {
    "duration": 33,
    "start_time": "2023-04-20T11:01:02.747Z"
   },
   {
    "duration": 15,
    "start_time": "2023-04-20T11:01:02.782Z"
   },
   {
    "duration": 54,
    "start_time": "2023-04-20T11:01:02.799Z"
   },
   {
    "duration": 47,
    "start_time": "2023-04-20T11:01:02.855Z"
   },
   {
    "duration": 17,
    "start_time": "2023-04-20T11:01:02.905Z"
   },
   {
    "duration": 26,
    "start_time": "2023-04-20T11:01:02.926Z"
   },
   {
    "duration": 10,
    "start_time": "2023-04-20T11:01:02.954Z"
   },
   {
    "duration": 23,
    "start_time": "2023-04-20T11:01:02.966Z"
   },
   {
    "duration": 36,
    "start_time": "2023-04-20T11:01:02.992Z"
   },
   {
    "duration": 49,
    "start_time": "2023-04-20T11:01:03.036Z"
   },
   {
    "duration": 174,
    "start_time": "2023-04-20T11:01:03.087Z"
   },
   {
    "duration": 285,
    "start_time": "2023-04-20T11:01:03.263Z"
   },
   {
    "duration": 15,
    "start_time": "2023-04-20T11:01:03.551Z"
   },
   {
    "duration": 42,
    "start_time": "2023-04-20T11:01:03.568Z"
   },
   {
    "duration": 17,
    "start_time": "2023-04-20T11:01:03.614Z"
   },
   {
    "duration": 453,
    "start_time": "2023-04-20T11:01:03.639Z"
   },
   {
    "duration": 194,
    "start_time": "2023-04-20T11:01:04.094Z"
   },
   {
    "duration": 12,
    "start_time": "2023-04-20T11:01:04.290Z"
   },
   {
    "duration": 49,
    "start_time": "2023-04-20T11:01:04.304Z"
   },
   {
    "duration": 29,
    "start_time": "2023-04-20T11:01:04.354Z"
   },
   {
    "duration": 43,
    "start_time": "2023-04-20T11:01:04.385Z"
   },
   {
    "duration": 225,
    "start_time": "2023-04-20T11:01:04.430Z"
   },
   {
    "duration": 180,
    "start_time": "2023-04-20T11:01:04.657Z"
   },
   {
    "duration": 2728,
    "start_time": "2023-04-20T11:01:04.843Z"
   },
   {
    "duration": 13,
    "start_time": "2023-04-20T11:01:07.574Z"
   },
   {
    "duration": 40,
    "start_time": "2023-04-20T11:01:07.589Z"
   },
   {
    "duration": 15,
    "start_time": "2023-04-20T11:01:07.634Z"
   },
   {
    "duration": 7026,
    "start_time": "2023-04-20T11:01:07.651Z"
   },
   {
    "duration": 184,
    "start_time": "2023-04-20T11:01:14.680Z"
   },
   {
    "duration": 14,
    "start_time": "2023-04-20T11:01:14.866Z"
   },
   {
    "duration": 12,
    "start_time": "2023-04-20T11:01:14.881Z"
   },
   {
    "duration": 161,
    "start_time": "2023-04-20T11:01:14.895Z"
   },
   {
    "duration": 160,
    "start_time": "2023-04-20T11:01:15.058Z"
   },
   {
    "duration": 17,
    "start_time": "2023-04-20T11:01:15.223Z"
   },
   {
    "duration": 820,
    "start_time": "2023-04-20T11:01:15.248Z"
   },
   {
    "duration": 9,
    "start_time": "2023-04-20T11:01:16.070Z"
   },
   {
    "duration": 836,
    "start_time": "2023-04-20T11:01:16.081Z"
   },
   {
    "duration": 22,
    "start_time": "2023-04-20T11:01:16.925Z"
   },
   {
    "duration": 15,
    "start_time": "2023-04-20T11:01:16.952Z"
   },
   {
    "duration": 408,
    "start_time": "2023-04-20T11:01:16.969Z"
   },
   {
    "duration": 14,
    "start_time": "2023-04-20T11:01:17.379Z"
   },
   {
    "duration": 11,
    "start_time": "2023-04-20T11:01:17.415Z"
   },
   {
    "duration": 25,
    "start_time": "2023-04-20T11:01:17.430Z"
   },
   {
    "duration": 29,
    "start_time": "2023-04-20T11:01:17.457Z"
   },
   {
    "duration": 381,
    "start_time": "2023-04-20T11:01:17.488Z"
   },
   {
    "duration": 7,
    "start_time": "2023-04-20T11:01:17.871Z"
   },
   {
    "duration": 34,
    "start_time": "2023-04-20T11:01:17.880Z"
   },
   {
    "duration": 271,
    "start_time": "2023-04-20T11:01:17.916Z"
   },
   {
    "duration": 15,
    "start_time": "2023-04-20T11:01:18.189Z"
   },
   {
    "duration": 49,
    "start_time": "2023-04-20T11:01:18.205Z"
   },
   {
    "duration": 81,
    "start_time": "2023-04-20T11:01:18.256Z"
   },
   {
    "duration": 332,
    "start_time": "2023-04-20T11:01:18.338Z"
   },
   {
    "duration": 7,
    "start_time": "2023-04-20T11:01:18.673Z"
   },
   {
    "duration": 51,
    "start_time": "2023-04-20T11:01:18.683Z"
   },
   {
    "duration": 500,
    "start_time": "2023-04-20T11:01:18.746Z"
   },
   {
    "duration": 11,
    "start_time": "2023-04-20T11:01:19.249Z"
   },
   {
    "duration": 21,
    "start_time": "2023-04-20T11:01:19.262Z"
   },
   {
    "duration": 310,
    "start_time": "2023-04-20T11:01:19.285Z"
   },
   {
    "duration": 7,
    "start_time": "2023-04-20T11:01:19.597Z"
   },
   {
    "duration": 42,
    "start_time": "2023-04-20T11:01:19.606Z"
   },
   {
    "duration": 297,
    "start_time": "2023-04-20T11:01:19.650Z"
   },
   {
    "duration": 24,
    "start_time": "2023-04-20T11:01:19.952Z"
   },
   {
    "duration": 20,
    "start_time": "2023-04-20T11:01:19.978Z"
   },
   {
    "duration": 1660,
    "start_time": "2023-04-20T11:01:20.000Z"
   },
   {
    "duration": 423,
    "start_time": "2023-04-20T11:01:21.662Z"
   },
   {
    "duration": 3,
    "start_time": "2023-04-20T11:01:22.087Z"
   },
   {
    "duration": 26,
    "start_time": "2023-04-20T11:01:22.092Z"
   },
   {
    "duration": 28,
    "start_time": "2023-04-20T11:01:22.124Z"
   },
   {
    "duration": 31,
    "start_time": "2023-04-20T11:01:22.154Z"
   },
   {
    "duration": 5,
    "start_time": "2023-04-20T11:01:22.187Z"
   },
   {
    "duration": 25,
    "start_time": "2023-04-20T11:01:22.194Z"
   },
   {
    "duration": 24,
    "start_time": "2023-04-20T11:02:11.907Z"
   },
   {
    "duration": 10,
    "start_time": "2023-04-20T11:02:18.537Z"
   },
   {
    "duration": 18,
    "start_time": "2023-04-20T11:06:03.633Z"
   },
   {
    "duration": 8,
    "start_time": "2023-04-20T11:12:34.332Z"
   },
   {
    "duration": 6,
    "start_time": "2023-04-20T11:13:16.370Z"
   },
   {
    "duration": 32,
    "start_time": "2023-04-20T11:13:21.278Z"
   },
   {
    "duration": 5,
    "start_time": "2023-04-20T11:14:11.440Z"
   },
   {
    "duration": 6,
    "start_time": "2023-04-20T11:14:12.381Z"
   },
   {
    "duration": 32,
    "start_time": "2023-04-20T11:14:13.043Z"
   },
   {
    "duration": 1420,
    "start_time": "2023-04-20T11:40:59.342Z"
   },
   {
    "duration": 1244,
    "start_time": "2023-04-20T11:41:00.764Z"
   },
   {
    "duration": 33,
    "start_time": "2023-04-20T11:41:02.010Z"
   },
   {
    "duration": 34,
    "start_time": "2023-04-20T11:41:02.045Z"
   },
   {
    "duration": 21,
    "start_time": "2023-04-20T11:41:02.083Z"
   },
   {
    "duration": 25,
    "start_time": "2023-04-20T11:41:02.107Z"
   },
   {
    "duration": 20,
    "start_time": "2023-04-20T11:41:02.139Z"
   },
   {
    "duration": 30,
    "start_time": "2023-04-20T11:41:02.161Z"
   },
   {
    "duration": 42,
    "start_time": "2023-04-20T11:41:02.193Z"
   },
   {
    "duration": 17,
    "start_time": "2023-04-20T11:41:02.237Z"
   },
   {
    "duration": 12,
    "start_time": "2023-04-20T11:41:02.256Z"
   },
   {
    "duration": 14,
    "start_time": "2023-04-20T11:41:02.270Z"
   },
   {
    "duration": 44,
    "start_time": "2023-04-20T11:41:02.286Z"
   },
   {
    "duration": 14,
    "start_time": "2023-04-20T11:41:02.335Z"
   },
   {
    "duration": 21,
    "start_time": "2023-04-20T11:41:02.351Z"
   },
   {
    "duration": 14,
    "start_time": "2023-04-20T11:41:02.374Z"
   },
   {
    "duration": 39,
    "start_time": "2023-04-20T11:41:02.390Z"
   },
   {
    "duration": 22,
    "start_time": "2023-04-20T11:41:02.432Z"
   },
   {
    "duration": 20,
    "start_time": "2023-04-20T11:41:02.456Z"
   },
   {
    "duration": 17,
    "start_time": "2023-04-20T11:41:02.478Z"
   },
   {
    "duration": 52,
    "start_time": "2023-04-20T11:41:02.497Z"
   },
   {
    "duration": 4,
    "start_time": "2023-04-20T11:41:02.551Z"
   },
   {
    "duration": 30,
    "start_time": "2023-04-20T11:41:02.557Z"
   },
   {
    "duration": 34,
    "start_time": "2023-04-20T11:41:02.589Z"
   },
   {
    "duration": 15,
    "start_time": "2023-04-20T11:41:02.625Z"
   },
   {
    "duration": 23,
    "start_time": "2023-04-20T11:41:02.643Z"
   },
   {
    "duration": 39,
    "start_time": "2023-04-20T11:41:02.667Z"
   },
   {
    "duration": 177,
    "start_time": "2023-04-20T11:41:02.708Z"
   },
   {
    "duration": 283,
    "start_time": "2023-04-20T11:41:02.887Z"
   },
   {
    "duration": 13,
    "start_time": "2023-04-20T11:41:03.172Z"
   },
   {
    "duration": 30,
    "start_time": "2023-04-20T11:41:03.187Z"
   },
   {
    "duration": 27,
    "start_time": "2023-04-20T11:41:03.219Z"
   },
   {
    "duration": 416,
    "start_time": "2023-04-20T11:41:03.248Z"
   },
   {
    "duration": 202,
    "start_time": "2023-04-20T11:41:03.666Z"
   },
   {
    "duration": 13,
    "start_time": "2023-04-20T11:41:03.870Z"
   },
   {
    "duration": 37,
    "start_time": "2023-04-20T11:41:03.886Z"
   },
   {
    "duration": 14,
    "start_time": "2023-04-20T11:41:03.925Z"
   },
   {
    "duration": 14,
    "start_time": "2023-04-20T11:41:03.941Z"
   },
   {
    "duration": 133,
    "start_time": "2023-04-20T11:41:03.957Z"
   },
   {
    "duration": 174,
    "start_time": "2023-04-20T11:41:04.092Z"
   },
   {
    "duration": 2717,
    "start_time": "2023-04-20T11:41:04.271Z"
   },
   {
    "duration": 9,
    "start_time": "2023-04-20T11:41:06.990Z"
   },
   {
    "duration": 25,
    "start_time": "2023-04-20T11:41:07.014Z"
   },
   {
    "duration": 13,
    "start_time": "2023-04-20T11:41:07.041Z"
   },
   {
    "duration": 6919,
    "start_time": "2023-04-20T11:41:07.055Z"
   },
   {
    "duration": 173,
    "start_time": "2023-04-20T11:41:13.976Z"
   },
   {
    "duration": 12,
    "start_time": "2023-04-20T11:41:14.151Z"
   },
   {
    "duration": 11,
    "start_time": "2023-04-20T11:41:14.165Z"
   },
   {
    "duration": 168,
    "start_time": "2023-04-20T11:41:14.178Z"
   },
   {
    "duration": 140,
    "start_time": "2023-04-20T11:41:14.348Z"
   },
   {
    "duration": 10,
    "start_time": "2023-04-20T11:41:14.490Z"
   },
   {
    "duration": 829,
    "start_time": "2023-04-20T11:41:14.518Z"
   },
   {
    "duration": 9,
    "start_time": "2023-04-20T11:41:15.349Z"
   },
   {
    "duration": 766,
    "start_time": "2023-04-20T11:41:15.359Z"
   },
   {
    "duration": 16,
    "start_time": "2023-04-20T11:41:16.127Z"
   },
   {
    "duration": 15,
    "start_time": "2023-04-20T11:41:16.148Z"
   },
   {
    "duration": 389,
    "start_time": "2023-04-20T11:41:16.165Z"
   },
   {
    "duration": 15,
    "start_time": "2023-04-20T11:41:16.556Z"
   },
   {
    "duration": 5,
    "start_time": "2023-04-20T11:41:16.572Z"
   },
   {
    "duration": 31,
    "start_time": "2023-04-20T11:41:16.578Z"
   },
   {
    "duration": 32,
    "start_time": "2023-04-20T11:41:16.611Z"
   },
   {
    "duration": 301,
    "start_time": "2023-04-20T11:41:16.645Z"
   },
   {
    "duration": 8,
    "start_time": "2023-04-20T11:41:16.948Z"
   },
   {
    "duration": 19,
    "start_time": "2023-04-20T11:41:16.957Z"
   },
   {
    "duration": 321,
    "start_time": "2023-04-20T11:41:16.978Z"
   },
   {
    "duration": 37,
    "start_time": "2023-04-20T11:41:17.300Z"
   },
   {
    "duration": 27,
    "start_time": "2023-04-20T11:41:17.340Z"
   },
   {
    "duration": 18,
    "start_time": "2023-04-20T11:41:17.369Z"
   },
   {
    "duration": 345,
    "start_time": "2023-04-20T11:41:17.389Z"
   },
   {
    "duration": 7,
    "start_time": "2023-04-20T11:41:17.739Z"
   },
   {
    "duration": 24,
    "start_time": "2023-04-20T11:41:17.748Z"
   },
   {
    "duration": 427,
    "start_time": "2023-04-20T11:41:17.774Z"
   },
   {
    "duration": 19,
    "start_time": "2023-04-20T11:41:18.203Z"
   },
   {
    "duration": 15,
    "start_time": "2023-04-20T11:41:18.226Z"
   },
   {
    "duration": 245,
    "start_time": "2023-04-20T11:41:18.245Z"
   },
   {
    "duration": 6,
    "start_time": "2023-04-20T11:41:18.492Z"
   },
   {
    "duration": 19,
    "start_time": "2023-04-20T11:41:18.512Z"
   },
   {
    "duration": 256,
    "start_time": "2023-04-20T11:41:18.536Z"
   },
   {
    "duration": 43,
    "start_time": "2023-04-20T11:41:18.794Z"
   },
   {
    "duration": 8,
    "start_time": "2023-04-20T11:41:18.845Z"
   },
   {
    "duration": 1649,
    "start_time": "2023-04-20T11:41:18.856Z"
   },
   {
    "duration": 456,
    "start_time": "2023-04-20T11:41:20.507Z"
   },
   {
    "duration": 4,
    "start_time": "2023-04-20T11:41:20.965Z"
   },
   {
    "duration": 9,
    "start_time": "2023-04-20T11:41:20.970Z"
   },
   {
    "duration": 17,
    "start_time": "2023-04-20T11:41:20.982Z"
   },
   {
    "duration": 73,
    "start_time": "2023-04-20T11:41:21.001Z"
   },
   {
    "duration": 3,
    "start_time": "2023-04-20T11:41:21.076Z"
   },
   {
    "duration": 21,
    "start_time": "2023-04-20T11:41:21.080Z"
   },
   {
    "duration": 31,
    "start_time": "2023-04-20T11:41:21.103Z"
   },
   {
    "duration": 28,
    "start_time": "2023-04-20T11:41:21.136Z"
   },
   {
    "duration": 206,
    "start_time": "2023-04-20T11:41:21.165Z"
   },
   {
    "duration": 22,
    "start_time": "2023-04-20T11:42:05.577Z"
   },
   {
    "duration": 36,
    "start_time": "2023-04-20T11:43:06.549Z"
   },
   {
    "duration": 35,
    "start_time": "2023-04-20T11:43:20.438Z"
   },
   {
    "duration": 30,
    "start_time": "2023-04-20T11:44:10.706Z"
   },
   {
    "duration": 15,
    "start_time": "2023-04-20T11:45:38.640Z"
   },
   {
    "duration": 34,
    "start_time": "2023-04-20T11:51:52.244Z"
   },
   {
    "duration": 13,
    "start_time": "2023-04-20T11:52:07.597Z"
   },
   {
    "duration": 22,
    "start_time": "2023-04-20T11:52:18.438Z"
   },
   {
    "duration": 16,
    "start_time": "2023-04-20T11:52:35.592Z"
   },
   {
    "duration": 3,
    "start_time": "2023-04-20T11:53:45.538Z"
   },
   {
    "duration": 6,
    "start_time": "2023-04-20T13:57:54.842Z"
   },
   {
    "duration": 11,
    "start_time": "2023-04-20T14:17:14.449Z"
   },
   {
    "duration": 4,
    "start_time": "2023-04-20T14:17:51.830Z"
   },
   {
    "duration": 11,
    "start_time": "2023-04-20T14:17:59.024Z"
   },
   {
    "duration": 17,
    "start_time": "2023-04-20T14:18:07.552Z"
   },
   {
    "duration": 7,
    "start_time": "2023-04-20T14:18:36.429Z"
   },
   {
    "duration": 6,
    "start_time": "2023-04-20T14:19:36.417Z"
   },
   {
    "duration": 12,
    "start_time": "2023-04-20T14:19:45.987Z"
   },
   {
    "duration": 6,
    "start_time": "2023-04-20T14:20:22.752Z"
   },
   {
    "duration": 20,
    "start_time": "2023-04-20T14:24:30.486Z"
   },
   {
    "duration": 18,
    "start_time": "2023-04-20T14:24:39.652Z"
   },
   {
    "duration": 62,
    "start_time": "2023-04-20T14:34:49.101Z"
   },
   {
    "duration": 43,
    "start_time": "2023-04-20T14:37:16.410Z"
   },
   {
    "duration": 19,
    "start_time": "2023-04-20T14:38:25.176Z"
   },
   {
    "duration": 54,
    "start_time": "2023-04-20T14:39:20.944Z"
   },
   {
    "duration": 10,
    "start_time": "2023-04-20T14:39:32.674Z"
   },
   {
    "duration": 14,
    "start_time": "2023-04-20T14:39:52.965Z"
   },
   {
    "duration": 8,
    "start_time": "2023-04-20T14:40:17.744Z"
   },
   {
    "duration": 7,
    "start_time": "2023-04-20T14:40:28.749Z"
   },
   {
    "duration": 18,
    "start_time": "2023-04-20T14:41:01.717Z"
   },
   {
    "duration": 12,
    "start_time": "2023-04-20T14:41:30.326Z"
   },
   {
    "duration": 6,
    "start_time": "2023-04-20T15:01:55.246Z"
   },
   {
    "duration": 7,
    "start_time": "2023-04-20T15:04:54.241Z"
   },
   {
    "duration": 13,
    "start_time": "2023-04-20T15:07:03.371Z"
   },
   {
    "duration": 13,
    "start_time": "2023-04-20T15:10:33.345Z"
   },
   {
    "duration": 12,
    "start_time": "2023-04-20T15:10:38.750Z"
   },
   {
    "duration": 14,
    "start_time": "2023-04-20T15:10:44.668Z"
   },
   {
    "duration": 16,
    "start_time": "2023-04-20T15:10:57.315Z"
   },
   {
    "duration": 15,
    "start_time": "2023-04-20T15:13:00.338Z"
   },
   {
    "duration": 26,
    "start_time": "2023-04-20T15:16:22.621Z"
   },
   {
    "duration": 11,
    "start_time": "2023-04-20T15:17:00.560Z"
   },
   {
    "duration": 23,
    "start_time": "2023-04-20T15:17:42.679Z"
   },
   {
    "duration": 18,
    "start_time": "2023-04-20T15:18:00.553Z"
   },
   {
    "duration": 9,
    "start_time": "2023-04-20T15:18:33.571Z"
   },
   {
    "duration": 4,
    "start_time": "2023-04-20T15:18:40.169Z"
   },
   {
    "duration": 18,
    "start_time": "2023-04-20T15:18:42.973Z"
   },
   {
    "duration": 5,
    "start_time": "2023-04-20T15:19:01.832Z"
   },
   {
    "duration": 19,
    "start_time": "2023-04-20T15:37:56.296Z"
   },
   {
    "duration": 1593,
    "start_time": "2023-04-20T17:02:49.259Z"
   },
   {
    "duration": 1562,
    "start_time": "2023-04-20T17:03:02.604Z"
   },
   {
    "duration": 426,
    "start_time": "2023-04-20T17:03:15.777Z"
   },
   {
    "duration": 10,
    "start_time": "2023-04-20T17:10:18.281Z"
   },
   {
    "duration": 10,
    "start_time": "2023-04-20T17:22:56.421Z"
   },
   {
    "duration": 11,
    "start_time": "2023-04-20T17:23:24.864Z"
   },
   {
    "duration": 9,
    "start_time": "2023-04-20T17:23:44.413Z"
   },
   {
    "duration": 9,
    "start_time": "2023-04-20T17:25:54.428Z"
   },
   {
    "duration": 10,
    "start_time": "2023-04-20T17:26:44.711Z"
   },
   {
    "duration": 9,
    "start_time": "2023-04-20T17:33:04.461Z"
   },
   {
    "duration": 10,
    "start_time": "2023-04-20T17:33:55.080Z"
   },
   {
    "duration": 9,
    "start_time": "2023-04-20T17:34:50.287Z"
   },
   {
    "duration": 9,
    "start_time": "2023-04-20T17:35:26.048Z"
   },
   {
    "duration": 11,
    "start_time": "2023-04-20T17:35:49.718Z"
   },
   {
    "duration": 10,
    "start_time": "2023-04-20T17:36:07.055Z"
   },
   {
    "duration": 9,
    "start_time": "2023-04-20T17:36:12.299Z"
   },
   {
    "duration": 9,
    "start_time": "2023-04-20T17:36:34.019Z"
   },
   {
    "duration": 9,
    "start_time": "2023-04-20T17:36:51.567Z"
   },
   {
    "duration": 9,
    "start_time": "2023-04-20T17:37:19.724Z"
   },
   {
    "duration": 10,
    "start_time": "2023-04-20T17:37:40.332Z"
   },
   {
    "duration": 9,
    "start_time": "2023-04-20T17:37:47.175Z"
   },
   {
    "duration": 10,
    "start_time": "2023-04-20T17:37:52.761Z"
   },
   {
    "duration": 12,
    "start_time": "2023-04-20T17:38:18.879Z"
   },
   {
    "duration": 10,
    "start_time": "2023-04-20T17:38:45.383Z"
   },
   {
    "duration": 12,
    "start_time": "2023-04-20T17:39:11.895Z"
   },
   {
    "duration": 10,
    "start_time": "2023-04-20T17:39:22.889Z"
   },
   {
    "duration": 10,
    "start_time": "2023-04-20T17:39:36.178Z"
   },
   {
    "duration": 11,
    "start_time": "2023-04-20T17:40:12.940Z"
   },
   {
    "duration": 12,
    "start_time": "2023-04-20T17:40:37.324Z"
   },
   {
    "duration": 12,
    "start_time": "2023-04-20T17:42:20.374Z"
   },
   {
    "duration": 10,
    "start_time": "2023-04-20T17:42:35.468Z"
   },
   {
    "duration": 11,
    "start_time": "2023-04-20T17:42:51.868Z"
   },
   {
    "duration": 11,
    "start_time": "2023-04-20T17:43:22.677Z"
   },
   {
    "duration": 12,
    "start_time": "2023-04-20T17:52:01.051Z"
   },
   {
    "duration": 12,
    "start_time": "2023-04-20T17:52:47.453Z"
   },
   {
    "duration": 9,
    "start_time": "2023-04-20T17:53:03.266Z"
   },
   {
    "duration": 14,
    "start_time": "2023-04-20T17:53:50.162Z"
   },
   {
    "duration": 13,
    "start_time": "2023-04-20T17:54:19.050Z"
   },
   {
    "duration": 14,
    "start_time": "2023-04-20T17:55:00.414Z"
   },
   {
    "duration": 9,
    "start_time": "2023-04-20T17:55:34.756Z"
   },
   {
    "duration": 13,
    "start_time": "2023-04-20T17:59:44.944Z"
   },
   {
    "duration": 9,
    "start_time": "2023-04-20T18:03:19.212Z"
   },
   {
    "duration": 9,
    "start_time": "2023-04-20T18:04:48.074Z"
   },
   {
    "duration": 11,
    "start_time": "2023-04-20T18:04:54.944Z"
   },
   {
    "duration": 10,
    "start_time": "2023-04-20T18:05:11.312Z"
   },
   {
    "duration": 10,
    "start_time": "2023-04-20T18:05:20.122Z"
   },
   {
    "duration": 11,
    "start_time": "2023-04-20T18:05:36.341Z"
   },
   {
    "duration": 10,
    "start_time": "2023-04-20T18:05:50.296Z"
   },
   {
    "duration": 9,
    "start_time": "2023-04-20T18:06:19.324Z"
   },
   {
    "duration": 9,
    "start_time": "2023-04-20T18:06:40.416Z"
   },
   {
    "duration": 10,
    "start_time": "2023-04-20T18:06:59.787Z"
   },
   {
    "duration": 13,
    "start_time": "2023-04-20T18:07:19.040Z"
   },
   {
    "duration": 9,
    "start_time": "2023-04-20T18:07:24.329Z"
   },
   {
    "duration": 9,
    "start_time": "2023-04-20T18:07:33.730Z"
   },
   {
    "duration": 10,
    "start_time": "2023-04-20T18:08:39.329Z"
   },
   {
    "duration": 9,
    "start_time": "2023-04-20T18:08:47.221Z"
   },
   {
    "duration": 8,
    "start_time": "2023-04-20T18:08:56.917Z"
   },
   {
    "duration": 10,
    "start_time": "2023-04-20T18:09:22.117Z"
   },
   {
    "duration": 8,
    "start_time": "2023-04-20T18:10:27.356Z"
   },
   {
    "duration": 6155,
    "start_time": "2023-04-20T18:11:13.343Z"
   },
   {
    "duration": 10,
    "start_time": "2023-04-20T18:12:04.138Z"
   },
   {
    "duration": 9,
    "start_time": "2023-04-20T18:12:14.541Z"
   },
   {
    "duration": 9,
    "start_time": "2023-04-20T18:12:42.697Z"
   },
   {
    "duration": 10,
    "start_time": "2023-04-20T18:12:54.797Z"
   },
   {
    "duration": 8,
    "start_time": "2023-04-20T18:13:51.126Z"
   },
   {
    "duration": 33,
    "start_time": "2023-04-20T18:14:11.109Z"
   },
   {
    "duration": 8,
    "start_time": "2023-04-20T18:14:15.878Z"
   },
   {
    "duration": 10,
    "start_time": "2023-04-20T18:14:37.021Z"
   },
   {
    "duration": 9,
    "start_time": "2023-04-20T18:14:50.628Z"
   },
   {
    "duration": 9,
    "start_time": "2023-04-20T18:14:59.348Z"
   },
   {
    "duration": 8,
    "start_time": "2023-04-20T18:15:50.520Z"
   },
   {
    "duration": 9,
    "start_time": "2023-04-20T18:15:54.762Z"
   },
   {
    "duration": 10,
    "start_time": "2023-04-20T18:16:06.442Z"
   },
   {
    "duration": 10,
    "start_time": "2023-04-20T18:16:14.133Z"
   },
   {
    "duration": 9,
    "start_time": "2023-04-20T18:16:35.510Z"
   },
   {
    "duration": 10,
    "start_time": "2023-04-20T18:17:24.128Z"
   },
   {
    "duration": 10,
    "start_time": "2023-04-20T18:17:42.321Z"
   },
   {
    "duration": 11,
    "start_time": "2023-04-20T18:17:56.789Z"
   },
   {
    "duration": 25,
    "start_time": "2023-04-20T18:18:10.022Z"
   },
   {
    "duration": 9,
    "start_time": "2023-04-20T18:18:44.613Z"
   },
   {
    "duration": 10,
    "start_time": "2023-04-20T18:19:23.713Z"
   },
   {
    "duration": 25,
    "start_time": "2023-04-20T18:19:31.512Z"
   },
   {
    "duration": 24,
    "start_time": "2023-04-20T18:20:06.377Z"
   },
   {
    "duration": 16,
    "start_time": "2023-04-20T18:20:17.541Z"
   },
   {
    "duration": 26,
    "start_time": "2023-04-20T18:20:25.316Z"
   },
   {
    "duration": 14,
    "start_time": "2023-04-20T18:20:29.420Z"
   },
   {
    "duration": 26,
    "start_time": "2023-04-20T18:20:47.465Z"
   },
   {
    "duration": 9,
    "start_time": "2023-04-20T18:21:22.025Z"
   },
   {
    "duration": 8,
    "start_time": "2023-04-20T18:21:46.459Z"
   },
   {
    "duration": 9,
    "start_time": "2023-04-20T18:22:46.163Z"
   },
   {
    "duration": 9,
    "start_time": "2023-04-20T18:23:12.004Z"
   },
   {
    "duration": 9,
    "start_time": "2023-04-20T18:23:23.580Z"
   },
   {
    "duration": 8,
    "start_time": "2023-04-20T18:25:22.265Z"
   },
   {
    "duration": 9,
    "start_time": "2023-04-20T18:25:25.959Z"
   },
   {
    "duration": 9,
    "start_time": "2023-04-20T18:25:50.844Z"
   },
   {
    "duration": 9,
    "start_time": "2023-04-20T18:25:54.425Z"
   },
   {
    "duration": 10,
    "start_time": "2023-04-20T18:27:38.548Z"
   },
   {
    "duration": 10,
    "start_time": "2023-04-20T18:28:07.016Z"
   },
   {
    "duration": 12,
    "start_time": "2023-04-20T18:28:42.025Z"
   },
   {
    "duration": 11,
    "start_time": "2023-04-20T18:28:58.518Z"
   },
   {
    "duration": 10,
    "start_time": "2023-04-20T18:35:15.020Z"
   },
   {
    "duration": 13,
    "start_time": "2023-04-20T18:35:38.867Z"
   },
   {
    "duration": 9,
    "start_time": "2023-04-20T18:35:56.715Z"
   },
   {
    "duration": 11,
    "start_time": "2023-04-20T18:40:45.733Z"
   },
   {
    "duration": 10,
    "start_time": "2023-04-20T18:42:02.225Z"
   },
   {
    "duration": 11,
    "start_time": "2023-04-20T18:42:21.647Z"
   },
   {
    "duration": 69,
    "start_time": "2023-04-20T18:44:01.871Z"
   },
   {
    "duration": 42,
    "start_time": "2023-04-20T18:44:16.401Z"
   },
   {
    "duration": 10,
    "start_time": "2023-04-20T18:44:26.612Z"
   },
   {
    "duration": 11,
    "start_time": "2023-04-20T18:44:35.836Z"
   },
   {
    "duration": 11,
    "start_time": "2023-04-20T18:45:39.120Z"
   },
   {
    "duration": 740,
    "start_time": "2023-04-20T18:46:22.820Z"
   },
   {
    "duration": 8,
    "start_time": "2023-04-20T18:46:29.262Z"
   },
   {
    "duration": 12,
    "start_time": "2023-04-20T18:46:56.108Z"
   },
   {
    "duration": 12,
    "start_time": "2023-04-20T18:47:09.968Z"
   },
   {
    "duration": 11,
    "start_time": "2023-04-20T18:47:15.722Z"
   },
   {
    "duration": 11,
    "start_time": "2023-04-20T18:47:22.917Z"
   },
   {
    "duration": 12,
    "start_time": "2023-04-20T18:47:50.933Z"
   },
   {
    "duration": 9,
    "start_time": "2023-04-20T18:47:55.573Z"
   },
   {
    "duration": 10,
    "start_time": "2023-04-20T18:48:06.113Z"
   },
   {
    "duration": 12,
    "start_time": "2023-04-20T18:53:37.161Z"
   },
   {
    "duration": 13,
    "start_time": "2023-04-20T18:53:55.864Z"
   },
   {
    "duration": 14,
    "start_time": "2023-04-20T18:54:03.425Z"
   },
   {
    "duration": 13,
    "start_time": "2023-04-20T18:54:09.517Z"
   },
   {
    "duration": 12,
    "start_time": "2023-04-20T18:54:32.365Z"
   },
   {
    "duration": 10,
    "start_time": "2023-04-20T18:54:41.712Z"
   },
   {
    "duration": 50,
    "start_time": "2023-04-20T18:55:20.677Z"
   },
   {
    "duration": 10,
    "start_time": "2023-04-20T18:55:32.165Z"
   },
   {
    "duration": 11,
    "start_time": "2023-04-20T18:55:55.114Z"
   },
   {
    "duration": 14,
    "start_time": "2023-04-20T18:56:12.521Z"
   },
   {
    "duration": 13,
    "start_time": "2023-04-20T18:56:34.621Z"
   },
   {
    "duration": 11,
    "start_time": "2023-04-20T18:56:45.012Z"
   },
   {
    "duration": 16,
    "start_time": "2023-04-20T18:57:15.878Z"
   },
   {
    "duration": 10,
    "start_time": "2023-04-20T18:57:52.555Z"
   },
   {
    "duration": 10,
    "start_time": "2023-04-20T18:58:06.452Z"
   },
   {
    "duration": 13,
    "start_time": "2023-04-20T18:58:31.271Z"
   },
   {
    "duration": 13,
    "start_time": "2023-04-20T18:58:46.343Z"
   },
   {
    "duration": 13,
    "start_time": "2023-04-20T18:59:07.284Z"
   },
   {
    "duration": 11,
    "start_time": "2023-04-20T18:59:36.983Z"
   },
   {
    "duration": 11,
    "start_time": "2023-04-20T18:59:45.320Z"
   },
   {
    "duration": 13,
    "start_time": "2023-04-20T19:00:38.206Z"
   },
   {
    "duration": 14,
    "start_time": "2023-04-20T19:01:52.924Z"
   },
   {
    "duration": 13,
    "start_time": "2023-04-20T19:01:59.159Z"
   },
   {
    "duration": 11,
    "start_time": "2023-04-20T19:02:18.227Z"
   },
   {
    "duration": 14,
    "start_time": "2023-04-20T19:03:09.041Z"
   },
   {
    "duration": 11,
    "start_time": "2023-04-20T19:04:59.040Z"
   },
   {
    "duration": 13,
    "start_time": "2023-04-20T19:05:40.051Z"
   },
   {
    "duration": 11,
    "start_time": "2023-04-20T19:12:19.461Z"
   },
   {
    "duration": 13,
    "start_time": "2023-04-20T19:12:33.944Z"
   },
   {
    "duration": 12,
    "start_time": "2023-04-20T19:13:29.429Z"
   },
   {
    "duration": 12,
    "start_time": "2023-04-20T19:14:02.570Z"
   },
   {
    "duration": 10,
    "start_time": "2023-04-20T19:14:15.647Z"
   },
   {
    "duration": 10,
    "start_time": "2023-04-20T19:14:20.841Z"
   },
   {
    "duration": 10,
    "start_time": "2023-04-20T19:14:37.178Z"
   },
   {
    "duration": 11,
    "start_time": "2023-04-20T19:14:46.059Z"
   },
   {
    "duration": 9,
    "start_time": "2023-04-20T19:14:58.924Z"
   },
   {
    "duration": 11,
    "start_time": "2023-04-20T19:15:33.130Z"
   },
   {
    "duration": 10,
    "start_time": "2023-04-20T19:16:02.725Z"
   },
   {
    "duration": 11,
    "start_time": "2023-04-20T19:16:37.912Z"
   },
   {
    "duration": 11,
    "start_time": "2023-04-20T19:16:47.115Z"
   },
   {
    "duration": 13,
    "start_time": "2023-04-20T19:16:52.871Z"
   },
   {
    "duration": 12,
    "start_time": "2023-04-20T19:23:51.118Z"
   },
   {
    "duration": 1376,
    "start_time": "2023-04-20T19:38:51.701Z"
   },
   {
    "duration": 970,
    "start_time": "2023-04-20T19:38:53.079Z"
   },
   {
    "duration": 18,
    "start_time": "2023-04-20T19:38:54.051Z"
   },
   {
    "duration": 22,
    "start_time": "2023-04-20T19:38:54.070Z"
   },
   {
    "duration": 76,
    "start_time": "2023-04-20T19:38:54.095Z"
   },
   {
    "duration": 56,
    "start_time": "2023-04-20T19:38:54.174Z"
   },
   {
    "duration": 32,
    "start_time": "2023-04-20T19:38:54.233Z"
   },
   {
    "duration": 22,
    "start_time": "2023-04-20T19:38:54.267Z"
   },
   {
    "duration": 16,
    "start_time": "2023-04-20T19:38:54.291Z"
   },
   {
    "duration": 59,
    "start_time": "2023-04-20T19:38:54.309Z"
   },
   {
    "duration": 40,
    "start_time": "2023-04-20T19:38:54.371Z"
   },
   {
    "duration": 13,
    "start_time": "2023-04-20T19:38:54.413Z"
   },
   {
    "duration": 30,
    "start_time": "2023-04-20T19:38:54.429Z"
   },
   {
    "duration": 18,
    "start_time": "2023-04-20T19:38:54.464Z"
   },
   {
    "duration": 21,
    "start_time": "2023-04-20T19:38:54.484Z"
   },
   {
    "duration": 9,
    "start_time": "2023-04-20T19:38:54.507Z"
   },
   {
    "duration": 26,
    "start_time": "2023-04-20T19:38:54.518Z"
   },
   {
    "duration": 20,
    "start_time": "2023-04-20T19:38:54.547Z"
   },
   {
    "duration": 7,
    "start_time": "2023-04-20T19:38:54.569Z"
   },
   {
    "duration": 21,
    "start_time": "2023-04-20T19:38:54.578Z"
   },
   {
    "duration": 43,
    "start_time": "2023-04-20T19:38:54.600Z"
   },
   {
    "duration": 4,
    "start_time": "2023-04-20T19:38:54.645Z"
   },
   {
    "duration": 21,
    "start_time": "2023-04-20T19:38:54.652Z"
   },
   {
    "duration": 11,
    "start_time": "2023-04-20T19:38:54.675Z"
   },
   {
    "duration": 6,
    "start_time": "2023-04-20T19:38:54.688Z"
   },
   {
    "duration": 6,
    "start_time": "2023-04-20T19:38:54.695Z"
   },
   {
    "duration": 46,
    "start_time": "2023-04-20T19:38:54.703Z"
   },
   {
    "duration": 177,
    "start_time": "2023-04-20T19:38:54.751Z"
   },
   {
    "duration": 244,
    "start_time": "2023-04-20T19:38:54.930Z"
   },
   {
    "duration": 9,
    "start_time": "2023-04-20T19:38:55.176Z"
   },
   {
    "duration": 10,
    "start_time": "2023-04-20T19:38:55.186Z"
   },
   {
    "duration": 8,
    "start_time": "2023-04-20T19:38:55.212Z"
   },
   {
    "duration": 357,
    "start_time": "2023-04-20T19:38:55.222Z"
   },
   {
    "duration": 178,
    "start_time": "2023-04-20T19:38:55.581Z"
   },
   {
    "duration": 11,
    "start_time": "2023-04-20T19:38:55.761Z"
   },
   {
    "duration": 11,
    "start_time": "2023-04-20T19:38:55.774Z"
   },
   {
    "duration": 12,
    "start_time": "2023-04-20T19:38:55.811Z"
   },
   {
    "duration": 8,
    "start_time": "2023-04-20T19:38:55.825Z"
   },
   {
    "duration": 150,
    "start_time": "2023-04-20T19:38:55.834Z"
   },
   {
    "duration": 139,
    "start_time": "2023-04-20T19:38:55.986Z"
   },
   {
    "duration": 2469,
    "start_time": "2023-04-20T19:38:56.132Z"
   },
   {
    "duration": 14,
    "start_time": "2023-04-20T19:38:58.603Z"
   },
   {
    "duration": 7,
    "start_time": "2023-04-20T19:38:58.618Z"
   },
   {
    "duration": 10,
    "start_time": "2023-04-20T19:38:58.627Z"
   },
   {
    "duration": 6704,
    "start_time": "2023-04-20T19:38:58.639Z"
   },
   {
    "duration": 192,
    "start_time": "2023-04-20T19:39:05.345Z"
   },
   {
    "duration": 11,
    "start_time": "2023-04-20T19:39:05.539Z"
   },
   {
    "duration": 13,
    "start_time": "2023-04-20T19:39:05.552Z"
   },
   {
    "duration": 150,
    "start_time": "2023-04-20T19:39:05.567Z"
   },
   {
    "duration": 133,
    "start_time": "2023-04-20T19:39:05.719Z"
   },
   {
    "duration": 10,
    "start_time": "2023-04-20T19:39:05.854Z"
   },
   {
    "duration": 751,
    "start_time": "2023-04-20T19:39:05.865Z"
   },
   {
    "duration": 7,
    "start_time": "2023-04-20T19:39:06.618Z"
   },
   {
    "duration": 672,
    "start_time": "2023-04-20T19:39:06.627Z"
   },
   {
    "duration": 18,
    "start_time": "2023-04-20T19:39:07.301Z"
   },
   {
    "duration": 12,
    "start_time": "2023-04-20T19:39:07.320Z"
   },
   {
    "duration": 359,
    "start_time": "2023-04-20T19:39:07.333Z"
   },
   {
    "duration": 20,
    "start_time": "2023-04-20T19:39:07.693Z"
   },
   {
    "duration": 5,
    "start_time": "2023-04-20T19:39:07.715Z"
   },
   {
    "duration": 10,
    "start_time": "2023-04-20T19:39:07.722Z"
   },
   {
    "duration": 19,
    "start_time": "2023-04-20T19:39:07.734Z"
   },
   {
    "duration": 363,
    "start_time": "2023-04-20T19:39:07.755Z"
   },
   {
    "duration": 7,
    "start_time": "2023-04-20T19:39:08.120Z"
   },
   {
    "duration": 14,
    "start_time": "2023-04-20T19:39:08.128Z"
   },
   {
    "duration": 239,
    "start_time": "2023-04-20T19:39:08.144Z"
   },
   {
    "duration": 27,
    "start_time": "2023-04-20T19:39:08.385Z"
   },
   {
    "duration": 11,
    "start_time": "2023-04-20T19:39:08.414Z"
   },
   {
    "duration": 21,
    "start_time": "2023-04-20T19:39:08.426Z"
   },
   {
    "duration": 301,
    "start_time": "2023-04-20T19:39:08.450Z"
   },
   {
    "duration": 6,
    "start_time": "2023-04-20T19:39:08.753Z"
   },
   {
    "duration": 13,
    "start_time": "2023-04-20T19:39:08.760Z"
   },
   {
    "duration": 492,
    "start_time": "2023-04-20T19:39:08.775Z"
   },
   {
    "duration": 7,
    "start_time": "2023-04-20T19:39:09.272Z"
   },
   {
    "duration": 12,
    "start_time": "2023-04-20T19:39:09.281Z"
   },
   {
    "duration": 269,
    "start_time": "2023-04-20T19:39:09.296Z"
   },
   {
    "duration": 7,
    "start_time": "2023-04-20T19:39:09.567Z"
   },
   {
    "duration": 12,
    "start_time": "2023-04-20T19:39:09.575Z"
   },
   {
    "duration": 288,
    "start_time": "2023-04-20T19:39:09.614Z"
   },
   {
    "duration": 19,
    "start_time": "2023-04-20T19:39:09.912Z"
   },
   {
    "duration": 4,
    "start_time": "2023-04-20T19:39:09.933Z"
   },
   {
    "duration": 1477,
    "start_time": "2023-04-20T19:39:09.939Z"
   },
   {
    "duration": 409,
    "start_time": "2023-04-20T19:39:11.418Z"
   },
   {
    "duration": 10,
    "start_time": "2023-04-20T19:39:11.829Z"
   },
   {
    "duration": 7,
    "start_time": "2023-04-20T19:39:11.841Z"
   },
   {
    "duration": 6,
    "start_time": "2023-04-20T19:39:11.850Z"
   },
   {
    "duration": 25,
    "start_time": "2023-04-20T19:39:11.857Z"
   },
   {
    "duration": 28,
    "start_time": "2023-04-20T19:39:11.884Z"
   },
   {
    "duration": 6,
    "start_time": "2023-04-20T19:39:11.914Z"
   },
   {
    "duration": 4,
    "start_time": "2023-04-20T19:39:11.922Z"
   },
   {
    "duration": 9,
    "start_time": "2023-04-20T19:39:11.928Z"
   },
   {
    "duration": 4,
    "start_time": "2023-04-20T19:39:11.938Z"
   },
   {
    "duration": 11,
    "start_time": "2023-04-20T19:39:11.944Z"
   },
   {
    "duration": 27,
    "start_time": "2023-04-20T19:39:11.958Z"
   },
   {
    "duration": 37,
    "start_time": "2023-04-20T19:39:11.987Z"
   },
   {
    "duration": 19,
    "start_time": "2023-04-20T19:39:12.026Z"
   },
   {
    "duration": 12,
    "start_time": "2023-04-20T19:39:12.047Z"
   },
   {
    "duration": 5,
    "start_time": "2023-04-20T19:39:12.061Z"
   },
   {
    "duration": 7,
    "start_time": "2023-04-20T19:39:12.068Z"
   },
   {
    "duration": 19,
    "start_time": "2023-04-20T19:39:12.112Z"
   },
   {
    "duration": 20,
    "start_time": "2023-04-20T19:39:12.133Z"
   },
   {
    "duration": 12,
    "start_time": "2023-04-20T19:39:12.155Z"
   },
   {
    "duration": 50,
    "start_time": "2023-04-20T19:39:12.169Z"
   },
   {
    "duration": 13,
    "start_time": "2023-04-20T19:39:12.221Z"
   },
   {
    "duration": 16,
    "start_time": "2023-04-20T19:39:12.236Z"
   },
   {
    "duration": 14,
    "start_time": "2023-04-20T19:39:12.254Z"
   },
   {
    "duration": 5,
    "start_time": "2023-04-20T19:48:28.584Z"
   },
   {
    "duration": 7,
    "start_time": "2023-04-20T19:48:33.203Z"
   },
   {
    "duration": 5,
    "start_time": "2023-04-20T19:48:50.128Z"
   },
   {
    "duration": 4,
    "start_time": "2023-04-20T19:52:11.418Z"
   },
   {
    "duration": 16,
    "start_time": "2023-04-20T19:52:19.879Z"
   },
   {
    "duration": 6,
    "start_time": "2023-04-20T20:34:00.879Z"
   },
   {
    "duration": 1276,
    "start_time": "2023-04-20T21:36:53.981Z"
   },
   {
    "duration": 1925,
    "start_time": "2023-04-20T21:36:55.260Z"
   },
   {
    "duration": 17,
    "start_time": "2023-04-20T21:36:57.187Z"
   },
   {
    "duration": 13,
    "start_time": "2023-04-20T21:36:57.207Z"
   },
   {
    "duration": 4,
    "start_time": "2023-04-20T21:36:57.223Z"
   },
   {
    "duration": 4,
    "start_time": "2023-04-20T21:36:57.229Z"
   },
   {
    "duration": 15,
    "start_time": "2023-04-20T21:36:57.234Z"
   },
   {
    "duration": 8,
    "start_time": "2023-04-20T21:36:57.250Z"
   },
   {
    "duration": 6,
    "start_time": "2023-04-20T21:36:57.260Z"
   },
   {
    "duration": 22,
    "start_time": "2023-04-20T21:36:57.267Z"
   },
   {
    "duration": 10,
    "start_time": "2023-04-20T21:36:57.311Z"
   },
   {
    "duration": 8,
    "start_time": "2023-04-20T21:36:57.323Z"
   },
   {
    "duration": 9,
    "start_time": "2023-04-20T21:36:57.332Z"
   },
   {
    "duration": 9,
    "start_time": "2023-04-20T21:36:57.344Z"
   },
   {
    "duration": 15,
    "start_time": "2023-04-20T21:36:57.354Z"
   },
   {
    "duration": 6,
    "start_time": "2023-04-20T21:36:57.371Z"
   },
   {
    "duration": 38,
    "start_time": "2023-04-20T21:36:57.379Z"
   },
   {
    "duration": 15,
    "start_time": "2023-04-20T21:36:57.419Z"
   },
   {
    "duration": 4,
    "start_time": "2023-04-20T21:36:57.436Z"
   },
   {
    "duration": 10,
    "start_time": "2023-04-20T21:36:57.441Z"
   },
   {
    "duration": 24,
    "start_time": "2023-04-20T21:36:57.452Z"
   },
   {
    "duration": 4,
    "start_time": "2023-04-20T21:36:57.478Z"
   },
   {
    "duration": 32,
    "start_time": "2023-04-20T21:36:57.483Z"
   },
   {
    "duration": 5,
    "start_time": "2023-04-20T21:36:57.517Z"
   },
   {
    "duration": 6,
    "start_time": "2023-04-20T21:36:57.523Z"
   },
   {
    "duration": 6,
    "start_time": "2023-04-20T21:36:57.530Z"
   },
   {
    "duration": 29,
    "start_time": "2023-04-20T21:36:57.537Z"
   },
   {
    "duration": 164,
    "start_time": "2023-04-20T21:36:57.568Z"
   },
   {
    "duration": 230,
    "start_time": "2023-04-20T21:36:57.733Z"
   },
   {
    "duration": 7,
    "start_time": "2023-04-20T21:36:57.965Z"
   },
   {
    "duration": 10,
    "start_time": "2023-04-20T21:36:57.974Z"
   },
   {
    "duration": 5,
    "start_time": "2023-04-20T21:36:57.985Z"
   },
   {
    "duration": 321,
    "start_time": "2023-04-20T21:36:57.992Z"
   },
   {
    "duration": 158,
    "start_time": "2023-04-20T21:36:58.315Z"
   },
   {
    "duration": 11,
    "start_time": "2023-04-20T21:36:58.474Z"
   },
   {
    "duration": 10,
    "start_time": "2023-04-20T21:36:58.486Z"
   },
   {
    "duration": 10,
    "start_time": "2023-04-20T21:36:58.512Z"
   },
   {
    "duration": 6,
    "start_time": "2023-04-20T21:36:58.524Z"
   },
   {
    "duration": 126,
    "start_time": "2023-04-20T21:36:58.532Z"
   },
   {
    "duration": 133,
    "start_time": "2023-04-20T21:36:58.660Z"
   },
   {
    "duration": 2389,
    "start_time": "2023-04-20T21:36:58.800Z"
   },
   {
    "duration": 22,
    "start_time": "2023-04-20T21:37:01.191Z"
   },
   {
    "duration": 12,
    "start_time": "2023-04-20T21:37:01.214Z"
   },
   {
    "duration": 26,
    "start_time": "2023-04-20T21:37:01.227Z"
   },
   {
    "duration": 5811,
    "start_time": "2023-04-20T21:37:01.255Z"
   },
   {
    "duration": 143,
    "start_time": "2023-04-20T21:37:07.068Z"
   },
   {
    "duration": 12,
    "start_time": "2023-04-20T21:37:07.213Z"
   },
   {
    "duration": 10,
    "start_time": "2023-04-20T21:37:07.227Z"
   },
   {
    "duration": 129,
    "start_time": "2023-04-20T21:37:07.239Z"
   },
   {
    "duration": 120,
    "start_time": "2023-04-20T21:37:07.370Z"
   },
   {
    "duration": 8,
    "start_time": "2023-04-20T21:37:07.492Z"
   },
   {
    "duration": 694,
    "start_time": "2023-04-20T21:37:07.512Z"
   },
   {
    "duration": 9,
    "start_time": "2023-04-20T21:37:08.208Z"
   },
   {
    "duration": 655,
    "start_time": "2023-04-20T21:37:08.218Z"
   },
   {
    "duration": 14,
    "start_time": "2023-04-20T21:37:08.875Z"
   },
   {
    "duration": 27,
    "start_time": "2023-04-20T21:37:08.891Z"
   },
   {
    "duration": 370,
    "start_time": "2023-04-20T21:37:08.920Z"
   },
   {
    "duration": 20,
    "start_time": "2023-04-20T21:37:09.293Z"
   },
   {
    "duration": 6,
    "start_time": "2023-04-20T21:37:09.315Z"
   },
   {
    "duration": 16,
    "start_time": "2023-04-20T21:37:09.322Z"
   },
   {
    "duration": 29,
    "start_time": "2023-04-20T21:37:09.340Z"
   },
   {
    "duration": 290,
    "start_time": "2023-04-20T21:37:09.371Z"
   },
   {
    "duration": 7,
    "start_time": "2023-04-20T21:37:09.663Z"
   },
   {
    "duration": 12,
    "start_time": "2023-04-20T21:37:09.671Z"
   },
   {
    "duration": 269,
    "start_time": "2023-04-20T21:37:09.685Z"
   },
   {
    "duration": 12,
    "start_time": "2023-04-20T21:37:09.956Z"
   },
   {
    "duration": 9,
    "start_time": "2023-04-20T21:37:09.970Z"
   },
   {
    "duration": 23,
    "start_time": "2023-04-20T21:37:09.981Z"
   },
   {
    "duration": 286,
    "start_time": "2023-04-20T21:37:10.011Z"
   },
   {
    "duration": 5,
    "start_time": "2023-04-20T21:37:10.299Z"
   },
   {
    "duration": 17,
    "start_time": "2023-04-20T21:37:10.311Z"
   },
   {
    "duration": 367,
    "start_time": "2023-04-20T21:37:10.329Z"
   },
   {
    "duration": 14,
    "start_time": "2023-04-20T21:37:10.697Z"
   },
   {
    "duration": 17,
    "start_time": "2023-04-20T21:37:10.713Z"
   },
   {
    "duration": 246,
    "start_time": "2023-04-20T21:37:10.731Z"
   },
   {
    "duration": 5,
    "start_time": "2023-04-20T21:37:10.979Z"
   },
   {
    "duration": 28,
    "start_time": "2023-04-20T21:37:10.985Z"
   },
   {
    "duration": 262,
    "start_time": "2023-04-20T21:37:11.014Z"
   },
   {
    "duration": 19,
    "start_time": "2023-04-20T21:37:11.277Z"
   },
   {
    "duration": 5,
    "start_time": "2023-04-20T21:37:11.312Z"
   },
   {
    "duration": 1377,
    "start_time": "2023-04-20T21:37:11.319Z"
   },
   {
    "duration": 396,
    "start_time": "2023-04-20T21:37:12.698Z"
   },
   {
    "duration": 3,
    "start_time": "2023-04-20T21:37:13.096Z"
   },
   {
    "duration": 17,
    "start_time": "2023-04-20T21:37:13.101Z"
   },
   {
    "duration": 10,
    "start_time": "2023-04-20T21:37:13.119Z"
   },
   {
    "duration": 26,
    "start_time": "2023-04-20T21:37:13.131Z"
   },
   {
    "duration": 3,
    "start_time": "2023-04-20T21:37:13.159Z"
   },
   {
    "duration": 10,
    "start_time": "2023-04-20T21:37:13.163Z"
   },
   {
    "duration": 7,
    "start_time": "2023-04-20T21:37:13.175Z"
   },
   {
    "duration": 19,
    "start_time": "2023-04-20T21:37:13.183Z"
   },
   {
    "duration": 10,
    "start_time": "2023-04-20T21:37:13.204Z"
   },
   {
    "duration": 27,
    "start_time": "2023-04-20T21:37:13.215Z"
   },
   {
    "duration": 12,
    "start_time": "2023-04-20T21:37:13.243Z"
   },
   {
    "duration": 28,
    "start_time": "2023-04-20T21:37:13.257Z"
   },
   {
    "duration": 20,
    "start_time": "2023-04-20T21:37:13.288Z"
   },
   {
    "duration": 11,
    "start_time": "2023-04-20T21:37:13.310Z"
   },
   {
    "duration": 14,
    "start_time": "2023-04-20T21:37:13.323Z"
   },
   {
    "duration": 18,
    "start_time": "2023-04-20T21:37:13.339Z"
   },
   {
    "duration": 24,
    "start_time": "2023-04-20T21:37:13.359Z"
   },
   {
    "duration": 29,
    "start_time": "2023-04-20T21:37:13.384Z"
   },
   {
    "duration": 10,
    "start_time": "2023-04-20T21:37:13.415Z"
   },
   {
    "duration": 12,
    "start_time": "2023-04-20T21:37:13.426Z"
   },
   {
    "duration": 11,
    "start_time": "2023-04-20T21:37:13.439Z"
   },
   {
    "duration": 15,
    "start_time": "2023-04-20T21:37:13.451Z"
   },
   {
    "duration": 8,
    "start_time": "2023-04-20T21:37:13.468Z"
   },
   {
    "duration": 4,
    "start_time": "2023-04-20T21:44:06.188Z"
   },
   {
    "duration": 54,
    "start_time": "2023-04-20T21:47:07.448Z"
   },
   {
    "duration": 11,
    "start_time": "2023-04-20T21:47:13.831Z"
   },
   {
    "duration": 1262,
    "start_time": "2023-04-20T21:47:45.879Z"
   },
   {
    "duration": 1201,
    "start_time": "2023-04-20T21:47:47.143Z"
   },
   {
    "duration": 17,
    "start_time": "2023-04-20T21:47:48.346Z"
   },
   {
    "duration": 13,
    "start_time": "2023-04-20T21:47:48.364Z"
   },
   {
    "duration": 4,
    "start_time": "2023-04-20T21:47:48.380Z"
   },
   {
    "duration": 4,
    "start_time": "2023-04-20T21:47:48.385Z"
   },
   {
    "duration": 25,
    "start_time": "2023-04-20T21:47:48.391Z"
   },
   {
    "duration": 7,
    "start_time": "2023-04-20T21:47:48.418Z"
   },
   {
    "duration": 4,
    "start_time": "2023-04-20T21:47:48.427Z"
   },
   {
    "duration": 14,
    "start_time": "2023-04-20T21:47:48.433Z"
   },
   {
    "duration": 8,
    "start_time": "2023-04-20T21:47:48.449Z"
   },
   {
    "duration": 8,
    "start_time": "2023-04-20T21:47:48.459Z"
   },
   {
    "duration": 45,
    "start_time": "2023-04-20T21:47:48.469Z"
   },
   {
    "duration": 10,
    "start_time": "2023-04-20T21:47:48.518Z"
   },
   {
    "duration": 13,
    "start_time": "2023-04-20T21:47:48.530Z"
   },
   {
    "duration": 7,
    "start_time": "2023-04-20T21:47:48.544Z"
   },
   {
    "duration": 6,
    "start_time": "2023-04-20T21:47:48.553Z"
   },
   {
    "duration": 10,
    "start_time": "2023-04-20T21:47:48.560Z"
   },
   {
    "duration": 41,
    "start_time": "2023-04-20T21:47:48.572Z"
   },
   {
    "duration": 10,
    "start_time": "2023-04-20T21:47:48.615Z"
   },
   {
    "duration": 22,
    "start_time": "2023-04-20T21:47:48.627Z"
   },
   {
    "duration": 4,
    "start_time": "2023-04-20T21:47:48.651Z"
   },
   {
    "duration": 10,
    "start_time": "2023-04-20T21:47:48.656Z"
   },
   {
    "duration": 6,
    "start_time": "2023-04-20T21:47:48.668Z"
   },
   {
    "duration": 39,
    "start_time": "2023-04-20T21:47:48.675Z"
   },
   {
    "duration": 5,
    "start_time": "2023-04-20T21:47:48.716Z"
   },
   {
    "duration": 29,
    "start_time": "2023-04-20T21:47:48.723Z"
   },
   {
    "duration": 197,
    "start_time": "2023-04-20T21:47:48.754Z"
   },
   {
    "duration": 266,
    "start_time": "2023-04-20T21:47:48.953Z"
   },
   {
    "duration": 9,
    "start_time": "2023-04-20T21:47:49.222Z"
   },
   {
    "duration": 10,
    "start_time": "2023-04-20T21:47:49.233Z"
   },
   {
    "duration": 7,
    "start_time": "2023-04-20T21:47:49.245Z"
   },
   {
    "duration": 343,
    "start_time": "2023-04-20T21:47:49.253Z"
   },
   {
    "duration": 180,
    "start_time": "2023-04-20T21:47:49.598Z"
   },
   {
    "duration": 12,
    "start_time": "2023-04-20T21:47:49.780Z"
   },
   {
    "duration": 23,
    "start_time": "2023-04-20T21:47:49.794Z"
   },
   {
    "duration": 11,
    "start_time": "2023-04-20T21:47:49.818Z"
   },
   {
    "duration": 11,
    "start_time": "2023-04-20T21:47:49.830Z"
   },
   {
    "duration": 132,
    "start_time": "2023-04-20T21:47:49.843Z"
   },
   {
    "duration": 136,
    "start_time": "2023-04-20T21:47:49.977Z"
   },
   {
    "duration": 2412,
    "start_time": "2023-04-20T21:47:50.119Z"
   },
   {
    "duration": 10,
    "start_time": "2023-04-20T21:47:52.533Z"
   },
   {
    "duration": 8,
    "start_time": "2023-04-20T21:47:52.544Z"
   },
   {
    "duration": 12,
    "start_time": "2023-04-20T21:47:52.554Z"
   },
   {
    "duration": 6065,
    "start_time": "2023-04-20T21:47:52.569Z"
   },
   {
    "duration": 161,
    "start_time": "2023-04-20T21:47:58.635Z"
   },
   {
    "duration": 22,
    "start_time": "2023-04-20T21:47:58.798Z"
   },
   {
    "duration": 13,
    "start_time": "2023-04-20T21:47:58.822Z"
   },
   {
    "duration": 176,
    "start_time": "2023-04-20T21:47:58.837Z"
   },
   {
    "duration": 138,
    "start_time": "2023-04-20T21:47:59.015Z"
   },
   {
    "duration": 10,
    "start_time": "2023-04-20T21:47:59.155Z"
   },
   {
    "duration": 716,
    "start_time": "2023-04-20T21:47:59.167Z"
   },
   {
    "duration": 9,
    "start_time": "2023-04-20T21:47:59.887Z"
   },
   {
    "duration": 674,
    "start_time": "2023-04-20T21:47:59.897Z"
   },
   {
    "duration": 12,
    "start_time": "2023-04-20T21:48:00.573Z"
   },
   {
    "duration": 27,
    "start_time": "2023-04-20T21:48:00.587Z"
   },
   {
    "duration": 364,
    "start_time": "2023-04-20T21:48:00.616Z"
   },
   {
    "duration": 10,
    "start_time": "2023-04-20T21:48:00.981Z"
   },
   {
    "duration": 23,
    "start_time": "2023-04-20T21:48:00.992Z"
   },
   {
    "duration": 31,
    "start_time": "2023-04-20T21:48:01.017Z"
   },
   {
    "duration": 36,
    "start_time": "2023-04-20T21:48:01.050Z"
   },
   {
    "duration": 327,
    "start_time": "2023-04-20T21:48:01.088Z"
   },
   {
    "duration": 6,
    "start_time": "2023-04-20T21:48:01.417Z"
   },
   {
    "duration": 33,
    "start_time": "2023-04-20T21:48:01.425Z"
   },
   {
    "duration": 209,
    "start_time": "2023-04-20T21:48:01.460Z"
   },
   {
    "duration": 12,
    "start_time": "2023-04-20T21:48:01.671Z"
   },
   {
    "duration": 11,
    "start_time": "2023-04-20T21:48:01.712Z"
   },
   {
    "duration": 31,
    "start_time": "2023-04-20T21:48:01.725Z"
   },
   {
    "duration": 334,
    "start_time": "2023-04-20T21:48:01.758Z"
   },
   {
    "duration": 6,
    "start_time": "2023-04-20T21:48:02.093Z"
   },
   {
    "duration": 13,
    "start_time": "2023-04-20T21:48:02.112Z"
   },
   {
    "duration": 403,
    "start_time": "2023-04-20T21:48:02.127Z"
   },
   {
    "duration": 6,
    "start_time": "2023-04-20T21:48:02.532Z"
   },
   {
    "duration": 24,
    "start_time": "2023-04-20T21:48:02.540Z"
   },
   {
    "duration": 282,
    "start_time": "2023-04-20T21:48:02.566Z"
   },
   {
    "duration": 8,
    "start_time": "2023-04-20T21:48:02.850Z"
   },
   {
    "duration": 28,
    "start_time": "2023-04-20T21:48:02.860Z"
   },
   {
    "duration": 276,
    "start_time": "2023-04-20T21:48:02.890Z"
   },
   {
    "duration": 21,
    "start_time": "2023-04-20T21:48:03.168Z"
   },
   {
    "duration": 22,
    "start_time": "2023-04-20T21:48:03.191Z"
   },
   {
    "duration": 1533,
    "start_time": "2023-04-20T21:48:03.215Z"
   },
   {
    "duration": 398,
    "start_time": "2023-04-20T21:48:04.751Z"
   },
   {
    "duration": 3,
    "start_time": "2023-04-20T21:48:05.151Z"
   },
   {
    "duration": 10,
    "start_time": "2023-04-20T21:48:05.156Z"
   },
   {
    "duration": 25,
    "start_time": "2023-04-20T21:48:05.168Z"
   },
   {
    "duration": 40,
    "start_time": "2023-04-20T21:48:05.195Z"
   },
   {
    "duration": 47,
    "start_time": "2023-04-20T21:48:05.236Z"
   },
   {
    "duration": 52,
    "start_time": "2023-04-20T21:48:05.285Z"
   },
   {
    "duration": 10,
    "start_time": "2023-04-20T21:48:05.339Z"
   },
   {
    "duration": 10,
    "start_time": "2023-04-20T21:48:05.351Z"
   },
   {
    "duration": 7,
    "start_time": "2023-04-20T21:48:05.363Z"
   },
   {
    "duration": 11,
    "start_time": "2023-04-20T21:48:05.372Z"
   },
   {
    "duration": 7,
    "start_time": "2023-04-20T21:48:05.385Z"
   },
   {
    "duration": 59,
    "start_time": "2023-04-20T21:48:05.393Z"
   },
   {
    "duration": 26,
    "start_time": "2023-04-20T21:48:05.453Z"
   },
   {
    "duration": 20,
    "start_time": "2023-04-20T21:48:05.480Z"
   },
   {
    "duration": 5,
    "start_time": "2023-04-20T21:48:05.501Z"
   },
   {
    "duration": 6,
    "start_time": "2023-04-20T21:48:05.508Z"
   },
   {
    "duration": 17,
    "start_time": "2023-04-20T21:48:05.516Z"
   },
   {
    "duration": 17,
    "start_time": "2023-04-20T21:48:05.535Z"
   },
   {
    "duration": 10,
    "start_time": "2023-04-20T21:48:05.554Z"
   },
   {
    "duration": 10,
    "start_time": "2023-04-20T21:48:05.566Z"
   },
   {
    "duration": 12,
    "start_time": "2023-04-20T21:48:05.612Z"
   },
   {
    "duration": 18,
    "start_time": "2023-04-20T21:48:05.626Z"
   },
   {
    "duration": 10,
    "start_time": "2023-04-20T21:48:05.645Z"
   },
   {
    "duration": 11,
    "start_time": "2023-04-20T21:48:05.656Z"
   },
   {
    "duration": 1199,
    "start_time": "2023-04-20T21:51:21.760Z"
   },
   {
    "duration": 992,
    "start_time": "2023-04-20T21:51:22.961Z"
   },
   {
    "duration": 17,
    "start_time": "2023-04-20T21:51:23.955Z"
   },
   {
    "duration": 12,
    "start_time": "2023-04-20T21:51:23.975Z"
   },
   {
    "duration": 4,
    "start_time": "2023-04-20T21:51:23.989Z"
   },
   {
    "duration": 4,
    "start_time": "2023-04-20T21:51:23.995Z"
   },
   {
    "duration": 21,
    "start_time": "2023-04-20T21:51:24.001Z"
   },
   {
    "duration": 7,
    "start_time": "2023-04-20T21:51:24.024Z"
   },
   {
    "duration": 6,
    "start_time": "2023-04-20T21:51:24.033Z"
   },
   {
    "duration": 32,
    "start_time": "2023-04-20T21:51:24.042Z"
   },
   {
    "duration": 10,
    "start_time": "2023-04-20T21:51:24.075Z"
   },
   {
    "duration": 31,
    "start_time": "2023-04-20T21:51:24.087Z"
   },
   {
    "duration": 8,
    "start_time": "2023-04-20T21:51:24.119Z"
   },
   {
    "duration": 8,
    "start_time": "2023-04-20T21:51:24.128Z"
   },
   {
    "duration": 30,
    "start_time": "2023-04-20T21:51:24.138Z"
   },
   {
    "duration": 6,
    "start_time": "2023-04-20T21:51:24.170Z"
   },
   {
    "duration": 11,
    "start_time": "2023-04-20T21:51:24.178Z"
   },
   {
    "duration": 23,
    "start_time": "2023-04-20T21:51:24.190Z"
   },
   {
    "duration": 4,
    "start_time": "2023-04-20T21:51:24.215Z"
   },
   {
    "duration": 11,
    "start_time": "2023-04-20T21:51:24.221Z"
   },
   {
    "duration": 26,
    "start_time": "2023-04-20T21:51:24.233Z"
   },
   {
    "duration": 3,
    "start_time": "2023-04-20T21:51:24.261Z"
   },
   {
    "duration": 5,
    "start_time": "2023-04-20T21:51:24.266Z"
   },
   {
    "duration": 41,
    "start_time": "2023-04-20T21:51:24.272Z"
   },
   {
    "duration": 9,
    "start_time": "2023-04-20T21:51:24.315Z"
   },
   {
    "duration": 13,
    "start_time": "2023-04-20T21:51:24.325Z"
   },
   {
    "duration": 29,
    "start_time": "2023-04-20T21:51:24.339Z"
   },
   {
    "duration": 150,
    "start_time": "2023-04-20T21:51:24.373Z"
   },
   {
    "duration": 221,
    "start_time": "2023-04-20T21:51:24.525Z"
   },
   {
    "duration": 8,
    "start_time": "2023-04-20T21:51:24.747Z"
   },
   {
    "duration": 9,
    "start_time": "2023-04-20T21:51:24.756Z"
   },
   {
    "duration": 5,
    "start_time": "2023-04-20T21:51:24.767Z"
   },
   {
    "duration": 341,
    "start_time": "2023-04-20T21:51:24.773Z"
   },
   {
    "duration": 168,
    "start_time": "2023-04-20T21:51:25.116Z"
   },
   {
    "duration": 11,
    "start_time": "2023-04-20T21:51:25.286Z"
   },
   {
    "duration": 21,
    "start_time": "2023-04-20T21:51:25.299Z"
   },
   {
    "duration": 10,
    "start_time": "2023-04-20T21:51:25.322Z"
   },
   {
    "duration": 7,
    "start_time": "2023-04-20T21:51:25.333Z"
   },
   {
    "duration": 138,
    "start_time": "2023-04-20T21:51:25.342Z"
   },
   {
    "duration": 138,
    "start_time": "2023-04-20T21:51:25.481Z"
   },
   {
    "duration": 3331,
    "start_time": "2023-04-20T21:51:25.621Z"
   },
   {
    "duration": 11,
    "start_time": "2023-04-20T21:51:28.954Z"
   },
   {
    "duration": 8,
    "start_time": "2023-04-20T21:51:28.968Z"
   },
   {
    "duration": 36,
    "start_time": "2023-04-20T21:51:28.978Z"
   },
   {
    "duration": 6063,
    "start_time": "2023-04-20T21:51:29.016Z"
   },
   {
    "duration": 143,
    "start_time": "2023-04-20T21:51:35.080Z"
   },
   {
    "duration": 11,
    "start_time": "2023-04-20T21:51:35.224Z"
   },
   {
    "duration": 9,
    "start_time": "2023-04-20T21:51:35.237Z"
   },
   {
    "duration": 131,
    "start_time": "2023-04-20T21:51:35.247Z"
   },
   {
    "duration": 121,
    "start_time": "2023-04-20T21:51:35.379Z"
   },
   {
    "duration": 16,
    "start_time": "2023-04-20T21:51:35.501Z"
   },
   {
    "duration": 726,
    "start_time": "2023-04-20T21:51:35.518Z"
   },
   {
    "duration": 8,
    "start_time": "2023-04-20T21:51:36.246Z"
   },
   {
    "duration": 659,
    "start_time": "2023-04-20T21:51:36.255Z"
   },
   {
    "duration": 13,
    "start_time": "2023-04-20T21:51:36.916Z"
   },
   {
    "duration": 30,
    "start_time": "2023-04-20T21:51:36.931Z"
   },
   {
    "duration": 336,
    "start_time": "2023-04-20T21:51:36.963Z"
   },
   {
    "duration": 17,
    "start_time": "2023-04-20T21:51:37.301Z"
   },
   {
    "duration": 4,
    "start_time": "2023-04-20T21:51:37.320Z"
   },
   {
    "duration": 8,
    "start_time": "2023-04-20T21:51:37.327Z"
   },
   {
    "duration": 14,
    "start_time": "2023-04-20T21:51:37.337Z"
   },
   {
    "duration": 333,
    "start_time": "2023-04-20T21:51:37.353Z"
   },
   {
    "duration": 6,
    "start_time": "2023-04-20T21:51:37.688Z"
   },
   {
    "duration": 20,
    "start_time": "2023-04-20T21:51:37.696Z"
   },
   {
    "duration": 248,
    "start_time": "2023-04-20T21:51:37.718Z"
   },
   {
    "duration": 12,
    "start_time": "2023-04-20T21:51:37.968Z"
   },
   {
    "duration": 6,
    "start_time": "2023-04-20T21:51:37.981Z"
   },
   {
    "duration": 32,
    "start_time": "2023-04-20T21:51:37.989Z"
   },
   {
    "duration": 302,
    "start_time": "2023-04-20T21:51:38.023Z"
   },
   {
    "duration": 6,
    "start_time": "2023-04-20T21:51:38.326Z"
   },
   {
    "duration": 16,
    "start_time": "2023-04-20T21:51:38.333Z"
   },
   {
    "duration": 392,
    "start_time": "2023-04-20T21:51:38.350Z"
   },
   {
    "duration": 5,
    "start_time": "2023-04-20T21:51:38.743Z"
   },
   {
    "duration": 16,
    "start_time": "2023-04-20T21:51:38.750Z"
   },
   {
    "duration": 277,
    "start_time": "2023-04-20T21:51:38.768Z"
   },
   {
    "duration": 6,
    "start_time": "2023-04-20T21:51:39.048Z"
   },
   {
    "duration": 21,
    "start_time": "2023-04-20T21:51:39.056Z"
   },
   {
    "duration": 299,
    "start_time": "2023-04-20T21:51:39.079Z"
   },
   {
    "duration": 18,
    "start_time": "2023-04-20T21:51:39.380Z"
   },
   {
    "duration": 16,
    "start_time": "2023-04-20T21:51:39.399Z"
   },
   {
    "duration": 1451,
    "start_time": "2023-04-20T21:51:39.417Z"
   },
   {
    "duration": 426,
    "start_time": "2023-04-20T21:51:40.874Z"
   },
   {
    "duration": 3,
    "start_time": "2023-04-20T21:51:41.301Z"
   },
   {
    "duration": 11,
    "start_time": "2023-04-20T21:51:41.306Z"
   },
   {
    "duration": 7,
    "start_time": "2023-04-20T21:51:41.319Z"
   },
   {
    "duration": 24,
    "start_time": "2023-04-20T21:51:41.327Z"
   },
   {
    "duration": 4,
    "start_time": "2023-04-20T21:51:41.353Z"
   },
   {
    "duration": 8,
    "start_time": "2023-04-20T21:51:41.359Z"
   },
   {
    "duration": 18,
    "start_time": "2023-04-20T21:51:41.369Z"
   },
   {
    "duration": 32,
    "start_time": "2023-04-20T21:51:41.388Z"
   },
   {
    "duration": 4,
    "start_time": "2023-04-20T21:51:41.423Z"
   },
   {
    "duration": 7,
    "start_time": "2023-04-20T21:51:41.429Z"
   },
   {
    "duration": 11,
    "start_time": "2023-04-20T21:51:41.438Z"
   },
   {
    "duration": 17,
    "start_time": "2023-04-20T21:51:41.451Z"
   },
   {
    "duration": 42,
    "start_time": "2023-04-20T21:51:41.470Z"
   },
   {
    "duration": 14,
    "start_time": "2023-04-20T21:51:41.515Z"
   },
   {
    "duration": 5,
    "start_time": "2023-04-20T21:51:41.531Z"
   },
   {
    "duration": 6,
    "start_time": "2023-04-20T21:51:41.537Z"
   },
   {
    "duration": 15,
    "start_time": "2023-04-20T21:51:41.544Z"
   },
   {
    "duration": 53,
    "start_time": "2023-04-20T21:51:41.560Z"
   },
   {
    "duration": 12,
    "start_time": "2023-04-20T21:51:41.616Z"
   },
   {
    "duration": 9,
    "start_time": "2023-04-20T21:51:41.630Z"
   },
   {
    "duration": 9,
    "start_time": "2023-04-20T21:51:41.641Z"
   },
   {
    "duration": 10,
    "start_time": "2023-04-20T21:51:41.651Z"
   },
   {
    "duration": 9,
    "start_time": "2023-04-20T21:51:41.662Z"
   },
   {
    "duration": 51,
    "start_time": "2023-04-20T21:51:41.672Z"
   },
   {
    "duration": 10,
    "start_time": "2023-04-20T21:55:27.124Z"
   },
   {
    "duration": 9,
    "start_time": "2023-04-20T22:00:41.905Z"
   },
   {
    "duration": 1225,
    "start_time": "2023-04-20T22:01:37.040Z"
   },
   {
    "duration": 936,
    "start_time": "2023-04-20T22:01:38.268Z"
   },
   {
    "duration": 18,
    "start_time": "2023-04-20T22:01:39.206Z"
   },
   {
    "duration": 14,
    "start_time": "2023-04-20T22:01:39.225Z"
   },
   {
    "duration": 4,
    "start_time": "2023-04-20T22:01:39.242Z"
   },
   {
    "duration": 5,
    "start_time": "2023-04-20T22:01:39.247Z"
   },
   {
    "duration": 14,
    "start_time": "2023-04-20T22:01:39.253Z"
   },
   {
    "duration": 8,
    "start_time": "2023-04-20T22:01:39.269Z"
   },
   {
    "duration": 5,
    "start_time": "2023-04-20T22:01:39.279Z"
   },
   {
    "duration": 13,
    "start_time": "2023-04-20T22:01:39.312Z"
   },
   {
    "duration": 10,
    "start_time": "2023-04-20T22:01:39.326Z"
   },
   {
    "duration": 9,
    "start_time": "2023-04-20T22:01:39.338Z"
   },
   {
    "duration": 8,
    "start_time": "2023-04-20T22:01:39.349Z"
   },
   {
    "duration": 8,
    "start_time": "2023-04-20T22:01:39.360Z"
   },
   {
    "duration": 47,
    "start_time": "2023-04-20T22:01:39.370Z"
   },
   {
    "duration": 8,
    "start_time": "2023-04-20T22:01:39.419Z"
   },
   {
    "duration": 11,
    "start_time": "2023-04-20T22:01:39.429Z"
   },
   {
    "duration": 5,
    "start_time": "2023-04-20T22:01:39.442Z"
   },
   {
    "duration": 15,
    "start_time": "2023-04-20T22:01:39.449Z"
   },
   {
    "duration": 46,
    "start_time": "2023-04-20T22:01:39.466Z"
   },
   {
    "duration": 5,
    "start_time": "2023-04-20T22:01:39.514Z"
   },
   {
    "duration": 6,
    "start_time": "2023-04-20T22:01:39.521Z"
   },
   {
    "duration": 6,
    "start_time": "2023-04-20T22:01:39.528Z"
   },
   {
    "duration": 7,
    "start_time": "2023-04-20T22:01:39.535Z"
   },
   {
    "duration": 4,
    "start_time": "2023-04-20T22:01:39.544Z"
   },
   {
    "duration": 63,
    "start_time": "2023-04-20T22:01:39.550Z"
   },
   {
    "duration": 155,
    "start_time": "2023-04-20T22:01:39.615Z"
   },
   {
    "duration": 226,
    "start_time": "2023-04-20T22:01:39.771Z"
   },
   {
    "duration": 16,
    "start_time": "2023-04-20T22:01:39.999Z"
   },
   {
    "duration": 10,
    "start_time": "2023-04-20T22:01:40.017Z"
   },
   {
    "duration": 13,
    "start_time": "2023-04-20T22:01:40.028Z"
   },
   {
    "duration": 326,
    "start_time": "2023-04-20T22:01:40.043Z"
   },
   {
    "duration": 154,
    "start_time": "2023-04-20T22:01:40.371Z"
   },
   {
    "duration": 12,
    "start_time": "2023-04-20T22:01:40.527Z"
   },
   {
    "duration": 14,
    "start_time": "2023-04-20T22:01:40.541Z"
   },
   {
    "duration": 11,
    "start_time": "2023-04-20T22:01:40.556Z"
   },
   {
    "duration": 6,
    "start_time": "2023-04-20T22:01:40.569Z"
   },
   {
    "duration": 148,
    "start_time": "2023-04-20T22:01:40.577Z"
   },
   {
    "duration": 135,
    "start_time": "2023-04-20T22:01:40.727Z"
   },
   {
    "duration": 2451,
    "start_time": "2023-04-20T22:01:40.864Z"
   },
   {
    "duration": 8,
    "start_time": "2023-04-20T22:01:43.321Z"
   },
   {
    "duration": 6,
    "start_time": "2023-04-20T22:01:43.331Z"
   },
   {
    "duration": 12,
    "start_time": "2023-04-20T22:01:43.339Z"
   },
   {
    "duration": 6364,
    "start_time": "2023-04-20T22:01:43.353Z"
   },
   {
    "duration": 153,
    "start_time": "2023-04-20T22:01:49.719Z"
   },
   {
    "duration": 13,
    "start_time": "2023-04-20T22:01:49.874Z"
   },
   {
    "duration": 23,
    "start_time": "2023-04-20T22:01:49.891Z"
   },
   {
    "duration": 125,
    "start_time": "2023-04-20T22:01:49.916Z"
   },
   {
    "duration": 132,
    "start_time": "2023-04-20T22:01:50.044Z"
   },
   {
    "duration": 10,
    "start_time": "2023-04-20T22:01:50.178Z"
   },
   {
    "duration": 755,
    "start_time": "2023-04-20T22:01:50.190Z"
   },
   {
    "duration": 7,
    "start_time": "2023-04-20T22:01:50.947Z"
   },
   {
    "duration": 667,
    "start_time": "2023-04-20T22:01:50.956Z"
   },
   {
    "duration": 12,
    "start_time": "2023-04-20T22:01:51.625Z"
   },
   {
    "duration": 10,
    "start_time": "2023-04-20T22:01:51.639Z"
   },
   {
    "duration": 365,
    "start_time": "2023-04-20T22:01:51.651Z"
   },
   {
    "duration": 9,
    "start_time": "2023-04-20T22:01:52.018Z"
   },
   {
    "duration": 11,
    "start_time": "2023-04-20T22:01:52.029Z"
   },
   {
    "duration": 6,
    "start_time": "2023-04-20T22:01:52.042Z"
   },
   {
    "duration": 24,
    "start_time": "2023-04-20T22:01:52.050Z"
   },
   {
    "duration": 348,
    "start_time": "2023-04-20T22:01:52.076Z"
   },
   {
    "duration": 6,
    "start_time": "2023-04-20T22:01:52.426Z"
   },
   {
    "duration": 16,
    "start_time": "2023-04-20T22:01:52.434Z"
   },
   {
    "duration": 236,
    "start_time": "2023-04-20T22:01:52.452Z"
   },
   {
    "duration": 23,
    "start_time": "2023-04-20T22:01:52.690Z"
   },
   {
    "duration": 9,
    "start_time": "2023-04-20T22:01:52.714Z"
   },
   {
    "duration": 11,
    "start_time": "2023-04-20T22:01:52.725Z"
   },
   {
    "duration": 461,
    "start_time": "2023-04-20T22:01:52.738Z"
   },
   {
    "duration": 11,
    "start_time": "2023-04-20T22:01:53.201Z"
   },
   {
    "duration": 10,
    "start_time": "2023-04-20T22:01:53.214Z"
   },
   {
    "duration": 288,
    "start_time": "2023-04-20T22:01:53.226Z"
   },
   {
    "duration": 6,
    "start_time": "2023-04-20T22:01:53.516Z"
   },
   {
    "duration": 12,
    "start_time": "2023-04-20T22:01:53.524Z"
   },
   {
    "duration": 242,
    "start_time": "2023-04-20T22:01:53.538Z"
   },
   {
    "duration": 6,
    "start_time": "2023-04-20T22:01:53.782Z"
   },
   {
    "duration": 27,
    "start_time": "2023-04-20T22:01:53.790Z"
   },
   {
    "duration": 262,
    "start_time": "2023-04-20T22:01:53.819Z"
   },
   {
    "duration": 30,
    "start_time": "2023-04-20T22:01:54.083Z"
   },
   {
    "duration": 5,
    "start_time": "2023-04-20T22:01:54.115Z"
   },
   {
    "duration": 1467,
    "start_time": "2023-04-20T22:01:54.122Z"
   },
   {
    "duration": 418,
    "start_time": "2023-04-20T22:01:55.591Z"
   },
   {
    "duration": 3,
    "start_time": "2023-04-20T22:01:56.011Z"
   },
   {
    "duration": 16,
    "start_time": "2023-04-20T22:01:56.016Z"
   },
   {
    "duration": 11,
    "start_time": "2023-04-20T22:01:56.034Z"
   },
   {
    "duration": 30,
    "start_time": "2023-04-20T22:01:56.046Z"
   },
   {
    "duration": 4,
    "start_time": "2023-04-20T22:01:56.077Z"
   },
   {
    "duration": 13,
    "start_time": "2023-04-20T22:01:56.082Z"
   },
   {
    "duration": 14,
    "start_time": "2023-04-20T22:01:56.097Z"
   },
   {
    "duration": 7,
    "start_time": "2023-04-20T22:01:56.113Z"
   },
   {
    "duration": 9,
    "start_time": "2023-04-20T22:01:56.122Z"
   },
   {
    "duration": 7,
    "start_time": "2023-04-20T22:01:56.133Z"
   },
   {
    "duration": 13,
    "start_time": "2023-04-20T22:01:56.142Z"
   },
   {
    "duration": 20,
    "start_time": "2023-04-20T22:01:56.157Z"
   },
   {
    "duration": 35,
    "start_time": "2023-04-20T22:01:56.179Z"
   },
   {
    "duration": 9,
    "start_time": "2023-04-20T22:01:56.216Z"
   },
   {
    "duration": 7,
    "start_time": "2023-04-20T22:01:56.227Z"
   },
   {
    "duration": 10,
    "start_time": "2023-04-20T22:01:56.236Z"
   },
   {
    "duration": 35,
    "start_time": "2023-04-20T22:01:56.247Z"
   },
   {
    "duration": 16,
    "start_time": "2023-04-20T22:01:56.284Z"
   },
   {
    "duration": 10,
    "start_time": "2023-04-20T22:01:56.311Z"
   },
   {
    "duration": 11,
    "start_time": "2023-04-20T22:01:56.322Z"
   },
   {
    "duration": 9,
    "start_time": "2023-04-20T22:01:56.335Z"
   },
   {
    "duration": 14,
    "start_time": "2023-04-20T22:01:56.346Z"
   },
   {
    "duration": 13,
    "start_time": "2023-04-20T22:01:56.362Z"
   },
   {
    "duration": 38,
    "start_time": "2023-04-20T22:01:56.377Z"
   },
   {
    "duration": 1255,
    "start_time": "2023-04-20T22:06:43.911Z"
   },
   {
    "duration": 1410,
    "start_time": "2023-04-20T22:06:45.168Z"
   },
   {
    "duration": 17,
    "start_time": "2023-04-20T22:06:46.580Z"
   },
   {
    "duration": 13,
    "start_time": "2023-04-20T22:06:46.599Z"
   },
   {
    "duration": 4,
    "start_time": "2023-04-20T22:06:46.614Z"
   },
   {
    "duration": 6,
    "start_time": "2023-04-20T22:06:46.619Z"
   },
   {
    "duration": 14,
    "start_time": "2023-04-20T22:06:46.626Z"
   },
   {
    "duration": 12,
    "start_time": "2023-04-20T22:06:46.641Z"
   },
   {
    "duration": 5,
    "start_time": "2023-04-20T22:06:46.655Z"
   },
   {
    "duration": 13,
    "start_time": "2023-04-20T22:06:46.663Z"
   },
   {
    "duration": 40,
    "start_time": "2023-04-20T22:06:46.678Z"
   },
   {
    "duration": 8,
    "start_time": "2023-04-20T22:06:46.720Z"
   },
   {
    "duration": 9,
    "start_time": "2023-04-20T22:06:46.730Z"
   },
   {
    "duration": 14,
    "start_time": "2023-04-20T22:06:46.741Z"
   },
   {
    "duration": 10,
    "start_time": "2023-04-20T22:06:46.757Z"
   },
   {
    "duration": 8,
    "start_time": "2023-04-20T22:06:46.769Z"
   },
   {
    "duration": 41,
    "start_time": "2023-04-20T22:06:46.779Z"
   },
   {
    "duration": 5,
    "start_time": "2023-04-20T22:06:46.822Z"
   },
   {
    "duration": 9,
    "start_time": "2023-04-20T22:06:46.829Z"
   },
   {
    "duration": 23,
    "start_time": "2023-04-20T22:06:46.839Z"
   },
   {
    "duration": 4,
    "start_time": "2023-04-20T22:06:46.864Z"
   },
   {
    "duration": 43,
    "start_time": "2023-04-20T22:06:46.870Z"
   },
   {
    "duration": 5,
    "start_time": "2023-04-20T22:06:46.915Z"
   },
   {
    "duration": 7,
    "start_time": "2023-04-20T22:06:46.921Z"
   },
   {
    "duration": 14,
    "start_time": "2023-04-20T22:06:46.929Z"
   },
   {
    "duration": 28,
    "start_time": "2023-04-20T22:06:46.944Z"
   },
   {
    "duration": 154,
    "start_time": "2023-04-20T22:06:46.974Z"
   },
   {
    "duration": 233,
    "start_time": "2023-04-20T22:06:47.129Z"
   },
   {
    "duration": 8,
    "start_time": "2023-04-20T22:06:47.364Z"
   },
   {
    "duration": 10,
    "start_time": "2023-04-20T22:06:47.374Z"
   },
   {
    "duration": 27,
    "start_time": "2023-04-20T22:06:47.386Z"
   },
   {
    "duration": 333,
    "start_time": "2023-04-20T22:06:47.415Z"
   },
   {
    "duration": 164,
    "start_time": "2023-04-20T22:06:47.750Z"
   },
   {
    "duration": 12,
    "start_time": "2023-04-20T22:06:47.917Z"
   },
   {
    "duration": 9,
    "start_time": "2023-04-20T22:06:47.931Z"
   },
   {
    "duration": 9,
    "start_time": "2023-04-20T22:06:47.942Z"
   },
   {
    "duration": 7,
    "start_time": "2023-04-20T22:06:47.952Z"
   },
   {
    "duration": 145,
    "start_time": "2023-04-20T22:06:47.960Z"
   },
   {
    "duration": 134,
    "start_time": "2023-04-20T22:06:48.117Z"
   },
   {
    "duration": 2473,
    "start_time": "2023-04-20T22:06:48.253Z"
   },
   {
    "duration": 8,
    "start_time": "2023-04-20T22:06:50.731Z"
   },
   {
    "duration": 14,
    "start_time": "2023-04-20T22:06:50.740Z"
   },
   {
    "duration": 14,
    "start_time": "2023-04-20T22:06:50.755Z"
   },
   {
    "duration": 6342,
    "start_time": "2023-04-20T22:06:50.770Z"
   },
   {
    "duration": 152,
    "start_time": "2023-04-20T22:06:57.114Z"
   },
   {
    "duration": 12,
    "start_time": "2023-04-20T22:06:57.268Z"
   },
   {
    "duration": 29,
    "start_time": "2023-04-20T22:06:57.282Z"
   },
   {
    "duration": 131,
    "start_time": "2023-04-20T22:06:57.313Z"
   },
   {
    "duration": 125,
    "start_time": "2023-04-20T22:06:57.446Z"
   },
   {
    "duration": 9,
    "start_time": "2023-04-20T22:06:57.572Z"
   },
   {
    "duration": 739,
    "start_time": "2023-04-20T22:06:57.583Z"
   },
   {
    "duration": 7,
    "start_time": "2023-04-20T22:06:58.324Z"
   },
   {
    "duration": 736,
    "start_time": "2023-04-20T22:06:58.332Z"
   },
   {
    "duration": 15,
    "start_time": "2023-04-20T22:06:59.070Z"
   },
   {
    "duration": 25,
    "start_time": "2023-04-20T22:06:59.087Z"
   },
   {
    "duration": 341,
    "start_time": "2023-04-20T22:06:59.114Z"
   },
   {
    "duration": 8,
    "start_time": "2023-04-20T22:06:59.457Z"
   },
   {
    "duration": 4,
    "start_time": "2023-04-20T22:06:59.467Z"
   },
   {
    "duration": 8,
    "start_time": "2023-04-20T22:06:59.473Z"
   },
   {
    "duration": 38,
    "start_time": "2023-04-20T22:06:59.483Z"
   },
   {
    "duration": 295,
    "start_time": "2023-04-20T22:06:59.523Z"
   },
   {
    "duration": 6,
    "start_time": "2023-04-20T22:06:59.820Z"
   },
   {
    "duration": 13,
    "start_time": "2023-04-20T22:06:59.828Z"
   },
   {
    "duration": 241,
    "start_time": "2023-04-20T22:06:59.843Z"
   },
   {
    "duration": 25,
    "start_time": "2023-04-20T22:07:00.086Z"
   },
   {
    "duration": 23,
    "start_time": "2023-04-20T22:07:00.113Z"
   },
   {
    "duration": 38,
    "start_time": "2023-04-20T22:07:00.138Z"
   },
   {
    "duration": 444,
    "start_time": "2023-04-20T22:07:00.178Z"
   },
   {
    "duration": 7,
    "start_time": "2023-04-20T22:07:00.624Z"
   },
   {
    "duration": 37,
    "start_time": "2023-04-20T22:07:00.633Z"
   },
   {
    "duration": 346,
    "start_time": "2023-04-20T22:07:00.672Z"
   },
   {
    "duration": 6,
    "start_time": "2023-04-20T22:07:01.020Z"
   },
   {
    "duration": 28,
    "start_time": "2023-04-20T22:07:01.028Z"
   },
   {
    "duration": 312,
    "start_time": "2023-04-20T22:07:01.058Z"
   },
   {
    "duration": 7,
    "start_time": "2023-04-20T22:07:01.372Z"
   },
   {
    "duration": 48,
    "start_time": "2023-04-20T22:07:01.381Z"
   },
   {
    "duration": 266,
    "start_time": "2023-04-20T22:07:01.431Z"
   },
   {
    "duration": 28,
    "start_time": "2023-04-20T22:07:01.699Z"
   },
   {
    "duration": 22,
    "start_time": "2023-04-20T22:07:01.728Z"
   },
   {
    "duration": 1508,
    "start_time": "2023-04-20T22:07:01.752Z"
   },
   {
    "duration": 441,
    "start_time": "2023-04-20T22:07:03.263Z"
   },
   {
    "duration": 8,
    "start_time": "2023-04-20T22:07:03.705Z"
   },
   {
    "duration": 26,
    "start_time": "2023-04-20T22:07:03.714Z"
   },
   {
    "duration": 4,
    "start_time": "2023-04-20T22:07:03.742Z"
   },
   {
    "duration": 32,
    "start_time": "2023-04-20T22:07:03.748Z"
   },
   {
    "duration": 4,
    "start_time": "2023-04-20T22:07:03.781Z"
   },
   {
    "duration": 24,
    "start_time": "2023-04-20T22:07:03.787Z"
   },
   {
    "duration": 12,
    "start_time": "2023-04-20T22:07:03.812Z"
   },
   {
    "duration": 20,
    "start_time": "2023-04-20T22:07:03.827Z"
   },
   {
    "duration": 5,
    "start_time": "2023-04-20T22:07:03.849Z"
   },
   {
    "duration": 8,
    "start_time": "2023-04-20T22:07:03.856Z"
   },
   {
    "duration": 7,
    "start_time": "2023-04-20T22:07:03.866Z"
   },
   {
    "duration": 21,
    "start_time": "2023-04-20T22:07:03.875Z"
   },
   {
    "duration": 20,
    "start_time": "2023-04-20T22:07:03.912Z"
   },
   {
    "duration": 10,
    "start_time": "2023-04-20T22:07:03.934Z"
   },
   {
    "duration": 5,
    "start_time": "2023-04-20T22:07:03.945Z"
   },
   {
    "duration": 6,
    "start_time": "2023-04-20T22:07:03.952Z"
   },
   {
    "duration": 17,
    "start_time": "2023-04-20T22:07:03.960Z"
   },
   {
    "duration": 18,
    "start_time": "2023-04-20T22:07:04.012Z"
   },
   {
    "duration": 11,
    "start_time": "2023-04-20T22:07:04.032Z"
   },
   {
    "duration": 14,
    "start_time": "2023-04-20T22:07:04.045Z"
   },
   {
    "duration": 14,
    "start_time": "2023-04-20T22:07:04.061Z"
   },
   {
    "duration": 44,
    "start_time": "2023-04-20T22:07:04.077Z"
   },
   {
    "duration": 11,
    "start_time": "2023-04-20T22:07:04.123Z"
   },
   {
    "duration": 10,
    "start_time": "2023-04-20T22:07:04.136Z"
   },
   {
    "duration": 14,
    "start_time": "2023-04-20T22:11:49.389Z"
   },
   {
    "duration": 1326,
    "start_time": "2023-04-20T22:12:15.604Z"
   },
   {
    "duration": 932,
    "start_time": "2023-04-20T22:12:16.932Z"
   },
   {
    "duration": 17,
    "start_time": "2023-04-20T22:12:17.865Z"
   },
   {
    "duration": 20,
    "start_time": "2023-04-20T22:12:17.884Z"
   },
   {
    "duration": 3,
    "start_time": "2023-04-20T22:12:17.907Z"
   },
   {
    "duration": 4,
    "start_time": "2023-04-20T22:12:17.912Z"
   },
   {
    "duration": 20,
    "start_time": "2023-04-20T22:12:17.918Z"
   },
   {
    "duration": 40,
    "start_time": "2023-04-20T22:12:17.940Z"
   },
   {
    "duration": 25,
    "start_time": "2023-04-20T22:12:17.982Z"
   },
   {
    "duration": 21,
    "start_time": "2023-04-20T22:12:18.008Z"
   },
   {
    "duration": 17,
    "start_time": "2023-04-20T22:12:18.030Z"
   },
   {
    "duration": 20,
    "start_time": "2023-04-20T22:12:18.049Z"
   },
   {
    "duration": 42,
    "start_time": "2023-04-20T22:12:18.070Z"
   },
   {
    "duration": 30,
    "start_time": "2023-04-20T22:12:18.116Z"
   },
   {
    "duration": 9,
    "start_time": "2023-04-20T22:12:18.148Z"
   },
   {
    "duration": 22,
    "start_time": "2023-04-20T22:12:18.158Z"
   },
   {
    "duration": 21,
    "start_time": "2023-04-20T22:12:18.182Z"
   },
   {
    "duration": 7,
    "start_time": "2023-04-20T22:12:18.205Z"
   },
   {
    "duration": 22,
    "start_time": "2023-04-20T22:12:18.214Z"
   },
   {
    "duration": 16,
    "start_time": "2023-04-20T22:12:18.238Z"
   },
   {
    "duration": 4,
    "start_time": "2023-04-20T22:12:18.256Z"
   },
   {
    "duration": 11,
    "start_time": "2023-04-20T22:12:18.261Z"
   },
   {
    "duration": 6,
    "start_time": "2023-04-20T22:12:18.273Z"
   },
   {
    "duration": 16,
    "start_time": "2023-04-20T22:12:18.281Z"
   },
   {
    "duration": 5,
    "start_time": "2023-04-20T22:12:18.311Z"
   },
   {
    "duration": 40,
    "start_time": "2023-04-20T22:12:18.318Z"
   },
   {
    "duration": 147,
    "start_time": "2023-04-20T22:12:18.360Z"
   },
   {
    "duration": 244,
    "start_time": "2023-04-20T22:12:18.511Z"
   },
   {
    "duration": 8,
    "start_time": "2023-04-20T22:12:18.757Z"
   },
   {
    "duration": 25,
    "start_time": "2023-04-20T22:12:18.767Z"
   },
   {
    "duration": 17,
    "start_time": "2023-04-20T22:12:18.794Z"
   },
   {
    "duration": 377,
    "start_time": "2023-04-20T22:12:18.813Z"
   },
   {
    "duration": 168,
    "start_time": "2023-04-20T22:12:19.192Z"
   },
   {
    "duration": 12,
    "start_time": "2023-04-20T22:12:19.363Z"
   },
   {
    "duration": 11,
    "start_time": "2023-04-20T22:12:19.376Z"
   },
   {
    "duration": 32,
    "start_time": "2023-04-20T22:12:19.390Z"
   },
   {
    "duration": 7,
    "start_time": "2023-04-20T22:12:19.423Z"
   },
   {
    "duration": 132,
    "start_time": "2023-04-20T22:12:19.431Z"
   },
   {
    "duration": 148,
    "start_time": "2023-04-20T22:12:19.564Z"
   },
   {
    "duration": 2448,
    "start_time": "2023-04-20T22:12:19.714Z"
   },
   {
    "duration": 10,
    "start_time": "2023-04-20T22:12:22.168Z"
   },
   {
    "duration": 16,
    "start_time": "2023-04-20T22:12:22.180Z"
   },
   {
    "duration": 13,
    "start_time": "2023-04-20T22:12:22.211Z"
   },
   {
    "duration": 6325,
    "start_time": "2023-04-20T22:12:22.226Z"
   },
   {
    "duration": 164,
    "start_time": "2023-04-20T22:12:28.553Z"
   },
   {
    "duration": 11,
    "start_time": "2023-04-20T22:12:28.719Z"
   },
   {
    "duration": 10,
    "start_time": "2023-04-20T22:12:28.731Z"
   },
   {
    "duration": 151,
    "start_time": "2023-04-20T22:12:28.743Z"
   },
   {
    "duration": 168,
    "start_time": "2023-04-20T22:12:28.896Z"
   },
   {
    "duration": 9,
    "start_time": "2023-04-20T22:12:29.065Z"
   },
   {
    "duration": 749,
    "start_time": "2023-04-20T22:12:29.075Z"
   },
   {
    "duration": 7,
    "start_time": "2023-04-20T22:12:29.825Z"
   },
   {
    "duration": 700,
    "start_time": "2023-04-20T22:12:29.833Z"
   },
   {
    "duration": 11,
    "start_time": "2023-04-20T22:12:30.535Z"
   },
   {
    "duration": 29,
    "start_time": "2023-04-20T22:12:30.548Z"
   },
   {
    "duration": 389,
    "start_time": "2023-04-20T22:12:30.579Z"
   },
   {
    "duration": 8,
    "start_time": "2023-04-20T22:12:30.970Z"
   },
   {
    "duration": 42,
    "start_time": "2023-04-20T22:12:30.980Z"
   },
   {
    "duration": 38,
    "start_time": "2023-04-20T22:12:31.023Z"
   },
   {
    "duration": 40,
    "start_time": "2023-04-20T22:12:31.063Z"
   },
   {
    "duration": 332,
    "start_time": "2023-04-20T22:12:31.105Z"
   },
   {
    "duration": 6,
    "start_time": "2023-04-20T22:12:31.439Z"
   },
   {
    "duration": 35,
    "start_time": "2023-04-20T22:12:31.447Z"
   },
   {
    "duration": 301,
    "start_time": "2023-04-20T22:12:31.484Z"
   },
   {
    "duration": 26,
    "start_time": "2023-04-20T22:12:31.787Z"
   },
   {
    "duration": 21,
    "start_time": "2023-04-20T22:12:31.815Z"
   },
   {
    "duration": 58,
    "start_time": "2023-04-20T22:12:31.838Z"
   },
   {
    "duration": 417,
    "start_time": "2023-04-20T22:12:31.898Z"
   },
   {
    "duration": 5,
    "start_time": "2023-04-20T22:12:32.316Z"
   },
   {
    "duration": 37,
    "start_time": "2023-04-20T22:12:32.323Z"
   },
   {
    "duration": 332,
    "start_time": "2023-04-20T22:12:32.361Z"
   },
   {
    "duration": 6,
    "start_time": "2023-04-20T22:12:32.695Z"
   },
   {
    "duration": 28,
    "start_time": "2023-04-20T22:12:32.702Z"
   },
   {
    "duration": 255,
    "start_time": "2023-04-20T22:12:32.732Z"
   },
   {
    "duration": 6,
    "start_time": "2023-04-20T22:12:32.989Z"
   },
   {
    "duration": 13,
    "start_time": "2023-04-20T22:12:33.012Z"
   },
   {
    "duration": 273,
    "start_time": "2023-04-20T22:12:33.027Z"
   },
   {
    "duration": 26,
    "start_time": "2023-04-20T22:12:33.302Z"
   },
   {
    "duration": 5,
    "start_time": "2023-04-20T22:12:33.330Z"
   },
   {
    "duration": 1435,
    "start_time": "2023-04-20T22:12:33.337Z"
   },
   {
    "duration": 429,
    "start_time": "2023-04-20T22:12:34.774Z"
   },
   {
    "duration": 7,
    "start_time": "2023-04-20T22:12:35.205Z"
   },
   {
    "duration": 7,
    "start_time": "2023-04-20T22:12:35.213Z"
   },
   {
    "duration": 3,
    "start_time": "2023-04-20T22:12:35.222Z"
   },
   {
    "duration": 27,
    "start_time": "2023-04-20T22:12:35.227Z"
   },
   {
    "duration": 4,
    "start_time": "2023-04-20T22:12:35.256Z"
   },
   {
    "duration": 12,
    "start_time": "2023-04-20T22:12:35.262Z"
   },
   {
    "duration": 6,
    "start_time": "2023-04-20T22:12:35.276Z"
   },
   {
    "duration": 28,
    "start_time": "2023-04-20T22:12:35.284Z"
   },
   {
    "duration": 5,
    "start_time": "2023-04-20T22:12:35.314Z"
   },
   {
    "duration": 7,
    "start_time": "2023-04-20T22:12:35.320Z"
   },
   {
    "duration": 10,
    "start_time": "2023-04-20T22:12:35.329Z"
   },
   {
    "duration": 20,
    "start_time": "2023-04-20T22:12:35.341Z"
   },
   {
    "duration": 50,
    "start_time": "2023-04-20T22:12:35.363Z"
   },
   {
    "duration": 9,
    "start_time": "2023-04-20T22:12:35.415Z"
   },
   {
    "duration": 11,
    "start_time": "2023-04-20T22:12:35.426Z"
   },
   {
    "duration": 7,
    "start_time": "2023-04-20T22:12:35.438Z"
   },
   {
    "duration": 16,
    "start_time": "2023-04-20T22:12:35.447Z"
   },
   {
    "duration": 17,
    "start_time": "2023-04-20T22:12:35.464Z"
   },
   {
    "duration": 10,
    "start_time": "2023-04-20T22:12:35.511Z"
   },
   {
    "duration": 9,
    "start_time": "2023-04-20T22:12:35.523Z"
   },
   {
    "duration": 10,
    "start_time": "2023-04-20T22:12:35.534Z"
   },
   {
    "duration": 9,
    "start_time": "2023-04-20T22:12:35.546Z"
   },
   {
    "duration": 9,
    "start_time": "2023-04-20T22:12:35.557Z"
   },
   {
    "duration": 49,
    "start_time": "2023-04-20T22:12:35.568Z"
   },
   {
    "duration": 1314,
    "start_time": "2023-04-20T22:14:37.894Z"
   },
   {
    "duration": 1072,
    "start_time": "2023-04-20T22:14:39.212Z"
   },
   {
    "duration": 18,
    "start_time": "2023-04-20T22:14:40.285Z"
   },
   {
    "duration": 29,
    "start_time": "2023-04-20T22:14:40.305Z"
   },
   {
    "duration": 14,
    "start_time": "2023-04-20T22:14:40.336Z"
   },
   {
    "duration": 3,
    "start_time": "2023-04-20T22:14:40.352Z"
   },
   {
    "duration": 15,
    "start_time": "2023-04-20T22:14:40.357Z"
   },
   {
    "duration": 22,
    "start_time": "2023-04-20T22:14:40.374Z"
   },
   {
    "duration": 5,
    "start_time": "2023-04-20T22:14:40.398Z"
   },
   {
    "duration": 15,
    "start_time": "2023-04-20T22:14:40.405Z"
   },
   {
    "duration": 10,
    "start_time": "2023-04-20T22:14:40.422Z"
   },
   {
    "duration": 24,
    "start_time": "2023-04-20T22:14:40.433Z"
   },
   {
    "duration": 8,
    "start_time": "2023-04-20T22:14:40.459Z"
   },
   {
    "duration": 8,
    "start_time": "2023-04-20T22:14:40.471Z"
   },
   {
    "duration": 32,
    "start_time": "2023-04-20T22:14:40.480Z"
   },
   {
    "duration": 9,
    "start_time": "2023-04-20T22:14:40.513Z"
   },
   {
    "duration": 9,
    "start_time": "2023-04-20T22:14:40.524Z"
   },
   {
    "duration": 4,
    "start_time": "2023-04-20T22:14:40.535Z"
   },
   {
    "duration": 10,
    "start_time": "2023-04-20T22:14:40.540Z"
   },
   {
    "duration": 13,
    "start_time": "2023-04-20T22:14:40.552Z"
   },
   {
    "duration": 46,
    "start_time": "2023-04-20T22:14:40.567Z"
   },
   {
    "duration": 42,
    "start_time": "2023-04-20T22:14:40.615Z"
   },
   {
    "duration": 4,
    "start_time": "2023-04-20T22:14:40.660Z"
   },
   {
    "duration": 19,
    "start_time": "2023-04-20T22:14:40.666Z"
   },
   {
    "duration": 7,
    "start_time": "2023-04-20T22:14:40.687Z"
   },
   {
    "duration": 34,
    "start_time": "2023-04-20T22:14:40.696Z"
   },
   {
    "duration": 155,
    "start_time": "2023-04-20T22:14:40.731Z"
   },
   {
    "duration": 227,
    "start_time": "2023-04-20T22:14:40.887Z"
   },
   {
    "duration": 9,
    "start_time": "2023-04-20T22:14:41.116Z"
   },
   {
    "duration": 10,
    "start_time": "2023-04-20T22:14:41.127Z"
   },
   {
    "duration": 5,
    "start_time": "2023-04-20T22:14:41.139Z"
   },
   {
    "duration": 341,
    "start_time": "2023-04-20T22:14:41.146Z"
   },
   {
    "duration": 164,
    "start_time": "2023-04-20T22:14:41.488Z"
   },
   {
    "duration": 12,
    "start_time": "2023-04-20T22:14:41.654Z"
   },
   {
    "duration": 10,
    "start_time": "2023-04-20T22:14:41.667Z"
   },
   {
    "duration": 33,
    "start_time": "2023-04-20T22:14:41.679Z"
   },
   {
    "duration": 9,
    "start_time": "2023-04-20T22:14:41.714Z"
   },
   {
    "duration": 135,
    "start_time": "2023-04-20T22:14:41.724Z"
   },
   {
    "duration": 142,
    "start_time": "2023-04-20T22:14:41.861Z"
   },
   {
    "duration": 2439,
    "start_time": "2023-04-20T22:14:42.005Z"
   },
   {
    "duration": 10,
    "start_time": "2023-04-20T22:14:44.449Z"
   },
   {
    "duration": 8,
    "start_time": "2023-04-20T22:14:44.461Z"
   },
   {
    "duration": 30,
    "start_time": "2023-04-20T22:14:44.471Z"
   },
   {
    "duration": 6174,
    "start_time": "2023-04-20T22:14:44.502Z"
   },
   {
    "duration": 153,
    "start_time": "2023-04-20T22:14:50.678Z"
   },
   {
    "duration": 10,
    "start_time": "2023-04-20T22:14:50.833Z"
   },
   {
    "duration": 11,
    "start_time": "2023-04-20T22:14:50.845Z"
   },
   {
    "duration": 139,
    "start_time": "2023-04-20T22:14:50.857Z"
   },
   {
    "duration": 126,
    "start_time": "2023-04-20T22:14:50.997Z"
   },
   {
    "duration": 8,
    "start_time": "2023-04-20T22:14:51.125Z"
   },
   {
    "duration": 999,
    "start_time": "2023-04-20T22:14:51.135Z"
   },
   {
    "duration": 7,
    "start_time": "2023-04-20T22:14:52.136Z"
   },
   {
    "duration": 782,
    "start_time": "2023-04-20T22:14:52.145Z"
   },
   {
    "duration": 11,
    "start_time": "2023-04-20T22:14:52.929Z"
   },
   {
    "duration": 17,
    "start_time": "2023-04-20T22:14:52.942Z"
   },
   {
    "duration": 354,
    "start_time": "2023-04-20T22:14:52.960Z"
   },
   {
    "duration": 9,
    "start_time": "2023-04-20T22:14:53.315Z"
   },
   {
    "duration": 8,
    "start_time": "2023-04-20T22:14:53.326Z"
   },
   {
    "duration": 17,
    "start_time": "2023-04-20T22:14:53.336Z"
   },
   {
    "duration": 50,
    "start_time": "2023-04-20T22:14:53.356Z"
   },
   {
    "duration": 317,
    "start_time": "2023-04-20T22:14:53.408Z"
   },
   {
    "duration": 6,
    "start_time": "2023-04-20T22:14:53.727Z"
   },
   {
    "duration": 53,
    "start_time": "2023-04-20T22:14:53.735Z"
   },
   {
    "duration": 298,
    "start_time": "2023-04-20T22:14:53.790Z"
   },
   {
    "duration": 24,
    "start_time": "2023-04-20T22:14:54.091Z"
   },
   {
    "duration": 13,
    "start_time": "2023-04-20T22:14:54.117Z"
   },
   {
    "duration": 17,
    "start_time": "2023-04-20T22:14:54.131Z"
   },
   {
    "duration": 451,
    "start_time": "2023-04-20T22:14:54.151Z"
   },
   {
    "duration": 7,
    "start_time": "2023-04-20T22:14:54.612Z"
   },
   {
    "duration": 18,
    "start_time": "2023-04-20T22:14:54.621Z"
   },
   {
    "duration": 346,
    "start_time": "2023-04-20T22:14:54.641Z"
   },
   {
    "duration": 7,
    "start_time": "2023-04-20T22:14:54.988Z"
   },
   {
    "duration": 29,
    "start_time": "2023-04-20T22:14:54.997Z"
   },
   {
    "duration": 265,
    "start_time": "2023-04-20T22:14:55.028Z"
   },
   {
    "duration": 17,
    "start_time": "2023-04-20T22:14:55.295Z"
   },
   {
    "duration": 13,
    "start_time": "2023-04-20T22:14:55.315Z"
   },
   {
    "duration": 282,
    "start_time": "2023-04-20T22:14:55.330Z"
   },
   {
    "duration": 19,
    "start_time": "2023-04-20T22:14:55.613Z"
   },
   {
    "duration": 4,
    "start_time": "2023-04-20T22:14:55.634Z"
   },
   {
    "duration": 1421,
    "start_time": "2023-04-20T22:14:55.640Z"
   },
   {
    "duration": 406,
    "start_time": "2023-04-20T22:14:57.062Z"
   },
   {
    "duration": 2,
    "start_time": "2023-04-20T22:14:57.470Z"
   },
   {
    "duration": 7,
    "start_time": "2023-04-20T22:14:57.474Z"
   },
   {
    "duration": 5,
    "start_time": "2023-04-20T22:14:57.482Z"
   },
   {
    "duration": 36,
    "start_time": "2023-04-20T22:14:57.488Z"
   },
   {
    "duration": 3,
    "start_time": "2023-04-20T22:14:57.526Z"
   },
   {
    "duration": 9,
    "start_time": "2023-04-20T22:14:57.530Z"
   },
   {
    "duration": 4,
    "start_time": "2023-04-20T22:14:57.540Z"
   },
   {
    "duration": 14,
    "start_time": "2023-04-20T22:14:57.545Z"
   },
   {
    "duration": 5,
    "start_time": "2023-04-20T22:14:57.560Z"
   },
   {
    "duration": 7,
    "start_time": "2023-04-20T22:14:57.567Z"
   },
   {
    "duration": 7,
    "start_time": "2023-04-20T22:14:57.576Z"
   },
   {
    "duration": 42,
    "start_time": "2023-04-20T22:14:57.585Z"
   },
   {
    "duration": 17,
    "start_time": "2023-04-20T22:14:57.629Z"
   },
   {
    "duration": 9,
    "start_time": "2023-04-20T22:14:57.647Z"
   },
   {
    "duration": 6,
    "start_time": "2023-04-20T22:14:57.658Z"
   },
   {
    "duration": 5,
    "start_time": "2023-04-20T22:14:57.666Z"
   },
   {
    "duration": 51,
    "start_time": "2023-04-20T22:14:57.673Z"
   },
   {
    "duration": 17,
    "start_time": "2023-04-20T22:14:57.726Z"
   },
   {
    "duration": 9,
    "start_time": "2023-04-20T22:14:57.745Z"
   },
   {
    "duration": 10,
    "start_time": "2023-04-20T22:14:57.755Z"
   },
   {
    "duration": 9,
    "start_time": "2023-04-20T22:14:57.767Z"
   },
   {
    "duration": 54,
    "start_time": "2023-04-20T22:14:57.777Z"
   },
   {
    "duration": 10,
    "start_time": "2023-04-20T22:14:57.833Z"
   },
   {
    "duration": 9,
    "start_time": "2023-04-20T22:14:57.844Z"
   },
   {
    "duration": 1289,
    "start_time": "2023-04-20T22:18:01.381Z"
   },
   {
    "duration": 903,
    "start_time": "2023-04-20T22:18:02.672Z"
   },
   {
    "duration": 18,
    "start_time": "2023-04-20T22:18:03.576Z"
   },
   {
    "duration": 29,
    "start_time": "2023-04-20T22:18:03.596Z"
   },
   {
    "duration": 20,
    "start_time": "2023-04-20T22:18:03.628Z"
   },
   {
    "duration": 10,
    "start_time": "2023-04-20T22:18:03.650Z"
   },
   {
    "duration": 14,
    "start_time": "2023-04-20T22:18:03.662Z"
   },
   {
    "duration": 13,
    "start_time": "2023-04-20T22:18:03.677Z"
   },
   {
    "duration": 5,
    "start_time": "2023-04-20T22:18:03.692Z"
   },
   {
    "duration": 21,
    "start_time": "2023-04-20T22:18:03.699Z"
   },
   {
    "duration": 10,
    "start_time": "2023-04-20T22:18:03.721Z"
   },
   {
    "duration": 14,
    "start_time": "2023-04-20T22:18:03.733Z"
   },
   {
    "duration": 9,
    "start_time": "2023-04-20T22:18:03.750Z"
   },
   {
    "duration": 10,
    "start_time": "2023-04-20T22:18:03.763Z"
   },
   {
    "duration": 43,
    "start_time": "2023-04-20T22:18:03.774Z"
   },
   {
    "duration": 11,
    "start_time": "2023-04-20T22:18:03.819Z"
   },
   {
    "duration": 14,
    "start_time": "2023-04-20T22:18:03.834Z"
   },
   {
    "duration": 5,
    "start_time": "2023-04-20T22:18:03.850Z"
   },
   {
    "duration": 10,
    "start_time": "2023-04-20T22:18:03.857Z"
   },
   {
    "duration": 52,
    "start_time": "2023-04-20T22:18:03.869Z"
   },
   {
    "duration": 5,
    "start_time": "2023-04-20T22:18:03.926Z"
   },
   {
    "duration": 40,
    "start_time": "2023-04-20T22:18:03.933Z"
   },
   {
    "duration": 5,
    "start_time": "2023-04-20T22:18:03.975Z"
   },
   {
    "duration": 6,
    "start_time": "2023-04-20T22:18:03.982Z"
   },
   {
    "duration": 5,
    "start_time": "2023-04-20T22:18:03.989Z"
   },
   {
    "duration": 34,
    "start_time": "2023-04-20T22:18:03.996Z"
   },
   {
    "duration": 142,
    "start_time": "2023-04-20T22:18:04.032Z"
   },
   {
    "duration": 229,
    "start_time": "2023-04-20T22:18:04.176Z"
   },
   {
    "duration": 11,
    "start_time": "2023-04-20T22:18:04.407Z"
   },
   {
    "duration": 8,
    "start_time": "2023-04-20T22:18:04.420Z"
   },
   {
    "duration": 6,
    "start_time": "2023-04-20T22:18:04.430Z"
   },
   {
    "duration": 382,
    "start_time": "2023-04-20T22:18:04.437Z"
   },
   {
    "duration": 176,
    "start_time": "2023-04-20T22:18:04.821Z"
   },
   {
    "duration": 18,
    "start_time": "2023-04-20T22:18:04.999Z"
   },
   {
    "duration": 11,
    "start_time": "2023-04-20T22:18:05.019Z"
   },
   {
    "duration": 13,
    "start_time": "2023-04-20T22:18:05.031Z"
   },
   {
    "duration": 8,
    "start_time": "2023-04-20T22:18:05.045Z"
   },
   {
    "duration": 147,
    "start_time": "2023-04-20T22:18:05.054Z"
   },
   {
    "duration": 141,
    "start_time": "2023-04-20T22:18:05.203Z"
   },
   {
    "duration": 2432,
    "start_time": "2023-04-20T22:18:05.346Z"
   },
   {
    "duration": 9,
    "start_time": "2023-04-20T22:18:07.783Z"
   },
   {
    "duration": 20,
    "start_time": "2023-04-20T22:18:07.794Z"
   },
   {
    "duration": 12,
    "start_time": "2023-04-20T22:18:07.816Z"
   },
   {
    "duration": 6191,
    "start_time": "2023-04-20T22:18:07.830Z"
   },
   {
    "duration": 149,
    "start_time": "2023-04-20T22:18:14.022Z"
   },
   {
    "duration": 11,
    "start_time": "2023-04-20T22:18:14.173Z"
   },
   {
    "duration": 26,
    "start_time": "2023-04-20T22:18:14.186Z"
   },
   {
    "duration": 118,
    "start_time": "2023-04-20T22:18:14.215Z"
   },
   {
    "duration": 131,
    "start_time": "2023-04-20T22:18:14.334Z"
   },
   {
    "duration": 9,
    "start_time": "2023-04-20T22:18:14.466Z"
   },
   {
    "duration": 752,
    "start_time": "2023-04-20T22:18:14.476Z"
   },
   {
    "duration": 8,
    "start_time": "2023-04-20T22:18:15.230Z"
   },
   {
    "duration": 665,
    "start_time": "2023-04-20T22:18:15.239Z"
   },
   {
    "duration": 12,
    "start_time": "2023-04-20T22:18:15.906Z"
   },
   {
    "duration": 11,
    "start_time": "2023-04-20T22:18:15.920Z"
   },
   {
    "duration": 337,
    "start_time": "2023-04-20T22:18:15.933Z"
   },
   {
    "duration": 9,
    "start_time": "2023-04-20T22:18:16.271Z"
   },
   {
    "duration": 5,
    "start_time": "2023-04-20T22:18:16.282Z"
   },
   {
    "duration": 25,
    "start_time": "2023-04-20T22:18:16.288Z"
   },
   {
    "duration": 13,
    "start_time": "2023-04-20T22:18:16.314Z"
   },
   {
    "duration": 285,
    "start_time": "2023-04-20T22:18:16.328Z"
   },
   {
    "duration": 6,
    "start_time": "2023-04-20T22:18:16.615Z"
   },
   {
    "duration": 18,
    "start_time": "2023-04-20T22:18:16.623Z"
   },
   {
    "duration": 248,
    "start_time": "2023-04-20T22:18:16.643Z"
   },
   {
    "duration": 23,
    "start_time": "2023-04-20T22:18:16.892Z"
   },
   {
    "duration": 11,
    "start_time": "2023-04-20T22:18:16.917Z"
   },
   {
    "duration": 12,
    "start_time": "2023-04-20T22:18:16.930Z"
   },
   {
    "duration": 446,
    "start_time": "2023-04-20T22:18:16.944Z"
   },
   {
    "duration": 5,
    "start_time": "2023-04-20T22:18:17.393Z"
   },
   {
    "duration": 18,
    "start_time": "2023-04-20T22:18:17.412Z"
   },
   {
    "duration": 282,
    "start_time": "2023-04-20T22:18:17.432Z"
   },
   {
    "duration": 6,
    "start_time": "2023-04-20T22:18:17.715Z"
   },
   {
    "duration": 22,
    "start_time": "2023-04-20T22:18:17.723Z"
   },
   {
    "duration": 241,
    "start_time": "2023-04-20T22:18:17.747Z"
   },
   {
    "duration": 21,
    "start_time": "2023-04-20T22:18:17.990Z"
   },
   {
    "duration": 11,
    "start_time": "2023-04-20T22:18:18.013Z"
   },
   {
    "duration": 252,
    "start_time": "2023-04-20T22:18:18.026Z"
   },
   {
    "duration": 32,
    "start_time": "2023-04-20T22:18:18.280Z"
   },
   {
    "duration": 4,
    "start_time": "2023-04-20T22:18:18.314Z"
   },
   {
    "duration": 1459,
    "start_time": "2023-04-20T22:18:18.321Z"
   },
   {
    "duration": 408,
    "start_time": "2023-04-20T22:18:19.783Z"
   },
   {
    "duration": 4,
    "start_time": "2023-04-20T22:18:20.193Z"
   },
   {
    "duration": 17,
    "start_time": "2023-04-20T22:18:20.199Z"
   },
   {
    "duration": 19,
    "start_time": "2023-04-20T22:18:20.217Z"
   },
   {
    "duration": 44,
    "start_time": "2023-04-20T22:18:20.238Z"
   },
   {
    "duration": 18,
    "start_time": "2023-04-20T22:18:20.284Z"
   },
   {
    "duration": 33,
    "start_time": "2023-04-20T22:18:20.304Z"
   },
   {
    "duration": 24,
    "start_time": "2023-04-20T22:18:20.339Z"
   },
   {
    "duration": 7,
    "start_time": "2023-04-20T22:18:20.365Z"
   },
   {
    "duration": 21,
    "start_time": "2023-04-20T22:18:20.374Z"
   },
   {
    "duration": 12,
    "start_time": "2023-04-20T22:18:20.397Z"
   },
   {
    "duration": 32,
    "start_time": "2023-04-20T22:18:20.411Z"
   },
   {
    "duration": 30,
    "start_time": "2023-04-20T22:18:20.445Z"
   },
   {
    "duration": 19,
    "start_time": "2023-04-20T22:18:20.477Z"
   },
   {
    "duration": 10,
    "start_time": "2023-04-20T22:18:20.497Z"
   },
   {
    "duration": 18,
    "start_time": "2023-04-20T22:18:20.508Z"
   },
   {
    "duration": 19,
    "start_time": "2023-04-20T22:18:20.528Z"
   },
   {
    "duration": 29,
    "start_time": "2023-04-20T22:18:20.549Z"
   },
   {
    "duration": 26,
    "start_time": "2023-04-20T22:18:20.580Z"
   },
   {
    "duration": 10,
    "start_time": "2023-04-20T22:18:20.608Z"
   },
   {
    "duration": 22,
    "start_time": "2023-04-20T22:18:20.620Z"
   },
   {
    "duration": 23,
    "start_time": "2023-04-20T22:18:20.644Z"
   },
   {
    "duration": 12,
    "start_time": "2023-04-20T22:18:20.668Z"
   },
   {
    "duration": 22,
    "start_time": "2023-04-20T22:18:20.682Z"
   },
   {
    "duration": 11,
    "start_time": "2023-04-20T22:18:20.706Z"
   },
   {
    "duration": 1437,
    "start_time": "2023-04-21T11:52:29.854Z"
   },
   {
    "duration": 933,
    "start_time": "2023-04-21T11:52:31.293Z"
   },
   {
    "duration": 20,
    "start_time": "2023-04-21T11:52:32.228Z"
   },
   {
    "duration": 14,
    "start_time": "2023-04-21T11:52:32.251Z"
   },
   {
    "duration": 7,
    "start_time": "2023-04-21T11:52:32.267Z"
   },
   {
    "duration": 20,
    "start_time": "2023-04-21T11:52:32.277Z"
   },
   {
    "duration": 18,
    "start_time": "2023-04-21T11:52:32.298Z"
   },
   {
    "duration": 36,
    "start_time": "2023-04-21T11:52:32.317Z"
   },
   {
    "duration": 15,
    "start_time": "2023-04-21T11:52:32.355Z"
   },
   {
    "duration": 16,
    "start_time": "2023-04-21T11:52:32.373Z"
   },
   {
    "duration": 12,
    "start_time": "2023-04-21T11:52:32.391Z"
   },
   {
    "duration": 14,
    "start_time": "2023-04-21T11:52:32.405Z"
   },
   {
    "duration": 13,
    "start_time": "2023-04-21T11:52:32.420Z"
   },
   {
    "duration": 11,
    "start_time": "2023-04-21T11:52:32.436Z"
   },
   {
    "duration": 19,
    "start_time": "2023-04-21T11:52:32.449Z"
   },
   {
    "duration": 10,
    "start_time": "2023-04-21T11:52:32.470Z"
   },
   {
    "duration": 11,
    "start_time": "2023-04-21T11:52:32.482Z"
   },
   {
    "duration": 10,
    "start_time": "2023-04-21T11:52:32.495Z"
   },
   {
    "duration": 35,
    "start_time": "2023-04-21T11:52:32.507Z"
   },
   {
    "duration": 38,
    "start_time": "2023-04-21T11:52:32.544Z"
   },
   {
    "duration": 12,
    "start_time": "2023-04-21T11:52:32.583Z"
   },
   {
    "duration": 10,
    "start_time": "2023-04-21T11:52:32.596Z"
   },
   {
    "duration": 9,
    "start_time": "2023-04-21T11:52:32.608Z"
   },
   {
    "duration": 11,
    "start_time": "2023-04-21T11:52:32.619Z"
   },
   {
    "duration": 14,
    "start_time": "2023-04-21T11:52:32.632Z"
   },
   {
    "duration": 37,
    "start_time": "2023-04-21T11:52:32.648Z"
   },
   {
    "duration": 159,
    "start_time": "2023-04-21T11:52:32.687Z"
   },
   {
    "duration": 249,
    "start_time": "2023-04-21T11:52:32.852Z"
   },
   {
    "duration": 11,
    "start_time": "2023-04-21T11:52:33.102Z"
   },
   {
    "duration": 26,
    "start_time": "2023-04-21T11:52:33.115Z"
   },
   {
    "duration": 18,
    "start_time": "2023-04-21T11:52:33.143Z"
   },
   {
    "duration": 406,
    "start_time": "2023-04-21T11:52:33.163Z"
   },
   {
    "duration": 193,
    "start_time": "2023-04-21T11:52:33.571Z"
   },
   {
    "duration": 15,
    "start_time": "2023-04-21T11:52:33.766Z"
   },
   {
    "duration": 13,
    "start_time": "2023-04-21T11:52:33.782Z"
   },
   {
    "duration": 10,
    "start_time": "2023-04-21T11:52:33.797Z"
   },
   {
    "duration": 31,
    "start_time": "2023-04-21T11:52:33.809Z"
   },
   {
    "duration": 132,
    "start_time": "2023-04-21T11:52:33.842Z"
   },
   {
    "duration": 189,
    "start_time": "2023-04-21T11:52:33.977Z"
   },
   {
    "duration": 2976,
    "start_time": "2023-04-21T11:52:34.168Z"
   },
   {
    "duration": 14,
    "start_time": "2023-04-21T11:52:37.149Z"
   },
   {
    "duration": 11,
    "start_time": "2023-04-21T11:52:37.165Z"
   },
   {
    "duration": 21,
    "start_time": "2023-04-21T11:52:37.179Z"
   },
   {
    "duration": 6537,
    "start_time": "2023-04-21T11:52:37.202Z"
   },
   {
    "duration": 160,
    "start_time": "2023-04-21T11:52:43.741Z"
   },
   {
    "duration": 12,
    "start_time": "2023-04-21T11:52:43.903Z"
   },
   {
    "duration": 26,
    "start_time": "2023-04-21T11:52:43.917Z"
   },
   {
    "duration": 145,
    "start_time": "2023-04-21T11:52:43.945Z"
   },
   {
    "duration": 133,
    "start_time": "2023-04-21T11:52:44.092Z"
   },
   {
    "duration": 13,
    "start_time": "2023-04-21T11:52:44.227Z"
   },
   {
    "duration": 699,
    "start_time": "2023-04-21T11:52:44.242Z"
   },
   {
    "duration": 7,
    "start_time": "2023-04-21T11:52:44.943Z"
   },
   {
    "duration": 700,
    "start_time": "2023-04-21T11:52:44.951Z"
   },
   {
    "duration": 12,
    "start_time": "2023-04-21T11:52:45.653Z"
   },
   {
    "duration": 11,
    "start_time": "2023-04-21T11:52:45.667Z"
   },
   {
    "duration": 367,
    "start_time": "2023-04-21T11:52:45.680Z"
   },
   {
    "duration": 11,
    "start_time": "2023-04-21T11:52:46.049Z"
   },
   {
    "duration": 13,
    "start_time": "2023-04-21T11:52:46.063Z"
   },
   {
    "duration": 18,
    "start_time": "2023-04-21T11:52:46.078Z"
   },
   {
    "duration": 32,
    "start_time": "2023-04-21T11:52:46.098Z"
   },
   {
    "duration": 301,
    "start_time": "2023-04-21T11:52:46.132Z"
   },
   {
    "duration": 6,
    "start_time": "2023-04-21T11:52:46.436Z"
   },
   {
    "duration": 28,
    "start_time": "2023-04-21T11:52:46.444Z"
   },
   {
    "duration": 228,
    "start_time": "2023-04-21T11:52:46.473Z"
   },
   {
    "duration": 13,
    "start_time": "2023-04-21T11:52:46.703Z"
   },
   {
    "duration": 17,
    "start_time": "2023-04-21T11:52:46.717Z"
   },
   {
    "duration": 19,
    "start_time": "2023-04-21T11:52:46.736Z"
   },
   {
    "duration": 436,
    "start_time": "2023-04-21T11:52:46.756Z"
   },
   {
    "duration": 5,
    "start_time": "2023-04-21T11:52:47.194Z"
   },
   {
    "duration": 16,
    "start_time": "2023-04-21T11:52:47.201Z"
   },
   {
    "duration": 297,
    "start_time": "2023-04-21T11:52:47.218Z"
   },
   {
    "duration": 18,
    "start_time": "2023-04-21T11:52:47.517Z"
   },
   {
    "duration": 20,
    "start_time": "2023-04-21T11:52:47.537Z"
   },
   {
    "duration": 266,
    "start_time": "2023-04-21T11:52:47.559Z"
   },
   {
    "duration": 6,
    "start_time": "2023-04-21T11:52:47.833Z"
   },
   {
    "duration": 18,
    "start_time": "2023-04-21T11:52:47.841Z"
   },
   {
    "duration": 264,
    "start_time": "2023-04-21T11:52:47.860Z"
   },
   {
    "duration": 20,
    "start_time": "2023-04-21T11:52:48.133Z"
   },
   {
    "duration": 4,
    "start_time": "2023-04-21T11:52:48.155Z"
   },
   {
    "duration": 1477,
    "start_time": "2023-04-21T11:52:48.161Z"
   },
   {
    "duration": 424,
    "start_time": "2023-04-21T11:52:49.640Z"
   },
   {
    "duration": 7,
    "start_time": "2023-04-21T11:52:50.077Z"
   },
   {
    "duration": 12,
    "start_time": "2023-04-21T11:52:50.086Z"
   },
   {
    "duration": 23,
    "start_time": "2023-04-21T11:52:50.100Z"
   },
   {
    "duration": 35,
    "start_time": "2023-04-21T11:52:50.125Z"
   },
   {
    "duration": 6,
    "start_time": "2023-04-21T11:52:50.162Z"
   },
   {
    "duration": 15,
    "start_time": "2023-04-21T11:52:50.169Z"
   },
   {
    "duration": 18,
    "start_time": "2023-04-21T11:52:50.185Z"
   },
   {
    "duration": 14,
    "start_time": "2023-04-21T11:52:50.205Z"
   },
   {
    "duration": 9,
    "start_time": "2023-04-21T11:52:50.221Z"
   },
   {
    "duration": 12,
    "start_time": "2023-04-21T11:52:50.232Z"
   },
   {
    "duration": 10,
    "start_time": "2023-04-21T11:52:50.246Z"
   },
   {
    "duration": 30,
    "start_time": "2023-04-21T11:52:50.258Z"
   },
   {
    "duration": 20,
    "start_time": "2023-04-21T11:52:50.290Z"
   },
   {
    "duration": 23,
    "start_time": "2023-04-21T11:52:50.312Z"
   },
   {
    "duration": 5,
    "start_time": "2023-04-21T11:52:50.337Z"
   },
   {
    "duration": 7,
    "start_time": "2023-04-21T11:52:50.344Z"
   },
   {
    "duration": 23,
    "start_time": "2023-04-21T11:52:50.353Z"
   },
   {
    "duration": 18,
    "start_time": "2023-04-21T11:52:50.378Z"
   },
   {
    "duration": 41,
    "start_time": "2023-04-21T11:52:50.397Z"
   },
   {
    "duration": 10,
    "start_time": "2023-04-21T11:52:50.440Z"
   },
   {
    "duration": 15,
    "start_time": "2023-04-21T11:52:50.451Z"
   },
   {
    "duration": 10,
    "start_time": "2023-04-21T11:52:50.468Z"
   },
   {
    "duration": 16,
    "start_time": "2023-04-21T11:52:50.480Z"
   },
   {
    "duration": 36,
    "start_time": "2023-04-21T11:52:50.498Z"
   },
   {
    "duration": 1705,
    "start_time": "2023-04-21T12:11:52.112Z"
   },
   {
    "duration": 1230,
    "start_time": "2023-04-21T12:11:53.820Z"
   },
   {
    "duration": 21,
    "start_time": "2023-04-21T12:11:55.052Z"
   },
   {
    "duration": 15,
    "start_time": "2023-04-21T12:11:55.075Z"
   },
   {
    "duration": 4,
    "start_time": "2023-04-21T12:11:55.093Z"
   },
   {
    "duration": 5,
    "start_time": "2023-04-21T12:11:55.112Z"
   },
   {
    "duration": 21,
    "start_time": "2023-04-21T12:11:55.119Z"
   },
   {
    "duration": 11,
    "start_time": "2023-04-21T12:11:55.142Z"
   },
   {
    "duration": 6,
    "start_time": "2023-04-21T12:11:55.155Z"
   },
   {
    "duration": 50,
    "start_time": "2023-04-21T12:11:55.163Z"
   },
   {
    "duration": 10,
    "start_time": "2023-04-21T12:11:55.215Z"
   },
   {
    "duration": 8,
    "start_time": "2023-04-21T12:11:55.227Z"
   },
   {
    "duration": 8,
    "start_time": "2023-04-21T12:11:55.237Z"
   },
   {
    "duration": 10,
    "start_time": "2023-04-21T12:11:55.249Z"
   },
   {
    "duration": 52,
    "start_time": "2023-04-21T12:11:55.261Z"
   },
   {
    "duration": 11,
    "start_time": "2023-04-21T12:11:55.315Z"
   },
   {
    "duration": 12,
    "start_time": "2023-04-21T12:11:55.328Z"
   },
   {
    "duration": 6,
    "start_time": "2023-04-21T12:11:55.342Z"
   },
   {
    "duration": 11,
    "start_time": "2023-04-21T12:11:55.350Z"
   },
   {
    "duration": 52,
    "start_time": "2023-04-21T12:11:55.362Z"
   },
   {
    "duration": 10,
    "start_time": "2023-04-21T12:11:55.417Z"
   },
   {
    "duration": 8,
    "start_time": "2023-04-21T12:11:55.428Z"
   },
   {
    "duration": 5,
    "start_time": "2023-04-21T12:11:55.438Z"
   },
   {
    "duration": 7,
    "start_time": "2023-04-21T12:11:55.444Z"
   },
   {
    "duration": 23,
    "start_time": "2023-04-21T12:11:55.452Z"
   },
   {
    "duration": 72,
    "start_time": "2023-04-21T12:11:55.477Z"
   },
   {
    "duration": 209,
    "start_time": "2023-04-21T12:11:55.552Z"
   },
   {
    "duration": 241,
    "start_time": "2023-04-21T12:11:55.763Z"
   },
   {
    "duration": 13,
    "start_time": "2023-04-21T12:11:56.006Z"
   },
   {
    "duration": 10,
    "start_time": "2023-04-21T12:11:56.021Z"
   },
   {
    "duration": 11,
    "start_time": "2023-04-21T12:11:56.033Z"
   },
   {
    "duration": 357,
    "start_time": "2023-04-21T12:11:56.046Z"
   },
   {
    "duration": 181,
    "start_time": "2023-04-21T12:11:56.405Z"
   },
   {
    "duration": 25,
    "start_time": "2023-04-21T12:11:56.588Z"
   },
   {
    "duration": 13,
    "start_time": "2023-04-21T12:11:56.615Z"
   },
   {
    "duration": 11,
    "start_time": "2023-04-21T12:11:56.629Z"
   },
   {
    "duration": 8,
    "start_time": "2023-04-21T12:11:56.641Z"
   },
   {
    "duration": 145,
    "start_time": "2023-04-21T12:11:56.651Z"
   },
   {
    "duration": 180,
    "start_time": "2023-04-21T12:11:56.798Z"
   },
   {
    "duration": 2644,
    "start_time": "2023-04-21T12:11:56.980Z"
   },
   {
    "duration": 10,
    "start_time": "2023-04-21T12:11:59.631Z"
   },
   {
    "duration": 11,
    "start_time": "2023-04-21T12:11:59.644Z"
   },
   {
    "duration": 14,
    "start_time": "2023-04-21T12:11:59.658Z"
   },
   {
    "duration": 6454,
    "start_time": "2023-04-21T12:11:59.674Z"
   },
   {
    "duration": 159,
    "start_time": "2023-04-21T12:12:06.130Z"
   },
   {
    "duration": 27,
    "start_time": "2023-04-21T12:12:06.292Z"
   },
   {
    "duration": 14,
    "start_time": "2023-04-21T12:12:06.321Z"
   },
   {
    "duration": 145,
    "start_time": "2023-04-21T12:12:06.336Z"
   },
   {
    "duration": 158,
    "start_time": "2023-04-21T12:12:06.483Z"
   },
   {
    "duration": 9,
    "start_time": "2023-04-21T12:12:06.643Z"
   },
   {
    "duration": 728,
    "start_time": "2023-04-21T12:12:06.654Z"
   },
   {
    "duration": 8,
    "start_time": "2023-04-21T12:12:07.384Z"
   },
   {
    "duration": 702,
    "start_time": "2023-04-21T12:12:07.394Z"
   },
   {
    "duration": 15,
    "start_time": "2023-04-21T12:12:08.098Z"
   },
   {
    "duration": 12,
    "start_time": "2023-04-21T12:12:08.114Z"
   },
   {
    "duration": 350,
    "start_time": "2023-04-21T12:12:08.127Z"
   },
   {
    "duration": 9,
    "start_time": "2023-04-21T12:12:08.478Z"
   },
   {
    "duration": 23,
    "start_time": "2023-04-21T12:12:08.490Z"
   },
   {
    "duration": 17,
    "start_time": "2023-04-21T12:12:08.515Z"
   },
   {
    "duration": 16,
    "start_time": "2023-04-21T12:12:08.534Z"
   },
   {
    "duration": 412,
    "start_time": "2023-04-21T12:12:08.553Z"
   },
   {
    "duration": 9,
    "start_time": "2023-04-21T12:12:08.967Z"
   },
   {
    "duration": 43,
    "start_time": "2023-04-21T12:12:08.979Z"
   },
   {
    "duration": 265,
    "start_time": "2023-04-21T12:12:09.025Z"
   },
   {
    "duration": 22,
    "start_time": "2023-04-21T12:12:09.292Z"
   },
   {
    "duration": 17,
    "start_time": "2023-04-21T12:12:09.315Z"
   },
   {
    "duration": 11,
    "start_time": "2023-04-21T12:12:09.334Z"
   },
   {
    "duration": 465,
    "start_time": "2023-04-21T12:12:09.347Z"
   },
   {
    "duration": 7,
    "start_time": "2023-04-21T12:12:09.814Z"
   },
   {
    "duration": 13,
    "start_time": "2023-04-21T12:12:09.823Z"
   },
   {
    "duration": 280,
    "start_time": "2023-04-21T12:12:09.838Z"
   },
   {
    "duration": 8,
    "start_time": "2023-04-21T12:12:10.120Z"
   },
   {
    "duration": 33,
    "start_time": "2023-04-21T12:12:10.130Z"
   },
   {
    "duration": 257,
    "start_time": "2023-04-21T12:12:10.165Z"
   },
   {
    "duration": 6,
    "start_time": "2023-04-21T12:12:10.424Z"
   },
   {
    "duration": 17,
    "start_time": "2023-04-21T12:12:10.432Z"
   },
   {
    "duration": 272,
    "start_time": "2023-04-21T12:12:10.451Z"
   },
   {
    "duration": 19,
    "start_time": "2023-04-21T12:12:10.725Z"
   },
   {
    "duration": 5,
    "start_time": "2023-04-21T12:12:10.747Z"
   },
   {
    "duration": 1534,
    "start_time": "2023-04-21T12:12:10.754Z"
   },
   {
    "duration": 419,
    "start_time": "2023-04-21T12:12:12.290Z"
   },
   {
    "duration": 3,
    "start_time": "2023-04-21T12:12:12.711Z"
   },
   {
    "duration": 9,
    "start_time": "2023-04-21T12:12:12.716Z"
   },
   {
    "duration": 10,
    "start_time": "2023-04-21T12:12:12.726Z"
   },
   {
    "duration": 38,
    "start_time": "2023-04-21T12:12:12.738Z"
   },
   {
    "duration": 5,
    "start_time": "2023-04-21T12:12:12.778Z"
   },
   {
    "duration": 18,
    "start_time": "2023-04-21T12:12:12.784Z"
   },
   {
    "duration": 27,
    "start_time": "2023-04-21T12:12:12.803Z"
   },
   {
    "duration": 12,
    "start_time": "2023-04-21T12:12:12.832Z"
   },
   {
    "duration": 23,
    "start_time": "2023-04-21T12:12:12.846Z"
   },
   {
    "duration": 31,
    "start_time": "2023-04-21T12:12:12.871Z"
   },
   {
    "duration": 12,
    "start_time": "2023-04-21T12:12:12.904Z"
   },
   {
    "duration": 20,
    "start_time": "2023-04-21T12:12:12.918Z"
   },
   {
    "duration": 19,
    "start_time": "2023-04-21T12:12:12.939Z"
   },
   {
    "duration": 9,
    "start_time": "2023-04-21T12:12:12.960Z"
   },
   {
    "duration": 7,
    "start_time": "2023-04-21T12:12:12.971Z"
   },
   {
    "duration": 36,
    "start_time": "2023-04-21T12:12:12.980Z"
   },
   {
    "duration": 23,
    "start_time": "2023-04-21T12:12:13.017Z"
   },
   {
    "duration": 18,
    "start_time": "2023-04-21T12:12:13.042Z"
   },
   {
    "duration": 9,
    "start_time": "2023-04-21T12:12:13.062Z"
   },
   {
    "duration": 43,
    "start_time": "2023-04-21T12:12:13.072Z"
   },
   {
    "duration": 10,
    "start_time": "2023-04-21T12:12:13.117Z"
   },
   {
    "duration": 11,
    "start_time": "2023-04-21T12:12:13.129Z"
   },
   {
    "duration": 13,
    "start_time": "2023-04-21T12:12:13.142Z"
   },
   {
    "duration": 12,
    "start_time": "2023-04-21T12:12:13.157Z"
   },
   {
    "duration": 1402,
    "start_time": "2023-04-21T14:28:56.088Z"
   },
   {
    "duration": 1263,
    "start_time": "2023-04-21T14:28:57.492Z"
   },
   {
    "duration": 25,
    "start_time": "2023-04-21T14:28:58.758Z"
   },
   {
    "duration": 18,
    "start_time": "2023-04-21T14:28:58.786Z"
   },
   {
    "duration": 4,
    "start_time": "2023-04-21T14:28:58.806Z"
   },
   {
    "duration": 13,
    "start_time": "2023-04-21T14:28:58.812Z"
   },
   {
    "duration": 16,
    "start_time": "2023-04-21T14:28:58.830Z"
   },
   {
    "duration": 10,
    "start_time": "2023-04-21T14:28:58.848Z"
   },
   {
    "duration": 6,
    "start_time": "2023-04-21T14:28:58.860Z"
   },
   {
    "duration": 13,
    "start_time": "2023-04-21T14:28:58.868Z"
   },
   {
    "duration": 16,
    "start_time": "2023-04-21T14:28:58.915Z"
   },
   {
    "duration": 10,
    "start_time": "2023-04-21T14:28:58.932Z"
   },
   {
    "duration": 15,
    "start_time": "2023-04-21T14:28:58.947Z"
   },
   {
    "duration": 11,
    "start_time": "2023-04-21T14:28:58.965Z"
   },
   {
    "duration": 9,
    "start_time": "2023-04-21T14:28:58.978Z"
   },
   {
    "duration": 35,
    "start_time": "2023-04-21T14:28:58.988Z"
   },
   {
    "duration": 21,
    "start_time": "2023-04-21T14:28:59.024Z"
   },
   {
    "duration": 7,
    "start_time": "2023-04-21T14:28:59.047Z"
   },
   {
    "duration": 13,
    "start_time": "2023-04-21T14:28:59.056Z"
   },
   {
    "duration": 55,
    "start_time": "2023-04-21T14:28:59.072Z"
   },
   {
    "duration": 8,
    "start_time": "2023-04-21T14:28:59.130Z"
   },
   {
    "duration": 7,
    "start_time": "2023-04-21T14:28:59.142Z"
   },
   {
    "duration": 7,
    "start_time": "2023-04-21T14:28:59.151Z"
   },
   {
    "duration": 11,
    "start_time": "2023-04-21T14:28:59.160Z"
   },
   {
    "duration": 6,
    "start_time": "2023-04-21T14:28:59.173Z"
   },
   {
    "duration": 45,
    "start_time": "2023-04-21T14:28:59.217Z"
   },
   {
    "duration": 221,
    "start_time": "2023-04-21T14:28:59.264Z"
   },
   {
    "duration": 267,
    "start_time": "2023-04-21T14:28:59.490Z"
   },
   {
    "duration": 9,
    "start_time": "2023-04-21T14:28:59.759Z"
   },
   {
    "duration": 12,
    "start_time": "2023-04-21T14:28:59.769Z"
   },
   {
    "duration": 30,
    "start_time": "2023-04-21T14:28:59.783Z"
   },
   {
    "duration": 381,
    "start_time": "2023-04-21T14:28:59.815Z"
   },
   {
    "duration": 196,
    "start_time": "2023-04-21T14:29:00.198Z"
   },
   {
    "duration": 27,
    "start_time": "2023-04-21T14:29:00.398Z"
   },
   {
    "duration": 97,
    "start_time": "2023-04-21T14:29:00.427Z"
   },
   {
    "duration": 79,
    "start_time": "2023-04-21T14:29:00.526Z"
   },
   {
    "duration": 45,
    "start_time": "2023-04-21T14:29:00.608Z"
   },
   {
    "duration": 203,
    "start_time": "2023-04-21T14:29:00.656Z"
   },
   {
    "duration": 175,
    "start_time": "2023-04-21T14:29:00.861Z"
   },
   {
    "duration": 2708,
    "start_time": "2023-04-21T14:29:01.038Z"
   },
   {
    "duration": 9,
    "start_time": "2023-04-21T14:29:03.748Z"
   },
   {
    "duration": 41,
    "start_time": "2023-04-21T14:29:03.759Z"
   },
   {
    "duration": 44,
    "start_time": "2023-04-21T14:29:03.803Z"
   },
   {
    "duration": 6782,
    "start_time": "2023-04-21T14:29:03.850Z"
   },
   {
    "duration": 170,
    "start_time": "2023-04-21T14:29:10.633Z"
   },
   {
    "duration": 24,
    "start_time": "2023-04-21T14:29:10.805Z"
   },
   {
    "duration": 10,
    "start_time": "2023-04-21T14:29:10.831Z"
   },
   {
    "duration": 131,
    "start_time": "2023-04-21T14:29:10.842Z"
   },
   {
    "duration": 133,
    "start_time": "2023-04-21T14:29:10.976Z"
   },
   {
    "duration": 15,
    "start_time": "2023-04-21T14:29:11.112Z"
   },
   {
    "duration": 802,
    "start_time": "2023-04-21T14:29:11.129Z"
   },
   {
    "duration": 7,
    "start_time": "2023-04-21T14:29:11.933Z"
   },
   {
    "duration": 704,
    "start_time": "2023-04-21T14:29:11.942Z"
   },
   {
    "duration": 12,
    "start_time": "2023-04-21T14:29:12.648Z"
   },
   {
    "duration": 12,
    "start_time": "2023-04-21T14:29:12.662Z"
   },
   {
    "duration": 393,
    "start_time": "2023-04-21T14:29:12.676Z"
   },
   {
    "duration": 10,
    "start_time": "2023-04-21T14:29:13.071Z"
   },
   {
    "duration": 11,
    "start_time": "2023-04-21T14:29:13.083Z"
   },
   {
    "duration": 11,
    "start_time": "2023-04-21T14:29:13.120Z"
   },
   {
    "duration": 19,
    "start_time": "2023-04-21T14:29:13.133Z"
   },
   {
    "duration": 330,
    "start_time": "2023-04-21T14:29:13.154Z"
   },
   {
    "duration": 8,
    "start_time": "2023-04-21T14:29:13.486Z"
   },
   {
    "duration": 19,
    "start_time": "2023-04-21T14:29:13.512Z"
   },
   {
    "duration": 258,
    "start_time": "2023-04-21T14:29:13.533Z"
   },
   {
    "duration": 27,
    "start_time": "2023-04-21T14:29:13.793Z"
   },
   {
    "duration": 19,
    "start_time": "2023-04-21T14:29:13.822Z"
   },
   {
    "duration": 21,
    "start_time": "2023-04-21T14:29:13.843Z"
   },
   {
    "duration": 463,
    "start_time": "2023-04-21T14:29:13.866Z"
   },
   {
    "duration": 6,
    "start_time": "2023-04-21T14:29:14.331Z"
   },
   {
    "duration": 16,
    "start_time": "2023-04-21T14:29:14.339Z"
   },
   {
    "duration": 292,
    "start_time": "2023-04-21T14:29:14.356Z"
   },
   {
    "duration": 5,
    "start_time": "2023-04-21T14:29:14.650Z"
   },
   {
    "duration": 17,
    "start_time": "2023-04-21T14:29:14.656Z"
   },
   {
    "duration": 330,
    "start_time": "2023-04-21T14:29:14.675Z"
   },
   {
    "duration": 11,
    "start_time": "2023-04-21T14:29:15.019Z"
   },
   {
    "duration": 34,
    "start_time": "2023-04-21T14:29:15.032Z"
   },
   {
    "duration": 327,
    "start_time": "2023-04-21T14:29:15.068Z"
   },
   {
    "duration": 36,
    "start_time": "2023-04-21T14:29:15.396Z"
   },
   {
    "duration": 15,
    "start_time": "2023-04-21T14:29:15.434Z"
   },
   {
    "duration": 1633,
    "start_time": "2023-04-21T14:29:15.451Z"
   },
   {
    "duration": 436,
    "start_time": "2023-04-21T14:29:17.087Z"
   },
   {
    "duration": 3,
    "start_time": "2023-04-21T14:29:17.531Z"
   },
   {
    "duration": 8,
    "start_time": "2023-04-21T14:29:17.536Z"
   },
   {
    "duration": 4,
    "start_time": "2023-04-21T14:29:17.546Z"
   },
   {
    "duration": 26,
    "start_time": "2023-04-21T14:29:17.552Z"
   },
   {
    "duration": 4,
    "start_time": "2023-04-21T14:29:17.579Z"
   },
   {
    "duration": 35,
    "start_time": "2023-04-21T14:29:17.585Z"
   },
   {
    "duration": 4,
    "start_time": "2023-04-21T14:29:17.621Z"
   },
   {
    "duration": 10,
    "start_time": "2023-04-21T14:29:17.629Z"
   },
   {
    "duration": 19,
    "start_time": "2023-04-21T14:29:17.640Z"
   },
   {
    "duration": 9,
    "start_time": "2023-04-21T14:29:17.661Z"
   },
   {
    "duration": 12,
    "start_time": "2023-04-21T14:29:17.671Z"
   },
   {
    "duration": 20,
    "start_time": "2023-04-21T14:29:17.684Z"
   },
   {
    "duration": 28,
    "start_time": "2023-04-21T14:29:17.717Z"
   },
   {
    "duration": 14,
    "start_time": "2023-04-21T14:29:17.747Z"
   },
   {
    "duration": 8,
    "start_time": "2023-04-21T14:29:17.763Z"
   },
   {
    "duration": 7,
    "start_time": "2023-04-21T14:29:17.773Z"
   },
   {
    "duration": 48,
    "start_time": "2023-04-21T14:29:17.782Z"
   },
   {
    "duration": 25,
    "start_time": "2023-04-21T14:29:17.832Z"
   },
   {
    "duration": 13,
    "start_time": "2023-04-21T14:29:17.860Z"
   },
   {
    "duration": 48,
    "start_time": "2023-04-21T14:29:17.875Z"
   },
   {
    "duration": 14,
    "start_time": "2023-04-21T14:29:17.925Z"
   },
   {
    "duration": 11,
    "start_time": "2023-04-21T14:29:17.941Z"
   },
   {
    "duration": 11,
    "start_time": "2023-04-21T14:29:17.954Z"
   },
   {
    "duration": 10,
    "start_time": "2023-04-21T14:29:17.967Z"
   },
   {
    "duration": 151,
    "start_time": "2023-04-21T14:44:50.543Z"
   },
   {
    "duration": 55,
    "start_time": "2023-04-21T14:45:10.937Z"
   },
   {
    "duration": 35,
    "start_time": "2023-04-21T14:45:47.491Z"
   },
   {
    "duration": 1049,
    "start_time": "2023-04-21T14:46:24.659Z"
   },
   {
    "duration": 12,
    "start_time": "2023-04-21T14:46:37.441Z"
   },
   {
    "duration": 203,
    "start_time": "2023-04-21T14:47:07.045Z"
   },
   {
    "duration": 33,
    "start_time": "2023-04-21T14:47:41.210Z"
   },
   {
    "duration": 18,
    "start_time": "2023-04-21T14:47:48.270Z"
   },
   {
    "duration": 24,
    "start_time": "2023-04-21T14:48:16.292Z"
   },
   {
    "duration": 19,
    "start_time": "2023-04-21T14:48:33.783Z"
   },
   {
    "duration": 25,
    "start_time": "2023-04-21T14:49:01.525Z"
   },
   {
    "duration": 21,
    "start_time": "2023-04-21T14:49:27.273Z"
   },
   {
    "duration": 22,
    "start_time": "2023-04-21T14:49:45.832Z"
   },
   {
    "duration": 55,
    "start_time": "2023-04-21T14:51:15.635Z"
   },
   {
    "duration": 11,
    "start_time": "2023-04-21T14:51:21.382Z"
   },
   {
    "duration": 1474,
    "start_time": "2023-04-21T15:07:26.350Z"
   },
   {
    "duration": 1147,
    "start_time": "2023-04-21T15:07:27.833Z"
   },
   {
    "duration": 24,
    "start_time": "2023-04-21T15:07:28.984Z"
   },
   {
    "duration": 34,
    "start_time": "2023-04-21T15:07:29.010Z"
   },
   {
    "duration": 11,
    "start_time": "2023-04-21T15:07:29.050Z"
   },
   {
    "duration": 13,
    "start_time": "2023-04-21T15:07:29.063Z"
   },
   {
    "duration": 22,
    "start_time": "2023-04-21T15:07:29.079Z"
   },
   {
    "duration": 15,
    "start_time": "2023-04-21T15:07:29.132Z"
   },
   {
    "duration": 35,
    "start_time": "2023-04-21T15:07:29.149Z"
   },
   {
    "duration": 36,
    "start_time": "2023-04-21T15:07:29.186Z"
   },
   {
    "duration": 34,
    "start_time": "2023-04-21T15:07:29.225Z"
   },
   {
    "duration": 13,
    "start_time": "2023-04-21T15:07:29.263Z"
   },
   {
    "duration": 40,
    "start_time": "2023-04-21T15:07:29.279Z"
   },
   {
    "duration": 32,
    "start_time": "2023-04-21T15:07:29.330Z"
   },
   {
    "duration": 13,
    "start_time": "2023-04-21T15:07:29.364Z"
   },
   {
    "duration": 16,
    "start_time": "2023-04-21T15:07:29.380Z"
   },
   {
    "duration": 51,
    "start_time": "2023-04-21T15:07:29.398Z"
   },
   {
    "duration": 18,
    "start_time": "2023-04-21T15:07:29.455Z"
   },
   {
    "duration": 13,
    "start_time": "2023-04-21T15:07:29.475Z"
   },
   {
    "duration": 42,
    "start_time": "2023-04-21T15:07:29.490Z"
   },
   {
    "duration": 15,
    "start_time": "2023-04-21T15:07:29.536Z"
   },
   {
    "duration": 8,
    "start_time": "2023-04-21T15:07:29.557Z"
   },
   {
    "duration": 12,
    "start_time": "2023-04-21T15:07:29.567Z"
   },
   {
    "duration": 17,
    "start_time": "2023-04-21T15:07:29.582Z"
   },
   {
    "duration": 6,
    "start_time": "2023-04-21T15:07:29.604Z"
   },
   {
    "duration": 77,
    "start_time": "2023-04-21T15:07:29.619Z"
   },
   {
    "duration": 234,
    "start_time": "2023-04-21T15:07:29.698Z"
   },
   {
    "duration": 310,
    "start_time": "2023-04-21T15:07:29.935Z"
   },
   {
    "duration": 11,
    "start_time": "2023-04-21T15:07:30.248Z"
   },
   {
    "duration": 46,
    "start_time": "2023-04-21T15:07:30.261Z"
   },
   {
    "duration": 35,
    "start_time": "2023-04-21T15:07:30.309Z"
   },
   {
    "duration": 432,
    "start_time": "2023-04-21T15:07:30.346Z"
   },
   {
    "duration": 203,
    "start_time": "2023-04-21T15:07:30.779Z"
   },
   {
    "duration": 37,
    "start_time": "2023-04-21T15:07:30.984Z"
   },
   {
    "duration": 22,
    "start_time": "2023-04-21T15:07:31.023Z"
   },
   {
    "duration": 57,
    "start_time": "2023-04-21T15:07:31.047Z"
   },
   {
    "duration": 38,
    "start_time": "2023-04-21T15:07:31.107Z"
   },
   {
    "duration": 196,
    "start_time": "2023-04-21T15:07:31.147Z"
   },
   {
    "duration": 157,
    "start_time": "2023-04-21T15:07:31.348Z"
   },
   {
    "duration": 2884,
    "start_time": "2023-04-21T15:07:31.507Z"
   },
   {
    "duration": 22,
    "start_time": "2023-04-21T15:07:34.399Z"
   },
   {
    "duration": 12,
    "start_time": "2023-04-21T15:07:34.431Z"
   },
   {
    "duration": 13,
    "start_time": "2023-04-21T15:07:34.446Z"
   },
   {
    "duration": 7659,
    "start_time": "2023-04-21T15:07:34.461Z"
   },
   {
    "duration": 183,
    "start_time": "2023-04-21T15:07:42.125Z"
   },
   {
    "duration": 29,
    "start_time": "2023-04-21T15:07:42.313Z"
   },
   {
    "duration": 12,
    "start_time": "2023-04-21T15:07:42.349Z"
   },
   {
    "duration": 193,
    "start_time": "2023-04-21T15:07:42.362Z"
   },
   {
    "duration": 159,
    "start_time": "2023-04-21T15:07:42.557Z"
   },
   {
    "duration": 23,
    "start_time": "2023-04-21T15:07:42.718Z"
   },
   {
    "duration": 902,
    "start_time": "2023-04-21T15:07:42.743Z"
   },
   {
    "duration": 8,
    "start_time": "2023-04-21T15:07:43.648Z"
   },
   {
    "duration": 834,
    "start_time": "2023-04-21T15:07:43.658Z"
   },
   {
    "duration": 48,
    "start_time": "2023-04-21T15:07:44.493Z"
   },
   {
    "duration": 16,
    "start_time": "2023-04-21T15:07:44.546Z"
   },
   {
    "duration": 451,
    "start_time": "2023-04-21T15:07:44.564Z"
   },
   {
    "duration": 24,
    "start_time": "2023-04-21T15:07:45.027Z"
   },
   {
    "duration": 5,
    "start_time": "2023-04-21T15:07:45.057Z"
   },
   {
    "duration": 14,
    "start_time": "2023-04-21T15:07:45.064Z"
   },
   {
    "duration": 26,
    "start_time": "2023-04-21T15:07:45.080Z"
   },
   {
    "duration": 371,
    "start_time": "2023-04-21T15:07:45.108Z"
   },
   {
    "duration": 6,
    "start_time": "2023-04-21T15:07:45.481Z"
   },
   {
    "duration": 51,
    "start_time": "2023-04-21T15:07:45.489Z"
   },
   {
    "duration": 248,
    "start_time": "2023-04-21T15:07:45.551Z"
   },
   {
    "duration": 19,
    "start_time": "2023-04-21T15:07:45.801Z"
   },
   {
    "duration": 27,
    "start_time": "2023-04-21T15:07:45.822Z"
   },
   {
    "duration": 18,
    "start_time": "2023-04-21T15:07:45.851Z"
   },
   {
    "duration": 504,
    "start_time": "2023-04-21T15:07:45.871Z"
   },
   {
    "duration": 8,
    "start_time": "2023-04-21T15:07:46.378Z"
   },
   {
    "duration": 35,
    "start_time": "2023-04-21T15:07:46.389Z"
   },
   {
    "duration": 313,
    "start_time": "2023-04-21T15:07:46.427Z"
   },
   {
    "duration": 12,
    "start_time": "2023-04-21T15:07:46.742Z"
   },
   {
    "duration": 13,
    "start_time": "2023-04-21T15:07:46.756Z"
   },
   {
    "duration": 322,
    "start_time": "2023-04-21T15:07:46.771Z"
   },
   {
    "duration": 6,
    "start_time": "2023-04-21T15:07:47.094Z"
   },
   {
    "duration": 34,
    "start_time": "2023-04-21T15:07:47.102Z"
   },
   {
    "duration": 284,
    "start_time": "2023-04-21T15:07:47.138Z"
   },
   {
    "duration": 28,
    "start_time": "2023-04-21T15:07:47.424Z"
   },
   {
    "duration": 5,
    "start_time": "2023-04-21T15:07:47.454Z"
   },
   {
    "duration": 1691,
    "start_time": "2023-04-21T15:07:47.461Z"
   },
   {
    "duration": 456,
    "start_time": "2023-04-21T15:07:49.154Z"
   },
   {
    "duration": 9,
    "start_time": "2023-04-21T15:07:49.630Z"
   },
   {
    "duration": 15,
    "start_time": "2023-04-21T15:07:49.641Z"
   },
   {
    "duration": 8,
    "start_time": "2023-04-21T15:07:49.658Z"
   },
   {
    "duration": 29,
    "start_time": "2023-04-21T15:07:49.668Z"
   },
   {
    "duration": 5,
    "start_time": "2023-04-21T15:07:49.700Z"
   },
   {
    "duration": 22,
    "start_time": "2023-04-21T15:07:49.719Z"
   },
   {
    "duration": 4,
    "start_time": "2023-04-21T15:07:49.743Z"
   },
   {
    "duration": 8,
    "start_time": "2023-04-21T15:07:49.749Z"
   },
   {
    "duration": 5,
    "start_time": "2023-04-21T15:07:49.759Z"
   },
   {
    "duration": 8,
    "start_time": "2023-04-21T15:07:49.765Z"
   },
   {
    "duration": 6,
    "start_time": "2023-04-21T15:07:49.775Z"
   },
   {
    "duration": 60,
    "start_time": "2023-04-21T15:07:49.783Z"
   },
   {
    "duration": 19,
    "start_time": "2023-04-21T15:07:49.844Z"
   },
   {
    "duration": 10,
    "start_time": "2023-04-21T15:07:49.865Z"
   },
   {
    "duration": 43,
    "start_time": "2023-04-21T15:07:49.877Z"
   },
   {
    "duration": 8,
    "start_time": "2023-04-21T15:07:49.931Z"
   },
   {
    "duration": 24,
    "start_time": "2023-04-21T15:07:49.940Z"
   },
   {
    "duration": 24,
    "start_time": "2023-04-21T15:07:49.966Z"
   },
   {
    "duration": 33,
    "start_time": "2023-04-21T15:07:49.992Z"
   },
   {
    "duration": 24,
    "start_time": "2023-04-21T15:07:50.028Z"
   },
   {
    "duration": 14,
    "start_time": "2023-04-21T15:07:50.055Z"
   },
   {
    "duration": 34,
    "start_time": "2023-04-21T15:07:50.071Z"
   },
   {
    "duration": 43,
    "start_time": "2023-04-21T15:07:50.107Z"
   },
   {
    "duration": 13,
    "start_time": "2023-04-21T15:07:50.152Z"
   },
   {
    "duration": 12,
    "start_time": "2023-04-21T15:07:50.167Z"
   },
   {
    "duration": 18,
    "start_time": "2023-04-22T10:43:49.707Z"
   },
   {
    "duration": 1047,
    "start_time": "2023-04-22T10:43:49.727Z"
   },
   {
    "duration": 12,
    "start_time": "2023-04-22T10:43:50.776Z"
   },
   {
    "duration": 68,
    "start_time": "2023-04-22T10:43:50.791Z"
   },
   {
    "duration": 4,
    "start_time": "2023-04-22T10:43:50.861Z"
   },
   {
    "duration": 4,
    "start_time": "2023-04-22T10:43:50.867Z"
   },
   {
    "duration": 11,
    "start_time": "2023-04-22T10:43:50.873Z"
   },
   {
    "duration": 15,
    "start_time": "2023-04-22T10:43:50.885Z"
   },
   {
    "duration": 6,
    "start_time": "2023-04-22T10:43:50.902Z"
   },
   {
    "duration": 16,
    "start_time": "2023-04-22T10:43:50.909Z"
   },
   {
    "duration": 12,
    "start_time": "2023-04-22T10:43:50.928Z"
   },
   {
    "duration": 9,
    "start_time": "2023-04-22T10:43:50.942Z"
   },
   {
    "duration": 12,
    "start_time": "2023-04-22T10:43:50.993Z"
   },
   {
    "duration": 11,
    "start_time": "2023-04-22T10:43:51.007Z"
   },
   {
    "duration": 11,
    "start_time": "2023-04-22T10:43:51.021Z"
   },
   {
    "duration": 8,
    "start_time": "2023-04-22T10:43:51.035Z"
   },
   {
    "duration": 46,
    "start_time": "2023-04-22T10:43:51.045Z"
   },
   {
    "duration": 6,
    "start_time": "2023-04-22T10:43:51.094Z"
   },
   {
    "duration": 18,
    "start_time": "2023-04-22T10:43:51.102Z"
   },
   {
    "duration": 17,
    "start_time": "2023-04-22T10:43:51.122Z"
   },
   {
    "duration": 4,
    "start_time": "2023-04-22T10:43:51.140Z"
   },
   {
    "duration": 12,
    "start_time": "2023-04-22T10:43:51.146Z"
   },
   {
    "duration": 27,
    "start_time": "2023-04-22T10:43:51.161Z"
   },
   {
    "duration": 6,
    "start_time": "2023-04-22T10:43:51.190Z"
   },
   {
    "duration": 7,
    "start_time": "2023-04-22T10:43:51.198Z"
   },
   {
    "duration": 47,
    "start_time": "2023-04-22T10:43:51.206Z"
   },
   {
    "duration": 168,
    "start_time": "2023-04-22T10:43:51.254Z"
   },
   {
    "duration": 245,
    "start_time": "2023-04-22T10:43:51.426Z"
   },
   {
    "duration": 13,
    "start_time": "2023-04-22T10:43:51.673Z"
   },
   {
    "duration": 24,
    "start_time": "2023-04-22T10:43:51.688Z"
   },
   {
    "duration": 8,
    "start_time": "2023-04-22T10:43:51.714Z"
   },
   {
    "duration": 435,
    "start_time": "2023-04-22T10:43:51.725Z"
   },
   {
    "duration": 159,
    "start_time": "2023-04-22T10:43:52.162Z"
   },
   {
    "duration": 14,
    "start_time": "2023-04-22T10:43:52.323Z"
   },
   {
    "duration": 12,
    "start_time": "2023-04-22T10:43:52.339Z"
   },
   {
    "duration": 33,
    "start_time": "2023-04-22T10:43:52.352Z"
   },
   {
    "duration": 10,
    "start_time": "2023-04-22T10:43:52.388Z"
   },
   {
    "duration": 151,
    "start_time": "2023-04-22T10:43:52.400Z"
   },
   {
    "duration": 138,
    "start_time": "2023-04-22T10:43:52.552Z"
   },
   {
    "duration": 2667,
    "start_time": "2023-04-22T10:43:52.692Z"
   },
   {
    "duration": 9,
    "start_time": "2023-04-22T10:43:55.362Z"
   },
   {
    "duration": 22,
    "start_time": "2023-04-22T10:43:55.373Z"
   },
   {
    "duration": 20,
    "start_time": "2023-04-22T10:43:55.397Z"
   },
   {
    "duration": 6215,
    "start_time": "2023-04-22T10:43:55.420Z"
   },
   {
    "duration": 164,
    "start_time": "2023-04-22T10:44:01.637Z"
   },
   {
    "duration": 15,
    "start_time": "2023-04-22T10:44:01.804Z"
   },
   {
    "duration": 60,
    "start_time": "2023-04-22T10:44:01.821Z"
   },
   {
    "duration": 160,
    "start_time": "2023-04-22T10:44:01.883Z"
   },
   {
    "duration": 135,
    "start_time": "2023-04-22T10:44:02.045Z"
   },
   {
    "duration": 11,
    "start_time": "2023-04-22T10:44:02.181Z"
   },
   {
    "duration": 380,
    "start_time": "2023-04-22T10:44:02.194Z"
   },
   {
    "duration": 19,
    "start_time": "2023-04-22T10:44:02.576Z"
   },
   {
    "duration": 747,
    "start_time": "2023-04-22T10:44:02.597Z"
   },
   {
    "duration": 11,
    "start_time": "2023-04-22T10:44:03.346Z"
   },
   {
    "duration": 12,
    "start_time": "2023-04-22T10:44:03.359Z"
   },
   {
    "duration": 322,
    "start_time": "2023-04-22T10:44:03.387Z"
   },
   {
    "duration": 10,
    "start_time": "2023-04-22T10:44:03.711Z"
   },
   {
    "duration": 5,
    "start_time": "2023-04-22T10:44:03.724Z"
   },
   {
    "duration": 7,
    "start_time": "2023-04-22T10:44:03.731Z"
   },
   {
    "duration": 12,
    "start_time": "2023-04-22T10:44:03.740Z"
   },
   {
    "duration": 379,
    "start_time": "2023-04-22T10:44:03.786Z"
   },
   {
    "duration": 23,
    "start_time": "2023-04-22T10:44:04.167Z"
   },
   {
    "duration": 24,
    "start_time": "2023-04-22T10:44:04.192Z"
   },
   {
    "duration": 274,
    "start_time": "2023-04-22T10:44:04.219Z"
   },
   {
    "duration": 15,
    "start_time": "2023-04-22T10:44:04.495Z"
   },
   {
    "duration": 7,
    "start_time": "2023-04-22T10:44:04.512Z"
   },
   {
    "duration": 21,
    "start_time": "2023-04-22T10:44:04.521Z"
   },
   {
    "duration": 331,
    "start_time": "2023-04-22T10:44:04.544Z"
   },
   {
    "duration": 13,
    "start_time": "2023-04-22T10:44:04.877Z"
   },
   {
    "duration": 29,
    "start_time": "2023-04-22T10:44:04.892Z"
   },
   {
    "duration": 312,
    "start_time": "2023-04-22T10:44:04.923Z"
   },
   {
    "duration": 5,
    "start_time": "2023-04-22T10:44:05.237Z"
   },
   {
    "duration": 11,
    "start_time": "2023-04-22T10:44:05.243Z"
   },
   {
    "duration": 316,
    "start_time": "2023-04-22T10:44:05.255Z"
   },
   {
    "duration": 17,
    "start_time": "2023-04-22T10:44:05.573Z"
   },
   {
    "duration": 18,
    "start_time": "2023-04-22T10:44:05.592Z"
   },
   {
    "duration": 289,
    "start_time": "2023-04-22T10:44:05.615Z"
   },
   {
    "duration": 31,
    "start_time": "2023-04-22T10:44:05.906Z"
   },
   {
    "duration": 6,
    "start_time": "2023-04-22T10:44:05.939Z"
   },
   {
    "duration": 2027,
    "start_time": "2023-04-22T10:44:05.947Z"
   },
   {
    "duration": 442,
    "start_time": "2023-04-22T10:44:07.984Z"
   },
   {
    "duration": 7,
    "start_time": "2023-04-22T10:44:08.429Z"
   },
   {
    "duration": 14,
    "start_time": "2023-04-22T10:44:08.438Z"
   },
   {
    "duration": 9,
    "start_time": "2023-04-22T10:44:08.454Z"
   },
   {
    "duration": 40,
    "start_time": "2023-04-22T10:44:08.465Z"
   },
   {
    "duration": 8,
    "start_time": "2023-04-22T10:44:08.507Z"
   },
   {
    "duration": 20,
    "start_time": "2023-04-22T10:44:08.517Z"
   },
   {
    "duration": 6,
    "start_time": "2023-04-22T10:44:08.539Z"
   },
   {
    "duration": 19,
    "start_time": "2023-04-22T10:44:08.547Z"
   },
   {
    "duration": 6,
    "start_time": "2023-04-22T10:44:08.568Z"
   },
   {
    "duration": 19,
    "start_time": "2023-04-22T10:44:08.576Z"
   },
   {
    "duration": 16,
    "start_time": "2023-04-22T10:44:08.597Z"
   },
   {
    "duration": 26,
    "start_time": "2023-04-22T10:44:08.615Z"
   },
   {
    "duration": 20,
    "start_time": "2023-04-22T10:44:08.643Z"
   },
   {
    "duration": 25,
    "start_time": "2023-04-22T10:44:08.665Z"
   },
   {
    "duration": 6,
    "start_time": "2023-04-22T10:44:08.692Z"
   },
   {
    "duration": 14,
    "start_time": "2023-04-22T10:44:08.701Z"
   },
   {
    "duration": 27,
    "start_time": "2023-04-22T10:44:08.717Z"
   },
   {
    "duration": 51,
    "start_time": "2023-04-22T10:44:08.746Z"
   },
   {
    "duration": 12,
    "start_time": "2023-04-22T10:44:08.799Z"
   },
   {
    "duration": 19,
    "start_time": "2023-04-22T10:44:08.813Z"
   },
   {
    "duration": 11,
    "start_time": "2023-04-22T10:44:08.835Z"
   },
   {
    "duration": 42,
    "start_time": "2023-04-22T10:44:08.848Z"
   },
   {
    "duration": 14,
    "start_time": "2023-04-22T10:44:08.893Z"
   },
   {
    "duration": 12,
    "start_time": "2023-04-22T10:44:08.909Z"
   },
   {
    "duration": 13,
    "start_time": "2023-04-22T10:44:08.923Z"
   },
   {
    "duration": 1449,
    "start_time": "2023-07-25T10:13:36.643Z"
   },
   {
    "duration": 1348,
    "start_time": "2023-07-25T10:13:38.094Z"
   },
   {
    "duration": 18,
    "start_time": "2023-07-25T10:13:39.444Z"
   },
   {
    "duration": 14,
    "start_time": "2023-07-25T10:13:39.464Z"
   },
   {
    "duration": 4,
    "start_time": "2023-07-25T10:13:39.480Z"
   },
   {
    "duration": 19,
    "start_time": "2023-07-25T10:13:39.485Z"
   },
   {
    "duration": 17,
    "start_time": "2023-07-25T10:13:39.506Z"
   },
   {
    "duration": 9,
    "start_time": "2023-07-25T10:13:39.525Z"
   },
   {
    "duration": 108,
    "start_time": "2023-07-25T10:13:45.966Z"
   },
   {
    "duration": 4,
    "start_time": "2023-07-25T10:14:00.314Z"
   },
   {
    "duration": 4,
    "start_time": "2023-07-25T10:14:05.965Z"
   },
   {
    "duration": 6,
    "start_time": "2023-07-25T10:14:11.511Z"
   },
   {
    "duration": 6,
    "start_time": "2023-07-25T10:14:34.249Z"
   },
   {
    "duration": 13,
    "start_time": "2023-07-25T10:14:41.738Z"
   },
   {
    "duration": 5,
    "start_time": "2023-07-25T10:14:48.292Z"
   }
  ],
  "kernelspec": {
   "display_name": "Python 3 (ipykernel)",
   "language": "python",
   "name": "python3"
  },
  "language_info": {
   "codemirror_mode": {
    "name": "ipython",
    "version": 3
   },
   "file_extension": ".py",
   "mimetype": "text/x-python",
   "name": "python",
   "nbconvert_exporter": "python",
   "pygments_lexer": "ipython3",
   "version": "3.10.9"
  },
  "toc": {
   "base_numbering": 1,
   "nav_menu": {},
   "number_sections": true,
   "sideBar": true,
   "skip_h1_title": true,
   "title_cell": "Table of Contents",
   "title_sidebar": "Contents",
   "toc_cell": false,
   "toc_position": {
    "height": "calc(100% - 180px)",
    "left": "10px",
    "top": "150px",
    "width": "281px"
   },
   "toc_section_display": true,
   "toc_window_display": true
  }
 },
 "nbformat": 4,
 "nbformat_minor": 2
}
