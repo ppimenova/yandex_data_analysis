{
 "cells": [
  {
   "cell_type": "markdown",
   "metadata": {},
   "source": [
    " # Анализ результата A/B теста"
   ]
  },
  {
   "cell_type": "markdown",
   "metadata": {},
   "source": [
    "**Основная цель проекта** — провести оценку результатов A/B-теста. \n",
    "**Нам необходимо:** \n",
    "\n",
    "- проверить соответствие полученных данных техническому заданию; \n",
    "- оценить влияние внешних факторов; \n",
    "- выяснить, увеличилась ли конверсия каждого этапа в связи с введенным нововведением. \n",
    "\n",
    "В нашем распоряжении есть датасет с действиями пользователей, техническое задание и несколько вспомогательных датасетов."
   ]
  },
  {
   "cell_type": "markdown",
   "metadata": {},
   "source": [
    "## Техническое задание\n",
    "\n",
    "- Название теста: `recommender_system_test`;\n",
    "- группы: А — контрольная, B — новая платёжная воронка;\n",
    "- дата запуска: 2020-12-07;\n",
    "- дата остановки набора новых пользователей: 2020-12-21;\n",
    "- дата остановки: 2021-01-04;\n",
    "- аудитория: в тест должно быть отобрано 15% новых пользователей из региона EU;\n",
    "- назначение теста: тестирование изменений, связанных с внедрением улучшенной рекомендательной системы;\n",
    "- ожидаемое количество участников теста: 6000.\n",
    "- ожидаемый эффект: за 14 дней с момента регистрации пользователи покажут улучшение каждой метрики не менее, чем на 10%:\n",
    "    - конверсии в просмотр карточек товаров — событие `product_page`,\n",
    "    - просмотры корзины — `product_cart`,\n",
    "    - покупки — `purchase`."
   ]
  },
  {
   "cell_type": "markdown",
   "metadata": {},
   "source": [
    "## Описание данных\n",
    "\n",
    "`ab_project_marketing_events.csv` — календарь маркетинговых событий на 2020 год.\n",
    "\n",
    "Структура файла:\n",
    "\n",
    "- `name` — название маркетингового события;\n",
    "- `regions` — регионы, в которых будет проводиться рекламная кампания;\n",
    "- `start_dt` — дата начала кампании;\n",
    "- `finish_dt` — дата завершения кампании.\n",
    "\n",
    "`final_ab_new_users.csv` — пользователи, зарегистрировавшиеся с 7 по 21 декабря 2020 года.\n",
    "\n",
    "Структура файла:\n",
    "\n",
    "- `user_id` — идентификатор пользователя;\n",
    "- `first_date` — дата регистрации;\n",
    "- `region` — регион пользователя;\n",
    "- `device` — устройство, с которого происходила регистрация.\n",
    "\n",
    "`final_ab_events.csv` — действия новых пользователей в период с 7 декабря 2020 по 4 января 2021 года.\n",
    "\n",
    "Структура файла:\n",
    "\n",
    "- `user_id` — идентификатор пользователя;\n",
    "- `event_dt` — дата и время события;\n",
    "- `event_name` — тип события;\n",
    "- `details` — дополнительные данные о событии. Например, для покупок, `purchase,` в этом поле хранится стоимость покупки в долларах.\n",
    "\n",
    "`final_ab_participants.csv` — таблица участников тестов.\n",
    "\n",
    "Структура файла:\n",
    "\n",
    "- `user_id` — идентификатор пользователя;\n",
    "- `ab_test` — название теста;\n",
    "- `group` — группа пользователя.\n",
    "\n"
   ]
  },
  {
   "cell_type": "markdown",
   "metadata": {},
   "source": [
    "## План проекта\n",
    "1. [Загрузка данных и изучение общей информации](#start)\n",
    "2. [Предобработка данных](#preprocessing)\n",
    "    - [Преобразование типов](#types)\n",
    "    - [Описание природы пропущенных значений и дубликатов, если они есть.](#nansdupls)\n",
    "    - [Периоды, за которые представлены данные](#periods)\n",
    "3. [Оценка корректности проведения теста.](#correctness)\n",
    "    - [Соответствие данных требованиям технического задания. Проверка корректности всех пунктов технического задания.](#tz)\n",
    "    - [Время проведения теста. Убедимся, что оно не совпадает с маркетинговыми и другими активностями.](#time)\n",
    "    - [Аудитория теста. Удостоверимся, что нет пересечений с конкурирующим тестом и нет пользователей, участвующих в двух группах теста одновременно. Проверим равномерность распределения по тестовым группам и правильность их формирования.](#aud)\n",
    "4. [Исследовательский анализ данных](#analysis)\n",
    "    - [Количество событий на пользователя одинаково распределены в выборках?](#eventsbyuser)\n",
    "    - [Как число событий в выборках распределено по дням?](#eventsbyday)\n",
    "    - [Как меняется конверсия в воронке в выборках на разных этапах?](#conversion)\n",
    "    - [Какие особенности данных нужно учесть, прежде чем приступать к A/B-тестированию?](#peculiar)\n",
    "5. [Оценка результатов A/B-тестирования](#results)\n",
    "    - [Что можно сказать про результаты A/В-тестирования?](#middleresults)\n",
    "    - [Проверьте статистическую разницу долей z-критерием.](#test)\n",
    "6. [Выводы](#conclusions)"
   ]
  },
  {
   "cell_type": "markdown",
   "metadata": {},
   "source": [
    "## [Загрузка данных и изучение общей информации](#start)\n",
    "<a id=\"start\"><a>"
   ]
  },
  {
   "cell_type": "code",
   "execution_count": 1,
   "metadata": {},
   "outputs": [],
   "source": [
    "import pandas as pd\n",
    "import numpy as np\n",
    "import seaborn as sns\n",
    "import datetime as dt\n",
    "from matplotlib import pyplot as plt\n",
    "from scipy import stats as st\n",
    "import os\n",
    "import plotly.express as px\n",
    "from plotly import graph_objects as go\n",
    "import math as mth"
   ]
  },
  {
   "cell_type": "code",
   "execution_count": 2,
   "metadata": {},
   "outputs": [],
   "source": [
    "pth1 = 'ab_project_marketing_events.csv'\n",
    "pth2 = 'final_ab_new_users.csv'\n",
    "pth3 = 'final_ab_events.csv'\n",
    "pth4 = 'final_ab_participants.csv'\n",
    "\n",
    "marketing_events = pd.read_csv(pth1)\n",
    "new_users = pd.read_csv(pth2)\n",
    "events = pd.read_csv(pth3)\n",
    "participants = pd.read_csv(pth4)\n"
   ]
  },
  {
   "cell_type": "markdown",
   "metadata": {},
   "source": [
    "### Общая информация по календарю маркетинговых событий за 2020 год"
   ]
  },
  {
   "cell_type": "code",
   "execution_count": 3,
   "metadata": {},
   "outputs": [
    {
     "name": "stdout",
     "output_type": "stream",
     "text": [
      "<class 'pandas.core.frame.DataFrame'>\n",
      "RangeIndex: 14 entries, 0 to 13\n",
      "Data columns (total 4 columns):\n",
      " #   Column     Non-Null Count  Dtype \n",
      "---  ------     --------------  ----- \n",
      " 0   name       14 non-null     object\n",
      " 1   regions    14 non-null     object\n",
      " 2   start_dt   14 non-null     object\n",
      " 3   finish_dt  14 non-null     object\n",
      "dtypes: object(4)\n",
      "memory usage: 576.0+ bytes\n"
     ]
    }
   ],
   "source": [
    "marketing_events.info()"
   ]
  },
  {
   "cell_type": "code",
   "execution_count": 4,
   "metadata": {},
   "outputs": [
    {
     "data": {
      "text/html": [
       "<div>\n",
       "<style scoped>\n",
       "    .dataframe tbody tr th:only-of-type {\n",
       "        vertical-align: middle;\n",
       "    }\n",
       "\n",
       "    .dataframe tbody tr th {\n",
       "        vertical-align: top;\n",
       "    }\n",
       "\n",
       "    .dataframe thead th {\n",
       "        text-align: right;\n",
       "    }\n",
       "</style>\n",
       "<table border=\"1\" class=\"dataframe\">\n",
       "  <thead>\n",
       "    <tr style=\"text-align: right;\">\n",
       "      <th></th>\n",
       "      <th>name</th>\n",
       "      <th>regions</th>\n",
       "      <th>start_dt</th>\n",
       "      <th>finish_dt</th>\n",
       "    </tr>\n",
       "  </thead>\n",
       "  <tbody>\n",
       "    <tr>\n",
       "      <th>0</th>\n",
       "      <td>Christmas&amp;New Year Promo</td>\n",
       "      <td>EU, N.America</td>\n",
       "      <td>2020-12-25</td>\n",
       "      <td>2021-01-03</td>\n",
       "    </tr>\n",
       "    <tr>\n",
       "      <th>1</th>\n",
       "      <td>St. Valentine's Day Giveaway</td>\n",
       "      <td>EU, CIS, APAC, N.America</td>\n",
       "      <td>2020-02-14</td>\n",
       "      <td>2020-02-16</td>\n",
       "    </tr>\n",
       "    <tr>\n",
       "      <th>2</th>\n",
       "      <td>St. Patric's Day Promo</td>\n",
       "      <td>EU, N.America</td>\n",
       "      <td>2020-03-17</td>\n",
       "      <td>2020-03-19</td>\n",
       "    </tr>\n",
       "    <tr>\n",
       "      <th>3</th>\n",
       "      <td>Easter Promo</td>\n",
       "      <td>EU, CIS, APAC, N.America</td>\n",
       "      <td>2020-04-12</td>\n",
       "      <td>2020-04-19</td>\n",
       "    </tr>\n",
       "    <tr>\n",
       "      <th>4</th>\n",
       "      <td>4th of July Promo</td>\n",
       "      <td>N.America</td>\n",
       "      <td>2020-07-04</td>\n",
       "      <td>2020-07-11</td>\n",
       "    </tr>\n",
       "    <tr>\n",
       "      <th>5</th>\n",
       "      <td>Black Friday Ads Campaign</td>\n",
       "      <td>EU, CIS, APAC, N.America</td>\n",
       "      <td>2020-11-26</td>\n",
       "      <td>2020-12-01</td>\n",
       "    </tr>\n",
       "    <tr>\n",
       "      <th>6</th>\n",
       "      <td>Chinese New Year Promo</td>\n",
       "      <td>APAC</td>\n",
       "      <td>2020-01-25</td>\n",
       "      <td>2020-02-07</td>\n",
       "    </tr>\n",
       "    <tr>\n",
       "      <th>7</th>\n",
       "      <td>Labor day (May 1st) Ads Campaign</td>\n",
       "      <td>EU, CIS, APAC</td>\n",
       "      <td>2020-05-01</td>\n",
       "      <td>2020-05-03</td>\n",
       "    </tr>\n",
       "    <tr>\n",
       "      <th>8</th>\n",
       "      <td>International Women's Day Promo</td>\n",
       "      <td>EU, CIS, APAC</td>\n",
       "      <td>2020-03-08</td>\n",
       "      <td>2020-03-10</td>\n",
       "    </tr>\n",
       "    <tr>\n",
       "      <th>9</th>\n",
       "      <td>Victory Day CIS (May 9th) Event</td>\n",
       "      <td>CIS</td>\n",
       "      <td>2020-05-09</td>\n",
       "      <td>2020-05-11</td>\n",
       "    </tr>\n",
       "    <tr>\n",
       "      <th>10</th>\n",
       "      <td>CIS New Year Gift Lottery</td>\n",
       "      <td>CIS</td>\n",
       "      <td>2020-12-30</td>\n",
       "      <td>2021-01-07</td>\n",
       "    </tr>\n",
       "    <tr>\n",
       "      <th>11</th>\n",
       "      <td>Dragon Boat Festival Giveaway</td>\n",
       "      <td>APAC</td>\n",
       "      <td>2020-06-25</td>\n",
       "      <td>2020-07-01</td>\n",
       "    </tr>\n",
       "    <tr>\n",
       "      <th>12</th>\n",
       "      <td>Single's Day Gift Promo</td>\n",
       "      <td>APAC</td>\n",
       "      <td>2020-11-11</td>\n",
       "      <td>2020-11-12</td>\n",
       "    </tr>\n",
       "    <tr>\n",
       "      <th>13</th>\n",
       "      <td>Chinese Moon Festival</td>\n",
       "      <td>APAC</td>\n",
       "      <td>2020-10-01</td>\n",
       "      <td>2020-10-07</td>\n",
       "    </tr>\n",
       "  </tbody>\n",
       "</table>\n",
       "</div>"
      ],
      "text/plain": [
       "                                name                   regions    start_dt  \\\n",
       "0           Christmas&New Year Promo             EU, N.America  2020-12-25   \n",
       "1       St. Valentine's Day Giveaway  EU, CIS, APAC, N.America  2020-02-14   \n",
       "2             St. Patric's Day Promo             EU, N.America  2020-03-17   \n",
       "3                       Easter Promo  EU, CIS, APAC, N.America  2020-04-12   \n",
       "4                  4th of July Promo                 N.America  2020-07-04   \n",
       "5          Black Friday Ads Campaign  EU, CIS, APAC, N.America  2020-11-26   \n",
       "6             Chinese New Year Promo                      APAC  2020-01-25   \n",
       "7   Labor day (May 1st) Ads Campaign             EU, CIS, APAC  2020-05-01   \n",
       "8    International Women's Day Promo             EU, CIS, APAC  2020-03-08   \n",
       "9    Victory Day CIS (May 9th) Event                       CIS  2020-05-09   \n",
       "10         CIS New Year Gift Lottery                       CIS  2020-12-30   \n",
       "11     Dragon Boat Festival Giveaway                      APAC  2020-06-25   \n",
       "12           Single's Day Gift Promo                      APAC  2020-11-11   \n",
       "13             Chinese Moon Festival                      APAC  2020-10-01   \n",
       "\n",
       "     finish_dt  \n",
       "0   2021-01-03  \n",
       "1   2020-02-16  \n",
       "2   2020-03-19  \n",
       "3   2020-04-19  \n",
       "4   2020-07-11  \n",
       "5   2020-12-01  \n",
       "6   2020-02-07  \n",
       "7   2020-05-03  \n",
       "8   2020-03-10  \n",
       "9   2020-05-11  \n",
       "10  2021-01-07  \n",
       "11  2020-07-01  \n",
       "12  2020-11-12  \n",
       "13  2020-10-07  "
      ]
     },
     "execution_count": 4,
     "metadata": {},
     "output_type": "execute_result"
    }
   ],
   "source": [
    "marketing_events"
   ]
  },
  {
   "cell_type": "markdown",
   "metadata": {},
   "source": [
    "**В датасете представлено 14 маркетинговых событий. Сразу видим, что столбцы с началом и концом событий не соответствуют типу datetime**"
   ]
  },
  {
   "cell_type": "markdown",
   "metadata": {},
   "source": [
    "### Общая информация по пользователям, зарегистрировавшимся с 7 по 21 декабря 2020 года"
   ]
  },
  {
   "cell_type": "code",
   "execution_count": 5,
   "metadata": {},
   "outputs": [
    {
     "name": "stdout",
     "output_type": "stream",
     "text": [
      "<class 'pandas.core.frame.DataFrame'>\n",
      "RangeIndex: 61733 entries, 0 to 61732\n",
      "Data columns (total 4 columns):\n",
      " #   Column      Non-Null Count  Dtype \n",
      "---  ------      --------------  ----- \n",
      " 0   user_id     61733 non-null  object\n",
      " 1   first_date  61733 non-null  object\n",
      " 2   region      61733 non-null  object\n",
      " 3   device      61733 non-null  object\n",
      "dtypes: object(4)\n",
      "memory usage: 1.9+ MB\n"
     ]
    }
   ],
   "source": [
    "new_users.info()"
   ]
  },
  {
   "cell_type": "code",
   "execution_count": 6,
   "metadata": {},
   "outputs": [
    {
     "data": {
      "text/plain": [
       "(61733, 4)"
      ]
     },
     "execution_count": 6,
     "metadata": {},
     "output_type": "execute_result"
    }
   ],
   "source": [
    "new_users.shape"
   ]
  },
  {
   "cell_type": "code",
   "execution_count": 7,
   "metadata": {},
   "outputs": [
    {
     "data": {
      "text/html": [
       "<div>\n",
       "<style scoped>\n",
       "    .dataframe tbody tr th:only-of-type {\n",
       "        vertical-align: middle;\n",
       "    }\n",
       "\n",
       "    .dataframe tbody tr th {\n",
       "        vertical-align: top;\n",
       "    }\n",
       "\n",
       "    .dataframe thead th {\n",
       "        text-align: right;\n",
       "    }\n",
       "</style>\n",
       "<table border=\"1\" class=\"dataframe\">\n",
       "  <thead>\n",
       "    <tr style=\"text-align: right;\">\n",
       "      <th></th>\n",
       "      <th>user_id</th>\n",
       "      <th>first_date</th>\n",
       "      <th>region</th>\n",
       "      <th>device</th>\n",
       "    </tr>\n",
       "  </thead>\n",
       "  <tbody>\n",
       "    <tr>\n",
       "      <th>0</th>\n",
       "      <td>D72A72121175D8BE</td>\n",
       "      <td>2020-12-07</td>\n",
       "      <td>EU</td>\n",
       "      <td>PC</td>\n",
       "    </tr>\n",
       "    <tr>\n",
       "      <th>1</th>\n",
       "      <td>F1C668619DFE6E65</td>\n",
       "      <td>2020-12-07</td>\n",
       "      <td>N.America</td>\n",
       "      <td>Android</td>\n",
       "    </tr>\n",
       "    <tr>\n",
       "      <th>2</th>\n",
       "      <td>2E1BF1D4C37EA01F</td>\n",
       "      <td>2020-12-07</td>\n",
       "      <td>EU</td>\n",
       "      <td>PC</td>\n",
       "    </tr>\n",
       "    <tr>\n",
       "      <th>3</th>\n",
       "      <td>50734A22C0C63768</td>\n",
       "      <td>2020-12-07</td>\n",
       "      <td>EU</td>\n",
       "      <td>iPhone</td>\n",
       "    </tr>\n",
       "    <tr>\n",
       "      <th>4</th>\n",
       "      <td>E1BDDCE0DAFA2679</td>\n",
       "      <td>2020-12-07</td>\n",
       "      <td>N.America</td>\n",
       "      <td>iPhone</td>\n",
       "    </tr>\n",
       "  </tbody>\n",
       "</table>\n",
       "</div>"
      ],
      "text/plain": [
       "            user_id  first_date     region   device\n",
       "0  D72A72121175D8BE  2020-12-07         EU       PC\n",
       "1  F1C668619DFE6E65  2020-12-07  N.America  Android\n",
       "2  2E1BF1D4C37EA01F  2020-12-07         EU       PC\n",
       "3  50734A22C0C63768  2020-12-07         EU   iPhone\n",
       "4  E1BDDCE0DAFA2679  2020-12-07  N.America   iPhone"
      ]
     },
     "execution_count": 7,
     "metadata": {},
     "output_type": "execute_result"
    }
   ],
   "source": [
    "new_users.head()"
   ]
  },
  {
   "cell_type": "code",
   "execution_count": 8,
   "metadata": {},
   "outputs": [
    {
     "data": {
      "text/plain": [
       "array(['EU', 'N.America', 'APAC', 'CIS'], dtype=object)"
      ]
     },
     "execution_count": 8,
     "metadata": {},
     "output_type": "execute_result"
    }
   ],
   "source": [
    "new_users['region'].unique()"
   ]
  },
  {
   "cell_type": "code",
   "execution_count": 9,
   "metadata": {},
   "outputs": [
    {
     "data": {
      "text/plain": [
       "array(['PC', 'Android', 'iPhone', 'Mac'], dtype=object)"
      ]
     },
     "execution_count": 9,
     "metadata": {},
     "output_type": "execute_result"
    }
   ],
   "source": [
    "new_users['device'].unique()"
   ]
  },
  {
   "cell_type": "markdown",
   "metadata": {},
   "source": [
    "**В данных представлено 61733 строк и 4 столбца. Снова видим, что столбец first_date нужно будет преобразовать к типу datetime. Всего представлено 4 региона:**\n",
    "- EU - Европейский союз;\n",
    "- N.America - Северная Америка\n",
    "- APAC - Азиaтско-Тихоокеанский регион\n",
    "- CIS - страны СНГ\n",
    "\n",
    "**Всего 4 устройства с которых проходила регистрация:'PC', 'Android', 'iPhone', 'Mac'**"
   ]
  },
  {
   "cell_type": "markdown",
   "metadata": {},
   "source": [
    "### Общая информация по действиям новых пользователей в период с 7 декабря 2020 по 4 января 2021 года"
   ]
  },
  {
   "cell_type": "code",
   "execution_count": 10,
   "metadata": {},
   "outputs": [
    {
     "name": "stdout",
     "output_type": "stream",
     "text": [
      "<class 'pandas.core.frame.DataFrame'>\n",
      "RangeIndex: 440317 entries, 0 to 440316\n",
      "Data columns (total 4 columns):\n",
      " #   Column      Non-Null Count   Dtype  \n",
      "---  ------      --------------   -----  \n",
      " 0   user_id     440317 non-null  object \n",
      " 1   event_dt    440317 non-null  object \n",
      " 2   event_name  440317 non-null  object \n",
      " 3   details     62740 non-null   float64\n",
      "dtypes: float64(1), object(3)\n",
      "memory usage: 13.4+ MB\n"
     ]
    }
   ],
   "source": [
    "events.info()"
   ]
  },
  {
   "cell_type": "code",
   "execution_count": 11,
   "metadata": {},
   "outputs": [
    {
     "data": {
      "text/plain": [
       "(440317, 4)"
      ]
     },
     "execution_count": 11,
     "metadata": {},
     "output_type": "execute_result"
    }
   ],
   "source": [
    "events.shape"
   ]
  },
  {
   "cell_type": "code",
   "execution_count": 12,
   "metadata": {},
   "outputs": [
    {
     "data": {
      "text/html": [
       "<div>\n",
       "<style scoped>\n",
       "    .dataframe tbody tr th:only-of-type {\n",
       "        vertical-align: middle;\n",
       "    }\n",
       "\n",
       "    .dataframe tbody tr th {\n",
       "        vertical-align: top;\n",
       "    }\n",
       "\n",
       "    .dataframe thead th {\n",
       "        text-align: right;\n",
       "    }\n",
       "</style>\n",
       "<table border=\"1\" class=\"dataframe\">\n",
       "  <thead>\n",
       "    <tr style=\"text-align: right;\">\n",
       "      <th></th>\n",
       "      <th>user_id</th>\n",
       "      <th>event_dt</th>\n",
       "      <th>event_name</th>\n",
       "      <th>details</th>\n",
       "    </tr>\n",
       "  </thead>\n",
       "  <tbody>\n",
       "    <tr>\n",
       "      <th>0</th>\n",
       "      <td>E1BDDCE0DAFA2679</td>\n",
       "      <td>2020-12-07 20:22:03</td>\n",
       "      <td>purchase</td>\n",
       "      <td>99.99</td>\n",
       "    </tr>\n",
       "    <tr>\n",
       "      <th>1</th>\n",
       "      <td>7B6452F081F49504</td>\n",
       "      <td>2020-12-07 09:22:53</td>\n",
       "      <td>purchase</td>\n",
       "      <td>9.99</td>\n",
       "    </tr>\n",
       "    <tr>\n",
       "      <th>2</th>\n",
       "      <td>9CD9F34546DF254C</td>\n",
       "      <td>2020-12-07 12:59:29</td>\n",
       "      <td>purchase</td>\n",
       "      <td>4.99</td>\n",
       "    </tr>\n",
       "    <tr>\n",
       "      <th>3</th>\n",
       "      <td>96F27A054B191457</td>\n",
       "      <td>2020-12-07 04:02:40</td>\n",
       "      <td>purchase</td>\n",
       "      <td>4.99</td>\n",
       "    </tr>\n",
       "    <tr>\n",
       "      <th>4</th>\n",
       "      <td>1FD7660FDF94CA1F</td>\n",
       "      <td>2020-12-07 10:15:09</td>\n",
       "      <td>purchase</td>\n",
       "      <td>4.99</td>\n",
       "    </tr>\n",
       "  </tbody>\n",
       "</table>\n",
       "</div>"
      ],
      "text/plain": [
       "            user_id             event_dt event_name  details\n",
       "0  E1BDDCE0DAFA2679  2020-12-07 20:22:03   purchase    99.99\n",
       "1  7B6452F081F49504  2020-12-07 09:22:53   purchase     9.99\n",
       "2  9CD9F34546DF254C  2020-12-07 12:59:29   purchase     4.99\n",
       "3  96F27A054B191457  2020-12-07 04:02:40   purchase     4.99\n",
       "4  1FD7660FDF94CA1F  2020-12-07 10:15:09   purchase     4.99"
      ]
     },
     "execution_count": 12,
     "metadata": {},
     "output_type": "execute_result"
    }
   ],
   "source": [
    "events.head()"
   ]
  },
  {
   "cell_type": "code",
   "execution_count": 13,
   "metadata": {},
   "outputs": [
    {
     "data": {
      "text/plain": [
       "array(['purchase', 'product_cart', 'product_page', 'login'], dtype=object)"
      ]
     },
     "execution_count": 13,
     "metadata": {},
     "output_type": "execute_result"
    }
   ],
   "source": [
    "events['event_name'].unique()"
   ]
  },
  {
   "cell_type": "markdown",
   "metadata": {},
   "source": [
    "**В данных представлено 440317 строк, 4 столбца.Дата события не соответствует типу datetime. Видим, что данных в столбце с деталями меньше, чем в остальных столбцах датасета (природу пропусков проанализируем позже). Всего 4 типа события:**\n",
    "- purchase - покупка;\n",
    "- product_cart - корзина;\n",
    "- product_page - страница продукта;\n",
    "- login - вход в аккаунт."
   ]
  },
  {
   "cell_type": "markdown",
   "metadata": {},
   "source": []
  },
  {
   "cell_type": "markdown",
   "metadata": {},
   "source": [
    "### Общая информация об участниках теста"
   ]
  },
  {
   "cell_type": "code",
   "execution_count": 14,
   "metadata": {},
   "outputs": [
    {
     "name": "stdout",
     "output_type": "stream",
     "text": [
      "<class 'pandas.core.frame.DataFrame'>\n",
      "RangeIndex: 18268 entries, 0 to 18267\n",
      "Data columns (total 3 columns):\n",
      " #   Column   Non-Null Count  Dtype \n",
      "---  ------   --------------  ----- \n",
      " 0   user_id  18268 non-null  object\n",
      " 1   group    18268 non-null  object\n",
      " 2   ab_test  18268 non-null  object\n",
      "dtypes: object(3)\n",
      "memory usage: 428.3+ KB\n"
     ]
    }
   ],
   "source": [
    "participants.info()"
   ]
  },
  {
   "cell_type": "code",
   "execution_count": 15,
   "metadata": {},
   "outputs": [
    {
     "data": {
      "text/html": [
       "<div>\n",
       "<style scoped>\n",
       "    .dataframe tbody tr th:only-of-type {\n",
       "        vertical-align: middle;\n",
       "    }\n",
       "\n",
       "    .dataframe tbody tr th {\n",
       "        vertical-align: top;\n",
       "    }\n",
       "\n",
       "    .dataframe thead th {\n",
       "        text-align: right;\n",
       "    }\n",
       "</style>\n",
       "<table border=\"1\" class=\"dataframe\">\n",
       "  <thead>\n",
       "    <tr style=\"text-align: right;\">\n",
       "      <th></th>\n",
       "      <th>user_id</th>\n",
       "      <th>group</th>\n",
       "      <th>ab_test</th>\n",
       "    </tr>\n",
       "  </thead>\n",
       "  <tbody>\n",
       "    <tr>\n",
       "      <th>0</th>\n",
       "      <td>D1ABA3E2887B6A73</td>\n",
       "      <td>A</td>\n",
       "      <td>recommender_system_test</td>\n",
       "    </tr>\n",
       "    <tr>\n",
       "      <th>1</th>\n",
       "      <td>A7A3664BD6242119</td>\n",
       "      <td>A</td>\n",
       "      <td>recommender_system_test</td>\n",
       "    </tr>\n",
       "    <tr>\n",
       "      <th>2</th>\n",
       "      <td>DABC14FDDFADD29E</td>\n",
       "      <td>A</td>\n",
       "      <td>recommender_system_test</td>\n",
       "    </tr>\n",
       "    <tr>\n",
       "      <th>3</th>\n",
       "      <td>04988C5DF189632E</td>\n",
       "      <td>A</td>\n",
       "      <td>recommender_system_test</td>\n",
       "    </tr>\n",
       "    <tr>\n",
       "      <th>4</th>\n",
       "      <td>482F14783456D21B</td>\n",
       "      <td>B</td>\n",
       "      <td>recommender_system_test</td>\n",
       "    </tr>\n",
       "  </tbody>\n",
       "</table>\n",
       "</div>"
      ],
      "text/plain": [
       "            user_id group                  ab_test\n",
       "0  D1ABA3E2887B6A73     A  recommender_system_test\n",
       "1  A7A3664BD6242119     A  recommender_system_test\n",
       "2  DABC14FDDFADD29E     A  recommender_system_test\n",
       "3  04988C5DF189632E     A  recommender_system_test\n",
       "4  482F14783456D21B     B  recommender_system_test"
      ]
     },
     "execution_count": 15,
     "metadata": {},
     "output_type": "execute_result"
    }
   ],
   "source": [
    "participants.head()"
   ]
  },
  {
   "cell_type": "code",
   "execution_count": 16,
   "metadata": {},
   "outputs": [
    {
     "data": {
      "text/plain": [
       "(18268, 3)"
      ]
     },
     "execution_count": 16,
     "metadata": {},
     "output_type": "execute_result"
    }
   ],
   "source": [
    "participants.shape"
   ]
  },
  {
   "cell_type": "code",
   "execution_count": 17,
   "metadata": {},
   "outputs": [
    {
     "data": {
      "text/plain": [
       "array(['recommender_system_test', 'interface_eu_test'], dtype=object)"
      ]
     },
     "execution_count": 17,
     "metadata": {},
     "output_type": "execute_result"
    }
   ],
   "source": [
    "participants['ab_test'].unique()"
   ]
  },
  {
   "cell_type": "code",
   "execution_count": 18,
   "metadata": {},
   "outputs": [
    {
     "data": {
      "text/plain": [
       "array(['A', 'B'], dtype=object)"
      ]
     },
     "execution_count": 18,
     "metadata": {},
     "output_type": "execute_result"
    }
   ],
   "source": [
    "participants.query('ab_test == \"recommender_system_test\"')['group'].unique()"
   ]
  },
  {
   "cell_type": "code",
   "execution_count": 19,
   "metadata": {},
   "outputs": [
    {
     "data": {
      "text/plain": [
       "array(['A', 'B'], dtype=object)"
      ]
     },
     "execution_count": 19,
     "metadata": {},
     "output_type": "execute_result"
    }
   ],
   "source": [
    "participants.query('ab_test == \"interface_eu_test\"')['group'].unique()"
   ]
  },
  {
   "cell_type": "markdown",
   "metadata": {},
   "source": [
    "**В данных 18268 строк, 3 столбца. Всего представлено два типа тестов: 'recommender_system_test' и  'interface_eu_test'. Оба теста парные.**"
   ]
  },
  {
   "cell_type": "markdown",
   "metadata": {},
   "source": [
    "## Предобработка данных\n",
    "<a id=\"preprocessing\"><a>"
   ]
  },
  {
   "cell_type": "markdown",
   "metadata": {},
   "source": [
    "### Преобразование типов\n",
    "<a id=\"types\"><a>"
   ]
  },
  {
   "cell_type": "markdown",
   "metadata": {},
   "source": [
    "**Преобразуем столбцы с датами к типу datetime**"
   ]
  },
  {
   "cell_type": "code",
   "execution_count": 20,
   "metadata": {},
   "outputs": [
    {
     "name": "stdout",
     "output_type": "stream",
     "text": [
      "<class 'pandas.core.frame.DataFrame'>\n",
      "RangeIndex: 14 entries, 0 to 13\n",
      "Data columns (total 4 columns):\n",
      " #   Column     Non-Null Count  Dtype         \n",
      "---  ------     --------------  -----         \n",
      " 0   name       14 non-null     object        \n",
      " 1   regions    14 non-null     object        \n",
      " 2   start_dt   14 non-null     datetime64[ns]\n",
      " 3   finish_dt  14 non-null     datetime64[ns]\n",
      "dtypes: datetime64[ns](2), object(2)\n",
      "memory usage: 576.0+ bytes\n"
     ]
    }
   ],
   "source": [
    "marketing_events['start_dt'] = marketing_events['start_dt'].map(lambda x: dt.datetime.strptime(x, '%Y-%m-%d'))\n",
    "marketing_events['finish_dt'] = marketing_events['finish_dt'].map(lambda x: dt.datetime.strptime(x, '%Y-%m-%d'))\n",
    "marketing_events.info()"
   ]
  },
  {
   "cell_type": "code",
   "execution_count": 21,
   "metadata": {},
   "outputs": [
    {
     "name": "stdout",
     "output_type": "stream",
     "text": [
      "<class 'pandas.core.frame.DataFrame'>\n",
      "RangeIndex: 61733 entries, 0 to 61732\n",
      "Data columns (total 4 columns):\n",
      " #   Column      Non-Null Count  Dtype         \n",
      "---  ------      --------------  -----         \n",
      " 0   user_id     61733 non-null  object        \n",
      " 1   first_date  61733 non-null  datetime64[ns]\n",
      " 2   region      61733 non-null  object        \n",
      " 3   device      61733 non-null  object        \n",
      "dtypes: datetime64[ns](1), object(3)\n",
      "memory usage: 1.9+ MB\n"
     ]
    }
   ],
   "source": [
    "new_users['first_date'] = new_users['first_date'].map(lambda x: dt.datetime.strptime(x, '%Y-%m-%d'))\n",
    "new_users.info()"
   ]
  },
  {
   "cell_type": "code",
   "execution_count": 22,
   "metadata": {},
   "outputs": [
    {
     "name": "stdout",
     "output_type": "stream",
     "text": [
      "<class 'pandas.core.frame.DataFrame'>\n",
      "RangeIndex: 440317 entries, 0 to 440316\n",
      "Data columns (total 4 columns):\n",
      " #   Column      Non-Null Count   Dtype         \n",
      "---  ------      --------------   -----         \n",
      " 0   user_id     440317 non-null  object        \n",
      " 1   event_dt    440317 non-null  datetime64[ns]\n",
      " 2   event_name  440317 non-null  object        \n",
      " 3   details     62740 non-null   float64       \n",
      "dtypes: datetime64[ns](1), float64(1), object(2)\n",
      "memory usage: 13.4+ MB\n"
     ]
    }
   ],
   "source": [
    "events['event_dt'] = events['event_dt'].map(lambda x: dt.datetime.strptime(x, '%Y-%m-%d %H:%M:%S'))\n",
    "events.info()"
   ]
  },
  {
   "cell_type": "markdown",
   "metadata": {},
   "source": [
    "### Описание природы пропущенных значений и дубликатов, если они есть\n",
    "<a id=\"nansdupls\"><a>\n"
   ]
  },
  {
   "cell_type": "markdown",
   "metadata": {},
   "source": [
    "#### Пропуски"
   ]
  },
  {
   "cell_type": "code",
   "execution_count": 23,
   "metadata": {},
   "outputs": [
    {
     "data": {
      "text/plain": [
       "name         0\n",
       "regions      0\n",
       "start_dt     0\n",
       "finish_dt    0\n",
       "dtype: int64"
      ]
     },
     "execution_count": 23,
     "metadata": {},
     "output_type": "execute_result"
    }
   ],
   "source": [
    "marketing_events.isna().sum()"
   ]
  },
  {
   "cell_type": "code",
   "execution_count": 24,
   "metadata": {},
   "outputs": [
    {
     "data": {
      "text/plain": [
       "user_id       0\n",
       "first_date    0\n",
       "region        0\n",
       "device        0\n",
       "dtype: int64"
      ]
     },
     "execution_count": 24,
     "metadata": {},
     "output_type": "execute_result"
    }
   ],
   "source": [
    "new_users.isna().sum()"
   ]
  },
  {
   "cell_type": "code",
   "execution_count": 25,
   "metadata": {},
   "outputs": [
    {
     "data": {
      "text/plain": [
       "user_id            0\n",
       "event_dt           0\n",
       "event_name         0\n",
       "details       377577\n",
       "dtype: int64"
      ]
     },
     "execution_count": 25,
     "metadata": {},
     "output_type": "execute_result"
    }
   ],
   "source": [
    "events.isna().sum()"
   ]
  },
  {
   "cell_type": "code",
   "execution_count": 26,
   "metadata": {},
   "outputs": [
    {
     "data": {
      "text/plain": [
       "user_id    0\n",
       "group      0\n",
       "ab_test    0\n",
       "dtype: int64"
      ]
     },
     "execution_count": 26,
     "metadata": {},
     "output_type": "execute_result"
    }
   ],
   "source": [
    "participants.isna().sum()"
   ]
  },
  {
   "cell_type": "markdown",
   "metadata": {},
   "source": [
    "**Итак, пропуски есть только в столбце details датасета с действиями пользователей**"
   ]
  },
  {
   "cell_type": "code",
   "execution_count": 27,
   "metadata": {},
   "outputs": [
    {
     "data": {
      "text/plain": [
       "array(['product_cart', 'product_page', 'login'], dtype=object)"
      ]
     },
     "execution_count": 27,
     "metadata": {},
     "output_type": "execute_result"
    }
   ],
   "source": [
    "events.query('details.isna()')['event_name'].unique()"
   ]
  },
  {
   "cell_type": "code",
   "execution_count": 28,
   "metadata": {},
   "outputs": [
    {
     "data": {
      "text/plain": [
       "array(['purchase'], dtype=object)"
      ]
     },
     "execution_count": 28,
     "metadata": {},
     "output_type": "execute_result"
    }
   ],
   "source": [
    "events.query('not details.isna()')['event_name'].unique()"
   ]
  },
  {
   "cell_type": "markdown",
   "metadata": {},
   "source": [
    "**Видим, что пропусков в деталях нет только для покупок - там указывается их стоимость в долларах. Заключаем, что пропуски связаны с тем, что для других категорий никаких деталей не отмечается. Оставим пропущенные значения, как есть**"
   ]
  },
  {
   "cell_type": "markdown",
   "metadata": {},
   "source": [
    "#### Дубликаты"
   ]
  },
  {
   "cell_type": "code",
   "execution_count": 29,
   "metadata": {},
   "outputs": [
    {
     "data": {
      "text/plain": [
       "0"
      ]
     },
     "execution_count": 29,
     "metadata": {},
     "output_type": "execute_result"
    }
   ],
   "source": [
    "marketing_events.duplicated().sum()"
   ]
  },
  {
   "cell_type": "code",
   "execution_count": 30,
   "metadata": {},
   "outputs": [
    {
     "data": {
      "text/plain": [
       "0"
      ]
     },
     "execution_count": 30,
     "metadata": {},
     "output_type": "execute_result"
    }
   ],
   "source": [
    "marketing_events['name'].duplicated().sum()"
   ]
  },
  {
   "cell_type": "code",
   "execution_count": 31,
   "metadata": {},
   "outputs": [
    {
     "data": {
      "text/html": [
       "<div>\n",
       "<style scoped>\n",
       "    .dataframe tbody tr th:only-of-type {\n",
       "        vertical-align: middle;\n",
       "    }\n",
       "\n",
       "    .dataframe tbody tr th {\n",
       "        vertical-align: top;\n",
       "    }\n",
       "\n",
       "    .dataframe thead th {\n",
       "        text-align: right;\n",
       "    }\n",
       "</style>\n",
       "<table border=\"1\" class=\"dataframe\">\n",
       "  <thead>\n",
       "    <tr style=\"text-align: right;\">\n",
       "      <th></th>\n",
       "      <th>name</th>\n",
       "      <th>regions</th>\n",
       "      <th>start_dt</th>\n",
       "      <th>finish_dt</th>\n",
       "    </tr>\n",
       "  </thead>\n",
       "  <tbody>\n",
       "    <tr>\n",
       "      <th>0</th>\n",
       "      <td>Christmas&amp;New Year Promo</td>\n",
       "      <td>EU, N.America</td>\n",
       "      <td>2020-12-25</td>\n",
       "      <td>2021-01-03</td>\n",
       "    </tr>\n",
       "    <tr>\n",
       "      <th>1</th>\n",
       "      <td>St. Valentine's Day Giveaway</td>\n",
       "      <td>EU, CIS, APAC, N.America</td>\n",
       "      <td>2020-02-14</td>\n",
       "      <td>2020-02-16</td>\n",
       "    </tr>\n",
       "    <tr>\n",
       "      <th>2</th>\n",
       "      <td>St. Patric's Day Promo</td>\n",
       "      <td>EU, N.America</td>\n",
       "      <td>2020-03-17</td>\n",
       "      <td>2020-03-19</td>\n",
       "    </tr>\n",
       "    <tr>\n",
       "      <th>3</th>\n",
       "      <td>Easter Promo</td>\n",
       "      <td>EU, CIS, APAC, N.America</td>\n",
       "      <td>2020-04-12</td>\n",
       "      <td>2020-04-19</td>\n",
       "    </tr>\n",
       "    <tr>\n",
       "      <th>4</th>\n",
       "      <td>4th of July Promo</td>\n",
       "      <td>N.America</td>\n",
       "      <td>2020-07-04</td>\n",
       "      <td>2020-07-11</td>\n",
       "    </tr>\n",
       "  </tbody>\n",
       "</table>\n",
       "</div>"
      ],
      "text/plain": [
       "                           name                   regions   start_dt  \\\n",
       "0      Christmas&New Year Promo             EU, N.America 2020-12-25   \n",
       "1  St. Valentine's Day Giveaway  EU, CIS, APAC, N.America 2020-02-14   \n",
       "2        St. Patric's Day Promo             EU, N.America 2020-03-17   \n",
       "3                  Easter Promo  EU, CIS, APAC, N.America 2020-04-12   \n",
       "4             4th of July Promo                 N.America 2020-07-04   \n",
       "\n",
       "   finish_dt  \n",
       "0 2021-01-03  \n",
       "1 2020-02-16  \n",
       "2 2020-03-19  \n",
       "3 2020-04-19  \n",
       "4 2020-07-11  "
      ]
     },
     "execution_count": 31,
     "metadata": {},
     "output_type": "execute_result"
    }
   ],
   "source": [
    "marketing_events.head()"
   ]
  },
  {
   "cell_type": "markdown",
   "metadata": {},
   "source": [
    "**Дубликатов в таблице с маркетинговыми событиями нет, все 14 событий также различны**"
   ]
  },
  {
   "cell_type": "code",
   "execution_count": 32,
   "metadata": {},
   "outputs": [
    {
     "data": {
      "text/plain": [
       "0"
      ]
     },
     "execution_count": 32,
     "metadata": {},
     "output_type": "execute_result"
    }
   ],
   "source": [
    "new_users.duplicated().sum()"
   ]
  },
  {
   "cell_type": "code",
   "execution_count": 33,
   "metadata": {},
   "outputs": [
    {
     "data": {
      "text/plain": [
       "0"
      ]
     },
     "execution_count": 33,
     "metadata": {},
     "output_type": "execute_result"
    }
   ],
   "source": [
    "new_users['user_id'].duplicated().sum()"
   ]
  },
  {
   "cell_type": "code",
   "execution_count": 34,
   "metadata": {},
   "outputs": [
    {
     "data": {
      "text/html": [
       "<div>\n",
       "<style scoped>\n",
       "    .dataframe tbody tr th:only-of-type {\n",
       "        vertical-align: middle;\n",
       "    }\n",
       "\n",
       "    .dataframe tbody tr th {\n",
       "        vertical-align: top;\n",
       "    }\n",
       "\n",
       "    .dataframe thead th {\n",
       "        text-align: right;\n",
       "    }\n",
       "</style>\n",
       "<table border=\"1\" class=\"dataframe\">\n",
       "  <thead>\n",
       "    <tr style=\"text-align: right;\">\n",
       "      <th></th>\n",
       "      <th>user_id</th>\n",
       "      <th>first_date</th>\n",
       "      <th>region</th>\n",
       "      <th>device</th>\n",
       "    </tr>\n",
       "  </thead>\n",
       "  <tbody>\n",
       "    <tr>\n",
       "      <th>0</th>\n",
       "      <td>D72A72121175D8BE</td>\n",
       "      <td>2020-12-07</td>\n",
       "      <td>EU</td>\n",
       "      <td>PC</td>\n",
       "    </tr>\n",
       "    <tr>\n",
       "      <th>1</th>\n",
       "      <td>F1C668619DFE6E65</td>\n",
       "      <td>2020-12-07</td>\n",
       "      <td>N.America</td>\n",
       "      <td>Android</td>\n",
       "    </tr>\n",
       "    <tr>\n",
       "      <th>2</th>\n",
       "      <td>2E1BF1D4C37EA01F</td>\n",
       "      <td>2020-12-07</td>\n",
       "      <td>EU</td>\n",
       "      <td>PC</td>\n",
       "    </tr>\n",
       "    <tr>\n",
       "      <th>3</th>\n",
       "      <td>50734A22C0C63768</td>\n",
       "      <td>2020-12-07</td>\n",
       "      <td>EU</td>\n",
       "      <td>iPhone</td>\n",
       "    </tr>\n",
       "    <tr>\n",
       "      <th>4</th>\n",
       "      <td>E1BDDCE0DAFA2679</td>\n",
       "      <td>2020-12-07</td>\n",
       "      <td>N.America</td>\n",
       "      <td>iPhone</td>\n",
       "    </tr>\n",
       "  </tbody>\n",
       "</table>\n",
       "</div>"
      ],
      "text/plain": [
       "            user_id first_date     region   device\n",
       "0  D72A72121175D8BE 2020-12-07         EU       PC\n",
       "1  F1C668619DFE6E65 2020-12-07  N.America  Android\n",
       "2  2E1BF1D4C37EA01F 2020-12-07         EU       PC\n",
       "3  50734A22C0C63768 2020-12-07         EU   iPhone\n",
       "4  E1BDDCE0DAFA2679 2020-12-07  N.America   iPhone"
      ]
     },
     "execution_count": 34,
     "metadata": {},
     "output_type": "execute_result"
    }
   ],
   "source": [
    "new_users.head()"
   ]
  },
  {
   "cell_type": "markdown",
   "metadata": {},
   "source": [
    "**Дубликатов в таблице с данными о зарегистрировавшихся пользователях также нет, повторяющиеся пользователи отсутствуют.**"
   ]
  },
  {
   "cell_type": "code",
   "execution_count": 35,
   "metadata": {},
   "outputs": [
    {
     "data": {
      "text/plain": [
       "0"
      ]
     },
     "execution_count": 35,
     "metadata": {},
     "output_type": "execute_result"
    }
   ],
   "source": [
    "events.duplicated().sum()"
   ]
  },
  {
   "cell_type": "code",
   "execution_count": 36,
   "metadata": {},
   "outputs": [
    {
     "data": {
      "text/html": [
       "<div>\n",
       "<style scoped>\n",
       "    .dataframe tbody tr th:only-of-type {\n",
       "        vertical-align: middle;\n",
       "    }\n",
       "\n",
       "    .dataframe tbody tr th {\n",
       "        vertical-align: top;\n",
       "    }\n",
       "\n",
       "    .dataframe thead th {\n",
       "        text-align: right;\n",
       "    }\n",
       "</style>\n",
       "<table border=\"1\" class=\"dataframe\">\n",
       "  <thead>\n",
       "    <tr style=\"text-align: right;\">\n",
       "      <th></th>\n",
       "      <th>user_id</th>\n",
       "      <th>event_dt</th>\n",
       "      <th>event_name</th>\n",
       "      <th>details</th>\n",
       "    </tr>\n",
       "  </thead>\n",
       "  <tbody>\n",
       "    <tr>\n",
       "      <th>0</th>\n",
       "      <td>E1BDDCE0DAFA2679</td>\n",
       "      <td>2020-12-07 20:22:03</td>\n",
       "      <td>purchase</td>\n",
       "      <td>99.99</td>\n",
       "    </tr>\n",
       "    <tr>\n",
       "      <th>1</th>\n",
       "      <td>7B6452F081F49504</td>\n",
       "      <td>2020-12-07 09:22:53</td>\n",
       "      <td>purchase</td>\n",
       "      <td>9.99</td>\n",
       "    </tr>\n",
       "    <tr>\n",
       "      <th>2</th>\n",
       "      <td>9CD9F34546DF254C</td>\n",
       "      <td>2020-12-07 12:59:29</td>\n",
       "      <td>purchase</td>\n",
       "      <td>4.99</td>\n",
       "    </tr>\n",
       "    <tr>\n",
       "      <th>3</th>\n",
       "      <td>96F27A054B191457</td>\n",
       "      <td>2020-12-07 04:02:40</td>\n",
       "      <td>purchase</td>\n",
       "      <td>4.99</td>\n",
       "    </tr>\n",
       "    <tr>\n",
       "      <th>4</th>\n",
       "      <td>1FD7660FDF94CA1F</td>\n",
       "      <td>2020-12-07 10:15:09</td>\n",
       "      <td>purchase</td>\n",
       "      <td>4.99</td>\n",
       "    </tr>\n",
       "  </tbody>\n",
       "</table>\n",
       "</div>"
      ],
      "text/plain": [
       "            user_id            event_dt event_name  details\n",
       "0  E1BDDCE0DAFA2679 2020-12-07 20:22:03   purchase    99.99\n",
       "1  7B6452F081F49504 2020-12-07 09:22:53   purchase     9.99\n",
       "2  9CD9F34546DF254C 2020-12-07 12:59:29   purchase     4.99\n",
       "3  96F27A054B191457 2020-12-07 04:02:40   purchase     4.99\n",
       "4  1FD7660FDF94CA1F 2020-12-07 10:15:09   purchase     4.99"
      ]
     },
     "execution_count": 36,
     "metadata": {},
     "output_type": "execute_result"
    }
   ],
   "source": [
    "events.head()"
   ]
  },
  {
   "cell_type": "code",
   "execution_count": 37,
   "metadata": {},
   "outputs": [
    {
     "data": {
      "text/plain": [
       "151233"
      ]
     },
     "execution_count": 37,
     "metadata": {},
     "output_type": "execute_result"
    }
   ],
   "source": [
    "events[['user_id', 'event_dt']].duplicated().sum()"
   ]
  },
  {
   "cell_type": "code",
   "execution_count": 38,
   "metadata": {},
   "outputs": [
    {
     "data": {
      "text/plain": [
       "0"
      ]
     },
     "execution_count": 38,
     "metadata": {},
     "output_type": "execute_result"
    }
   ],
   "source": [
    "events[['user_id', 'event_dt', 'event_name']].duplicated().sum()"
   ]
  },
  {
   "cell_type": "markdown",
   "metadata": {},
   "source": [
    "**Явных дубликатов в таблице с действиями пользователей нет, на дубликаты в отдельных стобцах проверять не будем - один пользователь может совершить несколько действий и несколько раз попасть в таблицу, время, тип события и детали также могут совпадать. Есть неявные дубликаты - пользователи, которые совершили несколько действий в одно время. Это можно объяснить тем, что браузер этих пользователей не фиксирует время каждого события.**"
   ]
  },
  {
   "cell_type": "code",
   "execution_count": 39,
   "metadata": {},
   "outputs": [
    {
     "data": {
      "text/plain": [
       "0"
      ]
     },
     "execution_count": 39,
     "metadata": {},
     "output_type": "execute_result"
    }
   ],
   "source": [
    "participants.duplicated().sum()"
   ]
  },
  {
   "cell_type": "code",
   "execution_count": 40,
   "metadata": {},
   "outputs": [
    {
     "data": {
      "text/plain": [
       "1602"
      ]
     },
     "execution_count": 40,
     "metadata": {},
     "output_type": "execute_result"
    }
   ],
   "source": [
    "participants['user_id'].duplicated().sum()"
   ]
  },
  {
   "cell_type": "code",
   "execution_count": 41,
   "metadata": {},
   "outputs": [
    {
     "data": {
      "text/plain": [
       "0"
      ]
     },
     "execution_count": 41,
     "metadata": {},
     "output_type": "execute_result"
    }
   ],
   "source": [
    "participants[['user_id', 'ab_test']].duplicated().sum()"
   ]
  },
  {
   "cell_type": "markdown",
   "metadata": {},
   "source": [
    "**Пользователей, которые учитываются в одном тесте несколько раз, нет**"
   ]
  },
  {
   "cell_type": "markdown",
   "metadata": {},
   "source": [
    "### Периоды, за которые представлены данные\n",
    "<a id=\"periods\"><a>"
   ]
  },
  {
   "cell_type": "code",
   "execution_count": 42,
   "metadata": {},
   "outputs": [
    {
     "data": {
      "text/html": [
       "<div>\n",
       "<style scoped>\n",
       "    .dataframe tbody tr th:only-of-type {\n",
       "        vertical-align: middle;\n",
       "    }\n",
       "\n",
       "    .dataframe tbody tr th {\n",
       "        vertical-align: top;\n",
       "    }\n",
       "\n",
       "    .dataframe thead th {\n",
       "        text-align: right;\n",
       "    }\n",
       "</style>\n",
       "<table border=\"1\" class=\"dataframe\">\n",
       "  <thead>\n",
       "    <tr style=\"text-align: right;\">\n",
       "      <th></th>\n",
       "      <th>user_id</th>\n",
       "      <th>first_date</th>\n",
       "      <th>region</th>\n",
       "      <th>device</th>\n",
       "    </tr>\n",
       "  </thead>\n",
       "  <tbody>\n",
       "    <tr>\n",
       "      <th>0</th>\n",
       "      <td>D72A72121175D8BE</td>\n",
       "      <td>2020-12-07</td>\n",
       "      <td>EU</td>\n",
       "      <td>PC</td>\n",
       "    </tr>\n",
       "    <tr>\n",
       "      <th>1</th>\n",
       "      <td>F1C668619DFE6E65</td>\n",
       "      <td>2020-12-07</td>\n",
       "      <td>N.America</td>\n",
       "      <td>Android</td>\n",
       "    </tr>\n",
       "    <tr>\n",
       "      <th>2</th>\n",
       "      <td>2E1BF1D4C37EA01F</td>\n",
       "      <td>2020-12-07</td>\n",
       "      <td>EU</td>\n",
       "      <td>PC</td>\n",
       "    </tr>\n",
       "    <tr>\n",
       "      <th>3</th>\n",
       "      <td>50734A22C0C63768</td>\n",
       "      <td>2020-12-07</td>\n",
       "      <td>EU</td>\n",
       "      <td>iPhone</td>\n",
       "    </tr>\n",
       "    <tr>\n",
       "      <th>4</th>\n",
       "      <td>E1BDDCE0DAFA2679</td>\n",
       "      <td>2020-12-07</td>\n",
       "      <td>N.America</td>\n",
       "      <td>iPhone</td>\n",
       "    </tr>\n",
       "  </tbody>\n",
       "</table>\n",
       "</div>"
      ],
      "text/plain": [
       "            user_id first_date     region   device\n",
       "0  D72A72121175D8BE 2020-12-07         EU       PC\n",
       "1  F1C668619DFE6E65 2020-12-07  N.America  Android\n",
       "2  2E1BF1D4C37EA01F 2020-12-07         EU       PC\n",
       "3  50734A22C0C63768 2020-12-07         EU   iPhone\n",
       "4  E1BDDCE0DAFA2679 2020-12-07  N.America   iPhone"
      ]
     },
     "execution_count": 42,
     "metadata": {},
     "output_type": "execute_result"
    }
   ],
   "source": [
    "new_users.head()"
   ]
  },
  {
   "cell_type": "code",
   "execution_count": 43,
   "metadata": {
    "scrolled": true
   },
   "outputs": [
    {
     "name": "stdout",
     "output_type": "stream",
     "text": [
      "Первая зафиксированная дата регистрации: 2020-12-07\n",
      "Последняя зафиксированная дата регистрации: 2020-12-23\n",
      "Длина периода: 16 days, 0:00:00\n"
     ]
    }
   ],
   "source": [
    "print(f'Первая зафиксированная дата регистрации: {new_users[\"first_date\"].dt.date.min()}')\n",
    "print(f'Последняя зафиксированная дата регистрации: {new_users[\"first_date\"].dt.date.max()}')\n",
    "print(f'Длина периода: {(new_users[\"first_date\"].dt.date.max() - new_users[\"first_date\"].dt.date.min())}')\n"
   ]
  },
  {
   "cell_type": "code",
   "execution_count": 44,
   "metadata": {},
   "outputs": [
    {
     "data": {
      "text/html": [
       "<div>\n",
       "<style scoped>\n",
       "    .dataframe tbody tr th:only-of-type {\n",
       "        vertical-align: middle;\n",
       "    }\n",
       "\n",
       "    .dataframe tbody tr th {\n",
       "        vertical-align: top;\n",
       "    }\n",
       "\n",
       "    .dataframe thead th {\n",
       "        text-align: right;\n",
       "    }\n",
       "</style>\n",
       "<table border=\"1\" class=\"dataframe\">\n",
       "  <thead>\n",
       "    <tr style=\"text-align: right;\">\n",
       "      <th></th>\n",
       "      <th>user_id</th>\n",
       "      <th>event_dt</th>\n",
       "      <th>event_name</th>\n",
       "      <th>details</th>\n",
       "    </tr>\n",
       "  </thead>\n",
       "  <tbody>\n",
       "    <tr>\n",
       "      <th>0</th>\n",
       "      <td>E1BDDCE0DAFA2679</td>\n",
       "      <td>2020-12-07 20:22:03</td>\n",
       "      <td>purchase</td>\n",
       "      <td>99.99</td>\n",
       "    </tr>\n",
       "    <tr>\n",
       "      <th>1</th>\n",
       "      <td>7B6452F081F49504</td>\n",
       "      <td>2020-12-07 09:22:53</td>\n",
       "      <td>purchase</td>\n",
       "      <td>9.99</td>\n",
       "    </tr>\n",
       "    <tr>\n",
       "      <th>2</th>\n",
       "      <td>9CD9F34546DF254C</td>\n",
       "      <td>2020-12-07 12:59:29</td>\n",
       "      <td>purchase</td>\n",
       "      <td>4.99</td>\n",
       "    </tr>\n",
       "    <tr>\n",
       "      <th>3</th>\n",
       "      <td>96F27A054B191457</td>\n",
       "      <td>2020-12-07 04:02:40</td>\n",
       "      <td>purchase</td>\n",
       "      <td>4.99</td>\n",
       "    </tr>\n",
       "    <tr>\n",
       "      <th>4</th>\n",
       "      <td>1FD7660FDF94CA1F</td>\n",
       "      <td>2020-12-07 10:15:09</td>\n",
       "      <td>purchase</td>\n",
       "      <td>4.99</td>\n",
       "    </tr>\n",
       "  </tbody>\n",
       "</table>\n",
       "</div>"
      ],
      "text/plain": [
       "            user_id            event_dt event_name  details\n",
       "0  E1BDDCE0DAFA2679 2020-12-07 20:22:03   purchase    99.99\n",
       "1  7B6452F081F49504 2020-12-07 09:22:53   purchase     9.99\n",
       "2  9CD9F34546DF254C 2020-12-07 12:59:29   purchase     4.99\n",
       "3  96F27A054B191457 2020-12-07 04:02:40   purchase     4.99\n",
       "4  1FD7660FDF94CA1F 2020-12-07 10:15:09   purchase     4.99"
      ]
     },
     "execution_count": 44,
     "metadata": {},
     "output_type": "execute_result"
    }
   ],
   "source": [
    "events.head()"
   ]
  },
  {
   "cell_type": "code",
   "execution_count": 45,
   "metadata": {
    "scrolled": true
   },
   "outputs": [
    {
     "name": "stdout",
     "output_type": "stream",
     "text": [
      "Дата первого зафиксированного события: 2020-12-07\n",
      "Дата последнего зафиксированного события: 2020-12-30\n",
      "Длина периода фиксации событий: 23 days, 0:00:00\n"
     ]
    }
   ],
   "source": [
    "print(f'Дата первого зафиксированного события: {events[\"event_dt\"].dt.date.min()}')\n",
    "print(f'Дата последнего зафиксированного события: {events[\"event_dt\"].dt.date.max()}')\n",
    "print(f'Длина периода фиксации событий: {(events[\"event_dt\"].dt.date.max() - events[\"event_dt\"].dt.date.min())}')"
   ]
  },
  {
   "cell_type": "code",
   "execution_count": 46,
   "metadata": {},
   "outputs": [
    {
     "data": {
      "text/html": [
       "<div>\n",
       "<style scoped>\n",
       "    .dataframe tbody tr th:only-of-type {\n",
       "        vertical-align: middle;\n",
       "    }\n",
       "\n",
       "    .dataframe tbody tr th {\n",
       "        vertical-align: top;\n",
       "    }\n",
       "\n",
       "    .dataframe thead th {\n",
       "        text-align: right;\n",
       "    }\n",
       "</style>\n",
       "<table border=\"1\" class=\"dataframe\">\n",
       "  <thead>\n",
       "    <tr style=\"text-align: right;\">\n",
       "      <th></th>\n",
       "      <th>name</th>\n",
       "      <th>regions</th>\n",
       "      <th>start_dt</th>\n",
       "      <th>finish_dt</th>\n",
       "    </tr>\n",
       "  </thead>\n",
       "  <tbody>\n",
       "    <tr>\n",
       "      <th>0</th>\n",
       "      <td>Christmas&amp;New Year Promo</td>\n",
       "      <td>EU, N.America</td>\n",
       "      <td>2020-12-25</td>\n",
       "      <td>2021-01-03</td>\n",
       "    </tr>\n",
       "    <tr>\n",
       "      <th>1</th>\n",
       "      <td>St. Valentine's Day Giveaway</td>\n",
       "      <td>EU, CIS, APAC, N.America</td>\n",
       "      <td>2020-02-14</td>\n",
       "      <td>2020-02-16</td>\n",
       "    </tr>\n",
       "    <tr>\n",
       "      <th>2</th>\n",
       "      <td>St. Patric's Day Promo</td>\n",
       "      <td>EU, N.America</td>\n",
       "      <td>2020-03-17</td>\n",
       "      <td>2020-03-19</td>\n",
       "    </tr>\n",
       "    <tr>\n",
       "      <th>3</th>\n",
       "      <td>Easter Promo</td>\n",
       "      <td>EU, CIS, APAC, N.America</td>\n",
       "      <td>2020-04-12</td>\n",
       "      <td>2020-04-19</td>\n",
       "    </tr>\n",
       "    <tr>\n",
       "      <th>4</th>\n",
       "      <td>4th of July Promo</td>\n",
       "      <td>N.America</td>\n",
       "      <td>2020-07-04</td>\n",
       "      <td>2020-07-11</td>\n",
       "    </tr>\n",
       "    <tr>\n",
       "      <th>5</th>\n",
       "      <td>Black Friday Ads Campaign</td>\n",
       "      <td>EU, CIS, APAC, N.America</td>\n",
       "      <td>2020-11-26</td>\n",
       "      <td>2020-12-01</td>\n",
       "    </tr>\n",
       "    <tr>\n",
       "      <th>6</th>\n",
       "      <td>Chinese New Year Promo</td>\n",
       "      <td>APAC</td>\n",
       "      <td>2020-01-25</td>\n",
       "      <td>2020-02-07</td>\n",
       "    </tr>\n",
       "    <tr>\n",
       "      <th>7</th>\n",
       "      <td>Labor day (May 1st) Ads Campaign</td>\n",
       "      <td>EU, CIS, APAC</td>\n",
       "      <td>2020-05-01</td>\n",
       "      <td>2020-05-03</td>\n",
       "    </tr>\n",
       "    <tr>\n",
       "      <th>8</th>\n",
       "      <td>International Women's Day Promo</td>\n",
       "      <td>EU, CIS, APAC</td>\n",
       "      <td>2020-03-08</td>\n",
       "      <td>2020-03-10</td>\n",
       "    </tr>\n",
       "    <tr>\n",
       "      <th>9</th>\n",
       "      <td>Victory Day CIS (May 9th) Event</td>\n",
       "      <td>CIS</td>\n",
       "      <td>2020-05-09</td>\n",
       "      <td>2020-05-11</td>\n",
       "    </tr>\n",
       "    <tr>\n",
       "      <th>10</th>\n",
       "      <td>CIS New Year Gift Lottery</td>\n",
       "      <td>CIS</td>\n",
       "      <td>2020-12-30</td>\n",
       "      <td>2021-01-07</td>\n",
       "    </tr>\n",
       "    <tr>\n",
       "      <th>11</th>\n",
       "      <td>Dragon Boat Festival Giveaway</td>\n",
       "      <td>APAC</td>\n",
       "      <td>2020-06-25</td>\n",
       "      <td>2020-07-01</td>\n",
       "    </tr>\n",
       "    <tr>\n",
       "      <th>12</th>\n",
       "      <td>Single's Day Gift Promo</td>\n",
       "      <td>APAC</td>\n",
       "      <td>2020-11-11</td>\n",
       "      <td>2020-11-12</td>\n",
       "    </tr>\n",
       "    <tr>\n",
       "      <th>13</th>\n",
       "      <td>Chinese Moon Festival</td>\n",
       "      <td>APAC</td>\n",
       "      <td>2020-10-01</td>\n",
       "      <td>2020-10-07</td>\n",
       "    </tr>\n",
       "  </tbody>\n",
       "</table>\n",
       "</div>"
      ],
      "text/plain": [
       "                                name                   regions   start_dt  \\\n",
       "0           Christmas&New Year Promo             EU, N.America 2020-12-25   \n",
       "1       St. Valentine's Day Giveaway  EU, CIS, APAC, N.America 2020-02-14   \n",
       "2             St. Patric's Day Promo             EU, N.America 2020-03-17   \n",
       "3                       Easter Promo  EU, CIS, APAC, N.America 2020-04-12   \n",
       "4                  4th of July Promo                 N.America 2020-07-04   \n",
       "5          Black Friday Ads Campaign  EU, CIS, APAC, N.America 2020-11-26   \n",
       "6             Chinese New Year Promo                      APAC 2020-01-25   \n",
       "7   Labor day (May 1st) Ads Campaign             EU, CIS, APAC 2020-05-01   \n",
       "8    International Women's Day Promo             EU, CIS, APAC 2020-03-08   \n",
       "9    Victory Day CIS (May 9th) Event                       CIS 2020-05-09   \n",
       "10         CIS New Year Gift Lottery                       CIS 2020-12-30   \n",
       "11     Dragon Boat Festival Giveaway                      APAC 2020-06-25   \n",
       "12           Single's Day Gift Promo                      APAC 2020-11-11   \n",
       "13             Chinese Moon Festival                      APAC 2020-10-01   \n",
       "\n",
       "    finish_dt  \n",
       "0  2021-01-03  \n",
       "1  2020-02-16  \n",
       "2  2020-03-19  \n",
       "3  2020-04-19  \n",
       "4  2020-07-11  \n",
       "5  2020-12-01  \n",
       "6  2020-02-07  \n",
       "7  2020-05-03  \n",
       "8  2020-03-10  \n",
       "9  2020-05-11  \n",
       "10 2021-01-07  \n",
       "11 2020-07-01  \n",
       "12 2020-11-12  \n",
       "13 2020-10-07  "
      ]
     },
     "execution_count": 46,
     "metadata": {},
     "output_type": "execute_result"
    }
   ],
   "source": [
    "marketing_events"
   ]
  },
  {
   "cell_type": "markdown",
   "metadata": {},
   "source": []
  },
  {
   "cell_type": "markdown",
   "metadata": {},
   "source": [
    "## Оценка корректности проведения теста.\n",
    "<a id=\"correctness\"><a>"
   ]
  },
  {
   "cell_type": "markdown",
   "metadata": {},
   "source": [
    "### Соответствие данных требованиям технического задания. Проверка корректности всех пунктов технического задания.\n",
    "<a id=\"tz\"><a>"
   ]
  },
  {
   "cell_type": "markdown",
   "metadata": {},
   "source": [
    "**Создадим что-то вроде профилей пользователей, чтобы было удобнее по ним отсекать ненужное. Сразу же добавим туда лайфтайм.**"
   ]
  },
  {
   "cell_type": "code",
   "execution_count": 47,
   "metadata": {},
   "outputs": [
    {
     "data": {
      "text/html": [
       "<div>\n",
       "<style scoped>\n",
       "    .dataframe tbody tr th:only-of-type {\n",
       "        vertical-align: middle;\n",
       "    }\n",
       "\n",
       "    .dataframe tbody tr th {\n",
       "        vertical-align: top;\n",
       "    }\n",
       "\n",
       "    .dataframe thead th {\n",
       "        text-align: right;\n",
       "    }\n",
       "</style>\n",
       "<table border=\"1\" class=\"dataframe\">\n",
       "  <thead>\n",
       "    <tr style=\"text-align: right;\">\n",
       "      <th></th>\n",
       "      <th>user_id</th>\n",
       "      <th>first_date</th>\n",
       "      <th>region</th>\n",
       "      <th>device</th>\n",
       "      <th>event_dt</th>\n",
       "      <th>event_name</th>\n",
       "      <th>details</th>\n",
       "      <th>lifetime</th>\n",
       "      <th>group</th>\n",
       "      <th>ab_test</th>\n",
       "      <th>event_date</th>\n",
       "    </tr>\n",
       "  </thead>\n",
       "  <tbody>\n",
       "    <tr>\n",
       "      <th>0</th>\n",
       "      <td>D72A72121175D8BE</td>\n",
       "      <td>2020-12-07</td>\n",
       "      <td>EU</td>\n",
       "      <td>PC</td>\n",
       "      <td>2020-12-07 21:52:10</td>\n",
       "      <td>product_page</td>\n",
       "      <td>NaN</td>\n",
       "      <td>0.0</td>\n",
       "      <td>A</td>\n",
       "      <td>recommender_system_test</td>\n",
       "      <td>2020-12-07</td>\n",
       "    </tr>\n",
       "    <tr>\n",
       "      <th>1</th>\n",
       "      <td>D72A72121175D8BE</td>\n",
       "      <td>2020-12-07</td>\n",
       "      <td>EU</td>\n",
       "      <td>PC</td>\n",
       "      <td>2020-12-07 21:52:07</td>\n",
       "      <td>login</td>\n",
       "      <td>NaN</td>\n",
       "      <td>0.0</td>\n",
       "      <td>A</td>\n",
       "      <td>recommender_system_test</td>\n",
       "      <td>2020-12-07</td>\n",
       "    </tr>\n",
       "    <tr>\n",
       "      <th>2</th>\n",
       "      <td>F1C668619DFE6E65</td>\n",
       "      <td>2020-12-07</td>\n",
       "      <td>N.America</td>\n",
       "      <td>Android</td>\n",
       "      <td>2020-12-07 16:38:09</td>\n",
       "      <td>product_page</td>\n",
       "      <td>NaN</td>\n",
       "      <td>0.0</td>\n",
       "      <td>NaN</td>\n",
       "      <td>NaN</td>\n",
       "      <td>2020-12-07</td>\n",
       "    </tr>\n",
       "    <tr>\n",
       "      <th>3</th>\n",
       "      <td>F1C668619DFE6E65</td>\n",
       "      <td>2020-12-07</td>\n",
       "      <td>N.America</td>\n",
       "      <td>Android</td>\n",
       "      <td>2020-12-08 02:02:34</td>\n",
       "      <td>product_page</td>\n",
       "      <td>NaN</td>\n",
       "      <td>1.0</td>\n",
       "      <td>NaN</td>\n",
       "      <td>NaN</td>\n",
       "      <td>2020-12-08</td>\n",
       "    </tr>\n",
       "    <tr>\n",
       "      <th>4</th>\n",
       "      <td>F1C668619DFE6E65</td>\n",
       "      <td>2020-12-07</td>\n",
       "      <td>N.America</td>\n",
       "      <td>Android</td>\n",
       "      <td>2020-12-23 14:35:41</td>\n",
       "      <td>product_page</td>\n",
       "      <td>NaN</td>\n",
       "      <td>16.0</td>\n",
       "      <td>NaN</td>\n",
       "      <td>NaN</td>\n",
       "      <td>2020-12-23</td>\n",
       "    </tr>\n",
       "  </tbody>\n",
       "</table>\n",
       "</div>"
      ],
      "text/plain": [
       "            user_id first_date     region   device            event_dt  \\\n",
       "0  D72A72121175D8BE 2020-12-07         EU       PC 2020-12-07 21:52:10   \n",
       "1  D72A72121175D8BE 2020-12-07         EU       PC 2020-12-07 21:52:07   \n",
       "2  F1C668619DFE6E65 2020-12-07  N.America  Android 2020-12-07 16:38:09   \n",
       "3  F1C668619DFE6E65 2020-12-07  N.America  Android 2020-12-08 02:02:34   \n",
       "4  F1C668619DFE6E65 2020-12-07  N.America  Android 2020-12-23 14:35:41   \n",
       "\n",
       "     event_name  details  lifetime group                  ab_test  event_date  \n",
       "0  product_page      NaN       0.0     A  recommender_system_test  2020-12-07  \n",
       "1         login      NaN       0.0     A  recommender_system_test  2020-12-07  \n",
       "2  product_page      NaN       0.0   NaN                      NaN  2020-12-07  \n",
       "3  product_page      NaN       1.0   NaN                      NaN  2020-12-08  \n",
       "4  product_page      NaN      16.0   NaN                      NaN  2020-12-23  "
      ]
     },
     "execution_count": 47,
     "metadata": {},
     "output_type": "execute_result"
    }
   ],
   "source": [
    "profile = new_users.merge(\n",
    "        events,\n",
    "        on='user_id',\n",
    "        how='left',\n",
    "    )\n",
    "profile['lifetime'] = (\n",
    "    profile['event_dt'] - profile['first_date']\n",
    "    ).dt.days\n",
    "profile['lifetime'] = (\n",
    "    profile['event_dt'] - profile['first_date']\n",
    "    ).dt.days\n",
    "#profile = profile.query('lifetime < 14')\n",
    "profile =  profile.merge(\n",
    "        participants,\n",
    "        on='user_id',\n",
    "        how='left',\n",
    "    )\n",
    "profile['event_date'] = profile['event_dt'].dt.date\n",
    "profile.head()"
   ]
  },
  {
   "cell_type": "markdown",
   "metadata": {},
   "source": [
    "#### Название теста: recommender_system_test"
   ]
  },
  {
   "cell_type": "markdown",
   "metadata": {},
   "source": [
    "**Уберем из профилей участников конкурентного теста**"
   ]
  },
  {
   "cell_type": "code",
   "execution_count": 48,
   "metadata": {
    "scrolled": true
   },
   "outputs": [
    {
     "data": {
      "text/html": [
       "<div>\n",
       "<style scoped>\n",
       "    .dataframe tbody tr th:only-of-type {\n",
       "        vertical-align: middle;\n",
       "    }\n",
       "\n",
       "    .dataframe tbody tr th {\n",
       "        vertical-align: top;\n",
       "    }\n",
       "\n",
       "    .dataframe thead th {\n",
       "        text-align: right;\n",
       "    }\n",
       "</style>\n",
       "<table border=\"1\" class=\"dataframe\">\n",
       "  <thead>\n",
       "    <tr style=\"text-align: right;\">\n",
       "      <th></th>\n",
       "      <th>user_id</th>\n",
       "      <th>first_date</th>\n",
       "      <th>region</th>\n",
       "      <th>device</th>\n",
       "      <th>event_dt</th>\n",
       "      <th>event_name</th>\n",
       "      <th>details</th>\n",
       "      <th>lifetime</th>\n",
       "      <th>group</th>\n",
       "      <th>ab_test</th>\n",
       "      <th>event_date</th>\n",
       "    </tr>\n",
       "  </thead>\n",
       "  <tbody>\n",
       "    <tr>\n",
       "      <th>0</th>\n",
       "      <td>D72A72121175D8BE</td>\n",
       "      <td>2020-12-07</td>\n",
       "      <td>EU</td>\n",
       "      <td>PC</td>\n",
       "      <td>2020-12-07 21:52:10</td>\n",
       "      <td>product_page</td>\n",
       "      <td>NaN</td>\n",
       "      <td>0.0</td>\n",
       "      <td>A</td>\n",
       "      <td>recommender_system_test</td>\n",
       "      <td>2020-12-07</td>\n",
       "    </tr>\n",
       "    <tr>\n",
       "      <th>1</th>\n",
       "      <td>D72A72121175D8BE</td>\n",
       "      <td>2020-12-07</td>\n",
       "      <td>EU</td>\n",
       "      <td>PC</td>\n",
       "      <td>2020-12-07 21:52:07</td>\n",
       "      <td>login</td>\n",
       "      <td>NaN</td>\n",
       "      <td>0.0</td>\n",
       "      <td>A</td>\n",
       "      <td>recommender_system_test</td>\n",
       "      <td>2020-12-07</td>\n",
       "    </tr>\n",
       "    <tr>\n",
       "      <th>90</th>\n",
       "      <td>E6DE857AFBDC6102</td>\n",
       "      <td>2020-12-07</td>\n",
       "      <td>EU</td>\n",
       "      <td>PC</td>\n",
       "      <td>NaT</td>\n",
       "      <td>NaN</td>\n",
       "      <td>NaN</td>\n",
       "      <td>NaN</td>\n",
       "      <td>B</td>\n",
       "      <td>recommender_system_test</td>\n",
       "      <td>NaT</td>\n",
       "    </tr>\n",
       "    <tr>\n",
       "      <th>146</th>\n",
       "      <td>DD4352CDCF8C3D57</td>\n",
       "      <td>2020-12-07</td>\n",
       "      <td>EU</td>\n",
       "      <td>Android</td>\n",
       "      <td>2020-12-07 15:32:54</td>\n",
       "      <td>product_page</td>\n",
       "      <td>NaN</td>\n",
       "      <td>0.0</td>\n",
       "      <td>B</td>\n",
       "      <td>recommender_system_test</td>\n",
       "      <td>2020-12-07</td>\n",
       "    </tr>\n",
       "    <tr>\n",
       "      <th>148</th>\n",
       "      <td>DD4352CDCF8C3D57</td>\n",
       "      <td>2020-12-07</td>\n",
       "      <td>EU</td>\n",
       "      <td>Android</td>\n",
       "      <td>2020-12-08 08:29:31</td>\n",
       "      <td>product_page</td>\n",
       "      <td>NaN</td>\n",
       "      <td>1.0</td>\n",
       "      <td>B</td>\n",
       "      <td>recommender_system_test</td>\n",
       "      <td>2020-12-08</td>\n",
       "    </tr>\n",
       "  </tbody>\n",
       "</table>\n",
       "</div>"
      ],
      "text/plain": [
       "              user_id first_date region   device            event_dt  \\\n",
       "0    D72A72121175D8BE 2020-12-07     EU       PC 2020-12-07 21:52:10   \n",
       "1    D72A72121175D8BE 2020-12-07     EU       PC 2020-12-07 21:52:07   \n",
       "90   E6DE857AFBDC6102 2020-12-07     EU       PC                 NaT   \n",
       "146  DD4352CDCF8C3D57 2020-12-07     EU  Android 2020-12-07 15:32:54   \n",
       "148  DD4352CDCF8C3D57 2020-12-07     EU  Android 2020-12-08 08:29:31   \n",
       "\n",
       "       event_name  details  lifetime group                  ab_test  \\\n",
       "0    product_page      NaN       0.0     A  recommender_system_test   \n",
       "1           login      NaN       0.0     A  recommender_system_test   \n",
       "90            NaN      NaN       NaN     B  recommender_system_test   \n",
       "146  product_page      NaN       0.0     B  recommender_system_test   \n",
       "148  product_page      NaN       1.0     B  recommender_system_test   \n",
       "\n",
       "     event_date  \n",
       "0    2020-12-07  \n",
       "1    2020-12-07  \n",
       "90          NaT  \n",
       "146  2020-12-07  \n",
       "148  2020-12-08  "
      ]
     },
     "execution_count": 48,
     "metadata": {},
     "output_type": "execute_result"
    }
   ],
   "source": [
    "profile = profile.query('ab_test == \"recommender_system_test\" ')\n",
    "profile.head()"
   ]
  },
  {
   "cell_type": "code",
   "execution_count": 49,
   "metadata": {},
   "outputs": [
    {
     "data": {
      "text/plain": [
       "6701"
      ]
     },
     "execution_count": 49,
     "metadata": {},
     "output_type": "execute_result"
    }
   ],
   "source": [
    "profile['user_id'].nunique()"
   ]
  },
  {
   "cell_type": "markdown",
   "metadata": {},
   "source": [
    "<div class=\"alert alert-info\"> <b>Комментарии студента:</b> Проверка соответствия ТЗ до отчистки данных:</div>"
   ]
  },
  {
   "cell_type": "markdown",
   "metadata": {},
   "source": [
    "#### Проверим соответствие ТЗ до очистки данных"
   ]
  },
  {
   "cell_type": "code",
   "execution_count": 50,
   "metadata": {
    "scrolled": false
   },
   "outputs": [
    {
     "name": "stdout",
     "output_type": "stream",
     "text": [
      "Ожидаемое количество пользователей теста: 6000, реальное количество: 6701\n"
     ]
    }
   ],
   "source": [
    "print('Ожидаемое количество пользователей теста: 6000, реальное количество:', profile['user_id'].nunique())"
   ]
  },
  {
   "cell_type": "code",
   "execution_count": 51,
   "metadata": {},
   "outputs": [
    {
     "name": "stdout",
     "output_type": "stream",
     "text": [
      "По техническому заданию дата запуска теста: 2020-12-07, Дата окончания теста: 2021-01-04\n",
      "Дата первого зафиксированного события: 2020-12-07\n",
      "Дата последнего зафиксированного события: 2020-12-29\n"
     ]
    }
   ],
   "source": [
    "print('По техническому заданию дата запуска теста: 2020-12-07, Дата окончания теста: 2021-01-04')\n",
    "print('Дата первого зафиксированного события:', profile.dropna()['event_date'].min())\n",
    "print('Дата последнего зафиксированного события:', profile.dropna()['event_date'].max())"
   ]
  },
  {
   "cell_type": "markdown",
   "metadata": {},
   "source": [
    "Видим несостыковку: тест заканчивается 4 января, а данные мы перестаем принимать 29 декабря"
   ]
  },
  {
   "cell_type": "code",
   "execution_count": 52,
   "metadata": {},
   "outputs": [
    {
     "name": "stdout",
     "output_type": "stream",
     "text": [
      "По техническому заданию дата последней регистрации - 21 декабря\n",
      "Дата первой регистрации: 2020-12-07 00:00:00\n",
      "Дата последней регистрации: 2020-12-21 00:00:00\n"
     ]
    }
   ],
   "source": [
    "print('По техническому заданию дата последней регистрации - 21 декабря')\n",
    "print('Дата первой регистрации:', profile['first_date'].min())\n",
    "print('Дата последней регистрации:', profile['first_date'].max())"
   ]
  },
  {
   "cell_type": "markdown",
   "metadata": {},
   "source": [
    "Тут все хорошо, противоречий нет"
   ]
  },
  {
   "cell_type": "code",
   "execution_count": 53,
   "metadata": {
    "scrolled": true
   },
   "outputs": [
    {
     "name": "stdout",
     "output_type": "stream",
     "text": [
      "По техническому заданию участники нашего теста - европейцы. \n",
      " На самом деле, распределение по регионам следующее:\n"
     ]
    },
    {
     "data": {
      "text/html": [
       "<div>\n",
       "<style scoped>\n",
       "    .dataframe tbody tr th:only-of-type {\n",
       "        vertical-align: middle;\n",
       "    }\n",
       "\n",
       "    .dataframe tbody tr th {\n",
       "        vertical-align: top;\n",
       "    }\n",
       "\n",
       "    .dataframe thead th {\n",
       "        text-align: right;\n",
       "    }\n",
       "</style>\n",
       "<table border=\"1\" class=\"dataframe\">\n",
       "  <thead>\n",
       "    <tr style=\"text-align: right;\">\n",
       "      <th></th>\n",
       "      <th>user_id</th>\n",
       "    </tr>\n",
       "    <tr>\n",
       "      <th>region</th>\n",
       "      <th></th>\n",
       "    </tr>\n",
       "  </thead>\n",
       "  <tbody>\n",
       "    <tr>\n",
       "      <th>APAC</th>\n",
       "      <td>72</td>\n",
       "    </tr>\n",
       "    <tr>\n",
       "      <th>CIS</th>\n",
       "      <td>55</td>\n",
       "    </tr>\n",
       "    <tr>\n",
       "      <th>EU</th>\n",
       "      <td>6351</td>\n",
       "    </tr>\n",
       "    <tr>\n",
       "      <th>N.America</th>\n",
       "      <td>223</td>\n",
       "    </tr>\n",
       "  </tbody>\n",
       "</table>\n",
       "</div>"
      ],
      "text/plain": [
       "           user_id\n",
       "region            \n",
       "APAC            72\n",
       "CIS             55\n",
       "EU            6351\n",
       "N.America      223"
      ]
     },
     "execution_count": 53,
     "metadata": {},
     "output_type": "execute_result"
    }
   ],
   "source": [
    "print('По техническому заданию участники нашего теста - европейцы. \\n На самом деле, распределение по регионам следующее:')\n",
    "profile.groupby('region')[['user_id']].nunique()"
   ]
  },
  {
   "cell_type": "markdown",
   "metadata": {},
   "source": [
    "Посмотрим на долю участников теста из Европы от всех зарегистрировавшихся вовремя европейцев"
   ]
  },
  {
   "cell_type": "code",
   "execution_count": 54,
   "metadata": {},
   "outputs": [
    {
     "name": "stdout",
     "output_type": "stream",
     "text": [
      "Доля участников теста от всех зарегистрировашихся вовремя европейцев: 0.15\n"
     ]
    }
   ],
   "source": [
    "start_date = pd.to_datetime('2020-12-07', format = \"%Y-%m-%d\")\n",
    "stop_date = pd.to_datetime('2020-12-21', format = \"%Y-%m-%d\")\n",
    "print('Доля участников теста от всех зарегистрировашихся вовремя европейцев:', profile.query('region==\"EU\"')['user_id'].nunique()/len(new_users.query('first_date <= @stop_date and region == \"EU\"')))"
   ]
  },
  {
   "cell_type": "markdown",
   "metadata": {},
   "source": [
    "Все хорошо, противоречий нет"
   ]
  },
  {
   "cell_type": "markdown",
   "metadata": {},
   "source": [
    "#### Лайфтайм пользователей - 14 дней"
   ]
  },
  {
   "cell_type": "code",
   "execution_count": 55,
   "metadata": {},
   "outputs": [
    {
     "data": {
      "text/plain": [
       "270"
      ]
     },
     "execution_count": 55,
     "metadata": {},
     "output_type": "execute_result"
    }
   ],
   "source": [
    "profile.query('lifetime > 14')[\"user_id\"].nunique()"
   ]
  },
  {
   "cell_type": "markdown",
   "metadata": {},
   "source": [
    "**Уберем события, которые произошли после 14 лайфтайма**"
   ]
  },
  {
   "cell_type": "code",
   "execution_count": 56,
   "metadata": {},
   "outputs": [],
   "source": [
    "profile = profile.query('not lifetime > 14')"
   ]
  },
  {
   "cell_type": "code",
   "execution_count": 57,
   "metadata": {
    "scrolled": false
   },
   "outputs": [
    {
     "data": {
      "text/html": [
       "<div>\n",
       "<style scoped>\n",
       "    .dataframe tbody tr th:only-of-type {\n",
       "        vertical-align: middle;\n",
       "    }\n",
       "\n",
       "    .dataframe tbody tr th {\n",
       "        vertical-align: top;\n",
       "    }\n",
       "\n",
       "    .dataframe thead th {\n",
       "        text-align: right;\n",
       "    }\n",
       "</style>\n",
       "<table border=\"1\" class=\"dataframe\">\n",
       "  <thead>\n",
       "    <tr style=\"text-align: right;\">\n",
       "      <th></th>\n",
       "      <th>user_id</th>\n",
       "      <th>first_date</th>\n",
       "      <th>region</th>\n",
       "      <th>device</th>\n",
       "      <th>event_dt</th>\n",
       "      <th>event_name</th>\n",
       "      <th>details</th>\n",
       "      <th>lifetime</th>\n",
       "      <th>group</th>\n",
       "      <th>ab_test</th>\n",
       "      <th>event_date</th>\n",
       "    </tr>\n",
       "  </thead>\n",
       "  <tbody>\n",
       "    <tr>\n",
       "      <th>0</th>\n",
       "      <td>D72A72121175D8BE</td>\n",
       "      <td>2020-12-07</td>\n",
       "      <td>EU</td>\n",
       "      <td>PC</td>\n",
       "      <td>2020-12-07 21:52:10</td>\n",
       "      <td>product_page</td>\n",
       "      <td>NaN</td>\n",
       "      <td>0.0</td>\n",
       "      <td>A</td>\n",
       "      <td>recommender_system_test</td>\n",
       "      <td>2020-12-07</td>\n",
       "    </tr>\n",
       "    <tr>\n",
       "      <th>1</th>\n",
       "      <td>D72A72121175D8BE</td>\n",
       "      <td>2020-12-07</td>\n",
       "      <td>EU</td>\n",
       "      <td>PC</td>\n",
       "      <td>2020-12-07 21:52:07</td>\n",
       "      <td>login</td>\n",
       "      <td>NaN</td>\n",
       "      <td>0.0</td>\n",
       "      <td>A</td>\n",
       "      <td>recommender_system_test</td>\n",
       "      <td>2020-12-07</td>\n",
       "    </tr>\n",
       "    <tr>\n",
       "      <th>90</th>\n",
       "      <td>E6DE857AFBDC6102</td>\n",
       "      <td>2020-12-07</td>\n",
       "      <td>EU</td>\n",
       "      <td>PC</td>\n",
       "      <td>NaT</td>\n",
       "      <td>NaN</td>\n",
       "      <td>NaN</td>\n",
       "      <td>NaN</td>\n",
       "      <td>B</td>\n",
       "      <td>recommender_system_test</td>\n",
       "      <td>NaT</td>\n",
       "    </tr>\n",
       "    <tr>\n",
       "      <th>146</th>\n",
       "      <td>DD4352CDCF8C3D57</td>\n",
       "      <td>2020-12-07</td>\n",
       "      <td>EU</td>\n",
       "      <td>Android</td>\n",
       "      <td>2020-12-07 15:32:54</td>\n",
       "      <td>product_page</td>\n",
       "      <td>NaN</td>\n",
       "      <td>0.0</td>\n",
       "      <td>B</td>\n",
       "      <td>recommender_system_test</td>\n",
       "      <td>2020-12-07</td>\n",
       "    </tr>\n",
       "    <tr>\n",
       "      <th>148</th>\n",
       "      <td>DD4352CDCF8C3D57</td>\n",
       "      <td>2020-12-07</td>\n",
       "      <td>EU</td>\n",
       "      <td>Android</td>\n",
       "      <td>2020-12-08 08:29:31</td>\n",
       "      <td>product_page</td>\n",
       "      <td>NaN</td>\n",
       "      <td>1.0</td>\n",
       "      <td>B</td>\n",
       "      <td>recommender_system_test</td>\n",
       "      <td>2020-12-08</td>\n",
       "    </tr>\n",
       "  </tbody>\n",
       "</table>\n",
       "</div>"
      ],
      "text/plain": [
       "              user_id first_date region   device            event_dt  \\\n",
       "0    D72A72121175D8BE 2020-12-07     EU       PC 2020-12-07 21:52:10   \n",
       "1    D72A72121175D8BE 2020-12-07     EU       PC 2020-12-07 21:52:07   \n",
       "90   E6DE857AFBDC6102 2020-12-07     EU       PC                 NaT   \n",
       "146  DD4352CDCF8C3D57 2020-12-07     EU  Android 2020-12-07 15:32:54   \n",
       "148  DD4352CDCF8C3D57 2020-12-07     EU  Android 2020-12-08 08:29:31   \n",
       "\n",
       "       event_name  details  lifetime group                  ab_test  \\\n",
       "0    product_page      NaN       0.0     A  recommender_system_test   \n",
       "1           login      NaN       0.0     A  recommender_system_test   \n",
       "90            NaN      NaN       NaN     B  recommender_system_test   \n",
       "146  product_page      NaN       0.0     B  recommender_system_test   \n",
       "148  product_page      NaN       1.0     B  recommender_system_test   \n",
       "\n",
       "     event_date  \n",
       "0    2020-12-07  \n",
       "1    2020-12-07  \n",
       "90          NaT  \n",
       "146  2020-12-07  \n",
       "148  2020-12-08  "
      ]
     },
     "execution_count": 57,
     "metadata": {},
     "output_type": "execute_result"
    }
   ],
   "source": [
    "profile.head()"
   ]
  },
  {
   "cell_type": "markdown",
   "metadata": {},
   "source": [
    "#### дата запуска теста: 2020-12-07, дата окончания теста: 2021-01-04"
   ]
  },
  {
   "cell_type": "markdown",
   "metadata": {},
   "source": [
    "**Посмотрим, в какие даты фиксировались действия пользователей**"
   ]
  },
  {
   "cell_type": "code",
   "execution_count": 58,
   "metadata": {
    "scrolled": true
   },
   "outputs": [
    {
     "name": "stdout",
     "output_type": "stream",
     "text": [
      "Дата первого зафиксированного события: 2020-12-07\n",
      "Дата последнего зафиксированного события: 2020-12-29\n"
     ]
    }
   ],
   "source": [
    "print('Дата первого зафиксированного события:', profile['event_dt'].dropna().dt.date.min())\n",
    "print('Дата последнего зафиксированного события:', profile['event_dt'].dropna().dt.date.max())"
   ]
  },
  {
   "cell_type": "markdown",
   "metadata": {},
   "source": [
    "#### аудитория: в тест должно быть отобрано 15% новых пользователей из региона EU"
   ]
  },
  {
   "cell_type": "markdown",
   "metadata": {},
   "source": [
    "**Участники нашего теста - пользователи из Европы, причем количество участников теста составляет 15% от всех зарегистрированных в нужное время европейцев. Так как мы уже знаем, что самая ранняя дата регистрации всех пользователей совпадает с началом теста, будем отсекать только по остановке набора новых пользователей - 21 декабря 2020 года**"
   ]
  },
  {
   "cell_type": "code",
   "execution_count": 59,
   "metadata": {},
   "outputs": [
    {
     "name": "stdout",
     "output_type": "stream",
     "text": [
      "Доля участников теста от всех зарегистрировашихся вовремя европейцев: 0.15\n"
     ]
    }
   ],
   "source": [
    "start_date = pd.to_datetime('2020-12-07', format = \"%Y-%m-%d\")\n",
    "stop_date = pd.to_datetime('2020-12-21', format = \"%Y-%m-%d\")\n",
    "profile = profile.query('region == \"EU\"')\n",
    "print('Доля участников теста от всех зарегистрировашихся вовремя европейцев:', profile['user_id'].nunique()/len(new_users.query('first_date <= @stop_date and region == \"EU\"')))"
   ]
  },
  {
   "cell_type": "markdown",
   "metadata": {},
   "source": [
    "#### Ожидаемое количество участников теста:6000"
   ]
  },
  {
   "cell_type": "code",
   "execution_count": 60,
   "metadata": {},
   "outputs": [
    {
     "name": "stdout",
     "output_type": "stream",
     "text": [
      "Количество участников теста: 6351\n",
      "Количество участников контрольной группы: 3634\n",
      "Количество участников тестовой группы: 2717\n",
      "Доля участников контрольной группы: 0.5721933553771059\n",
      "Доля участников тестовой группы: 0.42780664462289403\n"
     ]
    }
   ],
   "source": [
    "print('Количество участников теста:', profile['user_id'].nunique())\n",
    "print('Количество участников контрольной группы:', profile.query('group ==\"A\"')['user_id'].nunique())\n",
    "print('Количество участников тестовой группы:', profile.query('group ==\"B\"')['user_id'].nunique())\n",
    "print('Доля участников контрольной группы:', profile.query('group ==\"A\"')['user_id'].nunique()/profile['user_id'].nunique())\n",
    "print('Доля участников тестовой группы:', profile.query('group ==\"B\"')['user_id'].nunique()/profile['user_id'].nunique())"
   ]
  },
  {
   "cell_type": "markdown",
   "metadata": {},
   "source": [
    "#### Дата остановки набора новых пользователей: 21 декабря 2020 "
   ]
  },
  {
   "cell_type": "code",
   "execution_count": 61,
   "metadata": {},
   "outputs": [
    {
     "data": {
      "text/plain": [
       "Timestamp('2020-12-21 00:00:00')"
      ]
     },
     "execution_count": 61,
     "metadata": {},
     "output_type": "execute_result"
    }
   ],
   "source": [
    "profile['first_date'].max()"
   ]
  },
  {
   "cell_type": "code",
   "execution_count": 62,
   "metadata": {},
   "outputs": [
    {
     "data": {
      "text/plain": [
       "Timestamp('2020-12-07 00:00:00')"
      ]
     },
     "execution_count": 62,
     "metadata": {},
     "output_type": "execute_result"
    }
   ],
   "source": [
    "profile['first_date'].min()"
   ]
  },
  {
   "cell_type": "markdown",
   "metadata": {},
   "source": [
    "**Тут все нормально**"
   ]
  },
  {
   "cell_type": "markdown",
   "metadata": {},
   "source": [
    "### Время проведения теста. Убедимся, что оно не совпадает с маркетинговыми и другими активностями.\n",
    "<a id=\"time\"><a>"
   ]
  },
  {
   "cell_type": "code",
   "execution_count": 63,
   "metadata": {},
   "outputs": [],
   "source": [
    "start_date = pd.to_datetime('2020-12-07', format ='%Y-%m-%d')\n",
    "end_date = pd.to_datetime('2021-01-04', format ='%Y-%m-%d')\n"
   ]
  },
  {
   "cell_type": "code",
   "execution_count": 64,
   "metadata": {},
   "outputs": [
    {
     "data": {
      "text/html": [
       "<div>\n",
       "<style scoped>\n",
       "    .dataframe tbody tr th:only-of-type {\n",
       "        vertical-align: middle;\n",
       "    }\n",
       "\n",
       "    .dataframe tbody tr th {\n",
       "        vertical-align: top;\n",
       "    }\n",
       "\n",
       "    .dataframe thead th {\n",
       "        text-align: right;\n",
       "    }\n",
       "</style>\n",
       "<table border=\"1\" class=\"dataframe\">\n",
       "  <thead>\n",
       "    <tr style=\"text-align: right;\">\n",
       "      <th></th>\n",
       "      <th>name</th>\n",
       "      <th>regions</th>\n",
       "      <th>start_dt</th>\n",
       "      <th>finish_dt</th>\n",
       "    </tr>\n",
       "  </thead>\n",
       "  <tbody>\n",
       "    <tr>\n",
       "      <th>0</th>\n",
       "      <td>Christmas&amp;New Year Promo</td>\n",
       "      <td>EU, N.America</td>\n",
       "      <td>2020-12-25</td>\n",
       "      <td>2021-01-03</td>\n",
       "    </tr>\n",
       "    <tr>\n",
       "      <th>10</th>\n",
       "      <td>CIS New Year Gift Lottery</td>\n",
       "      <td>CIS</td>\n",
       "      <td>2020-12-30</td>\n",
       "      <td>2021-01-07</td>\n",
       "    </tr>\n",
       "  </tbody>\n",
       "</table>\n",
       "</div>"
      ],
      "text/plain": [
       "                         name        regions   start_dt  finish_dt\n",
       "0    Christmas&New Year Promo  EU, N.America 2020-12-25 2021-01-03\n",
       "10  CIS New Year Gift Lottery            CIS 2020-12-30 2021-01-07"
      ]
     },
     "execution_count": 64,
     "metadata": {},
     "output_type": "execute_result"
    }
   ],
   "source": [
    "marketing_events.query('@end_date >= start_dt >= @start_date or @end_date >= finish_dt >= @start_date')"
   ]
  },
  {
   "cell_type": "markdown",
   "metadata": {},
   "source": [
    "**Тест совпал с двумя маркетинговыми событиями - Christmas&New Year Promo и CIS New Year Gift Lottery, однако в Европе проходило только первое.**"
   ]
  },
  {
   "cell_type": "code",
   "execution_count": 65,
   "metadata": {},
   "outputs": [
    {
     "data": {
      "text/html": [
       "<div>\n",
       "<style scoped>\n",
       "    .dataframe tbody tr th:only-of-type {\n",
       "        vertical-align: middle;\n",
       "    }\n",
       "\n",
       "    .dataframe tbody tr th {\n",
       "        vertical-align: top;\n",
       "    }\n",
       "\n",
       "    .dataframe thead th {\n",
       "        text-align: right;\n",
       "    }\n",
       "</style>\n",
       "<table border=\"1\" class=\"dataframe\">\n",
       "  <thead>\n",
       "    <tr style=\"text-align: right;\">\n",
       "      <th></th>\n",
       "      <th>user_id</th>\n",
       "      <th>first_date</th>\n",
       "      <th>region</th>\n",
       "      <th>device</th>\n",
       "      <th>event_dt</th>\n",
       "      <th>event_name</th>\n",
       "      <th>details</th>\n",
       "      <th>lifetime</th>\n",
       "      <th>group</th>\n",
       "      <th>ab_test</th>\n",
       "      <th>event_date</th>\n",
       "    </tr>\n",
       "  </thead>\n",
       "  <tbody>\n",
       "    <tr>\n",
       "      <th>0</th>\n",
       "      <td>D72A72121175D8BE</td>\n",
       "      <td>2020-12-07</td>\n",
       "      <td>EU</td>\n",
       "      <td>PC</td>\n",
       "      <td>2020-12-07 21:52:10</td>\n",
       "      <td>product_page</td>\n",
       "      <td>NaN</td>\n",
       "      <td>0.0</td>\n",
       "      <td>A</td>\n",
       "      <td>recommender_system_test</td>\n",
       "      <td>2020-12-07</td>\n",
       "    </tr>\n",
       "    <tr>\n",
       "      <th>1</th>\n",
       "      <td>D72A72121175D8BE</td>\n",
       "      <td>2020-12-07</td>\n",
       "      <td>EU</td>\n",
       "      <td>PC</td>\n",
       "      <td>2020-12-07 21:52:07</td>\n",
       "      <td>login</td>\n",
       "      <td>NaN</td>\n",
       "      <td>0.0</td>\n",
       "      <td>A</td>\n",
       "      <td>recommender_system_test</td>\n",
       "      <td>2020-12-07</td>\n",
       "    </tr>\n",
       "    <tr>\n",
       "      <th>90</th>\n",
       "      <td>E6DE857AFBDC6102</td>\n",
       "      <td>2020-12-07</td>\n",
       "      <td>EU</td>\n",
       "      <td>PC</td>\n",
       "      <td>NaT</td>\n",
       "      <td>NaN</td>\n",
       "      <td>NaN</td>\n",
       "      <td>NaN</td>\n",
       "      <td>B</td>\n",
       "      <td>recommender_system_test</td>\n",
       "      <td>NaT</td>\n",
       "    </tr>\n",
       "    <tr>\n",
       "      <th>146</th>\n",
       "      <td>DD4352CDCF8C3D57</td>\n",
       "      <td>2020-12-07</td>\n",
       "      <td>EU</td>\n",
       "      <td>Android</td>\n",
       "      <td>2020-12-07 15:32:54</td>\n",
       "      <td>product_page</td>\n",
       "      <td>NaN</td>\n",
       "      <td>0.0</td>\n",
       "      <td>B</td>\n",
       "      <td>recommender_system_test</td>\n",
       "      <td>2020-12-07</td>\n",
       "    </tr>\n",
       "    <tr>\n",
       "      <th>148</th>\n",
       "      <td>DD4352CDCF8C3D57</td>\n",
       "      <td>2020-12-07</td>\n",
       "      <td>EU</td>\n",
       "      <td>Android</td>\n",
       "      <td>2020-12-08 08:29:31</td>\n",
       "      <td>product_page</td>\n",
       "      <td>NaN</td>\n",
       "      <td>1.0</td>\n",
       "      <td>B</td>\n",
       "      <td>recommender_system_test</td>\n",
       "      <td>2020-12-08</td>\n",
       "    </tr>\n",
       "  </tbody>\n",
       "</table>\n",
       "</div>"
      ],
      "text/plain": [
       "              user_id first_date region   device            event_dt  \\\n",
       "0    D72A72121175D8BE 2020-12-07     EU       PC 2020-12-07 21:52:10   \n",
       "1    D72A72121175D8BE 2020-12-07     EU       PC 2020-12-07 21:52:07   \n",
       "90   E6DE857AFBDC6102 2020-12-07     EU       PC                 NaT   \n",
       "146  DD4352CDCF8C3D57 2020-12-07     EU  Android 2020-12-07 15:32:54   \n",
       "148  DD4352CDCF8C3D57 2020-12-07     EU  Android 2020-12-08 08:29:31   \n",
       "\n",
       "       event_name  details  lifetime group                  ab_test  \\\n",
       "0    product_page      NaN       0.0     A  recommender_system_test   \n",
       "1           login      NaN       0.0     A  recommender_system_test   \n",
       "90            NaN      NaN       NaN     B  recommender_system_test   \n",
       "146  product_page      NaN       0.0     B  recommender_system_test   \n",
       "148  product_page      NaN       1.0     B  recommender_system_test   \n",
       "\n",
       "     event_date  \n",
       "0    2020-12-07  \n",
       "1    2020-12-07  \n",
       "90          NaT  \n",
       "146  2020-12-07  \n",
       "148  2020-12-08  "
      ]
     },
     "execution_count": 65,
     "metadata": {},
     "output_type": "execute_result"
    }
   ],
   "source": [
    "profile['event_date'] = profile['event_dt'].dt.date\n",
    "profile.head()"
   ]
  },
  {
   "cell_type": "code",
   "execution_count": 66,
   "metadata": {},
   "outputs": [
    {
     "data": {
      "text/plain": [
       "<matplotlib.legend.Legend at 0x7fe274c19ed0>"
      ]
     },
     "execution_count": 66,
     "metadata": {},
     "output_type": "execute_result"
    },
    {
     "data": {
      "image/png": "[encoded data removed]",
      "text/plain": [
       "<Figure size 1200x500 with 1 Axes>"
      ]
     },
     "metadata": {},
     "output_type": "display_data"
    }
   ],
   "source": [
    "control_group = profile.query('group == \"A\"')\n",
    "test_group = profile.query('group == \"B\"')\n",
    "plt.figure(figsize =(12,5))\n",
    "plt.plot(control_group.groupby('event_date', as_index=False)[['event_name']].count()['event_date'],control_group.groupby('event_date', as_index=False)[['event_name']].count()['event_name'], label =\"A\" )\n",
    "plt.plot(test_group.groupby('event_date', as_index=False)[['event_name']].count()['event_date'],test_group.groupby('event_date', as_index=False)[['event_name']].count()['event_name'], label = \"B\" )\n",
    "plt.title('Динамика количества событий в контрольной и тестовой группах')\n",
    "plt.xlabel('Дата')\n",
    "plt.ylabel('Количество событий')\n",
    "plt.legend()"
   ]
  },
  {
   "cell_type": "markdown",
   "metadata": {},
   "source": [
    "**Количество событий контрольной группы с 25 декабря начинает уменьшаться, а в тестовой группе количество действий практически стабильно**"
   ]
  },
  {
   "cell_type": "code",
   "execution_count": 67,
   "metadata": {},
   "outputs": [
    {
     "data": {
      "text/plain": [
       "<matplotlib.legend.Legend at 0x7fe274c4fca0>"
      ]
     },
     "execution_count": 67,
     "metadata": {},
     "output_type": "execute_result"
    },
    {
     "data": {
      "image/png": "[encoded data removed]",
      "text/plain": [
       "<Figure size 1200x500 with 1 Axes>"
      ]
     },
     "metadata": {},
     "output_type": "display_data"
    }
   ],
   "source": [
    "plt.figure(figsize =(12,5))\n",
    "plt.plot(profile.groupby('event_date', as_index=False)[['event_name']].count()['event_date'], profile.groupby('event_date', as_index=False)[['event_name']].count()['event_name'], label =\"A\" )\n",
    "plt.title('Динамика количества')\n",
    "plt.xlabel('Дата')\n",
    "plt.ylabel('Количество событий')\n",
    "plt.legend()"
   ]
  },
  {
   "cell_type": "markdown",
   "metadata": {},
   "source": []
  },
  {
   "cell_type": "markdown",
   "metadata": {},
   "source": [
    "**  **"
   ]
  },
  {
   "cell_type": "markdown",
   "metadata": {},
   "source": [
    "### Аудитория теста. Удостоверимся, что нет пересечений с конкурирующим тестом и нет пользователей, участвующих в двух группах теста одновременно. Проверим равномерность распределения по тестовым группам и правильность их формирования.\n",
    "<a id=\"aud\"><a>"
   ]
  },
  {
   "cell_type": "code",
   "execution_count": 68,
   "metadata": {},
   "outputs": [
    {
     "ename": "ValueError",
     "evalue": "data type must provide an itemsize",
     "output_type": "error",
     "traceback": [
      "\u001b[0;31m---------------------------------------------------------------------------\u001b[0m",
      "\u001b[0;31mValueError\u001b[0m                                Traceback (most recent call last)",
      "Cell \u001b[0;32mIn[68], line 2\u001b[0m\n\u001b[1;32m      1\u001b[0m interface_eu_test \u001b[38;5;241m=\u001b[39m participants\u001b[38;5;241m.\u001b[39mquery(\u001b[38;5;124m'\u001b[39m\u001b[38;5;124mab_test == \u001b[39m\u001b[38;5;124m\"\u001b[39m\u001b[38;5;124minterface_eu_test\u001b[39m\u001b[38;5;124m\"\u001b[39m\u001b[38;5;124m'\u001b[39m)\n\u001b[0;32m----> 2\u001b[0m both_test_participants \u001b[38;5;241m=\u001b[39m \u001b[43minterface_eu_test\u001b[49m\u001b[38;5;241;43m.\u001b[39;49m\u001b[43mquery\u001b[49m\u001b[43m(\u001b[49m\u001b[38;5;124;43m'\u001b[39;49m\u001b[38;5;124;43muser_id in @profile[\u001b[39;49m\u001b[38;5;124;43m\"\u001b[39;49m\u001b[38;5;124;43muser_id\u001b[39;49m\u001b[38;5;124;43m\"\u001b[39;49m\u001b[38;5;124;43m]\u001b[39;49m\u001b[38;5;124;43m'\u001b[39;49m\u001b[43m)\u001b[49m\n\u001b[1;32m      3\u001b[0m \u001b[38;5;28mprint\u001b[39m(\u001b[38;5;124mf\u001b[39m\u001b[38;5;124m'\u001b[39m\u001b[38;5;132;01m{\u001b[39;00m\u001b[38;5;28mlen\u001b[39m(both_test_participants)\u001b[38;5;132;01m}\u001b[39;00m\u001b[38;5;124m пользователя участвуют в обоих тестах\u001b[39m\u001b[38;5;124m'\u001b[39m)\n",
      "File \u001b[0;32m~/anaconda3/lib/python3.10/site-packages/pandas/util/_decorators.py:331\u001b[0m, in \u001b[0;36mdeprecate_nonkeyword_arguments.<locals>.decorate.<locals>.wrapper\u001b[0;34m(*args, **kwargs)\u001b[0m\n\u001b[1;32m    325\u001b[0m \u001b[38;5;28;01mif\u001b[39;00m \u001b[38;5;28mlen\u001b[39m(args) \u001b[38;5;241m>\u001b[39m num_allow_args:\n\u001b[1;32m    326\u001b[0m     warnings\u001b[38;5;241m.\u001b[39mwarn(\n\u001b[1;32m    327\u001b[0m         msg\u001b[38;5;241m.\u001b[39mformat(arguments\u001b[38;5;241m=\u001b[39m_format_argument_list(allow_args)),\n\u001b[1;32m    328\u001b[0m         \u001b[38;5;167;01mFutureWarning\u001b[39;00m,\n\u001b[1;32m    329\u001b[0m         stacklevel\u001b[38;5;241m=\u001b[39mfind_stack_level(),\n\u001b[1;32m    330\u001b[0m     )\n\u001b[0;32m--> 331\u001b[0m \u001b[38;5;28;01mreturn\u001b[39;00m \u001b[43mfunc\u001b[49m\u001b[43m(\u001b[49m\u001b[38;5;241;43m*\u001b[39;49m\u001b[43margs\u001b[49m\u001b[43m,\u001b[49m\u001b[43m \u001b[49m\u001b[38;5;241;43m*\u001b[39;49m\u001b[38;5;241;43m*\u001b[39;49m\u001b[43mkwargs\u001b[49m\u001b[43m)\u001b[49m\n",
      "File \u001b[0;32m~/anaconda3/lib/python3.10/site-packages/pandas/core/frame.py:4474\u001b[0m, in \u001b[0;36mDataFrame.query\u001b[0;34m(self, expr, inplace, **kwargs)\u001b[0m\n\u001b[1;32m   4472\u001b[0m kwargs[\u001b[38;5;124m\"\u001b[39m\u001b[38;5;124mlevel\u001b[39m\u001b[38;5;124m\"\u001b[39m] \u001b[38;5;241m=\u001b[39m kwargs\u001b[38;5;241m.\u001b[39mpop(\u001b[38;5;124m\"\u001b[39m\u001b[38;5;124mlevel\u001b[39m\u001b[38;5;124m\"\u001b[39m, \u001b[38;5;241m0\u001b[39m) \u001b[38;5;241m+\u001b[39m \u001b[38;5;241m2\u001b[39m\n\u001b[1;32m   4473\u001b[0m kwargs[\u001b[38;5;124m\"\u001b[39m\u001b[38;5;124mtarget\u001b[39m\u001b[38;5;124m\"\u001b[39m] \u001b[38;5;241m=\u001b[39m \u001b[38;5;28;01mNone\u001b[39;00m\n\u001b[0;32m-> 4474\u001b[0m res \u001b[38;5;241m=\u001b[39m \u001b[38;5;28;43mself\u001b[39;49m\u001b[38;5;241;43m.\u001b[39;49m\u001b[43meval\u001b[49m\u001b[43m(\u001b[49m\u001b[43mexpr\u001b[49m\u001b[43m,\u001b[49m\u001b[43m \u001b[49m\u001b[38;5;241;43m*\u001b[39;49m\u001b[38;5;241;43m*\u001b[39;49m\u001b[43mkwargs\u001b[49m\u001b[43m)\u001b[49m\n\u001b[1;32m   4476\u001b[0m \u001b[38;5;28;01mtry\u001b[39;00m:\n\u001b[1;32m   4477\u001b[0m     result \u001b[38;5;241m=\u001b[39m \u001b[38;5;28mself\u001b[39m\u001b[38;5;241m.\u001b[39mloc[res]\n",
      "File \u001b[0;32m~/anaconda3/lib/python3.10/site-packages/pandas/util/_decorators.py:331\u001b[0m, in \u001b[0;36mdeprecate_nonkeyword_arguments.<locals>.decorate.<locals>.wrapper\u001b[0;34m(*args, **kwargs)\u001b[0m\n\u001b[1;32m    325\u001b[0m \u001b[38;5;28;01mif\u001b[39;00m \u001b[38;5;28mlen\u001b[39m(args) \u001b[38;5;241m>\u001b[39m num_allow_args:\n\u001b[1;32m    326\u001b[0m     warnings\u001b[38;5;241m.\u001b[39mwarn(\n\u001b[1;32m    327\u001b[0m         msg\u001b[38;5;241m.\u001b[39mformat(arguments\u001b[38;5;241m=\u001b[39m_format_argument_list(allow_args)),\n\u001b[1;32m    328\u001b[0m         \u001b[38;5;167;01mFutureWarning\u001b[39;00m,\n\u001b[1;32m    329\u001b[0m         stacklevel\u001b[38;5;241m=\u001b[39mfind_stack_level(),\n\u001b[1;32m    330\u001b[0m     )\n\u001b[0;32m--> 331\u001b[0m \u001b[38;5;28;01mreturn\u001b[39;00m \u001b[43mfunc\u001b[49m\u001b[43m(\u001b[49m\u001b[38;5;241;43m*\u001b[39;49m\u001b[43margs\u001b[49m\u001b[43m,\u001b[49m\u001b[43m \u001b[49m\u001b[38;5;241;43m*\u001b[39;49m\u001b[38;5;241;43m*\u001b[39;49m\u001b[43mkwargs\u001b[49m\u001b[43m)\u001b[49m\n",
      "File \u001b[0;32m~/anaconda3/lib/python3.10/site-packages/pandas/core/frame.py:4612\u001b[0m, in \u001b[0;36mDataFrame.eval\u001b[0;34m(self, expr, inplace, **kwargs)\u001b[0m\n\u001b[1;32m   4609\u001b[0m     kwargs[\u001b[38;5;124m\"\u001b[39m\u001b[38;5;124mtarget\u001b[39m\u001b[38;5;124m\"\u001b[39m] \u001b[38;5;241m=\u001b[39m \u001b[38;5;28mself\u001b[39m\n\u001b[1;32m   4610\u001b[0m kwargs[\u001b[38;5;124m\"\u001b[39m\u001b[38;5;124mresolvers\u001b[39m\u001b[38;5;124m\"\u001b[39m] \u001b[38;5;241m=\u001b[39m \u001b[38;5;28mtuple\u001b[39m(kwargs\u001b[38;5;241m.\u001b[39mget(\u001b[38;5;124m\"\u001b[39m\u001b[38;5;124mresolvers\u001b[39m\u001b[38;5;124m\"\u001b[39m, ())) \u001b[38;5;241m+\u001b[39m resolvers\n\u001b[0;32m-> 4612\u001b[0m \u001b[38;5;28;01mreturn\u001b[39;00m \u001b[43m_eval\u001b[49m\u001b[43m(\u001b[49m\u001b[43mexpr\u001b[49m\u001b[43m,\u001b[49m\u001b[43m \u001b[49m\u001b[43minplace\u001b[49m\u001b[38;5;241;43m=\u001b[39;49m\u001b[43minplace\u001b[49m\u001b[43m,\u001b[49m\u001b[43m \u001b[49m\u001b[38;5;241;43m*\u001b[39;49m\u001b[38;5;241;43m*\u001b[39;49m\u001b[43mkwargs\u001b[49m\u001b[43m)\u001b[49m\n",
      "File \u001b[0;32m~/anaconda3/lib/python3.10/site-packages/pandas/core/computation/eval.py:353\u001b[0m, in \u001b[0;36meval\u001b[0;34m(expr, parser, engine, truediv, local_dict, global_dict, resolvers, level, target, inplace)\u001b[0m\n\u001b[1;32m    344\u001b[0m \u001b[38;5;66;03m# get our (possibly passed-in) scope\u001b[39;00m\n\u001b[1;32m    345\u001b[0m env \u001b[38;5;241m=\u001b[39m ensure_scope(\n\u001b[1;32m    346\u001b[0m     level \u001b[38;5;241m+\u001b[39m \u001b[38;5;241m1\u001b[39m,\n\u001b[1;32m    347\u001b[0m     global_dict\u001b[38;5;241m=\u001b[39mglobal_dict,\n\u001b[0;32m   (...)\u001b[0m\n\u001b[1;32m    350\u001b[0m     target\u001b[38;5;241m=\u001b[39mtarget,\n\u001b[1;32m    351\u001b[0m )\n\u001b[0;32m--> 353\u001b[0m parsed_expr \u001b[38;5;241m=\u001b[39m \u001b[43mExpr\u001b[49m\u001b[43m(\u001b[49m\u001b[43mexpr\u001b[49m\u001b[43m,\u001b[49m\u001b[43m \u001b[49m\u001b[43mengine\u001b[49m\u001b[38;5;241;43m=\u001b[39;49m\u001b[43mengine\u001b[49m\u001b[43m,\u001b[49m\u001b[43m \u001b[49m\u001b[43mparser\u001b[49m\u001b[38;5;241;43m=\u001b[39;49m\u001b[43mparser\u001b[49m\u001b[43m,\u001b[49m\u001b[43m \u001b[49m\u001b[43menv\u001b[49m\u001b[38;5;241;43m=\u001b[39;49m\u001b[43menv\u001b[49m\u001b[43m)\u001b[49m\n\u001b[1;32m    355\u001b[0m \u001b[38;5;66;03m# construct the engine and evaluate the parsed expression\u001b[39;00m\n\u001b[1;32m    356\u001b[0m eng \u001b[38;5;241m=\u001b[39m ENGINES[engine]\n",
      "File \u001b[0;32m~/anaconda3/lib/python3.10/site-packages/pandas/core/computation/expr.py:813\u001b[0m, in \u001b[0;36mExpr.__init__\u001b[0;34m(self, expr, engine, parser, env, level)\u001b[0m\n\u001b[1;32m    811\u001b[0m \u001b[38;5;28mself\u001b[39m\u001b[38;5;241m.\u001b[39mparser \u001b[38;5;241m=\u001b[39m parser\n\u001b[1;32m    812\u001b[0m \u001b[38;5;28mself\u001b[39m\u001b[38;5;241m.\u001b[39m_visitor \u001b[38;5;241m=\u001b[39m PARSERS[parser](\u001b[38;5;28mself\u001b[39m\u001b[38;5;241m.\u001b[39menv, \u001b[38;5;28mself\u001b[39m\u001b[38;5;241m.\u001b[39mengine, \u001b[38;5;28mself\u001b[39m\u001b[38;5;241m.\u001b[39mparser)\n\u001b[0;32m--> 813\u001b[0m \u001b[38;5;28mself\u001b[39m\u001b[38;5;241m.\u001b[39mterms \u001b[38;5;241m=\u001b[39m \u001b[38;5;28;43mself\u001b[39;49m\u001b[38;5;241;43m.\u001b[39;49m\u001b[43mparse\u001b[49m\u001b[43m(\u001b[49m\u001b[43m)\u001b[49m\n",
      "File \u001b[0;32m~/anaconda3/lib/python3.10/site-packages/pandas/core/computation/expr.py:832\u001b[0m, in \u001b[0;36mExpr.parse\u001b[0;34m(self)\u001b[0m\n\u001b[1;32m    828\u001b[0m \u001b[38;5;28;01mdef\u001b[39;00m \u001b[38;5;21mparse\u001b[39m(\u001b[38;5;28mself\u001b[39m):\n\u001b[1;32m    829\u001b[0m     \u001b[38;5;124;03m\"\"\"\u001b[39;00m\n\u001b[1;32m    830\u001b[0m \u001b[38;5;124;03m    Parse an expression.\u001b[39;00m\n\u001b[1;32m    831\u001b[0m \u001b[38;5;124;03m    \"\"\"\u001b[39;00m\n\u001b[0;32m--> 832\u001b[0m     \u001b[38;5;28;01mreturn\u001b[39;00m \u001b[38;5;28;43mself\u001b[39;49m\u001b[38;5;241;43m.\u001b[39;49m\u001b[43m_visitor\u001b[49m\u001b[38;5;241;43m.\u001b[39;49m\u001b[43mvisit\u001b[49m\u001b[43m(\u001b[49m\u001b[38;5;28;43mself\u001b[39;49m\u001b[38;5;241;43m.\u001b[39;49m\u001b[43mexpr\u001b[49m\u001b[43m)\u001b[49m\n",
      "File \u001b[0;32m~/anaconda3/lib/python3.10/site-packages/pandas/core/computation/expr.py:415\u001b[0m, in \u001b[0;36mBaseExprVisitor.visit\u001b[0;34m(self, node, **kwargs)\u001b[0m\n\u001b[1;32m    413\u001b[0m method \u001b[38;5;241m=\u001b[39m \u001b[38;5;124m\"\u001b[39m\u001b[38;5;124mvisit_\u001b[39m\u001b[38;5;124m\"\u001b[39m \u001b[38;5;241m+\u001b[39m \u001b[38;5;28mtype\u001b[39m(node)\u001b[38;5;241m.\u001b[39m\u001b[38;5;18m__name__\u001b[39m\n\u001b[1;32m    414\u001b[0m visitor \u001b[38;5;241m=\u001b[39m \u001b[38;5;28mgetattr\u001b[39m(\u001b[38;5;28mself\u001b[39m, method)\n\u001b[0;32m--> 415\u001b[0m \u001b[38;5;28;01mreturn\u001b[39;00m \u001b[43mvisitor\u001b[49m\u001b[43m(\u001b[49m\u001b[43mnode\u001b[49m\u001b[43m,\u001b[49m\u001b[43m \u001b[49m\u001b[38;5;241;43m*\u001b[39;49m\u001b[38;5;241;43m*\u001b[39;49m\u001b[43mkwargs\u001b[49m\u001b[43m)\u001b[49m\n",
      "File \u001b[0;32m~/anaconda3/lib/python3.10/site-packages/pandas/core/computation/expr.py:421\u001b[0m, in \u001b[0;36mBaseExprVisitor.visit_Module\u001b[0;34m(self, node, **kwargs)\u001b[0m\n\u001b[1;32m    419\u001b[0m     \u001b[38;5;28;01mraise\u001b[39;00m \u001b[38;5;167;01mSyntaxError\u001b[39;00m(\u001b[38;5;124m\"\u001b[39m\u001b[38;5;124monly a single expression is allowed\u001b[39m\u001b[38;5;124m\"\u001b[39m)\n\u001b[1;32m    420\u001b[0m expr \u001b[38;5;241m=\u001b[39m node\u001b[38;5;241m.\u001b[39mbody[\u001b[38;5;241m0\u001b[39m]\n\u001b[0;32m--> 421\u001b[0m \u001b[38;5;28;01mreturn\u001b[39;00m \u001b[38;5;28;43mself\u001b[39;49m\u001b[38;5;241;43m.\u001b[39;49m\u001b[43mvisit\u001b[49m\u001b[43m(\u001b[49m\u001b[43mexpr\u001b[49m\u001b[43m,\u001b[49m\u001b[43m \u001b[49m\u001b[38;5;241;43m*\u001b[39;49m\u001b[38;5;241;43m*\u001b[39;49m\u001b[43mkwargs\u001b[49m\u001b[43m)\u001b[49m\n",
      "File \u001b[0;32m~/anaconda3/lib/python3.10/site-packages/pandas/core/computation/expr.py:415\u001b[0m, in \u001b[0;36mBaseExprVisitor.visit\u001b[0;34m(self, node, **kwargs)\u001b[0m\n\u001b[1;32m    413\u001b[0m method \u001b[38;5;241m=\u001b[39m \u001b[38;5;124m\"\u001b[39m\u001b[38;5;124mvisit_\u001b[39m\u001b[38;5;124m\"\u001b[39m \u001b[38;5;241m+\u001b[39m \u001b[38;5;28mtype\u001b[39m(node)\u001b[38;5;241m.\u001b[39m\u001b[38;5;18m__name__\u001b[39m\n\u001b[1;32m    414\u001b[0m visitor \u001b[38;5;241m=\u001b[39m \u001b[38;5;28mgetattr\u001b[39m(\u001b[38;5;28mself\u001b[39m, method)\n\u001b[0;32m--> 415\u001b[0m \u001b[38;5;28;01mreturn\u001b[39;00m \u001b[43mvisitor\u001b[49m\u001b[43m(\u001b[49m\u001b[43mnode\u001b[49m\u001b[43m,\u001b[49m\u001b[43m \u001b[49m\u001b[38;5;241;43m*\u001b[39;49m\u001b[38;5;241;43m*\u001b[39;49m\u001b[43mkwargs\u001b[49m\u001b[43m)\u001b[49m\n",
      "File \u001b[0;32m~/anaconda3/lib/python3.10/site-packages/pandas/core/computation/expr.py:424\u001b[0m, in \u001b[0;36mBaseExprVisitor.visit_Expr\u001b[0;34m(self, node, **kwargs)\u001b[0m\n\u001b[1;32m    423\u001b[0m \u001b[38;5;28;01mdef\u001b[39;00m \u001b[38;5;21mvisit_Expr\u001b[39m(\u001b[38;5;28mself\u001b[39m, node, \u001b[38;5;241m*\u001b[39m\u001b[38;5;241m*\u001b[39mkwargs):\n\u001b[0;32m--> 424\u001b[0m     \u001b[38;5;28;01mreturn\u001b[39;00m \u001b[38;5;28;43mself\u001b[39;49m\u001b[38;5;241;43m.\u001b[39;49m\u001b[43mvisit\u001b[49m\u001b[43m(\u001b[49m\u001b[43mnode\u001b[49m\u001b[38;5;241;43m.\u001b[39;49m\u001b[43mvalue\u001b[49m\u001b[43m,\u001b[49m\u001b[43m \u001b[49m\u001b[38;5;241;43m*\u001b[39;49m\u001b[38;5;241;43m*\u001b[39;49m\u001b[43mkwargs\u001b[49m\u001b[43m)\u001b[49m\n",
      "File \u001b[0;32m~/anaconda3/lib/python3.10/site-packages/pandas/core/computation/expr.py:415\u001b[0m, in \u001b[0;36mBaseExprVisitor.visit\u001b[0;34m(self, node, **kwargs)\u001b[0m\n\u001b[1;32m    413\u001b[0m method \u001b[38;5;241m=\u001b[39m \u001b[38;5;124m\"\u001b[39m\u001b[38;5;124mvisit_\u001b[39m\u001b[38;5;124m\"\u001b[39m \u001b[38;5;241m+\u001b[39m \u001b[38;5;28mtype\u001b[39m(node)\u001b[38;5;241m.\u001b[39m\u001b[38;5;18m__name__\u001b[39m\n\u001b[1;32m    414\u001b[0m visitor \u001b[38;5;241m=\u001b[39m \u001b[38;5;28mgetattr\u001b[39m(\u001b[38;5;28mself\u001b[39m, method)\n\u001b[0;32m--> 415\u001b[0m \u001b[38;5;28;01mreturn\u001b[39;00m \u001b[43mvisitor\u001b[49m\u001b[43m(\u001b[49m\u001b[43mnode\u001b[49m\u001b[43m,\u001b[49m\u001b[43m \u001b[49m\u001b[38;5;241;43m*\u001b[39;49m\u001b[38;5;241;43m*\u001b[39;49m\u001b[43mkwargs\u001b[49m\u001b[43m)\u001b[49m\n",
      "File \u001b[0;32m~/anaconda3/lib/python3.10/site-packages/pandas/core/computation/expr.py:723\u001b[0m, in \u001b[0;36mBaseExprVisitor.visit_Compare\u001b[0;34m(self, node, **kwargs)\u001b[0m\n\u001b[1;32m    721\u001b[0m     op \u001b[38;5;241m=\u001b[39m \u001b[38;5;28mself\u001b[39m\u001b[38;5;241m.\u001b[39mtranslate_In(ops[\u001b[38;5;241m0\u001b[39m])\n\u001b[1;32m    722\u001b[0m     binop \u001b[38;5;241m=\u001b[39m ast\u001b[38;5;241m.\u001b[39mBinOp(op\u001b[38;5;241m=\u001b[39mop, left\u001b[38;5;241m=\u001b[39mnode\u001b[38;5;241m.\u001b[39mleft, right\u001b[38;5;241m=\u001b[39mcomps[\u001b[38;5;241m0\u001b[39m])\n\u001b[0;32m--> 723\u001b[0m     \u001b[38;5;28;01mreturn\u001b[39;00m \u001b[38;5;28;43mself\u001b[39;49m\u001b[38;5;241;43m.\u001b[39;49m\u001b[43mvisit\u001b[49m\u001b[43m(\u001b[49m\u001b[43mbinop\u001b[49m\u001b[43m)\u001b[49m\n\u001b[1;32m    725\u001b[0m \u001b[38;5;66;03m# recursive case: we have a chained comparison, a CMP b CMP c, etc.\u001b[39;00m\n\u001b[1;32m    726\u001b[0m left \u001b[38;5;241m=\u001b[39m node\u001b[38;5;241m.\u001b[39mleft\n",
      "File \u001b[0;32m~/anaconda3/lib/python3.10/site-packages/pandas/core/computation/expr.py:415\u001b[0m, in \u001b[0;36mBaseExprVisitor.visit\u001b[0;34m(self, node, **kwargs)\u001b[0m\n\u001b[1;32m    413\u001b[0m method \u001b[38;5;241m=\u001b[39m \u001b[38;5;124m\"\u001b[39m\u001b[38;5;124mvisit_\u001b[39m\u001b[38;5;124m\"\u001b[39m \u001b[38;5;241m+\u001b[39m \u001b[38;5;28mtype\u001b[39m(node)\u001b[38;5;241m.\u001b[39m\u001b[38;5;18m__name__\u001b[39m\n\u001b[1;32m    414\u001b[0m visitor \u001b[38;5;241m=\u001b[39m \u001b[38;5;28mgetattr\u001b[39m(\u001b[38;5;28mself\u001b[39m, method)\n\u001b[0;32m--> 415\u001b[0m \u001b[38;5;28;01mreturn\u001b[39;00m \u001b[43mvisitor\u001b[49m\u001b[43m(\u001b[49m\u001b[43mnode\u001b[49m\u001b[43m,\u001b[49m\u001b[43m \u001b[49m\u001b[38;5;241;43m*\u001b[39;49m\u001b[38;5;241;43m*\u001b[39;49m\u001b[43mkwargs\u001b[49m\u001b[43m)\u001b[49m\n",
      "File \u001b[0;32m~/anaconda3/lib/python3.10/site-packages/pandas/core/computation/expr.py:536\u001b[0m, in \u001b[0;36mBaseExprVisitor.visit_BinOp\u001b[0;34m(self, node, **kwargs)\u001b[0m\n\u001b[1;32m    535\u001b[0m \u001b[38;5;28;01mdef\u001b[39;00m \u001b[38;5;21mvisit_BinOp\u001b[39m(\u001b[38;5;28mself\u001b[39m, node, \u001b[38;5;241m*\u001b[39m\u001b[38;5;241m*\u001b[39mkwargs):\n\u001b[0;32m--> 536\u001b[0m     op, op_class, left, right \u001b[38;5;241m=\u001b[39m \u001b[38;5;28;43mself\u001b[39;49m\u001b[38;5;241;43m.\u001b[39;49m\u001b[43m_maybe_transform_eq_ne\u001b[49m\u001b[43m(\u001b[49m\u001b[43mnode\u001b[49m\u001b[43m)\u001b[49m\n\u001b[1;32m    537\u001b[0m     left, right \u001b[38;5;241m=\u001b[39m \u001b[38;5;28mself\u001b[39m\u001b[38;5;241m.\u001b[39m_maybe_downcast_constants(left, right)\n\u001b[1;32m    538\u001b[0m     \u001b[38;5;28;01mreturn\u001b[39;00m \u001b[38;5;28mself\u001b[39m\u001b[38;5;241m.\u001b[39m_maybe_evaluate_binop(op, op_class, left, right)\n",
      "File \u001b[0;32m~/anaconda3/lib/python3.10/site-packages/pandas/core/computation/expr.py:458\u001b[0m, in \u001b[0;36mBaseExprVisitor._maybe_transform_eq_ne\u001b[0;34m(self, node, left, right)\u001b[0m\n\u001b[1;32m    456\u001b[0m     left \u001b[38;5;241m=\u001b[39m \u001b[38;5;28mself\u001b[39m\u001b[38;5;241m.\u001b[39mvisit(node\u001b[38;5;241m.\u001b[39mleft, side\u001b[38;5;241m=\u001b[39m\u001b[38;5;124m\"\u001b[39m\u001b[38;5;124mleft\u001b[39m\u001b[38;5;124m\"\u001b[39m)\n\u001b[1;32m    457\u001b[0m \u001b[38;5;28;01mif\u001b[39;00m right \u001b[38;5;129;01mis\u001b[39;00m \u001b[38;5;28;01mNone\u001b[39;00m:\n\u001b[0;32m--> 458\u001b[0m     right \u001b[38;5;241m=\u001b[39m \u001b[38;5;28;43mself\u001b[39;49m\u001b[38;5;241;43m.\u001b[39;49m\u001b[43mvisit\u001b[49m\u001b[43m(\u001b[49m\u001b[43mnode\u001b[49m\u001b[38;5;241;43m.\u001b[39;49m\u001b[43mright\u001b[49m\u001b[43m,\u001b[49m\u001b[43m \u001b[49m\u001b[43mside\u001b[49m\u001b[38;5;241;43m=\u001b[39;49m\u001b[38;5;124;43m\"\u001b[39;49m\u001b[38;5;124;43mright\u001b[39;49m\u001b[38;5;124;43m\"\u001b[39;49m\u001b[43m)\u001b[49m\n\u001b[1;32m    459\u001b[0m op, op_class, left, right \u001b[38;5;241m=\u001b[39m \u001b[38;5;28mself\u001b[39m\u001b[38;5;241m.\u001b[39m_rewrite_membership_op(node, left, right)\n\u001b[1;32m    460\u001b[0m \u001b[38;5;28;01mreturn\u001b[39;00m op, op_class, left, right\n",
      "File \u001b[0;32m~/anaconda3/lib/python3.10/site-packages/pandas/core/computation/expr.py:415\u001b[0m, in \u001b[0;36mBaseExprVisitor.visit\u001b[0;34m(self, node, **kwargs)\u001b[0m\n\u001b[1;32m    413\u001b[0m method \u001b[38;5;241m=\u001b[39m \u001b[38;5;124m\"\u001b[39m\u001b[38;5;124mvisit_\u001b[39m\u001b[38;5;124m\"\u001b[39m \u001b[38;5;241m+\u001b[39m \u001b[38;5;28mtype\u001b[39m(node)\u001b[38;5;241m.\u001b[39m\u001b[38;5;18m__name__\u001b[39m\n\u001b[1;32m    414\u001b[0m visitor \u001b[38;5;241m=\u001b[39m \u001b[38;5;28mgetattr\u001b[39m(\u001b[38;5;28mself\u001b[39m, method)\n\u001b[0;32m--> 415\u001b[0m \u001b[38;5;28;01mreturn\u001b[39;00m \u001b[43mvisitor\u001b[49m\u001b[43m(\u001b[49m\u001b[43mnode\u001b[49m\u001b[43m,\u001b[49m\u001b[43m \u001b[49m\u001b[38;5;241;43m*\u001b[39;49m\u001b[38;5;241;43m*\u001b[39;49m\u001b[43mkwargs\u001b[49m\u001b[43m)\u001b[49m\n",
      "File \u001b[0;32m~/anaconda3/lib/python3.10/site-packages/pandas/core/computation/expr.py:579\u001b[0m, in \u001b[0;36mBaseExprVisitor.visit_Subscript\u001b[0;34m(self, node, **kwargs)\u001b[0m\n\u001b[1;32m    577\u001b[0m value \u001b[38;5;241m=\u001b[39m \u001b[38;5;28mself\u001b[39m\u001b[38;5;241m.\u001b[39mvisit(node\u001b[38;5;241m.\u001b[39mvalue)\n\u001b[1;32m    578\u001b[0m slobj \u001b[38;5;241m=\u001b[39m \u001b[38;5;28mself\u001b[39m\u001b[38;5;241m.\u001b[39mvisit(node\u001b[38;5;241m.\u001b[39mslice)\n\u001b[0;32m--> 579\u001b[0m result \u001b[38;5;241m=\u001b[39m \u001b[43mpd_eval\u001b[49m\u001b[43m(\u001b[49m\n\u001b[1;32m    580\u001b[0m \u001b[43m    \u001b[49m\u001b[43mslobj\u001b[49m\u001b[43m,\u001b[49m\u001b[43m \u001b[49m\u001b[43mlocal_dict\u001b[49m\u001b[38;5;241;43m=\u001b[39;49m\u001b[38;5;28;43mself\u001b[39;49m\u001b[38;5;241;43m.\u001b[39;49m\u001b[43menv\u001b[49m\u001b[43m,\u001b[49m\u001b[43m \u001b[49m\u001b[43mengine\u001b[49m\u001b[38;5;241;43m=\u001b[39;49m\u001b[38;5;28;43mself\u001b[39;49m\u001b[38;5;241;43m.\u001b[39;49m\u001b[43mengine\u001b[49m\u001b[43m,\u001b[49m\u001b[43m \u001b[49m\u001b[43mparser\u001b[49m\u001b[38;5;241;43m=\u001b[39;49m\u001b[38;5;28;43mself\u001b[39;49m\u001b[38;5;241;43m.\u001b[39;49m\u001b[43mparser\u001b[49m\n\u001b[1;32m    581\u001b[0m \u001b[43m\u001b[49m\u001b[43m)\u001b[49m\n\u001b[1;32m    582\u001b[0m \u001b[38;5;28;01mtry\u001b[39;00m:\n\u001b[1;32m    583\u001b[0m     \u001b[38;5;66;03m# a Term instance\u001b[39;00m\n\u001b[1;32m    584\u001b[0m     v \u001b[38;5;241m=\u001b[39m value\u001b[38;5;241m.\u001b[39mvalue[result]\n",
      "File \u001b[0;32m~/anaconda3/lib/python3.10/site-packages/pandas/core/computation/eval.py:358\u001b[0m, in \u001b[0;36meval\u001b[0;34m(expr, parser, engine, truediv, local_dict, global_dict, resolvers, level, target, inplace)\u001b[0m\n\u001b[1;32m    356\u001b[0m eng \u001b[38;5;241m=\u001b[39m ENGINES[engine]\n\u001b[1;32m    357\u001b[0m eng_inst \u001b[38;5;241m=\u001b[39m eng(parsed_expr)\n\u001b[0;32m--> 358\u001b[0m ret \u001b[38;5;241m=\u001b[39m \u001b[43meng_inst\u001b[49m\u001b[38;5;241;43m.\u001b[39;49m\u001b[43mevaluate\u001b[49m\u001b[43m(\u001b[49m\u001b[43m)\u001b[49m\n\u001b[1;32m    360\u001b[0m \u001b[38;5;28;01mif\u001b[39;00m parsed_expr\u001b[38;5;241m.\u001b[39massigner \u001b[38;5;129;01mis\u001b[39;00m \u001b[38;5;28;01mNone\u001b[39;00m:\n\u001b[1;32m    361\u001b[0m     \u001b[38;5;28;01mif\u001b[39;00m multi_line:\n",
      "File \u001b[0;32m~/anaconda3/lib/python3.10/site-packages/pandas/core/computation/engines.py:81\u001b[0m, in \u001b[0;36mAbstractEngine.evaluate\u001b[0;34m(self)\u001b[0m\n\u001b[1;32m     78\u001b[0m     \u001b[38;5;28mself\u001b[39m\u001b[38;5;241m.\u001b[39mresult_type, \u001b[38;5;28mself\u001b[39m\u001b[38;5;241m.\u001b[39maligned_axes \u001b[38;5;241m=\u001b[39m align_terms(\u001b[38;5;28mself\u001b[39m\u001b[38;5;241m.\u001b[39mexpr\u001b[38;5;241m.\u001b[39mterms)\n\u001b[1;32m     80\u001b[0m \u001b[38;5;66;03m# make sure no names in resolvers and locals/globals clash\u001b[39;00m\n\u001b[0;32m---> 81\u001b[0m res \u001b[38;5;241m=\u001b[39m \u001b[38;5;28;43mself\u001b[39;49m\u001b[38;5;241;43m.\u001b[39;49m\u001b[43m_evaluate\u001b[49m\u001b[43m(\u001b[49m\u001b[43m)\u001b[49m\n\u001b[1;32m     82\u001b[0m \u001b[38;5;28;01mreturn\u001b[39;00m reconstruct_object(\n\u001b[1;32m     83\u001b[0m     \u001b[38;5;28mself\u001b[39m\u001b[38;5;241m.\u001b[39mresult_type, res, \u001b[38;5;28mself\u001b[39m\u001b[38;5;241m.\u001b[39maligned_axes, \u001b[38;5;28mself\u001b[39m\u001b[38;5;241m.\u001b[39mexpr\u001b[38;5;241m.\u001b[39mterms\u001b[38;5;241m.\u001b[39mreturn_type\n\u001b[1;32m     84\u001b[0m )\n",
      "File \u001b[0;32m~/anaconda3/lib/python3.10/site-packages/pandas/core/computation/engines.py:122\u001b[0m, in \u001b[0;36mNumExprEngine._evaluate\u001b[0;34m(self)\u001b[0m\n\u001b[1;32m    120\u001b[0m scope \u001b[38;5;241m=\u001b[39m env\u001b[38;5;241m.\u001b[39mfull_scope\n\u001b[1;32m    121\u001b[0m _check_ne_builtin_clash(\u001b[38;5;28mself\u001b[39m\u001b[38;5;241m.\u001b[39mexpr)\n\u001b[0;32m--> 122\u001b[0m \u001b[38;5;28;01mreturn\u001b[39;00m \u001b[43mne\u001b[49m\u001b[38;5;241;43m.\u001b[39;49m\u001b[43mevaluate\u001b[49m\u001b[43m(\u001b[49m\u001b[43ms\u001b[49m\u001b[43m,\u001b[49m\u001b[43m \u001b[49m\u001b[43mlocal_dict\u001b[49m\u001b[38;5;241;43m=\u001b[39;49m\u001b[43mscope\u001b[49m\u001b[43m)\u001b[49m\n",
      "File \u001b[0;32m~/anaconda3/lib/python3.10/site-packages/numexpr/necompiler.py:835\u001b[0m, in \u001b[0;36mevaluate\u001b[0;34m(ex, local_dict, global_dict, out, order, casting, **kwargs)\u001b[0m\n\u001b[1;32m    833\u001b[0m _numexpr_last \u001b[38;5;241m=\u001b[39m \u001b[38;5;28mdict\u001b[39m(ex\u001b[38;5;241m=\u001b[39mcompiled_ex, argnames\u001b[38;5;241m=\u001b[39mnames, kwargs\u001b[38;5;241m=\u001b[39mkwargs)\n\u001b[1;32m    834\u001b[0m \u001b[38;5;28;01mwith\u001b[39;00m evaluate_lock:\n\u001b[0;32m--> 835\u001b[0m     \u001b[38;5;28;01mreturn\u001b[39;00m \u001b[43mcompiled_ex\u001b[49m\u001b[43m(\u001b[49m\u001b[38;5;241;43m*\u001b[39;49m\u001b[43marguments\u001b[49m\u001b[43m,\u001b[49m\u001b[43m \u001b[49m\u001b[38;5;241;43m*\u001b[39;49m\u001b[38;5;241;43m*\u001b[39;49m\u001b[43mkwargs\u001b[49m\u001b[43m)\u001b[49m\n",
      "\u001b[0;31mValueError\u001b[0m: data type must provide an itemsize"
     ]
    }
   ],
   "source": [
    "interface_eu_test = participants.query('ab_test == \"interface_eu_test\"')\n",
    "both_test_participants = interface_eu_test.query('user_id in @profile[\"user_id\"]')\n",
    "print(f'{len(both_test_participants)} пользователя участвуют в обоих тестах')"
   ]
  },
  {
   "cell_type": "code",
   "execution_count": null,
   "metadata": {},
   "outputs": [],
   "source": [
    "both_test_participants['group'].value_counts()"
   ]
  },
  {
   "cell_type": "markdown",
   "metadata": {},
   "source": [
    "**Пользователей из контрольной группы можем оставить, на них второй тест никак не повлиял. Пользователи из тестовой группы второго теста могут исказить результаты, поэтому их учитывать не будем**"
   ]
  },
  {
   "cell_type": "code",
   "execution_count": null,
   "metadata": {},
   "outputs": [],
   "source": [
    "both_test_participants_A = both_test_participants.query('group == \"A\"')"
   ]
  },
  {
   "cell_type": "code",
   "execution_count": null,
   "metadata": {},
   "outputs": [],
   "source": [
    "profile = profile.query('user_id not in @both_test_participants[\"user_id\"]\\\n",
    "                            or user_id in @both_test_participants_A[\"user_id\"]')"
   ]
  },
  {
   "cell_type": "code",
   "execution_count": null,
   "metadata": {},
   "outputs": [],
   "source": [
    "len(interface_eu_test.query('user_id in @profile[\"user_id\"] and group == \"B\"'))"
   ]
  },
  {
   "cell_type": "markdown",
   "metadata": {},
   "source": []
  },
  {
   "cell_type": "code",
   "execution_count": null,
   "metadata": {},
   "outputs": [],
   "source": [
    "profile.groupby('user_id', as_index = False)[['group']].nunique().query('group!=1')\n"
   ]
  },
  {
   "cell_type": "code",
   "execution_count": null,
   "metadata": {
    "scrolled": true
   },
   "outputs": [],
   "source": [
    "cnt = 0\n",
    "for i in profile.groupby('user_id', as_index = False)[['group']].nunique()['group']:\n",
    "    if i > 1:\n",
    "        cnt += 1\n",
    "print('Количество пересечений в тесте:', cnt)\n",
    "        "
   ]
  },
  {
   "cell_type": "markdown",
   "metadata": {},
   "source": [
    "**Очистим профиль пользователей от участников тестовой группы конкуретного теста**"
   ]
  },
  {
   "cell_type": "code",
   "execution_count": null,
   "metadata": {},
   "outputs": [],
   "source": [
    "profile.head()"
   ]
  },
  {
   "cell_type": "code",
   "execution_count": null,
   "metadata": {},
   "outputs": [],
   "source": [
    "profile['user_id'].nunique()"
   ]
  },
  {
   "cell_type": "code",
   "execution_count": null,
   "metadata": {},
   "outputs": [],
   "source": [
    "profile_test_control = profile.groupby('group', as_index=False)[['user_id']].nunique()\n",
    "profile_test_control['percent'] = round(100 * profile_test_control['user_id']/profile['user_id'].nunique(), 2)"
   ]
  },
  {
   "cell_type": "code",
   "execution_count": null,
   "metadata": {},
   "outputs": [],
   "source": [
    "profile_test_control"
   ]
  },
  {
   "cell_type": "markdown",
   "metadata": {},
   "source": [
    "**Итак, что в итоге получилось после проверки соответствия ТЗ:**\n",
    "- собрали пользователей только из теста recommender_system_test \n",
    "- отсекли события, которые произошли спустя 14 дней после регистрации пользователей\n",
    "- отсекли пользователей из всех регионов, кроме Европы. Получилось, что участнки составляют 15% от тех европейцев, которые могли бы потенциально быть участниками нашего теста.\n",
    "- в итоге набрали в наш тест 6351 человек, что соответствует ТЗ. Распределение по группам получилось неравномерным : 57% в контрольной группе и 43% в тестовой\n",
    "- затем обнаружилась несостыковка: последнее событие, которое мы фиксируем, произошло 29 декабря 2020 года, в тз остановка теста - 4 января 2021. Некоторые пользователи просто не успеют прожить 14 дней, а это может повлиять на анализ \n",
    "- далее мы выяснили, что наш тест совпал с маркетинговым событием, которое проходило в Европе. Однако данное событие никак не очень сильно повлияло на динамику количества событий\n",
    "- увидели, что есть пересечение между нашим тестом и конкурирующим. Распределение пересекающихся пользователей по группам равномерное, но я решила, что изменения, внедренные другим тестом, могут повлиять на наши результаты, поэтому участников тестовой группы interface_eu_test удалили."
   ]
  },
  {
   "cell_type": "markdown",
   "metadata": {},
   "source": [
    "## Исследовательский анализ данных\n",
    "<a id=\"analysis\"><a>"
   ]
  },
  {
   "cell_type": "markdown",
   "metadata": {},
   "source": [
    "### Количество событий на пользователя одинаково распределены в выборках?\n",
    "<a id=\"eventsbyuser\"><a>"
   ]
  },
  {
   "cell_type": "code",
   "execution_count": null,
   "metadata": {},
   "outputs": [],
   "source": [
    "profile.head()"
   ]
  },
  {
   "cell_type": "code",
   "execution_count": null,
   "metadata": {},
   "outputs": [],
   "source": [
    "events_by_users = profile.groupby(['user_id', 'group'], as_index=False)[['event_dt']].count()\n",
    "events_by_users"
   ]
  },
  {
   "cell_type": "code",
   "execution_count": null,
   "metadata": {},
   "outputs": [],
   "source": [
    "plt.figure(figsize = (12,5))\n",
    "sns.set_palette(\"Accent\")\n",
    "sns.histplot(x='event_dt', hue ='group',  data= profile.groupby(['user_id', 'group'], as_index=False)[['event_dt']].count())\n",
    "plt.title('Распределение количества событий на пользователя в разрезе по группам')\n",
    "plt.ylabel('Количество пользователей')\n",
    "plt.xlabel('Количество событий одного пользователя');"
   ]
  },
  {
   "cell_type": "code",
   "execution_count": null,
   "metadata": {},
   "outputs": [],
   "source": [
    "profile.query('event_name.isna()').groupby('group')[['user_id']].nunique()"
   ]
  },
  {
   "cell_type": "markdown",
   "metadata": {},
   "source": [
    "**Видим, что в тестовой группе больше пользователей, которые вообще не совершали действий. В контрольной группе пользователи чаще совершали какие-либо действия.**"
   ]
  },
  {
   "cell_type": "code",
   "execution_count": null,
   "metadata": {},
   "outputs": [],
   "source": [
    "events_by_users.groupby('group', as_index=False)[['event_dt']].mean()"
   ]
  },
  {
   "cell_type": "markdown",
   "metadata": {},
   "source": [
    "Видим, что активность распределена неравномерно: в контрольной группе на одной пользователя приходится примерно по пять событий, в тестовой - примерно по 2"
   ]
  },
  {
   "cell_type": "markdown",
   "metadata": {},
   "source": [
    "### Как число событий в выборках распределено по дням?\n",
    "<a id=\"eventsbyday\"><a>"
   ]
  },
  {
   "cell_type": "code",
   "execution_count": null,
   "metadata": {},
   "outputs": [],
   "source": [
    "events_by_day = profile.groupby(['event_date', 'group'], as_index=False)[['user_id']].count()\n",
    "events_by_day.head(20)"
   ]
  },
  {
   "cell_type": "code",
   "execution_count": null,
   "metadata": {},
   "outputs": [],
   "source": [
    "plt.figure(figsize=(15,5))\n",
    "\n",
    "sns.countplot(x='event_date', hue='group', data=profile.sort_values(by='event_date'))\n",
    "plt.xticks(rotation=20)\n",
    "plt.title('Количество событий в выборках по дням')\n",
    "plt.xlabel('Дата')\n",
    "plt.ylabel('Количество событий');"
   ]
  },
  {
   "cell_type": "markdown",
   "metadata": {},
   "source": [
    "**В целом, количество событий контрольной группы всегда превышвет количество событий в тестовой, однако нужно учитывать, что в контрольной группе больше людей.Видим, что с 14 по 19 декабря количество действий в контрольной группе имеет тенденцию к росту, а с 20 декабря количество событий в обеих выборках идет на спад**"
   ]
  },
  {
   "cell_type": "code",
   "execution_count": null,
   "metadata": {},
   "outputs": [],
   "source": [
    "regs = profile.groupby(['first_date', 'group'], as_index=False)[['user_id']].nunique()\n",
    "regs['first_date'] = regs['first_date'].dt.date\n",
    "regs.head()"
   ]
  },
  {
   "cell_type": "code",
   "execution_count": null,
   "metadata": {},
   "outputs": [],
   "source": [
    "plt.figure(figsize=(15,5))\n",
    "sns.barplot(x='first_date', y='user_id', hue='group', data=regs.sort_values(by='first_date'))\n",
    "plt.xticks(rotation=20)\n",
    "plt.title('Динамика набора пользователей в выборках по дням')\n",
    "plt.xlabel('Дата')\n",
    "plt.ylabel('Количество набранных пользователей');"
   ]
  },
  {
   "cell_type": "markdown",
   "metadata": {},
   "source": [
    "**Мы видим, что пики регистраций в контрольной группе приходятся на какой-то конкретный день недели - 7 декабря, 14 декабря и 21 декабря. 7 декабря мы только начали собирать данные о пользователях, поэтому количество событий в контрольной группе до 13 декабря небольшое.14 числа к нам приходит большое количество новых пользователей, которые и увеличивают количество событий.После 21 декабря набор пользователей заканчивается, поэтому количество событий идет на спад**"
   ]
  },
  {
   "cell_type": "markdown",
   "metadata": {},
   "source": [
    "### Как меняется конверсия в воронке в выборках на разных этапах?\n",
    "<a id=\"conversion\"><a>"
   ]
  },
  {
   "cell_type": "code",
   "execution_count": null,
   "metadata": {},
   "outputs": [],
   "source": [
    "profile['event_name'].unique()"
   ]
  },
  {
   "cell_type": "markdown",
   "metadata": {},
   "source": [
    "Предположительно, цепочка событий выстраивается следующим образом:\n",
    "- пользователь заходит в аккуант - событие login\n",
    "- пользователь заходит на страницу товара - событие product_page\n",
    "- пользователь добавляет товар в корзину - событие product_cart\n",
    "- пользователь совершает покупку - событие purchase"
   ]
  },
  {
   "cell_type": "code",
   "execution_count": null,
   "metadata": {
    "scrolled": true
   },
   "outputs": [],
   "source": [
    "users_by_events = profile.groupby(['event_name', 'group'], as_index=False)[['user_id']].nunique()\n",
    "users_by_events.index = [0, 1, 4, 5, 2, 3, 6, 7 ]\n",
    "users_by_events = users_by_events.sort_index()\n",
    "users_by_events.columns = ['event_name', 'group', 'amount']"
   ]
  },
  {
   "cell_type": "code",
   "execution_count": null,
   "metadata": {},
   "outputs": [],
   "source": [
    "fig = px.funnel(users_by_events, x='amount', y='event_name', color='group', title = 'Воронка событий с указанием конверсии к первому шагу')\n",
    "fig.update_traces(textinfo = \"value+percent initial\")\n",
    "fig.show()"
   ]
  },
  {
   "cell_type": "markdown",
   "metadata": {},
   "source": [
    "**Во-первых, сразу заметим, что количество пользователей контрольной группы, совершивших покупку, превышает количество пользователей, которые заходили в корзину. Значит, добавление в корзину - необязательный шаг (такое бывает, иногда можно совершить быструю покупку, не заходя в корзину). Во-вторых, отметим, что в воронку попали не все пользователи - есть люди, которые не совершали действий вообще(как мы уже отмечали, в тестовой группе их больше). Конверсии по группам разнятся не слишком сильно, однако значение больше у контрольной группы**"
   ]
  },
  {
   "cell_type": "code",
   "execution_count": null,
   "metadata": {},
   "outputs": [],
   "source": [
    "profile['user_id'].nunique()"
   ]
  },
  {
   "cell_type": "markdown",
   "metadata": {},
   "source": [
    "### Какие особенности данных нужно учесть, прежде чем приступать к A/B-тестированию?\n",
    "<a id=\"peculiar\"><a>"
   ]
  },
  {
   "cell_type": "markdown",
   "metadata": {},
   "source": [
    "- количество пользователей, которые в итоге попали в наш тест, равно 5568, что меньше требований тз. При этом у нас много пользователей, которые не совершали никаких действий: 916 в контрольной группе и 1427 в тестовой. Распределение по группам не равномерное: 57% в контрольной группе и 43% в тестовой.Однако пользователей все равно достаточно, такое распределение по группам не сильно исказит результат.\n",
    "- временные промежутки теста также не соответствуют тз: в задании заявлено, что тест заканчивается 4 января, однако данные о действиях мы перестали собирать 30 декабря.\n",
    "- пользователь может пропустить этап добавления в корзину, что также может повлиять на результат"
   ]
  },
  {
   "cell_type": "markdown",
   "metadata": {},
   "source": [
    "## Оценка результатов A/B-тестирования\n",
    "<a id=\"results\"><a>"
   ]
  },
  {
   "cell_type": "markdown",
   "metadata": {},
   "source": [
    "### Что можно сказать про результаты A/В-тестирования? \n",
    "<a id=\"middleresults\"><a>"
   ]
  },
  {
   "cell_type": "markdown",
   "metadata": {},
   "source": [
    "ожидаемый эффект: за 14 дней с момента регистрации пользователи покажут улучшение каждой метрики не менее, чем на 10%:\n",
    "\n",
    "    - конверсии в просмотр карточек товаров — событие product_page,\n",
    "    - просмотры корзины — product_cart,\n",
    "    - покупки — purchase."
   ]
  },
  {
   "cell_type": "markdown",
   "metadata": {},
   "source": [
    "**Кажется, что об улучшении конверсий мы даже не можем мечтать... На каждом шаге конверсия контрольной группы превышает конверсию тестовой на пару процентов. Увеличения конверсиис внедрением нововведений точно не будет, однако посмотрим, является ли разница между конверсиями групп А и В статистически значимой, чтобы посмотреть, значительно ли ухудшились показатели**"
   ]
  },
  {
   "cell_type": "markdown",
   "metadata": {},
   "source": [
    "### Проверим статистическую разницу долей z-критерием.\n",
    "<a id=\"test\"><a>"
   ]
  },
  {
   "cell_type": "markdown",
   "metadata": {},
   "source": [
    "        - H_0: Сатистически значимой разницы между конверсиями по группам нет\n",
    "        - H_1: Есть статистически значимая разница между конверсиями"
   ]
  },
  {
   "cell_type": "code",
   "execution_count": null,
   "metadata": {},
   "outputs": [],
   "source": [
    "data = profile.pivot_table(index = 'group', columns = 'event_name', values = 'user_id', aggfunc='nunique')\n",
    "data"
   ]
  },
  {
   "cell_type": "code",
   "execution_count": null,
   "metadata": {},
   "outputs": [],
   "source": [
    "def hypothesis(successes1, successes2, trials1, trials2, alpha):\n",
    "    p1 = successes1/trials1\n",
    "    p2 = successes2/trials2\n",
    "    \n",
    "   # print(successes1, successes2, trials1, trials2)\n",
    "    p_combined = (successes1+successes2)/(trials1+trials2)\n",
    "    difference = p1-p2\n",
    "    z_value = difference / mth.sqrt(p_combined * (1 - p_combined) * (1/trials1 + 1/trials2))\n",
    "    distr = st.norm(0, 1)\n",
    "    p_value = (1 - distr.cdf(abs(z_value))) * 2\n",
    "    print('p-значение: ', p_value)\n",
    "    if p_value < alpha:\n",
    "        print('Отвергаем нулевую гипотезу: между долями есть значимая разница')\n",
    "    else:\n",
    "        print('Не получилось отвергнуть нулевую гипотезу, нет оснований считать доли разными')"
   ]
  },
  {
   "cell_type": "code",
   "execution_count": null,
   "metadata": {},
   "outputs": [],
   "source": [
    "def check(group1, group2, event, alpha):\n",
    "    a = alpha/3\n",
    "    successes1 = data[event][group1]\n",
    "    trials1 = data['login'][group1]\n",
    "    successes2 = data[event][group2]\n",
    "    trials2 = data['login'][group2]\n",
    "    print(f'Результат проверки гипотезы о различии конверсий из события login в событие {event} для групп {group1} и {group2}:')\n",
    "    hypothesis(successes1, successes2, trials1, trials2, a)\n",
    "        "
   ]
  },
  {
   "cell_type": "code",
   "execution_count": null,
   "metadata": {},
   "outputs": [],
   "source": [
    "for i in ['product_page', 'product_cart', 'purchase']:\n",
    "    check(\"A\", \"B\", i, 0.01)"
   ]
  },
  {
   "cell_type": "code",
   "execution_count": null,
   "metadata": {},
   "outputs": [],
   "source": [
    "for i in ['product_page', 'product_cart', 'purchase']:\n",
    "    check(\"A\", \"B\", i, 0.05)"
   ]
  },
  {
   "cell_type": "markdown",
   "metadata": {},
   "source": []
  },
  {
   "cell_type": "markdown",
   "metadata": {},
   "source": [
    "## Вывод\n",
    "<a id=\"conclusions\"><a>"
   ]
  },
  {
   "cell_type": "markdown",
   "metadata": {},
   "source": [
    "**При проверке данных на соответствие техническому заданию провели следующие действия:**\n",
    "- собрали пользователей только из теста recommender_system_test \n",
    "- отсекли события, которые произошли спустя 14 дней после регистрации пользователей\n",
    "- отсекли пользователей из всех регионов, кроме Европы. Получилось, что участнки составляют 15% от тех европейцев, которые могли бы потенциально быть участниками нашего теста.\n",
    "- в итоге набрали в наш тест 6351 человек, что соответствует ТЗ. Распределение по группам получилось неравномерным : 57% в контрольной группе и 43% в тестовой\n",
    "- затем обнаружилась несостыковка: последнее событие, которое мы фиксируем, произошло 29 декабря 2020 года, в тз остановка теста - 4 января 2021. Некоторые пользователи просто не успеют прожить 14 дней, а это может повлиять на анализ \n",
    "- далее мы выяснили, что наш тест совпал с маркетинговым событием, которое проходило в Европе. Посмотрев на динамику количества действий, заключили, что это событие вряд ли может повлиять на результат \n",
    "- увидели, что есть пересечение между нашим тестом и конкурирующим. Распределение пересекающихся пользователей по группам равномерное, но я решила, что изменения, внедренные другим тестом, могут повлиять на наши результаты, поэтому участников тестовой группы interface_eu_test удалили.\n",
    "- в итоге в тест вошли 5568 человек, процентное распределение по группам осталось таким же (3195 и 2373 человек)\n",
    "\n",
    "**В ходе исследовательского анализа данных выяснили:**\n",
    "\n",
    "- в обеих группах есть пользователи, которые не совершали никаких действий, в контрольной группе: 916 человек, в тестовой - 1602. В целом, в контрольной группе пользователи чаще совершали какие-либо действия, среднее количество действий на пользователя в контрольной группе превышает среднее количество в тестовой группе \n",
    "- при рассмотрении динамики количества событий по дням, выяснили, что количество событий контрольной группы всегда превышвет количество событий в тестовой, однако нужно учитывать, что в контрольной группе больше людей, а также меньше неактивных пользователей. Видим, что с 14 по 19 декабря количество действий в контрольной группе имеет тенденцию к росту, а с 20 декабря количество событий в обеих выборках идет на спад. Это связано с притоком новых пользователей каждую неделю\n",
    "\n",
    "**Изначально, мы предполагали, что цепочка событий строится следующим образом:**\n",
    "\n",
    "    - пользователь заходит в аккуант - событие login\n",
    "    - пользователь заходит на страницу товара - событие product_page\n",
    "    - пользователь добавляет товар в корзину - событие product_cart\n",
    "    - пользователь совершает покупку - событие purchase\n",
    "\n",
    "**Однако, при построении воронки, выяснилось, что добавление товара в корзину необязательный шаг для покупки**\n",
    "**Конверсии контрольной и тестовой групп на каждом этапе различалисьв пользу группы A, при проверке гипотезы о равенстве долей получили:**\n",
    "- Результат проверки гипотезы о различии конверсий из события login в событие product_page для групп A и B:\n",
    "\n",
    "   p-значение:  7.302688278310043e-06\n",
    "   \n",
    "   Отвергаем нулевую гипотезу: между долями есть значимая разница\n",
    "   \n",
    "- Результат проверки гипотезы о различии конверсий из события login в событие product_cart для групп A и B:\n",
    "\n",
    "  p-значение:  0.22463227493216675\n",
    "  \n",
    "  Не получилось отвергнуть нулевую гипотезу, нет оснований считать доли разными\n",
    "  \n",
    "- Результат проверки гипотезы о различии конверсий из события login в событие purchase для групп A и B:\n",
    "\n",
    "  p-значение:  0.05131111814183842\n",
    "  \n",
    "  Не получилось отвергнуть нулевую гипотезу, нет оснований считать доли разными\n",
    "  \n",
    "**В итоге тест не привел к ожидаемому результату, нововведение вводить не стоит. Если есть возможность, можно провести тест заново, так как он был приостановлен на 5 дней раньше, может возникнуть ошибка подглядывания**"
   ]
  },
  {
   "cell_type": "code",
   "execution_count": null,
   "metadata": {},
   "outputs": [],
   "source": []
  }
 ],
 "metadata": {
  "ExecuteTimeLog": [
   {
    "duration": 1285,
    "start_time": "2023-04-25T08:43:54.109Z"
   },
   {
    "duration": 3,
    "start_time": "2023-04-25T08:44:41.437Z"
   },
   {
    "duration": 146,
    "start_time": "2023-04-25T08:48:04.403Z"
   },
   {
    "duration": 145,
    "start_time": "2023-04-25T08:48:12.247Z"
   },
   {
    "duration": 69,
    "start_time": "2023-04-25T08:49:08.108Z"
   },
   {
    "duration": 10,
    "start_time": "2023-04-25T08:49:26.001Z"
   },
   {
    "duration": 11,
    "start_time": "2023-04-25T08:50:35.913Z"
   },
   {
    "duration": 92,
    "start_time": "2023-04-25T08:52:39.550Z"
   },
   {
    "duration": 8,
    "start_time": "2023-04-25T08:52:51.084Z"
   },
   {
    "duration": 808,
    "start_time": "2023-04-25T08:54:04.526Z"
   },
   {
    "duration": 9,
    "start_time": "2023-04-25T08:54:25.238Z"
   },
   {
    "duration": 9,
    "start_time": "2023-04-25T08:54:26.457Z"
   },
   {
    "duration": 16,
    "start_time": "2023-04-25T08:54:31.745Z"
   },
   {
    "duration": 8,
    "start_time": "2023-04-25T08:57:31.445Z"
   },
   {
    "duration": 4,
    "start_time": "2023-04-25T08:58:20.577Z"
   },
   {
    "duration": 78,
    "start_time": "2023-04-25T09:00:10.707Z"
   },
   {
    "duration": 10,
    "start_time": "2023-04-25T09:00:41.801Z"
   },
   {
    "duration": 4,
    "start_time": "2023-04-25T09:00:56.297Z"
   },
   {
    "duration": 12,
    "start_time": "2023-04-25T09:01:45.285Z"
   },
   {
    "duration": 7,
    "start_time": "2023-04-25T09:01:59.727Z"
   },
   {
    "duration": 6,
    "start_time": "2023-04-25T09:05:40.125Z"
   },
   {
    "duration": 25,
    "start_time": "2023-04-25T09:07:35.998Z"
   },
   {
    "duration": 597,
    "start_time": "2023-04-25T09:12:50.256Z"
   },
   {
    "duration": 12,
    "start_time": "2023-04-25T09:13:03.577Z"
   },
   {
    "duration": 9,
    "start_time": "2023-04-25T09:13:24.540Z"
   },
   {
    "duration": 4,
    "start_time": "2023-04-25T09:13:50.996Z"
   },
   {
    "duration": 6,
    "start_time": "2023-04-25T09:14:11.641Z"
   },
   {
    "duration": 6,
    "start_time": "2023-04-25T10:17:59.219Z"
   },
   {
    "duration": 334,
    "start_time": "2023-04-25T10:18:13.237Z"
   },
   {
    "duration": 310,
    "start_time": "2023-04-25T10:18:24.887Z"
   },
   {
    "duration": 1156,
    "start_time": "2023-04-25T10:18:51.827Z"
   },
   {
    "duration": 620,
    "start_time": "2023-04-25T10:18:52.985Z"
   },
   {
    "duration": 11,
    "start_time": "2023-04-25T10:18:53.607Z"
   },
   {
    "duration": 16,
    "start_time": "2023-04-25T10:18:53.620Z"
   },
   {
    "duration": 27,
    "start_time": "2023-04-25T10:18:53.639Z"
   },
   {
    "duration": 21,
    "start_time": "2023-04-25T10:18:53.668Z"
   },
   {
    "duration": 19,
    "start_time": "2023-04-25T10:18:53.691Z"
   },
   {
    "duration": 20,
    "start_time": "2023-04-25T10:18:53.712Z"
   },
   {
    "duration": 12,
    "start_time": "2023-04-25T10:18:53.733Z"
   },
   {
    "duration": 92,
    "start_time": "2023-04-25T10:18:53.747Z"
   },
   {
    "duration": 3,
    "start_time": "2023-04-25T10:18:53.841Z"
   },
   {
    "duration": 24,
    "start_time": "2023-04-25T10:18:53.846Z"
   },
   {
    "duration": 35,
    "start_time": "2023-04-25T10:18:53.872Z"
   },
   {
    "duration": 11,
    "start_time": "2023-04-25T10:18:53.910Z"
   },
   {
    "duration": 11,
    "start_time": "2023-04-25T10:18:53.923Z"
   },
   {
    "duration": 14,
    "start_time": "2023-04-25T10:18:53.936Z"
   },
   {
    "duration": 22,
    "start_time": "2023-04-25T10:18:53.952Z"
   },
   {
    "duration": 24,
    "start_time": "2023-04-25T10:18:53.976Z"
   },
   {
    "duration": 373,
    "start_time": "2023-04-25T10:45:07.231Z"
   },
   {
    "duration": 17,
    "start_time": "2023-04-25T10:45:15.538Z"
   },
   {
    "duration": 3600,
    "start_time": "2023-04-25T10:47:43.805Z"
   },
   {
    "duration": 1593,
    "start_time": "2023-04-25T10:47:57.522Z"
   },
   {
    "duration": 1157,
    "start_time": "2023-04-25T10:48:06.147Z"
   },
   {
    "duration": 563,
    "start_time": "2023-04-25T10:48:07.305Z"
   },
   {
    "duration": 11,
    "start_time": "2023-04-25T10:48:07.869Z"
   },
   {
    "duration": 26,
    "start_time": "2023-04-25T10:48:07.881Z"
   },
   {
    "duration": 20,
    "start_time": "2023-04-25T10:48:07.908Z"
   },
   {
    "duration": 11,
    "start_time": "2023-04-25T10:48:07.929Z"
   },
   {
    "duration": 13,
    "start_time": "2023-04-25T10:48:07.942Z"
   },
   {
    "duration": 19,
    "start_time": "2023-04-25T10:48:07.957Z"
   },
   {
    "duration": 11,
    "start_time": "2023-04-25T10:48:07.978Z"
   },
   {
    "duration": 62,
    "start_time": "2023-04-25T10:48:07.990Z"
   },
   {
    "duration": 5,
    "start_time": "2023-04-25T10:48:08.053Z"
   },
   {
    "duration": 15,
    "start_time": "2023-04-25T10:48:08.060Z"
   },
   {
    "duration": 32,
    "start_time": "2023-04-25T10:48:08.076Z"
   },
   {
    "duration": 18,
    "start_time": "2023-04-25T10:48:08.111Z"
   },
   {
    "duration": 10,
    "start_time": "2023-04-25T10:48:08.130Z"
   },
   {
    "duration": 14,
    "start_time": "2023-04-25T10:48:08.142Z"
   },
   {
    "duration": 21,
    "start_time": "2023-04-25T10:48:08.158Z"
   },
   {
    "duration": 15,
    "start_time": "2023-04-25T10:48:08.181Z"
   },
   {
    "duration": 379,
    "start_time": "2023-04-25T10:48:08.197Z"
   },
   {
    "duration": 3298,
    "start_time": "2023-04-25T10:48:08.578Z"
   },
   {
    "duration": 13,
    "start_time": "2023-04-25T10:48:23.601Z"
   },
   {
    "duration": 5,
    "start_time": "2023-04-25T10:50:29.393Z"
   },
   {
    "duration": 13,
    "start_time": "2023-04-25T10:51:01.412Z"
   },
   {
    "duration": 53,
    "start_time": "2023-04-25T10:51:19.614Z"
   },
   {
    "duration": 7,
    "start_time": "2023-04-25T10:51:32.220Z"
   },
   {
    "duration": 47,
    "start_time": "2023-04-25T11:09:46.357Z"
   },
   {
    "duration": 53,
    "start_time": "2023-04-25T11:10:03.442Z"
   },
   {
    "duration": 17,
    "start_time": "2023-04-25T11:10:45.978Z"
   },
   {
    "duration": 5,
    "start_time": "2023-04-25T11:35:50.014Z"
   },
   {
    "duration": 10,
    "start_time": "2023-04-25T11:36:54.956Z"
   },
   {
    "duration": 5,
    "start_time": "2023-04-25T11:37:17.215Z"
   },
   {
    "duration": 26,
    "start_time": "2023-04-25T11:38:27.129Z"
   },
   {
    "duration": 12,
    "start_time": "2023-04-25T11:38:37.317Z"
   },
   {
    "duration": 14,
    "start_time": "2023-04-25T11:38:56.894Z"
   },
   {
    "duration": 12,
    "start_time": "2023-04-25T11:39:01.860Z"
   },
   {
    "duration": 183,
    "start_time": "2023-04-25T11:42:19.387Z"
   },
   {
    "duration": 19,
    "start_time": "2023-04-25T11:42:34.737Z"
   },
   {
    "duration": 7,
    "start_time": "2023-04-25T11:42:40.843Z"
   },
   {
    "duration": 8,
    "start_time": "2023-04-25T11:42:47.782Z"
   },
   {
    "duration": 9,
    "start_time": "2023-04-25T11:43:08.445Z"
   },
   {
    "duration": 44,
    "start_time": "2023-04-25T11:43:16.287Z"
   },
   {
    "duration": 10,
    "start_time": "2023-04-25T11:50:30.481Z"
   },
   {
    "duration": 13,
    "start_time": "2023-04-25T11:50:37.747Z"
   },
   {
    "duration": 5,
    "start_time": "2023-04-25T11:51:10.409Z"
   },
   {
    "duration": 1881,
    "start_time": "2023-04-25T11:52:30.221Z"
   },
   {
    "duration": 142,
    "start_time": "2023-04-25T11:52:47.400Z"
   },
   {
    "duration": 203,
    "start_time": "2023-04-25T11:53:45.949Z"
   },
   {
    "duration": 4,
    "start_time": "2023-04-25T11:54:34.711Z"
   },
   {
    "duration": 1462,
    "start_time": "2023-04-25T11:59:04.613Z"
   },
   {
    "duration": 12,
    "start_time": "2023-04-25T11:59:14.824Z"
   },
   {
    "duration": 1219,
    "start_time": "2023-04-25T12:06:56.656Z"
   },
   {
    "duration": 1650,
    "start_time": "2023-04-25T12:07:09.623Z"
   },
   {
    "duration": 18,
    "start_time": "2023-04-25T12:07:23.045Z"
   },
   {
    "duration": 5,
    "start_time": "2023-04-25T12:07:32.074Z"
   },
   {
    "duration": 22,
    "start_time": "2023-04-25T12:07:47.833Z"
   },
   {
    "duration": 9,
    "start_time": "2023-04-25T12:07:55.107Z"
   },
   {
    "duration": 4,
    "start_time": "2023-04-25T12:08:01.421Z"
   },
   {
    "duration": 23,
    "start_time": "2023-04-25T12:10:11.483Z"
   },
   {
    "duration": 94,
    "start_time": "2023-04-25T12:11:30.377Z"
   },
   {
    "duration": 100,
    "start_time": "2023-04-25T12:12:00.593Z"
   },
   {
    "duration": 81,
    "start_time": "2023-04-25T12:12:09.958Z"
   },
   {
    "duration": 13,
    "start_time": "2023-04-25T12:13:20.313Z"
   },
   {
    "duration": 550,
    "start_time": "2023-04-25T12:15:23.220Z"
   },
   {
    "duration": 603,
    "start_time": "2023-04-25T12:15:43.520Z"
   },
   {
    "duration": 307,
    "start_time": "2023-04-25T12:15:54.957Z"
   },
   {
    "duration": 622,
    "start_time": "2023-04-25T12:16:01.393Z"
   },
   {
    "duration": 8,
    "start_time": "2023-04-25T12:25:49.934Z"
   },
   {
    "duration": 6,
    "start_time": "2023-04-25T13:09:34.079Z"
   },
   {
    "duration": 15,
    "start_time": "2023-04-25T13:09:39.825Z"
   },
   {
    "duration": 5,
    "start_time": "2023-04-25T13:15:59.055Z"
   },
   {
    "duration": 5,
    "start_time": "2023-04-25T13:16:07.529Z"
   },
   {
    "duration": 7,
    "start_time": "2023-04-25T13:16:50.218Z"
   },
   {
    "duration": 9,
    "start_time": "2023-04-25T13:17:21.352Z"
   },
   {
    "duration": 12,
    "start_time": "2023-04-25T13:38:13.249Z"
   },
   {
    "duration": 10,
    "start_time": "2023-04-25T13:38:28.844Z"
   },
   {
    "duration": 15,
    "start_time": "2023-04-25T13:39:10.161Z"
   },
   {
    "duration": 12,
    "start_time": "2023-04-25T13:39:39.733Z"
   },
   {
    "duration": 8,
    "start_time": "2023-04-25T13:42:06.841Z"
   },
   {
    "duration": 1094,
    "start_time": "2023-04-25T17:00:22.159Z"
   },
   {
    "duration": 566,
    "start_time": "2023-04-25T17:00:23.255Z"
   },
   {
    "duration": 11,
    "start_time": "2023-04-25T17:00:23.822Z"
   },
   {
    "duration": 14,
    "start_time": "2023-04-25T17:00:23.835Z"
   },
   {
    "duration": 17,
    "start_time": "2023-04-25T17:00:23.851Z"
   },
   {
    "duration": 3,
    "start_time": "2023-04-25T17:00:23.870Z"
   },
   {
    "duration": 11,
    "start_time": "2023-04-25T17:00:23.874Z"
   },
   {
    "duration": 11,
    "start_time": "2023-04-25T17:00:23.886Z"
   },
   {
    "duration": 7,
    "start_time": "2023-04-25T17:00:23.899Z"
   },
   {
    "duration": 94,
    "start_time": "2023-04-25T17:00:23.907Z"
   },
   {
    "duration": 4,
    "start_time": "2023-04-25T17:00:24.002Z"
   },
   {
    "duration": 18,
    "start_time": "2023-04-25T17:00:24.007Z"
   },
   {
    "duration": 29,
    "start_time": "2023-04-25T17:00:24.033Z"
   },
   {
    "duration": 11,
    "start_time": "2023-04-25T17:00:24.065Z"
   },
   {
    "duration": 13,
    "start_time": "2023-04-25T17:00:24.078Z"
   },
   {
    "duration": 12,
    "start_time": "2023-04-25T17:00:24.092Z"
   },
   {
    "duration": 9,
    "start_time": "2023-04-25T17:00:24.105Z"
   },
   {
    "duration": 10,
    "start_time": "2023-04-25T17:00:24.116Z"
   },
   {
    "duration": 8,
    "start_time": "2023-04-25T17:00:24.135Z"
   },
   {
    "duration": 14,
    "start_time": "2023-04-25T17:00:24.145Z"
   },
   {
    "duration": 380,
    "start_time": "2023-04-25T17:00:24.160Z"
   },
   {
    "duration": 3222,
    "start_time": "2023-04-25T17:00:24.542Z"
   },
   {
    "duration": 5,
    "start_time": "2023-04-25T17:00:27.765Z"
   },
   {
    "duration": 24,
    "start_time": "2023-04-25T17:00:27.772Z"
   },
   {
    "duration": 63,
    "start_time": "2023-04-25T17:00:27.797Z"
   },
   {
    "duration": 8,
    "start_time": "2023-04-25T17:00:27.861Z"
   },
   {
    "duration": 53,
    "start_time": "2023-04-25T17:00:27.870Z"
   },
   {
    "duration": 15,
    "start_time": "2023-04-25T17:00:27.934Z"
   },
   {
    "duration": 4,
    "start_time": "2023-04-25T17:00:27.951Z"
   },
   {
    "duration": 18,
    "start_time": "2023-04-25T17:00:27.957Z"
   },
   {
    "duration": 14,
    "start_time": "2023-04-25T17:00:27.976Z"
   },
   {
    "duration": 34,
    "start_time": "2023-04-25T17:00:27.991Z"
   },
   {
    "duration": 11,
    "start_time": "2023-04-25T17:00:28.027Z"
   },
   {
    "duration": 17,
    "start_time": "2023-04-25T17:00:28.039Z"
   },
   {
    "duration": 184,
    "start_time": "2023-04-25T17:00:28.057Z"
   },
   {
    "duration": 11,
    "start_time": "2023-04-25T17:00:28.243Z"
   },
   {
    "duration": 132,
    "start_time": "2023-04-25T17:00:28.258Z"
   },
   {
    "duration": 186,
    "start_time": "2023-04-25T17:00:28.392Z"
   },
   {
    "duration": 8,
    "start_time": "2023-04-25T17:00:28.580Z"
   },
   {
    "duration": 16,
    "start_time": "2023-04-25T17:00:28.589Z"
   },
   {
    "duration": 10,
    "start_time": "2023-04-25T17:00:28.608Z"
   },
   {
    "duration": 21,
    "start_time": "2023-04-25T17:00:28.619Z"
   },
   {
    "duration": 96,
    "start_time": "2023-04-25T17:00:28.642Z"
   },
   {
    "duration": 13,
    "start_time": "2023-04-25T17:00:28.740Z"
   },
   {
    "duration": 553,
    "start_time": "2023-04-25T17:00:28.755Z"
   },
   {
    "duration": 8,
    "start_time": "2023-04-25T17:00:29.310Z"
   },
   {
    "duration": 18,
    "start_time": "2023-04-25T17:00:29.320Z"
   },
   {
    "duration": 9,
    "start_time": "2023-04-25T17:00:29.339Z"
   },
   {
    "duration": 15,
    "start_time": "2023-04-25T17:00:29.350Z"
   },
   {
    "duration": 12,
    "start_time": "2023-04-25T17:00:29.366Z"
   },
   {
    "duration": 113,
    "start_time": "2023-04-25T17:00:29.380Z"
   },
   {
    "duration": 29,
    "start_time": "2023-04-25T17:01:05.673Z"
   },
   {
    "duration": 29,
    "start_time": "2023-04-25T17:01:41.523Z"
   },
   {
    "duration": 64,
    "start_time": "2023-04-25T17:01:47.247Z"
   },
   {
    "duration": 78,
    "start_time": "2023-04-25T17:03:17.296Z"
   },
   {
    "duration": 118,
    "start_time": "2023-04-25T17:12:45.650Z"
   },
   {
    "duration": 23,
    "start_time": "2023-04-25T17:17:32.818Z"
   },
   {
    "duration": 627,
    "start_time": "2023-04-25T17:18:20.788Z"
   },
   {
    "duration": 19,
    "start_time": "2023-04-25T17:19:25.916Z"
   },
   {
    "duration": 23,
    "start_time": "2023-04-25T17:20:11.448Z"
   },
   {
    "duration": 57,
    "start_time": "2023-04-25T17:20:28.129Z"
   },
   {
    "duration": 8,
    "start_time": "2023-04-25T17:27:58.789Z"
   },
   {
    "duration": 23,
    "start_time": "2023-04-25T17:28:15.598Z"
   },
   {
    "duration": 19,
    "start_time": "2023-04-25T17:28:29.918Z"
   },
   {
    "duration": 12,
    "start_time": "2023-04-25T17:37:59.828Z"
   },
   {
    "duration": 8,
    "start_time": "2023-04-25T17:38:46.166Z"
   },
   {
    "duration": 10,
    "start_time": "2023-04-25T17:39:01.394Z"
   },
   {
    "duration": 7,
    "start_time": "2023-04-25T17:39:44.380Z"
   },
   {
    "duration": 4,
    "start_time": "2023-04-25T17:48:14.108Z"
   },
   {
    "duration": 4,
    "start_time": "2023-04-25T17:55:41.780Z"
   },
   {
    "duration": 86,
    "start_time": "2023-04-25T18:05:34.082Z"
   },
   {
    "duration": 76,
    "start_time": "2023-04-25T18:05:40.914Z"
   },
   {
    "duration": 7,
    "start_time": "2023-04-25T18:07:04.213Z"
   },
   {
    "duration": 10,
    "start_time": "2023-04-25T18:07:07.731Z"
   },
   {
    "duration": 3,
    "start_time": "2023-04-25T18:08:29.002Z"
   },
   {
    "duration": 71,
    "start_time": "2023-04-25T18:08:48.078Z"
   },
   {
    "duration": 4,
    "start_time": "2023-04-25T18:08:57.759Z"
   },
   {
    "duration": 3,
    "start_time": "2023-04-25T18:22:50.608Z"
   },
   {
    "duration": 74,
    "start_time": "2023-04-25T18:26:50.656Z"
   },
   {
    "duration": 27,
    "start_time": "2023-04-25T18:26:56.403Z"
   },
   {
    "duration": 18,
    "start_time": "2023-04-25T18:48:15.651Z"
   },
   {
    "duration": 28,
    "start_time": "2023-04-25T18:48:23.152Z"
   },
   {
    "duration": 1278,
    "start_time": "2023-04-25T18:49:58.015Z"
   },
   {
    "duration": 17,
    "start_time": "2023-04-25T18:50:29.865Z"
   },
   {
    "duration": 37,
    "start_time": "2023-04-25T18:50:46.344Z"
   },
   {
    "duration": 12,
    "start_time": "2023-04-25T18:51:02.911Z"
   },
   {
    "duration": 33,
    "start_time": "2023-04-25T18:51:25.645Z"
   },
   {
    "duration": 27,
    "start_time": "2023-04-25T18:52:39.417Z"
   },
   {
    "duration": 40,
    "start_time": "2023-04-25T18:52:47.931Z"
   },
   {
    "duration": 31,
    "start_time": "2023-04-25T18:53:04.215Z"
   },
   {
    "duration": 27,
    "start_time": "2023-04-25T18:53:13.455Z"
   },
   {
    "duration": 25,
    "start_time": "2023-04-25T18:53:19.951Z"
   },
   {
    "duration": 40,
    "start_time": "2023-04-25T18:53:24.815Z"
   },
   {
    "duration": 2,
    "start_time": "2023-04-25T18:55:41.427Z"
   },
   {
    "duration": 9,
    "start_time": "2023-04-25T18:59:59.945Z"
   },
   {
    "duration": 9,
    "start_time": "2023-04-25T19:01:40.022Z"
   },
   {
    "duration": 3,
    "start_time": "2023-04-25T19:01:55.621Z"
   },
   {
    "duration": 4,
    "start_time": "2023-04-25T19:02:02.572Z"
   },
   {
    "duration": 3,
    "start_time": "2023-04-25T19:02:50.495Z"
   },
   {
    "duration": 8,
    "start_time": "2023-04-25T19:03:58.544Z"
   },
   {
    "duration": 30,
    "start_time": "2023-04-25T19:04:07.628Z"
   },
   {
    "duration": 12,
    "start_time": "2023-04-25T19:04:21.088Z"
   },
   {
    "duration": 78,
    "start_time": "2023-04-25T19:05:51.245Z"
   },
   {
    "duration": 12,
    "start_time": "2023-04-25T19:05:59.807Z"
   },
   {
    "duration": 11,
    "start_time": "2023-04-25T19:06:07.619Z"
   },
   {
    "duration": 4,
    "start_time": "2023-04-25T19:06:48.248Z"
   },
   {
    "duration": 43,
    "start_time": "2023-04-25T19:06:49.313Z"
   },
   {
    "duration": 5,
    "start_time": "2023-04-25T19:07:06.770Z"
   },
   {
    "duration": 4,
    "start_time": "2023-04-25T19:07:15.941Z"
   },
   {
    "duration": 11,
    "start_time": "2023-04-25T19:07:16.935Z"
   },
   {
    "duration": 14,
    "start_time": "2023-04-25T19:07:30.589Z"
   },
   {
    "duration": 11,
    "start_time": "2023-04-25T19:08:34.904Z"
   },
   {
    "duration": 10,
    "start_time": "2023-04-25T19:08:47.633Z"
   },
   {
    "duration": 14,
    "start_time": "2023-04-25T19:08:55.703Z"
   },
   {
    "duration": 10,
    "start_time": "2023-04-25T19:09:06.499Z"
   },
   {
    "duration": 57,
    "start_time": "2023-04-25T19:09:49.351Z"
   },
   {
    "duration": 12,
    "start_time": "2023-04-25T19:10:00.115Z"
   },
   {
    "duration": 11,
    "start_time": "2023-04-25T19:10:09.136Z"
   },
   {
    "duration": 10,
    "start_time": "2023-04-25T19:12:41.403Z"
   },
   {
    "duration": 3,
    "start_time": "2023-04-25T19:13:13.216Z"
   },
   {
    "duration": 10,
    "start_time": "2023-04-25T19:13:14.184Z"
   },
   {
    "duration": 98,
    "start_time": "2023-04-25T19:25:31.258Z"
   },
   {
    "duration": 71,
    "start_time": "2023-04-25T19:25:44.486Z"
   },
   {
    "duration": 49,
    "start_time": "2023-04-25T19:26:09.215Z"
   },
   {
    "duration": 28,
    "start_time": "2023-04-25T19:26:32.819Z"
   },
   {
    "duration": 38,
    "start_time": "2023-04-25T19:26:44.827Z"
   },
   {
    "duration": 35,
    "start_time": "2023-04-25T19:27:07.172Z"
   },
   {
    "duration": 33,
    "start_time": "2023-04-25T19:27:52.651Z"
   },
   {
    "duration": 35,
    "start_time": "2023-04-25T19:30:33.858Z"
   },
   {
    "duration": 33,
    "start_time": "2023-04-25T19:33:20.742Z"
   },
   {
    "duration": 4,
    "start_time": "2023-04-25T19:34:18.920Z"
   },
   {
    "duration": 27,
    "start_time": "2023-04-25T19:34:32.727Z"
   },
   {
    "duration": 14,
    "start_time": "2023-04-25T19:34:52.608Z"
   },
   {
    "duration": 82,
    "start_time": "2023-04-25T19:35:20.203Z"
   },
   {
    "duration": 3,
    "start_time": "2023-04-25T19:35:25.403Z"
   },
   {
    "duration": 11,
    "start_time": "2023-04-25T19:42:12.946Z"
   },
   {
    "duration": 12,
    "start_time": "2023-04-25T19:42:17.906Z"
   },
   {
    "duration": 21,
    "start_time": "2023-04-25T19:43:12.860Z"
   },
   {
    "duration": 211,
    "start_time": "2023-04-25T19:43:42.279Z"
   },
   {
    "duration": 152,
    "start_time": "2023-04-25T19:44:42.216Z"
   },
   {
    "duration": 1180,
    "start_time": "2023-04-25T20:25:21.109Z"
   },
   {
    "duration": 595,
    "start_time": "2023-04-25T20:25:22.292Z"
   },
   {
    "duration": 11,
    "start_time": "2023-04-25T20:25:22.889Z"
   },
   {
    "duration": 19,
    "start_time": "2023-04-25T20:25:22.901Z"
   },
   {
    "duration": 22,
    "start_time": "2023-04-25T20:25:22.924Z"
   },
   {
    "duration": 4,
    "start_time": "2023-04-25T20:25:22.948Z"
   },
   {
    "duration": 23,
    "start_time": "2023-04-25T20:25:22.954Z"
   },
   {
    "duration": 10,
    "start_time": "2023-04-25T20:25:22.978Z"
   },
   {
    "duration": 12,
    "start_time": "2023-04-25T20:25:22.989Z"
   },
   {
    "duration": 69,
    "start_time": "2023-04-25T20:25:23.003Z"
   },
   {
    "duration": 4,
    "start_time": "2023-04-25T20:25:23.074Z"
   },
   {
    "duration": 12,
    "start_time": "2023-04-25T20:25:23.080Z"
   },
   {
    "duration": 40,
    "start_time": "2023-04-25T20:25:23.095Z"
   },
   {
    "duration": 12,
    "start_time": "2023-04-25T20:25:23.138Z"
   },
   {
    "duration": 12,
    "start_time": "2023-04-25T20:25:23.151Z"
   },
   {
    "duration": 10,
    "start_time": "2023-04-25T20:25:23.165Z"
   },
   {
    "duration": 7,
    "start_time": "2023-04-25T20:25:23.177Z"
   },
   {
    "duration": 12,
    "start_time": "2023-04-25T20:25:23.186Z"
   },
   {
    "duration": 8,
    "start_time": "2023-04-25T20:25:23.199Z"
   },
   {
    "duration": 12,
    "start_time": "2023-04-25T20:25:23.235Z"
   },
   {
    "duration": 397,
    "start_time": "2023-04-25T20:25:23.249Z"
   },
   {
    "duration": 3263,
    "start_time": "2023-04-25T20:25:23.648Z"
   },
   {
    "duration": 5,
    "start_time": "2023-04-25T20:25:26.913Z"
   },
   {
    "duration": 24,
    "start_time": "2023-04-25T20:25:26.919Z"
   },
   {
    "duration": 39,
    "start_time": "2023-04-25T20:25:26.945Z"
   },
   {
    "duration": 14,
    "start_time": "2023-04-25T20:25:26.985Z"
   },
   {
    "duration": 83,
    "start_time": "2023-04-25T20:25:27.000Z"
   },
   {
    "duration": 18,
    "start_time": "2023-04-25T20:25:27.085Z"
   },
   {
    "duration": 5,
    "start_time": "2023-04-25T20:25:27.105Z"
   },
   {
    "duration": 37,
    "start_time": "2023-04-25T20:25:27.112Z"
   },
   {
    "duration": 11,
    "start_time": "2023-04-25T20:25:27.151Z"
   },
   {
    "duration": 30,
    "start_time": "2023-04-25T20:25:27.163Z"
   },
   {
    "duration": 12,
    "start_time": "2023-04-25T20:25:27.195Z"
   },
   {
    "duration": 10,
    "start_time": "2023-04-25T20:25:27.209Z"
   },
   {
    "duration": 203,
    "start_time": "2023-04-25T20:25:27.220Z"
   },
   {
    "duration": 11,
    "start_time": "2023-04-25T20:25:27.424Z"
   },
   {
    "duration": 135,
    "start_time": "2023-04-25T20:25:27.436Z"
   },
   {
    "duration": 188,
    "start_time": "2023-04-25T20:25:27.573Z"
   },
   {
    "duration": 9,
    "start_time": "2023-04-25T20:25:27.763Z"
   },
   {
    "duration": 5,
    "start_time": "2023-04-25T20:25:27.774Z"
   },
   {
    "duration": 27,
    "start_time": "2023-04-25T20:25:27.782Z"
   },
   {
    "duration": 22,
    "start_time": "2023-04-25T20:25:27.812Z"
   },
   {
    "duration": 83,
    "start_time": "2023-04-25T20:25:27.836Z"
   },
   {
    "duration": 23,
    "start_time": "2023-04-25T20:25:27.921Z"
   },
   {
    "duration": 541,
    "start_time": "2023-04-25T20:25:27.946Z"
   },
   {
    "duration": 9,
    "start_time": "2023-04-25T20:25:28.488Z"
   },
   {
    "duration": 8,
    "start_time": "2023-04-25T20:25:28.499Z"
   },
   {
    "duration": 8,
    "start_time": "2023-04-25T20:25:28.508Z"
   },
   {
    "duration": 11,
    "start_time": "2023-04-25T20:25:28.534Z"
   },
   {
    "duration": 157,
    "start_time": "2023-04-25T20:25:28.547Z"
   },
   {
    "duration": 30,
    "start_time": "2023-04-25T20:25:28.705Z"
   },
   {
    "duration": 35,
    "start_time": "2023-04-25T20:25:28.737Z"
   },
   {
    "duration": 8,
    "start_time": "2023-04-25T20:25:28.774Z"
   },
   {
    "duration": 7,
    "start_time": "2023-04-25T20:25:28.784Z"
   },
   {
    "duration": 5,
    "start_time": "2023-04-25T20:25:28.792Z"
   },
   {
    "duration": 5,
    "start_time": "2023-04-25T20:25:28.798Z"
   },
   {
    "duration": 30,
    "start_time": "2023-04-25T20:25:28.805Z"
   },
   {
    "duration": 14,
    "start_time": "2023-04-25T20:25:28.836Z"
   },
   {
    "duration": 29,
    "start_time": "2023-04-25T20:25:28.851Z"
   },
   {
    "duration": 32,
    "start_time": "2023-04-25T20:28:23.479Z"
   },
   {
    "duration": 37,
    "start_time": "2023-04-25T20:28:29.608Z"
   },
   {
    "duration": 1188,
    "start_time": "2023-04-25T20:29:01.104Z"
   },
   {
    "duration": 619,
    "start_time": "2023-04-25T20:29:02.294Z"
   },
   {
    "duration": 10,
    "start_time": "2023-04-25T20:29:02.915Z"
   },
   {
    "duration": 38,
    "start_time": "2023-04-25T20:29:02.926Z"
   },
   {
    "duration": 17,
    "start_time": "2023-04-25T20:29:02.967Z"
   },
   {
    "duration": 8,
    "start_time": "2023-04-25T20:29:02.986Z"
   },
   {
    "duration": 14,
    "start_time": "2023-04-25T20:29:02.995Z"
   },
   {
    "duration": 8,
    "start_time": "2023-04-25T20:29:03.011Z"
   },
   {
    "duration": 8,
    "start_time": "2023-04-25T20:29:03.021Z"
   },
   {
    "duration": 87,
    "start_time": "2023-04-25T20:29:03.030Z"
   },
   {
    "duration": 4,
    "start_time": "2023-04-25T20:29:03.119Z"
   },
   {
    "duration": 41,
    "start_time": "2023-04-25T20:29:03.125Z"
   },
   {
    "duration": 33,
    "start_time": "2023-04-25T20:29:03.167Z"
   },
   {
    "duration": 10,
    "start_time": "2023-04-25T20:29:03.203Z"
   },
   {
    "duration": 25,
    "start_time": "2023-04-25T20:29:03.215Z"
   },
   {
    "duration": 43,
    "start_time": "2023-04-25T20:29:03.243Z"
   },
   {
    "duration": 20,
    "start_time": "2023-04-25T20:29:03.288Z"
   },
   {
    "duration": 53,
    "start_time": "2023-04-25T20:29:03.310Z"
   },
   {
    "duration": 9,
    "start_time": "2023-04-25T20:29:03.365Z"
   },
   {
    "duration": 15,
    "start_time": "2023-04-25T20:29:03.375Z"
   },
   {
    "duration": 381,
    "start_time": "2023-04-25T20:29:03.392Z"
   },
   {
    "duration": 3437,
    "start_time": "2023-04-25T20:29:03.774Z"
   },
   {
    "duration": 6,
    "start_time": "2023-04-25T20:29:07.212Z"
   },
   {
    "duration": 35,
    "start_time": "2023-04-25T20:29:07.220Z"
   },
   {
    "duration": 78,
    "start_time": "2023-04-25T20:29:07.257Z"
   },
   {
    "duration": 13,
    "start_time": "2023-04-25T20:29:07.337Z"
   },
   {
    "duration": 54,
    "start_time": "2023-04-25T20:29:07.352Z"
   },
   {
    "duration": 36,
    "start_time": "2023-04-25T20:29:07.408Z"
   },
   {
    "duration": 6,
    "start_time": "2023-04-25T20:29:07.445Z"
   },
   {
    "duration": 18,
    "start_time": "2023-04-25T20:29:07.453Z"
   },
   {
    "duration": 18,
    "start_time": "2023-04-25T20:29:07.472Z"
   },
   {
    "duration": 30,
    "start_time": "2023-04-25T20:29:07.492Z"
   },
   {
    "duration": 25,
    "start_time": "2023-04-25T20:29:07.524Z"
   },
   {
    "duration": 27,
    "start_time": "2023-04-25T20:29:07.551Z"
   },
   {
    "duration": 212,
    "start_time": "2023-04-25T20:29:07.580Z"
   },
   {
    "duration": 12,
    "start_time": "2023-04-25T20:29:07.794Z"
   },
   {
    "duration": 165,
    "start_time": "2023-04-25T20:29:07.808Z"
   },
   {
    "duration": 203,
    "start_time": "2023-04-25T20:29:07.974Z"
   },
   {
    "duration": 9,
    "start_time": "2023-04-25T20:29:08.178Z"
   },
   {
    "duration": 5,
    "start_time": "2023-04-25T20:29:08.188Z"
   },
   {
    "duration": 13,
    "start_time": "2023-04-25T20:29:08.198Z"
   },
   {
    "duration": 39,
    "start_time": "2023-04-25T20:29:08.213Z"
   },
   {
    "duration": 102,
    "start_time": "2023-04-25T20:29:08.254Z"
   },
   {
    "duration": 12,
    "start_time": "2023-04-25T20:29:08.358Z"
   },
   {
    "duration": 606,
    "start_time": "2023-04-25T20:29:08.371Z"
   },
   {
    "duration": 9,
    "start_time": "2023-04-25T20:29:08.978Z"
   },
   {
    "duration": 7,
    "start_time": "2023-04-25T20:29:08.989Z"
   },
   {
    "duration": 11,
    "start_time": "2023-04-25T20:29:08.997Z"
   },
   {
    "duration": 39,
    "start_time": "2023-04-25T20:29:09.009Z"
   },
   {
    "duration": 157,
    "start_time": "2023-04-25T20:29:09.049Z"
   },
   {
    "duration": 29,
    "start_time": "2023-04-25T20:29:09.207Z"
   },
   {
    "duration": 43,
    "start_time": "2023-04-25T20:29:09.238Z"
   },
   {
    "duration": 10,
    "start_time": "2023-04-25T20:29:09.283Z"
   },
   {
    "duration": 9,
    "start_time": "2023-04-25T20:29:09.295Z"
   },
   {
    "duration": 36,
    "start_time": "2023-04-25T20:29:09.306Z"
   },
   {
    "duration": 11,
    "start_time": "2023-04-25T20:29:09.344Z"
   },
   {
    "duration": 4,
    "start_time": "2023-04-25T20:29:09.357Z"
   },
   {
    "duration": 13,
    "start_time": "2023-04-25T20:29:09.363Z"
   },
   {
    "duration": 45,
    "start_time": "2023-04-25T20:29:09.378Z"
   },
   {
    "duration": 137,
    "start_time": "2023-04-25T20:29:09.425Z"
   },
   {
    "duration": 22,
    "start_time": "2023-04-25T20:29:56.495Z"
   },
   {
    "duration": 174,
    "start_time": "2023-04-25T20:30:09.049Z"
   },
   {
    "duration": 122,
    "start_time": "2023-04-25T20:30:39.947Z"
   },
   {
    "duration": 141,
    "start_time": "2023-04-25T20:32:10.780Z"
   },
   {
    "duration": 161,
    "start_time": "2023-04-25T20:32:35.503Z"
   },
   {
    "duration": 193,
    "start_time": "2023-04-25T20:33:04.719Z"
   },
   {
    "duration": 191,
    "start_time": "2023-04-25T20:33:17.002Z"
   },
   {
    "duration": 182,
    "start_time": "2023-04-25T20:34:24.938Z"
   },
   {
    "duration": 267,
    "start_time": "2023-04-25T20:35:48.015Z"
   },
   {
    "duration": 176,
    "start_time": "2023-04-25T20:40:25.996Z"
   },
   {
    "duration": 199,
    "start_time": "2023-04-25T20:40:48.497Z"
   },
   {
    "duration": 6,
    "start_time": "2023-04-25T20:56:52.730Z"
   },
   {
    "duration": 7,
    "start_time": "2023-04-25T20:57:15.038Z"
   },
   {
    "duration": 3,
    "start_time": "2023-04-25T20:57:15.963Z"
   },
   {
    "duration": 3,
    "start_time": "2023-04-25T20:58:52.373Z"
   },
   {
    "duration": 6,
    "start_time": "2023-04-25T20:59:16.928Z"
   },
   {
    "duration": 4,
    "start_time": "2023-04-25T20:59:18.250Z"
   },
   {
    "duration": 4,
    "start_time": "2023-04-25T20:59:55.391Z"
   },
   {
    "duration": 4,
    "start_time": "2023-04-25T21:00:08.774Z"
   },
   {
    "duration": 7,
    "start_time": "2023-04-25T21:01:13.997Z"
   },
   {
    "duration": 4,
    "start_time": "2023-04-25T21:01:14.643Z"
   },
   {
    "duration": 3,
    "start_time": "2023-04-25T21:02:28.040Z"
   },
   {
    "duration": 1240,
    "start_time": "2023-04-25T21:47:15.696Z"
   },
   {
    "duration": 684,
    "start_time": "2023-04-25T21:47:16.940Z"
   },
   {
    "duration": 12,
    "start_time": "2023-04-25T21:47:17.628Z"
   },
   {
    "duration": 27,
    "start_time": "2023-04-25T21:47:17.642Z"
   },
   {
    "duration": 35,
    "start_time": "2023-04-25T21:47:17.672Z"
   },
   {
    "duration": 5,
    "start_time": "2023-04-25T21:47:17.709Z"
   },
   {
    "duration": 27,
    "start_time": "2023-04-25T21:47:17.715Z"
   },
   {
    "duration": 31,
    "start_time": "2023-04-25T21:47:17.745Z"
   },
   {
    "duration": 12,
    "start_time": "2023-04-25T21:47:17.778Z"
   },
   {
    "duration": 91,
    "start_time": "2023-04-25T21:47:17.792Z"
   },
   {
    "duration": 4,
    "start_time": "2023-04-25T21:47:17.885Z"
   },
   {
    "duration": 32,
    "start_time": "2023-04-25T21:47:17.891Z"
   },
   {
    "duration": 67,
    "start_time": "2023-04-25T21:47:17.925Z"
   },
   {
    "duration": 18,
    "start_time": "2023-04-25T21:47:17.997Z"
   },
   {
    "duration": 24,
    "start_time": "2023-04-25T21:47:18.016Z"
   },
   {
    "duration": 27,
    "start_time": "2023-04-25T21:47:18.042Z"
   },
   {
    "duration": 11,
    "start_time": "2023-04-25T21:47:18.071Z"
   },
   {
    "duration": 18,
    "start_time": "2023-04-25T21:47:18.084Z"
   },
   {
    "duration": 17,
    "start_time": "2023-04-25T21:47:18.104Z"
   },
   {
    "duration": 29,
    "start_time": "2023-04-25T21:47:18.122Z"
   },
   {
    "duration": 408,
    "start_time": "2023-04-25T21:47:18.153Z"
   },
   {
    "duration": 3633,
    "start_time": "2023-04-25T21:47:18.562Z"
   },
   {
    "duration": 6,
    "start_time": "2023-04-25T21:47:22.197Z"
   },
   {
    "duration": 16,
    "start_time": "2023-04-25T21:47:22.204Z"
   },
   {
    "duration": 56,
    "start_time": "2023-04-25T21:47:22.221Z"
   },
   {
    "duration": 8,
    "start_time": "2023-04-25T21:47:22.279Z"
   },
   {
    "duration": 84,
    "start_time": "2023-04-25T21:47:22.289Z"
   },
   {
    "duration": 17,
    "start_time": "2023-04-25T21:47:22.375Z"
   },
   {
    "duration": 5,
    "start_time": "2023-04-25T21:47:22.394Z"
   },
   {
    "duration": 10,
    "start_time": "2023-04-25T21:47:22.401Z"
   },
   {
    "duration": 32,
    "start_time": "2023-04-25T21:47:22.412Z"
   },
   {
    "duration": 44,
    "start_time": "2023-04-25T21:47:22.447Z"
   },
   {
    "duration": 13,
    "start_time": "2023-04-25T21:47:22.494Z"
   },
   {
    "duration": 10,
    "start_time": "2023-04-25T21:47:22.509Z"
   },
   {
    "duration": 245,
    "start_time": "2023-04-25T21:47:22.521Z"
   },
   {
    "duration": 9,
    "start_time": "2023-04-25T21:47:22.768Z"
   },
   {
    "duration": 159,
    "start_time": "2023-04-25T21:47:22.779Z"
   },
   {
    "duration": 249,
    "start_time": "2023-04-25T21:47:22.940Z"
   },
   {
    "duration": 9,
    "start_time": "2023-04-25T21:47:23.191Z"
   },
   {
    "duration": 22,
    "start_time": "2023-04-25T21:47:23.201Z"
   },
   {
    "duration": 34,
    "start_time": "2023-04-25T21:47:23.226Z"
   },
   {
    "duration": 22,
    "start_time": "2023-04-25T21:47:23.262Z"
   },
   {
    "duration": 104,
    "start_time": "2023-04-25T21:47:23.286Z"
   },
   {
    "duration": 13,
    "start_time": "2023-04-25T21:47:23.392Z"
   },
   {
    "duration": 575,
    "start_time": "2023-04-25T21:47:23.407Z"
   },
   {
    "duration": 8,
    "start_time": "2023-04-25T21:47:23.984Z"
   },
   {
    "duration": 11,
    "start_time": "2023-04-25T21:47:23.994Z"
   },
   {
    "duration": 14,
    "start_time": "2023-04-25T21:47:24.006Z"
   },
   {
    "duration": 19,
    "start_time": "2023-04-25T21:47:24.034Z"
   },
   {
    "duration": 170,
    "start_time": "2023-04-25T21:47:24.055Z"
   },
   {
    "duration": 37,
    "start_time": "2023-04-25T21:47:24.227Z"
   },
   {
    "duration": 36,
    "start_time": "2023-04-25T21:47:24.266Z"
   },
   {
    "duration": 8,
    "start_time": "2023-04-25T21:47:24.303Z"
   },
   {
    "duration": 40,
    "start_time": "2023-04-25T21:47:24.313Z"
   },
   {
    "duration": 0,
    "start_time": "2023-04-25T21:47:24.356Z"
   },
   {
    "duration": 0,
    "start_time": "2023-04-25T21:47:24.358Z"
   },
   {
    "duration": 0,
    "start_time": "2023-04-25T21:47:24.359Z"
   },
   {
    "duration": 0,
    "start_time": "2023-04-25T21:47:24.361Z"
   },
   {
    "duration": 0,
    "start_time": "2023-04-25T21:47:24.363Z"
   },
   {
    "duration": 0,
    "start_time": "2023-04-25T21:47:24.364Z"
   },
   {
    "duration": 0,
    "start_time": "2023-04-25T21:47:24.365Z"
   },
   {
    "duration": 1137,
    "start_time": "2023-04-25T21:47:40.778Z"
   },
   {
    "duration": 604,
    "start_time": "2023-04-25T21:47:41.917Z"
   },
   {
    "duration": 10,
    "start_time": "2023-04-25T21:47:42.523Z"
   },
   {
    "duration": 30,
    "start_time": "2023-04-25T21:47:42.537Z"
   },
   {
    "duration": 35,
    "start_time": "2023-04-25T21:47:42.568Z"
   },
   {
    "duration": 15,
    "start_time": "2023-04-25T21:47:42.605Z"
   },
   {
    "duration": 11,
    "start_time": "2023-04-25T21:47:42.621Z"
   },
   {
    "duration": 15,
    "start_time": "2023-04-25T21:47:42.635Z"
   },
   {
    "duration": 13,
    "start_time": "2023-04-25T21:47:42.653Z"
   },
   {
    "duration": 65,
    "start_time": "2023-04-25T21:47:42.668Z"
   },
   {
    "duration": 10,
    "start_time": "2023-04-25T21:47:42.735Z"
   },
   {
    "duration": 19,
    "start_time": "2023-04-25T21:47:42.751Z"
   },
   {
    "duration": 27,
    "start_time": "2023-04-25T21:47:42.772Z"
   },
   {
    "duration": 15,
    "start_time": "2023-04-25T21:47:42.801Z"
   },
   {
    "duration": 18,
    "start_time": "2023-04-25T21:47:42.818Z"
   },
   {
    "duration": 23,
    "start_time": "2023-04-25T21:47:42.838Z"
   },
   {
    "duration": 8,
    "start_time": "2023-04-25T21:47:42.863Z"
   },
   {
    "duration": 8,
    "start_time": "2023-04-25T21:47:42.872Z"
   },
   {
    "duration": 7,
    "start_time": "2023-04-25T21:47:42.882Z"
   },
   {
    "duration": 11,
    "start_time": "2023-04-25T21:47:42.890Z"
   },
   {
    "duration": 461,
    "start_time": "2023-04-25T21:47:42.903Z"
   },
   {
    "duration": 3871,
    "start_time": "2023-04-25T21:47:43.365Z"
   },
   {
    "duration": 14,
    "start_time": "2023-04-25T21:47:47.238Z"
   },
   {
    "duration": 17,
    "start_time": "2023-04-25T21:47:47.255Z"
   },
   {
    "duration": 51,
    "start_time": "2023-04-25T21:47:47.274Z"
   },
   {
    "duration": 12,
    "start_time": "2023-04-25T21:47:47.327Z"
   },
   {
    "duration": 61,
    "start_time": "2023-04-25T21:47:47.341Z"
   },
   {
    "duration": 30,
    "start_time": "2023-04-25T21:47:47.406Z"
   },
   {
    "duration": 9,
    "start_time": "2023-04-25T21:47:47.438Z"
   },
   {
    "duration": 19,
    "start_time": "2023-04-25T21:47:47.449Z"
   },
   {
    "duration": 14,
    "start_time": "2023-04-25T21:47:47.469Z"
   },
   {
    "duration": 39,
    "start_time": "2023-04-25T21:47:47.485Z"
   },
   {
    "duration": 15,
    "start_time": "2023-04-25T21:47:47.525Z"
   },
   {
    "duration": 13,
    "start_time": "2023-04-25T21:47:47.542Z"
   },
   {
    "duration": 201,
    "start_time": "2023-04-25T21:47:47.557Z"
   },
   {
    "duration": 12,
    "start_time": "2023-04-25T21:47:47.760Z"
   },
   {
    "duration": 169,
    "start_time": "2023-04-25T21:47:47.774Z"
   },
   {
    "duration": 221,
    "start_time": "2023-04-25T21:47:47.944Z"
   },
   {
    "duration": 10,
    "start_time": "2023-04-25T21:47:48.167Z"
   },
   {
    "duration": 7,
    "start_time": "2023-04-25T21:47:48.178Z"
   },
   {
    "duration": 17,
    "start_time": "2023-04-25T21:47:48.186Z"
   },
   {
    "duration": 39,
    "start_time": "2023-04-25T21:47:48.205Z"
   },
   {
    "duration": 129,
    "start_time": "2023-04-25T21:47:48.246Z"
   },
   {
    "duration": 14,
    "start_time": "2023-04-25T21:47:48.377Z"
   },
   {
    "duration": 628,
    "start_time": "2023-04-25T21:47:48.392Z"
   },
   {
    "duration": 15,
    "start_time": "2023-04-25T21:47:49.022Z"
   },
   {
    "duration": 23,
    "start_time": "2023-04-25T21:47:49.038Z"
   },
   {
    "duration": 19,
    "start_time": "2023-04-25T21:47:49.063Z"
   },
   {
    "duration": 27,
    "start_time": "2023-04-25T21:47:49.084Z"
   },
   {
    "duration": 204,
    "start_time": "2023-04-25T21:47:49.113Z"
   },
   {
    "duration": 37,
    "start_time": "2023-04-25T21:47:49.319Z"
   },
   {
    "duration": 38,
    "start_time": "2023-04-25T21:47:49.359Z"
   },
   {
    "duration": 8,
    "start_time": "2023-04-25T21:47:49.399Z"
   },
   {
    "duration": 48,
    "start_time": "2023-04-25T21:47:49.409Z"
   },
   {
    "duration": 11,
    "start_time": "2023-04-25T21:47:49.459Z"
   },
   {
    "duration": 6,
    "start_time": "2023-04-25T21:47:49.472Z"
   },
   {
    "duration": 20,
    "start_time": "2023-04-25T21:47:49.480Z"
   },
   {
    "duration": 13,
    "start_time": "2023-04-25T21:47:49.502Z"
   },
   {
    "duration": 51,
    "start_time": "2023-04-25T21:47:49.516Z"
   },
   {
    "duration": 304,
    "start_time": "2023-04-25T21:47:49.568Z"
   },
   {
    "duration": 24,
    "start_time": "2023-04-25T21:47:49.874Z"
   },
   {
    "duration": 32,
    "start_time": "2023-04-25T21:48:25.020Z"
   },
   {
    "duration": 27,
    "start_time": "2023-04-25T21:49:53.603Z"
   },
   {
    "duration": 17,
    "start_time": "2023-04-25T21:50:00.387Z"
   },
   {
    "duration": 19,
    "start_time": "2023-04-25T21:50:54.905Z"
   },
   {
    "duration": 17,
    "start_time": "2023-04-25T21:51:11.057Z"
   },
   {
    "duration": 20,
    "start_time": "2023-04-25T21:51:16.554Z"
   },
   {
    "duration": 5,
    "start_time": "2023-04-25T21:51:49.294Z"
   },
   {
    "duration": 9,
    "start_time": "2023-04-25T22:01:14.886Z"
   },
   {
    "duration": 52,
    "start_time": "2023-04-25T22:01:27.720Z"
   },
   {
    "duration": 20,
    "start_time": "2023-04-25T22:01:35.570Z"
   },
   {
    "duration": 29,
    "start_time": "2023-04-25T22:03:03.523Z"
   },
   {
    "duration": 21,
    "start_time": "2023-04-25T22:03:13.300Z"
   },
   {
    "duration": 28,
    "start_time": "2023-04-25T22:03:14.142Z"
   },
   {
    "duration": 20,
    "start_time": "2023-04-25T22:03:40.304Z"
   },
   {
    "duration": 6,
    "start_time": "2023-04-25T22:03:40.902Z"
   },
   {
    "duration": 8,
    "start_time": "2023-04-25T22:03:50.045Z"
   },
   {
    "duration": 29,
    "start_time": "2023-04-25T22:03:50.862Z"
   },
   {
    "duration": 30,
    "start_time": "2023-04-25T22:03:51.703Z"
   },
   {
    "duration": 1215,
    "start_time": "2023-04-25T22:03:57.560Z"
   },
   {
    "duration": 620,
    "start_time": "2023-04-25T22:03:58.777Z"
   },
   {
    "duration": 11,
    "start_time": "2023-04-25T22:03:59.398Z"
   },
   {
    "duration": 19,
    "start_time": "2023-04-25T22:03:59.411Z"
   },
   {
    "duration": 29,
    "start_time": "2023-04-25T22:03:59.432Z"
   },
   {
    "duration": 5,
    "start_time": "2023-04-25T22:03:59.462Z"
   },
   {
    "duration": 11,
    "start_time": "2023-04-25T22:03:59.469Z"
   },
   {
    "duration": 38,
    "start_time": "2023-04-25T22:03:59.481Z"
   },
   {
    "duration": 11,
    "start_time": "2023-04-25T22:03:59.520Z"
   },
   {
    "duration": 75,
    "start_time": "2023-04-25T22:03:59.533Z"
   },
   {
    "duration": 4,
    "start_time": "2023-04-25T22:03:59.610Z"
   },
   {
    "duration": 15,
    "start_time": "2023-04-25T22:03:59.615Z"
   },
   {
    "duration": 32,
    "start_time": "2023-04-25T22:03:59.632Z"
   },
   {
    "duration": 13,
    "start_time": "2023-04-25T22:03:59.667Z"
   },
   {
    "duration": 13,
    "start_time": "2023-04-25T22:03:59.681Z"
   },
   {
    "duration": 11,
    "start_time": "2023-04-25T22:03:59.695Z"
   },
   {
    "duration": 17,
    "start_time": "2023-04-25T22:03:59.708Z"
   },
   {
    "duration": 16,
    "start_time": "2023-04-25T22:03:59.726Z"
   },
   {
    "duration": 20,
    "start_time": "2023-04-25T22:03:59.744Z"
   },
   {
    "duration": 12,
    "start_time": "2023-04-25T22:03:59.766Z"
   },
   {
    "duration": 368,
    "start_time": "2023-04-25T22:03:59.780Z"
   },
   {
    "duration": 3647,
    "start_time": "2023-04-25T22:04:00.151Z"
   },
   {
    "duration": 6,
    "start_time": "2023-04-25T22:04:03.799Z"
   },
   {
    "duration": 28,
    "start_time": "2023-04-25T22:04:03.807Z"
   },
   {
    "duration": 51,
    "start_time": "2023-04-25T22:04:03.837Z"
   },
   {
    "duration": 8,
    "start_time": "2023-04-25T22:04:03.890Z"
   },
   {
    "duration": 77,
    "start_time": "2023-04-25T22:04:03.900Z"
   },
   {
    "duration": 15,
    "start_time": "2023-04-25T22:04:03.978Z"
   },
   {
    "duration": 6,
    "start_time": "2023-04-25T22:04:03.994Z"
   },
   {
    "duration": 15,
    "start_time": "2023-04-25T22:04:04.002Z"
   },
   {
    "duration": 21,
    "start_time": "2023-04-25T22:04:04.019Z"
   },
   {
    "duration": 58,
    "start_time": "2023-04-25T22:04:04.042Z"
   },
   {
    "duration": 11,
    "start_time": "2023-04-25T22:04:04.102Z"
   },
   {
    "duration": 12,
    "start_time": "2023-04-25T22:04:04.115Z"
   },
   {
    "duration": 222,
    "start_time": "2023-04-25T22:04:04.128Z"
   },
   {
    "duration": 11,
    "start_time": "2023-04-25T22:04:04.353Z"
   },
   {
    "duration": 166,
    "start_time": "2023-04-25T22:04:04.366Z"
   },
   {
    "duration": 254,
    "start_time": "2023-04-25T22:04:04.535Z"
   },
   {
    "duration": 12,
    "start_time": "2023-04-25T22:04:04.791Z"
   },
   {
    "duration": 7,
    "start_time": "2023-04-25T22:04:04.805Z"
   },
   {
    "duration": 38,
    "start_time": "2023-04-25T22:04:04.815Z"
   },
   {
    "duration": 18,
    "start_time": "2023-04-25T22:04:04.856Z"
   },
   {
    "duration": 96,
    "start_time": "2023-04-25T22:04:04.875Z"
   },
   {
    "duration": 12,
    "start_time": "2023-04-25T22:04:04.973Z"
   },
   {
    "duration": 600,
    "start_time": "2023-04-25T22:04:04.986Z"
   },
   {
    "duration": 9,
    "start_time": "2023-04-25T22:04:05.588Z"
   },
   {
    "duration": 23,
    "start_time": "2023-04-25T22:04:05.598Z"
   },
   {
    "duration": 30,
    "start_time": "2023-04-25T22:04:05.622Z"
   },
   {
    "duration": 30,
    "start_time": "2023-04-25T22:04:05.654Z"
   },
   {
    "duration": 154,
    "start_time": "2023-04-25T22:04:05.685Z"
   },
   {
    "duration": 34,
    "start_time": "2023-04-25T22:04:05.840Z"
   },
   {
    "duration": 37,
    "start_time": "2023-04-25T22:04:05.876Z"
   },
   {
    "duration": 33,
    "start_time": "2023-04-25T22:04:05.915Z"
   },
   {
    "duration": 13,
    "start_time": "2023-04-25T22:04:05.951Z"
   },
   {
    "duration": 6,
    "start_time": "2023-04-25T22:04:05.966Z"
   },
   {
    "duration": 8,
    "start_time": "2023-04-25T22:04:05.973Z"
   },
   {
    "duration": 8,
    "start_time": "2023-04-25T22:04:05.983Z"
   },
   {
    "duration": 21,
    "start_time": "2023-04-25T22:04:05.993Z"
   },
   {
    "duration": 60,
    "start_time": "2023-04-25T22:04:06.015Z"
   },
   {
    "duration": 313,
    "start_time": "2023-04-25T22:04:06.077Z"
   },
   {
    "duration": 18,
    "start_time": "2023-04-25T22:04:06.392Z"
   },
   {
    "duration": 23,
    "start_time": "2023-04-25T22:04:06.412Z"
   },
   {
    "duration": 14,
    "start_time": "2023-04-25T22:04:06.438Z"
   },
   {
    "duration": 29,
    "start_time": "2023-04-25T22:04:06.456Z"
   },
   {
    "duration": 21,
    "start_time": "2023-04-25T22:04:06.487Z"
   },
   {
    "duration": 7,
    "start_time": "2023-04-25T22:04:17.013Z"
   },
   {
    "duration": 22,
    "start_time": "2023-04-25T22:05:24.443Z"
   },
   {
    "duration": 22,
    "start_time": "2023-04-25T22:05:33.427Z"
   },
   {
    "duration": 5,
    "start_time": "2023-04-25T22:05:44.724Z"
   },
   {
    "duration": 27,
    "start_time": "2023-04-25T22:08:58.517Z"
   },
   {
    "duration": 28,
    "start_time": "2023-04-25T22:11:40.279Z"
   },
   {
    "duration": 17,
    "start_time": "2023-04-25T22:11:53.810Z"
   },
   {
    "duration": 24,
    "start_time": "2023-04-25T22:13:24.582Z"
   },
   {
    "duration": 12,
    "start_time": "2023-04-25T22:14:31.595Z"
   },
   {
    "duration": 10,
    "start_time": "2023-04-25T22:14:56.289Z"
   },
   {
    "duration": 11,
    "start_time": "2023-04-25T22:15:17.357Z"
   },
   {
    "duration": 7,
    "start_time": "2023-04-25T22:15:42.689Z"
   },
   {
    "duration": 31,
    "start_time": "2023-04-25T22:17:02.309Z"
   },
   {
    "duration": 17,
    "start_time": "2023-04-25T22:17:45.695Z"
   },
   {
    "duration": 18,
    "start_time": "2023-04-25T22:17:54.317Z"
   },
   {
    "duration": 19,
    "start_time": "2023-04-25T22:18:02.336Z"
   },
   {
    "duration": 1137,
    "start_time": "2023-04-25T22:18:12.829Z"
   },
   {
    "duration": 583,
    "start_time": "2023-04-25T22:18:13.968Z"
   },
   {
    "duration": 14,
    "start_time": "2023-04-25T22:18:14.553Z"
   },
   {
    "duration": 23,
    "start_time": "2023-04-25T22:18:14.569Z"
   },
   {
    "duration": 21,
    "start_time": "2023-04-25T22:18:14.594Z"
   },
   {
    "duration": 42,
    "start_time": "2023-04-25T22:18:14.617Z"
   },
   {
    "duration": 13,
    "start_time": "2023-04-25T22:18:14.661Z"
   },
   {
    "duration": 20,
    "start_time": "2023-04-25T22:18:14.677Z"
   },
   {
    "duration": 12,
    "start_time": "2023-04-25T22:18:14.700Z"
   },
   {
    "duration": 78,
    "start_time": "2023-04-25T22:18:14.714Z"
   },
   {
    "duration": 4,
    "start_time": "2023-04-25T22:18:14.793Z"
   },
   {
    "duration": 14,
    "start_time": "2023-04-25T22:18:14.799Z"
   },
   {
    "duration": 38,
    "start_time": "2023-04-25T22:18:14.814Z"
   },
   {
    "duration": 11,
    "start_time": "2023-04-25T22:18:14.855Z"
   },
   {
    "duration": 9,
    "start_time": "2023-04-25T22:18:14.868Z"
   },
   {
    "duration": 6,
    "start_time": "2023-04-25T22:18:14.879Z"
   },
   {
    "duration": 12,
    "start_time": "2023-04-25T22:18:14.887Z"
   },
   {
    "duration": 35,
    "start_time": "2023-04-25T22:18:14.900Z"
   },
   {
    "duration": 8,
    "start_time": "2023-04-25T22:18:14.937Z"
   },
   {
    "duration": 13,
    "start_time": "2023-04-25T22:18:14.947Z"
   },
   {
    "duration": 402,
    "start_time": "2023-04-25T22:18:14.961Z"
   },
   {
    "duration": 3337,
    "start_time": "2023-04-25T22:18:15.365Z"
   },
   {
    "duration": 6,
    "start_time": "2023-04-25T22:18:18.704Z"
   },
   {
    "duration": 26,
    "start_time": "2023-04-25T22:18:18.712Z"
   },
   {
    "duration": 59,
    "start_time": "2023-04-25T22:18:18.739Z"
   },
   {
    "duration": 6,
    "start_time": "2023-04-25T22:18:18.800Z"
   },
   {
    "duration": 63,
    "start_time": "2023-04-25T22:18:18.808Z"
   },
   {
    "duration": 14,
    "start_time": "2023-04-25T22:18:18.873Z"
   },
   {
    "duration": 5,
    "start_time": "2023-04-25T22:18:18.888Z"
   },
   {
    "duration": 6,
    "start_time": "2023-04-25T22:18:18.894Z"
   },
   {
    "duration": 10,
    "start_time": "2023-04-25T22:18:18.902Z"
   },
   {
    "duration": 46,
    "start_time": "2023-04-25T22:18:18.914Z"
   },
   {
    "duration": 11,
    "start_time": "2023-04-25T22:18:18.962Z"
   },
   {
    "duration": 9,
    "start_time": "2023-04-25T22:18:18.975Z"
   },
   {
    "duration": 187,
    "start_time": "2023-04-25T22:18:18.986Z"
   },
   {
    "duration": 8,
    "start_time": "2023-04-25T22:18:19.175Z"
   },
   {
    "duration": 141,
    "start_time": "2023-04-25T22:18:19.184Z"
   },
   {
    "duration": 190,
    "start_time": "2023-04-25T22:18:19.327Z"
   },
   {
    "duration": 15,
    "start_time": "2023-04-25T22:18:19.519Z"
   },
   {
    "duration": 5,
    "start_time": "2023-04-25T22:18:19.536Z"
   },
   {
    "duration": 10,
    "start_time": "2023-04-25T22:18:19.545Z"
   },
   {
    "duration": 12,
    "start_time": "2023-04-25T22:18:19.556Z"
   },
   {
    "duration": 129,
    "start_time": "2023-04-25T22:18:19.569Z"
   },
   {
    "duration": 16,
    "start_time": "2023-04-25T22:18:19.700Z"
   },
   {
    "duration": 639,
    "start_time": "2023-04-25T22:18:19.718Z"
   },
   {
    "duration": 10,
    "start_time": "2023-04-25T22:18:20.359Z"
   },
   {
    "duration": 32,
    "start_time": "2023-04-25T22:18:20.370Z"
   },
   {
    "duration": 29,
    "start_time": "2023-04-25T22:18:20.403Z"
   },
   {
    "duration": 14,
    "start_time": "2023-04-25T22:18:20.434Z"
   },
   {
    "duration": 175,
    "start_time": "2023-04-25T22:18:20.450Z"
   },
   {
    "duration": 25,
    "start_time": "2023-04-25T22:18:20.627Z"
   },
   {
    "duration": 31,
    "start_time": "2023-04-25T22:20:39.636Z"
   },
   {
    "duration": 1158,
    "start_time": "2023-04-25T22:24:38.517Z"
   },
   {
    "duration": 570,
    "start_time": "2023-04-25T22:24:39.677Z"
   },
   {
    "duration": 9,
    "start_time": "2023-04-25T22:24:40.249Z"
   },
   {
    "duration": 14,
    "start_time": "2023-04-25T22:24:40.260Z"
   },
   {
    "duration": 17,
    "start_time": "2023-04-25T22:24:40.276Z"
   },
   {
    "duration": 4,
    "start_time": "2023-04-25T22:24:40.295Z"
   },
   {
    "duration": 9,
    "start_time": "2023-04-25T22:24:40.300Z"
   },
   {
    "duration": 12,
    "start_time": "2023-04-25T22:24:40.334Z"
   },
   {
    "duration": 11,
    "start_time": "2023-04-25T22:24:40.347Z"
   },
   {
    "duration": 62,
    "start_time": "2023-04-25T22:24:40.359Z"
   },
   {
    "duration": 16,
    "start_time": "2023-04-25T22:24:40.422Z"
   },
   {
    "duration": 13,
    "start_time": "2023-04-25T22:24:40.439Z"
   },
   {
    "duration": 29,
    "start_time": "2023-04-25T22:24:40.454Z"
   },
   {
    "duration": 11,
    "start_time": "2023-04-25T22:24:40.486Z"
   },
   {
    "duration": 7,
    "start_time": "2023-04-25T22:24:40.499Z"
   },
   {
    "duration": 8,
    "start_time": "2023-04-25T22:24:40.508Z"
   },
   {
    "duration": 12,
    "start_time": "2023-04-25T22:24:40.534Z"
   },
   {
    "duration": 10,
    "start_time": "2023-04-25T22:24:40.547Z"
   },
   {
    "duration": 7,
    "start_time": "2023-04-25T22:24:40.558Z"
   },
   {
    "duration": 11,
    "start_time": "2023-04-25T22:24:40.566Z"
   },
   {
    "duration": 390,
    "start_time": "2023-04-25T22:24:40.579Z"
   },
   {
    "duration": 3217,
    "start_time": "2023-04-25T22:24:40.971Z"
   },
   {
    "duration": 5,
    "start_time": "2023-04-25T22:24:44.189Z"
   },
   {
    "duration": 23,
    "start_time": "2023-04-25T22:24:44.195Z"
   },
   {
    "duration": 48,
    "start_time": "2023-04-25T22:24:44.220Z"
   },
   {
    "duration": 8,
    "start_time": "2023-04-25T22:24:44.270Z"
   },
   {
    "duration": 66,
    "start_time": "2023-04-25T22:24:44.280Z"
   },
   {
    "duration": 15,
    "start_time": "2023-04-25T22:24:44.349Z"
   },
   {
    "duration": 5,
    "start_time": "2023-04-25T22:24:44.366Z"
   },
   {
    "duration": 14,
    "start_time": "2023-04-25T22:24:44.372Z"
   },
   {
    "duration": 12,
    "start_time": "2023-04-25T22:24:44.387Z"
   },
   {
    "duration": 35,
    "start_time": "2023-04-25T22:24:44.400Z"
   },
   {
    "duration": 14,
    "start_time": "2023-04-25T22:24:44.447Z"
   },
   {
    "duration": 19,
    "start_time": "2023-04-25T22:24:44.462Z"
   },
   {
    "duration": 198,
    "start_time": "2023-04-25T22:24:44.482Z"
   },
   {
    "duration": 12,
    "start_time": "2023-04-25T22:24:44.682Z"
   },
   {
    "duration": 161,
    "start_time": "2023-04-25T22:24:44.695Z"
   },
   {
    "duration": 204,
    "start_time": "2023-04-25T22:24:44.858Z"
   },
   {
    "duration": 12,
    "start_time": "2023-04-25T22:24:45.064Z"
   },
   {
    "duration": 19,
    "start_time": "2023-04-25T22:24:45.077Z"
   },
   {
    "duration": 14,
    "start_time": "2023-04-25T22:24:45.100Z"
   },
   {
    "duration": 31,
    "start_time": "2023-04-25T22:24:45.116Z"
   },
   {
    "duration": 80,
    "start_time": "2023-04-25T22:24:45.149Z"
   },
   {
    "duration": 24,
    "start_time": "2023-04-25T22:24:45.230Z"
   },
   {
    "duration": 619,
    "start_time": "2023-04-25T22:24:45.256Z"
   },
   {
    "duration": 9,
    "start_time": "2023-04-25T22:24:45.877Z"
   },
   {
    "duration": 8,
    "start_time": "2023-04-25T22:24:45.887Z"
   },
   {
    "duration": 10,
    "start_time": "2023-04-25T22:24:45.896Z"
   },
   {
    "duration": 32,
    "start_time": "2023-04-25T22:24:45.907Z"
   },
   {
    "duration": 152,
    "start_time": "2023-04-25T22:24:45.947Z"
   },
   {
    "duration": 4,
    "start_time": "2023-04-25T22:25:01.283Z"
   },
   {
    "duration": 1414,
    "start_time": "2023-04-26T07:16:37.973Z"
   },
   {
    "duration": 2134,
    "start_time": "2023-04-26T07:16:39.390Z"
   },
   {
    "duration": 14,
    "start_time": "2023-04-26T07:16:41.526Z"
   },
   {
    "duration": 17,
    "start_time": "2023-04-26T07:16:41.542Z"
   },
   {
    "duration": 24,
    "start_time": "2023-04-26T07:16:41.562Z"
   },
   {
    "duration": 5,
    "start_time": "2023-04-26T07:16:41.587Z"
   },
   {
    "duration": 26,
    "start_time": "2023-04-26T07:16:41.594Z"
   },
   {
    "duration": 7,
    "start_time": "2023-04-26T07:16:41.622Z"
   },
   {
    "duration": 28,
    "start_time": "2023-04-26T07:16:41.631Z"
   },
   {
    "duration": 60,
    "start_time": "2023-04-26T07:16:41.660Z"
   },
   {
    "duration": 4,
    "start_time": "2023-04-26T07:16:41.721Z"
   },
   {
    "duration": 34,
    "start_time": "2023-04-26T07:16:41.726Z"
   },
   {
    "duration": 36,
    "start_time": "2023-04-26T07:16:41.762Z"
   },
   {
    "duration": 13,
    "start_time": "2023-04-26T07:16:41.801Z"
   },
   {
    "duration": 8,
    "start_time": "2023-04-26T07:16:41.816Z"
   },
   {
    "duration": 5,
    "start_time": "2023-04-26T07:16:41.856Z"
   },
   {
    "duration": 6,
    "start_time": "2023-04-26T07:16:41.862Z"
   },
   {
    "duration": 9,
    "start_time": "2023-04-26T07:16:41.870Z"
   },
   {
    "duration": 9,
    "start_time": "2023-04-26T07:16:41.881Z"
   },
   {
    "duration": 28,
    "start_time": "2023-04-26T07:16:41.892Z"
   },
   {
    "duration": 415,
    "start_time": "2023-04-26T07:16:41.923Z"
   },
   {
    "duration": 3421,
    "start_time": "2023-04-26T07:16:42.340Z"
   },
   {
    "duration": 6,
    "start_time": "2023-04-26T07:16:45.763Z"
   },
   {
    "duration": 13,
    "start_time": "2023-04-26T07:16:45.771Z"
   },
   {
    "duration": 74,
    "start_time": "2023-04-26T07:16:45.786Z"
   },
   {
    "duration": 9,
    "start_time": "2023-04-26T07:16:45.862Z"
   },
   {
    "duration": 47,
    "start_time": "2023-04-26T07:16:45.873Z"
   },
   {
    "duration": 35,
    "start_time": "2023-04-26T07:16:45.922Z"
   },
   {
    "duration": 7,
    "start_time": "2023-04-26T07:16:45.959Z"
   },
   {
    "duration": 7,
    "start_time": "2023-04-26T07:16:45.968Z"
   },
   {
    "duration": 17,
    "start_time": "2023-04-26T07:16:45.977Z"
   },
   {
    "duration": 30,
    "start_time": "2023-04-26T07:16:45.997Z"
   },
   {
    "duration": 47,
    "start_time": "2023-04-26T07:16:46.029Z"
   },
   {
    "duration": 12,
    "start_time": "2023-04-26T07:16:46.078Z"
   },
   {
    "duration": 222,
    "start_time": "2023-04-26T07:16:46.092Z"
   },
   {
    "duration": 9,
    "start_time": "2023-04-26T07:16:46.316Z"
   },
   {
    "duration": 172,
    "start_time": "2023-04-26T07:16:46.326Z"
   },
   {
    "duration": 210,
    "start_time": "2023-04-26T07:16:46.500Z"
   },
   {
    "duration": 13,
    "start_time": "2023-04-26T07:16:46.712Z"
   },
   {
    "duration": 6,
    "start_time": "2023-04-26T07:16:46.727Z"
   },
   {
    "duration": 14,
    "start_time": "2023-04-26T07:16:46.756Z"
   },
   {
    "duration": 18,
    "start_time": "2023-04-26T07:16:46.772Z"
   },
   {
    "duration": 143,
    "start_time": "2023-04-26T07:16:46.792Z"
   },
   {
    "duration": 26,
    "start_time": "2023-04-26T07:16:46.938Z"
   },
   {
    "duration": 564,
    "start_time": "2023-04-26T07:16:46.967Z"
   },
   {
    "duration": 11,
    "start_time": "2023-04-26T07:16:47.532Z"
   },
   {
    "duration": 319,
    "start_time": "2023-04-26T07:16:56.987Z"
   },
   {
    "duration": 355,
    "start_time": "2023-04-26T07:17:33.887Z"
   },
   {
    "duration": 207,
    "start_time": "2023-04-26T07:17:40.510Z"
   },
   {
    "duration": 343,
    "start_time": "2023-04-26T07:18:34.276Z"
   },
   {
    "duration": 492,
    "start_time": "2023-04-26T07:20:32.385Z"
   },
   {
    "duration": 520,
    "start_time": "2023-04-26T07:20:42.608Z"
   },
   {
    "duration": 427,
    "start_time": "2023-04-26T07:21:22.033Z"
   },
   {
    "duration": 8,
    "start_time": "2023-04-26T07:21:49.351Z"
   },
   {
    "duration": 449,
    "start_time": "2023-04-26T07:24:10.362Z"
   },
   {
    "duration": 101,
    "start_time": "2023-04-26T07:24:33.571Z"
   },
   {
    "duration": 8,
    "start_time": "2023-04-26T07:24:37.408Z"
   },
   {
    "duration": 544,
    "start_time": "2023-04-26T07:24:59.546Z"
   },
   {
    "duration": 8,
    "start_time": "2023-04-26T07:25:05.462Z"
   },
   {
    "duration": 451,
    "start_time": "2023-04-26T07:25:31.625Z"
   },
   {
    "duration": 478,
    "start_time": "2023-04-26T07:25:50.209Z"
   },
   {
    "duration": 335,
    "start_time": "2023-04-26T07:26:06.575Z"
   },
   {
    "duration": 109,
    "start_time": "2023-04-26T07:28:35.476Z"
   },
   {
    "duration": 5,
    "start_time": "2023-04-26T07:32:07.608Z"
   },
   {
    "duration": 25,
    "start_time": "2023-04-26T07:33:07.572Z"
   },
   {
    "duration": 5,
    "start_time": "2023-04-26T07:33:10.746Z"
   },
   {
    "duration": 18,
    "start_time": "2023-04-26T07:33:32.350Z"
   },
   {
    "duration": 27,
    "start_time": "2023-04-26T07:33:56.378Z"
   },
   {
    "duration": 8,
    "start_time": "2023-04-26T07:36:45.521Z"
   },
   {
    "duration": 7,
    "start_time": "2023-04-26T07:37:08.882Z"
   },
   {
    "duration": 15,
    "start_time": "2023-04-26T07:37:40.310Z"
   },
   {
    "duration": 12,
    "start_time": "2023-04-26T07:38:04.658Z"
   },
   {
    "duration": 32,
    "start_time": "2023-04-26T07:39:48.952Z"
   },
   {
    "duration": 24,
    "start_time": "2023-04-26T07:41:02.399Z"
   },
   {
    "duration": 16,
    "start_time": "2023-04-26T07:41:55.774Z"
   },
   {
    "duration": 51,
    "start_time": "2023-04-26T07:42:37.077Z"
   },
   {
    "duration": 35,
    "start_time": "2023-04-26T07:42:47.076Z"
   },
   {
    "duration": 1032,
    "start_time": "2023-04-26T07:43:26.304Z"
   },
   {
    "duration": 12,
    "start_time": "2023-04-26T07:43:36.788Z"
   },
   {
    "duration": 24,
    "start_time": "2023-04-26T07:43:55.173Z"
   },
   {
    "duration": 20,
    "start_time": "2023-04-26T07:44:25.677Z"
   },
   {
    "duration": 34,
    "start_time": "2023-04-26T07:44:43.256Z"
   },
   {
    "duration": 17,
    "start_time": "2023-04-26T07:45:06.818Z"
   },
   {
    "duration": 35,
    "start_time": "2023-04-26T07:45:24.650Z"
   },
   {
    "duration": 36,
    "start_time": "2023-04-26T07:46:04.138Z"
   },
   {
    "duration": 17,
    "start_time": "2023-04-26T07:46:20.681Z"
   },
   {
    "duration": 19,
    "start_time": "2023-04-26T07:46:28.985Z"
   },
   {
    "duration": 14,
    "start_time": "2023-04-26T07:46:48.954Z"
   },
   {
    "duration": 8,
    "start_time": "2023-04-26T07:46:50.302Z"
   },
   {
    "duration": 13,
    "start_time": "2023-04-26T07:46:55.204Z"
   },
   {
    "duration": 65,
    "start_time": "2023-04-26T07:46:58.101Z"
   },
   {
    "duration": 29,
    "start_time": "2023-04-26T07:47:33.745Z"
   },
   {
    "duration": 12,
    "start_time": "2023-04-26T07:51:28.196Z"
   },
   {
    "duration": 22,
    "start_time": "2023-04-26T07:51:39.399Z"
   },
   {
    "duration": 21,
    "start_time": "2023-04-26T07:52:32.107Z"
   },
   {
    "duration": 37,
    "start_time": "2023-04-26T08:01:49.499Z"
   },
   {
    "duration": 228,
    "start_time": "2023-04-26T08:02:03.342Z"
   },
   {
    "duration": 18,
    "start_time": "2023-04-26T08:03:08.845Z"
   },
   {
    "duration": 14,
    "start_time": "2023-04-26T08:03:14.737Z"
   },
   {
    "duration": 8,
    "start_time": "2023-04-26T08:03:44.167Z"
   },
   {
    "duration": 10,
    "start_time": "2023-04-26T08:04:35.365Z"
   },
   {
    "duration": 15,
    "start_time": "2023-04-26T08:04:44.749Z"
   },
   {
    "duration": 324,
    "start_time": "2023-04-26T08:04:50.454Z"
   },
   {
    "duration": 104,
    "start_time": "2023-04-26T08:04:56.132Z"
   },
   {
    "duration": 9,
    "start_time": "2023-04-26T08:05:00.079Z"
   },
   {
    "duration": 27,
    "start_time": "2023-04-26T08:05:01.442Z"
   },
   {
    "duration": 23,
    "start_time": "2023-04-26T08:05:05.452Z"
   },
   {
    "duration": 41,
    "start_time": "2023-04-26T08:05:08.774Z"
   },
   {
    "duration": 466,
    "start_time": "2023-04-26T08:05:53.848Z"
   },
   {
    "duration": 127,
    "start_time": "2023-04-26T08:05:58.419Z"
   },
   {
    "duration": 10,
    "start_time": "2023-04-26T08:06:01.452Z"
   },
   {
    "duration": 27,
    "start_time": "2023-04-26T08:06:02.401Z"
   },
   {
    "duration": 20,
    "start_time": "2023-04-26T08:06:06.369Z"
   },
   {
    "duration": 40,
    "start_time": "2023-04-26T08:06:09.190Z"
   },
   {
    "duration": 22,
    "start_time": "2023-04-26T08:06:17.331Z"
   },
   {
    "duration": 8,
    "start_time": "2023-04-26T08:06:54.965Z"
   },
   {
    "duration": 385,
    "start_time": "2023-04-26T08:08:21.649Z"
   },
   {
    "duration": 119,
    "start_time": "2023-04-26T08:08:25.721Z"
   },
   {
    "duration": 8,
    "start_time": "2023-04-26T08:08:29.649Z"
   },
   {
    "duration": 31,
    "start_time": "2023-04-26T08:08:31.032Z"
   },
   {
    "duration": 25,
    "start_time": "2023-04-26T08:08:34.797Z"
   },
   {
    "duration": 23,
    "start_time": "2023-04-26T08:08:42.874Z"
   },
   {
    "duration": 13,
    "start_time": "2023-04-26T08:08:59.095Z"
   },
   {
    "duration": 8,
    "start_time": "2023-04-26T08:09:04.604Z"
   },
   {
    "duration": 322,
    "start_time": "2023-04-26T08:11:18.097Z"
   },
   {
    "duration": 82,
    "start_time": "2023-04-26T08:11:22.406Z"
   },
   {
    "duration": 8,
    "start_time": "2023-04-26T08:11:28.724Z"
   },
   {
    "duration": 33,
    "start_time": "2023-04-26T08:11:31.229Z"
   },
   {
    "duration": 26,
    "start_time": "2023-04-26T08:14:55.373Z"
   },
   {
    "duration": 16,
    "start_time": "2023-04-26T08:15:27.300Z"
   },
   {
    "duration": 54,
    "start_time": "2023-04-26T08:17:36.015Z"
   },
   {
    "duration": 4,
    "start_time": "2023-04-26T08:17:48.919Z"
   },
   {
    "duration": 24,
    "start_time": "2023-04-26T08:17:54.497Z"
   },
   {
    "duration": 41,
    "start_time": "2023-04-26T08:18:00.942Z"
   },
   {
    "duration": 44,
    "start_time": "2023-04-26T08:18:17.332Z"
   },
   {
    "duration": 12,
    "start_time": "2023-04-26T08:18:33.876Z"
   },
   {
    "duration": 8,
    "start_time": "2023-04-26T08:18:34.727Z"
   },
   {
    "duration": 4,
    "start_time": "2023-04-26T08:18:35.633Z"
   },
   {
    "duration": 7,
    "start_time": "2023-04-26T08:19:44.651Z"
   },
   {
    "duration": 25,
    "start_time": "2023-04-26T08:19:45.283Z"
   },
   {
    "duration": 33,
    "start_time": "2023-04-26T08:20:00.063Z"
   },
   {
    "duration": 20,
    "start_time": "2023-04-26T08:20:23.236Z"
   },
   {
    "duration": 8,
    "start_time": "2023-04-26T08:20:48.427Z"
   },
   {
    "duration": 385,
    "start_time": "2023-04-26T08:27:03.755Z"
   },
   {
    "duration": 135,
    "start_time": "2023-04-26T08:27:08.199Z"
   },
   {
    "duration": 31,
    "start_time": "2023-04-26T08:27:17.912Z"
   },
   {
    "duration": 4,
    "start_time": "2023-04-26T08:28:51.078Z"
   },
   {
    "duration": 31,
    "start_time": "2023-04-26T08:29:03.200Z"
   },
   {
    "duration": 387,
    "start_time": "2023-04-26T08:29:30.517Z"
   },
   {
    "duration": 109,
    "start_time": "2023-04-26T08:29:34.637Z"
   },
   {
    "duration": 640,
    "start_time": "2023-04-26T08:29:39.240Z"
   },
   {
    "duration": 29,
    "start_time": "2023-04-26T08:30:36.979Z"
   },
   {
    "duration": 8,
    "start_time": "2023-04-26T08:30:41.303Z"
   },
   {
    "duration": 30,
    "start_time": "2023-04-26T08:30:42.925Z"
   },
   {
    "duration": 11,
    "start_time": "2023-04-26T08:31:10.368Z"
   },
   {
    "duration": 395,
    "start_time": "2023-04-26T08:31:46.387Z"
   },
   {
    "duration": 119,
    "start_time": "2023-04-26T08:31:50.377Z"
   },
   {
    "duration": 10,
    "start_time": "2023-04-26T08:31:54.349Z"
   },
   {
    "duration": 10,
    "start_time": "2023-04-26T08:32:49.850Z"
   },
   {
    "duration": 9,
    "start_time": "2023-04-26T08:33:16.603Z"
   },
   {
    "duration": 7,
    "start_time": "2023-04-26T08:33:24.554Z"
   },
   {
    "duration": 30,
    "start_time": "2023-04-26T08:34:12.808Z"
   },
   {
    "duration": 10,
    "start_time": "2023-04-26T08:34:16.480Z"
   },
   {
    "duration": 371,
    "start_time": "2023-04-26T08:36:04.245Z"
   },
   {
    "duration": 157,
    "start_time": "2023-04-26T08:36:25.419Z"
   },
   {
    "duration": 129,
    "start_time": "2023-04-26T08:36:41.504Z"
   },
   {
    "duration": 18,
    "start_time": "2023-04-26T08:37:14.903Z"
   },
   {
    "duration": 4,
    "start_time": "2023-04-26T08:37:55.104Z"
   },
   {
    "duration": 18,
    "start_time": "2023-04-26T08:38:06.494Z"
   },
   {
    "duration": 14,
    "start_time": "2023-04-26T08:38:22.651Z"
   },
   {
    "duration": 10,
    "start_time": "2023-04-26T08:38:35.200Z"
   },
   {
    "duration": 8,
    "start_time": "2023-04-26T08:38:45.831Z"
   },
   {
    "duration": 25,
    "start_time": "2023-04-26T08:38:50.762Z"
   },
   {
    "duration": 13,
    "start_time": "2023-04-26T08:38:55.453Z"
   },
   {
    "duration": 337,
    "start_time": "2023-04-26T08:39:07.464Z"
   },
   {
    "duration": 148,
    "start_time": "2023-04-26T08:39:14.631Z"
   },
   {
    "duration": 8,
    "start_time": "2023-04-26T08:39:36.570Z"
   },
   {
    "duration": 10,
    "start_time": "2023-04-26T08:39:59.357Z"
   },
   {
    "duration": 6,
    "start_time": "2023-04-26T08:40:20.405Z"
   },
   {
    "duration": 25,
    "start_time": "2023-04-26T08:40:38.670Z"
   },
   {
    "duration": 11,
    "start_time": "2023-04-26T08:41:14.837Z"
   },
   {
    "duration": 37,
    "start_time": "2023-04-26T08:41:23.031Z"
   },
   {
    "duration": 11,
    "start_time": "2023-04-26T08:41:57.569Z"
   },
   {
    "duration": 35,
    "start_time": "2023-04-26T08:43:14.112Z"
   },
   {
    "duration": 14,
    "start_time": "2023-04-26T08:45:15.728Z"
   },
   {
    "duration": 10,
    "start_time": "2023-04-26T08:45:48.149Z"
   },
   {
    "duration": 14,
    "start_time": "2023-04-26T08:46:50.169Z"
   },
   {
    "duration": 16,
    "start_time": "2023-04-26T08:46:59.744Z"
   },
   {
    "duration": 335,
    "start_time": "2023-04-26T09:01:56.108Z"
   },
   {
    "duration": 117,
    "start_time": "2023-04-26T09:02:02.831Z"
   },
   {
    "duration": 7,
    "start_time": "2023-04-26T09:02:21.902Z"
   },
   {
    "duration": 5,
    "start_time": "2023-04-26T09:02:35.699Z"
   },
   {
    "duration": 8,
    "start_time": "2023-04-26T09:08:18.096Z"
   },
   {
    "duration": 2023,
    "start_time": "2023-04-26T09:08:46.452Z"
   },
   {
    "duration": 18,
    "start_time": "2023-04-26T09:08:51.181Z"
   },
   {
    "duration": 48,
    "start_time": "2023-04-26T09:10:06.616Z"
   },
   {
    "duration": 24,
    "start_time": "2023-04-26T09:10:21.608Z"
   },
   {
    "duration": 21,
    "start_time": "2023-04-26T09:12:15.562Z"
   },
   {
    "duration": 33,
    "start_time": "2023-04-26T09:14:12.151Z"
   },
   {
    "duration": 19,
    "start_time": "2023-04-26T09:14:17.058Z"
   },
   {
    "duration": 26,
    "start_time": "2023-04-26T09:20:43.945Z"
   },
   {
    "duration": 8,
    "start_time": "2023-04-26T09:22:04.507Z"
   },
   {
    "duration": 17,
    "start_time": "2023-04-26T09:22:37.406Z"
   },
   {
    "duration": 7,
    "start_time": "2023-04-26T09:25:53.181Z"
   },
   {
    "duration": 6,
    "start_time": "2023-04-26T09:26:01.628Z"
   },
   {
    "duration": 65,
    "start_time": "2023-04-26T09:28:57.009Z"
   },
   {
    "duration": 4,
    "start_time": "2023-04-26T09:28:59.033Z"
   },
   {
    "duration": 20,
    "start_time": "2023-04-26T09:31:35.254Z"
   },
   {
    "duration": 21,
    "start_time": "2023-04-26T09:31:43.587Z"
   },
   {
    "duration": 21,
    "start_time": "2023-04-26T09:49:32.132Z"
   },
   {
    "duration": 4,
    "start_time": "2023-04-26T09:52:30.808Z"
   },
   {
    "duration": 16,
    "start_time": "2023-04-26T09:52:31.378Z"
   },
   {
    "duration": 29,
    "start_time": "2023-04-26T09:52:44.586Z"
   },
   {
    "duration": 22,
    "start_time": "2023-04-26T09:52:56.762Z"
   },
   {
    "duration": 333,
    "start_time": "2023-04-26T09:53:03.911Z"
   },
   {
    "duration": 18,
    "start_time": "2023-04-26T10:08:40.865Z"
   },
   {
    "duration": 6,
    "start_time": "2023-04-26T10:08:57.043Z"
   },
   {
    "duration": 5,
    "start_time": "2023-04-26T10:12:31.230Z"
   },
   {
    "duration": 37,
    "start_time": "2023-04-26T10:13:02.229Z"
   },
   {
    "duration": 101,
    "start_time": "2023-04-26T10:13:12.179Z"
   },
   {
    "duration": 23,
    "start_time": "2023-04-26T10:13:31.695Z"
   },
   {
    "duration": 9,
    "start_time": "2023-04-26T10:14:12.812Z"
   },
   {
    "duration": 36,
    "start_time": "2023-04-26T10:18:14.379Z"
   },
   {
    "duration": 7,
    "start_time": "2023-04-26T10:18:40.530Z"
   },
   {
    "duration": 4,
    "start_time": "2023-04-26T10:20:19.945Z"
   },
   {
    "duration": 10,
    "start_time": "2023-04-26T10:20:20.577Z"
   },
   {
    "duration": 18,
    "start_time": "2023-04-26T10:20:22.361Z"
   },
   {
    "duration": 223,
    "start_time": "2023-04-26T10:20:30.047Z"
   },
   {
    "duration": 21,
    "start_time": "2023-04-26T10:20:51.188Z"
   },
   {
    "duration": 7,
    "start_time": "2023-04-26T10:20:52.212Z"
   },
   {
    "duration": 1237,
    "start_time": "2023-04-26T10:21:01.492Z"
   },
   {
    "duration": 600,
    "start_time": "2023-04-26T10:21:02.731Z"
   },
   {
    "duration": 11,
    "start_time": "2023-04-26T10:21:03.332Z"
   },
   {
    "duration": 16,
    "start_time": "2023-04-26T10:21:03.345Z"
   },
   {
    "duration": 17,
    "start_time": "2023-04-26T10:21:03.363Z"
   },
   {
    "duration": 8,
    "start_time": "2023-04-26T10:21:03.382Z"
   },
   {
    "duration": 14,
    "start_time": "2023-04-26T10:21:03.392Z"
   },
   {
    "duration": 9,
    "start_time": "2023-04-26T10:21:03.408Z"
   },
   {
    "duration": 8,
    "start_time": "2023-04-26T10:21:03.418Z"
   },
   {
    "duration": 69,
    "start_time": "2023-04-26T10:21:03.456Z"
   },
   {
    "duration": 4,
    "start_time": "2023-04-26T10:21:03.527Z"
   },
   {
    "duration": 18,
    "start_time": "2023-04-26T10:21:03.532Z"
   },
   {
    "duration": 28,
    "start_time": "2023-04-26T10:21:03.551Z"
   },
   {
    "duration": 33,
    "start_time": "2023-04-26T10:21:03.580Z"
   },
   {
    "duration": 23,
    "start_time": "2023-04-26T10:21:03.615Z"
   },
   {
    "duration": 14,
    "start_time": "2023-04-26T10:21:03.640Z"
   },
   {
    "duration": 20,
    "start_time": "2023-04-26T10:21:03.655Z"
   },
   {
    "duration": 30,
    "start_time": "2023-04-26T10:21:03.677Z"
   },
   {
    "duration": 7,
    "start_time": "2023-04-26T10:21:03.708Z"
   },
   {
    "duration": 16,
    "start_time": "2023-04-26T10:21:03.717Z"
   },
   {
    "duration": 445,
    "start_time": "2023-04-26T10:21:03.735Z"
   },
   {
    "duration": 3186,
    "start_time": "2023-04-26T10:21:04.181Z"
   },
   {
    "duration": 5,
    "start_time": "2023-04-26T10:21:07.369Z"
   },
   {
    "duration": 67,
    "start_time": "2023-04-26T10:21:07.375Z"
   },
   {
    "duration": 46,
    "start_time": "2023-04-26T10:21:07.444Z"
   },
   {
    "duration": 7,
    "start_time": "2023-04-26T10:21:07.492Z"
   },
   {
    "duration": 63,
    "start_time": "2023-04-26T10:21:07.500Z"
   },
   {
    "duration": 18,
    "start_time": "2023-04-26T10:21:07.567Z"
   },
   {
    "duration": 6,
    "start_time": "2023-04-26T10:21:07.587Z"
   },
   {
    "duration": 11,
    "start_time": "2023-04-26T10:21:07.594Z"
   },
   {
    "duration": 16,
    "start_time": "2023-04-26T10:21:07.606Z"
   },
   {
    "duration": 46,
    "start_time": "2023-04-26T10:21:07.623Z"
   },
   {
    "duration": 14,
    "start_time": "2023-04-26T10:21:07.671Z"
   },
   {
    "duration": 21,
    "start_time": "2023-04-26T10:21:07.687Z"
   },
   {
    "duration": 188,
    "start_time": "2023-04-26T10:21:07.709Z"
   },
   {
    "duration": 9,
    "start_time": "2023-04-26T10:21:07.899Z"
   },
   {
    "duration": 147,
    "start_time": "2023-04-26T10:21:07.909Z"
   },
   {
    "duration": 191,
    "start_time": "2023-04-26T10:21:08.057Z"
   },
   {
    "duration": 14,
    "start_time": "2023-04-26T10:21:08.249Z"
   },
   {
    "duration": 6,
    "start_time": "2023-04-26T10:21:08.264Z"
   },
   {
    "duration": 43,
    "start_time": "2023-04-26T10:21:08.272Z"
   },
   {
    "duration": 23,
    "start_time": "2023-04-26T10:21:08.317Z"
   },
   {
    "duration": 76,
    "start_time": "2023-04-26T10:21:08.341Z"
   },
   {
    "duration": 19,
    "start_time": "2023-04-26T10:21:08.419Z"
   },
   {
    "duration": 531,
    "start_time": "2023-04-26T10:21:08.440Z"
   },
   {
    "duration": 9,
    "start_time": "2023-04-26T10:21:08.973Z"
   },
   {
    "duration": 403,
    "start_time": "2023-04-26T10:21:08.985Z"
   },
   {
    "duration": 109,
    "start_time": "2023-04-26T10:21:09.390Z"
   },
   {
    "duration": 10,
    "start_time": "2023-04-26T10:21:09.501Z"
   },
   {
    "duration": 11,
    "start_time": "2023-04-26T10:21:09.513Z"
   },
   {
    "duration": 7,
    "start_time": "2023-04-26T10:21:09.526Z"
   },
   {
    "duration": 21,
    "start_time": "2023-04-26T10:21:09.558Z"
   },
   {
    "duration": 29,
    "start_time": "2023-04-26T10:21:09.581Z"
   },
   {
    "duration": 2,
    "start_time": "2023-04-26T10:21:09.612Z"
   },
   {
    "duration": 29,
    "start_time": "2023-04-26T10:21:09.615Z"
   },
   {
    "duration": 34,
    "start_time": "2023-04-26T10:21:09.656Z"
   },
   {
    "duration": 23,
    "start_time": "2023-04-26T10:21:09.691Z"
   },
   {
    "duration": 7,
    "start_time": "2023-04-26T10:21:09.716Z"
   },
   {
    "duration": 3,
    "start_time": "2023-04-26T10:21:09.725Z"
   },
   {
    "duration": 34,
    "start_time": "2023-04-26T10:21:09.730Z"
   },
   {
    "duration": 34,
    "start_time": "2023-04-26T10:21:09.765Z"
   },
   {
    "duration": 274,
    "start_time": "2023-04-26T10:21:09.801Z"
   },
   {
    "duration": 128,
    "start_time": "2023-04-26T10:21:10.077Z"
   },
   {
    "duration": 6,
    "start_time": "2023-04-26T10:21:10.206Z"
   },
   {
    "duration": 12,
    "start_time": "2023-04-26T10:21:10.214Z"
   },
   {
    "duration": 37,
    "start_time": "2023-04-26T10:21:10.228Z"
   },
   {
    "duration": 17,
    "start_time": "2023-04-26T10:21:10.266Z"
   },
   {
    "duration": 20,
    "start_time": "2023-04-26T10:21:10.284Z"
   },
   {
    "duration": 14,
    "start_time": "2023-04-26T10:21:10.306Z"
   },
   {
    "duration": 12,
    "start_time": "2023-04-26T10:23:08.263Z"
   },
   {
    "duration": 11,
    "start_time": "2023-04-26T10:28:39.133Z"
   },
   {
    "duration": 17,
    "start_time": "2023-04-26T10:29:45.250Z"
   },
   {
    "duration": 10,
    "start_time": "2023-04-26T10:29:50.970Z"
   },
   {
    "duration": 18,
    "start_time": "2023-04-26T10:30:12.696Z"
   },
   {
    "duration": 8,
    "start_time": "2023-04-26T10:30:13.533Z"
   },
   {
    "duration": 1061,
    "start_time": "2023-04-26T10:42:38.024Z"
   },
   {
    "duration": 590,
    "start_time": "2023-04-26T10:42:39.088Z"
   },
   {
    "duration": 11,
    "start_time": "2023-04-26T10:42:39.680Z"
   },
   {
    "duration": 27,
    "start_time": "2023-04-26T10:42:39.693Z"
   },
   {
    "duration": 17,
    "start_time": "2023-04-26T10:42:39.722Z"
   },
   {
    "duration": 4,
    "start_time": "2023-04-26T10:42:39.740Z"
   },
   {
    "duration": 14,
    "start_time": "2023-04-26T10:42:39.745Z"
   },
   {
    "duration": 20,
    "start_time": "2023-04-26T10:42:39.760Z"
   },
   {
    "duration": 7,
    "start_time": "2023-04-26T10:42:39.782Z"
   },
   {
    "duration": 53,
    "start_time": "2023-04-26T10:42:39.791Z"
   },
   {
    "duration": 4,
    "start_time": "2023-04-26T10:42:39.855Z"
   },
   {
    "duration": 28,
    "start_time": "2023-04-26T10:42:39.861Z"
   },
   {
    "duration": 25,
    "start_time": "2023-04-26T10:42:39.891Z"
   },
   {
    "duration": 76,
    "start_time": "2023-04-26T10:42:39.919Z"
   },
   {
    "duration": 12,
    "start_time": "2023-04-26T10:42:39.997Z"
   },
   {
    "duration": 9,
    "start_time": "2023-04-26T10:42:40.012Z"
   },
   {
    "duration": 27,
    "start_time": "2023-04-26T10:42:40.023Z"
   },
   {
    "duration": 11,
    "start_time": "2023-04-26T10:42:40.052Z"
   },
   {
    "duration": 60,
    "start_time": "2023-04-26T10:42:40.064Z"
   },
   {
    "duration": 49,
    "start_time": "2023-04-26T10:42:40.126Z"
   },
   {
    "duration": 442,
    "start_time": "2023-04-26T10:42:40.177Z"
   },
   {
    "duration": 3245,
    "start_time": "2023-04-26T10:42:40.621Z"
   },
   {
    "duration": 6,
    "start_time": "2023-04-26T10:42:43.868Z"
   },
   {
    "duration": 21,
    "start_time": "2023-04-26T10:42:43.876Z"
   },
   {
    "duration": 75,
    "start_time": "2023-04-26T10:42:43.901Z"
   },
   {
    "duration": 11,
    "start_time": "2023-04-26T10:42:43.978Z"
   },
   {
    "duration": 81,
    "start_time": "2023-04-26T10:42:43.992Z"
   },
   {
    "duration": 18,
    "start_time": "2023-04-26T10:42:44.075Z"
   },
   {
    "duration": 6,
    "start_time": "2023-04-26T10:42:44.095Z"
   },
   {
    "duration": 33,
    "start_time": "2023-04-26T10:42:44.103Z"
   },
   {
    "duration": 13,
    "start_time": "2023-04-26T10:42:44.137Z"
   },
   {
    "duration": 51,
    "start_time": "2023-04-26T10:42:44.156Z"
   },
   {
    "duration": 23,
    "start_time": "2023-04-26T10:42:44.209Z"
   },
   {
    "duration": 25,
    "start_time": "2023-04-26T10:42:44.234Z"
   },
   {
    "duration": 184,
    "start_time": "2023-04-26T10:42:44.260Z"
   },
   {
    "duration": 12,
    "start_time": "2023-04-26T10:42:44.446Z"
   },
   {
    "duration": 147,
    "start_time": "2023-04-26T10:42:44.460Z"
   },
   {
    "duration": 209,
    "start_time": "2023-04-26T10:42:44.609Z"
   },
   {
    "duration": 10,
    "start_time": "2023-04-26T10:42:44.820Z"
   },
   {
    "duration": 6,
    "start_time": "2023-04-26T10:42:44.832Z"
   },
   {
    "duration": 11,
    "start_time": "2023-04-26T10:42:44.856Z"
   },
   {
    "duration": 16,
    "start_time": "2023-04-26T10:42:44.870Z"
   },
   {
    "duration": 161,
    "start_time": "2023-04-26T10:42:44.888Z"
   },
   {
    "duration": 21,
    "start_time": "2023-04-26T10:42:45.051Z"
   },
   {
    "duration": 629,
    "start_time": "2023-04-26T10:42:45.074Z"
   },
   {
    "duration": 10,
    "start_time": "2023-04-26T10:42:45.705Z"
   },
   {
    "duration": 391,
    "start_time": "2023-04-26T10:42:45.717Z"
   },
   {
    "duration": 101,
    "start_time": "2023-04-26T10:42:46.110Z"
   },
   {
    "duration": 12,
    "start_time": "2023-04-26T10:42:46.213Z"
   },
   {
    "duration": 15,
    "start_time": "2023-04-26T10:42:46.227Z"
   },
   {
    "duration": 7,
    "start_time": "2023-04-26T10:42:46.255Z"
   },
   {
    "duration": 33,
    "start_time": "2023-04-26T10:42:46.264Z"
   },
   {
    "duration": 47,
    "start_time": "2023-04-26T10:42:46.299Z"
   },
   {
    "duration": 3,
    "start_time": "2023-04-26T10:42:46.348Z"
   },
   {
    "duration": 29,
    "start_time": "2023-04-26T10:42:46.352Z"
   },
   {
    "duration": 38,
    "start_time": "2023-04-26T10:42:46.383Z"
   },
   {
    "duration": 34,
    "start_time": "2023-04-26T10:42:46.423Z"
   },
   {
    "duration": 8,
    "start_time": "2023-04-26T10:42:46.459Z"
   },
   {
    "duration": 10,
    "start_time": "2023-04-26T10:42:46.468Z"
   },
   {
    "duration": 27,
    "start_time": "2023-04-26T10:42:46.480Z"
   },
   {
    "duration": 20,
    "start_time": "2023-04-26T10:42:46.508Z"
   },
   {
    "duration": 291,
    "start_time": "2023-04-26T10:42:46.530Z"
   },
   {
    "duration": 116,
    "start_time": "2023-04-26T10:42:46.823Z"
   },
   {
    "duration": 6,
    "start_time": "2023-04-26T10:42:46.940Z"
   },
   {
    "duration": 16,
    "start_time": "2023-04-26T10:42:46.948Z"
   },
   {
    "duration": 35,
    "start_time": "2023-04-26T10:42:46.965Z"
   },
   {
    "duration": 20,
    "start_time": "2023-04-26T10:42:47.002Z"
   },
   {
    "duration": 40,
    "start_time": "2023-04-26T10:42:47.024Z"
   },
   {
    "duration": 6,
    "start_time": "2023-04-26T10:42:47.066Z"
   },
   {
    "duration": 12,
    "start_time": "2023-04-26T10:42:47.074Z"
   },
   {
    "duration": 25,
    "start_time": "2023-04-26T10:42:47.087Z"
   },
   {
    "duration": 13,
    "start_time": "2023-04-26T11:20:40.602Z"
   },
   {
    "duration": 15,
    "start_time": "2023-04-26T11:22:21.654Z"
   },
   {
    "duration": 20,
    "start_time": "2023-04-26T11:22:35.265Z"
   },
   {
    "duration": 14,
    "start_time": "2023-04-26T11:23:18.102Z"
   },
   {
    "duration": 1235,
    "start_time": "2023-04-26T11:24:58.963Z"
   },
   {
    "duration": 693,
    "start_time": "2023-04-26T11:25:00.200Z"
   },
   {
    "duration": 14,
    "start_time": "2023-04-26T11:25:00.895Z"
   },
   {
    "duration": 42,
    "start_time": "2023-04-26T11:25:00.912Z"
   },
   {
    "duration": 30,
    "start_time": "2023-04-26T11:25:00.957Z"
   },
   {
    "duration": 10,
    "start_time": "2023-04-26T11:25:00.989Z"
   },
   {
    "duration": 47,
    "start_time": "2023-04-26T11:25:01.001Z"
   },
   {
    "duration": 46,
    "start_time": "2023-04-26T11:25:01.051Z"
   },
   {
    "duration": 56,
    "start_time": "2023-04-26T11:25:01.100Z"
   },
   {
    "duration": 147,
    "start_time": "2023-04-26T11:25:01.160Z"
   },
   {
    "duration": 3,
    "start_time": "2023-04-26T11:25:01.309Z"
   },
   {
    "duration": 53,
    "start_time": "2023-04-26T11:25:01.314Z"
   },
   {
    "duration": 71,
    "start_time": "2023-04-26T11:25:01.369Z"
   },
   {
    "duration": 47,
    "start_time": "2023-04-26T11:25:01.442Z"
   },
   {
    "duration": 71,
    "start_time": "2023-04-26T11:25:01.491Z"
   },
   {
    "duration": 3,
    "start_time": "2023-04-26T11:25:01.565Z"
   },
   {
    "duration": 84,
    "start_time": "2023-04-26T11:25:01.572Z"
   },
   {
    "duration": 33,
    "start_time": "2023-04-26T11:25:01.658Z"
   },
   {
    "duration": 31,
    "start_time": "2023-04-26T11:25:01.693Z"
   },
   {
    "duration": 43,
    "start_time": "2023-04-26T11:25:01.726Z"
   },
   {
    "duration": 478,
    "start_time": "2023-04-26T11:25:01.771Z"
   },
   {
    "duration": 3333,
    "start_time": "2023-04-26T11:25:02.252Z"
   },
   {
    "duration": 7,
    "start_time": "2023-04-26T11:25:05.588Z"
   },
   {
    "duration": 14,
    "start_time": "2023-04-26T11:25:05.597Z"
   },
   {
    "duration": 65,
    "start_time": "2023-04-26T11:25:05.613Z"
   },
   {
    "duration": 8,
    "start_time": "2023-04-26T11:25:05.680Z"
   },
   {
    "duration": 66,
    "start_time": "2023-04-26T11:25:05.689Z"
   },
   {
    "duration": 19,
    "start_time": "2023-04-26T11:25:05.759Z"
   },
   {
    "duration": 6,
    "start_time": "2023-04-26T11:25:05.779Z"
   },
   {
    "duration": 11,
    "start_time": "2023-04-26T11:25:05.786Z"
   },
   {
    "duration": 10,
    "start_time": "2023-04-26T11:25:05.799Z"
   },
   {
    "duration": 46,
    "start_time": "2023-04-26T11:25:05.811Z"
   },
   {
    "duration": 15,
    "start_time": "2023-04-26T11:25:05.859Z"
   },
   {
    "duration": 12,
    "start_time": "2023-04-26T11:25:05.876Z"
   },
   {
    "duration": 212,
    "start_time": "2023-04-26T11:25:05.889Z"
   },
   {
    "duration": 9,
    "start_time": "2023-04-26T11:25:06.103Z"
   },
   {
    "duration": 152,
    "start_time": "2023-04-26T11:25:06.113Z"
   },
   {
    "duration": 213,
    "start_time": "2023-04-26T11:25:06.267Z"
   },
   {
    "duration": 10,
    "start_time": "2023-04-26T11:25:06.481Z"
   },
   {
    "duration": 24,
    "start_time": "2023-04-26T11:25:06.493Z"
   },
   {
    "duration": 23,
    "start_time": "2023-04-26T11:25:06.518Z"
   },
   {
    "duration": 32,
    "start_time": "2023-04-26T11:25:06.543Z"
   },
   {
    "duration": 84,
    "start_time": "2023-04-26T11:25:06.577Z"
   },
   {
    "duration": 18,
    "start_time": "2023-04-26T11:25:06.663Z"
   },
   {
    "duration": 544,
    "start_time": "2023-04-26T11:25:06.682Z"
   },
   {
    "duration": 11,
    "start_time": "2023-04-26T11:25:07.227Z"
   },
   {
    "duration": 427,
    "start_time": "2023-04-26T11:25:07.239Z"
   },
   {
    "duration": 98,
    "start_time": "2023-04-26T11:25:07.670Z"
   },
   {
    "duration": 9,
    "start_time": "2023-04-26T11:25:07.770Z"
   },
   {
    "duration": 16,
    "start_time": "2023-04-26T11:25:07.780Z"
   },
   {
    "duration": 10,
    "start_time": "2023-04-26T11:25:07.798Z"
   },
   {
    "duration": 26,
    "start_time": "2023-04-26T11:25:07.810Z"
   },
   {
    "duration": 35,
    "start_time": "2023-04-26T11:25:07.837Z"
   },
   {
    "duration": 3,
    "start_time": "2023-04-26T11:25:07.874Z"
   },
   {
    "duration": 42,
    "start_time": "2023-04-26T11:25:07.879Z"
   },
   {
    "duration": 55,
    "start_time": "2023-04-26T11:25:07.923Z"
   },
   {
    "duration": 23,
    "start_time": "2023-04-26T11:25:07.980Z"
   },
   {
    "duration": 8,
    "start_time": "2023-04-26T11:25:08.005Z"
   },
   {
    "duration": 5,
    "start_time": "2023-04-26T11:25:08.014Z"
   },
   {
    "duration": 36,
    "start_time": "2023-04-26T11:25:08.020Z"
   },
   {
    "duration": 27,
    "start_time": "2023-04-26T11:25:08.061Z"
   },
   {
    "duration": 304,
    "start_time": "2023-04-26T11:25:08.090Z"
   },
   {
    "duration": 124,
    "start_time": "2023-04-26T11:25:08.396Z"
   },
   {
    "duration": 5,
    "start_time": "2023-04-26T11:25:08.521Z"
   },
   {
    "duration": 10,
    "start_time": "2023-04-26T11:25:08.528Z"
   },
   {
    "duration": 40,
    "start_time": "2023-04-26T11:25:08.540Z"
   },
   {
    "duration": 16,
    "start_time": "2023-04-26T11:25:08.582Z"
   },
   {
    "duration": 21,
    "start_time": "2023-04-26T11:25:08.599Z"
   },
   {
    "duration": 15,
    "start_time": "2023-04-26T11:25:08.622Z"
   },
   {
    "duration": 32,
    "start_time": "2023-04-26T11:25:08.639Z"
   },
   {
    "duration": 10,
    "start_time": "2023-04-26T11:25:08.673Z"
   },
   {
    "duration": 15,
    "start_time": "2023-04-26T11:25:08.685Z"
   },
   {
    "duration": 18,
    "start_time": "2023-04-26T11:25:08.702Z"
   },
   {
    "duration": 9,
    "start_time": "2023-04-26T11:25:27.512Z"
   },
   {
    "duration": 31805,
    "start_time": "2023-04-26T11:25:31.732Z"
   },
   {
    "duration": 0,
    "start_time": "2023-04-26T11:26:03.586Z"
   },
   {
    "duration": 0,
    "start_time": "2023-04-26T11:26:03.588Z"
   },
   {
    "duration": 17,
    "start_time": "2023-04-26T11:26:07.181Z"
   },
   {
    "duration": 298,
    "start_time": "2023-04-26T11:27:15.341Z"
   },
   {
    "duration": 177,
    "start_time": "2023-04-26T11:27:43.319Z"
   },
   {
    "duration": 21,
    "start_time": "2023-04-26T11:28:12.575Z"
   },
   {
    "duration": 151,
    "start_time": "2023-04-26T11:29:26.415Z"
   },
   {
    "duration": 199,
    "start_time": "2023-04-26T11:29:39.979Z"
   },
   {
    "duration": 21,
    "start_time": "2023-04-26T11:34:20.564Z"
   },
   {
    "duration": 281,
    "start_time": "2023-04-26T11:35:02.086Z"
   },
   {
    "duration": 137,
    "start_time": "2023-04-26T11:35:22.833Z"
   },
   {
    "duration": 10,
    "start_time": "2023-04-26T11:35:33.934Z"
   },
   {
    "duration": 261,
    "start_time": "2023-04-26T11:35:47.279Z"
   },
   {
    "duration": 262,
    "start_time": "2023-04-26T11:36:18.385Z"
   },
   {
    "duration": 5,
    "start_time": "2023-04-26T11:54:46.611Z"
   },
   {
    "duration": 1255,
    "start_time": "2023-04-26T11:54:56.680Z"
   },
   {
    "duration": 661,
    "start_time": "2023-04-26T11:54:57.937Z"
   },
   {
    "duration": 11,
    "start_time": "2023-04-26T11:54:58.601Z"
   },
   {
    "duration": 38,
    "start_time": "2023-04-26T11:54:58.615Z"
   },
   {
    "duration": 39,
    "start_time": "2023-04-26T11:54:58.655Z"
   },
   {
    "duration": 24,
    "start_time": "2023-04-26T11:54:58.696Z"
   },
   {
    "duration": 15,
    "start_time": "2023-04-26T11:54:58.722Z"
   },
   {
    "duration": 31,
    "start_time": "2023-04-26T11:54:58.739Z"
   },
   {
    "duration": 39,
    "start_time": "2023-04-26T11:54:58.771Z"
   },
   {
    "duration": 84,
    "start_time": "2023-04-26T11:54:58.813Z"
   },
   {
    "duration": 5,
    "start_time": "2023-04-26T11:54:58.899Z"
   },
   {
    "duration": 44,
    "start_time": "2023-04-26T11:54:58.906Z"
   },
   {
    "duration": 40,
    "start_time": "2023-04-26T11:54:58.952Z"
   },
   {
    "duration": 25,
    "start_time": "2023-04-26T11:54:58.994Z"
   },
   {
    "duration": 33,
    "start_time": "2023-04-26T11:54:59.022Z"
   },
   {
    "duration": 21,
    "start_time": "2023-04-26T11:54:59.058Z"
   },
   {
    "duration": 27,
    "start_time": "2023-04-26T11:54:59.081Z"
   },
   {
    "duration": 27,
    "start_time": "2023-04-26T11:54:59.110Z"
   },
   {
    "duration": 30,
    "start_time": "2023-04-26T11:54:59.139Z"
   },
   {
    "duration": 16,
    "start_time": "2023-04-26T11:54:59.170Z"
   },
   {
    "duration": 462,
    "start_time": "2023-04-26T11:54:59.188Z"
   },
   {
    "duration": 3665,
    "start_time": "2023-04-26T11:54:59.655Z"
   },
   {
    "duration": 6,
    "start_time": "2023-04-26T11:55:03.322Z"
   },
   {
    "duration": 21,
    "start_time": "2023-04-26T11:55:03.330Z"
   },
   {
    "duration": 46,
    "start_time": "2023-04-26T11:55:03.356Z"
   },
   {
    "duration": 8,
    "start_time": "2023-04-26T11:55:03.404Z"
   },
   {
    "duration": 69,
    "start_time": "2023-04-26T11:55:03.414Z"
   },
   {
    "duration": 17,
    "start_time": "2023-04-26T11:55:03.487Z"
   },
   {
    "duration": 14,
    "start_time": "2023-04-26T11:55:03.506Z"
   },
   {
    "duration": 17,
    "start_time": "2023-04-26T11:55:03.522Z"
   },
   {
    "duration": 20,
    "start_time": "2023-04-26T11:55:03.541Z"
   },
   {
    "duration": 36,
    "start_time": "2023-04-26T11:55:03.562Z"
   },
   {
    "duration": 14,
    "start_time": "2023-04-26T11:55:03.600Z"
   },
   {
    "duration": 19,
    "start_time": "2023-04-26T11:55:03.615Z"
   },
   {
    "duration": 192,
    "start_time": "2023-04-26T11:55:03.636Z"
   },
   {
    "duration": 8,
    "start_time": "2023-04-26T11:55:03.830Z"
   },
   {
    "duration": 196,
    "start_time": "2023-04-26T11:55:03.840Z"
   },
   {
    "duration": 222,
    "start_time": "2023-04-26T11:55:04.038Z"
   },
   {
    "duration": 9,
    "start_time": "2023-04-26T11:55:04.262Z"
   },
   {
    "duration": 43,
    "start_time": "2023-04-26T11:55:04.273Z"
   },
   {
    "duration": 28,
    "start_time": "2023-04-26T11:55:04.318Z"
   },
   {
    "duration": 13,
    "start_time": "2023-04-26T11:55:04.348Z"
   },
   {
    "duration": 87,
    "start_time": "2023-04-26T11:55:04.362Z"
   },
   {
    "duration": 13,
    "start_time": "2023-04-26T11:55:04.451Z"
   },
   {
    "duration": 528,
    "start_time": "2023-04-26T11:55:04.466Z"
   },
   {
    "duration": 11,
    "start_time": "2023-04-26T11:55:04.996Z"
   },
   {
    "duration": 445,
    "start_time": "2023-04-26T11:55:05.009Z"
   },
   {
    "duration": 114,
    "start_time": "2023-04-26T11:55:05.456Z"
   },
   {
    "duration": 12,
    "start_time": "2023-04-26T11:55:05.572Z"
   },
   {
    "duration": 13,
    "start_time": "2023-04-26T11:55:05.585Z"
   },
   {
    "duration": 26,
    "start_time": "2023-04-26T11:55:05.600Z"
   },
   {
    "duration": 21,
    "start_time": "2023-04-26T11:55:05.628Z"
   },
   {
    "duration": 24,
    "start_time": "2023-04-26T11:55:05.651Z"
   },
   {
    "duration": 8,
    "start_time": "2023-04-26T11:55:05.677Z"
   },
   {
    "duration": 60,
    "start_time": "2023-04-26T11:55:05.686Z"
   },
   {
    "duration": 64,
    "start_time": "2023-04-26T11:55:05.747Z"
   },
   {
    "duration": 5,
    "start_time": "2023-04-26T11:59:26.985Z"
   },
   {
    "duration": 26,
    "start_time": "2023-04-26T12:02:02.160Z"
   },
   {
    "duration": 6,
    "start_time": "2023-04-26T12:02:19.321Z"
   },
   {
    "duration": 23,
    "start_time": "2023-04-26T12:02:22.107Z"
   },
   {
    "duration": 9,
    "start_time": "2023-04-26T12:02:27.841Z"
   },
   {
    "duration": 4,
    "start_time": "2023-04-26T12:02:32.044Z"
   },
   {
    "duration": 16,
    "start_time": "2023-04-26T12:02:34.020Z"
   },
   {
    "duration": 20,
    "start_time": "2023-04-26T12:02:38.583Z"
   },
   {
    "duration": 266,
    "start_time": "2023-04-26T12:02:41.691Z"
   },
   {
    "duration": 109,
    "start_time": "2023-04-26T12:02:55.419Z"
   },
   {
    "duration": 6,
    "start_time": "2023-04-26T12:02:56.513Z"
   },
   {
    "duration": 5,
    "start_time": "2023-04-26T12:03:02.411Z"
   },
   {
    "duration": 26,
    "start_time": "2023-04-26T12:03:03.203Z"
   },
   {
    "duration": 18,
    "start_time": "2023-04-26T12:03:04.778Z"
   },
   {
    "duration": 20,
    "start_time": "2023-04-26T12:03:08.362Z"
   },
   {
    "duration": 9,
    "start_time": "2023-04-26T12:03:12.809Z"
   },
   {
    "duration": 19,
    "start_time": "2023-04-26T12:03:17.286Z"
   },
   {
    "duration": 8,
    "start_time": "2023-04-26T12:03:18.496Z"
   },
   {
    "duration": 13,
    "start_time": "2023-04-26T12:03:36.005Z"
   },
   {
    "duration": 20,
    "start_time": "2023-04-26T12:03:38.366Z"
   },
   {
    "duration": 294,
    "start_time": "2023-04-26T12:03:40.585Z"
   },
   {
    "duration": 297,
    "start_time": "2023-04-26T12:04:35.841Z"
   },
   {
    "duration": 307,
    "start_time": "2023-04-26T12:04:53.256Z"
   },
   {
    "duration": 14,
    "start_time": "2023-04-26T12:13:41.550Z"
   },
   {
    "duration": 20,
    "start_time": "2023-04-26T12:13:48.404Z"
   },
   {
    "duration": 21,
    "start_time": "2023-04-26T12:14:01.038Z"
   },
   {
    "duration": 17,
    "start_time": "2023-04-26T12:14:16.518Z"
   },
   {
    "duration": 665,
    "start_time": "2023-04-26T12:26:15.295Z"
   },
   {
    "duration": 598,
    "start_time": "2023-04-26T12:27:07.288Z"
   },
   {
    "duration": 346,
    "start_time": "2023-04-26T12:27:32.415Z"
   },
   {
    "duration": 16,
    "start_time": "2023-04-26T12:27:45.445Z"
   },
   {
    "duration": 342,
    "start_time": "2023-04-26T12:28:16.906Z"
   },
   {
    "duration": 213,
    "start_time": "2023-04-26T12:29:08.427Z"
   },
   {
    "duration": 25,
    "start_time": "2023-04-26T12:29:24.299Z"
   },
   {
    "duration": 21,
    "start_time": "2023-04-26T12:29:28.938Z"
   },
   {
    "duration": 18,
    "start_time": "2023-04-26T12:29:39.048Z"
   },
   {
    "duration": 522,
    "start_time": "2023-04-26T12:30:00.175Z"
   },
   {
    "duration": 400,
    "start_time": "2023-04-26T12:30:59.753Z"
   },
   {
    "duration": 22,
    "start_time": "2023-04-26T12:33:10.924Z"
   },
   {
    "duration": 22,
    "start_time": "2023-04-26T12:33:18.297Z"
   },
   {
    "duration": 350,
    "start_time": "2023-04-26T12:37:04.083Z"
   },
   {
    "duration": 409,
    "start_time": "2023-04-26T12:53:59.848Z"
   },
   {
    "duration": 1175,
    "start_time": "2023-04-26T13:01:00.098Z"
   },
   {
    "duration": 661,
    "start_time": "2023-04-26T13:01:01.275Z"
   },
   {
    "duration": 11,
    "start_time": "2023-04-26T13:01:01.938Z"
   },
   {
    "duration": 46,
    "start_time": "2023-04-26T13:01:01.951Z"
   },
   {
    "duration": 77,
    "start_time": "2023-04-26T13:01:01.999Z"
   },
   {
    "duration": 59,
    "start_time": "2023-04-26T13:01:02.078Z"
   },
   {
    "duration": 73,
    "start_time": "2023-04-26T13:01:02.139Z"
   },
   {
    "duration": 67,
    "start_time": "2023-04-26T13:01:02.213Z"
   },
   {
    "duration": 45,
    "start_time": "2023-04-26T13:01:02.283Z"
   },
   {
    "duration": 90,
    "start_time": "2023-04-26T13:01:02.331Z"
   },
   {
    "duration": 4,
    "start_time": "2023-04-26T13:01:02.423Z"
   },
   {
    "duration": 47,
    "start_time": "2023-04-26T13:01:02.428Z"
   },
   {
    "duration": 34,
    "start_time": "2023-04-26T13:01:02.476Z"
   },
   {
    "duration": 11,
    "start_time": "2023-04-26T13:01:02.511Z"
   },
   {
    "duration": 8,
    "start_time": "2023-04-26T13:01:02.524Z"
   },
   {
    "duration": 21,
    "start_time": "2023-04-26T13:01:02.533Z"
   },
   {
    "duration": 12,
    "start_time": "2023-04-26T13:01:02.555Z"
   },
   {
    "duration": 23,
    "start_time": "2023-04-26T13:01:02.568Z"
   },
   {
    "duration": 9,
    "start_time": "2023-04-26T13:01:02.592Z"
   },
   {
    "duration": 18,
    "start_time": "2023-04-26T13:01:02.602Z"
   },
   {
    "duration": 372,
    "start_time": "2023-04-26T13:01:02.622Z"
   },
   {
    "duration": 3151,
    "start_time": "2023-04-26T13:01:02.995Z"
   },
   {
    "duration": 11,
    "start_time": "2023-04-26T13:01:06.148Z"
   },
   {
    "duration": 34,
    "start_time": "2023-04-26T13:01:06.161Z"
   },
   {
    "duration": 42,
    "start_time": "2023-04-26T13:01:06.197Z"
   },
   {
    "duration": 7,
    "start_time": "2023-04-26T13:01:06.240Z"
   },
   {
    "duration": 58,
    "start_time": "2023-04-26T13:01:06.249Z"
   },
   {
    "duration": 18,
    "start_time": "2023-04-26T13:01:06.311Z"
   },
   {
    "duration": 6,
    "start_time": "2023-04-26T13:01:06.331Z"
   },
   {
    "duration": 17,
    "start_time": "2023-04-26T13:01:06.339Z"
   },
   {
    "duration": 14,
    "start_time": "2023-04-26T13:01:06.358Z"
   },
   {
    "duration": 43,
    "start_time": "2023-04-26T13:01:06.373Z"
   },
   {
    "duration": 13,
    "start_time": "2023-04-26T13:01:06.418Z"
   },
   {
    "duration": 10,
    "start_time": "2023-04-26T13:01:06.433Z"
   },
   {
    "duration": 196,
    "start_time": "2023-04-26T13:01:06.445Z"
   },
   {
    "duration": 13,
    "start_time": "2023-04-26T13:01:06.643Z"
   },
   {
    "duration": 152,
    "start_time": "2023-04-26T13:01:06.658Z"
   },
   {
    "duration": 202,
    "start_time": "2023-04-26T13:01:06.811Z"
   },
   {
    "duration": 8,
    "start_time": "2023-04-26T13:01:07.015Z"
   },
   {
    "duration": 5,
    "start_time": "2023-04-26T13:01:07.025Z"
   },
   {
    "duration": 26,
    "start_time": "2023-04-26T13:01:07.031Z"
   },
   {
    "duration": 13,
    "start_time": "2023-04-26T13:01:07.059Z"
   },
   {
    "duration": 88,
    "start_time": "2023-04-26T13:01:07.074Z"
   },
   {
    "duration": 13,
    "start_time": "2023-04-26T13:01:07.164Z"
   },
   {
    "duration": 552,
    "start_time": "2023-04-26T13:01:07.179Z"
   },
   {
    "duration": 9,
    "start_time": "2023-04-26T13:01:07.733Z"
   },
   {
    "duration": 378,
    "start_time": "2023-04-26T13:01:07.755Z"
   },
   {
    "duration": 105,
    "start_time": "2023-04-26T13:01:08.135Z"
   },
   {
    "duration": 18,
    "start_time": "2023-04-26T13:01:08.241Z"
   },
   {
    "duration": 13,
    "start_time": "2023-04-26T13:01:08.260Z"
   },
   {
    "duration": 15,
    "start_time": "2023-04-26T13:01:08.275Z"
   },
   {
    "duration": 20,
    "start_time": "2023-04-26T13:01:08.291Z"
   },
   {
    "duration": 30,
    "start_time": "2023-04-26T13:01:08.313Z"
   },
   {
    "duration": 3,
    "start_time": "2023-04-26T13:01:08.344Z"
   },
   {
    "duration": 46,
    "start_time": "2023-04-26T13:01:08.349Z"
   },
   {
    "duration": 42,
    "start_time": "2023-04-26T13:01:08.397Z"
   },
   {
    "duration": 5,
    "start_time": "2023-04-26T13:01:08.441Z"
   },
   {
    "duration": 10,
    "start_time": "2023-04-26T13:01:08.448Z"
   },
   {
    "duration": 31,
    "start_time": "2023-04-26T13:01:08.459Z"
   },
   {
    "duration": 7,
    "start_time": "2023-04-26T13:01:08.492Z"
   },
   {
    "duration": 13,
    "start_time": "2023-04-26T13:01:08.502Z"
   },
   {
    "duration": 14,
    "start_time": "2023-04-26T13:01:08.517Z"
   },
   {
    "duration": 39,
    "start_time": "2023-04-26T13:01:08.532Z"
   },
   {
    "duration": 302,
    "start_time": "2023-04-26T13:01:08.573Z"
   },
   {
    "duration": 111,
    "start_time": "2023-04-26T13:01:08.876Z"
   },
   {
    "duration": 5,
    "start_time": "2023-04-26T13:01:08.989Z"
   },
   {
    "duration": 16,
    "start_time": "2023-04-26T13:01:08.996Z"
   },
   {
    "duration": 42,
    "start_time": "2023-04-26T13:01:09.014Z"
   },
   {
    "duration": 16,
    "start_time": "2023-04-26T13:01:09.058Z"
   },
   {
    "duration": 22,
    "start_time": "2023-04-26T13:01:09.075Z"
   },
   {
    "duration": 12,
    "start_time": "2023-04-26T13:01:09.098Z"
   },
   {
    "duration": 15,
    "start_time": "2023-04-26T13:01:09.111Z"
   },
   {
    "duration": 29,
    "start_time": "2023-04-26T13:01:09.128Z"
   },
   {
    "duration": 19,
    "start_time": "2023-04-26T13:01:09.159Z"
   },
   {
    "duration": 24,
    "start_time": "2023-04-26T13:01:09.180Z"
   },
   {
    "duration": 311,
    "start_time": "2023-04-26T13:01:09.206Z"
   },
   {
    "duration": 16,
    "start_time": "2023-04-26T13:01:09.519Z"
   },
   {
    "duration": 445,
    "start_time": "2023-04-26T13:01:09.536Z"
   },
   {
    "duration": 5,
    "start_time": "2023-04-26T13:11:16.149Z"
   },
   {
    "duration": 15,
    "start_time": "2023-04-26T13:16:34.693Z"
   },
   {
    "duration": 17,
    "start_time": "2023-04-26T13:16:45.630Z"
   },
   {
    "duration": 73,
    "start_time": "2023-04-26T13:20:26.799Z"
   },
   {
    "duration": 10,
    "start_time": "2023-04-26T13:21:16.185Z"
   },
   {
    "duration": 82,
    "start_time": "2023-04-26T13:21:38.238Z"
   },
   {
    "duration": 171,
    "start_time": "2023-04-26T13:21:46.442Z"
   },
   {
    "duration": 28,
    "start_time": "2023-04-26T13:23:35.908Z"
   },
   {
    "duration": 16,
    "start_time": "2023-04-26T13:23:52.456Z"
   },
   {
    "duration": 52,
    "start_time": "2023-04-26T13:29:03.539Z"
   },
   {
    "duration": 19,
    "start_time": "2023-04-26T13:29:09.335Z"
   },
   {
    "duration": 14,
    "start_time": "2023-04-26T13:36:35.601Z"
   },
   {
    "duration": 30,
    "start_time": "2023-04-26T13:40:08.742Z"
   },
   {
    "duration": 13,
    "start_time": "2023-04-26T13:44:17.033Z"
   },
   {
    "duration": 14,
    "start_time": "2023-04-26T13:44:23.155Z"
   },
   {
    "duration": 18,
    "start_time": "2023-04-26T13:44:38.990Z"
   },
   {
    "duration": 23,
    "start_time": "2023-04-26T13:44:58.281Z"
   },
   {
    "duration": 7,
    "start_time": "2023-04-26T13:45:20.135Z"
   },
   {
    "duration": 11,
    "start_time": "2023-04-26T13:45:27.260Z"
   },
   {
    "duration": 24,
    "start_time": "2023-04-26T13:45:32.247Z"
   },
   {
    "duration": 16,
    "start_time": "2023-04-26T13:45:56.686Z"
   },
   {
    "duration": 21,
    "start_time": "2023-04-26T13:46:20.867Z"
   },
   {
    "duration": 13,
    "start_time": "2023-04-26T13:46:30.686Z"
   },
   {
    "duration": 15,
    "start_time": "2023-04-26T13:47:16.919Z"
   },
   {
    "duration": 21,
    "start_time": "2023-04-26T13:47:30.353Z"
   },
   {
    "duration": 22,
    "start_time": "2023-04-26T13:47:43.074Z"
   },
   {
    "duration": 34,
    "start_time": "2023-04-26T13:47:58.096Z"
   },
   {
    "duration": 12,
    "start_time": "2023-04-26T13:48:17.720Z"
   },
   {
    "duration": 17,
    "start_time": "2023-04-26T13:48:23.861Z"
   },
   {
    "duration": 107,
    "start_time": "2023-04-26T13:48:51.189Z"
   },
   {
    "duration": 15,
    "start_time": "2023-04-26T13:50:01.697Z"
   },
   {
    "duration": 20,
    "start_time": "2023-04-26T13:50:09.838Z"
   },
   {
    "duration": 19,
    "start_time": "2023-04-26T13:50:22.845Z"
   },
   {
    "duration": 13,
    "start_time": "2023-04-26T13:50:36.559Z"
   },
   {
    "duration": 20,
    "start_time": "2023-04-26T13:51:00.657Z"
   },
   {
    "duration": 13,
    "start_time": "2023-04-26T13:51:57.040Z"
   },
   {
    "duration": 12,
    "start_time": "2023-04-26T13:53:48.145Z"
   },
   {
    "duration": 220,
    "start_time": "2023-04-26T13:53:52.668Z"
   },
   {
    "duration": 44,
    "start_time": "2023-04-26T13:54:06.599Z"
   },
   {
    "duration": 50,
    "start_time": "2023-04-26T13:54:35.703Z"
   },
   {
    "duration": 16,
    "start_time": "2023-04-26T13:55:30.866Z"
   },
   {
    "duration": 66,
    "start_time": "2023-04-26T13:57:26.694Z"
   },
   {
    "duration": 58,
    "start_time": "2023-04-26T13:57:33.958Z"
   },
   {
    "duration": 16,
    "start_time": "2023-04-26T14:00:14.458Z"
   },
   {
    "duration": 18,
    "start_time": "2023-04-26T14:00:15.067Z"
   },
   {
    "duration": 45,
    "start_time": "2023-04-26T14:00:24.325Z"
   },
   {
    "duration": 45,
    "start_time": "2023-04-26T14:00:42.981Z"
   },
   {
    "duration": 63,
    "start_time": "2023-04-26T14:17:01.739Z"
   },
   {
    "duration": 49,
    "start_time": "2023-04-26T14:17:25.286Z"
   },
   {
    "duration": 56,
    "start_time": "2023-04-26T14:18:18.678Z"
   },
   {
    "duration": 43,
    "start_time": "2023-04-26T14:18:49.699Z"
   },
   {
    "duration": 47,
    "start_time": "2023-04-26T14:25:07.949Z"
   },
   {
    "duration": 15,
    "start_time": "2023-04-26T14:35:26.718Z"
   },
   {
    "duration": 14,
    "start_time": "2023-04-26T14:35:33.584Z"
   },
   {
    "duration": 8,
    "start_time": "2023-04-26T14:38:37.641Z"
   },
   {
    "duration": 1594,
    "start_time": "2023-04-26T15:13:13.864Z"
   },
   {
    "duration": 752,
    "start_time": "2023-04-26T15:13:15.461Z"
   },
   {
    "duration": 15,
    "start_time": "2023-04-26T15:13:16.215Z"
   },
   {
    "duration": 16,
    "start_time": "2023-04-26T15:13:16.233Z"
   },
   {
    "duration": 24,
    "start_time": "2023-04-26T15:13:16.251Z"
   },
   {
    "duration": 9,
    "start_time": "2023-04-26T15:13:16.277Z"
   },
   {
    "duration": 11,
    "start_time": "2023-04-26T15:13:16.288Z"
   },
   {
    "duration": 11,
    "start_time": "2023-04-26T15:13:16.300Z"
   },
   {
    "duration": 9,
    "start_time": "2023-04-26T15:13:16.313Z"
   },
   {
    "duration": 113,
    "start_time": "2023-04-26T15:13:16.325Z"
   },
   {
    "duration": 20,
    "start_time": "2023-04-26T15:13:16.440Z"
   },
   {
    "duration": 16,
    "start_time": "2023-04-26T15:13:16.463Z"
   },
   {
    "duration": 36,
    "start_time": "2023-04-26T15:13:16.481Z"
   },
   {
    "duration": 13,
    "start_time": "2023-04-26T15:13:16.519Z"
   },
   {
    "duration": 30,
    "start_time": "2023-04-26T15:13:16.533Z"
   },
   {
    "duration": 6,
    "start_time": "2023-04-26T15:13:16.566Z"
   },
   {
    "duration": 8,
    "start_time": "2023-04-26T15:13:16.574Z"
   },
   {
    "duration": 10,
    "start_time": "2023-04-26T15:13:16.585Z"
   },
   {
    "duration": 11,
    "start_time": "2023-04-26T15:13:16.597Z"
   },
   {
    "duration": 48,
    "start_time": "2023-04-26T15:13:16.610Z"
   },
   {
    "duration": 385,
    "start_time": "2023-04-26T15:13:16.660Z"
   },
   {
    "duration": 3538,
    "start_time": "2023-04-26T15:13:17.047Z"
   },
   {
    "duration": 7,
    "start_time": "2023-04-26T15:13:20.587Z"
   },
   {
    "duration": 27,
    "start_time": "2023-04-26T15:13:20.596Z"
   },
   {
    "duration": 51,
    "start_time": "2023-04-26T15:13:20.625Z"
   },
   {
    "duration": 8,
    "start_time": "2023-04-26T15:13:20.678Z"
   },
   {
    "duration": 52,
    "start_time": "2023-04-26T15:13:20.688Z"
   },
   {
    "duration": 15,
    "start_time": "2023-04-26T15:13:20.755Z"
   },
   {
    "duration": 8,
    "start_time": "2023-04-26T15:13:20.771Z"
   },
   {
    "duration": 37,
    "start_time": "2023-04-26T15:13:20.781Z"
   },
   {
    "duration": 19,
    "start_time": "2023-04-26T15:13:20.820Z"
   },
   {
    "duration": 28,
    "start_time": "2023-04-26T15:13:20.841Z"
   },
   {
    "duration": 13,
    "start_time": "2023-04-26T15:13:20.871Z"
   },
   {
    "duration": 20,
    "start_time": "2023-04-26T15:13:20.886Z"
   },
   {
    "duration": 187,
    "start_time": "2023-04-26T15:13:20.908Z"
   },
   {
    "duration": 9,
    "start_time": "2023-04-26T15:13:21.097Z"
   },
   {
    "duration": 219,
    "start_time": "2023-04-26T15:13:21.108Z"
   },
   {
    "duration": 229,
    "start_time": "2023-04-26T15:13:21.329Z"
   },
   {
    "duration": 11,
    "start_time": "2023-04-26T15:13:21.560Z"
   },
   {
    "duration": 9,
    "start_time": "2023-04-26T15:13:21.573Z"
   },
   {
    "duration": 19,
    "start_time": "2023-04-26T15:13:21.585Z"
   },
   {
    "duration": 16,
    "start_time": "2023-04-26T15:13:21.606Z"
   },
   {
    "duration": 109,
    "start_time": "2023-04-26T15:13:21.624Z"
   },
   {
    "duration": 28,
    "start_time": "2023-04-26T15:13:21.736Z"
   },
   {
    "duration": 812,
    "start_time": "2023-04-26T15:13:21.766Z"
   },
   {
    "duration": 15,
    "start_time": "2023-04-26T15:13:22.581Z"
   },
   {
    "duration": 428,
    "start_time": "2023-04-26T15:13:22.598Z"
   },
   {
    "duration": 104,
    "start_time": "2023-04-26T15:13:23.029Z"
   },
   {
    "duration": 21,
    "start_time": "2023-04-26T15:13:23.135Z"
   },
   {
    "duration": 11,
    "start_time": "2023-04-26T15:13:23.158Z"
   },
   {
    "duration": 9,
    "start_time": "2023-04-26T15:13:23.171Z"
   },
   {
    "duration": 18,
    "start_time": "2023-04-26T15:13:23.182Z"
   },
   {
    "duration": 54,
    "start_time": "2023-04-26T15:13:23.202Z"
   },
   {
    "duration": 2,
    "start_time": "2023-04-26T15:13:23.258Z"
   },
   {
    "duration": 24,
    "start_time": "2023-04-26T15:13:23.262Z"
   },
   {
    "duration": 44,
    "start_time": "2023-04-26T15:13:23.287Z"
   },
   {
    "duration": 7,
    "start_time": "2023-04-26T15:13:23.355Z"
   },
   {
    "duration": 10,
    "start_time": "2023-04-26T15:13:23.364Z"
   },
   {
    "duration": 38,
    "start_time": "2023-04-26T15:13:23.375Z"
   },
   {
    "duration": 22,
    "start_time": "2023-04-26T15:13:23.415Z"
   },
   {
    "duration": 19,
    "start_time": "2023-04-26T15:13:23.439Z"
   },
   {
    "duration": 18,
    "start_time": "2023-04-26T15:13:23.460Z"
   },
   {
    "duration": 44,
    "start_time": "2023-04-26T15:13:23.480Z"
   },
   {
    "duration": 416,
    "start_time": "2023-04-26T15:13:23.527Z"
   },
   {
    "duration": 154,
    "start_time": "2023-04-26T15:13:23.945Z"
   },
   {
    "duration": 7,
    "start_time": "2023-04-26T15:13:24.102Z"
   },
   {
    "duration": 14,
    "start_time": "2023-04-26T15:13:24.111Z"
   },
   {
    "duration": 54,
    "start_time": "2023-04-26T15:13:24.127Z"
   },
   {
    "duration": 29,
    "start_time": "2023-04-26T15:13:24.183Z"
   },
   {
    "duration": 26,
    "start_time": "2023-04-26T15:13:24.214Z"
   },
   {
    "duration": 11,
    "start_time": "2023-04-26T15:13:24.256Z"
   },
   {
    "duration": 20,
    "start_time": "2023-04-26T15:13:24.269Z"
   },
   {
    "duration": 9,
    "start_time": "2023-04-26T15:13:24.291Z"
   },
   {
    "duration": 22,
    "start_time": "2023-04-26T15:13:24.302Z"
   },
   {
    "duration": 29,
    "start_time": "2023-04-26T15:13:24.355Z"
   },
   {
    "duration": 328,
    "start_time": "2023-04-26T15:13:24.387Z"
   },
   {
    "duration": 15,
    "start_time": "2023-04-26T15:13:24.716Z"
   },
   {
    "duration": 35,
    "start_time": "2023-04-26T15:13:24.733Z"
   },
   {
    "duration": 410,
    "start_time": "2023-04-26T15:13:24.770Z"
   },
   {
    "duration": 6,
    "start_time": "2023-04-26T15:13:25.182Z"
   },
   {
    "duration": 31,
    "start_time": "2023-04-26T15:13:25.190Z"
   },
   {
    "duration": 481,
    "start_time": "2023-04-26T15:13:25.228Z"
   },
   {
    "duration": 10,
    "start_time": "2023-04-26T15:13:25.711Z"
   },
   {
    "duration": 5,
    "start_time": "2023-04-26T15:26:04.598Z"
   },
   {
    "duration": 21,
    "start_time": "2023-04-26T15:30:21.819Z"
   },
   {
    "duration": 24,
    "start_time": "2023-04-26T15:30:29.127Z"
   },
   {
    "duration": 4,
    "start_time": "2023-04-26T15:32:19.859Z"
   },
   {
    "duration": 96,
    "start_time": "2023-04-26T15:34:10.201Z"
   },
   {
    "duration": 3,
    "start_time": "2023-04-26T15:34:46.002Z"
   },
   {
    "duration": 22,
    "start_time": "2023-04-26T15:34:54.741Z"
   },
   {
    "duration": 3,
    "start_time": "2023-04-26T15:35:08.992Z"
   },
   {
    "duration": 10,
    "start_time": "2023-04-26T15:35:14.750Z"
   },
   {
    "duration": 9,
    "start_time": "2023-04-26T15:35:28.485Z"
   },
   {
    "duration": 330,
    "start_time": "2023-04-26T16:32:25.810Z"
   },
   {
    "duration": 344,
    "start_time": "2023-04-26T16:32:49.856Z"
   },
   {
    "duration": 23,
    "start_time": "2023-04-26T16:35:41.754Z"
   },
   {
    "duration": 420,
    "start_time": "2023-04-26T16:35:47.568Z"
   },
   {
    "duration": 729,
    "start_time": "2023-04-26T16:35:53.572Z"
   },
   {
    "duration": 395,
    "start_time": "2023-04-26T16:46:46.424Z"
   },
   {
    "duration": 11,
    "start_time": "2023-04-26T17:26:08.136Z"
   },
   {
    "duration": 14,
    "start_time": "2023-04-26T17:26:14.663Z"
   },
   {
    "duration": 9,
    "start_time": "2023-04-26T17:26:25.073Z"
   },
   {
    "duration": 1489,
    "start_time": "2023-04-26T17:27:01.255Z"
   },
   {
    "duration": 628,
    "start_time": "2023-04-26T17:27:02.747Z"
   },
   {
    "duration": 11,
    "start_time": "2023-04-26T17:27:03.377Z"
   },
   {
    "duration": 41,
    "start_time": "2023-04-26T17:27:03.390Z"
   },
   {
    "duration": 36,
    "start_time": "2023-04-26T17:27:03.433Z"
   },
   {
    "duration": 12,
    "start_time": "2023-04-26T17:27:03.471Z"
   },
   {
    "duration": 32,
    "start_time": "2023-04-26T17:27:03.485Z"
   },
   {
    "duration": 17,
    "start_time": "2023-04-26T17:27:03.519Z"
   },
   {
    "duration": 11,
    "start_time": "2023-04-26T17:27:03.538Z"
   },
   {
    "duration": 97,
    "start_time": "2023-04-26T17:27:03.553Z"
   },
   {
    "duration": 4,
    "start_time": "2023-04-26T17:27:03.652Z"
   },
   {
    "duration": 19,
    "start_time": "2023-04-26T17:27:03.658Z"
   },
   {
    "duration": 35,
    "start_time": "2023-04-26T17:27:03.678Z"
   },
   {
    "duration": 12,
    "start_time": "2023-04-26T17:27:03.714Z"
   },
   {
    "duration": 9,
    "start_time": "2023-04-26T17:27:03.729Z"
   },
   {
    "duration": 17,
    "start_time": "2023-04-26T17:27:03.740Z"
   },
   {
    "duration": 11,
    "start_time": "2023-04-26T17:27:03.759Z"
   },
   {
    "duration": 20,
    "start_time": "2023-04-26T17:27:03.772Z"
   },
   {
    "duration": 9,
    "start_time": "2023-04-26T17:27:03.794Z"
   },
   {
    "duration": 14,
    "start_time": "2023-04-26T17:27:03.806Z"
   },
   {
    "duration": 611,
    "start_time": "2023-04-26T17:27:03.822Z"
   },
   {
    "duration": 3600,
    "start_time": "2023-04-26T17:27:04.435Z"
   },
   {
    "duration": 7,
    "start_time": "2023-04-26T17:27:08.037Z"
   },
   {
    "duration": 15,
    "start_time": "2023-04-26T17:27:08.057Z"
   },
   {
    "duration": 45,
    "start_time": "2023-04-26T17:27:08.074Z"
   },
   {
    "duration": 11,
    "start_time": "2023-04-26T17:27:08.121Z"
   },
   {
    "duration": 73,
    "start_time": "2023-04-26T17:27:08.155Z"
   },
   {
    "duration": 29,
    "start_time": "2023-04-26T17:27:08.234Z"
   },
   {
    "duration": 9,
    "start_time": "2023-04-26T17:27:08.265Z"
   },
   {
    "duration": 6,
    "start_time": "2023-04-26T17:27:08.276Z"
   },
   {
    "duration": 20,
    "start_time": "2023-04-26T17:27:08.284Z"
   },
   {
    "duration": 56,
    "start_time": "2023-04-26T17:27:08.306Z"
   },
   {
    "duration": 16,
    "start_time": "2023-04-26T17:27:08.364Z"
   },
   {
    "duration": 12,
    "start_time": "2023-04-26T17:27:08.382Z"
   },
   {
    "duration": 214,
    "start_time": "2023-04-26T17:27:08.395Z"
   },
   {
    "duration": 12,
    "start_time": "2023-04-26T17:27:08.611Z"
   },
   {
    "duration": 169,
    "start_time": "2023-04-26T17:27:08.624Z"
   },
   {
    "duration": 215,
    "start_time": "2023-04-26T17:27:08.795Z"
   },
   {
    "duration": 10,
    "start_time": "2023-04-26T17:27:09.012Z"
   },
   {
    "duration": 25,
    "start_time": "2023-04-26T17:27:09.024Z"
   },
   {
    "duration": 26,
    "start_time": "2023-04-26T17:27:09.051Z"
   },
   {
    "duration": 16,
    "start_time": "2023-04-26T17:27:09.079Z"
   },
   {
    "duration": 104,
    "start_time": "2023-04-26T17:27:09.097Z"
   },
   {
    "duration": 16,
    "start_time": "2023-04-26T17:27:09.203Z"
   },
   {
    "duration": 603,
    "start_time": "2023-04-26T17:27:09.221Z"
   },
   {
    "duration": 12,
    "start_time": "2023-04-26T17:27:09.826Z"
   },
   {
    "duration": 448,
    "start_time": "2023-04-26T17:27:09.841Z"
   },
   {
    "duration": 107,
    "start_time": "2023-04-26T17:27:10.291Z"
   },
   {
    "duration": 10,
    "start_time": "2023-04-26T17:27:10.400Z"
   },
   {
    "duration": 11,
    "start_time": "2023-04-26T17:27:10.412Z"
   },
   {
    "duration": 33,
    "start_time": "2023-04-26T17:27:10.425Z"
   },
   {
    "duration": 13,
    "start_time": "2023-04-26T17:27:10.461Z"
   },
   {
    "duration": 32,
    "start_time": "2023-04-26T17:27:10.476Z"
   },
   {
    "duration": 2,
    "start_time": "2023-04-26T17:27:10.510Z"
   },
   {
    "duration": 51,
    "start_time": "2023-04-26T17:27:10.513Z"
   },
   {
    "duration": 59,
    "start_time": "2023-04-26T17:27:10.566Z"
   },
   {
    "duration": 7,
    "start_time": "2023-04-26T17:27:10.627Z"
   },
   {
    "duration": 6,
    "start_time": "2023-04-26T17:27:10.655Z"
   },
   {
    "duration": 4,
    "start_time": "2023-04-26T17:27:10.663Z"
   },
   {
    "duration": 15,
    "start_time": "2023-04-26T17:27:10.669Z"
   },
   {
    "duration": 26,
    "start_time": "2023-04-26T17:27:10.686Z"
   },
   {
    "duration": 382,
    "start_time": "2023-04-26T17:27:10.714Z"
   },
   {
    "duration": 165,
    "start_time": "2023-04-26T17:27:11.098Z"
   },
   {
    "duration": 6,
    "start_time": "2023-04-26T17:27:11.265Z"
   },
   {
    "duration": 7,
    "start_time": "2023-04-26T17:27:11.273Z"
   },
   {
    "duration": 28,
    "start_time": "2023-04-26T17:27:11.282Z"
   },
   {
    "duration": 19,
    "start_time": "2023-04-26T17:27:11.312Z"
   },
   {
    "duration": 49,
    "start_time": "2023-04-26T17:27:11.333Z"
   },
   {
    "duration": 25,
    "start_time": "2023-04-26T17:27:11.383Z"
   },
   {
    "duration": 25,
    "start_time": "2023-04-26T17:27:11.410Z"
   },
   {
    "duration": 20,
    "start_time": "2023-04-26T17:27:11.437Z"
   },
   {
    "duration": 35,
    "start_time": "2023-04-26T17:27:11.459Z"
   },
   {
    "duration": 33,
    "start_time": "2023-04-26T17:27:11.495Z"
   },
   {
    "duration": 414,
    "start_time": "2023-04-26T17:27:11.530Z"
   },
   {
    "duration": 26,
    "start_time": "2023-04-26T17:27:11.946Z"
   },
   {
    "duration": 27,
    "start_time": "2023-04-26T17:27:11.974Z"
   },
   {
    "duration": 442,
    "start_time": "2023-04-26T17:27:12.003Z"
   },
   {
    "duration": 12,
    "start_time": "2023-04-26T17:27:12.447Z"
   },
   {
    "duration": 22,
    "start_time": "2023-04-26T17:27:12.461Z"
   },
   {
    "duration": 533,
    "start_time": "2023-04-26T17:27:12.485Z"
   },
   {
    "duration": 12,
    "start_time": "2023-04-26T17:27:13.020Z"
   },
   {
    "duration": 29,
    "start_time": "2023-04-26T17:27:13.055Z"
   },
   {
    "duration": 7,
    "start_time": "2023-04-26T17:27:13.086Z"
   },
   {
    "duration": 6,
    "start_time": "2023-04-26T17:27:13.095Z"
   },
   {
    "duration": 18,
    "start_time": "2023-04-26T17:27:13.155Z"
   },
   {
    "duration": 27,
    "start_time": "2023-04-26T17:27:13.175Z"
   },
   {
    "duration": 11,
    "start_time": "2023-04-26T17:30:59.385Z"
   },
   {
    "duration": 4,
    "start_time": "2023-04-26T17:31:00.049Z"
   },
   {
    "duration": 44,
    "start_time": "2023-04-26T17:31:04.665Z"
   },
   {
    "duration": 1492,
    "start_time": "2023-04-26T17:31:15.009Z"
   },
   {
    "duration": 651,
    "start_time": "2023-04-26T17:31:16.504Z"
   },
   {
    "duration": 14,
    "start_time": "2023-04-26T17:31:17.157Z"
   },
   {
    "duration": 48,
    "start_time": "2023-04-26T17:31:17.172Z"
   },
   {
    "duration": 36,
    "start_time": "2023-04-26T17:31:17.223Z"
   },
   {
    "duration": 23,
    "start_time": "2023-04-26T17:31:17.260Z"
   },
   {
    "duration": 22,
    "start_time": "2023-04-26T17:31:17.285Z"
   },
   {
    "duration": 9,
    "start_time": "2023-04-26T17:31:17.310Z"
   },
   {
    "duration": 14,
    "start_time": "2023-04-26T17:31:17.322Z"
   },
   {
    "duration": 89,
    "start_time": "2023-04-26T17:31:17.337Z"
   },
   {
    "duration": 7,
    "start_time": "2023-04-26T17:31:17.428Z"
   },
   {
    "duration": 20,
    "start_time": "2023-04-26T17:31:17.437Z"
   },
   {
    "duration": 50,
    "start_time": "2023-04-26T17:31:17.459Z"
   },
   {
    "duration": 16,
    "start_time": "2023-04-26T17:31:17.513Z"
   },
   {
    "duration": 33,
    "start_time": "2023-04-26T17:31:17.531Z"
   },
   {
    "duration": 23,
    "start_time": "2023-04-26T17:31:17.566Z"
   },
   {
    "duration": 20,
    "start_time": "2023-04-26T17:31:17.591Z"
   },
   {
    "duration": 24,
    "start_time": "2023-04-26T17:31:17.613Z"
   },
   {
    "duration": 12,
    "start_time": "2023-04-26T17:31:17.638Z"
   },
   {
    "duration": 18,
    "start_time": "2023-04-26T17:31:17.652Z"
   },
   {
    "duration": 423,
    "start_time": "2023-04-26T17:31:17.673Z"
   },
   {
    "duration": 3609,
    "start_time": "2023-04-26T17:31:18.098Z"
   },
   {
    "duration": 7,
    "start_time": "2023-04-26T17:31:21.709Z"
   },
   {
    "duration": 23,
    "start_time": "2023-04-26T17:31:21.718Z"
   },
   {
    "duration": 46,
    "start_time": "2023-04-26T17:31:21.744Z"
   },
   {
    "duration": 10,
    "start_time": "2023-04-26T17:31:21.792Z"
   },
   {
    "duration": 90,
    "start_time": "2023-04-26T17:31:21.804Z"
   },
   {
    "duration": 19,
    "start_time": "2023-04-26T17:31:21.896Z"
   },
   {
    "duration": 7,
    "start_time": "2023-04-26T17:31:21.916Z"
   },
   {
    "duration": 30,
    "start_time": "2023-04-26T17:31:21.925Z"
   },
   {
    "duration": 12,
    "start_time": "2023-04-26T17:31:21.958Z"
   },
   {
    "duration": 41,
    "start_time": "2023-04-26T17:31:21.972Z"
   },
   {
    "duration": 41,
    "start_time": "2023-04-26T17:31:22.015Z"
   },
   {
    "duration": 11,
    "start_time": "2023-04-26T17:31:22.058Z"
   },
   {
    "duration": 324,
    "start_time": "2023-04-26T17:31:22.071Z"
   },
   {
    "duration": 12,
    "start_time": "2023-04-26T17:31:22.397Z"
   },
   {
    "duration": 177,
    "start_time": "2023-04-26T17:31:22.411Z"
   },
   {
    "duration": 205,
    "start_time": "2023-04-26T17:31:22.590Z"
   },
   {
    "duration": 12,
    "start_time": "2023-04-26T17:31:22.797Z"
   },
   {
    "duration": 7,
    "start_time": "2023-04-26T17:31:22.811Z"
   },
   {
    "duration": 38,
    "start_time": "2023-04-26T17:31:22.825Z"
   },
   {
    "duration": 18,
    "start_time": "2023-04-26T17:31:22.865Z"
   },
   {
    "duration": 92,
    "start_time": "2023-04-26T17:31:22.884Z"
   },
   {
    "duration": 12,
    "start_time": "2023-04-26T17:31:22.979Z"
   },
   {
    "duration": 695,
    "start_time": "2023-04-26T17:31:22.993Z"
   },
   {
    "duration": 10,
    "start_time": "2023-04-26T17:31:23.690Z"
   },
   {
    "duration": 432,
    "start_time": "2023-04-26T17:31:23.703Z"
   },
   {
    "duration": 141,
    "start_time": "2023-04-26T17:31:24.137Z"
   },
   {
    "duration": 11,
    "start_time": "2023-04-26T17:31:24.281Z"
   },
   {
    "duration": 11,
    "start_time": "2023-04-26T17:31:24.294Z"
   },
   {
    "duration": 7,
    "start_time": "2023-04-26T17:31:24.308Z"
   },
   {
    "duration": 42,
    "start_time": "2023-04-26T17:31:24.318Z"
   },
   {
    "duration": 49,
    "start_time": "2023-04-26T17:31:24.362Z"
   },
   {
    "duration": 2,
    "start_time": "2023-04-26T17:31:24.414Z"
   },
   {
    "duration": 116,
    "start_time": "2023-04-26T17:31:24.418Z"
   },
   {
    "duration": 95,
    "start_time": "2023-04-26T17:31:24.536Z"
   },
   {
    "duration": 6,
    "start_time": "2023-04-26T17:31:24.633Z"
   },
   {
    "duration": 17,
    "start_time": "2023-04-26T17:31:24.641Z"
   },
   {
    "duration": 3,
    "start_time": "2023-04-26T17:31:24.660Z"
   },
   {
    "duration": 22,
    "start_time": "2023-04-26T17:31:24.665Z"
   },
   {
    "duration": 27,
    "start_time": "2023-04-26T17:31:24.689Z"
   },
   {
    "duration": 340,
    "start_time": "2023-04-26T17:31:24.718Z"
   },
   {
    "duration": 131,
    "start_time": "2023-04-26T17:31:25.060Z"
   },
   {
    "duration": 14,
    "start_time": "2023-04-26T17:31:25.193Z"
   },
   {
    "duration": 6,
    "start_time": "2023-04-26T17:31:25.209Z"
   },
   {
    "duration": 51,
    "start_time": "2023-04-26T17:31:25.217Z"
   },
   {
    "duration": 28,
    "start_time": "2023-04-26T17:31:25.271Z"
   },
   {
    "duration": 17,
    "start_time": "2023-04-26T17:31:25.302Z"
   },
   {
    "duration": 12,
    "start_time": "2023-04-26T17:31:25.322Z"
   },
   {
    "duration": 25,
    "start_time": "2023-04-26T17:31:25.357Z"
   },
   {
    "duration": 15,
    "start_time": "2023-04-26T17:31:25.384Z"
   },
   {
    "duration": 24,
    "start_time": "2023-04-26T17:31:25.411Z"
   },
   {
    "duration": 40,
    "start_time": "2023-04-26T17:31:25.450Z"
   },
   {
    "duration": 399,
    "start_time": "2023-04-26T17:31:25.492Z"
   },
   {
    "duration": 19,
    "start_time": "2023-04-26T17:31:25.894Z"
   },
   {
    "duration": 22,
    "start_time": "2023-04-26T17:31:25.916Z"
   },
   {
    "duration": 526,
    "start_time": "2023-04-26T17:31:25.956Z"
   },
   {
    "duration": 5,
    "start_time": "2023-04-26T17:31:26.484Z"
   },
   {
    "duration": 19,
    "start_time": "2023-04-26T17:31:26.491Z"
   },
   {
    "duration": 507,
    "start_time": "2023-04-26T17:31:26.511Z"
   },
   {
    "duration": 9,
    "start_time": "2023-04-26T17:31:27.020Z"
   },
   {
    "duration": 35,
    "start_time": "2023-04-26T17:31:27.031Z"
   },
   {
    "duration": 6,
    "start_time": "2023-04-26T17:31:27.068Z"
   },
   {
    "duration": 10,
    "start_time": "2023-04-26T17:31:27.076Z"
   },
   {
    "duration": 13,
    "start_time": "2023-04-26T17:31:27.088Z"
   },
   {
    "duration": 54,
    "start_time": "2023-04-26T17:31:27.103Z"
   },
   {
    "duration": 6,
    "start_time": "2023-04-26T17:32:13.025Z"
   },
   {
    "duration": 4,
    "start_time": "2023-04-26T17:32:13.649Z"
   },
   {
    "duration": 11,
    "start_time": "2023-04-26T17:32:14.292Z"
   },
   {
    "duration": 1367,
    "start_time": "2023-04-26T17:32:30.529Z"
   },
   {
    "duration": 651,
    "start_time": "2023-04-26T17:32:31.898Z"
   },
   {
    "duration": 10,
    "start_time": "2023-04-26T17:32:32.551Z"
   },
   {
    "duration": 30,
    "start_time": "2023-04-26T17:32:32.563Z"
   },
   {
    "duration": 18,
    "start_time": "2023-04-26T17:32:32.595Z"
   },
   {
    "duration": 5,
    "start_time": "2023-04-26T17:32:32.614Z"
   },
   {
    "duration": 17,
    "start_time": "2023-04-26T17:32:32.620Z"
   },
   {
    "duration": 25,
    "start_time": "2023-04-26T17:32:32.638Z"
   },
   {
    "duration": 10,
    "start_time": "2023-04-26T17:32:32.665Z"
   },
   {
    "duration": 62,
    "start_time": "2023-04-26T17:32:32.676Z"
   },
   {
    "duration": 22,
    "start_time": "2023-04-26T17:32:32.739Z"
   },
   {
    "duration": 10,
    "start_time": "2023-04-26T17:32:32.763Z"
   },
   {
    "duration": 42,
    "start_time": "2023-04-26T17:32:32.775Z"
   },
   {
    "duration": 35,
    "start_time": "2023-04-26T17:32:32.821Z"
   },
   {
    "duration": 9,
    "start_time": "2023-04-26T17:32:32.858Z"
   },
   {
    "duration": 13,
    "start_time": "2023-04-26T17:32:32.869Z"
   },
   {
    "duration": 15,
    "start_time": "2023-04-26T17:32:32.885Z"
   },
   {
    "duration": 12,
    "start_time": "2023-04-26T17:32:32.902Z"
   },
   {
    "duration": 15,
    "start_time": "2023-04-26T17:32:32.917Z"
   },
   {
    "duration": 42,
    "start_time": "2023-04-26T17:32:32.935Z"
   },
   {
    "duration": 410,
    "start_time": "2023-04-26T17:32:32.979Z"
   },
   {
    "duration": 3451,
    "start_time": "2023-04-26T17:32:33.391Z"
   },
   {
    "duration": 5,
    "start_time": "2023-04-26T17:32:36.844Z"
   },
   {
    "duration": 12,
    "start_time": "2023-04-26T17:32:36.856Z"
   },
   {
    "duration": 42,
    "start_time": "2023-04-26T17:32:36.870Z"
   },
   {
    "duration": 8,
    "start_time": "2023-04-26T17:32:36.913Z"
   },
   {
    "duration": 83,
    "start_time": "2023-04-26T17:32:36.923Z"
   },
   {
    "duration": 16,
    "start_time": "2023-04-26T17:32:37.008Z"
   },
   {
    "duration": 6,
    "start_time": "2023-04-26T17:32:37.026Z"
   },
   {
    "duration": 26,
    "start_time": "2023-04-26T17:32:37.033Z"
   },
   {
    "duration": 11,
    "start_time": "2023-04-26T17:32:37.060Z"
   },
   {
    "duration": 29,
    "start_time": "2023-04-26T17:32:37.072Z"
   },
   {
    "duration": 15,
    "start_time": "2023-04-26T17:32:37.103Z"
   },
   {
    "duration": 37,
    "start_time": "2023-04-26T17:32:37.120Z"
   },
   {
    "duration": 190,
    "start_time": "2023-04-26T17:32:37.159Z"
   },
   {
    "duration": 11,
    "start_time": "2023-04-26T17:32:37.351Z"
   },
   {
    "duration": 156,
    "start_time": "2023-04-26T17:32:37.363Z"
   },
   {
    "duration": 202,
    "start_time": "2023-04-26T17:32:37.520Z"
   },
   {
    "duration": 10,
    "start_time": "2023-04-26T17:32:37.724Z"
   },
   {
    "duration": 5,
    "start_time": "2023-04-26T17:32:37.735Z"
   },
   {
    "duration": 10,
    "start_time": "2023-04-26T17:32:37.756Z"
   },
   {
    "duration": 8,
    "start_time": "2023-04-26T17:32:37.768Z"
   },
   {
    "duration": 94,
    "start_time": "2023-04-26T17:32:37.778Z"
   },
   {
    "duration": 8,
    "start_time": "2023-04-26T17:32:37.874Z"
   },
   {
    "duration": 530,
    "start_time": "2023-04-26T17:32:37.884Z"
   },
   {
    "duration": 9,
    "start_time": "2023-04-26T17:32:38.416Z"
   },
   {
    "duration": 373,
    "start_time": "2023-04-26T17:32:38.427Z"
   },
   {
    "duration": 113,
    "start_time": "2023-04-26T17:32:38.802Z"
   },
   {
    "duration": 9,
    "start_time": "2023-04-26T17:32:38.918Z"
   },
   {
    "duration": 12,
    "start_time": "2023-04-26T17:32:38.928Z"
   },
   {
    "duration": 19,
    "start_time": "2023-04-26T17:32:38.942Z"
   },
   {
    "duration": 14,
    "start_time": "2023-04-26T17:32:38.963Z"
   },
   {
    "duration": 19,
    "start_time": "2023-04-26T17:32:38.978Z"
   },
   {
    "duration": 2,
    "start_time": "2023-04-26T17:32:38.999Z"
   },
   {
    "duration": 29,
    "start_time": "2023-04-26T17:32:39.002Z"
   },
   {
    "duration": 57,
    "start_time": "2023-04-26T17:32:39.033Z"
   },
   {
    "duration": 5,
    "start_time": "2023-04-26T17:32:39.091Z"
   },
   {
    "duration": 10,
    "start_time": "2023-04-26T17:32:39.097Z"
   },
   {
    "duration": 4,
    "start_time": "2023-04-26T17:32:39.108Z"
   },
   {
    "duration": 17,
    "start_time": "2023-04-26T17:32:39.114Z"
   },
   {
    "duration": 21,
    "start_time": "2023-04-26T17:32:39.155Z"
   },
   {
    "duration": 293,
    "start_time": "2023-04-26T17:32:39.177Z"
   },
   {
    "duration": 115,
    "start_time": "2023-04-26T17:32:39.471Z"
   },
   {
    "duration": 5,
    "start_time": "2023-04-26T17:32:39.588Z"
   },
   {
    "duration": 11,
    "start_time": "2023-04-26T17:32:39.595Z"
   },
   {
    "duration": 26,
    "start_time": "2023-04-26T17:32:39.608Z"
   },
   {
    "duration": 34,
    "start_time": "2023-04-26T17:32:39.636Z"
   },
   {
    "duration": 13,
    "start_time": "2023-04-26T17:32:39.672Z"
   },
   {
    "duration": 12,
    "start_time": "2023-04-26T17:32:39.687Z"
   },
   {
    "duration": 15,
    "start_time": "2023-04-26T17:32:39.701Z"
   },
   {
    "duration": 7,
    "start_time": "2023-04-26T17:32:39.717Z"
   },
   {
    "duration": 42,
    "start_time": "2023-04-26T17:32:39.725Z"
   },
   {
    "duration": 27,
    "start_time": "2023-04-26T17:32:39.769Z"
   },
   {
    "duration": 343,
    "start_time": "2023-04-26T17:32:39.798Z"
   },
   {
    "duration": 25,
    "start_time": "2023-04-26T17:32:40.142Z"
   },
   {
    "duration": 35,
    "start_time": "2023-04-26T17:32:40.169Z"
   },
   {
    "duration": 373,
    "start_time": "2023-04-26T17:32:40.206Z"
   },
   {
    "duration": 6,
    "start_time": "2023-04-26T17:32:40.581Z"
   },
   {
    "duration": 28,
    "start_time": "2023-04-26T17:32:40.588Z"
   },
   {
    "duration": 391,
    "start_time": "2023-04-26T17:32:40.618Z"
   },
   {
    "duration": 8,
    "start_time": "2023-04-26T17:32:41.011Z"
   },
   {
    "duration": 42,
    "start_time": "2023-04-26T17:32:41.022Z"
   },
   {
    "duration": 4,
    "start_time": "2023-04-26T17:32:41.066Z"
   },
   {
    "duration": 11,
    "start_time": "2023-04-26T17:32:41.072Z"
   },
   {
    "duration": 11,
    "start_time": "2023-04-26T17:32:41.085Z"
   },
   {
    "duration": 10,
    "start_time": "2023-04-26T17:32:41.097Z"
   },
   {
    "duration": 1269,
    "start_time": "2023-04-26T17:36:42.620Z"
   },
   {
    "duration": 608,
    "start_time": "2023-04-26T17:36:43.891Z"
   },
   {
    "duration": 10,
    "start_time": "2023-04-26T17:36:44.501Z"
   },
   {
    "duration": 16,
    "start_time": "2023-04-26T17:36:44.514Z"
   },
   {
    "duration": 27,
    "start_time": "2023-04-26T17:36:44.532Z"
   },
   {
    "duration": 5,
    "start_time": "2023-04-26T17:36:44.560Z"
   },
   {
    "duration": 11,
    "start_time": "2023-04-26T17:36:44.566Z"
   },
   {
    "duration": 20,
    "start_time": "2023-04-26T17:36:44.579Z"
   },
   {
    "duration": 17,
    "start_time": "2023-04-26T17:36:44.601Z"
   },
   {
    "duration": 75,
    "start_time": "2023-04-26T17:36:44.622Z"
   },
   {
    "duration": 4,
    "start_time": "2023-04-26T17:36:44.699Z"
   },
   {
    "duration": 11,
    "start_time": "2023-04-26T17:36:44.705Z"
   },
   {
    "duration": 54,
    "start_time": "2023-04-26T17:36:44.717Z"
   },
   {
    "duration": 13,
    "start_time": "2023-04-26T17:36:44.773Z"
   },
   {
    "duration": 8,
    "start_time": "2023-04-26T17:36:44.788Z"
   },
   {
    "duration": 5,
    "start_time": "2023-04-26T17:36:44.798Z"
   },
   {
    "duration": 6,
    "start_time": "2023-04-26T17:36:44.805Z"
   },
   {
    "duration": 8,
    "start_time": "2023-04-26T17:36:44.812Z"
   },
   {
    "duration": 9,
    "start_time": "2023-04-26T17:36:44.856Z"
   },
   {
    "duration": 13,
    "start_time": "2023-04-26T17:36:44.867Z"
   },
   {
    "duration": 474,
    "start_time": "2023-04-26T17:36:44.882Z"
   },
   {
    "duration": 3158,
    "start_time": "2023-04-26T17:36:45.358Z"
   },
   {
    "duration": 5,
    "start_time": "2023-04-26T17:36:48.518Z"
   },
   {
    "duration": 16,
    "start_time": "2023-04-26T17:36:48.524Z"
   },
   {
    "duration": 44,
    "start_time": "2023-04-26T17:36:48.542Z"
   },
   {
    "duration": 6,
    "start_time": "2023-04-26T17:36:48.588Z"
   },
   {
    "duration": 61,
    "start_time": "2023-04-26T17:36:48.596Z"
   },
   {
    "duration": 14,
    "start_time": "2023-04-26T17:36:48.662Z"
   },
   {
    "duration": 6,
    "start_time": "2023-04-26T17:36:48.677Z"
   },
   {
    "duration": 6,
    "start_time": "2023-04-26T17:36:48.684Z"
   },
   {
    "duration": 10,
    "start_time": "2023-04-26T17:36:48.691Z"
   },
   {
    "duration": 55,
    "start_time": "2023-04-26T17:36:48.702Z"
   },
   {
    "duration": 15,
    "start_time": "2023-04-26T17:36:48.758Z"
   },
   {
    "duration": 15,
    "start_time": "2023-04-26T17:36:48.774Z"
   },
   {
    "duration": 205,
    "start_time": "2023-04-26T17:36:48.791Z"
   },
   {
    "duration": 8,
    "start_time": "2023-04-26T17:36:48.997Z"
   },
   {
    "duration": 144,
    "start_time": "2023-04-26T17:36:49.006Z"
   },
   {
    "duration": 191,
    "start_time": "2023-04-26T17:36:49.155Z"
   },
   {
    "duration": 14,
    "start_time": "2023-04-26T17:36:49.348Z"
   },
   {
    "duration": 5,
    "start_time": "2023-04-26T17:36:49.364Z"
   },
   {
    "duration": 15,
    "start_time": "2023-04-26T17:36:49.370Z"
   },
   {
    "duration": 8,
    "start_time": "2023-04-26T17:36:49.387Z"
   },
   {
    "duration": 95,
    "start_time": "2023-04-26T17:36:49.396Z"
   },
   {
    "duration": 10,
    "start_time": "2023-04-26T17:36:49.492Z"
   },
   {
    "duration": 517,
    "start_time": "2023-04-26T17:36:49.504Z"
   },
   {
    "duration": 8,
    "start_time": "2023-04-26T17:36:50.023Z"
   },
   {
    "duration": 387,
    "start_time": "2023-04-26T17:36:50.033Z"
   },
   {
    "duration": 107,
    "start_time": "2023-04-26T17:36:50.421Z"
   },
   {
    "duration": 7,
    "start_time": "2023-04-26T17:36:50.530Z"
   },
   {
    "duration": 24,
    "start_time": "2023-04-26T17:36:50.539Z"
   },
   {
    "duration": 21,
    "start_time": "2023-04-26T17:36:50.565Z"
   },
   {
    "duration": 14,
    "start_time": "2023-04-26T17:36:50.588Z"
   },
   {
    "duration": 31,
    "start_time": "2023-04-26T17:36:50.603Z"
   },
   {
    "duration": 10,
    "start_time": "2023-04-26T17:36:50.635Z"
   },
   {
    "duration": 23,
    "start_time": "2023-04-26T17:36:50.647Z"
   },
   {
    "duration": 40,
    "start_time": "2023-04-26T17:36:50.672Z"
   },
   {
    "duration": 5,
    "start_time": "2023-04-26T17:36:50.714Z"
   },
   {
    "duration": 22,
    "start_time": "2023-04-26T17:36:50.721Z"
   },
   {
    "duration": 12,
    "start_time": "2023-04-26T17:36:50.745Z"
   },
   {
    "duration": 19,
    "start_time": "2023-04-26T17:36:50.758Z"
   },
   {
    "duration": 21,
    "start_time": "2023-04-26T17:36:50.779Z"
   },
   {
    "duration": 288,
    "start_time": "2023-04-26T17:36:50.801Z"
   },
   {
    "duration": 111,
    "start_time": "2023-04-26T17:36:51.090Z"
   },
   {
    "duration": 5,
    "start_time": "2023-04-26T17:36:51.203Z"
   },
   {
    "duration": 13,
    "start_time": "2023-04-26T17:36:51.210Z"
   },
   {
    "duration": 41,
    "start_time": "2023-04-26T17:36:51.224Z"
   },
   {
    "duration": 17,
    "start_time": "2023-04-26T17:36:51.267Z"
   },
   {
    "duration": 13,
    "start_time": "2023-04-26T17:36:51.286Z"
   },
   {
    "duration": 9,
    "start_time": "2023-04-26T17:36:51.301Z"
   },
   {
    "duration": 16,
    "start_time": "2023-04-26T17:36:51.312Z"
   },
   {
    "duration": 30,
    "start_time": "2023-04-26T17:36:51.330Z"
   },
   {
    "duration": 22,
    "start_time": "2023-04-26T17:36:51.362Z"
   },
   {
    "duration": 25,
    "start_time": "2023-04-26T17:36:51.386Z"
   },
   {
    "duration": 354,
    "start_time": "2023-04-26T17:36:51.413Z"
   },
   {
    "duration": 13,
    "start_time": "2023-04-26T17:36:51.770Z"
   },
   {
    "duration": 18,
    "start_time": "2023-04-26T17:36:51.785Z"
   },
   {
    "duration": 404,
    "start_time": "2023-04-26T17:36:51.805Z"
   },
   {
    "duration": 8,
    "start_time": "2023-04-26T17:36:52.211Z"
   },
   {
    "duration": 29,
    "start_time": "2023-04-26T17:36:52.221Z"
   },
   {
    "duration": 464,
    "start_time": "2023-04-26T17:36:52.255Z"
   },
   {
    "duration": 10,
    "start_time": "2023-04-26T17:36:52.721Z"
   },
   {
    "duration": 28,
    "start_time": "2023-04-26T17:36:52.738Z"
   },
   {
    "duration": 4,
    "start_time": "2023-04-26T17:36:52.768Z"
   },
   {
    "duration": 6,
    "start_time": "2023-04-26T17:36:52.774Z"
   },
   {
    "duration": 13,
    "start_time": "2023-04-26T17:36:52.782Z"
   },
   {
    "duration": 57,
    "start_time": "2023-04-26T17:36:52.798Z"
   },
   {
    "duration": 1528,
    "start_time": "2023-04-26T17:37:21.031Z"
   },
   {
    "duration": 693,
    "start_time": "2023-04-26T17:37:22.561Z"
   },
   {
    "duration": 16,
    "start_time": "2023-04-26T17:37:23.257Z"
   },
   {
    "duration": 37,
    "start_time": "2023-04-26T17:37:23.276Z"
   },
   {
    "duration": 34,
    "start_time": "2023-04-26T17:37:23.314Z"
   },
   {
    "duration": 10,
    "start_time": "2023-04-26T17:37:23.351Z"
   },
   {
    "duration": 15,
    "start_time": "2023-04-26T17:37:23.363Z"
   },
   {
    "duration": 24,
    "start_time": "2023-04-26T17:37:23.381Z"
   },
   {
    "duration": 20,
    "start_time": "2023-04-26T17:37:23.407Z"
   },
   {
    "duration": 96,
    "start_time": "2023-04-26T17:37:23.430Z"
   },
   {
    "duration": 9,
    "start_time": "2023-04-26T17:37:23.529Z"
   },
   {
    "duration": 37,
    "start_time": "2023-04-26T17:37:23.540Z"
   },
   {
    "duration": 51,
    "start_time": "2023-04-26T17:37:23.579Z"
   },
   {
    "duration": 26,
    "start_time": "2023-04-26T17:37:23.631Z"
   },
   {
    "duration": 37,
    "start_time": "2023-04-26T17:37:23.663Z"
   },
   {
    "duration": 10,
    "start_time": "2023-04-26T17:37:23.703Z"
   },
   {
    "duration": 20,
    "start_time": "2023-04-26T17:37:23.715Z"
   },
   {
    "duration": 20,
    "start_time": "2023-04-26T17:37:23.737Z"
   },
   {
    "duration": 11,
    "start_time": "2023-04-26T17:37:23.768Z"
   },
   {
    "duration": 27,
    "start_time": "2023-04-26T17:37:23.781Z"
   },
   {
    "duration": 489,
    "start_time": "2023-04-26T17:37:23.809Z"
   },
   {
    "duration": 3512,
    "start_time": "2023-04-26T17:37:24.300Z"
   },
   {
    "duration": 7,
    "start_time": "2023-04-26T17:37:27.814Z"
   },
   {
    "duration": 44,
    "start_time": "2023-04-26T17:37:27.823Z"
   },
   {
    "duration": 63,
    "start_time": "2023-04-26T17:37:27.869Z"
   },
   {
    "duration": 7,
    "start_time": "2023-04-26T17:37:27.933Z"
   },
   {
    "duration": 77,
    "start_time": "2023-04-26T17:37:27.942Z"
   },
   {
    "duration": 15,
    "start_time": "2023-04-26T17:37:28.024Z"
   },
   {
    "duration": 5,
    "start_time": "2023-04-26T17:37:28.041Z"
   },
   {
    "duration": 22,
    "start_time": "2023-04-26T17:37:28.048Z"
   },
   {
    "duration": 11,
    "start_time": "2023-04-26T17:37:28.072Z"
   },
   {
    "duration": 40,
    "start_time": "2023-04-26T17:37:28.085Z"
   },
   {
    "duration": 15,
    "start_time": "2023-04-26T17:37:28.127Z"
   },
   {
    "duration": 27,
    "start_time": "2023-04-26T17:37:28.144Z"
   },
   {
    "duration": 225,
    "start_time": "2023-04-26T17:37:28.172Z"
   },
   {
    "duration": 9,
    "start_time": "2023-04-26T17:37:28.399Z"
   },
   {
    "duration": 147,
    "start_time": "2023-04-26T17:37:28.409Z"
   },
   {
    "duration": 205,
    "start_time": "2023-04-26T17:37:28.557Z"
   },
   {
    "duration": 9,
    "start_time": "2023-04-26T17:37:28.763Z"
   },
   {
    "duration": 17,
    "start_time": "2023-04-26T17:37:28.774Z"
   },
   {
    "duration": 48,
    "start_time": "2023-04-26T17:37:28.792Z"
   },
   {
    "duration": 21,
    "start_time": "2023-04-26T17:37:28.841Z"
   },
   {
    "duration": 74,
    "start_time": "2023-04-26T17:37:28.863Z"
   },
   {
    "duration": 8,
    "start_time": "2023-04-26T17:37:28.938Z"
   },
   {
    "duration": 512,
    "start_time": "2023-04-26T17:37:28.955Z"
   },
   {
    "duration": 8,
    "start_time": "2023-04-26T17:37:29.469Z"
   },
   {
    "duration": 362,
    "start_time": "2023-04-26T17:37:29.479Z"
   },
   {
    "duration": 109,
    "start_time": "2023-04-26T17:37:29.842Z"
   },
   {
    "duration": 9,
    "start_time": "2023-04-26T17:37:29.955Z"
   },
   {
    "duration": 7,
    "start_time": "2023-04-26T17:37:29.966Z"
   },
   {
    "duration": 7,
    "start_time": "2023-04-26T17:37:29.975Z"
   },
   {
    "duration": 14,
    "start_time": "2023-04-26T17:37:29.983Z"
   },
   {
    "duration": 61,
    "start_time": "2023-04-26T17:37:29.998Z"
   },
   {
    "duration": 4,
    "start_time": "2023-04-26T17:37:30.061Z"
   },
   {
    "duration": 28,
    "start_time": "2023-04-26T17:37:30.066Z"
   },
   {
    "duration": 36,
    "start_time": "2023-04-26T17:37:30.095Z"
   },
   {
    "duration": 6,
    "start_time": "2023-04-26T17:37:30.133Z"
   },
   {
    "duration": 16,
    "start_time": "2023-04-26T17:37:30.141Z"
   },
   {
    "duration": 5,
    "start_time": "2023-04-26T17:37:30.158Z"
   },
   {
    "duration": 15,
    "start_time": "2023-04-26T17:37:30.164Z"
   },
   {
    "duration": 45,
    "start_time": "2023-04-26T17:37:30.181Z"
   },
   {
    "duration": 294,
    "start_time": "2023-04-26T17:37:30.228Z"
   },
   {
    "duration": 140,
    "start_time": "2023-04-26T17:37:30.524Z"
   },
   {
    "duration": 8,
    "start_time": "2023-04-26T17:37:30.666Z"
   },
   {
    "duration": 36,
    "start_time": "2023-04-26T17:37:30.677Z"
   },
   {
    "duration": 100,
    "start_time": "2023-04-26T17:37:30.715Z"
   },
   {
    "duration": 23,
    "start_time": "2023-04-26T17:37:30.817Z"
   },
   {
    "duration": 37,
    "start_time": "2023-04-26T17:37:30.842Z"
   },
   {
    "duration": 44,
    "start_time": "2023-04-26T17:37:30.880Z"
   },
   {
    "duration": 33,
    "start_time": "2023-04-26T17:37:30.926Z"
   },
   {
    "duration": 40,
    "start_time": "2023-04-26T17:37:30.961Z"
   },
   {
    "duration": 56,
    "start_time": "2023-04-26T17:37:31.002Z"
   },
   {
    "duration": 52,
    "start_time": "2023-04-26T17:37:31.060Z"
   },
   {
    "duration": 350,
    "start_time": "2023-04-26T17:37:31.113Z"
   },
   {
    "duration": 18,
    "start_time": "2023-04-26T17:37:31.465Z"
   },
   {
    "duration": 98,
    "start_time": "2023-04-26T17:37:31.485Z"
   },
   {
    "duration": 432,
    "start_time": "2023-04-26T17:37:31.585Z"
   },
   {
    "duration": 6,
    "start_time": "2023-04-26T17:37:32.018Z"
   },
   {
    "duration": 31,
    "start_time": "2023-04-26T17:37:32.026Z"
   },
   {
    "duration": 466,
    "start_time": "2023-04-26T17:37:32.059Z"
   },
   {
    "duration": 9,
    "start_time": "2023-04-26T17:37:32.527Z"
   },
   {
    "duration": 34,
    "start_time": "2023-04-26T17:37:32.542Z"
   },
   {
    "duration": 5,
    "start_time": "2023-04-26T17:37:32.578Z"
   },
   {
    "duration": 14,
    "start_time": "2023-04-26T17:37:32.584Z"
   },
   {
    "duration": 58,
    "start_time": "2023-04-26T17:37:32.600Z"
   },
   {
    "duration": 33,
    "start_time": "2023-04-26T17:37:32.659Z"
   },
   {
    "duration": 1510,
    "start_time": "2023-04-26T17:57:54.298Z"
   },
   {
    "duration": 911,
    "start_time": "2023-04-26T17:57:55.810Z"
   },
   {
    "duration": 23,
    "start_time": "2023-04-26T17:57:56.723Z"
   },
   {
    "duration": 48,
    "start_time": "2023-04-26T17:57:56.760Z"
   },
   {
    "duration": 91,
    "start_time": "2023-04-26T17:57:56.810Z"
   },
   {
    "duration": 53,
    "start_time": "2023-04-26T17:57:56.904Z"
   },
   {
    "duration": 121,
    "start_time": "2023-04-26T17:57:56.959Z"
   },
   {
    "duration": 93,
    "start_time": "2023-04-26T17:57:57.082Z"
   },
   {
    "duration": 39,
    "start_time": "2023-04-26T17:57:57.178Z"
   },
   {
    "duration": 114,
    "start_time": "2023-04-26T17:57:57.221Z"
   },
   {
    "duration": 12,
    "start_time": "2023-04-26T17:57:57.343Z"
   },
   {
    "duration": 52,
    "start_time": "2023-04-26T17:57:57.362Z"
   },
   {
    "duration": 61,
    "start_time": "2023-04-26T17:57:57.416Z"
   },
   {
    "duration": 40,
    "start_time": "2023-04-26T17:57:57.479Z"
   },
   {
    "duration": 19,
    "start_time": "2023-04-26T17:57:57.521Z"
   },
   {
    "duration": 37,
    "start_time": "2023-04-26T17:57:57.544Z"
   },
   {
    "duration": 31,
    "start_time": "2023-04-26T17:57:57.584Z"
   },
   {
    "duration": 75,
    "start_time": "2023-04-26T17:57:57.618Z"
   },
   {
    "duration": 95,
    "start_time": "2023-04-26T17:57:57.695Z"
   },
   {
    "duration": 34,
    "start_time": "2023-04-26T17:57:57.793Z"
   },
   {
    "duration": 546,
    "start_time": "2023-04-26T17:57:57.829Z"
   },
   {
    "duration": 4398,
    "start_time": "2023-04-26T17:57:58.378Z"
   },
   {
    "duration": 8,
    "start_time": "2023-04-26T17:58:02.779Z"
   },
   {
    "duration": 48,
    "start_time": "2023-04-26T17:58:02.789Z"
   },
   {
    "duration": 80,
    "start_time": "2023-04-26T17:58:02.839Z"
   },
   {
    "duration": 10,
    "start_time": "2023-04-26T17:58:02.921Z"
   },
   {
    "duration": 120,
    "start_time": "2023-04-26T17:58:02.933Z"
   },
   {
    "duration": 22,
    "start_time": "2023-04-26T17:58:03.062Z"
   },
   {
    "duration": 102,
    "start_time": "2023-04-26T17:58:03.086Z"
   },
   {
    "duration": 62,
    "start_time": "2023-04-26T17:58:03.190Z"
   },
   {
    "duration": 76,
    "start_time": "2023-04-26T17:58:03.255Z"
   },
   {
    "duration": 136,
    "start_time": "2023-04-26T17:58:03.333Z"
   },
   {
    "duration": 24,
    "start_time": "2023-04-26T17:58:03.471Z"
   },
   {
    "duration": 127,
    "start_time": "2023-04-26T17:58:03.498Z"
   },
   {
    "duration": 352,
    "start_time": "2023-04-26T17:58:03.627Z"
   },
   {
    "duration": 13,
    "start_time": "2023-04-26T17:58:03.981Z"
   },
   {
    "duration": 255,
    "start_time": "2023-04-26T17:58:03.997Z"
   },
   {
    "duration": 321,
    "start_time": "2023-04-26T17:58:04.254Z"
   },
   {
    "duration": 15,
    "start_time": "2023-04-26T17:58:04.579Z"
   },
   {
    "duration": 79,
    "start_time": "2023-04-26T17:58:04.596Z"
   },
   {
    "duration": 112,
    "start_time": "2023-04-26T17:58:04.677Z"
   },
   {
    "duration": 47,
    "start_time": "2023-04-26T17:58:04.792Z"
   },
   {
    "duration": 165,
    "start_time": "2023-04-26T17:58:04.842Z"
   },
   {
    "duration": 14,
    "start_time": "2023-04-26T17:58:05.010Z"
   },
   {
    "duration": 772,
    "start_time": "2023-04-26T17:58:05.044Z"
   },
   {
    "duration": 11,
    "start_time": "2023-04-26T17:58:05.818Z"
   },
   {
    "duration": 640,
    "start_time": "2023-04-26T17:58:05.843Z"
   },
   {
    "duration": 150,
    "start_time": "2023-04-26T17:58:06.486Z"
   },
   {
    "duration": 16,
    "start_time": "2023-04-26T17:58:06.641Z"
   },
   {
    "duration": 63,
    "start_time": "2023-04-26T17:58:06.661Z"
   },
   {
    "duration": 51,
    "start_time": "2023-04-26T17:58:06.727Z"
   },
   {
    "duration": 36,
    "start_time": "2023-04-26T17:58:06.780Z"
   },
   {
    "duration": 48,
    "start_time": "2023-04-26T17:58:06.818Z"
   },
   {
    "duration": 3,
    "start_time": "2023-04-26T17:58:06.869Z"
   },
   {
    "duration": 40,
    "start_time": "2023-04-26T17:58:06.874Z"
   },
   {
    "duration": 61,
    "start_time": "2023-04-26T17:58:06.916Z"
   },
   {
    "duration": 9,
    "start_time": "2023-04-26T17:58:06.980Z"
   },
   {
    "duration": 27,
    "start_time": "2023-04-26T17:58:06.991Z"
   },
   {
    "duration": 18,
    "start_time": "2023-04-26T17:58:07.020Z"
   },
   {
    "duration": 74,
    "start_time": "2023-04-26T17:58:07.040Z"
   },
   {
    "duration": 75,
    "start_time": "2023-04-26T17:58:07.116Z"
   },
   {
    "duration": 393,
    "start_time": "2023-04-26T17:58:07.193Z"
   },
   {
    "duration": 163,
    "start_time": "2023-04-26T17:58:07.588Z"
   },
   {
    "duration": 18,
    "start_time": "2023-04-26T17:58:07.757Z"
   },
   {
    "duration": 24,
    "start_time": "2023-04-26T17:58:07.777Z"
   },
   {
    "duration": 53,
    "start_time": "2023-04-26T17:58:07.803Z"
   },
   {
    "duration": 26,
    "start_time": "2023-04-26T17:58:07.862Z"
   },
   {
    "duration": 28,
    "start_time": "2023-04-26T17:58:07.890Z"
   },
   {
    "duration": 14,
    "start_time": "2023-04-26T17:58:07.921Z"
   },
   {
    "duration": 31,
    "start_time": "2023-04-26T17:58:07.938Z"
   },
   {
    "duration": 20,
    "start_time": "2023-04-26T17:58:07.977Z"
   },
   {
    "duration": 34,
    "start_time": "2023-04-26T17:58:07.999Z"
   },
   {
    "duration": 62,
    "start_time": "2023-04-26T17:58:08.035Z"
   },
   {
    "duration": 414,
    "start_time": "2023-04-26T17:58:08.099Z"
   },
   {
    "duration": 51,
    "start_time": "2023-04-26T17:58:08.516Z"
   },
   {
    "duration": 21,
    "start_time": "2023-04-26T17:58:08.569Z"
   },
   {
    "duration": 480,
    "start_time": "2023-04-26T17:58:08.592Z"
   },
   {
    "duration": 6,
    "start_time": "2023-04-26T17:58:09.074Z"
   },
   {
    "duration": 22,
    "start_time": "2023-04-26T17:58:09.083Z"
   },
   {
    "duration": 1181,
    "start_time": "2023-04-26T17:58:09.107Z"
   },
   {
    "duration": 12,
    "start_time": "2023-04-26T17:58:10.290Z"
   },
   {
    "duration": 45,
    "start_time": "2023-04-26T17:58:10.347Z"
   },
   {
    "duration": 12,
    "start_time": "2023-04-26T17:58:10.445Z"
   },
   {
    "duration": 41,
    "start_time": "2023-04-26T17:58:10.459Z"
   },
   {
    "duration": 18,
    "start_time": "2023-04-26T17:58:10.502Z"
   },
   {
    "duration": 27,
    "start_time": "2023-04-26T17:58:10.523Z"
   },
   {
    "duration": 10,
    "start_time": "2023-04-26T18:03:55.070Z"
   },
   {
    "duration": 29,
    "start_time": "2023-04-26T18:04:01.234Z"
   },
   {
    "duration": 41,
    "start_time": "2023-04-26T18:06:05.026Z"
   },
   {
    "duration": 5,
    "start_time": "2023-04-26T18:07:11.428Z"
   },
   {
    "duration": 4,
    "start_time": "2023-04-26T18:07:12.632Z"
   },
   {
    "duration": 18,
    "start_time": "2023-04-26T18:07:13.843Z"
   },
   {
    "duration": 11,
    "start_time": "2023-04-26T18:07:15.363Z"
   },
   {
    "duration": 1191,
    "start_time": "2023-04-26T18:29:01.881Z"
   },
   {
    "duration": 682,
    "start_time": "2023-04-26T18:29:03.074Z"
   },
   {
    "duration": 11,
    "start_time": "2023-04-26T18:29:03.758Z"
   },
   {
    "duration": 16,
    "start_time": "2023-04-26T18:29:03.771Z"
   },
   {
    "duration": 27,
    "start_time": "2023-04-26T18:29:03.789Z"
   },
   {
    "duration": 4,
    "start_time": "2023-04-26T18:29:03.817Z"
   },
   {
    "duration": 37,
    "start_time": "2023-04-26T18:29:03.822Z"
   },
   {
    "duration": 19,
    "start_time": "2023-04-26T18:29:03.861Z"
   },
   {
    "duration": 15,
    "start_time": "2023-04-26T18:29:03.882Z"
   },
   {
    "duration": 85,
    "start_time": "2023-04-26T18:29:03.901Z"
   },
   {
    "duration": 18,
    "start_time": "2023-04-26T18:29:03.988Z"
   },
   {
    "duration": 32,
    "start_time": "2023-04-26T18:29:04.008Z"
   },
   {
    "duration": 50,
    "start_time": "2023-04-26T18:29:04.042Z"
   },
   {
    "duration": 20,
    "start_time": "2023-04-26T18:29:04.094Z"
   },
   {
    "duration": 11,
    "start_time": "2023-04-26T18:29:04.116Z"
   },
   {
    "duration": 7,
    "start_time": "2023-04-26T18:29:04.129Z"
   },
   {
    "duration": 33,
    "start_time": "2023-04-26T18:29:04.138Z"
   },
   {
    "duration": 12,
    "start_time": "2023-04-26T18:29:04.173Z"
   },
   {
    "duration": 12,
    "start_time": "2023-04-26T18:29:04.187Z"
   },
   {
    "duration": 20,
    "start_time": "2023-04-26T18:29:04.202Z"
   },
   {
    "duration": 414,
    "start_time": "2023-04-26T18:29:04.225Z"
   },
   {
    "duration": 3388,
    "start_time": "2023-04-26T18:29:04.641Z"
   },
   {
    "duration": 9,
    "start_time": "2023-04-26T18:29:08.031Z"
   },
   {
    "duration": 13,
    "start_time": "2023-04-26T18:29:08.056Z"
   },
   {
    "duration": 61,
    "start_time": "2023-04-26T18:29:08.071Z"
   },
   {
    "duration": 25,
    "start_time": "2023-04-26T18:29:08.135Z"
   },
   {
    "duration": 64,
    "start_time": "2023-04-26T18:29:08.162Z"
   },
   {
    "duration": 33,
    "start_time": "2023-04-26T18:29:08.229Z"
   },
   {
    "duration": 7,
    "start_time": "2023-04-26T18:29:08.264Z"
   },
   {
    "duration": 7,
    "start_time": "2023-04-26T18:29:08.273Z"
   },
   {
    "duration": 12,
    "start_time": "2023-04-26T18:29:08.282Z"
   },
   {
    "duration": 32,
    "start_time": "2023-04-26T18:29:08.296Z"
   },
   {
    "duration": 38,
    "start_time": "2023-04-26T18:29:08.330Z"
   },
   {
    "duration": 10,
    "start_time": "2023-04-26T18:29:08.370Z"
   },
   {
    "duration": 237,
    "start_time": "2023-04-26T18:29:08.382Z"
   },
   {
    "duration": 11,
    "start_time": "2023-04-26T18:29:08.620Z"
   },
   {
    "duration": 179,
    "start_time": "2023-04-26T18:29:08.633Z"
   },
   {
    "duration": 235,
    "start_time": "2023-04-26T18:29:08.815Z"
   },
   {
    "duration": 18,
    "start_time": "2023-04-26T18:29:09.051Z"
   },
   {
    "duration": 7,
    "start_time": "2023-04-26T18:29:09.071Z"
   },
   {
    "duration": 20,
    "start_time": "2023-04-26T18:29:09.079Z"
   },
   {
    "duration": 17,
    "start_time": "2023-04-26T18:29:09.102Z"
   },
   {
    "duration": 102,
    "start_time": "2023-04-26T18:29:09.121Z"
   },
   {
    "duration": 10,
    "start_time": "2023-04-26T18:29:09.225Z"
   },
   {
    "duration": 619,
    "start_time": "2023-04-26T18:29:09.238Z"
   },
   {
    "duration": 11,
    "start_time": "2023-04-26T18:29:09.859Z"
   },
   {
    "duration": 416,
    "start_time": "2023-04-26T18:29:09.871Z"
   },
   {
    "duration": 120,
    "start_time": "2023-04-26T18:29:10.289Z"
   },
   {
    "duration": 1259,
    "start_time": "2023-04-26T18:29:52.183Z"
   },
   {
    "duration": 676,
    "start_time": "2023-04-26T18:29:53.443Z"
   },
   {
    "duration": 13,
    "start_time": "2023-04-26T18:29:54.122Z"
   },
   {
    "duration": 37,
    "start_time": "2023-04-26T18:29:54.137Z"
   },
   {
    "duration": 55,
    "start_time": "2023-04-26T18:29:54.177Z"
   },
   {
    "duration": 68,
    "start_time": "2023-04-26T18:29:54.234Z"
   },
   {
    "duration": 15,
    "start_time": "2023-04-26T18:29:54.304Z"
   },
   {
    "duration": 18,
    "start_time": "2023-04-26T18:29:54.321Z"
   },
   {
    "duration": 9,
    "start_time": "2023-04-26T18:29:54.341Z"
   },
   {
    "duration": 85,
    "start_time": "2023-04-26T18:29:54.353Z"
   },
   {
    "duration": 24,
    "start_time": "2023-04-26T18:29:54.440Z"
   },
   {
    "duration": 10,
    "start_time": "2023-04-26T18:29:54.472Z"
   },
   {
    "duration": 36,
    "start_time": "2023-04-26T18:29:54.484Z"
   },
   {
    "duration": 13,
    "start_time": "2023-04-26T18:29:54.521Z"
   },
   {
    "duration": 9,
    "start_time": "2023-04-26T18:29:54.535Z"
   },
   {
    "duration": 17,
    "start_time": "2023-04-26T18:29:54.555Z"
   },
   {
    "duration": 13,
    "start_time": "2023-04-26T18:29:54.573Z"
   },
   {
    "duration": 12,
    "start_time": "2023-04-26T18:29:54.587Z"
   },
   {
    "duration": 8,
    "start_time": "2023-04-26T18:29:54.601Z"
   },
   {
    "duration": 14,
    "start_time": "2023-04-26T18:29:54.611Z"
   },
   {
    "duration": 441,
    "start_time": "2023-04-26T18:29:54.627Z"
   },
   {
    "duration": 3626,
    "start_time": "2023-04-26T18:29:55.070Z"
   },
   {
    "duration": 6,
    "start_time": "2023-04-26T18:29:58.698Z"
   },
   {
    "duration": 29,
    "start_time": "2023-04-26T18:29:58.706Z"
   },
   {
    "duration": 74,
    "start_time": "2023-04-26T18:29:58.736Z"
   },
   {
    "duration": 23,
    "start_time": "2023-04-26T18:29:58.812Z"
   },
   {
    "duration": 59,
    "start_time": "2023-04-26T18:29:58.837Z"
   },
   {
    "duration": 16,
    "start_time": "2023-04-26T18:29:58.900Z"
   },
   {
    "duration": 7,
    "start_time": "2023-04-26T18:29:58.918Z"
   },
   {
    "duration": 23,
    "start_time": "2023-04-26T18:29:58.927Z"
   },
   {
    "duration": 19,
    "start_time": "2023-04-26T18:29:58.960Z"
   },
   {
    "duration": 40,
    "start_time": "2023-04-26T18:29:58.981Z"
   },
   {
    "duration": 17,
    "start_time": "2023-04-26T18:29:59.023Z"
   },
   {
    "duration": 26,
    "start_time": "2023-04-26T18:29:59.042Z"
   },
   {
    "duration": 219,
    "start_time": "2023-04-26T18:29:59.070Z"
   },
   {
    "duration": 8,
    "start_time": "2023-04-26T18:29:59.291Z"
   },
   {
    "duration": 175,
    "start_time": "2023-04-26T18:29:59.301Z"
   },
   {
    "duration": 233,
    "start_time": "2023-04-26T18:29:59.479Z"
   },
   {
    "duration": 11,
    "start_time": "2023-04-26T18:29:59.714Z"
   },
   {
    "duration": 8,
    "start_time": "2023-04-26T18:29:59.727Z"
   },
   {
    "duration": 42,
    "start_time": "2023-04-26T18:29:59.737Z"
   },
   {
    "duration": 10,
    "start_time": "2023-04-26T18:29:59.781Z"
   },
   {
    "duration": 98,
    "start_time": "2023-04-26T18:29:59.792Z"
   },
   {
    "duration": 9,
    "start_time": "2023-04-26T18:29:59.891Z"
   },
   {
    "duration": 641,
    "start_time": "2023-04-26T18:29:59.902Z"
   },
   {
    "duration": 29,
    "start_time": "2023-04-26T18:30:00.545Z"
   },
   {
    "duration": 520,
    "start_time": "2023-04-26T18:30:00.577Z"
   },
   {
    "duration": 133,
    "start_time": "2023-04-26T18:30:01.100Z"
   },
   {
    "duration": 10,
    "start_time": "2023-04-26T18:30:01.234Z"
   },
   {
    "duration": 13,
    "start_time": "2023-04-26T18:32:00.861Z"
   },
   {
    "duration": 505,
    "start_time": "2023-04-26T18:33:31.802Z"
   },
   {
    "duration": 467,
    "start_time": "2023-04-26T18:33:37.516Z"
   },
   {
    "duration": 14,
    "start_time": "2023-04-26T18:35:30.686Z"
   },
   {
    "duration": 40,
    "start_time": "2023-04-26T18:35:45.577Z"
   },
   {
    "duration": 364,
    "start_time": "2023-04-26T18:36:12.748Z"
   },
   {
    "duration": 253,
    "start_time": "2023-04-26T18:36:29.322Z"
   },
   {
    "duration": 67,
    "start_time": "2023-04-26T18:40:34.463Z"
   },
   {
    "duration": 9,
    "start_time": "2023-04-26T18:40:39.075Z"
   },
   {
    "duration": 93,
    "start_time": "2023-04-26T18:45:59.667Z"
   },
   {
    "duration": 47,
    "start_time": "2023-04-26T18:47:11.298Z"
   },
   {
    "duration": 455,
    "start_time": "2023-04-26T18:47:20.614Z"
   },
   {
    "duration": 119,
    "start_time": "2023-04-26T18:47:24.780Z"
   },
   {
    "duration": 9,
    "start_time": "2023-04-26T18:47:26.193Z"
   },
   {
    "duration": 10,
    "start_time": "2023-04-26T18:47:30.781Z"
   },
   {
    "duration": 31,
    "start_time": "2023-04-26T18:47:31.849Z"
   },
   {
    "duration": 6,
    "start_time": "2023-04-26T18:48:10.141Z"
   },
   {
    "duration": 20,
    "start_time": "2023-04-26T18:48:28.523Z"
   },
   {
    "duration": 18,
    "start_time": "2023-04-26T18:49:07.356Z"
   },
   {
    "duration": 32,
    "start_time": "2023-04-26T18:51:26.435Z"
   },
   {
    "duration": 54,
    "start_time": "2023-04-26T18:57:36.140Z"
   },
   {
    "duration": 1319,
    "start_time": "2023-04-26T19:01:44.884Z"
   },
   {
    "duration": 646,
    "start_time": "2023-04-26T19:01:46.205Z"
   },
   {
    "duration": 17,
    "start_time": "2023-04-26T19:01:46.853Z"
   },
   {
    "duration": 18,
    "start_time": "2023-04-26T19:01:46.873Z"
   },
   {
    "duration": 18,
    "start_time": "2023-04-26T19:01:46.894Z"
   },
   {
    "duration": 4,
    "start_time": "2023-04-26T19:01:46.913Z"
   },
   {
    "duration": 13,
    "start_time": "2023-04-26T19:01:46.918Z"
   },
   {
    "duration": 41,
    "start_time": "2023-04-26T19:01:46.932Z"
   },
   {
    "duration": 7,
    "start_time": "2023-04-26T19:01:46.978Z"
   },
   {
    "duration": 62,
    "start_time": "2023-04-26T19:01:46.987Z"
   },
   {
    "duration": 8,
    "start_time": "2023-04-26T19:01:47.060Z"
   },
   {
    "duration": 16,
    "start_time": "2023-04-26T19:01:47.070Z"
   },
   {
    "duration": 39,
    "start_time": "2023-04-26T19:01:47.088Z"
   },
   {
    "duration": 41,
    "start_time": "2023-04-26T19:01:47.130Z"
   },
   {
    "duration": 18,
    "start_time": "2023-04-26T19:01:47.179Z"
   },
   {
    "duration": 8,
    "start_time": "2023-04-26T19:01:47.199Z"
   },
   {
    "duration": 6,
    "start_time": "2023-04-26T19:01:47.210Z"
   },
   {
    "duration": 9,
    "start_time": "2023-04-26T19:01:47.217Z"
   },
   {
    "duration": 7,
    "start_time": "2023-04-26T19:01:47.227Z"
   },
   {
    "duration": 32,
    "start_time": "2023-04-26T19:01:47.236Z"
   },
   {
    "duration": 474,
    "start_time": "2023-04-26T19:01:47.270Z"
   },
   {
    "duration": 4452,
    "start_time": "2023-04-26T19:01:47.746Z"
   },
   {
    "duration": 6,
    "start_time": "2023-04-26T19:01:52.200Z"
   },
   {
    "duration": 20,
    "start_time": "2023-04-26T19:01:52.207Z"
   },
   {
    "duration": 76,
    "start_time": "2023-04-26T19:01:52.230Z"
   },
   {
    "duration": 8,
    "start_time": "2023-04-26T19:01:52.308Z"
   },
   {
    "duration": 75,
    "start_time": "2023-04-26T19:01:52.318Z"
   },
   {
    "duration": 18,
    "start_time": "2023-04-26T19:01:52.395Z"
   },
   {
    "duration": 6,
    "start_time": "2023-04-26T19:01:52.415Z"
   },
   {
    "duration": 6,
    "start_time": "2023-04-26T19:01:52.423Z"
   },
   {
    "duration": 52,
    "start_time": "2023-04-26T19:01:52.430Z"
   },
   {
    "duration": 41,
    "start_time": "2023-04-26T19:01:52.484Z"
   },
   {
    "duration": 14,
    "start_time": "2023-04-26T19:01:52.527Z"
   },
   {
    "duration": 19,
    "start_time": "2023-04-26T19:01:52.543Z"
   },
   {
    "duration": 232,
    "start_time": "2023-04-26T19:01:52.564Z"
   },
   {
    "duration": 11,
    "start_time": "2023-04-26T19:01:52.798Z"
   },
   {
    "duration": 178,
    "start_time": "2023-04-26T19:01:52.811Z"
   },
   {
    "duration": 238,
    "start_time": "2023-04-26T19:01:52.990Z"
   },
   {
    "duration": 10,
    "start_time": "2023-04-26T19:01:53.230Z"
   },
   {
    "duration": 8,
    "start_time": "2023-04-26T19:01:53.258Z"
   },
   {
    "duration": 20,
    "start_time": "2023-04-26T19:01:53.273Z"
   },
   {
    "duration": 15,
    "start_time": "2023-04-26T19:01:53.295Z"
   },
   {
    "duration": 127,
    "start_time": "2023-04-26T19:01:53.312Z"
   },
   {
    "duration": 10,
    "start_time": "2023-04-26T19:01:53.441Z"
   },
   {
    "duration": 750,
    "start_time": "2023-04-26T19:01:53.453Z"
   },
   {
    "duration": 10,
    "start_time": "2023-04-26T19:01:54.206Z"
   },
   {
    "duration": 528,
    "start_time": "2023-04-26T19:01:54.218Z"
   },
   {
    "duration": 141,
    "start_time": "2023-04-26T19:01:54.747Z"
   },
   {
    "duration": 9,
    "start_time": "2023-04-26T19:01:54.889Z"
   },
   {
    "duration": 10,
    "start_time": "2023-04-26T19:01:54.899Z"
   },
   {
    "duration": 35,
    "start_time": "2023-04-26T19:01:54.910Z"
   },
   {
    "duration": 12,
    "start_time": "2023-04-26T19:01:54.955Z"
   },
   {
    "duration": 15,
    "start_time": "2023-04-26T19:01:54.971Z"
   },
   {
    "duration": 30,
    "start_time": "2023-04-26T19:01:54.988Z"
   },
   {
    "duration": 10,
    "start_time": "2023-04-26T19:01:55.020Z"
   },
   {
    "duration": 39,
    "start_time": "2023-04-26T19:01:55.032Z"
   },
   {
    "duration": 13,
    "start_time": "2023-04-26T19:01:55.073Z"
   },
   {
    "duration": 31,
    "start_time": "2023-04-26T19:01:55.087Z"
   },
   {
    "duration": 3,
    "start_time": "2023-04-26T19:01:55.119Z"
   },
   {
    "duration": 26,
    "start_time": "2023-04-26T19:01:55.123Z"
   },
   {
    "duration": 50,
    "start_time": "2023-04-26T19:01:55.151Z"
   },
   {
    "duration": 5,
    "start_time": "2023-04-26T19:01:55.203Z"
   },
   {
    "duration": 7,
    "start_time": "2023-04-26T19:01:55.209Z"
   },
   {
    "duration": 4,
    "start_time": "2023-04-26T19:01:55.218Z"
   },
   {
    "duration": 47,
    "start_time": "2023-04-26T19:01:55.223Z"
   },
   {
    "duration": 22,
    "start_time": "2023-04-26T19:01:55.272Z"
   },
   {
    "duration": 343,
    "start_time": "2023-04-26T19:01:55.296Z"
   },
   {
    "duration": 148,
    "start_time": "2023-04-26T19:01:55.642Z"
   },
   {
    "duration": 6,
    "start_time": "2023-04-26T19:01:55.792Z"
   },
   {
    "duration": 32,
    "start_time": "2023-04-26T19:01:55.799Z"
   },
   {
    "duration": 38,
    "start_time": "2023-04-26T19:01:55.833Z"
   },
   {
    "duration": 19,
    "start_time": "2023-04-26T19:01:55.873Z"
   },
   {
    "duration": 29,
    "start_time": "2023-04-26T19:02:09.572Z"
   },
   {
    "duration": 32,
    "start_time": "2023-04-26T19:02:37.295Z"
   },
   {
    "duration": 22,
    "start_time": "2023-04-26T19:02:45.087Z"
   },
   {
    "duration": 38,
    "start_time": "2023-04-26T19:03:56.783Z"
   },
   {
    "duration": 581,
    "start_time": "2023-04-26T19:05:23.891Z"
   },
   {
    "duration": 572,
    "start_time": "2023-04-26T19:05:53.507Z"
   },
   {
    "duration": 33,
    "start_time": "2023-04-26T19:06:19.442Z"
   },
   {
    "duration": 44,
    "start_time": "2023-04-26T19:08:52.825Z"
   },
   {
    "duration": 35,
    "start_time": "2023-04-26T19:09:19.170Z"
   },
   {
    "duration": 31,
    "start_time": "2023-04-26T19:09:52.789Z"
   },
   {
    "duration": 22,
    "start_time": "2023-04-26T19:10:12.376Z"
   },
   {
    "duration": 17,
    "start_time": "2023-04-26T19:10:34.227Z"
   },
   {
    "duration": 22,
    "start_time": "2023-04-26T19:11:22.342Z"
   },
   {
    "duration": 37,
    "start_time": "2023-04-26T19:11:28.089Z"
   },
   {
    "duration": 1218,
    "start_time": "2023-04-26T19:11:46.078Z"
   },
   {
    "duration": 623,
    "start_time": "2023-04-26T19:11:47.298Z"
   },
   {
    "duration": 12,
    "start_time": "2023-04-26T19:11:47.922Z"
   },
   {
    "duration": 18,
    "start_time": "2023-04-26T19:11:47.936Z"
   },
   {
    "duration": 27,
    "start_time": "2023-04-26T19:11:47.956Z"
   },
   {
    "duration": 12,
    "start_time": "2023-04-26T19:11:47.985Z"
   },
   {
    "duration": 13,
    "start_time": "2023-04-26T19:11:47.999Z"
   },
   {
    "duration": 11,
    "start_time": "2023-04-26T19:11:48.014Z"
   },
   {
    "duration": 7,
    "start_time": "2023-04-26T19:11:48.027Z"
   },
   {
    "duration": 78,
    "start_time": "2023-04-26T19:11:48.035Z"
   },
   {
    "duration": 4,
    "start_time": "2023-04-26T19:11:48.115Z"
   },
   {
    "duration": 11,
    "start_time": "2023-04-26T19:11:48.121Z"
   },
   {
    "duration": 48,
    "start_time": "2023-04-26T19:11:48.134Z"
   },
   {
    "duration": 12,
    "start_time": "2023-04-26T19:11:48.185Z"
   },
   {
    "duration": 16,
    "start_time": "2023-04-26T19:11:48.199Z"
   },
   {
    "duration": 7,
    "start_time": "2023-04-26T19:11:48.217Z"
   },
   {
    "duration": 7,
    "start_time": "2023-04-26T19:11:48.226Z"
   },
   {
    "duration": 30,
    "start_time": "2023-04-26T19:11:48.235Z"
   },
   {
    "duration": 10,
    "start_time": "2023-04-26T19:11:48.266Z"
   },
   {
    "duration": 12,
    "start_time": "2023-04-26T19:11:48.278Z"
   },
   {
    "duration": 430,
    "start_time": "2023-04-26T19:11:48.292Z"
   },
   {
    "duration": 3913,
    "start_time": "2023-04-26T19:11:48.724Z"
   },
   {
    "duration": 6,
    "start_time": "2023-04-26T19:11:52.638Z"
   },
   {
    "duration": 16,
    "start_time": "2023-04-26T19:11:52.656Z"
   },
   {
    "duration": 37,
    "start_time": "2023-04-26T19:11:52.674Z"
   },
   {
    "duration": 8,
    "start_time": "2023-04-26T19:11:52.712Z"
   },
   {
    "duration": 89,
    "start_time": "2023-04-26T19:11:52.722Z"
   },
   {
    "duration": 16,
    "start_time": "2023-04-26T19:11:52.813Z"
   },
   {
    "duration": 6,
    "start_time": "2023-04-26T19:11:52.831Z"
   },
   {
    "duration": 14,
    "start_time": "2023-04-26T19:11:52.857Z"
   },
   {
    "duration": 10,
    "start_time": "2023-04-26T19:11:52.872Z"
   },
   {
    "duration": 30,
    "start_time": "2023-04-26T19:11:52.883Z"
   },
   {
    "duration": 14,
    "start_time": "2023-04-26T19:11:52.914Z"
   },
   {
    "duration": 41,
    "start_time": "2023-04-26T19:11:52.930Z"
   },
   {
    "duration": 217,
    "start_time": "2023-04-26T19:11:52.972Z"
   },
   {
    "duration": 8,
    "start_time": "2023-04-26T19:11:53.191Z"
   },
   {
    "duration": 151,
    "start_time": "2023-04-26T19:11:53.200Z"
   },
   {
    "duration": 233,
    "start_time": "2023-04-26T19:11:53.352Z"
   },
   {
    "duration": 10,
    "start_time": "2023-04-26T19:11:53.586Z"
   },
   {
    "duration": 5,
    "start_time": "2023-04-26T19:11:53.598Z"
   },
   {
    "duration": 11,
    "start_time": "2023-04-26T19:11:53.607Z"
   },
   {
    "duration": 8,
    "start_time": "2023-04-26T19:11:53.620Z"
   },
   {
    "duration": 100,
    "start_time": "2023-04-26T19:11:53.657Z"
   },
   {
    "duration": 11,
    "start_time": "2023-04-26T19:11:53.765Z"
   },
   {
    "duration": 651,
    "start_time": "2023-04-26T19:11:53.777Z"
   },
   {
    "duration": 11,
    "start_time": "2023-04-26T19:11:54.430Z"
   },
   {
    "duration": 517,
    "start_time": "2023-04-26T19:11:54.443Z"
   },
   {
    "duration": 119,
    "start_time": "2023-04-26T19:11:54.965Z"
   },
   {
    "duration": 8,
    "start_time": "2023-04-26T19:11:55.086Z"
   },
   {
    "duration": 18,
    "start_time": "2023-04-26T19:11:55.096Z"
   },
   {
    "duration": 30,
    "start_time": "2023-04-26T19:11:55.116Z"
   },
   {
    "duration": 18,
    "start_time": "2023-04-26T19:11:55.148Z"
   },
   {
    "duration": 19,
    "start_time": "2023-04-26T19:11:55.167Z"
   },
   {
    "duration": 22,
    "start_time": "2023-04-26T19:11:55.188Z"
   },
   {
    "duration": 8,
    "start_time": "2023-04-26T19:11:55.211Z"
   },
   {
    "duration": 61,
    "start_time": "2023-04-26T19:11:55.220Z"
   },
   {
    "duration": 43,
    "start_time": "2023-04-26T19:11:55.283Z"
   },
   {
    "duration": 70,
    "start_time": "2023-04-26T19:11:55.329Z"
   },
   {
    "duration": 4,
    "start_time": "2023-04-26T19:11:55.402Z"
   },
   {
    "duration": 38,
    "start_time": "2023-04-26T19:11:55.408Z"
   },
   {
    "duration": 50,
    "start_time": "2023-04-26T19:11:55.448Z"
   },
   {
    "duration": 5,
    "start_time": "2023-04-26T19:11:55.499Z"
   },
   {
    "duration": 6,
    "start_time": "2023-04-26T19:11:55.506Z"
   },
   {
    "duration": 5,
    "start_time": "2023-04-26T19:11:55.514Z"
   },
   {
    "duration": 40,
    "start_time": "2023-04-26T19:11:55.521Z"
   },
   {
    "duration": 26,
    "start_time": "2023-04-26T19:11:55.565Z"
   },
   {
    "duration": 336,
    "start_time": "2023-04-26T19:11:55.593Z"
   },
   {
    "duration": 129,
    "start_time": "2023-04-26T19:11:55.931Z"
   },
   {
    "duration": 7,
    "start_time": "2023-04-26T19:11:56.067Z"
   },
   {
    "duration": 8,
    "start_time": "2023-04-26T19:11:56.076Z"
   },
   {
    "duration": 31,
    "start_time": "2023-04-26T19:11:56.086Z"
   },
   {
    "duration": 17,
    "start_time": "2023-04-26T19:11:56.119Z"
   },
   {
    "duration": 29,
    "start_time": "2023-04-26T19:12:03.158Z"
   },
   {
    "duration": 24,
    "start_time": "2023-04-26T19:12:06.334Z"
   },
   {
    "duration": 22,
    "start_time": "2023-04-26T19:12:31.734Z"
   },
   {
    "duration": 201,
    "start_time": "2023-04-26T19:16:47.783Z"
   },
   {
    "duration": 1258,
    "start_time": "2023-04-26T19:24:57.078Z"
   },
   {
    "duration": 654,
    "start_time": "2023-04-26T19:24:58.338Z"
   },
   {
    "duration": 13,
    "start_time": "2023-04-26T19:24:58.994Z"
   },
   {
    "duration": 16,
    "start_time": "2023-04-26T19:24:59.009Z"
   },
   {
    "duration": 19,
    "start_time": "2023-04-26T19:24:59.026Z"
   },
   {
    "duration": 5,
    "start_time": "2023-04-26T19:24:59.056Z"
   },
   {
    "duration": 16,
    "start_time": "2023-04-26T19:24:59.062Z"
   },
   {
    "duration": 10,
    "start_time": "2023-04-26T19:24:59.080Z"
   },
   {
    "duration": 9,
    "start_time": "2023-04-26T19:24:59.092Z"
   },
   {
    "duration": 89,
    "start_time": "2023-04-26T19:24:59.104Z"
   },
   {
    "duration": 5,
    "start_time": "2023-04-26T19:24:59.194Z"
   },
   {
    "duration": 14,
    "start_time": "2023-04-26T19:24:59.201Z"
   },
   {
    "duration": 49,
    "start_time": "2023-04-26T19:24:59.217Z"
   },
   {
    "duration": 19,
    "start_time": "2023-04-26T19:24:59.268Z"
   },
   {
    "duration": 19,
    "start_time": "2023-04-26T19:24:59.289Z"
   },
   {
    "duration": 6,
    "start_time": "2023-04-26T19:24:59.310Z"
   },
   {
    "duration": 8,
    "start_time": "2023-04-26T19:24:59.318Z"
   },
   {
    "duration": 10,
    "start_time": "2023-04-26T19:24:59.328Z"
   },
   {
    "duration": 26,
    "start_time": "2023-04-26T19:24:59.339Z"
   },
   {
    "duration": 22,
    "start_time": "2023-04-26T19:24:59.367Z"
   },
   {
    "duration": 455,
    "start_time": "2023-04-26T19:24:59.391Z"
   },
   {
    "duration": 3518,
    "start_time": "2023-04-26T19:24:59.848Z"
   },
   {
    "duration": 6,
    "start_time": "2023-04-26T19:25:03.367Z"
   },
   {
    "duration": 22,
    "start_time": "2023-04-26T19:25:03.374Z"
   },
   {
    "duration": 42,
    "start_time": "2023-04-26T19:25:03.398Z"
   },
   {
    "duration": 7,
    "start_time": "2023-04-26T19:25:03.442Z"
   },
   {
    "duration": 49,
    "start_time": "2023-04-26T19:25:03.455Z"
   },
   {
    "duration": 14,
    "start_time": "2023-04-26T19:25:03.508Z"
   },
   {
    "duration": 7,
    "start_time": "2023-04-26T19:25:03.523Z"
   },
   {
    "duration": 25,
    "start_time": "2023-04-26T19:25:03.531Z"
   },
   {
    "duration": 13,
    "start_time": "2023-04-26T19:25:03.557Z"
   },
   {
    "duration": 39,
    "start_time": "2023-04-26T19:25:03.572Z"
   },
   {
    "duration": 13,
    "start_time": "2023-04-26T19:25:03.612Z"
   },
   {
    "duration": 17,
    "start_time": "2023-04-26T19:25:03.626Z"
   },
   {
    "duration": 186,
    "start_time": "2023-04-26T19:25:03.645Z"
   },
   {
    "duration": 9,
    "start_time": "2023-04-26T19:25:03.833Z"
   },
   {
    "duration": 176,
    "start_time": "2023-04-26T19:25:03.844Z"
   },
   {
    "duration": 213,
    "start_time": "2023-04-26T19:25:04.023Z"
   },
   {
    "duration": 10,
    "start_time": "2023-04-26T19:25:04.238Z"
   },
   {
    "duration": 7,
    "start_time": "2023-04-26T19:25:04.256Z"
   },
   {
    "duration": 21,
    "start_time": "2023-04-26T19:25:04.265Z"
   },
   {
    "duration": 15,
    "start_time": "2023-04-26T19:25:04.288Z"
   },
   {
    "duration": 88,
    "start_time": "2023-04-26T19:25:04.305Z"
   },
   {
    "duration": 8,
    "start_time": "2023-04-26T19:25:04.395Z"
   },
   {
    "duration": 538,
    "start_time": "2023-04-26T19:25:04.404Z"
   },
   {
    "duration": 13,
    "start_time": "2023-04-26T19:25:04.944Z"
   },
   {
    "duration": 511,
    "start_time": "2023-04-26T19:25:04.958Z"
   },
   {
    "duration": 130,
    "start_time": "2023-04-26T19:25:05.471Z"
   },
   {
    "duration": 8,
    "start_time": "2023-04-26T19:25:05.602Z"
   },
   {
    "duration": 10,
    "start_time": "2023-04-26T19:25:05.611Z"
   },
   {
    "duration": 77,
    "start_time": "2023-04-26T19:25:05.623Z"
   },
   {
    "duration": 5,
    "start_time": "2023-04-26T19:25:05.702Z"
   },
   {
    "duration": 65,
    "start_time": "2023-04-26T19:25:05.709Z"
   },
   {
    "duration": 72,
    "start_time": "2023-04-26T19:25:05.775Z"
   },
   {
    "duration": 30,
    "start_time": "2023-04-26T19:25:05.849Z"
   },
   {
    "duration": 11,
    "start_time": "2023-04-26T19:25:05.881Z"
   },
   {
    "duration": 22,
    "start_time": "2023-04-26T19:25:05.894Z"
   },
   {
    "duration": 22,
    "start_time": "2023-04-26T19:25:05.918Z"
   },
   {
    "duration": 3,
    "start_time": "2023-04-26T19:25:05.941Z"
   },
   {
    "duration": 26,
    "start_time": "2023-04-26T19:25:05.946Z"
   },
   {
    "duration": 48,
    "start_time": "2023-04-26T19:25:05.974Z"
   },
   {
    "duration": 4,
    "start_time": "2023-04-26T19:25:06.024Z"
   },
   {
    "duration": 27,
    "start_time": "2023-04-26T19:25:06.030Z"
   },
   {
    "duration": 3,
    "start_time": "2023-04-26T19:25:06.059Z"
   },
   {
    "duration": 19,
    "start_time": "2023-04-26T19:25:06.063Z"
   },
   {
    "duration": 29,
    "start_time": "2023-04-26T19:25:06.084Z"
   },
   {
    "duration": 313,
    "start_time": "2023-04-26T19:25:06.115Z"
   },
   {
    "duration": 194,
    "start_time": "2023-04-26T19:25:06.430Z"
   },
   {
    "duration": 115,
    "start_time": "2023-04-26T19:25:06.625Z"
   },
   {
    "duration": 5,
    "start_time": "2023-04-26T19:25:06.742Z"
   },
   {
    "duration": 15,
    "start_time": "2023-04-26T19:25:06.749Z"
   },
   {
    "duration": 30,
    "start_time": "2023-04-26T19:25:06.766Z"
   },
   {
    "duration": 16,
    "start_time": "2023-04-26T19:25:06.798Z"
   },
   {
    "duration": 20,
    "start_time": "2023-04-26T19:25:06.816Z"
   },
   {
    "duration": 19,
    "start_time": "2023-04-26T19:25:06.856Z"
   },
   {
    "duration": 15,
    "start_time": "2023-04-26T19:25:06.876Z"
   },
   {
    "duration": 12,
    "start_time": "2023-04-26T19:25:06.893Z"
   },
   {
    "duration": 28,
    "start_time": "2023-04-26T19:25:06.907Z"
   },
   {
    "duration": 20,
    "start_time": "2023-04-26T19:25:06.937Z"
   },
   {
    "duration": 16,
    "start_time": "2023-04-26T19:25:06.959Z"
   },
   {
    "duration": 25,
    "start_time": "2023-04-26T19:25:06.977Z"
   },
   {
    "duration": 335,
    "start_time": "2023-04-26T19:25:07.006Z"
   },
   {
    "duration": 19,
    "start_time": "2023-04-26T19:25:07.342Z"
   },
   {
    "duration": 22,
    "start_time": "2023-04-26T19:28:17.667Z"
   },
   {
    "duration": 12,
    "start_time": "2023-04-26T19:29:20.035Z"
   },
   {
    "duration": 9,
    "start_time": "2023-04-26T19:30:13.602Z"
   },
   {
    "duration": 13,
    "start_time": "2023-04-26T19:30:34.667Z"
   },
   {
    "duration": 15,
    "start_time": "2023-04-26T19:30:59.071Z"
   },
   {
    "duration": 17,
    "start_time": "2023-04-26T19:31:16.123Z"
   },
   {
    "duration": 18,
    "start_time": "2023-04-26T19:31:31.673Z"
   },
   {
    "duration": 18,
    "start_time": "2023-04-26T19:31:51.665Z"
   },
   {
    "duration": 21,
    "start_time": "2023-04-26T19:42:49.899Z"
   },
   {
    "duration": 21,
    "start_time": "2023-04-26T19:43:13.486Z"
   },
   {
    "duration": 485,
    "start_time": "2023-04-26T19:45:15.107Z"
   },
   {
    "duration": 538,
    "start_time": "2023-04-26T19:46:09.648Z"
   },
   {
    "duration": 21,
    "start_time": "2023-04-26T19:46:56.930Z"
   },
   {
    "duration": 222,
    "start_time": "2023-04-26T19:47:12.221Z"
   },
   {
    "duration": 21,
    "start_time": "2023-04-26T19:47:33.188Z"
   },
   {
    "duration": 412,
    "start_time": "2023-04-26T19:47:49.134Z"
   },
   {
    "duration": 20,
    "start_time": "2023-04-26T19:48:14.328Z"
   },
   {
    "duration": 376,
    "start_time": "2023-04-26T19:48:16.204Z"
   },
   {
    "duration": 442,
    "start_time": "2023-04-26T19:48:53.702Z"
   },
   {
    "duration": 377,
    "start_time": "2023-04-26T20:05:54.516Z"
   },
   {
    "duration": 1795,
    "start_time": "2023-04-26T20:07:44.761Z"
   },
   {
    "duration": 607,
    "start_time": "2023-04-26T20:07:46.558Z"
   },
   {
    "duration": 13,
    "start_time": "2023-04-26T20:07:47.168Z"
   },
   {
    "duration": 27,
    "start_time": "2023-04-26T20:07:47.184Z"
   },
   {
    "duration": 29,
    "start_time": "2023-04-26T20:07:47.214Z"
   },
   {
    "duration": 11,
    "start_time": "2023-04-26T20:07:47.245Z"
   },
   {
    "duration": 10,
    "start_time": "2023-04-26T20:07:47.259Z"
   },
   {
    "duration": 19,
    "start_time": "2023-04-26T20:07:47.271Z"
   },
   {
    "duration": 9,
    "start_time": "2023-04-26T20:07:47.292Z"
   },
   {
    "duration": 77,
    "start_time": "2023-04-26T20:07:47.302Z"
   },
   {
    "duration": 4,
    "start_time": "2023-04-26T20:07:47.381Z"
   },
   {
    "duration": 10,
    "start_time": "2023-04-26T20:07:47.387Z"
   },
   {
    "duration": 26,
    "start_time": "2023-04-26T20:07:47.399Z"
   },
   {
    "duration": 35,
    "start_time": "2023-04-26T20:07:47.429Z"
   },
   {
    "duration": 18,
    "start_time": "2023-04-26T20:07:47.465Z"
   },
   {
    "duration": 13,
    "start_time": "2023-04-26T20:07:47.485Z"
   },
   {
    "duration": 13,
    "start_time": "2023-04-26T20:07:47.500Z"
   },
   {
    "duration": 19,
    "start_time": "2023-04-26T20:07:47.514Z"
   },
   {
    "duration": 8,
    "start_time": "2023-04-26T20:07:47.534Z"
   },
   {
    "duration": 28,
    "start_time": "2023-04-26T20:07:47.543Z"
   },
   {
    "duration": 392,
    "start_time": "2023-04-26T20:07:47.573Z"
   },
   {
    "duration": 3316,
    "start_time": "2023-04-26T20:07:47.968Z"
   },
   {
    "duration": 7,
    "start_time": "2023-04-26T20:07:51.286Z"
   },
   {
    "duration": 22,
    "start_time": "2023-04-26T20:07:51.295Z"
   },
   {
    "duration": 63,
    "start_time": "2023-04-26T20:07:51.319Z"
   },
   {
    "duration": 10,
    "start_time": "2023-04-26T20:07:51.383Z"
   },
   {
    "duration": 75,
    "start_time": "2023-04-26T20:07:51.395Z"
   },
   {
    "duration": 18,
    "start_time": "2023-04-26T20:07:51.472Z"
   },
   {
    "duration": 7,
    "start_time": "2023-04-26T20:07:51.491Z"
   },
   {
    "duration": 13,
    "start_time": "2023-04-26T20:07:51.499Z"
   },
   {
    "duration": 9,
    "start_time": "2023-04-26T20:07:51.514Z"
   },
   {
    "duration": 40,
    "start_time": "2023-04-26T20:07:51.555Z"
   },
   {
    "duration": 19,
    "start_time": "2023-04-26T20:07:51.597Z"
   },
   {
    "duration": 18,
    "start_time": "2023-04-26T20:07:51.618Z"
   },
   {
    "duration": 223,
    "start_time": "2023-04-26T20:07:51.639Z"
   },
   {
    "duration": 12,
    "start_time": "2023-04-26T20:07:51.864Z"
   },
   {
    "duration": 167,
    "start_time": "2023-04-26T20:07:51.878Z"
   },
   {
    "duration": 276,
    "start_time": "2023-04-26T20:07:52.048Z"
   },
   {
    "duration": 10,
    "start_time": "2023-04-26T20:07:52.326Z"
   },
   {
    "duration": 24,
    "start_time": "2023-04-26T20:07:52.338Z"
   },
   {
    "duration": 13,
    "start_time": "2023-04-26T20:07:52.368Z"
   },
   {
    "duration": 9,
    "start_time": "2023-04-26T20:07:52.383Z"
   },
   {
    "duration": 112,
    "start_time": "2023-04-26T20:07:52.395Z"
   },
   {
    "duration": 9,
    "start_time": "2023-04-26T20:07:52.509Z"
   },
   {
    "duration": 591,
    "start_time": "2023-04-26T20:07:52.520Z"
   },
   {
    "duration": 10,
    "start_time": "2023-04-26T20:07:53.113Z"
   },
   {
    "duration": 508,
    "start_time": "2023-04-26T20:07:53.125Z"
   },
   {
    "duration": 138,
    "start_time": "2023-04-26T20:07:53.635Z"
   },
   {
    "duration": 13,
    "start_time": "2023-04-26T20:07:53.778Z"
   },
   {
    "duration": 8,
    "start_time": "2023-04-26T20:07:53.793Z"
   },
   {
    "duration": 27,
    "start_time": "2023-04-26T20:07:53.803Z"
   },
   {
    "duration": 28,
    "start_time": "2023-04-26T20:07:53.831Z"
   },
   {
    "duration": 33,
    "start_time": "2023-04-26T20:07:53.861Z"
   },
   {
    "duration": 28,
    "start_time": "2023-04-26T20:07:53.897Z"
   },
   {
    "duration": 29,
    "start_time": "2023-04-26T20:07:53.927Z"
   },
   {
    "duration": 11,
    "start_time": "2023-04-26T20:07:53.958Z"
   },
   {
    "duration": 21,
    "start_time": "2023-04-26T20:07:53.971Z"
   },
   {
    "duration": 34,
    "start_time": "2023-04-26T20:07:53.994Z"
   },
   {
    "duration": 27,
    "start_time": "2023-04-26T20:07:54.030Z"
   },
   {
    "duration": 34,
    "start_time": "2023-04-26T20:07:54.059Z"
   },
   {
    "duration": 73,
    "start_time": "2023-04-26T20:07:54.096Z"
   },
   {
    "duration": 6,
    "start_time": "2023-04-26T20:07:54.171Z"
   },
   {
    "duration": 7,
    "start_time": "2023-04-26T20:07:54.179Z"
   },
   {
    "duration": 9,
    "start_time": "2023-04-26T20:07:54.188Z"
   },
   {
    "duration": 24,
    "start_time": "2023-04-26T20:07:54.199Z"
   },
   {
    "duration": 48,
    "start_time": "2023-04-26T20:07:54.225Z"
   },
   {
    "duration": 345,
    "start_time": "2023-04-26T20:07:54.275Z"
   },
   {
    "duration": 228,
    "start_time": "2023-04-26T20:07:54.622Z"
   },
   {
    "duration": 135,
    "start_time": "2023-04-26T20:07:54.855Z"
   },
   {
    "duration": 6,
    "start_time": "2023-04-26T20:07:54.992Z"
   },
   {
    "duration": 25,
    "start_time": "2023-04-26T20:07:55.000Z"
   },
   {
    "duration": 63,
    "start_time": "2023-04-26T20:07:55.027Z"
   },
   {
    "duration": 20,
    "start_time": "2023-04-26T20:07:55.092Z"
   },
   {
    "duration": 21,
    "start_time": "2023-04-26T20:07:55.114Z"
   },
   {
    "duration": 38,
    "start_time": "2023-04-26T20:07:55.138Z"
   },
   {
    "duration": 14,
    "start_time": "2023-04-26T20:07:55.178Z"
   },
   {
    "duration": 16,
    "start_time": "2023-04-26T20:07:55.194Z"
   },
   {
    "duration": 16,
    "start_time": "2023-04-26T20:07:55.212Z"
   },
   {
    "duration": 29,
    "start_time": "2023-04-26T20:07:55.229Z"
   },
   {
    "duration": 24,
    "start_time": "2023-04-26T20:07:55.259Z"
   },
   {
    "duration": 28,
    "start_time": "2023-04-26T20:07:55.285Z"
   },
   {
    "duration": 362,
    "start_time": "2023-04-26T20:07:55.315Z"
   },
   {
    "duration": 15,
    "start_time": "2023-04-26T20:07:55.679Z"
   },
   {
    "duration": 18,
    "start_time": "2023-04-26T20:07:55.696Z"
   },
   {
    "duration": 18,
    "start_time": "2023-04-26T20:07:55.717Z"
   },
   {
    "duration": 445,
    "start_time": "2023-04-26T20:07:55.736Z"
   },
   {
    "duration": 19,
    "start_time": "2023-04-26T20:07:56.183Z"
   },
   {
    "duration": 543,
    "start_time": "2023-04-26T20:07:56.203Z"
   },
   {
    "duration": 12,
    "start_time": "2023-04-26T20:07:56.748Z"
   },
   {
    "duration": 21,
    "start_time": "2023-04-26T20:07:56.762Z"
   },
   {
    "duration": 370,
    "start_time": "2023-04-26T20:07:56.785Z"
   },
   {
    "duration": 12,
    "start_time": "2023-04-26T20:07:57.161Z"
   },
   {
    "duration": 27,
    "start_time": "2023-04-26T20:07:57.175Z"
   },
   {
    "duration": 5,
    "start_time": "2023-04-26T20:07:57.203Z"
   },
   {
    "duration": 5,
    "start_time": "2023-04-26T20:07:57.256Z"
   },
   {
    "duration": 17,
    "start_time": "2023-04-26T20:07:57.262Z"
   },
   {
    "duration": 10,
    "start_time": "2023-04-26T20:07:57.281Z"
   },
   {
    "duration": 5,
    "start_time": "2023-04-26T20:09:31.874Z"
   },
   {
    "duration": 4,
    "start_time": "2023-04-26T20:09:32.633Z"
   },
   {
    "duration": 9,
    "start_time": "2023-04-26T20:09:33.836Z"
   },
   {
    "duration": 5,
    "start_time": "2023-04-26T20:09:56.411Z"
   },
   {
    "duration": 3,
    "start_time": "2023-04-26T20:09:57.036Z"
   },
   {
    "duration": 11,
    "start_time": "2023-04-26T20:09:57.829Z"
   },
   {
    "duration": 9,
    "start_time": "2023-04-26T20:09:58.989Z"
   },
   {
    "duration": 3,
    "start_time": "2023-04-26T20:14:25.949Z"
   },
   {
    "duration": 8,
    "start_time": "2023-04-26T20:14:26.914Z"
   },
   {
    "duration": 5,
    "start_time": "2023-04-26T20:28:24.950Z"
   },
   {
    "duration": 9,
    "start_time": "2023-04-26T20:28:25.586Z"
   },
   {
    "duration": 7,
    "start_time": "2023-04-26T20:28:50.132Z"
   },
   {
    "duration": 9,
    "start_time": "2023-04-26T20:28:50.936Z"
   },
   {
    "duration": 8,
    "start_time": "2023-04-26T20:28:53.041Z"
   },
   {
    "duration": 4,
    "start_time": "2023-04-26T20:33:00.357Z"
   },
   {
    "duration": 11,
    "start_time": "2023-04-26T20:33:01.950Z"
   },
   {
    "duration": 6,
    "start_time": "2023-04-26T20:33:12.162Z"
   },
   {
    "duration": 9,
    "start_time": "2023-04-26T20:33:13.166Z"
   },
   {
    "duration": 18,
    "start_time": "2023-04-26T20:33:30.055Z"
   },
   {
    "duration": 1331,
    "start_time": "2023-04-26T20:59:02.139Z"
   },
   {
    "duration": 639,
    "start_time": "2023-04-26T20:59:03.472Z"
   },
   {
    "duration": 14,
    "start_time": "2023-04-26T20:59:04.114Z"
   },
   {
    "duration": 24,
    "start_time": "2023-04-26T20:59:04.130Z"
   },
   {
    "duration": 27,
    "start_time": "2023-04-26T20:59:04.157Z"
   },
   {
    "duration": 4,
    "start_time": "2023-04-26T20:59:04.186Z"
   },
   {
    "duration": 11,
    "start_time": "2023-04-26T20:59:04.193Z"
   },
   {
    "duration": 9,
    "start_time": "2023-04-26T20:59:04.206Z"
   },
   {
    "duration": 39,
    "start_time": "2023-04-26T20:59:04.217Z"
   },
   {
    "duration": 54,
    "start_time": "2023-04-26T20:59:04.258Z"
   },
   {
    "duration": 4,
    "start_time": "2023-04-26T20:59:04.314Z"
   },
   {
    "duration": 12,
    "start_time": "2023-04-26T20:59:04.319Z"
   },
   {
    "duration": 53,
    "start_time": "2023-04-26T20:59:04.332Z"
   },
   {
    "duration": 24,
    "start_time": "2023-04-26T20:59:04.389Z"
   },
   {
    "duration": 37,
    "start_time": "2023-04-26T20:59:04.415Z"
   },
   {
    "duration": 16,
    "start_time": "2023-04-26T20:59:04.454Z"
   },
   {
    "duration": 35,
    "start_time": "2023-04-26T20:59:04.472Z"
   },
   {
    "duration": 10,
    "start_time": "2023-04-26T20:59:04.509Z"
   },
   {
    "duration": 27,
    "start_time": "2023-04-26T20:59:04.521Z"
   },
   {
    "duration": 30,
    "start_time": "2023-04-26T20:59:04.551Z"
   },
   {
    "duration": 379,
    "start_time": "2023-04-26T20:59:04.583Z"
   },
   {
    "duration": 3070,
    "start_time": "2023-04-26T20:59:04.963Z"
   },
   {
    "duration": 5,
    "start_time": "2023-04-26T20:59:08.034Z"
   },
   {
    "duration": 23,
    "start_time": "2023-04-26T20:59:08.041Z"
   },
   {
    "duration": 33,
    "start_time": "2023-04-26T20:59:08.066Z"
   },
   {
    "duration": 10,
    "start_time": "2023-04-26T20:59:08.101Z"
   },
   {
    "duration": 94,
    "start_time": "2023-04-26T20:59:08.113Z"
   },
   {
    "duration": 15,
    "start_time": "2023-04-26T20:59:08.209Z"
   },
   {
    "duration": 5,
    "start_time": "2023-04-26T20:59:08.225Z"
   },
   {
    "duration": 26,
    "start_time": "2023-04-26T20:59:08.231Z"
   },
   {
    "duration": 9,
    "start_time": "2023-04-26T20:59:08.258Z"
   },
   {
    "duration": 33,
    "start_time": "2023-04-26T20:59:08.269Z"
   },
   {
    "duration": 15,
    "start_time": "2023-04-26T20:59:08.303Z"
   },
   {
    "duration": 37,
    "start_time": "2023-04-26T20:59:08.320Z"
   },
   {
    "duration": 192,
    "start_time": "2023-04-26T20:59:08.359Z"
   },
   {
    "duration": 11,
    "start_time": "2023-04-26T20:59:08.553Z"
   },
   {
    "duration": 153,
    "start_time": "2023-04-26T20:59:08.566Z"
   },
   {
    "duration": 211,
    "start_time": "2023-04-26T20:59:08.721Z"
   },
   {
    "duration": 10,
    "start_time": "2023-04-26T20:59:08.934Z"
   },
   {
    "duration": 6,
    "start_time": "2023-04-26T20:59:08.956Z"
   },
   {
    "duration": 11,
    "start_time": "2023-04-26T20:59:08.966Z"
   },
   {
    "duration": 9,
    "start_time": "2023-04-26T20:59:08.979Z"
   },
   {
    "duration": 110,
    "start_time": "2023-04-26T20:59:08.989Z"
   },
   {
    "duration": 10,
    "start_time": "2023-04-26T20:59:09.100Z"
   },
   {
    "duration": 566,
    "start_time": "2023-04-26T20:59:09.111Z"
   },
   {
    "duration": 9,
    "start_time": "2023-04-26T20:59:09.679Z"
   },
   {
    "duration": 497,
    "start_time": "2023-04-26T20:59:09.690Z"
   },
   {
    "duration": 145,
    "start_time": "2023-04-26T20:59:10.189Z"
   },
   {
    "duration": 23,
    "start_time": "2023-04-26T20:59:10.336Z"
   },
   {
    "duration": 15,
    "start_time": "2023-04-26T20:59:10.361Z"
   },
   {
    "duration": 51,
    "start_time": "2023-04-26T20:59:10.378Z"
   },
   {
    "duration": 26,
    "start_time": "2023-04-26T20:59:10.431Z"
   },
   {
    "duration": 25,
    "start_time": "2023-04-26T20:59:10.459Z"
   },
   {
    "duration": 26,
    "start_time": "2023-04-26T20:59:10.486Z"
   },
   {
    "duration": 8,
    "start_time": "2023-04-26T20:59:10.514Z"
   },
   {
    "duration": 40,
    "start_time": "2023-04-26T20:59:10.524Z"
   },
   {
    "duration": 16,
    "start_time": "2023-04-26T20:59:10.566Z"
   },
   {
    "duration": 52,
    "start_time": "2023-04-26T20:59:10.584Z"
   },
   {
    "duration": 3,
    "start_time": "2023-04-26T20:59:10.637Z"
   },
   {
    "duration": 37,
    "start_time": "2023-04-26T20:59:10.642Z"
   },
   {
    "duration": 47,
    "start_time": "2023-04-26T20:59:10.681Z"
   },
   {
    "duration": 6,
    "start_time": "2023-04-26T20:59:10.730Z"
   },
   {
    "duration": 21,
    "start_time": "2023-04-26T20:59:10.738Z"
   },
   {
    "duration": 9,
    "start_time": "2023-04-26T20:59:10.762Z"
   },
   {
    "duration": 18,
    "start_time": "2023-04-26T20:59:10.773Z"
   },
   {
    "duration": 41,
    "start_time": "2023-04-26T20:59:10.793Z"
   },
   {
    "duration": 303,
    "start_time": "2023-04-26T20:59:10.836Z"
   },
   {
    "duration": 203,
    "start_time": "2023-04-26T20:59:11.140Z"
   },
   {
    "duration": 116,
    "start_time": "2023-04-26T20:59:11.345Z"
   },
   {
    "duration": 6,
    "start_time": "2023-04-26T20:59:11.462Z"
   },
   {
    "duration": 12,
    "start_time": "2023-04-26T20:59:11.469Z"
   },
   {
    "duration": 26,
    "start_time": "2023-04-26T20:59:11.482Z"
   },
   {
    "duration": 18,
    "start_time": "2023-04-26T20:59:11.509Z"
   },
   {
    "duration": 57,
    "start_time": "2023-04-26T20:59:11.529Z"
   },
   {
    "duration": 29,
    "start_time": "2023-04-26T20:59:11.589Z"
   },
   {
    "duration": 38,
    "start_time": "2023-04-26T20:59:11.620Z"
   },
   {
    "duration": 9,
    "start_time": "2023-04-26T20:59:11.660Z"
   },
   {
    "duration": 16,
    "start_time": "2023-04-26T20:59:11.671Z"
   },
   {
    "duration": 7,
    "start_time": "2023-04-26T20:59:11.689Z"
   },
   {
    "duration": 16,
    "start_time": "2023-04-26T20:59:11.698Z"
   },
   {
    "duration": 57,
    "start_time": "2023-04-26T20:59:11.717Z"
   },
   {
    "duration": 318,
    "start_time": "2023-04-26T20:59:11.776Z"
   },
   {
    "duration": 17,
    "start_time": "2023-04-26T20:59:12.095Z"
   },
   {
    "duration": 12,
    "start_time": "2023-04-26T20:59:12.114Z"
   },
   {
    "duration": 47,
    "start_time": "2023-04-26T20:59:12.128Z"
   },
   {
    "duration": 462,
    "start_time": "2023-04-26T20:59:12.177Z"
   },
   {
    "duration": 30,
    "start_time": "2023-04-26T20:59:12.641Z"
   },
   {
    "duration": 538,
    "start_time": "2023-04-26T20:59:12.673Z"
   },
   {
    "duration": 6,
    "start_time": "2023-04-26T20:59:13.213Z"
   },
   {
    "duration": 35,
    "start_time": "2023-04-26T20:59:13.221Z"
   },
   {
    "duration": 375,
    "start_time": "2023-04-26T20:59:13.258Z"
   },
   {
    "duration": 9,
    "start_time": "2023-04-26T20:59:13.635Z"
   },
   {
    "duration": 29,
    "start_time": "2023-04-26T20:59:13.657Z"
   },
   {
    "duration": 5,
    "start_time": "2023-04-26T20:59:13.688Z"
   },
   {
    "duration": 7,
    "start_time": "2023-04-26T20:59:13.695Z"
   },
   {
    "duration": 64,
    "start_time": "2023-04-26T20:59:13.704Z"
   },
   {
    "duration": 16,
    "start_time": "2023-04-26T20:59:13.770Z"
   },
   {
    "duration": 1429,
    "start_time": "2023-04-26T21:03:33.683Z"
   },
   {
    "duration": 717,
    "start_time": "2023-04-26T21:03:35.114Z"
   },
   {
    "duration": 13,
    "start_time": "2023-04-26T21:03:35.833Z"
   },
   {
    "duration": 23,
    "start_time": "2023-04-26T21:03:35.849Z"
   },
   {
    "duration": 35,
    "start_time": "2023-04-26T21:03:35.874Z"
   },
   {
    "duration": 12,
    "start_time": "2023-04-26T21:03:35.911Z"
   },
   {
    "duration": 17,
    "start_time": "2023-04-26T21:03:35.925Z"
   },
   {
    "duration": 38,
    "start_time": "2023-04-26T21:03:35.944Z"
   },
   {
    "duration": 29,
    "start_time": "2023-04-26T21:03:35.984Z"
   },
   {
    "duration": 57,
    "start_time": "2023-04-26T21:03:36.015Z"
   },
   {
    "duration": 4,
    "start_time": "2023-04-26T21:03:36.074Z"
   },
   {
    "duration": 18,
    "start_time": "2023-04-26T21:03:36.080Z"
   },
   {
    "duration": 34,
    "start_time": "2023-04-26T21:03:36.100Z"
   },
   {
    "duration": 32,
    "start_time": "2023-04-26T21:03:36.136Z"
   },
   {
    "duration": 14,
    "start_time": "2023-04-26T21:03:36.170Z"
   },
   {
    "duration": 5,
    "start_time": "2023-04-26T21:03:36.186Z"
   },
   {
    "duration": 6,
    "start_time": "2023-04-26T21:03:36.193Z"
   },
   {
    "duration": 17,
    "start_time": "2023-04-26T21:03:36.201Z"
   },
   {
    "duration": 44,
    "start_time": "2023-04-26T21:03:36.220Z"
   },
   {
    "duration": 19,
    "start_time": "2023-04-26T21:03:36.266Z"
   },
   {
    "duration": 404,
    "start_time": "2023-04-26T21:03:36.287Z"
   },
   {
    "duration": 3330,
    "start_time": "2023-04-26T21:03:36.693Z"
   },
   {
    "duration": 7,
    "start_time": "2023-04-26T21:03:40.025Z"
   },
   {
    "duration": 35,
    "start_time": "2023-04-26T21:03:40.033Z"
   },
   {
    "duration": 42,
    "start_time": "2023-04-26T21:03:40.070Z"
   },
   {
    "duration": 8,
    "start_time": "2023-04-26T21:03:40.114Z"
   },
   {
    "duration": 98,
    "start_time": "2023-04-26T21:03:40.125Z"
   },
   {
    "duration": 28,
    "start_time": "2023-04-26T21:03:40.230Z"
   },
   {
    "duration": 7,
    "start_time": "2023-04-26T21:03:40.261Z"
   },
   {
    "duration": 11,
    "start_time": "2023-04-26T21:03:40.270Z"
   },
   {
    "duration": 14,
    "start_time": "2023-04-26T21:03:40.283Z"
   },
   {
    "duration": 68,
    "start_time": "2023-04-26T21:03:40.299Z"
   },
   {
    "duration": 17,
    "start_time": "2023-04-26T21:03:40.369Z"
   },
   {
    "duration": 12,
    "start_time": "2023-04-26T21:03:40.388Z"
   },
   {
    "duration": 271,
    "start_time": "2023-04-26T21:03:40.402Z"
   },
   {
    "duration": 10,
    "start_time": "2023-04-26T21:03:40.675Z"
   },
   {
    "duration": 191,
    "start_time": "2023-04-26T21:03:40.688Z"
   },
   {
    "duration": 272,
    "start_time": "2023-04-26T21:03:40.881Z"
   },
   {
    "duration": 11,
    "start_time": "2023-04-26T21:03:41.156Z"
   },
   {
    "duration": 6,
    "start_time": "2023-04-26T21:03:41.169Z"
   },
   {
    "duration": 31,
    "start_time": "2023-04-26T21:03:41.177Z"
   },
   {
    "duration": 10,
    "start_time": "2023-04-26T21:03:41.211Z"
   },
   {
    "duration": 113,
    "start_time": "2023-04-26T21:03:41.223Z"
   },
   {
    "duration": 19,
    "start_time": "2023-04-26T21:03:41.338Z"
   },
   {
    "duration": 653,
    "start_time": "2023-04-26T21:03:41.360Z"
   },
   {
    "duration": 10,
    "start_time": "2023-04-26T21:03:42.016Z"
   },
   {
    "duration": 570,
    "start_time": "2023-04-26T21:03:42.028Z"
   },
   {
    "duration": 144,
    "start_time": "2023-04-26T21:03:42.600Z"
   },
   {
    "duration": 18,
    "start_time": "2023-04-26T21:03:42.746Z"
   },
   {
    "duration": 16,
    "start_time": "2023-04-26T21:03:42.766Z"
   },
   {
    "duration": 42,
    "start_time": "2023-04-26T21:03:42.784Z"
   },
   {
    "duration": 33,
    "start_time": "2023-04-26T21:03:42.828Z"
   },
   {
    "duration": 28,
    "start_time": "2023-04-26T21:03:42.863Z"
   },
   {
    "duration": 30,
    "start_time": "2023-04-26T21:03:42.894Z"
   },
   {
    "duration": 34,
    "start_time": "2023-04-26T21:03:42.927Z"
   },
   {
    "duration": 17,
    "start_time": "2023-04-26T21:03:42.963Z"
   },
   {
    "duration": 19,
    "start_time": "2023-04-26T21:03:42.982Z"
   },
   {
    "duration": 53,
    "start_time": "2023-04-26T21:03:43.003Z"
   },
   {
    "duration": 4,
    "start_time": "2023-04-26T21:03:43.058Z"
   },
   {
    "duration": 35,
    "start_time": "2023-04-26T21:03:43.064Z"
   },
   {
    "duration": 90,
    "start_time": "2023-04-26T21:03:43.102Z"
   },
   {
    "duration": 6,
    "start_time": "2023-04-26T21:03:43.195Z"
   },
   {
    "duration": 7,
    "start_time": "2023-04-26T21:03:43.204Z"
   },
   {
    "duration": 6,
    "start_time": "2023-04-26T21:03:43.213Z"
   },
   {
    "duration": 48,
    "start_time": "2023-04-26T21:03:43.221Z"
   },
   {
    "duration": 37,
    "start_time": "2023-04-26T21:03:43.272Z"
   },
   {
    "duration": 410,
    "start_time": "2023-04-26T21:03:43.311Z"
   },
   {
    "duration": 257,
    "start_time": "2023-04-26T21:03:43.723Z"
   },
   {
    "duration": 174,
    "start_time": "2023-04-26T21:03:43.982Z"
   },
   {
    "duration": 10,
    "start_time": "2023-04-26T21:03:44.159Z"
   },
   {
    "duration": 10,
    "start_time": "2023-04-26T21:03:44.172Z"
   },
   {
    "duration": 61,
    "start_time": "2023-04-26T21:03:44.185Z"
   },
   {
    "duration": 31,
    "start_time": "2023-04-26T21:03:44.255Z"
   },
   {
    "duration": 26,
    "start_time": "2023-04-26T21:03:44.288Z"
   },
   {
    "duration": 55,
    "start_time": "2023-04-26T21:03:44.316Z"
   },
   {
    "duration": 19,
    "start_time": "2023-04-26T21:03:44.374Z"
   },
   {
    "duration": 17,
    "start_time": "2023-04-26T21:03:44.395Z"
   },
   {
    "duration": 41,
    "start_time": "2023-04-26T21:03:44.415Z"
   },
   {
    "duration": 10,
    "start_time": "2023-04-26T21:03:44.459Z"
   },
   {
    "duration": 28,
    "start_time": "2023-04-26T21:03:44.471Z"
   },
   {
    "duration": 55,
    "start_time": "2023-04-26T21:03:44.502Z"
   },
   {
    "duration": 410,
    "start_time": "2023-04-26T21:03:44.565Z"
   },
   {
    "duration": 17,
    "start_time": "2023-04-26T21:03:44.977Z"
   },
   {
    "duration": 19,
    "start_time": "2023-04-26T21:03:44.996Z"
   },
   {
    "duration": 53,
    "start_time": "2023-04-26T21:03:45.017Z"
   },
   {
    "duration": 418,
    "start_time": "2023-04-26T21:03:45.073Z"
   },
   {
    "duration": 29,
    "start_time": "2023-04-26T21:03:45.494Z"
   },
   {
    "duration": 574,
    "start_time": "2023-04-26T21:03:45.525Z"
   },
   {
    "duration": 6,
    "start_time": "2023-04-26T21:03:46.101Z"
   },
   {
    "duration": 27,
    "start_time": "2023-04-26T21:03:46.109Z"
   },
   {
    "duration": 439,
    "start_time": "2023-04-26T21:03:46.138Z"
   },
   {
    "duration": 10,
    "start_time": "2023-04-26T21:03:46.579Z"
   },
   {
    "duration": 88,
    "start_time": "2023-04-26T21:03:46.592Z"
   },
   {
    "duration": 6,
    "start_time": "2023-04-26T21:03:46.683Z"
   },
   {
    "duration": 16,
    "start_time": "2023-04-26T21:03:46.691Z"
   },
   {
    "duration": 18,
    "start_time": "2023-04-26T21:03:46.757Z"
   },
   {
    "duration": 20,
    "start_time": "2023-04-26T21:03:46.778Z"
   }
  ],
  "kernelspec": {
   "display_name": "Python 3 (ipykernel)",
   "language": "python",
   "name": "python3"
  },
  "language_info": {
   "codemirror_mode": {
    "name": "ipython",
    "version": 3
   },
   "file_extension": ".py",
   "mimetype": "text/x-python",
   "name": "python",
   "nbconvert_exporter": "python",
   "pygments_lexer": "ipython3",
   "version": "3.10.9"
  },
  "toc": {
   "base_numbering": 1,
   "nav_menu": {},
   "number_sections": true,
   "sideBar": true,
   "skip_h1_title": true,
   "title_cell": "Table of Contents",
   "title_sidebar": "Contents",
   "toc_cell": false,
   "toc_position": {
    "height": "calc(100% - 180px)",
    "left": "10px",
    "top": "150px",
    "width": "281px"
   },
   "toc_section_display": true,
   "toc_window_display": true
  }
 },
 "nbformat": 4,
 "nbformat_minor": 2
}
